{
  "nbformat": 4,
  "nbformat_minor": 0,
  "metadata": {
    "accelerator": "GPU",
    "colab": {
      "name": "US_Accidents_Analysis.ipynb",
      "provenance": [],
      "collapsed_sections": [],
      "machine_shape": "hm"
    },
    "kernelspec": {
      "display_name": "Python 3",
      "language": "python",
      "name": "python3"
    },
    "language_info": {
      "codemirror_mode": {
        "name": "ipython",
        "version": 3
      },
      "file_extension": ".py",
      "mimetype": "text/x-python",
      "name": "python",
      "nbconvert_exporter": "python",
      "pygments_lexer": "ipython3",
      "version": "3.8.5"
    }
  },
  "cells": [
    {
      "cell_type": "markdown",
      "metadata": {
        "id": "FIPMsRH37EjL"
      },
      "source": [
        "# US Accidents Exploratory Data Analysis\n"
      ]
    },
    {
      "cell_type": "markdown",
      "metadata": {
        "id": "SqZg3EplXmlZ"
      },
      "source": [
        "**About the Dataset** - \n",
        "The Dataset is obtained from Kaggel.\n",
        "\n",
        "This dataset has been collected in real-time, using multiple Traffic APIs. Currently, it contains accident data that are collected from February 2016 to Dec 2020 for the Contiguous United States.\n"
      ]
    },
    {
      "cell_type": "markdown",
      "metadata": {
        "id": "HK2DF03_i0e8"
      },
      "source": [
        "Importing US Accidents data set from kaggel"
      ]
    },
    {
      "cell_type": "code",
      "metadata": {
        "id": "O6QlzTGY7JT1"
      },
      "source": [
        "pip install opendatasets --upgrade --quiet"
      ],
      "execution_count": 1,
      "outputs": []
    },
    {
      "cell_type": "code",
      "metadata": {
        "colab": {
          "base_uri": "https://localhost:8080/"
        },
        "id": "Cbgnqzgi8H5D",
        "outputId": "aaa6d88f-9eb7-4e66-a617-99c53ef5da1d"
      },
      "source": [
        "import opendatasets as od\n",
        "\n",
        "download_url = 'https://www.kaggle.com/sobhanmoosavi/us-accidents'\n",
        "\n",
        "od.download(download_url)"
      ],
      "execution_count": 2,
      "outputs": [
        {
          "output_type": "stream",
          "text": [
            "Please provide your Kaggle credentials to download this dataset. Learn more: http://bit.ly/kaggle-creds\n",
            "Your Kaggle username: siddharthksidd\n",
            "Your Kaggle Key: ··········\n",
            "Downloading us-accidents.zip to ./us-accidents\n"
          ],
          "name": "stdout"
        },
        {
          "output_type": "stream",
          "text": [
            "100%|██████████| 290M/290M [00:03<00:00, 90.3MB/s]\n"
          ],
          "name": "stderr"
        },
        {
          "output_type": "stream",
          "text": [
            "\n"
          ],
          "name": "stdout"
        }
      ]
    },
    {
      "cell_type": "code",
      "metadata": {
        "id": "QBJB1AK29BT2"
      },
      "source": [
        "data_filename = '/content/us-accidents/US_Accidents_Dec20_Updated.csv'"
      ],
      "execution_count": 3,
      "outputs": []
    },
    {
      "cell_type": "markdown",
      "metadata": {
        "id": "L0doTYcH7Qxs"
      },
      "source": [
        "## Data Preparation and Cleaning\n",
        "\n"
      ]
    },
    {
      "cell_type": "markdown",
      "metadata": {
        "id": "yYfDqAeiRrXh"
      },
      "source": [
        "Loading the data into Pandas DataFrame"
      ]
    },
    {
      "cell_type": "code",
      "metadata": {
        "id": "p9o1x5mC7JJ-"
      },
      "source": [
        "import pandas as pd"
      ],
      "execution_count": 4,
      "outputs": []
    },
    {
      "cell_type": "code",
      "metadata": {
        "id": "-2x1XO5w7VgE"
      },
      "source": [
        "df = pd.read_csv(data_filename)"
      ],
      "execution_count": 5,
      "outputs": []
    },
    {
      "cell_type": "code",
      "metadata": {
        "colab": {
          "base_uri": "https://localhost:8080/",
          "height": 522
        },
        "id": "NHajB4gW7V8Z",
        "outputId": "c16ac9fe-7cba-4bb0-b423-bd604b67dfa7"
      },
      "source": [
        "df.head()"
      ],
      "execution_count": 6,
      "outputs": [
        {
          "output_type": "execute_result",
          "data": {
            "text/html": [
              "<div>\n",
              "<style scoped>\n",
              "    .dataframe tbody tr th:only-of-type {\n",
              "        vertical-align: middle;\n",
              "    }\n",
              "\n",
              "    .dataframe tbody tr th {\n",
              "        vertical-align: top;\n",
              "    }\n",
              "\n",
              "    .dataframe thead th {\n",
              "        text-align: right;\n",
              "    }\n",
              "</style>\n",
              "<table border=\"1\" class=\"dataframe\">\n",
              "  <thead>\n",
              "    <tr style=\"text-align: right;\">\n",
              "      <th></th>\n",
              "      <th>ID</th>\n",
              "      <th>Severity</th>\n",
              "      <th>Start_Time</th>\n",
              "      <th>End_Time</th>\n",
              "      <th>Start_Lat</th>\n",
              "      <th>Start_Lng</th>\n",
              "      <th>End_Lat</th>\n",
              "      <th>End_Lng</th>\n",
              "      <th>Distance(mi)</th>\n",
              "      <th>Description</th>\n",
              "      <th>Number</th>\n",
              "      <th>Street</th>\n",
              "      <th>Side</th>\n",
              "      <th>City</th>\n",
              "      <th>County</th>\n",
              "      <th>State</th>\n",
              "      <th>Zipcode</th>\n",
              "      <th>Country</th>\n",
              "      <th>Timezone</th>\n",
              "      <th>Airport_Code</th>\n",
              "      <th>Weather_Timestamp</th>\n",
              "      <th>Temperature(F)</th>\n",
              "      <th>Wind_Chill(F)</th>\n",
              "      <th>Humidity(%)</th>\n",
              "      <th>Pressure(in)</th>\n",
              "      <th>Visibility(mi)</th>\n",
              "      <th>Wind_Direction</th>\n",
              "      <th>Wind_Speed(mph)</th>\n",
              "      <th>Precipitation(in)</th>\n",
              "      <th>Weather_Condition</th>\n",
              "      <th>Amenity</th>\n",
              "      <th>Bump</th>\n",
              "      <th>Crossing</th>\n",
              "      <th>Give_Way</th>\n",
              "      <th>Junction</th>\n",
              "      <th>No_Exit</th>\n",
              "      <th>Railway</th>\n",
              "      <th>Roundabout</th>\n",
              "      <th>Station</th>\n",
              "      <th>Stop</th>\n",
              "      <th>Traffic_Calming</th>\n",
              "      <th>Traffic_Signal</th>\n",
              "      <th>Turning_Loop</th>\n",
              "      <th>Sunrise_Sunset</th>\n",
              "      <th>Civil_Twilight</th>\n",
              "      <th>Nautical_Twilight</th>\n",
              "      <th>Astronomical_Twilight</th>\n",
              "    </tr>\n",
              "  </thead>\n",
              "  <tbody>\n",
              "    <tr>\n",
              "      <th>0</th>\n",
              "      <td>A-1</td>\n",
              "      <td>2</td>\n",
              "      <td>2019-05-21 08:29:55</td>\n",
              "      <td>2019-05-21 09:29:40</td>\n",
              "      <td>34.808868</td>\n",
              "      <td>-82.269157</td>\n",
              "      <td>34.808868</td>\n",
              "      <td>-82.269157</td>\n",
              "      <td>0.0</td>\n",
              "      <td>Accident on Tanner Rd at Pennbrooke Ln.</td>\n",
              "      <td>439.0</td>\n",
              "      <td>Tanner Rd</td>\n",
              "      <td>R</td>\n",
              "      <td>Greenville</td>\n",
              "      <td>Greenville</td>\n",
              "      <td>SC</td>\n",
              "      <td>29607-6027</td>\n",
              "      <td>US</td>\n",
              "      <td>US/Eastern</td>\n",
              "      <td>KGMU</td>\n",
              "      <td>2019-05-21 08:53:00</td>\n",
              "      <td>76.0</td>\n",
              "      <td>76.0</td>\n",
              "      <td>52.0</td>\n",
              "      <td>28.91</td>\n",
              "      <td>10.0</td>\n",
              "      <td>N</td>\n",
              "      <td>7.0</td>\n",
              "      <td>0.0</td>\n",
              "      <td>Fair</td>\n",
              "      <td>False</td>\n",
              "      <td>False</td>\n",
              "      <td>False</td>\n",
              "      <td>False</td>\n",
              "      <td>False</td>\n",
              "      <td>False</td>\n",
              "      <td>False</td>\n",
              "      <td>False</td>\n",
              "      <td>False</td>\n",
              "      <td>False</td>\n",
              "      <td>False</td>\n",
              "      <td>False</td>\n",
              "      <td>False</td>\n",
              "      <td>Day</td>\n",
              "      <td>Day</td>\n",
              "      <td>Day</td>\n",
              "      <td>Day</td>\n",
              "    </tr>\n",
              "    <tr>\n",
              "      <th>1</th>\n",
              "      <td>A-2</td>\n",
              "      <td>2</td>\n",
              "      <td>2019-10-07 17:43:09</td>\n",
              "      <td>2019-10-07 19:42:50</td>\n",
              "      <td>35.090080</td>\n",
              "      <td>-80.745560</td>\n",
              "      <td>35.090080</td>\n",
              "      <td>-80.745560</td>\n",
              "      <td>0.0</td>\n",
              "      <td>Accident on Houston Branch Rd at Providence Br...</td>\n",
              "      <td>3299.0</td>\n",
              "      <td>Providence Branch Ln</td>\n",
              "      <td>R</td>\n",
              "      <td>Charlotte</td>\n",
              "      <td>Mecklenburg</td>\n",
              "      <td>NC</td>\n",
              "      <td>28270-8560</td>\n",
              "      <td>US</td>\n",
              "      <td>US/Eastern</td>\n",
              "      <td>KEQY</td>\n",
              "      <td>2019-10-07 17:53:00</td>\n",
              "      <td>76.0</td>\n",
              "      <td>76.0</td>\n",
              "      <td>62.0</td>\n",
              "      <td>29.30</td>\n",
              "      <td>10.0</td>\n",
              "      <td>VAR</td>\n",
              "      <td>3.0</td>\n",
              "      <td>0.0</td>\n",
              "      <td>Cloudy</td>\n",
              "      <td>False</td>\n",
              "      <td>False</td>\n",
              "      <td>False</td>\n",
              "      <td>False</td>\n",
              "      <td>False</td>\n",
              "      <td>False</td>\n",
              "      <td>False</td>\n",
              "      <td>False</td>\n",
              "      <td>False</td>\n",
              "      <td>False</td>\n",
              "      <td>False</td>\n",
              "      <td>False</td>\n",
              "      <td>False</td>\n",
              "      <td>Day</td>\n",
              "      <td>Day</td>\n",
              "      <td>Day</td>\n",
              "      <td>Day</td>\n",
              "    </tr>\n",
              "    <tr>\n",
              "      <th>2</th>\n",
              "      <td>A-3</td>\n",
              "      <td>2</td>\n",
              "      <td>2020-12-13 21:53:00</td>\n",
              "      <td>2020-12-13 22:44:00</td>\n",
              "      <td>37.145730</td>\n",
              "      <td>-121.985052</td>\n",
              "      <td>37.165850</td>\n",
              "      <td>-121.988062</td>\n",
              "      <td>1.4</td>\n",
              "      <td>Stationary traffic on CA-17 from Summit Rd (CA...</td>\n",
              "      <td>NaN</td>\n",
              "      <td>Santa Cruz Hwy</td>\n",
              "      <td>R</td>\n",
              "      <td>Los Gatos</td>\n",
              "      <td>Santa Clara</td>\n",
              "      <td>CA</td>\n",
              "      <td>95033</td>\n",
              "      <td>US</td>\n",
              "      <td>US/Pacific</td>\n",
              "      <td>KSJC</td>\n",
              "      <td>2020-12-13 21:53:00</td>\n",
              "      <td>51.0</td>\n",
              "      <td>51.0</td>\n",
              "      <td>80.0</td>\n",
              "      <td>30.17</td>\n",
              "      <td>10.0</td>\n",
              "      <td>W</td>\n",
              "      <td>6.0</td>\n",
              "      <td>0.0</td>\n",
              "      <td>Fair</td>\n",
              "      <td>False</td>\n",
              "      <td>False</td>\n",
              "      <td>False</td>\n",
              "      <td>False</td>\n",
              "      <td>False</td>\n",
              "      <td>False</td>\n",
              "      <td>False</td>\n",
              "      <td>False</td>\n",
              "      <td>False</td>\n",
              "      <td>False</td>\n",
              "      <td>False</td>\n",
              "      <td>False</td>\n",
              "      <td>False</td>\n",
              "      <td>Night</td>\n",
              "      <td>Night</td>\n",
              "      <td>Night</td>\n",
              "      <td>Night</td>\n",
              "    </tr>\n",
              "    <tr>\n",
              "      <th>3</th>\n",
              "      <td>A-4</td>\n",
              "      <td>2</td>\n",
              "      <td>2018-04-17 16:51:23</td>\n",
              "      <td>2018-04-17 17:50:46</td>\n",
              "      <td>39.110390</td>\n",
              "      <td>-119.773781</td>\n",
              "      <td>39.110390</td>\n",
              "      <td>-119.773781</td>\n",
              "      <td>0.0</td>\n",
              "      <td>Accident on US-395 Southbound at Topsy Ln.</td>\n",
              "      <td>NaN</td>\n",
              "      <td>US Highway 395 S</td>\n",
              "      <td>R</td>\n",
              "      <td>Carson City</td>\n",
              "      <td>Douglas</td>\n",
              "      <td>NV</td>\n",
              "      <td>89705</td>\n",
              "      <td>US</td>\n",
              "      <td>US/Pacific</td>\n",
              "      <td>KCXP</td>\n",
              "      <td>2018-04-17 16:55:00</td>\n",
              "      <td>53.6</td>\n",
              "      <td>NaN</td>\n",
              "      <td>16.0</td>\n",
              "      <td>30.16</td>\n",
              "      <td>10.0</td>\n",
              "      <td>SSW</td>\n",
              "      <td>4.6</td>\n",
              "      <td>NaN</td>\n",
              "      <td>Clear</td>\n",
              "      <td>False</td>\n",
              "      <td>False</td>\n",
              "      <td>False</td>\n",
              "      <td>False</td>\n",
              "      <td>False</td>\n",
              "      <td>False</td>\n",
              "      <td>False</td>\n",
              "      <td>False</td>\n",
              "      <td>False</td>\n",
              "      <td>False</td>\n",
              "      <td>False</td>\n",
              "      <td>True</td>\n",
              "      <td>False</td>\n",
              "      <td>Day</td>\n",
              "      <td>Day</td>\n",
              "      <td>Day</td>\n",
              "      <td>Day</td>\n",
              "    </tr>\n",
              "    <tr>\n",
              "      <th>4</th>\n",
              "      <td>A-5</td>\n",
              "      <td>3</td>\n",
              "      <td>2016-08-31 17:40:49</td>\n",
              "      <td>2016-08-31 18:10:49</td>\n",
              "      <td>26.102942</td>\n",
              "      <td>-80.265091</td>\n",
              "      <td>26.102942</td>\n",
              "      <td>-80.265091</td>\n",
              "      <td>0.0</td>\n",
              "      <td>Accident on I-595 Westbound at Exit 4 / Pine I...</td>\n",
              "      <td>NaN</td>\n",
              "      <td>I-595 W</td>\n",
              "      <td>R</td>\n",
              "      <td>Fort Lauderdale</td>\n",
              "      <td>Broward</td>\n",
              "      <td>FL</td>\n",
              "      <td>33324</td>\n",
              "      <td>US</td>\n",
              "      <td>US/Eastern</td>\n",
              "      <td>KHWO</td>\n",
              "      <td>2016-08-31 17:53:00</td>\n",
              "      <td>84.2</td>\n",
              "      <td>NaN</td>\n",
              "      <td>84.0</td>\n",
              "      <td>29.92</td>\n",
              "      <td>10.0</td>\n",
              "      <td>SSE</td>\n",
              "      <td>13.8</td>\n",
              "      <td>NaN</td>\n",
              "      <td>Overcast</td>\n",
              "      <td>False</td>\n",
              "      <td>False</td>\n",
              "      <td>False</td>\n",
              "      <td>False</td>\n",
              "      <td>True</td>\n",
              "      <td>False</td>\n",
              "      <td>False</td>\n",
              "      <td>False</td>\n",
              "      <td>False</td>\n",
              "      <td>False</td>\n",
              "      <td>False</td>\n",
              "      <td>True</td>\n",
              "      <td>False</td>\n",
              "      <td>Day</td>\n",
              "      <td>Day</td>\n",
              "      <td>Day</td>\n",
              "      <td>Day</td>\n",
              "    </tr>\n",
              "  </tbody>\n",
              "</table>\n",
              "</div>"
            ],
            "text/plain": [
              "    ID  Severity  ... Nautical_Twilight Astronomical_Twilight\n",
              "0  A-1         2  ...               Day                   Day\n",
              "1  A-2         2  ...               Day                   Day\n",
              "2  A-3         2  ...             Night                 Night\n",
              "3  A-4         2  ...               Day                   Day\n",
              "4  A-5         3  ...               Day                   Day\n",
              "\n",
              "[5 rows x 47 columns]"
            ]
          },
          "metadata": {},
          "execution_count": 6
        }
      ]
    },
    {
      "cell_type": "markdown",
      "metadata": {
        "id": "GmzepYiTRwNf"
      },
      "source": [
        "Getting to know the dataset"
      ]
    },
    {
      "cell_type": "code",
      "metadata": {
        "colab": {
          "base_uri": "https://localhost:8080/"
        },
        "id": "lnQGGWJV93Qy",
        "outputId": "dc42f1ec-8fbe-4cfa-f122-dd18aa3b779a"
      },
      "source": [
        "df.info()"
      ],
      "execution_count": 7,
      "outputs": [
        {
          "output_type": "stream",
          "text": [
            "<class 'pandas.core.frame.DataFrame'>\n",
            "RangeIndex: 2906610 entries, 0 to 2906609\n",
            "Data columns (total 47 columns):\n",
            " #   Column                 Dtype  \n",
            "---  ------                 -----  \n",
            " 0   ID                     object \n",
            " 1   Severity               int64  \n",
            " 2   Start_Time             object \n",
            " 3   End_Time               object \n",
            " 4   Start_Lat              float64\n",
            " 5   Start_Lng              float64\n",
            " 6   End_Lat                float64\n",
            " 7   End_Lng                float64\n",
            " 8   Distance(mi)           float64\n",
            " 9   Description            object \n",
            " 10  Number                 float64\n",
            " 11  Street                 object \n",
            " 12  Side                   object \n",
            " 13  City                   object \n",
            " 14  County                 object \n",
            " 15  State                  object \n",
            " 16  Zipcode                object \n",
            " 17  Country                object \n",
            " 18  Timezone               object \n",
            " 19  Airport_Code           object \n",
            " 20  Weather_Timestamp      object \n",
            " 21  Temperature(F)         float64\n",
            " 22  Wind_Chill(F)          float64\n",
            " 23  Humidity(%)            float64\n",
            " 24  Pressure(in)           float64\n",
            " 25  Visibility(mi)         float64\n",
            " 26  Wind_Direction         object \n",
            " 27  Wind_Speed(mph)        float64\n",
            " 28  Precipitation(in)      float64\n",
            " 29  Weather_Condition      object \n",
            " 30  Amenity                bool   \n",
            " 31  Bump                   bool   \n",
            " 32  Crossing               bool   \n",
            " 33  Give_Way               bool   \n",
            " 34  Junction               bool   \n",
            " 35  No_Exit                bool   \n",
            " 36  Railway                bool   \n",
            " 37  Roundabout             bool   \n",
            " 38  Station                bool   \n",
            " 39  Stop                   bool   \n",
            " 40  Traffic_Calming        bool   \n",
            " 41  Traffic_Signal         bool   \n",
            " 42  Turning_Loop           bool   \n",
            " 43  Sunrise_Sunset         object \n",
            " 44  Civil_Twilight         object \n",
            " 45  Nautical_Twilight      object \n",
            " 46  Astronomical_Twilight  object \n",
            "dtypes: bool(13), float64(13), int64(1), object(20)\n",
            "memory usage: 790.0+ MB\n"
          ],
          "name": "stdout"
        }
      ]
    },
    {
      "cell_type": "code",
      "metadata": {
        "colab": {
          "base_uri": "https://localhost:8080/",
          "height": 314
        },
        "id": "uJGnotnv-WXC",
        "outputId": "9acd320f-2ad8-40ea-aa3e-58d5eb7a2a7e"
      },
      "source": [
        "df.describe()"
      ],
      "execution_count": 8,
      "outputs": [
        {
          "output_type": "execute_result",
          "data": {
            "text/html": [
              "<div>\n",
              "<style scoped>\n",
              "    .dataframe tbody tr th:only-of-type {\n",
              "        vertical-align: middle;\n",
              "    }\n",
              "\n",
              "    .dataframe tbody tr th {\n",
              "        vertical-align: top;\n",
              "    }\n",
              "\n",
              "    .dataframe thead th {\n",
              "        text-align: right;\n",
              "    }\n",
              "</style>\n",
              "<table border=\"1\" class=\"dataframe\">\n",
              "  <thead>\n",
              "    <tr style=\"text-align: right;\">\n",
              "      <th></th>\n",
              "      <th>Severity</th>\n",
              "      <th>Start_Lat</th>\n",
              "      <th>Start_Lng</th>\n",
              "      <th>End_Lat</th>\n",
              "      <th>End_Lng</th>\n",
              "      <th>Distance(mi)</th>\n",
              "      <th>Number</th>\n",
              "      <th>Temperature(F)</th>\n",
              "      <th>Wind_Chill(F)</th>\n",
              "      <th>Humidity(%)</th>\n",
              "      <th>Pressure(in)</th>\n",
              "      <th>Visibility(mi)</th>\n",
              "      <th>Wind_Speed(mph)</th>\n",
              "      <th>Precipitation(in)</th>\n",
              "    </tr>\n",
              "  </thead>\n",
              "  <tbody>\n",
              "    <tr>\n",
              "      <th>count</th>\n",
              "      <td>2.906610e+06</td>\n",
              "      <td>2.906610e+06</td>\n",
              "      <td>2.906610e+06</td>\n",
              "      <td>2.623789e+06</td>\n",
              "      <td>2.623789e+06</td>\n",
              "      <td>2.906610e+06</td>\n",
              "      <td>1.014938e+06</td>\n",
              "      <td>2.839386e+06</td>\n",
              "      <td>1.722751e+06</td>\n",
              "      <td>2.835340e+06</td>\n",
              "      <td>2.849702e+06</td>\n",
              "      <td>2.834532e+06</td>\n",
              "      <td>2.599447e+06</td>\n",
              "      <td>1.605284e+06</td>\n",
              "    </tr>\n",
              "    <tr>\n",
              "      <th>mean</th>\n",
              "      <td>2.288649e+00</td>\n",
              "      <td>3.653027e+01</td>\n",
              "      <td>-9.642676e+01</td>\n",
              "      <td>3.651733e+01</td>\n",
              "      <td>-9.620367e+01</td>\n",
              "      <td>3.980541e-01</td>\n",
              "      <td>6.789728e+03</td>\n",
              "      <td>6.098873e+01</td>\n",
              "      <td>5.499048e+01</td>\n",
              "      <td>6.537758e+01</td>\n",
              "      <td>2.965685e+01</td>\n",
              "      <td>9.116766e+00</td>\n",
              "      <td>7.818111e+00</td>\n",
              "      <td>1.119459e-02</td>\n",
              "    </tr>\n",
              "    <tr>\n",
              "      <th>std</th>\n",
              "      <td>5.541618e-01</td>\n",
              "      <td>5.013964e+00</td>\n",
              "      <td>1.775412e+01</td>\n",
              "      <td>5.016609e+00</td>\n",
              "      <td>1.765971e+01</td>\n",
              "      <td>1.592556e+00</td>\n",
              "      <td>1.697225e+04</td>\n",
              "      <td>1.845258e+01</td>\n",
              "      <td>2.219542e+01</td>\n",
              "      <td>2.287854e+01</td>\n",
              "      <td>9.094133e-01</td>\n",
              "      <td>2.837271e+00</td>\n",
              "      <td>5.431171e+00</td>\n",
              "      <td>1.540812e-01</td>\n",
              "    </tr>\n",
              "    <tr>\n",
              "      <th>min</th>\n",
              "      <td>1.000000e+00</td>\n",
              "      <td>2.455527e+01</td>\n",
              "      <td>-1.246238e+02</td>\n",
              "      <td>2.455527e+01</td>\n",
              "      <td>-1.246238e+02</td>\n",
              "      <td>0.000000e+00</td>\n",
              "      <td>0.000000e+00</td>\n",
              "      <td>-8.900000e+01</td>\n",
              "      <td>-8.900000e+01</td>\n",
              "      <td>1.000000e+00</td>\n",
              "      <td>0.000000e+00</td>\n",
              "      <td>0.000000e+00</td>\n",
              "      <td>0.000000e+00</td>\n",
              "      <td>0.000000e+00</td>\n",
              "    </tr>\n",
              "    <tr>\n",
              "      <th>25%</th>\n",
              "      <td>2.000000e+00</td>\n",
              "      <td>3.366453e+01</td>\n",
              "      <td>-1.178232e+02</td>\n",
              "      <td>3.364659e+01</td>\n",
              "      <td>-1.177020e+02</td>\n",
              "      <td>0.000000e+00</td>\n",
              "      <td>9.650000e+02</td>\n",
              "      <td>4.890000e+01</td>\n",
              "      <td>3.900000e+01</td>\n",
              "      <td>4.900000e+01</td>\n",
              "      <td>2.959000e+01</td>\n",
              "      <td>1.000000e+01</td>\n",
              "      <td>4.600000e+00</td>\n",
              "      <td>0.000000e+00</td>\n",
              "    </tr>\n",
              "    <tr>\n",
              "      <th>50%</th>\n",
              "      <td>2.000000e+00</td>\n",
              "      <td>3.609977e+01</td>\n",
              "      <td>-9.116690e+01</td>\n",
              "      <td>3.605898e+01</td>\n",
              "      <td>-9.105163e+01</td>\n",
              "      <td>0.000000e+00</td>\n",
              "      <td>3.093000e+03</td>\n",
              "      <td>6.300000e+01</td>\n",
              "      <td>5.800000e+01</td>\n",
              "      <td>6.800000e+01</td>\n",
              "      <td>2.992000e+01</td>\n",
              "      <td>1.000000e+01</td>\n",
              "      <td>7.000000e+00</td>\n",
              "      <td>0.000000e+00</td>\n",
              "    </tr>\n",
              "    <tr>\n",
              "      <th>75%</th>\n",
              "      <td>3.000000e+00</td>\n",
              "      <td>4.037505e+01</td>\n",
              "      <td>-8.085814e+01</td>\n",
              "      <td>4.033133e+01</td>\n",
              "      <td>-8.084679e+01</td>\n",
              "      <td>2.790000e-01</td>\n",
              "      <td>7.976000e+03</td>\n",
              "      <td>7.500000e+01</td>\n",
              "      <td>7.200000e+01</td>\n",
              "      <td>8.500000e+01</td>\n",
              "      <td>3.007000e+01</td>\n",
              "      <td>1.000000e+01</td>\n",
              "      <td>1.040000e+01</td>\n",
              "      <td>0.000000e+00</td>\n",
              "    </tr>\n",
              "    <tr>\n",
              "      <th>max</th>\n",
              "      <td>4.000000e+00</td>\n",
              "      <td>4.900220e+01</td>\n",
              "      <td>-6.711317e+01</td>\n",
              "      <td>4.907500e+01</td>\n",
              "      <td>-6.710924e+01</td>\n",
              "      <td>3.336300e+02</td>\n",
              "      <td>9.999997e+06</td>\n",
              "      <td>2.030000e+02</td>\n",
              "      <td>1.740000e+02</td>\n",
              "      <td>1.000000e+02</td>\n",
              "      <td>5.804000e+01</td>\n",
              "      <td>1.400000e+02</td>\n",
              "      <td>9.840000e+02</td>\n",
              "      <td>2.400000e+01</td>\n",
              "    </tr>\n",
              "  </tbody>\n",
              "</table>\n",
              "</div>"
            ],
            "text/plain": [
              "           Severity     Start_Lat  ...  Wind_Speed(mph)  Precipitation(in)\n",
              "count  2.906610e+06  2.906610e+06  ...     2.599447e+06       1.605284e+06\n",
              "mean   2.288649e+00  3.653027e+01  ...     7.818111e+00       1.119459e-02\n",
              "std    5.541618e-01  5.013964e+00  ...     5.431171e+00       1.540812e-01\n",
              "min    1.000000e+00  2.455527e+01  ...     0.000000e+00       0.000000e+00\n",
              "25%    2.000000e+00  3.366453e+01  ...     4.600000e+00       0.000000e+00\n",
              "50%    2.000000e+00  3.609977e+01  ...     7.000000e+00       0.000000e+00\n",
              "75%    3.000000e+00  4.037505e+01  ...     1.040000e+01       0.000000e+00\n",
              "max    4.000000e+00  4.900220e+01  ...     9.840000e+02       2.400000e+01\n",
              "\n",
              "[8 rows x 14 columns]"
            ]
          },
          "metadata": {},
          "execution_count": 8
        }
      ]
    },
    {
      "cell_type": "markdown",
      "metadata": {
        "id": "Hzpk2c-dUQPM"
      },
      "source": [
        "Lets check the number of columns which has numeric dtype "
      ]
    },
    {
      "cell_type": "code",
      "metadata": {
        "colab": {
          "base_uri": "https://localhost:8080/"
        },
        "id": "VY06MtLb-WT8",
        "outputId": "fca13ecc-ce70-4d08-893f-0d593b588df8"
      },
      "source": [
        "numerics = ['int16', 'int32', 'int64', 'float16', 'float32', 'float64']\n",
        "\n",
        "numeric_df = df.select_dtypes(include=numerics)\n",
        "len(numeric_df.columns)"
      ],
      "execution_count": 9,
      "outputs": [
        {
          "output_type": "execute_result",
          "data": {
            "text/plain": [
              "14"
            ]
          },
          "metadata": {},
          "execution_count": 9
        }
      ]
    },
    {
      "cell_type": "markdown",
      "metadata": {
        "id": "2coalt28VUmH"
      },
      "source": [
        "Out of 46 columns only 14 columns are in numeric data type"
      ]
    },
    {
      "cell_type": "markdown",
      "metadata": {
        "id": "QEM6L_SJAdcc"
      },
      "source": [
        "Percentage of missing values per column"
      ]
    },
    {
      "cell_type": "code",
      "metadata": {
        "colab": {
          "base_uri": "https://localhost:8080/"
        },
        "id": "P-DxObWa-WRP",
        "outputId": "577ec7d0-b82c-4362-b37f-c41db6a6be70"
      },
      "source": [
        "missing_percentages = df.isna().sum().sort_values(ascending=False) / len(df) *100\n",
        "missing_percentages"
      ],
      "execution_count": 10,
      "outputs": [
        {
          "output_type": "execute_result",
          "data": {
            "text/plain": [
              "Number                   65.081728\n",
              "Precipitation(in)        44.771263\n",
              "Wind_Chill(F)            40.729888\n",
              "Wind_Speed(mph)          10.567740\n",
              "End_Lat                   9.730270\n",
              "End_Lng                   9.730270\n",
              "Visibility(mi)            2.479796\n",
              "Weather_Condition         2.471986\n",
              "Humidity(%)               2.451997\n",
              "Temperature(F)            2.312797\n",
              "Wind_Direction            2.183781\n",
              "Pressure(in)              1.957882\n",
              "Weather_Timestamp         1.614148\n",
              "Airport_Code              0.227344\n",
              "Timezone                  0.118007\n",
              "Zipcode                   0.038326\n",
              "Nautical_Twilight         0.003784\n",
              "Astronomical_Twilight     0.003784\n",
              "Civil_Twilight            0.003784\n",
              "Sunrise_Sunset            0.003784\n",
              "City                      0.003716\n",
              "Amenity                   0.000000\n",
              "Severity                  0.000000\n",
              "Start_Time                0.000000\n",
              "End_Time                  0.000000\n",
              "Start_Lat                 0.000000\n",
              "Start_Lng                 0.000000\n",
              "Distance(mi)              0.000000\n",
              "Description               0.000000\n",
              "Turning_Loop              0.000000\n",
              "Street                    0.000000\n",
              "Side                      0.000000\n",
              "County                    0.000000\n",
              "Bump                      0.000000\n",
              "State                     0.000000\n",
              "Traffic_Signal            0.000000\n",
              "Country                   0.000000\n",
              "Traffic_Calming           0.000000\n",
              "Stop                      0.000000\n",
              "Station                   0.000000\n",
              "Roundabout                0.000000\n",
              "Railway                   0.000000\n",
              "No_Exit                   0.000000\n",
              "Junction                  0.000000\n",
              "Give_Way                  0.000000\n",
              "Crossing                  0.000000\n",
              "ID                        0.000000\n",
              "dtype: float64"
            ]
          },
          "metadata": {},
          "execution_count": 10
        }
      ]
    },
    {
      "cell_type": "code",
      "metadata": {
        "colab": {
          "base_uri": "https://localhost:8080/"
        },
        "id": "u7UxjIoqBARH",
        "outputId": "4397e34b-a11a-49c1-d3c6-a417089e3594"
      },
      "source": [
        "type(missing_percentages)"
      ],
      "execution_count": 11,
      "outputs": [
        {
          "output_type": "execute_result",
          "data": {
            "text/plain": [
              "pandas.core.series.Series"
            ]
          },
          "metadata": {},
          "execution_count": 11
        }
      ]
    },
    {
      "cell_type": "markdown",
      "metadata": {
        "id": "aF3QcIYyXn4r"
      },
      "source": [
        "Visualising the missing values percentages"
      ]
    },
    {
      "cell_type": "code",
      "metadata": {
        "colab": {
          "base_uri": "https://localhost:8080/",
          "height": 445
        },
        "id": "ID8Rs0RJ93Lf",
        "outputId": "d819d81a-fb84-42eb-a1fb-0031c56c729f"
      },
      "source": [
        "import matplotlib.pyplot as plt\n",
        "plt.figure(figsize=(15,7))\n",
        "missing_percentages[missing_percentages != 0].plot(kind='barh')"
      ],
      "execution_count": 12,
      "outputs": [
        {
          "output_type": "execute_result",
          "data": {
            "text/plain": [
              "<matplotlib.axes._subplots.AxesSubplot at 0x7f5d7df24190>"
            ]
          },
          "metadata": {},
          "execution_count": 12
        },
        {
          "output_type": "display_data",
          "data": {
            "image/png": "[encoded data removed]",
            "text/plain": [
              "<Figure size 1080x504 with 1 Axes>"
            ]
          },
          "metadata": {
            "needs_background": "light"
          }
        }
      ]
    },
    {
      "cell_type": "markdown",
      "metadata": {
        "id": "a84gqD0KBykW"
      },
      "source": [
        "Removing columns that has high missing percentage."
      ]
    },
    {
      "cell_type": "code",
      "metadata": {
        "id": "UdEDl8yR93EM"
      },
      "source": [
        "df.drop(['Number', 'Precipitation(in)','Wind_Chill(F)'], axis = 1, inplace = True)"
      ],
      "execution_count": 13,
      "outputs": []
    },
    {
      "cell_type": "code",
      "metadata": {
        "colab": {
          "base_uri": "https://localhost:8080/"
        },
        "id": "t3uNkmGfZc2T",
        "outputId": "cab3082b-b8b1-48ce-d480-7d74123dc369"
      },
      "source": [
        "df.info()"
      ],
      "execution_count": 14,
      "outputs": [
        {
          "output_type": "stream",
          "text": [
            "<class 'pandas.core.frame.DataFrame'>\n",
            "RangeIndex: 2906610 entries, 0 to 2906609\n",
            "Data columns (total 44 columns):\n",
            " #   Column                 Dtype  \n",
            "---  ------                 -----  \n",
            " 0   ID                     object \n",
            " 1   Severity               int64  \n",
            " 2   Start_Time             object \n",
            " 3   End_Time               object \n",
            " 4   Start_Lat              float64\n",
            " 5   Start_Lng              float64\n",
            " 6   End_Lat                float64\n",
            " 7   End_Lng                float64\n",
            " 8   Distance(mi)           float64\n",
            " 9   Description            object \n",
            " 10  Street                 object \n",
            " 11  Side                   object \n",
            " 12  City                   object \n",
            " 13  County                 object \n",
            " 14  State                  object \n",
            " 15  Zipcode                object \n",
            " 16  Country                object \n",
            " 17  Timezone               object \n",
            " 18  Airport_Code           object \n",
            " 19  Weather_Timestamp      object \n",
            " 20  Temperature(F)         float64\n",
            " 21  Humidity(%)            float64\n",
            " 22  Pressure(in)           float64\n",
            " 23  Visibility(mi)         float64\n",
            " 24  Wind_Direction         object \n",
            " 25  Wind_Speed(mph)        float64\n",
            " 26  Weather_Condition      object \n",
            " 27  Amenity                bool   \n",
            " 28  Bump                   bool   \n",
            " 29  Crossing               bool   \n",
            " 30  Give_Way               bool   \n",
            " 31  Junction               bool   \n",
            " 32  No_Exit                bool   \n",
            " 33  Railway                bool   \n",
            " 34  Roundabout             bool   \n",
            " 35  Station                bool   \n",
            " 36  Stop                   bool   \n",
            " 37  Traffic_Calming        bool   \n",
            " 38  Traffic_Signal         bool   \n",
            " 39  Turning_Loop           bool   \n",
            " 40  Sunrise_Sunset         object \n",
            " 41  Civil_Twilight         object \n",
            " 42  Nautical_Twilight      object \n",
            " 43  Astronomical_Twilight  object \n",
            "dtypes: bool(13), float64(10), int64(1), object(20)\n",
            "memory usage: 723.5+ MB\n"
          ],
          "name": "stdout"
        }
      ]
    },
    {
      "cell_type": "markdown",
      "metadata": {
        "id": "RvM47Xfp7X36"
      },
      "source": [
        "## Exploratory Analysis and Visualization\n",
        "\n",
        "Columns chosen for analysis:\n",
        "\n",
        "1. City\n",
        "2. Start Time\n",
        "3. Start Lat, Start Lng\n",
        "4. Temperature\n",
        "5. Weather Condition"
      ]
    },
    {
      "cell_type": "code",
      "metadata": {
        "colab": {
          "base_uri": "https://localhost:8080/"
        },
        "id": "uiEYZ3Q9B44q",
        "outputId": "ee8a62d7-7541-498d-a856-7a19de82fdfd"
      },
      "source": [
        "df.columns"
      ],
      "execution_count": 15,
      "outputs": [
        {
          "output_type": "execute_result",
          "data": {
            "text/plain": [
              "Index(['ID', 'Severity', 'Start_Time', 'End_Time', 'Start_Lat', 'Start_Lng',\n",
              "       'End_Lat', 'End_Lng', 'Distance(mi)', 'Description', 'Street', 'Side',\n",
              "       'City', 'County', 'State', 'Zipcode', 'Country', 'Timezone',\n",
              "       'Airport_Code', 'Weather_Timestamp', 'Temperature(F)', 'Humidity(%)',\n",
              "       'Pressure(in)', 'Visibility(mi)', 'Wind_Direction', 'Wind_Speed(mph)',\n",
              "       'Weather_Condition', 'Amenity', 'Bump', 'Crossing', 'Give_Way',\n",
              "       'Junction', 'No_Exit', 'Railway', 'Roundabout', 'Station', 'Stop',\n",
              "       'Traffic_Calming', 'Traffic_Signal', 'Turning_Loop', 'Sunrise_Sunset',\n",
              "       'Civil_Twilight', 'Nautical_Twilight', 'Astronomical_Twilight'],\n",
              "      dtype='object')"
            ]
          },
          "metadata": {},
          "execution_count": 15
        }
      ]
    },
    {
      "cell_type": "markdown",
      "metadata": {
        "id": "3rz2quexIZac"
      },
      "source": [
        "### City"
      ]
    },
    {
      "cell_type": "code",
      "metadata": {
        "colab": {
          "base_uri": "https://localhost:8080/"
        },
        "id": "gcdVkqfpB4oK",
        "outputId": "6d4a9dba-a929-4662-c27a-ce857bf47ae9"
      },
      "source": [
        "df.City"
      ],
      "execution_count": 16,
      "outputs": [
        {
          "output_type": "execute_result",
          "data": {
            "text/plain": [
              "0                Greenville\n",
              "1                 Charlotte\n",
              "2                 Los Gatos\n",
              "3               Carson City\n",
              "4           Fort Lauderdale\n",
              "                 ...       \n",
              "2906605             Houston\n",
              "2906606              Colton\n",
              "2906607               Miami\n",
              "2906608      Salt Lake City\n",
              "2906609    Colorado Springs\n",
              "Name: City, Length: 2906610, dtype: object"
            ]
          },
          "metadata": {},
          "execution_count": 16
        }
      ]
    },
    {
      "cell_type": "markdown",
      "metadata": {
        "id": "ju5g8ZVrVSmL"
      },
      "source": [
        "Total number of Cities in the Dataset"
      ]
    },
    {
      "cell_type": "code",
      "metadata": {
        "colab": {
          "base_uri": "https://localhost:8080/"
        },
        "id": "lK5ve5iWB4lI",
        "outputId": "012a1a3a-39e3-4e3f-9752-d78c0f735481"
      },
      "source": [
        "cities = df.City.unique()\n",
        "len(cities)"
      ],
      "execution_count": 17,
      "outputs": [
        {
          "output_type": "execute_result",
          "data": {
            "text/plain": [
              "11790"
            ]
          },
          "metadata": {},
          "execution_count": 17
        }
      ]
    },
    {
      "cell_type": "markdown",
      "metadata": {
        "id": "rkSO-OMkVYpZ"
      },
      "source": [
        "No. of Accidents occured in each city"
      ]
    },
    {
      "cell_type": "code",
      "metadata": {
        "colab": {
          "base_uri": "https://localhost:8080/"
        },
        "id": "LmgK4XQ0B4dy",
        "outputId": "2824e825-7745-48fc-a9e1-4bb95b3921ca"
      },
      "source": [
        "cities_by_accident = df.City.value_counts()\n",
        "cities_by_accident"
      ],
      "execution_count": 18,
      "outputs": [
        {
          "output_type": "execute_result",
          "data": {
            "text/plain": [
              "Los Angeles    68411\n",
              "Houston        68265\n",
              "Charlotte      56176\n",
              "Miami          49965\n",
              "Dallas         48525\n",
              "               ...  \n",
              "River Rouge        1\n",
              "Midwest            1\n",
              "Rossburg           1\n",
              "Alta Vista         1\n",
              "Amidon             1\n",
              "Name: City, Length: 11789, dtype: int64"
            ]
          },
          "metadata": {},
          "execution_count": 18
        }
      ]
    },
    {
      "cell_type": "markdown",
      "metadata": {
        "id": "7seXwOBlVmk-"
      },
      "source": [
        "Top 20 Cities with high occurance of accidents"
      ]
    },
    {
      "cell_type": "code",
      "metadata": {
        "colab": {
          "base_uri": "https://localhost:8080/"
        },
        "id": "X0nan3xu7Vtq",
        "outputId": "c6f80d0b-ee24-4be0-ed53-19aa3010f8ef"
      },
      "source": [
        "cities_by_accident[:20]"
      ],
      "execution_count": 19,
      "outputs": [
        {
          "output_type": "execute_result",
          "data": {
            "text/plain": [
              "Los Angeles      68411\n",
              "Houston          68265\n",
              "Charlotte        56176\n",
              "Miami            49965\n",
              "Dallas           48525\n",
              "Austin           38808\n",
              "Raleigh          31355\n",
              "Atlanta          29244\n",
              "Sacramento       28984\n",
              "Orlando          28092\n",
              "Nashville        25277\n",
              "Baton Rouge      25080\n",
              "Minneapolis      22469\n",
              "San Diego        22329\n",
              "Phoenix          21370\n",
              "Oklahoma City    21292\n",
              "Portland         19432\n",
              "Richmond         18343\n",
              "Seattle          17384\n",
              "Saint Paul       17266\n",
              "Name: City, dtype: int64"
            ]
          },
          "metadata": {},
          "execution_count": 19
        }
      ]
    },
    {
      "cell_type": "code",
      "metadata": {
        "colab": {
          "base_uri": "https://localhost:8080/"
        },
        "id": "5FLQkPvZFuF8",
        "outputId": "00bf5c82-bb4f-4f50-b184-c19ce51128e2"
      },
      "source": [
        "type(cities_by_accident)"
      ],
      "execution_count": 20,
      "outputs": [
        {
          "output_type": "execute_result",
          "data": {
            "text/plain": [
              "pandas.core.series.Series"
            ]
          },
          "metadata": {},
          "execution_count": 20
        }
      ]
    },
    {
      "cell_type": "markdown",
      "metadata": {
        "id": "XN3uMbjnVvaW"
      },
      "source": [
        "Visualising Top 20 cities by occcurance of ccidents "
      ]
    },
    {
      "cell_type": "code",
      "metadata": {
        "colab": {
          "base_uri": "https://localhost:8080/",
          "height": 445
        },
        "id": "uq4X__76EvDy",
        "outputId": "e3dc6a6a-f087-4dff-8c62-d72a10a1488f"
      },
      "source": [
        "x = cities_by_accident[:20]\n",
        "plt.figure(figsize=(15,7))\n",
        "cities_by_accident[:20].plot(kind='barh')"
      ],
      "execution_count": 21,
      "outputs": [
        {
          "output_type": "execute_result",
          "data": {
            "text/plain": [
              "<matplotlib.axes._subplots.AxesSubplot at 0x7f5d7c732910>"
            ]
          },
          "metadata": {},
          "execution_count": 21
        },
        {
          "output_type": "display_data",
          "data": {
            "image/png": "[encoded data removed]",
            "text/plain": [
              "<Figure size 1080x504 with 1 Axes>"
            ]
          },
          "metadata": {
            "needs_background": "light"
          }
        }
      ]
    },
    {
      "cell_type": "code",
      "metadata": {
        "id": "IarEBz5OEvAn"
      },
      "source": [
        "import seaborn as sns\n",
        "sns.set_style(\"darkgrid\")"
      ],
      "execution_count": 22,
      "outputs": []
    },
    {
      "cell_type": "code",
      "metadata": {
        "colab": {
          "base_uri": "https://localhost:8080/",
          "height": 463
        },
        "id": "kCuWqfPCFnSu",
        "outputId": "4078a1b6-e8eb-4786-b6f0-0fa1e95bb98d"
      },
      "source": [
        "plt.figure(figsize=(15,7))\n",
        "sns.histplot(cities_by_accident, log_scale=True)"
      ],
      "execution_count": 23,
      "outputs": [
        {
          "output_type": "execute_result",
          "data": {
            "text/plain": [
              "<matplotlib.axes._subplots.AxesSubplot at 0x7f5d7c696290>"
            ]
          },
          "metadata": {},
          "execution_count": 23
        },
        {
          "output_type": "display_data",
          "data": {
            "image/png": "[encoded data removed]",
            "text/plain": [
              "<Figure size 1080x504 with 1 Axes>"
            ]
          },
          "metadata": {}
        }
      ]
    },
    {
      "cell_type": "markdown",
      "metadata": {
        "id": "y1X3-aKIWmsm"
      },
      "source": [
        "Cities which had only one accident "
      ]
    },
    {
      "cell_type": "code",
      "metadata": {
        "colab": {
          "base_uri": "https://localhost:8080/"
        },
        "id": "j8GBvN1XHeKL",
        "outputId": "93e8dfda-359d-425c-aa9c-33f2664fe38b"
      },
      "source": [
        "cities_by_accident[cities_by_accident == 1]"
      ],
      "execution_count": 24,
      "outputs": [
        {
          "output_type": "execute_result",
          "data": {
            "text/plain": [
              "Beavercreek Township    1\n",
              "Grand Cane              1\n",
              "Deltaville              1\n",
              "Kathryn                 1\n",
              "Lusk                    1\n",
              "                       ..\n",
              "River Rouge             1\n",
              "Midwest                 1\n",
              "Rossburg                1\n",
              "Alta Vista              1\n",
              "Amidon                  1\n",
              "Name: City, Length: 1306, dtype: int64"
            ]
          },
          "metadata": {},
          "execution_count": 24
        }
      ]
    },
    {
      "cell_type": "markdown",
      "metadata": {
        "id": "8AaFn5YrRnTn"
      },
      "source": [
        "Top 10 States which incoprates top cities by number of accidents"
      ]
    },
    {
      "cell_type": "code",
      "metadata": {
        "colab": {
          "base_uri": "https://localhost:8080/",
          "height": 414
        },
        "id": "COsjteurCqtg",
        "outputId": "e8f74b5f-7f2b-49e1-946f-42458e2de8a1"
      },
      "source": [
        "dfgp = df.groupby(['State', 'City']).City.count().to_frame().rename(columns={'City': 'Count'}).reset_index()\n",
        "dfgp = dfgp.sort_values(by='Count',ascending=False)\n",
        "dfgp_100 =  dfgp.head(100)\n",
        "dfgp_100"
      ],
      "execution_count": 25,
      "outputs": [
        {
          "output_type": "execute_result",
          "data": {
            "text/html": [
              "<div>\n",
              "<style scoped>\n",
              "    .dataframe tbody tr th:only-of-type {\n",
              "        vertical-align: middle;\n",
              "    }\n",
              "\n",
              "    .dataframe tbody tr th {\n",
              "        vertical-align: top;\n",
              "    }\n",
              "\n",
              "    .dataframe thead th {\n",
              "        text-align: right;\n",
              "    }\n",
              "</style>\n",
              "<table border=\"1\" class=\"dataframe\">\n",
              "  <thead>\n",
              "    <tr style=\"text-align: right;\">\n",
              "      <th></th>\n",
              "      <th>State</th>\n",
              "      <th>City</th>\n",
              "      <th>Count</th>\n",
              "    </tr>\n",
              "  </thead>\n",
              "  <tbody>\n",
              "    <tr>\n",
              "      <th>1422</th>\n",
              "      <td>CA</td>\n",
              "      <td>Los Angeles</td>\n",
              "      <td>68411</td>\n",
              "    </tr>\n",
              "    <tr>\n",
              "      <th>14754</th>\n",
              "      <td>TX</td>\n",
              "      <td>Houston</td>\n",
              "      <td>68191</td>\n",
              "    </tr>\n",
              "    <tr>\n",
              "      <th>8642</th>\n",
              "      <td>NC</td>\n",
              "      <td>Charlotte</td>\n",
              "      <td>56038</td>\n",
              "    </tr>\n",
              "    <tr>\n",
              "      <th>2874</th>\n",
              "      <td>FL</td>\n",
              "      <td>Miami</td>\n",
              "      <td>49913</td>\n",
              "    </tr>\n",
              "    <tr>\n",
              "      <th>14618</th>\n",
              "      <td>TX</td>\n",
              "      <td>Dallas</td>\n",
              "      <td>48266</td>\n",
              "    </tr>\n",
              "    <tr>\n",
              "      <th>...</th>\n",
              "      <td>...</td>\n",
              "      <td>...</td>\n",
              "      <td>...</td>\n",
              "    </tr>\n",
              "    <tr>\n",
              "      <th>1617</th>\n",
              "      <td>CA</td>\n",
              "      <td>Pasadena</td>\n",
              "      <td>3958</td>\n",
              "    </tr>\n",
              "    <tr>\n",
              "      <th>15743</th>\n",
              "      <td>VA</td>\n",
              "      <td>Norfolk</td>\n",
              "      <td>3905</td>\n",
              "    </tr>\n",
              "    <tr>\n",
              "      <th>1402</th>\n",
              "      <td>CA</td>\n",
              "      <td>Livermore</td>\n",
              "      <td>3903</td>\n",
              "    </tr>\n",
              "    <tr>\n",
              "      <th>2067</th>\n",
              "      <td>CO</td>\n",
              "      <td>Colorado Springs</td>\n",
              "      <td>3824</td>\n",
              "    </tr>\n",
              "    <tr>\n",
              "      <th>13753</th>\n",
              "      <td>RI</td>\n",
              "      <td>Providence</td>\n",
              "      <td>3818</td>\n",
              "    </tr>\n",
              "  </tbody>\n",
              "</table>\n",
              "<p>100 rows × 3 columns</p>\n",
              "</div>"
            ],
            "text/plain": [
              "      State              City  Count\n",
              "1422     CA       Los Angeles  68411\n",
              "14754    TX           Houston  68191\n",
              "8642     NC         Charlotte  56038\n",
              "2874     FL             Miami  49913\n",
              "14618    TX            Dallas  48266\n",
              "...     ...               ...    ...\n",
              "1617     CA          Pasadena   3958\n",
              "15743    VA           Norfolk   3905\n",
              "1402     CA         Livermore   3903\n",
              "2067     CO  Colorado Springs   3824\n",
              "13753    RI        Providence   3818\n",
              "\n",
              "[100 rows x 3 columns]"
            ]
          },
          "metadata": {},
          "execution_count": 25
        }
      ]
    },
    {
      "cell_type": "code",
      "metadata": {
        "colab": {
          "base_uri": "https://localhost:8080/",
          "height": 355
        },
        "id": "xC7gpn-AN1C9",
        "outputId": "32f67208-4b8f-405e-c5e7-c2f92e5193e8"
      },
      "source": [
        "dftopstate = dfgp_100.groupby(['State']).Count.sum().sort_values(ascending=False).head(10).reset_index()\n",
        "dftopstate\n"
      ],
      "execution_count": 26,
      "outputs": [
        {
          "output_type": "execute_result",
          "data": {
            "text/html": [
              "<div>\n",
              "<style scoped>\n",
              "    .dataframe tbody tr th:only-of-type {\n",
              "        vertical-align: middle;\n",
              "    }\n",
              "\n",
              "    .dataframe tbody tr th {\n",
              "        vertical-align: top;\n",
              "    }\n",
              "\n",
              "    .dataframe thead th {\n",
              "        text-align: right;\n",
              "    }\n",
              "</style>\n",
              "<table border=\"1\" class=\"dataframe\">\n",
              "  <thead>\n",
              "    <tr style=\"text-align: right;\">\n",
              "      <th></th>\n",
              "      <th>State</th>\n",
              "      <th>Count</th>\n",
              "    </tr>\n",
              "  </thead>\n",
              "  <tbody>\n",
              "    <tr>\n",
              "      <th>0</th>\n",
              "      <td>CA</td>\n",
              "      <td>293209</td>\n",
              "    </tr>\n",
              "    <tr>\n",
              "      <th>1</th>\n",
              "      <td>TX</td>\n",
              "      <td>185773</td>\n",
              "    </tr>\n",
              "    <tr>\n",
              "      <th>2</th>\n",
              "      <td>FL</td>\n",
              "      <td>153855</td>\n",
              "    </tr>\n",
              "    <tr>\n",
              "      <th>3</th>\n",
              "      <td>NC</td>\n",
              "      <td>87388</td>\n",
              "    </tr>\n",
              "    <tr>\n",
              "      <th>4</th>\n",
              "      <td>LA</td>\n",
              "      <td>42082</td>\n",
              "    </tr>\n",
              "    <tr>\n",
              "      <th>5</th>\n",
              "      <td>MN</td>\n",
              "      <td>39636</td>\n",
              "    </tr>\n",
              "    <tr>\n",
              "      <th>6</th>\n",
              "      <td>TN</td>\n",
              "      <td>36091</td>\n",
              "    </tr>\n",
              "    <tr>\n",
              "      <th>7</th>\n",
              "      <td>NY</td>\n",
              "      <td>35349</td>\n",
              "    </tr>\n",
              "    <tr>\n",
              "      <th>8</th>\n",
              "      <td>AZ</td>\n",
              "      <td>34701</td>\n",
              "    </tr>\n",
              "    <tr>\n",
              "      <th>9</th>\n",
              "      <td>GA</td>\n",
              "      <td>34131</td>\n",
              "    </tr>\n",
              "  </tbody>\n",
              "</table>\n",
              "</div>"
            ],
            "text/plain": [
              "  State   Count\n",
              "0    CA  293209\n",
              "1    TX  185773\n",
              "2    FL  153855\n",
              "3    NC   87388\n",
              "4    LA   42082\n",
              "5    MN   39636\n",
              "6    TN   36091\n",
              "7    NY   35349\n",
              "8    AZ   34701\n",
              "9    GA   34131"
            ]
          },
          "metadata": {},
          "execution_count": 26
        }
      ]
    },
    {
      "cell_type": "code",
      "metadata": {
        "colab": {
          "base_uri": "https://localhost:8080/",
          "height": 457
        },
        "id": "3gtVi2bJQ86x",
        "outputId": "ea1344ce-a854-4f76-ed1d-e658a8d353d7"
      },
      "source": [
        "plt.figure(figsize= (15,7))\n",
        "plt.barh(dftopstate.State, dftopstate.Count)\n",
        "plt.xlabel('Number of Accidents')\n",
        "plt.ylabel('States')\n",
        "plt.title('Top 10 States which incoprates top cities by number of accidents')\n",
        "plt.grid(True)\n",
        "plt.show()"
      ],
      "execution_count": 27,
      "outputs": [
        {
          "output_type": "display_data",
          "data": {
            "image/png": "[encoded data removed]",
            "text/plain": [
              "<Figure size 1080x504 with 1 Axes>"
            ]
          },
          "metadata": {}
        }
      ]
    },
    {
      "cell_type": "markdown",
      "metadata": {
        "id": "23vI2-8iIUui"
      },
      "source": [
        "### Start Time"
      ]
    },
    {
      "cell_type": "markdown",
      "metadata": {
        "id": "N-U5Hkp8W8AS"
      },
      "source": [
        "Analysis by the time at which the accident occured."
      ]
    },
    {
      "cell_type": "code",
      "metadata": {
        "colab": {
          "base_uri": "https://localhost:8080/"
        },
        "id": "juz0_WHIILWU",
        "outputId": "7bdf64fb-d3eb-472b-deb3-19ef56712b30"
      },
      "source": [
        "df.Start_Time"
      ],
      "execution_count": 28,
      "outputs": [
        {
          "output_type": "execute_result",
          "data": {
            "text/plain": [
              "0          2019-05-21 08:29:55\n",
              "1          2019-10-07 17:43:09\n",
              "2          2020-12-13 21:53:00\n",
              "3          2018-04-17 16:51:23\n",
              "4          2016-08-31 17:40:49\n",
              "                  ...         \n",
              "2906605    2018-06-28 08:49:01\n",
              "2906606    2019-01-10 02:01:01\n",
              "2906607    2020-11-23 12:52:00\n",
              "2906608    2019-12-29 22:38:00\n",
              "2906609    2018-03-26 13:35:03\n",
              "Name: Start_Time, Length: 2906610, dtype: object"
            ]
          },
          "metadata": {},
          "execution_count": 28
        }
      ]
    },
    {
      "cell_type": "markdown",
      "metadata": {
        "id": "QoQqx_tYXXaz"
      },
      "source": [
        "Changing the Start_time data type to datetime data type for further analysis"
      ]
    },
    {
      "cell_type": "code",
      "metadata": {
        "id": "a7R3_lA2ILTc"
      },
      "source": [
        "df.Start_Time = pd.to_datetime(df.Start_Time)"
      ],
      "execution_count": 29,
      "outputs": []
    },
    {
      "cell_type": "markdown",
      "metadata": {
        "id": "Ir0pHVurKpNe"
      },
      "source": [
        "- Figure out how to show percentages"
      ]
    },
    {
      "cell_type": "markdown",
      "metadata": {
        "id": "0L-rniX0ZGcX"
      },
      "source": [
        "Visualising accident occurance in a hourly basis."
      ]
    },
    {
      "cell_type": "code",
      "metadata": {
        "colab": {
          "base_uri": "https://localhost:8080/",
          "height": 353
        },
        "id": "V_XF4vTdHeHb",
        "outputId": "cecf7572-bad7-4fef-cdc3-ae632a77df18"
      },
      "source": [
        "sns.distplot(df.Start_Time.dt.hour, bins=24, kde=False, norm_hist=True)"
      ],
      "execution_count": 30,
      "outputs": [
        {
          "output_type": "stream",
          "text": [
            "/usr/local/lib/python3.7/dist-packages/seaborn/distributions.py:2557: FutureWarning: `distplot` is a deprecated function and will be removed in a future version. Please adapt your code to use either `displot` (a figure-level function with similar flexibility) or `histplot` (an axes-level function for histograms).\n",
            "  warnings.warn(msg, FutureWarning)\n"
          ],
          "name": "stderr"
        },
        {
          "output_type": "execute_result",
          "data": {
            "text/plain": [
              "<matplotlib.axes._subplots.AxesSubplot at 0x7f5d6d9942d0>"
            ]
          },
          "metadata": {},
          "execution_count": 30
        },
        {
          "output_type": "display_data",
          "data": {
            "image/png": "[encoded data removed]",
            "text/plain": [
              "<Figure size 432x288 with 1 Axes>"
            ]
          },
          "metadata": {}
        }
      ]
    },
    {
      "cell_type": "markdown",
      "metadata": {
        "id": "i6RsW8PZK1nY"
      },
      "source": [
        "- A high percentage of accidents occur between 6 am to 10 am (probably people are in a hurry to get to work)\n",
        "- Next higest percentage is 3 pm to 6 pm."
      ]
    },
    {
      "cell_type": "markdown",
      "metadata": {
        "id": "IpN8fVyOZ1sJ"
      },
      "source": [
        "Visualising accident occurance on each day in a weekly basis."
      ]
    },
    {
      "cell_type": "code",
      "metadata": {
        "colab": {
          "base_uri": "https://localhost:8080/",
          "height": 353
        },
        "id": "adct6zrOJS4j",
        "outputId": "78fa6fe4-2d10-4de0-8c36-bece69aeba8f"
      },
      "source": [
        "sns.distplot(df.Start_Time.dt.dayofweek, bins=7, kde=False, norm_hist=True)"
      ],
      "execution_count": 31,
      "outputs": [
        {
          "output_type": "stream",
          "text": [
            "/usr/local/lib/python3.7/dist-packages/seaborn/distributions.py:2557: FutureWarning: `distplot` is a deprecated function and will be removed in a future version. Please adapt your code to use either `displot` (a figure-level function with similar flexibility) or `histplot` (an axes-level function for histograms).\n",
            "  warnings.warn(msg, FutureWarning)\n"
          ],
          "name": "stderr"
        },
        {
          "output_type": "execute_result",
          "data": {
            "text/plain": [
              "<matplotlib.axes._subplots.AxesSubplot at 0x7f5d6d93a3d0>"
            ]
          },
          "metadata": {},
          "execution_count": 31
        },
        {
          "output_type": "display_data",
          "data": {
            "image/png": "[encoded data removed]",
            "text/plain": [
              "<Figure size 432x288 with 1 Axes>"
            ]
          },
          "metadata": {}
        }
      ]
    },
    {
      "cell_type": "markdown",
      "metadata": {
        "id": "aQ50kcMiaYDD"
      },
      "source": [
        "Accidents occurance are high in weekdays and are less on weekends(Saturday & Sunday) "
      ]
    },
    {
      "cell_type": "markdown",
      "metadata": {
        "id": "xIMI1CEeL_vs"
      },
      "source": [
        "Is the distribution of accidents by hour the same on weekends as on weekdays."
      ]
    },
    {
      "cell_type": "code",
      "metadata": {
        "colab": {
          "base_uri": "https://localhost:8080/",
          "height": 353
        },
        "id": "BJiZUABzJS16",
        "outputId": "26ce421e-7e85-4264-b447-66e10912f555"
      },
      "source": [
        "sundays_start_time = df.Start_Time[df.Start_Time.dt.dayofweek == 6]\n",
        "sns.distplot(sundays_start_time.dt.hour, bins=24, kde=False, norm_hist=True)"
      ],
      "execution_count": 32,
      "outputs": [
        {
          "output_type": "stream",
          "text": [
            "/usr/local/lib/python3.7/dist-packages/seaborn/distributions.py:2557: FutureWarning: `distplot` is a deprecated function and will be removed in a future version. Please adapt your code to use either `displot` (a figure-level function with similar flexibility) or `histplot` (an axes-level function for histograms).\n",
            "  warnings.warn(msg, FutureWarning)\n"
          ],
          "name": "stderr"
        },
        {
          "output_type": "execute_result",
          "data": {
            "text/plain": [
              "<matplotlib.axes._subplots.AxesSubplot at 0x7f5d6d8a1990>"
            ]
          },
          "metadata": {},
          "execution_count": 32
        },
        {
          "output_type": "display_data",
          "data": {
            "image/png": "[encoded data removed]",
            "text/plain": [
              "<Figure size 432x288 with 1 Axes>"
            ]
          },
          "metadata": {}
        }
      ]
    },
    {
      "cell_type": "code",
      "metadata": {
        "colab": {
          "base_uri": "https://localhost:8080/",
          "height": 353
        },
        "id": "q4AEgnRKEAMS",
        "outputId": "d318eb0f-cd3c-4020-a730-9e5d1d6ed03c"
      },
      "source": [
        "monday_start_time = df.Start_Time[df.Start_Time.dt.dayofweek == 0]\n",
        "sns.distplot(monday_start_time.dt.hour, bins=24, kde=False, norm_hist=True)"
      ],
      "execution_count": 33,
      "outputs": [
        {
          "output_type": "stream",
          "text": [
            "/usr/local/lib/python3.7/dist-packages/seaborn/distributions.py:2557: FutureWarning: `distplot` is a deprecated function and will be removed in a future version. Please adapt your code to use either `displot` (a figure-level function with similar flexibility) or `histplot` (an axes-level function for histograms).\n",
            "  warnings.warn(msg, FutureWarning)\n"
          ],
          "name": "stderr"
        },
        {
          "output_type": "execute_result",
          "data": {
            "text/plain": [
              "<matplotlib.axes._subplots.AxesSubplot at 0x7f5d6d852290>"
            ]
          },
          "metadata": {},
          "execution_count": 33
        },
        {
          "output_type": "display_data",
          "data": {
            "image/png": "[encoded data removed]",
            "text/plain": [
              "<Figure size 432x288 with 1 Axes>"
            ]
          },
          "metadata": {}
        }
      ]
    },
    {
      "cell_type": "markdown",
      "metadata": {
        "id": "JwEdvO-oMt6h"
      },
      "source": [
        "On Sundays, the peak occurs between 10 am and 3 pm, unlike weekdays"
      ]
    },
    {
      "cell_type": "code",
      "metadata": {
        "colab": {
          "base_uri": "https://localhost:8080/",
          "height": 353
        },
        "id": "QDl-kmzffhyz",
        "outputId": "25972a24-c26e-4948-d631-18b038358d09"
      },
      "source": [
        "sns.distplot(df.Start_Time.dt.month, bins=12, kde=False, norm_hist=True)"
      ],
      "execution_count": 34,
      "outputs": [
        {
          "output_type": "stream",
          "text": [
            "/usr/local/lib/python3.7/dist-packages/seaborn/distributions.py:2557: FutureWarning: `distplot` is a deprecated function and will be removed in a future version. Please adapt your code to use either `displot` (a figure-level function with similar flexibility) or `histplot` (an axes-level function for histograms).\n",
            "  warnings.warn(msg, FutureWarning)\n"
          ],
          "name": "stderr"
        },
        {
          "output_type": "execute_result",
          "data": {
            "text/plain": [
              "<matplotlib.axes._subplots.AxesSubplot at 0x7f5d6d779cd0>"
            ]
          },
          "metadata": {},
          "execution_count": 34
        },
        {
          "output_type": "display_data",
          "data": {
            "image/png": "[encoded data removed]",
            "text/plain": [
              "<Figure size 432x288 with 1 Axes>"
            ]
          },
          "metadata": {}
        }
      ]
    },
    {
      "cell_type": "markdown",
      "metadata": {
        "id": "b9su1m7_fscj"
      },
      "source": [
        "It seems that occurance of accidents is high during winter season when compared to other seasons.\n",
        "Lets verify the same that do accidents occure frequenntly during winter season every year."
      ]
    },
    {
      "cell_type": "code",
      "metadata": {
        "colab": {
          "base_uri": "https://localhost:8080/",
          "height": 353
        },
        "id": "lo9x_4SFhWKw",
        "outputId": "7dbecd5f-c60c-4caa-f837-93eed4fa16ac"
      },
      "source": [
        "df_year = df[df.Start_Time.dt.year == 2016]\n",
        "sns.distplot(df_year.Start_Time.dt.month, bins=12, kde=False, norm_hist=True)"
      ],
      "execution_count": 35,
      "outputs": [
        {
          "output_type": "stream",
          "text": [
            "/usr/local/lib/python3.7/dist-packages/seaborn/distributions.py:2557: FutureWarning: `distplot` is a deprecated function and will be removed in a future version. Please adapt your code to use either `displot` (a figure-level function with similar flexibility) or `histplot` (an axes-level function for histograms).\n",
            "  warnings.warn(msg, FutureWarning)\n"
          ],
          "name": "stderr"
        },
        {
          "output_type": "execute_result",
          "data": {
            "text/plain": [
              "<matplotlib.axes._subplots.AxesSubplot at 0x7f5d6d88f5d0>"
            ]
          },
          "metadata": {},
          "execution_count": 35
        },
        {
          "output_type": "display_data",
          "data": {
            "image/png": "[encoded data removed]",
            "text/plain": [
              "<Figure size 432x288 with 1 Axes>"
            ]
          },
          "metadata": {}
        }
      ]
    },
    {
      "cell_type": "code",
      "metadata": {
        "colab": {
          "base_uri": "https://localhost:8080/",
          "height": 353
        },
        "id": "cWvSLU-5hiy6",
        "outputId": "888bfd18-35a4-42d1-8ed3-75730b9b0669"
      },
      "source": [
        "df_year = df[df.Start_Time.dt.year == 2017]\n",
        "sns.distplot(df_year.Start_Time.dt.month, bins=12, kde=False, norm_hist=True)"
      ],
      "execution_count": 36,
      "outputs": [
        {
          "output_type": "stream",
          "text": [
            "/usr/local/lib/python3.7/dist-packages/seaborn/distributions.py:2557: FutureWarning: `distplot` is a deprecated function and will be removed in a future version. Please adapt your code to use either `displot` (a figure-level function with similar flexibility) or `histplot` (an axes-level function for histograms).\n",
            "  warnings.warn(msg, FutureWarning)\n"
          ],
          "name": "stderr"
        },
        {
          "output_type": "execute_result",
          "data": {
            "text/plain": [
              "<matplotlib.axes._subplots.AxesSubplot at 0x7f5d6da0f4d0>"
            ]
          },
          "metadata": {},
          "execution_count": 36
        },
        {
          "output_type": "display_data",
          "data": {
            "image/png": "[encoded data removed]",
            "text/plain": [
              "<Figure size 432x288 with 1 Axes>"
            ]
          },
          "metadata": {}
        }
      ]
    },
    {
      "cell_type": "code",
      "metadata": {
        "colab": {
          "base_uri": "https://localhost:8080/",
          "height": 353
        },
        "id": "-KUQ1wX-hm-W",
        "outputId": "74c7f244-2681-4941-e82d-08f191e7074c"
      },
      "source": [
        "df_year = df[df.Start_Time.dt.year == 2018]\n",
        "sns.distplot(df_year.Start_Time.dt.month, bins=12, kde=False, norm_hist=True)"
      ],
      "execution_count": 37,
      "outputs": [
        {
          "output_type": "stream",
          "text": [
            "/usr/local/lib/python3.7/dist-packages/seaborn/distributions.py:2557: FutureWarning: `distplot` is a deprecated function and will be removed in a future version. Please adapt your code to use either `displot` (a figure-level function with similar flexibility) or `histplot` (an axes-level function for histograms).\n",
            "  warnings.warn(msg, FutureWarning)\n"
          ],
          "name": "stderr"
        },
        {
          "output_type": "execute_result",
          "data": {
            "text/plain": [
              "<matplotlib.axes._subplots.AxesSubplot at 0x7f5d6db746d0>"
            ]
          },
          "metadata": {},
          "execution_count": 37
        },
        {
          "output_type": "display_data",
          "data": {
            "image/png": "[encoded data removed]",
            "text/plain": [
              "<Figure size 432x288 with 1 Axes>"
            ]
          },
          "metadata": {}
        }
      ]
    },
    {
      "cell_type": "code",
      "metadata": {
        "colab": {
          "base_uri": "https://localhost:8080/",
          "height": 355
        },
        "id": "Yz57mPfEhqIT",
        "outputId": "1fa49853-9597-4e70-8281-710a7f4ccd36"
      },
      "source": [
        "df_year = df[df.Start_Time.dt.year == 2019]\n",
        "sns.distplot(df_year.Start_Time.dt.month, bins=12, kde=False, norm_hist=True)"
      ],
      "execution_count": 38,
      "outputs": [
        {
          "output_type": "stream",
          "text": [
            "/usr/local/lib/python3.7/dist-packages/seaborn/distributions.py:2557: FutureWarning: `distplot` is a deprecated function and will be removed in a future version. Please adapt your code to use either `displot` (a figure-level function with similar flexibility) or `histplot` (an axes-level function for histograms).\n",
            "  warnings.warn(msg, FutureWarning)\n"
          ],
          "name": "stderr"
        },
        {
          "output_type": "execute_result",
          "data": {
            "text/plain": [
              "<matplotlib.axes._subplots.AxesSubplot at 0x7f5d6d65a210>"
            ]
          },
          "metadata": {},
          "execution_count": 38
        },
        {
          "output_type": "display_data",
          "data": {
            "image/png": "[encoded data removed]",
            "text/plain": [
              "<Figure size 432x288 with 1 Axes>"
            ]
          },
          "metadata": {}
        }
      ]
    },
    {
      "cell_type": "markdown",
      "metadata": {
        "id": "YxQaq9wchtfY"
      },
      "source": [
        "when driling down the data to each year we can see that our Hypothesis was False. It seems that data collection is started from 2016 and there may be some missing data during the start which may be the reason for the skewness."
      ]
    },
    {
      "cell_type": "markdown",
      "metadata": {
        "id": "uxJ8j-L3Pips"
      },
      "source": [
        "### Start Latitude & Longitude\n"
      ]
    },
    {
      "cell_type": "code",
      "metadata": {
        "colab": {
          "base_uri": "https://localhost:8080/"
        },
        "id": "SaHT2yIhPhqs",
        "outputId": "ffebceff-a289-46d2-b70c-9bffec7d3718"
      },
      "source": [
        "df.Start_Lat"
      ],
      "execution_count": 39,
      "outputs": [
        {
          "output_type": "execute_result",
          "data": {
            "text/plain": [
              "0          34.808868\n",
              "1          35.090080\n",
              "2          37.145730\n",
              "3          39.110390\n",
              "4          26.102942\n",
              "             ...    \n",
              "2906605    29.813824\n",
              "2906606    34.068890\n",
              "2906607    25.702200\n",
              "2906608    40.660140\n",
              "2906609    38.831749\n",
              "Name: Start_Lat, Length: 2906610, dtype: float64"
            ]
          },
          "metadata": {},
          "execution_count": 39
        }
      ]
    },
    {
      "cell_type": "code",
      "metadata": {
        "colab": {
          "base_uri": "https://localhost:8080/"
        },
        "id": "OACwujEyPhn_",
        "outputId": "51e0a75d-0b91-424d-9ade-96274c15d466"
      },
      "source": [
        "df.Start_Lng"
      ],
      "execution_count": 40,
      "outputs": [
        {
          "output_type": "execute_result",
          "data": {
            "text/plain": [
              "0          -82.269157\n",
              "1          -80.745560\n",
              "2         -121.985052\n",
              "3         -119.773781\n",
              "4          -80.265091\n",
              "              ...    \n",
              "2906605    -95.399437\n",
              "2906606   -117.342010\n",
              "2906607    -80.335556\n",
              "2906608   -111.952460\n",
              "2906609   -104.748161\n",
              "Name: Start_Lng, Length: 2906610, dtype: float64"
            ]
          },
          "metadata": {},
          "execution_count": 40
        }
      ]
    },
    {
      "cell_type": "code",
      "metadata": {
        "id": "4tEvL_RQPhlq"
      },
      "source": [
        "sample_df = df.sample(int(0.1 * len(df)))"
      ],
      "execution_count": 41,
      "outputs": []
    },
    {
      "cell_type": "code",
      "metadata": {
        "colab": {
          "base_uri": "https://localhost:8080/",
          "height": 300
        },
        "id": "gkh8yL4UPhi-",
        "outputId": "e52a5c73-c521-438d-fd8d-2e0eab8cfbe6"
      },
      "source": [
        "sns.scatterplot(x=sample_df.Start_Lng, y=sample_df.Start_Lat, size=0.001)"
      ],
      "execution_count": 42,
      "outputs": [
        {
          "output_type": "execute_result",
          "data": {
            "text/plain": [
              "<matplotlib.axes._subplots.AxesSubplot at 0x7f5d6d6fc590>"
            ]
          },
          "metadata": {},
          "execution_count": 42
        },
        {
          "output_type": "display_data",
          "data": {
            "image/png": "[encoded data removed]",
            "text/plain": [
              "<Figure size 432x288 with 1 Axes>"
            ]
          },
          "metadata": {}
        }
      ]
    },
    {
      "cell_type": "code",
      "metadata": {
        "id": "2b_dBVyR7EHl"
      },
      "source": [
        "import folium"
      ],
      "execution_count": 44,
      "outputs": []
    },
    {
      "cell_type": "code",
      "metadata": {
        "colab": {
          "base_uri": "https://localhost:8080/"
        },
        "id": "vuLp9BOxRLci",
        "outputId": "e937926f-6381-4efa-a5a6-afdea3fc8130"
      },
      "source": [
        "lat, lon = df.Start_Lat[0], df.Start_Lng[0]\n",
        "lat, lon"
      ],
      "execution_count": 45,
      "outputs": [
        {
          "output_type": "execute_result",
          "data": {
            "text/plain": [
              "(34.808868, -82.26915699999998)"
            ]
          },
          "metadata": {},
          "execution_count": 45
        }
      ]
    },
    {
      "cell_type": "code",
      "metadata": {
        "colab": {
          "base_uri": "https://localhost:8080/"
        },
        "id": "Y8ZNqcFVRt81",
        "outputId": "c7f523fd-2a12-4da8-becf-4817607a7e0d"
      },
      "source": [
        "for x in df[['Start_Lat', 'Start_Lng']].sample(100).iteritems():\n",
        "    print(x[1])"
      ],
      "execution_count": 46,
      "outputs": [
        {
          "output_type": "stream",
          "text": [
            "2871299    33.945318\n",
            "1386616    36.799465\n",
            "1064106    34.850285\n",
            "2257479    33.564804\n",
            "1297474    40.846039\n",
            "             ...    \n",
            "1937590    34.383720\n",
            "1293852    32.918407\n",
            "918360     24.854875\n",
            "2743447    33.928480\n",
            "1019212    45.538242\n",
            "Name: Start_Lat, Length: 100, dtype: float64\n",
            "2871299   -118.094398\n",
            "1386616   -121.664040\n",
            "1064106   -117.086121\n",
            "2257479    -81.936768\n",
            "1297474   -111.914963\n",
            "              ...    \n",
            "1937590   -118.568140\n",
            "1293852    -96.766235\n",
            "918360     -80.731292\n",
            "2743447   -118.289320\n",
            "1019212   -122.669631\n",
            "Name: Start_Lng, Length: 100, dtype: float64\n"
          ],
          "name": "stdout"
        }
      ]
    },
    {
      "cell_type": "code",
      "metadata": {
        "colab": {
          "base_uri": "https://localhost:8080/"
        },
        "id": "d1vWEMf-Sxeq",
        "outputId": "8f91d2fa-6a85-430e-f853-450884ebda00"
      },
      "source": [
        "zip(list(df.Start_Lat), list(df.Start_Lng))"
      ],
      "execution_count": 47,
      "outputs": [
        {
          "output_type": "execute_result",
          "data": {
            "text/plain": [
              "<zip at 0x7f5d6bffc870>"
            ]
          },
          "metadata": {},
          "execution_count": 47
        }
      ]
    },
    {
      "cell_type": "code",
      "metadata": {
        "id": "ODtfSEc6TN7B"
      },
      "source": [
        "from folium.plugins import HeatMap"
      ],
      "execution_count": 48,
      "outputs": []
    },
    {
      "cell_type": "code",
      "metadata": {
        "id": "vDG1zJnzTbW2"
      },
      "source": [
        "sample_df = df.sample(int(0.001 * len(df)))\n",
        "lat_lon_pairs = list(zip(list(sample_df.Start_Lat), list(sample_df.Start_Lng)))"
      ],
      "execution_count": 49,
      "outputs": []
    },
    {
      "cell_type": "code",
      "metadata": {
        "colab": {
          "base_uri": "https://localhost:8080/",
          "height": 854
        },
        "id": "hJ2mH2FiQ8Wf",
        "outputId": "e9b2ebbb-dd92-4b53-9c3f-9caa0bdaed12"
      },
      "source": [
        "map = folium.Map(location=[37.0902, -95.7129], zoom_start=5)\n",
        "HeatMap(lat_lon_pairs).add_to(map)\n",
        "map"
      ],
      "execution_count": 50,
      "outputs": [
        {
          "output_type": "execute_result",
          "data": {
            "text/html": [
              "<div style=\"width:100%;\"><div style=\"position:relative;width:100%;height:0;padding-bottom:60%;\"><span style=\"color:#565656\">Make this Notebook Trusted to load map: File -> Trust Notebook</span><iframe src=\"about:blank\" style=\"position:absolute;width:100%;height:100%;left:0;top:0;border:none !important;\" data-html=%3C%21DOCTYPE%20html%3E%0A%3Chead%3E%20%20%20%20%0A%20%20%20%20%3Cmeta%20http-equiv%3D%22content-type%22%20content%3D%22text/html%3B%20charset%3DUTF-8%22%20/%3E%0A%20%20%20%20%3Cscript%3EL_PREFER_CANVAS%3Dfalse%3B%20L_NO_TOUCH%3Dfalse%3B%20L_DISABLE_3D%3Dfalse%3B%3C/script%3E%0A%20%20%20%20%3Cscript%20src%3D%22https%3A//cdn.jsdelivr.net/npm/leaflet%401.4.0/dist/leaflet.js%22%3E%3C/script%3E%0A%20%20%20%20%3Cscript%20src%3D%22https%3A//code.jquery.com/jquery-1.12.4.min.js%22%3E%3C/script%3E%0A%20%20%20%20%3Cscript%20src%3D%22https%3A//maxcdn.bootstrapcdn.com/bootstrap/3.2.0/js/bootstrap.min.js%22%3E%3C/script%3E%0A%20%20%20%20%3Cscript%20src%3D%22https%3A//cdnjs.cloudflare.com/ajax/libs/Leaflet.awesome-markers/2.0.2/leaflet.awesome-markers.js%22%3E%3C/script%3E%0A%20%20%20%20%3Clink%20rel%3D%22stylesheet%22%20href%3D%22https%3A//cdn.jsdelivr.net/npm/leaflet%401.4.0/dist/leaflet.css%22/%3E%0A%20%20%20%20%3Clink%20rel%3D%22stylesheet%22%20href%3D%22https%3A//maxcdn.bootstrapcdn.com/bootstrap/3.2.0/css/bootstrap.min.css%22/%3E%0A%20%20%20%20%3Clink%20rel%3D%22stylesheet%22%20href%3D%22https%3A//maxcdn.bootstrapcdn.com/bootstrap/3.2.0/css/bootstrap-theme.min.css%22/%3E%0A%20%20%20%20%3Clink%20rel%3D%22stylesheet%22%20href%3D%22https%3A//maxcdn.bootstrapcdn.com/font-awesome/4.6.3/css/font-awesome.min.css%22/%3E%0A%20%20%20%20%3Clink%20rel%3D%22stylesheet%22%20href%3D%22https%3A//cdnjs.cloudflare.com/ajax/libs/Leaflet.awesome-markers/2.0.2/leaflet.awesome-markers.css%22/%3E%0A%20%20%20%20%3Clink%20rel%3D%22stylesheet%22%20href%3D%22https%3A//rawcdn.githack.com/python-visualization/folium/master/folium/templates/leaflet.awesome.rotate.css%22/%3E%0A%20%20%20%20%3Cstyle%3Ehtml%2C%20body%20%7Bwidth%3A%20100%25%3Bheight%3A%20100%25%3Bmargin%3A%200%3Bpadding%3A%200%3B%7D%3C/style%3E%0A%20%20%20%20%3Cstyle%3E%23map%20%7Bposition%3Aabsolute%3Btop%3A0%3Bbottom%3A0%3Bright%3A0%3Bleft%3A0%3B%7D%3C/style%3E%0A%20%20%20%20%0A%20%20%20%20%3Cmeta%20name%3D%22viewport%22%20content%3D%22width%3Ddevice-width%2C%0A%20%20%20%20%20%20%20%20initial-scale%3D1.0%2C%20maximum-scale%3D1.0%2C%20user-scalable%3Dno%22%20/%3E%0A%20%20%20%20%3Cstyle%3E%23map_ece990c6236646d3835263f73e1a6e14%20%7B%0A%20%20%20%20%20%20%20%20position%3A%20relative%3B%0A%20%20%20%20%20%20%20%20width%3A%20100.0%25%3B%0A%20%20%20%20%20%20%20%20height%3A%20100.0%25%3B%0A%20%20%20%20%20%20%20%20left%3A%200.0%25%3B%0A%20%20%20%20%20%20%20%20top%3A%200.0%25%3B%0A%20%20%20%20%20%20%20%20%7D%0A%20%20%20%20%3C/style%3E%0A%20%20%20%20%3Cscript%20src%3D%22https%3A//leaflet.github.io/Leaflet.heat/dist/leaflet-heat.js%22%3E%3C/script%3E%0A%3C/head%3E%0A%3Cbody%3E%20%20%20%20%0A%20%20%20%20%0A%20%20%20%20%3Cdiv%20class%3D%22folium-map%22%20id%3D%22map_ece990c6236646d3835263f73e1a6e14%22%20%3E%3C/div%3E%0A%3C/body%3E%0A%3Cscript%3E%20%20%20%20%0A%20%20%20%20%0A%20%20%20%20%0A%20%20%20%20%20%20%20%20var%20bounds%20%3D%20null%3B%0A%20%20%20%20%0A%0A%20%20%20%20var%20map_ece990c6236646d3835263f73e1a6e14%20%3D%20L.map%28%0A%20%20%20%20%20%20%20%20%27map_ece990c6236646d3835263f73e1a6e14%27%2C%20%7B%0A%20%20%20%20%20%20%20%20center%3A%20%5B37.0902%2C%20-95.7129%5D%2C%0A%20%20%20%20%20%20%20%20zoom%3A%205%2C%0A%20%20%20%20%20%20%20%20maxBounds%3A%20bounds%2C%0A%20%20%20%20%20%20%20%20layers%3A%20%5B%5D%2C%0A%20%20%20%20%20%20%20%20worldCopyJump%3A%20false%2C%0A%20%20%20%20%20%20%20%20crs%3A%20L.CRS.EPSG3857%2C%0A%20%20%20%20%20%20%20%20zoomControl%3A%20true%2C%0A%20%20%20%20%20%20%20%20%7D%29%3B%0A%0A%0A%20%20%20%20%0A%20%20%20%20var%20tile_layer_c65a9abcfa804356a61736a3f1a65ae4%20%3D%20L.tileLayer%28%0A%20%20%20%20%20%20%20%20%27https%3A//%7Bs%7D.tile.openstreetmap.org/%7Bz%7D/%7Bx%7D/%7By%7D.png%27%2C%0A%20%20%20%20%20%20%20%20%7B%0A%20%20%20%20%20%20%20%20%22attribution%22%3A%20null%2C%0A%20%20%20%20%20%20%20%20%22detectRetina%22%3A%20false%2C%0A%20%20%20%20%20%20%20%20%22maxNativeZoom%22%3A%2018%2C%0A%20%20%20%20%20%20%20%20%22maxZoom%22%3A%2018%2C%0A%20%20%20%20%20%20%20%20%22minZoom%22%3A%200%2C%0A%20%20%20%20%20%20%20%20%22noWrap%22%3A%20false%2C%0A%20%20%20%20%20%20%20%20%22opacity%22%3A%201%2C%0A%20%20%20%20%20%20%20%20%22subdomains%22%3A%20%22abc%22%2C%0A%20%20%20%20%20%20%20%20%22tms%22%3A%20false%0A%7D%29.addTo%28map_ece990c6236646d3835263f73e1a6e14%29%3B%0A%20%20%20%20%0A%20%20%20%20%20%20%20%20%20%20%20%20var%20heat_map_94413b292c67456caab879b980e62831%20%3D%20L.heatLayer%28%0A%20%20%20%20%20%20%20%20%20%20%20%20%20%20%20%20%5B%5B33.960781%2C%20-80.987473%5D%2C%20%5B39.805233%2C%20-104.939674%5D%2C%20%5B45.00051%2C%20-93.20602%5D%2C%20%5B33.893943%2C%20-118.046985%5D%2C%20%5B38.640599%2C%20-121.477432%5D%2C%20%5B35.070644%2C%20-81.761772%5D%2C%20%5B33.385953%2C%20-111.83486200000002%5D%2C%20%5B43.156731%2C%20-77.601028%5D%2C%20%5B34.053486%2C%20-118.232406%5D%2C%20%5B30.561003000000003%2C%20-91.068405%5D%2C%20%5B34.037817%2C%20-118.27961%5D%2C%20%5B40.453693%2C%20-78.409832%5D%2C%20%5B30.167008000000006%2C%20-81.562725%5D%2C%20%5B30.314578000000004%2C%20-81.668233%5D%2C%20%5B42.3838%2C%20-83.17837%5D%2C%20%5B38.61841%2C%20-90.26416%5D%2C%20%5B42.338104%2C%20-88.043696%5D%2C%20%5B32.939262%2C%20-80.04731%5D%2C%20%5B32.67716%2C%20-97.3203%5D%2C%20%5B43.765829%2C%20-91.424778%5D%2C%20%5B37.42528%2C%20-122.09804%5D%2C%20%5B33.937979%2C%20-118.094583%5D%2C%20%5B38.295671%2C%20-120.285582%5D%2C%20%5B34.445912%2C%20-118.614324%5D%2C%20%5B26.086777%2C%20-80.364281%5D%2C%20%5B40.420853%2C%20-123.17453%5D%2C%20%5B42.52988%2C%20-83.75407%5D%2C%20%5B40.15306500000001%2C%20-76.160584%5D%2C%20%5B26.36801%2C%20-80.18655%5D%2C%20%5B34.06871%2C%20-80.91776%5D%2C%20%5B34.08611%2C%20-118.23207%5D%2C%20%5B34.071117%2C%20-117.761215%5D%2C%20%5B39.03907%2C%20-94.672882%5D%2C%20%5B33.82925%2C%20-117.52769%5D%2C%20%5B28.449932%2C%20-81.470863%5D%2C%20%5B33.429245%2C%20-86.70858%5D%2C%20%5B34.264984000000005%2C%20-79.73164399999997%5D%2C%20%5B30.337084%2C%20-97.695297%5D%2C%20%5B32.838553000000005%2C%20-97.054091%5D%2C%20%5B37.808498%2C%20-122.366852%5D%2C%20%5B30.551920000000006%2C%20-86.10645%5D%2C%20%5B30.464729%2C%20-91.174294%5D%2C%20%5B34.029089%2C%20-118.445786%5D%2C%20%5B42.418091%2C%20-83.087936%5D%2C%20%5B34.068946999999994%2C%20-118.04273700000002%5D%2C%20%5B34.115852000000004%2C%20-117.52092%5D%2C%20%5B33.85607%2C%20-118.01493%5D%2C%20%5B39.665218%2C%20-86.111069%5D%2C%20%5B48.857914%2C%20-122.587502%5D%2C%20%5B33.915806%2C%20-117.557198%5D%2C%20%5B36.07521%2C%20-120.09908%5D%2C%20%5B40.671665%2C%20-122.882742%5D%2C%20%5B39.969719%2C%20-76.277611%5D%2C%20%5B33.686732%2C%20-117.872668%5D%2C%20%5B40.70059000000001%2C%20-111.95291%5D%2C%20%5B35.27512%2C%20-80.936989%5D%2C%20%5B35.477496%2C%20-117.959451%5D%2C%20%5B39.646042%2C%20-106.311553%5D%2C%20%5B34.68769%2C%20-111.74394%5D%2C%20%5B33.963159999999995%2C%20-118.28106%5D%2C%20%5B42.384106%2C%20-71.048245%5D%2C%20%5B38.52082%2C%20-77.37059%5D%2C%20%5B43.019291%2C%20-83.749092%5D%2C%20%5B31.78103%2C%20-106.46148%5D%2C%20%5B39.930462%2C%20-75.363129%5D%2C%20%5B38.25211%2C%20-104.609627%5D%2C%20%5B35.2869%2C%20-120.663132%5D%2C%20%5B33.912326%2C%20-118.326598%5D%2C%20%5B30.2006%2C%20-97.878319%5D%2C%20%5B35.401581%2C%20-80.69839499999998%5D%2C%20%5B40.721397%2C%20-73.394508%5D%2C%20%5B33.480473%2C%20-112.091377%5D%2C%20%5B30.233141%2C%20-97.765297%5D%2C%20%5B35.23561%2C%20-80.85425%5D%2C%20%5B44.16668%2C%20-93.94899%5D%2C%20%5B33.415443%2C%20-117.603447%5D%2C%20%5B39.637749%2C%20-104.828888%5D%2C%20%5B32.735058%2C%20-96.824043%5D%2C%20%5B26.547684000000004%2C%20-81.78012199999998%5D%2C%20%5B35.82542%2C%20-78.62152900000002%5D%2C%20%5B38.844233%2C%20-77.43871%5D%2C%20%5B33.820949%2C%20-84.42279599999998%5D%2C%20%5B37.773453%2C%20-79.993271%5D%2C%20%5B33.910839%2C%20-81.1642%5D%2C%20%5B47.658409000000006%2C%20-117.320411%5D%2C%20%5B45.50592%2C%20-122.68085%5D%2C%20%5B30.306775%2C%20-97.617966%5D%2C%20%5B40.725071%2C%20-73.556976%5D%2C%20%5B44.82317000000001%2C%20-93.39842%5D%2C%20%5B28.891304%2C%20-82.548569%5D%2C%20%5B44.05151400000001%2C%20-123.050056%5D%2C%20%5B35.30131%2C%20-80.87817%5D%2C%20%5B45.53933%2C%20-122.67039%5D%2C%20%5B32.206691%2C%20-110.787219%5D%2C%20%5B38.773926%2C%20-86.47494499999998%5D%2C%20%5B42.34663%2C%20-83.10943%5D%2C%20%5B37.981928%2C%20-120.306051%5D%2C%20%5B30.443195000000006%2C%20-91.088928%5D%2C%20%5B32.913006%2C%20-96.873245%5D%2C%20%5B30.292324%2C%20-97.663628%5D%2C%20%5B47.77453%2C%20-95.00484%5D%2C%20%5B32.327114%2C%20-86.264763%5D%2C%20%5B40.582546%2C%20-74.330055%5D%2C%20%5B41.930939%2C%20-88.750809%5D%2C%20%5B37.371501%2C%20-121.901978%5D%2C%20%5B42.9954%2C%20-77.36447%5D%2C%20%5B33.935502%2C%20-118.296245%5D%2C%20%5B39.21762%2C%20-84.44953000000002%5D%2C%20%5B38.77675%2C%20-90.34619%5D%2C%20%5B28.613837%2C%20-81.48087199999998%5D%2C%20%5B32.694931%2C%20-117.133797%5D%2C%20%5B27.446166%2C%20-82.483786%5D%2C%20%5B28.4519%2C%20-81.064522%5D%2C%20%5B37.789921%2C%20-122.394267%5D%2C%20%5B32.700169%2C%20-117.140945%5D%2C%20%5B43.020859%2C%20-83.70127099999998%5D%2C%20%5B45.80266%2C%20-119.38416%5D%2C%20%5B25.861453%2C%20-80.325632%5D%2C%20%5B38.053299%2C%20-120.621849%5D%2C%20%5B33.94583%2C%20-118.09412%5D%2C%20%5B28.35827%2C%20-81.487196%5D%2C%20%5B35.312386%2C%20-80.707634%5D%2C%20%5B41.513271%2C%20-73.048698%5D%2C%20%5B34.80115%2C%20-82.4269%5D%2C%20%5B31.806583000000003%2C%20-106.247163%5D%2C%20%5B30.521221%2C%20-87.313477%5D%2C%20%5B36.170834%2C%20-95.958199%5D%2C%20%5B34.826640999999995%2C%20-82.255661%5D%2C%20%5B33.63808%2C%20-111.89045%5D%2C%20%5B26.67491%2C%20-81.73201800000002%5D%2C%20%5B38.336338%2C%20-85.817688%5D%2C%20%5B41.42473%2C%20-81.57339%5D%2C%20%5B42.30561%2C%20-87.98456999999998%5D%2C%20%5B34.321412%2C%20-118.496747%5D%2C%20%5B29.610126%2C%20-98.472763%5D%2C%20%5B39.074542%2C%20-94.489239%5D%2C%20%5B30.41803%2C%20-91.112373%5D%2C%20%5B45.79659%2C%20-119.40196%5D%2C%20%5B27.96771%2C%20-82.5696%5D%2C%20%5B42.38513%2C%20-83.28224%5D%2C%20%5B37.455318%2C%20-121.923302%5D%2C%20%5B39.29233%2C%20-76.57333%5D%2C%20%5B34.111567%2C%20-118.247048%5D%2C%20%5B45.77342%2C%20-92.931362%5D%2C%20%5B32.822433000000004%2C%20-96.851318%5D%2C%20%5B25.99067%2C%20-80.16601999999997%5D%2C%20%5B35.001721999999994%2C%20-85.211017%5D%2C%20%5B47.645622%2C%20-122.325867%5D%2C%20%5B39.66814%2C%20-84.146149%5D%2C%20%5B42.214035%2C%20-71.5467%5D%2C%20%5B41.911827%2C%20-73.00968%5D%2C%20%5B41.092482%2C%20-73.930317%5D%2C%20%5B33.95328%2C%20-118.08998%5D%2C%20%5B33.992058%2C%20-118.247757%5D%2C%20%5B42.85458%2C%20-85.54238000000002%5D%2C%20%5B35.71182%2C%20-78.84279000000002%5D%2C%20%5B28.627516%2C%20-81.386711%5D%2C%20%5B34.029133%2C%20-117.755261%5D%2C%20%5B39.14053%2C%20-77.21279%5D%2C%20%5B40.75193%2C%20-73.61613%5D%2C%20%5B39.7813%2C%20-86.14102%5D%2C%20%5B39.18638%2C%20-104.85025%5D%2C%20%5B34.082081%2C%20-117.700249%5D%2C%20%5B42.10660900000001%2C%20-76.02117199999998%5D%2C%20%5B39.046481%2C%20-76.98686%5D%2C%20%5B31.800171%2C%20-106.293861%5D%2C%20%5B45.49748%2C%20-122.9023%5D%2C%20%5B40.852325%2C%20-74.04213%5D%2C%20%5B26.086777%2C%20-80.364281%5D%2C%20%5B40.188213%2C%20-75.19545%5D%2C%20%5B38.56390800000001%2C%20-121.636392%5D%2C%20%5B38.84008%2C%20-121.139587%5D%2C%20%5B38.799705%2C%20-77.204555%5D%2C%20%5B37.548862%2C%20-77.447342%5D%2C%20%5B38.741425%2C%20-77.189461%5D%2C%20%5B37.225848%2C%20-121.972244%5D%2C%20%5B32.752559999999995%2C%20-96.770897%5D%2C%20%5B42.19715%2C%20-88.01881999999998%5D%2C%20%5B33.7022%2C%20-84.08848%5D%2C%20%5B35.900405%2C%20-78.80136800000002%5D%2C%20%5B32.83706%2C%20-96.93541%5D%2C%20%5B47.67715%2C%20-122.32045%5D%2C%20%5B30.536013%2C%20-91.188301%5D%2C%20%5B33.81498%2C%20-117.87718999999998%5D%2C%20%5B37.558384%2C%20-77.467674%5D%2C%20%5B40.55678%2C%20-74.43477%5D%2C%20%5B28.023228000000003%2C%20-82.70899200000002%5D%2C%20%5B30.471352000000003%2C%20-91.098869%5D%2C%20%5B33.621876%2C%20-117.714363%5D%2C%20%5B38.26113%2C%20-85.73577%5D%2C%20%5B33.390781%2C%20-79.327217%5D%2C%20%5B44.99474%2C%20-93.08953%5D%2C%20%5B44.541512%2C%20-95.209343%5D%2C%20%5B33.31473%2C%20-111.89425%5D%2C%20%5B27.75193%2C%20-82.69971%5D%2C%20%5B41.386101%2C%20-73.600098%5D%2C%20%5B33.426029%2C%20-81.885948%5D%2C%20%5B40.72636%2C%20-74.54104%5D%2C%20%5B30.457371%2C%20-91.166168%5D%2C%20%5B32.94481%2C%20-97.03993%5D%2C%20%5B39.39908%2C%20-112.06128%5D%2C%20%5B31.7785%2C%20-106.392723%5D%2C%20%5B34.201389%2C%20-118.971667%5D%2C%20%5B40.667076%2C%20-73.995758%5D%2C%20%5B43.117077%2C%20-85.607323%5D%2C%20%5B38.481701%2C%20-121.390282%5D%2C%20%5B36.119267%2C%20-86.754745%5D%2C%20%5B36.085911%2C%20-86.700035%5D%2C%20%5B33.768440000000005%2C%20-84.49486%5D%2C%20%5B28.606606%2C%20-81.387587%5D%2C%20%5B43.17202800000001%2C%20-77.712907%5D%2C%20%5B38.05469%2C%20-122.69337%5D%2C%20%5B40.429601%2C%20-79.885981%5D%2C%20%5B34.272964%2C%20-118.563431%5D%2C%20%5B32.837589%2C%20-117.172173%5D%2C%20%5B34.066145%2C%20-117.509282%5D%2C%20%5B37.363461%2C%20-121.89728999999998%5D%2C%20%5B32.967541%2C%20-80.20134%5D%2C%20%5B43.66422%2C%20-123.37444%5D%2C%20%5B41.788635%2C%20-87.94706%5D%2C%20%5B41.333042%2C%20-81.441437%5D%2C%20%5B33.73283%2C%20-84.39194499999998%5D%2C%20%5B42.330338%2C%20-71.061356%5D%2C%20%5B40.641721%2C%20-74.206413%5D%2C%20%5B34.054078000000004%2C%20-118.237857%5D%2C%20%5B35.508389%2C%20-97.514809%5D%2C%20%5B33.777029%2C%20-117.830888%5D%2C%20%5B29.417839%2C%20-98.663132%5D%2C%20%5B42.77406%2C%20-73.69658000000003%5D%2C%20%5B40.72407000000001%2C%20-111.934642%5D%2C%20%5B39.28545%2C%20-76.74157%5D%2C%20%5B39.90515%2C%20-74.9858%5D%2C%20%5B33.458490000000005%2C%20-112.34115%5D%2C%20%5B39.37831%2C%20-76.7439%5D%2C%20%5B32.94062%2C%20-80.050674%5D%2C%20%5B34.663685%2C%20-81.927483%5D%2C%20%5B26.325%2C%20-80.11683000000002%5D%2C%20%5B35.32592%2C%20-80.94529%5D%2C%20%5B35.82459%2C%20-78.86383000000002%5D%2C%20%5B35.346869%2C%20-119.039429%5D%2C%20%5B36.0845%2C%20-86.727942%5D%2C%20%5B35.014747%2C%20-85.274752%5D%2C%20%5B34.027372%2C%20-117.800506%5D%2C%20%5B40.688986%2C%20-73.998956%5D%2C%20%5B35.222485%2C%20-80.847412%5D%2C%20%5B44.726421%2C%20-122.13553600000002%5D%2C%20%5B40.753129%2C%20-111.625825%5D%2C%20%5B35.146370000000005%2C%20-80.92514%5D%2C%20%5B34.37536%2C%20-118.56319%5D%2C%20%5B35.891529%2C%20-78.627165%5D%2C%20%5B34.775692%2C%20-82.276131%5D%2C%20%5B39.051349%2C%20-84.565438%5D%2C%20%5B44.95174%2C%20-93.16694%5D%2C%20%5B32.347561%2C%20-111.012993%5D%2C%20%5B45.510269%2C%20-92.993301%5D%2C%20%5B33.5289%2C%20-86.746864%5D%2C%20%5B45.079166%2C%20-93.18557%5D%2C%20%5B42.518894%2C%20-83.616478%5D%2C%20%5B29.74408%2C%20-95.363716%5D%2C%20%5B32.484966%2C%20-80.740181%5D%2C%20%5B36.971815%2C%20-121.553925%5D%2C%20%5B37.357584%2C%20-122.117865%5D%2C%20%5B40.837391%2C%20-73.920311%5D%2C%20%5B35.244324%2C%20-80.847916%5D%2C%20%5B35.003414%2C%20-82.418511%5D%2C%20%5B36.547329%2C%20-119.786163%5D%2C%20%5B35.223751%2C%20-80.839027%5D%2C%20%5B36.577679%2C%20-119.63073%5D%2C%20%5B38.248692%2C%20-122.667618%5D%2C%20%5B42.48746%2C%20-83.48286%5D%2C%20%5B33.877102%2C%20-118.104118%5D%2C%20%5B44.77546%2C%20-93.37838%5D%2C%20%5B34.026305%2C%20-118.144011%5D%2C%20%5B32.82125%2C%20-96.836374%5D%2C%20%5B34.08785%2C%20-117.302%5D%2C%20%5B39.34013%2C%20-105.85329%5D%2C%20%5B37.639648%2C%20-77.566528%5D%2C%20%5B36.046539%2C%20-86.68334200000002%5D%2C%20%5B34.838257%2C%20-81.970703%5D%2C%20%5B34.03344%2C%20-118.17898%5D%2C%20%5B45.442032%2C%20-122.747094%5D%2C%20%5B39.775311%2C%20-120.039162%5D%2C%20%5B34.146440000000005%2C%20-118.16187%5D%2C%20%5B31.664539%2C%20-89.159363%5D%2C%20%5B40.45259%2C%20-79.9497%5D%2C%20%5B43.236217%2C%20-77.62368000000002%5D%2C%20%5B30.317482%2C%20-81.73088100000002%5D%2C%20%5B35.393056%2C%20-119.044444%5D%2C%20%5B37.685895%2C%20-121.659319%5D%2C%20%5B40.095501%2C%20-75.326164%5D%2C%20%5B34.382912%2C%20-117.415565%5D%2C%20%5B38.25832%2C%20-122.064984%5D%2C%20%5B35.507683%2C%20-97.460304%5D%2C%20%5B42.236938%2C%20-88.112549%5D%2C%20%5B30.22286%2C%20-97.763962%5D%2C%20%5B34.426478%2C%20-117.468612%5D%2C%20%5B32.747997%2C%20-96.920563%5D%2C%20%5B42.40185%2C%20-122.93528%5D%2C%20%5B37.19923%2C%20-77.46065%5D%2C%20%5B29.795988%2C%20-95.16293%5D%2C%20%5B30.561954%2C%20-81.827502%5D%2C%20%5B47.565704%2C%20-122.09993%5D%2C%20%5B47.579544%2C%20-122.319277%5D%2C%20%5B29.678177%2C%20-95.493202%5D%2C%20%5B34.053776%2C%20-118.236839%5D%2C%20%5B26.009129%2C%20-80.2481%5D%2C%20%5B33.963654%2C%20-118.369827%5D%2C%20%5B32.913990000000005%2C%20-80.10767%5D%2C%20%5B47.959869%2C%20-122.121559%5D%2C%20%5B46.85815%2C%20-95.978928%5D%2C%20%5B33.92729%2C%20-118.26005%5D%2C%20%5B33.897202%2C%20-81.75948299999997%5D%2C%20%5B36.065361%2C%20-86.62198599999998%5D%2C%20%5B33.442352%2C%20-112.13456%5D%2C%20%5B36.413296%2C%20-94.216958%5D%2C%20%5B38.605809%2C%20-121.43281%5D%2C%20%5B37.58935200000001%2C%20-77.531784%5D%2C%20%5B39.007664%2C%20-94.694046%5D%2C%20%5B35.068195%2C%20-120.512794%5D%2C%20%5B38.223091%2C%20-122.257835%5D%2C%20%5B45.375552%2C%20-122.755131%5D%2C%20%5B30.44459%2C%20-84.2724%5D%2C%20%5B25.78447%2C%20-80.29346%5D%2C%20%5B28.087989%2C%20-82.46094000000002%5D%2C%20%5B33.871805%2C%20-117.544564%5D%2C%20%5B33.973835%2C%20-118.079979%5D%2C%20%5B36.035442%2C%20-86.63829799999998%5D%2C%20%5B39.00511%2C%20-77.08173000000002%5D%2C%20%5B39.958134%2C%20-76.68467700000002%5D%2C%20%5B34.384743%2C%20-119.389099%5D%2C%20%5B33.716812%2C%20-85.026077%5D%2C%20%5B34.406687%2C%20-118.755821%5D%2C%20%5B30.398061%2C%20-91.056335%5D%2C%20%5B40.096267%2C%20-74.74240400000002%5D%2C%20%5B37.670368%2C%20-122.102885%5D%2C%20%5B26.714672%2C%20-81.811287%5D%2C%20%5B37.178604%2C%20-121.995186%5D%2C%20%5B45.69764%2C%20-120.73195%5D%2C%20%5B40.878532%2C%20-73.869972%5D%2C%20%5B36.08255%2C%20-86.763947%5D%2C%20%5B37.366909%2C%20-77.40400600000002%5D%2C%20%5B44.951908%2C%20-93.166603%5D%2C%20%5B37.08422%2C%20-89.53596%5D%2C%20%5B36.300789%2C%20-86.69483199999998%5D%2C%20%5B34.063923%2C%20-117.268293%5D%2C%20%5B41.083115%2C%20-73.665405%5D%2C%20%5B42.3853%2C%20-83.292191%5D%2C%20%5B46.161515%2C%20-123.806865%5D%2C%20%5B38.490662%2C%20-122.883522%5D%2C%20%5B38.460214%2C%20-122.424098%5D%2C%20%5B33.37927%2C%20-111.72241%5D%2C%20%5B30.351879%2C%20-97.749641%5D%2C%20%5B29.736019%2C%20-95.613533%5D%2C%20%5B39.014816%2C%20-77.03264300000002%5D%2C%20%5B41.96876%2C%20-87.67918%5D%2C%20%5B27.954693%2C%20-82.537979%5D%2C%20%5B40.68374%2C%20-73.64399999999998%5D%2C%20%5B26.432213%2C%20-81.77793100000002%5D%2C%20%5B36.145538%2C%20-95.992287%5D%2C%20%5B45.140614%2C%20-93.496063%5D%2C%20%5B45.387428%2C%20-122.578185%5D%2C%20%5B35.00403%2C%20-85.396315%5D%2C%20%5B42.405117%2C%20-71.107933%5D%2C%20%5B40.68665%2C%20-111.900162%5D%2C%20%5B40.75993%2C%20-73.70371999999998%5D%2C%20%5B39.027765%2C%20-76.962743%5D%2C%20%5B33.854%2C%20-117.94634%5D%2C%20%5B34.082256%2C%20-117.698196%5D%2C%20%5B39.098316%2C%20-121.634499%5D%2C%20%5B46.099173%2C%20-123.065965%5D%2C%20%5B30.19301%2C%20-97.778847%5D%2C%20%5B28.51286%2C%20-81.37631%5D%2C%20%5B29.74172%2C%20-95.36463%5D%2C%20%5B38.80188%2C%20-77.110138%5D%2C%20%5B36.137756%2C%20-120.156395%5D%2C%20%5B35.114216%2C%20-81.529816%5D%2C%20%5B39.757371%2C%20-105.009998%5D%2C%20%5B39.503391%2C%20-94.786552%5D%2C%20%5B39.38711%2C%20-76.52724%5D%2C%20%5B35.189056%2C%20-80.695122%5D%2C%20%5B33.442162%2C%20-86.73037%5D%2C%20%5B47.945213%2C%20-122.197418%5D%2C%20%5B28.485668%2C%20-81.41736%5D%2C%20%5B39.186134%2C%20-78.1371%5D%2C%20%5B47.468951%2C%20-122.803049%5D%2C%20%5B33.873173%2C%20-118.266052%5D%2C%20%5B42.43058%2C%20-122.92042%5D%2C%20%5B35.458528%2C%20-97.491148%5D%2C%20%5B34.782146000000004%2C%20-82.473839%5D%2C%20%5B43.06992%2C%20-75.600769%5D%2C%20%5B28.47238%2C%20-82.61670699999998%5D%2C%20%5B36.260996%2C%20-120.247964%5D%2C%20%5B43.03574%2C%20-87.93379%5D%2C%20%5B43.881146%2C%20-123.013459%5D%2C%20%5B37.743958%2C%20-122.405594%5D%2C%20%5B40.66466%2C%20-111.90151000000002%5D%2C%20%5B37.98992%2C%20-122.52869%5D%2C%20%5B47.19212%2C%20-122.22941000000002%5D%2C%20%5B32.79575%2C%20-96.6922%5D%2C%20%5B37.495205%2C%20-121.951996%5D%2C%20%5B30.190861%2C%20-97.771622%5D%2C%20%5B34.665599%2C%20-120.110279%5D%2C%20%5B37.531803%2C%20-121.9403%5D%2C%20%5B45.780579%2C%20-123.345228%5D%2C%20%5B42.30595%2C%20-87.95966%5D%2C%20%5B34.155646999999995%2C%20-118.445305%5D%2C%20%5B40.23394%2C%20-75.617462%5D%2C%20%5B47.590649%2C%20-122.337387%5D%2C%20%5B43.0331%2C%20-83.625534%5D%2C%20%5B34.098523%2C%20-117.871147%5D%2C%20%5B36.134306%2C%20-86.726731%5D%2C%20%5B37.30098%2C%20-121.814949%5D%2C%20%5B41.971542%2C%20-88.17276%5D%2C%20%5B27.852102%2C%20-82.346649%5D%2C%20%5B46.45314000000001%2C%20-94.02714%5D%2C%20%5B27.95593%2C%20-82.46595%5D%2C%20%5B28.539148%2C%20-81.285774%5D%2C%20%5B34.594933000000005%2C%20-79.110336%5D%2C%20%5B36.982841%2C%20-121.964333%5D%2C%20%5B27.111048%2C%20-82.348629%5D%2C%20%5B38.745087%2C%20-121.271317%5D%2C%20%5B29.902763%2C%20-95.311058%5D%2C%20%5B36.982384%2C%20-113.645668%5D%2C%20%5B31.75897%2C%20-106.355759%5D%2C%20%5B25.684325%2C%20-80.41642900000002%5D%2C%20%5B46.920714%2C%20-95.154585%5D%2C%20%5B40.5042%2C%20-74.398849%5D%2C%20%5B42.461452%2C%20-83.106087%5D%2C%20%5B31.77751%2C%20-106.430837%5D%2C%20%5B40.810158%2C%20-74.180717%5D%2C%20%5B27.99341%2C%20-82.45359%5D%2C%20%5B34.221199%2C%20-118.473267%5D%2C%20%5B38.513921%2C%20-122.457846%5D%2C%20%5B33.912209999999995%2C%20-117.28432%5D%2C%20%5B39.009606%2C%20-94.356477%5D%2C%20%5B30.588909%2C%20-88.22489200000003%5D%2C%20%5B28.24976%2C%20-82.698799%5D%2C%20%5B30.204334000000006%2C%20-97.670219%5D%2C%20%5B29.902794%2C%20-95.551804%5D%2C%20%5B29.689341%2C%20-95.557533%5D%2C%20%5B28.088091%2C%20-82.453812%5D%2C%20%5B39.025379%2C%20-121.634758%5D%2C%20%5B47.300362%2C%20-122.18031299999998%5D%2C%20%5B35.574145%2C%20-119.614905%5D%2C%20%5B32.28934%2C%20-111.02507%5D%2C%20%5B30.413902%2C%20-97.677521%5D%2C%20%5B33.63991%2C%20-84.45473%5D%2C%20%5B29.837629%2C%20-95.356956%5D%2C%20%5B28.853792%2C%20-81.060748%5D%2C%20%5B36.327281%2C%20-119.60094%5D%2C%20%5B33.981008%2C%20-117.340892%5D%2C%20%5B25.684549%2C%20-80.441139%5D%2C%20%5B37.62923%2C%20-77.539215%5D%2C%20%5B47.75758%2C%20-122.16913999999998%5D%2C%20%5B39.18162%2C%20-108.28164%5D%2C%20%5B36.19668%2C%20-86.74226%5D%2C%20%5B45.14549%2C%20-122.88658999999998%5D%2C%20%5B33.45012%2C%20-112.78152%5D%2C%20%5B32.86175%2C%20-117.18745%5D%2C%20%5B32.677215999999994%2C%20-97.062149%5D%2C%20%5B41.309963%2C%20-74.125656%5D%2C%20%5B34.030393%2C%20-117.619599%5D%2C%20%5B27.99578%2C%20-82.45413%5D%2C%20%5B33.803384%2C%20-117.902677%5D%2C%20%5B38.998353%2C%20-77.289676%5D%2C%20%5B33.134547999999995%2C%20-117.329231%5D%2C%20%5B39.680502%2C%20-105.02504%5D%2C%20%5B39.065563%2C%20-77.469162%5D%2C%20%5B25.92582%2C%20-80.20699%5D%2C%20%5B30.336716%2C%20-97.602516%5D%2C%20%5B37.808361%2C%20-122.241493%5D%2C%20%5B38.967953%2C%20-94.358223%5D%2C%20%5B33.14905%2C%20-117.33447%5D%2C%20%5B29.73177%2C%20-95.34211%5D%2C%20%5B32.938618%2C%20-96.90255%5D%2C%20%5B33.781212%2C%20-117.830917%5D%2C%20%5B34.294983%2C%20-92.141089%5D%2C%20%5B40.107212%2C%20-75.176872%5D%2C%20%5B42.592091%2C%20-114.688541%5D%2C%20%5B41.06271%2C%20-73.86224399999998%5D%2C%20%5B36.06147%2C%20-115.14608%5D%2C%20%5B39.735091%2C%20-86.26438%5D%2C%20%5B38.875252%2C%20-76.97483100000002%5D%2C%20%5B38.858135%2C%20-77.84431500000002%5D%2C%20%5B33.854015999999994%2C%20-117.915862%5D%2C%20%5B26.808901%2C%20-80.131101%5D%2C%20%5B32.692919%2C%20-117.121649%5D%2C%20%5B42.662798%2C%20-73.82929399999998%5D%2C%20%5B37.40894%2C%20-77.43415%5D%2C%20%5B34.174240000000005%2C%20-79.834373%5D%2C%20%5B42.53151%2C%20-70.95204%5D%2C%20%5B37.76955%2C%20-122.220985%5D%2C%20%5B33.651936%2C%20-78.984474%5D%2C%20%5B40.98864%2C%20-73.8405%5D%2C%20%5B40.014957%2C%20-82.901566%5D%2C%20%5B39.120544%2C%20-77.200766%5D%2C%20%5B33.871723%2C%20-78.672989%5D%2C%20%5B42.451576%2C%20-73.64701099999998%5D%2C%20%5B33.94852%2C%20-118.27976%5D%2C%20%5B32.767159%2C%20-96.836603%5D%2C%20%5B33.776905%2C%20-117.487156%5D%2C%20%5B32.768944%2C%20-96.622589%5D%2C%20%5B29.9356%2C%20-95.529175%5D%2C%20%5B28.014206%2C%20-82.736389%5D%2C%20%5B30.34881%2C%20-97.554871%5D%2C%20%5B40.063519%2C%20-75.13574200000002%5D%2C%20%5B31.200809000000003%2C%20-85.43408199999998%5D%2C%20%5B30.572903000000004%2C%20-84.20607%5D%2C%20%5B29.459828%2C%20-98.481134%5D%2C%20%5B41.87115900000001%2C%20-88.194778%5D%2C%20%5B43.22823%2C%20-123.362823%5D%2C%20%5B37.124119%2C%20-122.121899%5D%2C%20%5B33.860809%2C%20-117.537476%5D%2C%20%5B43.597387%2C%20-116.29598%5D%2C%20%5B39.130005%2C%20-94.498787%5D%2C%20%5B30.714225%2C%20-85.188182%5D%2C%20%5B34.817708%2C%20-118.884761%5D%2C%20%5B34.764244%2C%20-111.656647%5D%2C%20%5B40.825624%2C%20-73.862882%5D%2C%20%5B33.249916%2C%20-87.134567%5D%2C%20%5B35.83712%2C%20-78.61326600000002%5D%2C%20%5B33.510071%2C%20-82.098846%5D%2C%20%5B34.068657%2C%20-118.042221%5D%2C%20%5B43.103882%2C%20-77.581161%5D%2C%20%5B33.487869%2C%20-112.012939%5D%2C%20%5B33.938233000000004%2C%20-118.22697%5D%2C%20%5B43.0869%2C%20-76.09042%5D%2C%20%5B33.94068%2C%20-117.26747%5D%2C%20%5B32.744196%2C%20-96.768058%5D%2C%20%5B29.509785%2C%20-98.397896%5D%2C%20%5B34.18097%2C%20-118.314012%5D%2C%20%5B40.28648%2C%20-75.59873%5D%2C%20%5B32.779802000000004%2C%20-117.096376%5D%2C%20%5B35.85509099999999%2C%20-78.58107%5D%2C%20%5B34.083897%2C%20-118.385529%5D%2C%20%5B45.54656%2C%20-122.71079%5D%2C%20%5B41.919819%2C%20-87.957207%5D%2C%20%5B33.885357%2C%20-79.04863%5D%2C%20%5B28.613771000000003%2C%20-81.487487%5D%2C%20%5B34.119821%2C%20-117.838627%5D%2C%20%5B40.748592%2C%20-73.615143%5D%2C%20%5B38.705841%2C%20-121.3269%5D%2C%20%5B39.78395%2C%20-105.0284%5D%2C%20%5B34.27683%2C%20-88.5653%5D%2C%20%5B43.24658%2C%20-89.3754%5D%2C%20%5B33.868718%2C%20-117.757202%5D%2C%20%5B40.7904%2C%20-74.073287%5D%2C%20%5B38.557659%2C%20-122.452339%5D%2C%20%5B35.21394%2C%20-80.83093000000002%5D%2C%20%5B37.71151%2C%20-122.39583%5D%2C%20%5B37.56852%2C%20-122.31162%5D%2C%20%5B40.919161%2C%20-122.398547%5D%2C%20%5B36.136297%2C%20-86.69901800000002%5D%2C%20%5B35.864929%2C%20-78.598213%5D%2C%20%5B26.50849%2C%20-81.971977%5D%2C%20%5B38.790342%2C%20-77.448274%5D%2C%20%5B40.56412%2C%20-111.89942%5D%2C%20%5B33.415001000000004%2C%20-112.170341%5D%2C%20%5B35.784%2C%20-78.700424%5D%2C%20%5B35.47883200000001%2C%20-97.531952%5D%2C%20%5B38.134199%2C%20-121.25763700000002%5D%2C%20%5B33.387147%2C%20-117.174853%5D%2C%20%5B41.75127%2C%20-87.99971%5D%2C%20%5B39.842335%2C%20-86.12075%5D%2C%20%5B29.754854%2C%20-95.33493%5D%2C%20%5B35.180077000000004%2C%20-80.886864%5D%2C%20%5B32.22893%2C%20-110.88382%5D%2C%20%5B38.388573%2C%20-122.713577%5D%2C%20%5B30.248201%2C%20-97.690666%5D%2C%20%5B29.833588%2C%20-95.330666%5D%2C%20%5B42.542583%2C%20-71.283684%5D%2C%20%5B40.66315%2C%20-74.28673%5D%2C%20%5B40.991669%2C%20-73.807823%5D%2C%20%5B34.163909999999994%2C%20-118.83432%5D%2C%20%5B33.876305%2C%20-118.096519%5D%2C%20%5B33.247370000000004%2C%20-84.277974%5D%2C%20%5B36.002762%2C%20-79.854713%5D%2C%20%5B36.12694000000001%2C%20-80.07021999999998%5D%2C%20%5B32.718123%2C%20-117.110451%5D%2C%20%5B34.552052%2C%20-118.670517%5D%2C%20%5B30.433119%2C%20-81.579353%5D%2C%20%5B47.629912%2C%20-122.327108%5D%2C%20%5B42.415902%2C%20-123.003636%5D%2C%20%5B34.16545%2C%20-118.47915%5D%2C%20%5B39.97724%2C%20-75.19991%5D%2C%20%5B26.682652%2C%20-81.901634%5D%2C%20%5B33.91738%2C%20-118.104797%5D%2C%20%5B40.839657%2C%20-73.929466%5D%2C%20%5B42.488117%2C%20-88.095512%5D%2C%20%5B35.407579%2C%20-118.859633%5D%2C%20%5B35.263615%2C%20-81.088249%5D%2C%20%5B38.532293%2C%20-77.358427%5D%2C%20%5B32.805511%2C%20-96.795921%5D%2C%20%5B37.4911%2C%20-122.21863%5D%2C%20%5B33.609402%2C%20-117.70002%5D%2C%20%5B37.702682%2C%20-121.740646%5D%2C%20%5B38.66556%2C%20-121.350493%5D%2C%20%5B39.899681%2C%20-75.17465200000002%5D%2C%20%5B35.33150999999999%2C%20-97.49008%5D%2C%20%5B30.433996%2C%20-97.769409%5D%2C%20%5B36.138672%2C%20-85.266914%5D%2C%20%5B26.9643%2C%20-82.07434%5D%2C%20%5B42.50228%2C%20-71.1084%5D%2C%20%5B32.287612%2C%20-110.99507%5D%2C%20%5B27.974220000000006%2C%20-82.285912%5D%2C%20%5B26.392832%2C%20-80.095291%5D%2C%20%5B43.06225%2C%20-76.21670999999998%5D%2C%20%5B33.984287%2C%20-117.842697%5D%2C%20%5B32.815872%2C%20-117.222816%5D%2C%20%5B32.5453%2C%20-93.800827%5D%2C%20%5B34.29501%2C%20-119.161308%5D%2C%20%5B30.329111%2C%20-98.019981%5D%2C%20%5B38.48166%2C%20-121.40876000000002%5D%2C%20%5B39.07182%2C%20-84.51913%5D%2C%20%5B25.761066%2C%20-80.411978%5D%2C%20%5B37.232353%2C%20-77.395821%5D%2C%20%5B41.5325%2C%20-80.71325%5D%2C%20%5B30.280029%2C%20-97.743378%5D%2C%20%5B40.180904%2C%20-75.087479%5D%2C%20%5B33.949703%2C%20-118.170532%5D%2C%20%5B34.106359999999995%2C%20-80.82476%5D%2C%20%5B41.74324%2C%20-72.734589%5D%2C%20%5B29.93915%2C%20-95.29467%5D%2C%20%5B37.863935%2C%20-122.302816%5D%2C%20%5B37.37417%2C%20-121.96052%5D%2C%20%5B40.926572%2C%20-73.812578%5D%2C%20%5B34.745159%2C%20-80.448921%5D%2C%20%5B38.82536%2C%20-104.78053%5D%2C%20%5B34.13097%2C%20-118.34943%5D%2C%20%5B40.56928%2C%20-105.00151%5D%2C%20%5B47.84537%2C%20-122.25841%5D%2C%20%5B37.657519%2C%20-120.774125%5D%2C%20%5B32.195339000000004%2C%20-81.24700899999998%5D%2C%20%5B38.214462%2C%20-84.53499599999998%5D%2C%20%5B29.965940000000003%2C%20-95.422935%5D%2C%20%5B45.507286%2C%20-122.719719%5D%2C%20%5B33.46145%2C%20-112.274079%5D%2C%20%5B25.688012%2C%20-80.384015%5D%2C%20%5B39.522999%2C%20-104.867493%5D%2C%20%5B42.922684%2C%20-83.681007%5D%2C%20%5B47.799538%2C%20-122.314308%5D%2C%20%5B35.798336%2C%20-78.48739599999998%5D%2C%20%5B34.01894%2C%20-118.150345%5D%2C%20%5B30.33465%2C%20-81.67000999999998%5D%2C%20%5B34.98052%2C%20-105.06934%5D%2C%20%5B40.86573%2C%20-73.37198000000002%5D%2C%20%5B43.15714000000001%2C%20-77.6064%5D%2C%20%5B43.000889%2C%20-83.69326%5D%2C%20%5B29.261409000000004%2C%20-81.117435%5D%2C%20%5B43.049175%2C%20-88.225616%5D%2C%20%5B41.926471%2C%20-91.618458%5D%2C%20%5B29.65639%2C%20-95.25378%5D%2C%20%5B35.23059%2C%20-80.84698%5D%2C%20%5B42.681163%2C%20-84.24363699999998%5D%2C%20%5B41.539154%2C%20-73.771378%5D%2C%20%5B37.51696%2C%20-77.45039399999997%5D%2C%20%5B25.76106%2C%20-80.406472%5D%2C%20%5B26.350828000000003%2C%20-80.117874%5D%2C%20%5B39.779732%2C%20-104.976257%5D%2C%20%5B42.39792%2C%20-82.98566%5D%2C%20%5B28.407494%2C%20-81.47731800000003%5D%2C%20%5B41.148987%2C%20-111.968323%5D%2C%20%5B40.07883%2C%20-74.74996999999998%5D%2C%20%5B37.995591%2C%20-121.780403%5D%2C%20%5B39.153883%2C%20-120.146046%5D%2C%20%5B33.931019%2C%20-118.31778%5D%2C%20%5B41.29858%2C%20-73.905831%5D%2C%20%5B42.885796%2C%20-83.697174%5D%2C%20%5B34.9989%2C%20-78.86433000000002%5D%2C%20%5B39.934677%2C%20-74.965767%5D%2C%20%5B37.542854%2C%20-122.286232%5D%2C%20%5B47.695843%2C%20-122.31758899999998%5D%2C%20%5B38.288716%2C%20-77.50862%5D%2C%20%5B25.845273%2C%20-80.327721%5D%2C%20%5B41.714624%2C%20-87.634477%5D%2C%20%5B38.13248400000001%2C%20-77.511208%5D%2C%20%5B35.056534%2C%20-81.679016%5D%2C%20%5B47.03618%2C%20-122.87777%5D%2C%20%5B41.176311%2C%20-96.138916%5D%2C%20%5B47.594028%2C%20-122.31018799999998%5D%2C%20%5B35.521637%2C%20-97.5765%5D%2C%20%5B37.375502%2C%20-120.503148%5D%2C%20%5B45.221024%2C%20-93.600565%5D%2C%20%5B25.87447%2C%20-80.242773%5D%2C%20%5B33.520222%2C%20-112.203117%5D%2C%20%5B39.269569%2C%20-76.63356%5D%2C%20%5B38.24647%2C%20-122.42168%5D%2C%20%5B39.385662%2C%20-76.804916%5D%2C%20%5B33.989853000000004%2C%20-117.983047%5D%2C%20%5B30.439508%2C%20-91.195875%5D%2C%20%5B28.507792%2C%20-81.239835%5D%2C%20%5B33.927409999999995%2C%20-117.2886%5D%2C%20%5B33.638283%2C%20-117.28128%5D%2C%20%5B37.901941%2C%20-122.07045%5D%2C%20%5B25.684676%2C%20-80.387136%5D%2C%20%5B42.55907%2C%20-82.85944%5D%2C%20%5B28.59783%2C%20-81.20787%5D%2C%20%5B32.76474%2C%20-97.31688%5D%2C%20%5B39.77483%2C%20-75.814697%5D%2C%20%5B46.7485%2C%20-92.14654%5D%2C%20%5B43.687208%2C%20-91.537324%5D%2C%20%5B30.498443%2C%20-91.128502%5D%2C%20%5B41.259632%2C%20-96.015388%5D%2C%20%5B40.80769%2C%20-74.18255%5D%2C%20%5B28.468746000000003%2C%20-81.45858%5D%2C%20%5B38.988972%2C%20-94.466591%5D%2C%20%5B26.084133%2C%20-80.19783000000002%5D%2C%20%5B40.84174%2C%20-78.132736%5D%2C%20%5B40.260895%2C%20-104.79187%5D%2C%20%5B26.76417%2C%20-80.09335%5D%2C%20%5B38.06738%2C%20-85.6998%5D%2C%20%5B33.936344%2C%20-118.031698%5D%2C%20%5B39.05651%2C%20-84.54286%5D%2C%20%5B43.14809%2C%20-77.60234%5D%2C%20%5B32.720989%2C%20-97.062408%5D%2C%20%5B47.561649%2C%20-122.310486%5D%2C%20%5B34.170799%2C%20-118.605888%5D%2C%20%5B45.48004%2C%20-122.681998%5D%2C%20%5B44.110243%2C%20-122.662272%5D%2C%20%5B41.83286%2C%20-87.92868%5D%2C%20%5B32.658581%2C%20-96.591019%5D%2C%20%5B39.805462%2C%20-75.45129399999998%5D%2C%20%5B28.560015000000003%2C%20-81.379829%5D%2C%20%5B31.57985%2C%20-84.10973800000002%5D%2C%20%5B40.602612%2C%20-74.065414%5D%2C%20%5B39.990868%2C%20-85.924454%5D%2C%20%5B34.506709%2C%20-117.468762%5D%2C%20%5B33.376542%2C%20-117.227773%5D%2C%20%5B33.469986%2C%20-117.136713%5D%2C%20%5B39.186081%2C%20-85.930458%5D%2C%20%5B37.4757%2C%20-121.932526%5D%2C%20%5B35.642647%2C%20-80.48028599999998%5D%2C%20%5B32.96072%2C%20-79.839241%5D%2C%20%5B31.86017%2C%20-106.434464%5D%2C%20%5B35.478851%2C%20-97.63665%5D%2C%20%5B41.50986500000001%2C%20-74.074226%5D%2C%20%5B37.25886%2C%20-77.39931999999997%5D%2C%20%5B35.821465%2C%20-78.62898299999998%5D%2C%20%5B32.1333%2C%20-110.96146%5D%2C%20%5B25.747258%2C%20-80.303534%5D%2C%20%5B32.786541%2C%20-96.805244%5D%2C%20%5B38.728039%2C%20-119.555267%5D%2C%20%5B44.718061%2C%20-84.700443%5D%2C%20%5B25.72815%2C%20-80.31854%5D%2C%20%5B25.862358%2C%20-80.208129%5D%2C%20%5B39.04757%2C%20-84.45373000000002%5D%2C%20%5B43.869405%2C%20-116.782726%5D%2C%20%5B32.466328000000004%2C%20-86.450859%5D%2C%20%5B38.89618%2C%20-121.9811%5D%2C%20%5B33.837027%2C%20-117.305069%5D%2C%20%5B38.850349%2C%20-94.821614%5D%2C%20%5B29.515329%2C%20-98.49926%5D%2C%20%5B39.93668%2C%20-91.381027%5D%2C%20%5B37.43664%2C%20-121.91969%5D%2C%20%5B41.093%2C%20-111.99448%5D%2C%20%5B29.783490000000004%2C%20-95.47476%5D%2C%20%5B36.13018%2C%20-95.8597%5D%2C%20%5B37.34897%2C%20-122.0598%5D%2C%20%5B41.04839000000001%2C%20-73.80608000000002%5D%2C%20%5B33.349266%2C%20-80.68309%5D%2C%20%5B25.97053%2C%20-80.16575999999998%5D%2C%20%5B37.945354%2C%20-122.058334%5D%2C%20%5B33.957489%2C%20-86.463989%5D%2C%20%5B41.68556%2C%20-87.66197%5D%2C%20%5B34.265862%2C%20-118.4674%5D%2C%20%5B34.071647%2C%20-118.108106%5D%2C%20%5B33.378189%2C%20-111.986992%5D%2C%20%5B41.38433%2C%20-73.16377%5D%2C%20%5B32.599297%2C%20-80.806383%5D%2C%20%5B30.704544%2C%20-85.956956%5D%2C%20%5B43.930539%2C%20-124.107144%5D%2C%20%5B37.448731%2C%20-120.797104%5D%2C%20%5B40.180639%2C%20-75.13340500000002%5D%2C%20%5B37.94516%2C%20-91.87924%5D%2C%20%5B34.06544%2C%20-117.806725%5D%2C%20%5B41.26864000000001%2C%20-112.02804%5D%2C%20%5B35.798546%2C%20-78.562859%5D%2C%20%5B42.66066%2C%20-71.19284%5D%2C%20%5B25.686308%2C%20-80.41669%5D%2C%20%5B26.70618%2C%20-80.08229%5D%2C%20%5B45.480991%2C%20-122.57899%5D%2C%20%5B34.823902000000004%2C%20-82.291962%5D%2C%20%5B45.25074%2C%20-123.84811%5D%2C%20%5B34.226164000000004%2C%20-117.310738%5D%2C%20%5B35.769348%2C%20-78.638931%5D%2C%20%5B41.618423%2C%20-87.687057%5D%2C%20%5B40.74006%2C%20-73.78995%5D%2C%20%5B38.92954%2C%20-77.11654%5D%2C%20%5B30.499491%2C%20-91.160561%5D%2C%20%5B42.28146%2C%20-84.30046%5D%2C%20%5B33.192314%2C%20-87.249634%5D%2C%20%5B38.84670300000001%2C%20-77.43220500000002%5D%2C%20%5B45.53082%2C%20-122.83791%5D%2C%20%5B37.545635%2C%20-77.90941600000002%5D%2C%20%5B25.785609%2C%20-80.192052%5D%2C%20%5B38.832699%2C%20-104.830251%5D%2C%20%5B32.766039%2C%20-96.919031%5D%2C%20%5B29.432514%2C%20-98.499573%5D%2C%20%5B35.855324%2C%20-78.701538%5D%2C%20%5B33.845813%2C%20-117.278966%5D%2C%20%5B34.794784%2C%20-82.387129%5D%2C%20%5B30.728276%2C%20-85.901123%5D%2C%20%5B32.81372%2C%20-96.79028%5D%2C%20%5B47.57743%2C%20-122.33934%5D%2C%20%5B39.77108%2C%20-76.667564%5D%2C%20%5B33.652397%2C%20-117.760597%5D%2C%20%5B40.896755%2C%20-74.252937%5D%2C%20%5B47.620159%2C%20-122.296097%5D%2C%20%5B32.94267%2C%20-96.90371%5D%2C%20%5B33.956024%2C%20-118.109039%5D%2C%20%5B29.83272%2C%20-95.444801%5D%2C%20%5B37.555702%2C%20-122.002276%5D%2C%20%5B37.504585%2C%20-121.963821%5D%2C%20%5B41.83849%2C%20-87.9193%5D%2C%20%5B26.439639%2C%20-80.088175%5D%2C%20%5B37.310581%2C%20-122.277657%5D%2C%20%5B25.973288%2C%20-80.22983599999998%5D%2C%20%5B39.69437%2C%20-105.730156%5D%2C%20%5B37.744991%2C%20-122.148834%5D%2C%20%5B37.739849%2C%20-121.590294%5D%2C%20%5B41.94842%2C%20-87.72163%5D%2C%20%5B28.851612%2C%20-81.60153199999998%5D%2C%20%5B33.7789%2C%20-117.89531%5D%2C%20%5B34.012994%2C%20-81.075968%5D%2C%20%5B40.697643%2C%20-89.521812%5D%2C%20%5B38.464092%2C%20-122.726822%5D%2C%20%5B33.74349%2C%20-84.374794%5D%2C%20%5B32.810719%2C%20-96.921722%5D%2C%20%5B30.01667%2C%20-95.548065%5D%2C%20%5B34.070206%2C%20-117.864616%5D%2C%20%5B39.032567%2C%20-77.137659%5D%2C%20%5B38.893742%2C%20-77.050133%5D%2C%20%5B38.969212%2C%20-104.798676%5D%2C%20%5B32.44418%2C%20-93.857933%5D%2C%20%5B36.16998%2C%20-81.239991%5D%2C%20%5B34.126041%2C%20-81.228996%5D%2C%20%5B39.265343%2C%20-76.592567%5D%2C%20%5B40.80527%2C%20-73.93214%5D%2C%20%5B35.797844%2C%20-78.556564%5D%2C%20%5B33.870699%2C%20-117.70305%5D%2C%20%5B40.71772%2C%20-111.95335%5D%2C%20%5B28.477118%2C%20-81.446465%5D%2C%20%5B34.035914%2C%20-118.167538%5D%2C%20%5B40.50668%2C%20-111.8913%5D%2C%20%5B43.187317%2C%20-77.659317%5D%2C%20%5B35.238567%2C%20-80.919891%5D%2C%20%5B34.03611%2C%20-118.09287%5D%2C%20%5B40.689908%2C%20-111.95199%5D%2C%20%5B29.67244%2C%20-95.286209%5D%2C%20%5B39.523003%2C%20-104.867393%5D%2C%20%5B34.0247%2C%20-117.7365%5D%2C%20%5B29.463926%2C%20-81.524766%5D%2C%20%5B35.15105%2C%20-80.87634%5D%2C%20%5B36.156693%2C%20-96.019554%5D%2C%20%5B33.855446%2C%20-117.787003%5D%2C%20%5B28.57869%2C%20-81.374734%5D%2C%20%5B41.87101%2C%20-87.76894%5D%2C%20%5B39.082306%2C%20-77.482483%5D%2C%20%5B30.39382%2C%20-91.159752%5D%2C%20%5B34.977499%2C%20-82.194333%5D%2C%20%5B47.607258%2C%20-122.330215%5D%2C%20%5B29.96873%2C%20-90.03002%5D%2C%20%5B38.578604%2C%20-121.37013600000002%5D%2C%20%5B35.276488%2C%20-80.805757%5D%2C%20%5B34.807232%2C%20-86.94935600000002%5D%2C%20%5B36.604512%2C%20-119.48001%5D%2C%20%5B30.24902%2C%20-97.755287%5D%2C%20%5B35.0764%2C%20-89.93155%5D%2C%20%5B42.382355%2C%20-83.50993299999998%5D%2C%20%5B35.22991%2C%20-80.91863000000002%5D%2C%20%5B36.08287%2C%20-86.9532%5D%2C%20%5B37.812023%2C%20-121.99321%5D%2C%20%5B34.143986%2C%20-117.234961%5D%2C%20%5B33.889942%2C%20-84.462845%5D%2C%20%5B38.815411%2C%20-76.998512%5D%2C%20%5B39.02034%2C%20-76.9766%5D%2C%20%5B35.83540700000001%2C%20-78.669601%5D%2C%20%5B33.782207%2C%20-117.880775%5D%2C%20%5B41.12434%2C%20-73.703918%5D%2C%20%5B32.26115%2C%20-110.990852%5D%2C%20%5B38.02461%2C%20-121.36063%5D%2C%20%5B25.812416%2C%20-80.207138%5D%2C%20%5B29.71795%2C%20-95.31968%5D%2C%20%5B29.790005%2C%20-95.371902%5D%2C%20%5B33.82195%2C%20-118.20685%5D%2C%20%5B33.854437%2C%20-117.79064%5D%2C%20%5B42.319079%2C%20-87.87997299999998%5D%2C%20%5B33.949703%2C%20-118.170532%5D%2C%20%5B35.26318%2C%20-118.6259%5D%2C%20%5B42.931976%2C%20-85.663164%5D%2C%20%5B34.132464%2C%20-117.951128%5D%2C%20%5B33.689888%2C%20-117.768524%5D%2C%20%5B43.204552%2C%20-77.67182199999998%5D%2C%20%5B41.39809%2C%20-73.07006%5D%2C%20%5B37.763274%2C%20-121.336911%5D%2C%20%5B34.218774%2C%20-117.397419%5D%2C%20%5B48.076616%2C%20-122.184955%5D%2C%20%5B35.870597%2C%20-78.715339%5D%2C%20%5B32.620574%2C%20-117.09242%5D%2C%20%5B39.484238%2C%20-76.25153399999998%5D%2C%20%5B29.73641%2C%20-95.36839%5D%2C%20%5B39.20363%2C%20-76.63618000000002%5D%2C%20%5B47.90767%2C%20-122.21157%5D%2C%20%5B29.620958%2C%20-95.220832%5D%2C%20%5B42.648151%2C%20-71.299339%5D%2C%20%5B33.89564%2C%20-84.30462%5D%2C%20%5B42.34077%2C%20-88.0534%5D%2C%20%5B38.238117%2C%20-85.62429%5D%2C%20%5B39.00617%2C%20-76.89825%5D%2C%20%5B35.412322%2C%20-119.048586%5D%2C%20%5B33.930313%2C%20-118.36826299999998%5D%2C%20%5B40.80966%2C%20-73.90284%5D%2C%20%5B42.896729%2C%20-123.243974%5D%2C%20%5B47.644245%2C%20-122.301842%5D%2C%20%5B47.59055%2C%20-122.30434%5D%2C%20%5B32.658764%2C%20-117.075058%5D%2C%20%5B40.171482%2C%20-75.127865%5D%2C%20%5B33.284078%2C%20-111.831196%5D%2C%20%5B38.318195%2C%20-122.714302%5D%2C%20%5B42.94835%2C%20-88.1152%5D%2C%20%5B40.23552700000001%2C%20-75.27359399999997%5D%2C%20%5B42.153564%2C%20-87.988268%5D%2C%20%5B44.915623%2C%20-122.98877%5D%2C%20%5B37.44759000000001%2C%20-122.12151%5D%2C%20%5B33.020333%2C%20-80.12612%5D%2C%20%5B45.50067%2C%20-122.789189%5D%2C%20%5B34.038475%2C%20-117.550058%5D%2C%20%5B35.16303%2C%20-80.89846999999997%5D%2C%20%5B29.89083%2C%20-95.41199%5D%2C%20%5B38.801388%2C%20-77.519882%5D%2C%20%5B32.879051000000004%2C%20-79.93141899999998%5D%2C%20%5B47.230316%2C%20-122.451454%5D%2C%20%5B32.990614%2C%20-80.23097800000002%5D%2C%20%5B40.77969%2C%20-74.975533%5D%2C%20%5B34.12088%2C%20-117.828911%5D%2C%20%5B40.711952%2C%20-74.323837%5D%2C%20%5B37.7187%2C%20-121.66222%5D%2C%20%5B42.91478%2C%20-83.722847%5D%2C%20%5B33.065127000000004%2C%20-117.29211200000002%5D%2C%20%5B32.772115%2C%20-96.810387%5D%2C%20%5B40.73035%2C%20-74.044701%5D%2C%20%5B44.82569%2C%20-119.06838%5D%2C%20%5B37.70078%2C%20-122.02652%5D%2C%20%5B45.212982%2C%20-123.104144%5D%2C%20%5B39.88191%2C%20-104.98746%5D%2C%20%5B33.91087%2C%20-118.17601%5D%2C%20%5B45.00696%2C%20-93.4574%5D%2C%20%5B41.604969%2C%20-81.49221%5D%2C%20%5B33.9652%2C%20-118.37079%5D%2C%20%5B28.192095%2C%20-81.438744%5D%2C%20%5B32.746315%2C%20-96.786583%5D%2C%20%5B47.0644%2C%20-122.7588%5D%2C%20%5B47.206738%2C%20-122.46183%5D%2C%20%5B32.701797%2C%20-96.65712%5D%2C%20%5B44.58462%2C%20-123.42787%5D%2C%20%5B39.665844%2C%20-104.809959%5D%2C%20%5B34.035955%2C%20-118.369177%5D%2C%20%5B48.920097%2C%20-122.344772%5D%2C%20%5B33.77402%2C%20-84.56384%5D%2C%20%5B33.831599%2C%20-118.290281%5D%2C%20%5B36.11822100000001%2C%20-86.700226%5D%2C%20%5B38.00178%2C%20-122.281783%5D%2C%20%5B42.3042%2C%20-71.08244%5D%2C%20%5B33.421467%2C%20-82.064201%5D%2C%20%5B37.484%2C%20-79.66861%5D%2C%20%5B40.92215%2C%20-111.890991%5D%2C%20%5B34.075223%2C%20-118.274212%5D%2C%20%5B33.764732%2C%20-84.494415%5D%2C%20%5B33.524151%2C%20-86.808571%5D%2C%20%5B37.54808%2C%20-77.46641%5D%2C%20%5B40.717701%2C%20-74.33144399999998%5D%2C%20%5B36.13005%2C%20-79.85416%5D%2C%20%5B33.749634%2C%20-118.272179%5D%2C%20%5B34.261158%2C%20-116.839943%5D%2C%20%5B39.414857%2C%20-77.434977%5D%2C%20%5B31.758221%2C%20-106.354552%5D%2C%20%5B28.475037%2C%20-80.804191%5D%2C%20%5B30.462481%2C%20-91.03524%5D%2C%20%5B28.62572%2C%20-81.47633%5D%2C%20%5B40.644401%2C%20-111.930746%5D%2C%20%5B33.462967%2C%20-112.268768%5D%2C%20%5B42.62426%2C%20-70.661552%5D%2C%20%5B34.140764000000004%2C%20-118.277491%5D%2C%20%5B42.18463300000001%2C%20-87.802128%5D%2C%20%5B30.151274%2C%20-97.765022%5D%2C%20%5B33.764271%2C%20-84.38399100000002%5D%2C%20%5B43.08852%2C%20-76.16535999999998%5D%2C%20%5B37.25534%2C%20-121.862584%5D%2C%20%5B34.132560999999995%2C%20-117.957748%5D%2C%20%5B39.981264%2C%20-111.830891%5D%2C%20%5B41.170094%2C%20-112.020271%5D%2C%20%5B40.71958%2C%20-111.85692%5D%2C%20%5B34.07291%2C%20-118.466553%5D%2C%20%5B43.7019%2C%20-73.84891%5D%2C%20%5B33.929886%2C%20-118.16813700000002%5D%2C%20%5B30.272890000000004%2C%20-97.757599%5D%2C%20%5B34.06873%2C%20-117.86119%5D%2C%20%5B39.11885%2C%20-77.31727%5D%2C%20%5B33.103508000000005%2C%20-117.310471%5D%2C%20%5B29.802855%2C%20-95.475479%5D%2C%20%5B33.98849000000001%2C%20-117.90568%5D%2C%20%5B40.610279%2C%20-74.035492%5D%2C%20%5B39.2192%2C%20-76.65853100000002%5D%2C%20%5B36.118832%2C%20-95.930428%5D%2C%20%5B32.2504%2C%20-110.96099%5D%2C%20%5B38.718491%2C%20-121.381328%5D%2C%20%5B32.795753000000005%2C%20-96.69194%5D%2C%20%5B34.00442%2C%20-118.17294%5D%2C%20%5B38.5412%2C%20-90.41925%5D%2C%20%5B36.732302%2C%20-119.778873%5D%2C%20%5B37.380512%2C%20-121.959015%5D%2C%20%5B34.07163%2C%20-118.11023%5D%2C%20%5B40.807182%2C%20-111.426682%5D%2C%20%5B42.36467%2C%20-71.118095%5D%2C%20%5B40.428861%2C%20-79.930998%5D%2C%20%5B35.022739%2C%20-85.242882%5D%2C%20%5B40.075115%2C%20-75.28971899999998%5D%2C%20%5B40.138847%2C%20-75.11277%5D%2C%20%5B39.87669%2C%20-74.21441999999998%5D%2C%20%5B43.0025%2C%20-85.67600999999998%5D%2C%20%5B38.148701%2C%20-122.380661%5D%2C%20%5B29.652159%2C%20-95.258339%5D%2C%20%5B29.875904%2C%20-95.411575%5D%2C%20%5B33.582687%2C%20-111.977898%5D%2C%20%5B34.031588%2C%20-81.086065%5D%2C%20%5B45.37321%2C%20-93.5634%5D%2C%20%5B34.600769%2C%20-82.68321999999998%5D%2C%20%5B41.764183%2C%20-87.90439599999998%5D%2C%20%5B42.24049%2C%20-87.957613%5D%2C%20%5B36.109558%2C%20-86.665474%5D%2C%20%5B40.819469%2C%20-74.135735%5D%2C%20%5B30.295507%2C%20-91.915474%5D%2C%20%5B30.444559%2C%20-91.138582%5D%2C%20%5B39.171051%2C%20-84.500127%5D%2C%20%5B44.973492%2C%20-93.40062%5D%2C%20%5B34.033237%2C%20-118.166948%5D%2C%20%5B29.609135%2C%20-98.492897%5D%2C%20%5B40.006098%2C%20-75.284267%5D%2C%20%5B28.0804%2C%20-82.430779%5D%2C%20%5B32.308426000000004%2C%20-110.902382%5D%2C%20%5B33.79265%2C%20-117.88965%5D%2C%20%5B34.030453%2C%20-117.672848%5D%2C%20%5B34.270852000000005%2C%20-119.216777%5D%2C%20%5B37.568901%2C%20-77.478874%5D%2C%20%5B42.240475%2C%20-87.954994%5D%2C%20%5B47.630141%2C%20-122.326787%5D%2C%20%5B35.73457%2C%20-78.574371%5D%2C%20%5B40.75827%2C%20-74.05285%5D%2C%20%5B44.88705%2C%20-93.33366%5D%2C%20%5B36.75773%2C%20-119.7545%5D%2C%20%5B40.87098%2C%20-73.81929000000002%5D%2C%20%5B38.547466%2C%20-122.8461%5D%2C%20%5B43.16279%2C%20-77.60728399999998%5D%2C%20%5B26.653706%2C%20-80.068733%5D%2C%20%5B41.511806%2C%20-74.205696%5D%2C%20%5B39.00805%2C%20-78.30073%5D%2C%20%5B40.082127%2C%20-75.204887%5D%2C%20%5B40.37385%2C%20-111.857329%5D%2C%20%5B33.435982%2C%20-111.926155%5D%2C%20%5B43.859183%2C%20-121.410593%5D%2C%20%5B36.203363%2C%20-119.402106%5D%2C%20%5B33.657851%2C%20-117.777761%5D%2C%20%5B34.027192%2C%20-118.209601%5D%2C%20%5B38.34611%2C%20-75.07968100000002%5D%2C%20%5B34.07186%2C%20-117.86993%5D%2C%20%5B27.806928000000006%2C%20-82.646762%5D%2C%20%5B26.06504%2C%20-80.2281%5D%2C%20%5B45.496952%2C%20-122.6733%5D%2C%20%5B40.74918%2C%20-73.208359%5D%2C%20%5B44.86217%2C%20-93.2195%5D%2C%20%5B46.323269%2C%20-122.912903%5D%2C%20%5B32.72502%2C%20-117.074228%5D%2C%20%5B39.73658%2C%20-104.82523%5D%2C%20%5B35.250084%2C%20-80.89856%5D%2C%20%5B42.287689%2C%20-71.10672%5D%2C%20%5B40.205908%2C%20-75.22448%5D%2C%20%5B25.939197%2C%20-80.295275%5D%2C%20%5B39.621719%2C%20-104.754028%5D%2C%20%5B43.008884%2C%20-83.683784%5D%2C%20%5B35.850571%2C%20-78.61451%5D%2C%20%5B28.260451%2C%20-81.436403%5D%2C%20%5B41.281387%2C%20-96.004791%5D%2C%20%5B43.637791%2C%20-95.59778%5D%2C%20%5B40.087185%2C%20-74.97150400000002%5D%2C%20%5B33.386806%2C%20-111.677032%5D%2C%20%5B37.317406%2C%20-121.975182%5D%2C%20%5B25.90076%2C%20-80.38526999999998%5D%2C%20%5B30.23232%2C%20-97.72044%5D%2C%20%5B43.047218%2C%20-88.206398%5D%2C%20%5B35.335735%2C%20-94.390244%5D%2C%20%5B39.71086%2C%20-75.44301%5D%2C%20%5B26.012911%2C%20-80.16642%5D%2C%20%5B35.106468%2C%20-80.76664699999998%5D%2C%20%5B30.281879%2C%20-81.521507%5D%2C%20%5B35.263668%2C%20-80.817551%5D%2C%20%5B38.362181%2C%20-81.64390300000002%5D%2C%20%5B42.406101%2C%20-71.103622%5D%2C%20%5B35.252246%2C%20-119.002991%5D%2C%20%5B35.116163%2C%20-85.166588%5D%2C%20%5B41.174717%2C%20-73.195084%5D%2C%20%5B37.171801%2C%20-81.139712%5D%2C%20%5B39.768459%2C%20-86.029673%5D%2C%20%5B36.160748%2C%20-95.922501%5D%2C%20%5B34.660358%2C%20-117.212349%5D%2C%20%5B31.999359%2C%20-81.127251%5D%2C%20%5B32.15933%2C%20-110.91225%5D%2C%20%5B33.85375%2C%20-117.96322%5D%2C%20%5B33.96743%2C%20-118.24608700000002%5D%2C%20%5B47.22524%2C%20-93.75605%5D%2C%20%5B35.26084%2C%20-80.87999%5D%2C%20%5B39.994426%2C%20-75.266595%5D%2C%20%5B43.01172%2C%20-83.50959%5D%2C%20%5B41.861427%2C%20-87.95770999999998%5D%2C%20%5B32.36161%2C%20-86.171089%5D%2C%20%5B37.65289%2C%20-77.611345%5D%2C%20%5B38.801079%2C%20-77.523338%5D%2C%20%5B30.501699%2C%20-87.895882%5D%2C%20%5B35.125443%2C%20-118.12384%5D%2C%20%5B41.760323%2C%20-72.637718%5D%2C%20%5B39.09603900000001%2C%20-94.578239%5D%2C%20%5B40.725473%2C%20-112.219673%5D%2C%20%5B38.57493%2C%20-121.55185%5D%2C%20%5B36.339764%2C%20-84.229851%5D%2C%20%5B35.21874000000001%2C%20-80.83731%5D%2C%20%5B39.018265%2C%20-77.10206600000002%5D%2C%20%5B41.047329%2C%20-73.54306%5D%2C%20%5B37.461899%2C%20-122.178528%5D%2C%20%5B38.747037%2C%20-90.591236%5D%2C%20%5B45.49857%2C%20-122.79081%5D%2C%20%5B34.151661%2C%20-118.141609%5D%2C%20%5B26.063851%2C%20-80.14177600000002%5D%2C%20%5B39.99754%2C%20-82.98465999999998%5D%2C%20%5B38.531445%2C%20-121.952812%5D%2C%20%5B25.760891%2C%20-80.393987%5D%2C%20%5B32.910715%2C%20-96.881808%5D%2C%20%5B37.701073%2C%20-121.844093%5D%2C%20%5B29.661873%2C%20-95.558964%5D%2C%20%5B41.32372700000001%2C%20-87.88163%5D%2C%20%5B36.84552%2C%20-121.634888%5D%2C%20%5B29.602718%2C%20-98.365768%5D%2C%20%5B35.100006%2C%20-80.778717%5D%2C%20%5B43.0336%2C%20-87.970139%5D%2C%20%5B29.95491%2C%20-95.28916%5D%2C%20%5B30.255293%2C%20-97.719398%5D%2C%20%5B39.851864%2C%20-75.373863%5D%2C%20%5B30.478312%2C%20-87.22955300000002%5D%2C%20%5B40.86692%2C%20-74.042613%5D%2C%20%5B25.684325%2C%20-80.41642900000002%5D%2C%20%5B39.094326%2C%20-84.52241%5D%2C%20%5B33.884048%2C%20-118.028969%5D%2C%20%5B29.727852%2C%20-95.57608%5D%2C%20%5B40.721966%2C%20-73.262321%5D%2C%20%5B36.9255%2C%20-120.02365%5D%2C%20%5B34.031715000000005%2C%20-118.416939%5D%2C%20%5B30.36829%2C%20-81.66896%5D%2C%20%5B34.451413%2C%20-81.94729699999998%5D%2C%20%5B40.488918%2C%20-111.999908%5D%2C%20%5B42.49438%2C%20-83.29504%5D%2C%20%5B39.959789%2C%20-75.175011%5D%2C%20%5B40.070659%2C%20-75.152182%5D%2C%20%5B39.53105%2C%20-119.78556%5D%2C%20%5B40.81573%2C%20-73.93097%5D%2C%20%5B42.941658%2C%20-85.677605%5D%2C%20%5B39.192822%2C%20-123.206871%5D%2C%20%5B40.162823%2C%20-76.149857%5D%2C%20%5B28.369864%2C%20-81.309589%5D%2C%20%5B42.04953%2C%20-91.44374%5D%2C%20%5B25.862013%2C%20-80.208099%5D%2C%20%5B42.346485%2C%20-71.060333%5D%2C%20%5B34.062721%2C%20-81.137558%5D%2C%20%5B39.071609%2C%20-94.52169%5D%2C%20%5B26.112371%2C%20-80.218643%5D%2C%20%5B30.719547%2C%20-85.185355%5D%2C%20%5B35.02373%2C%20-80.96769%5D%2C%20%5B37.76402%2C%20-122.216836%5D%2C%20%5B39.241028%2C%20-76.58686800000002%5D%2C%20%5B42.131702%2C%20-122.300385%5D%2C%20%5B37.393284%2C%20-77.515823%5D%2C%20%5B47.72493400000001%2C%20-117.411278%5D%2C%20%5B40.747112%2C%20-74.167435%5D%2C%20%5B38.054859%2C%20-84.47882800000002%5D%2C%20%5B34.23171%2C%20-118.40409%5D%2C%20%5B41.570152%2C%20-72.72425799999998%5D%2C%20%5B39.653076%2C%20-104.918396%5D%2C%20%5B25.7307%2C%20-80.317718%5D%2C%20%5B42.37904%2C%20-83.20772%5D%2C%20%5B39.800902%2C%20-75.971582%5D%2C%20%5B44.598053%2C%20-90.355351%5D%2C%20%5B33.810184%2C%20-117.831787%5D%2C%20%5B34.34063%2C%20-118.52116%5D%2C%20%5B41.567799%2C%20-72.650513%5D%2C%20%5B37.99415%2C%20-122.06982%5D%2C%20%5B35.609154%2C%20-97.504868%5D%2C%20%5B40.737171%2C%20-73.93184699999998%5D%2C%20%5B43.12656%2C%20-76.12151%5D%2C%20%5B38.891848%2C%20-76.95604200000002%5D%2C%20%5B38.14129000000001%2C%20-122.22435%5D%2C%20%5B33.67145900000001%2C%20-112.11294%5D%2C%20%5B39.684704%2C%20-104.959457%5D%2C%20%5B39.912014%2C%20-86.198334%5D%2C%20%5B32.911613%2C%20-96.94413%5D%2C%20%5B30.540840000000006%2C%20-97.69218%5D%2C%20%5B33.475571%2C%20-82.009354%5D%2C%20%5B27.996071%2C%20-82.45359%5D%2C%20%5B38.663628%2C%20-121.30855%5D%2C%20%5B29.67726%2C%20-95.15605%5D%2C%20%5B31.7656%2C%20-83.53738%5D%2C%20%5B30.512026%2C%20-81.634608%5D%2C%20%5B34.618839%2C%20-87.002434%5D%2C%20%5B30.007536%2C%20-90.266415%5D%2C%20%5B42.924385%2C%20-123.279099%5D%2C%20%5B33.573391%2C%20-112.117104%5D%2C%20%5B41.56983%2C%20-87.41798%5D%2C%20%5B33.818940000000005%2C%20-118.29034%5D%2C%20%5B28.675461%2C%20-81.853317%5D%2C%20%5B36.137169%2C%20-86.82176199999998%5D%2C%20%5B40.03635%2C%20-76.305412%5D%2C%20%5B29.965770000000006%2C%20-95.41893%5D%2C%20%5B37.468521%2C%20-122.292183%5D%2C%20%5B25.782921%2C%20-80.190552%5D%2C%20%5B25.890186%2C%20-80.324145%5D%2C%20%5B38.840931%2C%20-121.015152%5D%2C%20%5B35.441356%2C%20-119.078359%5D%2C%20%5B39.59514%2C%20-104.88093%5D%2C%20%5B34.17437%2C%20-118.39219%5D%2C%20%5B41.520318%2C%20-122.519762%5D%2C%20%5B29.902794%2C%20-95.551804%5D%2C%20%5B34.13517%2C%20-80.963799%5D%2C%20%5B33.941002000000005%2C%20-117.27021%5D%2C%20%5B43.121117%2C%20-77.619148%5D%2C%20%5B41.87124%2C%20-87.83788%5D%2C%20%5B38.619937%2C%20-121.262103%5D%2C%20%5B34.043301%2C%20-117.800774%5D%2C%20%5B25.923179%2C%20-80.211568%5D%2C%20%5B36.210862%2C%20-119.233406%5D%2C%20%5B39.05834%2C%20-95.91271%5D%2C%20%5B33.9597%2C%20-117.85732%5D%2C%20%5B30.207095%2C%20-97.757276%5D%2C%20%5B33.869484%2C%20-84.366196%5D%2C%20%5B32.359688%2C%20-86.21553%5D%2C%20%5B39.271947%2C%20-76.554839%5D%2C%20%5B41.931068%2C%20-88.120163%5D%2C%20%5B25.89917%2C%20-80.210114%5D%2C%20%5B39.904629%2C%20-86.207809%5D%2C%20%5B32.860901%2C%20-96.770683%5D%2C%20%5B33.6622%2C%20-117.29882%5D%2C%20%5B33.713875%2C%20-117.964806%5D%2C%20%5B38.68151500000001%2C%20-121.751106%5D%2C%20%5B35.768714%2C%20-119.274518%5D%2C%20%5B32.90287%2C%20-96.72197%5D%2C%20%5B41.84874600000001%2C%20-72.664506%5D%2C%20%5B44.4306%2C%20-121.87499%5D%2C%20%5B40.284395%2C%20-75.337184%5D%2C%20%5B34.0718%2C%20-118.09651%5D%2C%20%5B26.118282%2C%20-80.33013199999998%5D%2C%20%5B41.808109%2C%20-87.703972%5D%2C%20%5B42.253601%2C%20-70.966339%5D%2C%20%5B40.85041%2C%20-73.945938%5D%2C%20%5B40.708508%2C%20-111.90397%5D%2C%20%5B33.745676%2C%20-117.842167%5D%2C%20%5B37.40546%2C%20-77.661438%5D%2C%20%5B38.544781%2C%20-121.473984%5D%2C%20%5B33.929%2C%20-118.230186%5D%2C%20%5B39.733723%2C%20-84.204971%5D%2C%20%5B39.837296%2C%20-86.381805%5D%2C%20%5B25.627699%2C%20-80.37445100000002%5D%2C%20%5B39.759579%2C%20-80.084389%5D%2C%20%5B40.735789%2C%20-73.974887%5D%2C%20%5B34.037395000000004%2C%20-118.220152%5D%2C%20%5B35.889679%2C%20-78.556427%5D%2C%20%5B32.839592%2C%20-117.236971%5D%2C%20%5B42.14798%2C%20-71.20057%5D%2C%20%5B33.8759%2C%20-118.16868999999998%5D%2C%20%5B40.303272%2C%20-76.85147099999998%5D%2C%20%5B39.823649%2C%20-84.9359%5D%2C%20%5B33.922503000000006%2C%20-118.26956%5D%2C%20%5B29.978889%2C%20-90.113006%5D%2C%20%5B40.243073%2C%20-76.085526%5D%2C%20%5B44.99667%2C%20-93.45837%5D%2C%20%5B33.77425%2C%20-118.07798%5D%2C%20%5B34.24355%2C%20-117.29659%5D%2C%20%5B38.236156%2C%20-76.997681%5D%2C%20%5B33.14191%2C%20-117.10457%5D%2C%20%5B38.879681%2C%20-77.138504%5D%2C%20%5B39.77565%2C%20-104.865929%5D%2C%20%5B28.348282%2C%20-81.23221600000002%5D%2C%20%5B29.342585%2C%20-98.503868%5D%2C%20%5B40.861794%2C%20-73.912689%5D%2C%20%5B35.873539%2C%20-78.727699%5D%2C%20%5B40.707146%2C%20-74.150772%5D%2C%20%5B30.442533%2C%20-91.007462%5D%2C%20%5B34.145939%2C%20-84.516632%5D%2C%20%5B42.528652%2C%20-71.274551%5D%2C%20%5B41.8339%2C%20-71.4162%5D%2C%20%5B37.508633%2C%20-77.463417%5D%2C%20%5B37.50769%2C%20-77.26163000000003%5D%2C%20%5B42.423812%2C%20-123.22911299999998%5D%2C%20%5B38.703712%2C%20-121.349731%5D%2C%20%5B36.238232%2C%20-86.785698%5D%2C%20%5B35.25822%2C%20-80.73633000000002%5D%2C%20%5B34.109120000000004%2C%20-117.98121%5D%2C%20%5B33.860405%2C%20-118.31263%5D%2C%20%5B29.78485%2C%20-95.57439%5D%2C%20%5B34.177654%2C%20-118.860542%5D%2C%20%5B36.08989%2C%20-95.88663%5D%2C%20%5B35.201859000000006%2C%20-89.732559%5D%2C%20%5B34.027319%2C%20-118.233021%5D%2C%20%5B42.684631%2C%20-70.918808%5D%2C%20%5B45.09583%2C%20-122.65733%5D%2C%20%5B35.751919%2C%20-78.701302%5D%2C%20%5B33.438651%2C%20-84.54682199999998%5D%2C%20%5B34.20092%2C%20-118.966103%5D%2C%20%5B36.110863%2C%20-86.723175%5D%2C%20%5B29.626835%2C%20-95.255959%5D%2C%20%5B41.977993%2C%20-88.269447%5D%2C%20%5B36.64893%2C%20-119.736786%5D%2C%20%5B37.009899%2C%20-121.515831%5D%2C%20%5B33.977551%2C%20-118.256415%5D%2C%20%5B34.154888%2C%20-118.288795%5D%2C%20%5B29.436968%2C%20-98.491623%5D%2C%20%5B40.832351%2C%20-73.931797%5D%2C%20%5B34.145019%2C%20-117.278682%5D%2C%20%5B38.878646%2C%20-77.221463%5D%2C%20%5B39.0502%2C%20-76.84212%5D%2C%20%5B32.745746999999994%2C%20-96.730705%5D%2C%20%5B36.566444%2C%20-121.912909%5D%2C%20%5B45.37096%2C%20-93.985654%5D%2C%20%5B40.372279%2C%20-112.021425%5D%2C%20%5B39.975712%2C%20-76.767136%5D%2C%20%5B45.6268%2C%20-122.6016%5D%2C%20%5B33.831238%2C%20-113.505608%5D%2C%20%5B45.388913%2C%20-122.750036%5D%2C%20%5B30.137882%2C%20-97.796791%5D%2C%20%5B45.358731%2C%20-122.616099%5D%2C%20%5B36.07519%2C%20-79.81453%5D%2C%20%5B33.54203%2C%20-112.27099%5D%2C%20%5B30.509199%2C%20-91.144257%5D%2C%20%5B36.08785200000001%2C%20-95.83313%5D%2C%20%5B34.12725%2C%20-117.822173%5D%2C%20%5B37.318462%2C%20-121.990021%5D%2C%20%5B25.68671%2C%20-80.376284%5D%2C%20%5B34.120529%2C%20-117.872643%5D%2C%20%5B33.45132%2C%20-112.12602%5D%2C%20%5B44.77189%2C%20-93.28836%5D%2C%20%5B34.030514000000004%2C%20-118.4384%5D%2C%20%5B37.462418%2C%20-122.144402%5D%2C%20%5B45.381745%2C%20-122.579975%5D%2C%20%5B36.179699%2C%20-86.839523%5D%2C%20%5B37.77674%2C%20-120.77472%5D%2C%20%5B30.733561%2C%20-87.043633%5D%2C%20%5B45.255104%2C%20-92.984062%5D%2C%20%5B32.73498%2C%20-96.82382%5D%2C%20%5B27.852526%2C%20-82.664055%5D%2C%20%5B33.864118%2C%20-118.27849%5D%2C%20%5B26.52807%2C%20-81.869281%5D%2C%20%5B33.915283%2C%20-117.441208%5D%2C%20%5B29.403931%2C%20-98.510841%5D%2C%20%5B36.13352%2C%20-95.83325%5D%2C%20%5B33.578178%2C%20-117.181007%5D%2C%20%5B41.805733%2C%20-88.054581%5D%2C%20%5B39.070999%2C%20-95.005104%5D%2C%20%5B43.21219%2C%20-77.43030999999998%5D%2C%20%5B32.468681%2C%20-95.387604%5D%2C%20%5B34.081501%2C%20-118.22422%5D%2C%20%5B30.424454%2C%20-91.157196%5D%2C%20%5B30.439068%2C%20-91.187752%5D%2C%20%5B33.857388%2C%20-117.979355%5D%2C%20%5B30.654743%2C%20-91.193207%5D%2C%20%5B35.152737%2C%20-80.826881%5D%2C%20%5B37.11630200000001%2C%20-76.50219%5D%2C%20%5B41.96093%2C%20-87.942581%5D%2C%20%5B32.792454%2C%20-96.813835%5D%2C%20%5B35.26707000000001%2C%20-80.74112%5D%2C%20%5B37.46009%2C%20-76.84168000000003%5D%2C%20%5B42.627651%2C%20-71.271835%5D%2C%20%5B33.868821000000004%2C%20-117.730125%5D%2C%20%5B38.443063%2C%20-81.83806700000002%5D%2C%20%5B34.087%2C%20-117.6859%5D%2C%20%5B34.198269%2C%20-82.171227%5D%2C%20%5B30.4028%2C%20-91.178757%5D%2C%20%5B32.794098%2C%20-96.699883%5D%2C%20%5B34.05256%2C%20-118.25752%5D%2C%20%5B30.442533%2C%20-91.007462%5D%2C%20%5B36.043049%2C%20-86.577843%5D%2C%20%5B39.978371%2C%20-104.988205%5D%2C%20%5B29.693918%2C%20-95.351746%5D%2C%20%5B29.757673%2C%20-95.21286%5D%2C%20%5B33.499973%2C%20-84.639206%5D%2C%20%5B33.7552%2C%20-117.85193999999998%5D%2C%20%5B37.808498%2C%20-122.366852%5D%2C%20%5B30.315369%2C%20-81.769287%5D%2C%20%5B35.203011%2C%20-80.738777%5D%2C%20%5B28.041761%2C%20-82.672394%5D%2C%20%5B34.226746%2C%20-118.38768799999998%5D%2C%20%5B33.695751%2C%20-86.527176%5D%2C%20%5B41.47686%2C%20-81.6784%5D%2C%20%5B40.889256%2C%20-74.218582%5D%2C%20%5B44.06115%2C%20-123.02507%5D%2C%20%5B34.15053%2C%20-118.46828%5D%2C%20%5B38.99196%2C%20-94.50231%5D%2C%20%5B32.517269%2C%20-96.800377%5D%2C%20%5B40.82831%2C%20-73.88293%5D%2C%20%5B40.26807%2C%20-75.28072399999998%5D%2C%20%5B34.487602%2C%20-118.139946%5D%2C%20%5B37.70018%2C%20-121.77845%5D%2C%20%5B45.530721%2C%20-122.68687%5D%2C%20%5B37.131458%2C%20-121.633308%5D%2C%20%5B38.12916%2C%20-77.51255%5D%2C%20%5B38.79765%2C%20-77.06817%5D%2C%20%5B40.674541%2C%20-111.901299%5D%2C%20%5B38.867021%2C%20-77.441328%5D%2C%20%5B29.992822%2C%20-90.04888100000002%5D%2C%20%5B33.649352%2C%20-84.369324%5D%2C%20%5B33.631879999999995%2C%20-84.40066%5D%2C%20%5B39.723457%2C%20-105.011526%5D%2C%20%5B33.618483000000005%2C%20-84.4575%5D%2C%20%5B34.063721%2C%20-117.79439%5D%2C%20%5B44.425485%2C%20-121.708946%5D%2C%20%5B33.925228000000004%2C%20-118.328773%5D%2C%20%5B41.464592%2C%20-81.53630799999998%5D%2C%20%5B37.25835%2C%20-121.963951%5D%2C%20%5B38.76099%2C%20-76.65681%5D%2C%20%5B40.80066%2C%20-73.62375%5D%2C%20%5B40.875678%2C%20-77.531373%5D%2C%20%5B47.240902%2C%20-122.397963%5D%2C%20%5B28.542118%2C%20-81.379036%5D%2C%20%5B38.41316%2C%20-82.34498%5D%2C%20%5B39.98196%2C%20-76.694862%5D%2C%20%5B30.38723%2C%20-91.093773%5D%2C%20%5B41.190552%2C%20-111.971169%5D%2C%20%5B33.523994%2C%20-112.099556%5D%2C%20%5B34.293831%2C%20-81.5466%5D%2C%20%5B33.363557%2C%20-111.9286%5D%2C%20%5B38.76381%2C%20-77.183437%5D%2C%20%5B40.68337%2C%20-75.296784%5D%2C%20%5B25.963076%2C%20-80.15956800000002%5D%2C%20%5B37.684931%2C%20-122.129808%5D%2C%20%5B34.858925%2C%20-82.259857%5D%2C%20%5B39.64595%2C%20-106.886925%5D%2C%20%5B41.83286%2C%20-87.92868%5D%2C%20%5B28.329248%2C%20-81.403725%5D%2C%20%5B34.03596%2C%20-118.09278%5D%2C%20%5B42.32347%2C%20-71.16391999999998%5D%2C%20%5B38.545731%2C%20-90.292795%5D%2C%20%5B33.760659999999994%2C%20-84.4845%5D%2C%20%5B39.746403%2C%20-84.295441%5D%2C%20%5B39.016766%2C%20-94.497681%5D%2C%20%5B33.902077%2C%20-118.105087%5D%2C%20%5B32.877769%2C%20-85.15158100000002%5D%2C%20%5B30.411131%2C%20-91.051544%5D%2C%20%5B47.794743%2C%20-122.213837%5D%2C%20%5B33.48407%2C%20-112.15148899999998%5D%2C%20%5B40.838725%2C%20-73.93324799999998%5D%2C%20%5B34.291688%2C%20-119.152683%5D%2C%20%5B41.2346%2C%20-96.023827%5D%2C%20%5B42.383207%2C%20-88.00418%5D%2C%20%5B30.382055%2C%20-97.772331%5D%2C%20%5B34.694607%2C%20-82.735527%5D%2C%20%5B38.752%2C%20-77.18417%5D%2C%20%5B36.20591%2C%20-86.768547%5D%2C%20%5B44.965801%2C%20-93.267166%5D%2C%20%5B30.17364%2C%20-97.82384%5D%2C%20%5B42.72726%2C%20-85.67311%5D%2C%20%5B34.102884%2C%20-118.196304%5D%2C%20%5B37.25835%2C%20-121.96395%5D%2C%20%5B36.351058%2C%20-119.116435%5D%2C%20%5B34.126401%2C%20-118.475319%5D%2C%20%5B34.817719%2C%20-86.571564%5D%2C%20%5B34.006718%2C%20-81.247914%5D%2C%20%5B44.808056%2C%20-93.398071%5D%2C%20%5B45.19476%2C%20-93.55252%5D%2C%20%5B30.358263%2C%20-97.699738%5D%2C%20%5B25.741504%2C%20-80.171266%5D%2C%20%5B45.727455%2C%20-108.532751%5D%2C%20%5B35.781723%2C%20-84.345741%5D%2C%20%5B29.983923%2C%20-90.07199200000002%5D%2C%20%5B36.992136%2C%20-121.689602%5D%2C%20%5B42.2307%2C%20-83.60924%5D%2C%20%5B42.20436%2C%20-71.06888000000002%5D%2C%20%5B30.466261%2C%20-91.010033%5D%2C%20%5B42.97031%2C%20-87.9153%5D%2C%20%5B35.636268%2C%20-77.723883%5D%2C%20%5B30.00654%2C%20-90.01901%5D%2C%20%5B41.253632%2C%20-95.890778%5D%2C%20%5B42.21098%2C%20-87.86816%5D%2C%20%5B40.255435%2C%20-104.0984%5D%2C%20%5B38.25869%2C%20-85.73859%5D%2C%20%5B33.832494%2C%20-117.930239%5D%2C%20%5B39.051308%2C%20-85.13086700000002%5D%2C%20%5B29.731479%2C%20-95.397925%5D%2C%20%5B41.90049000000001%2C%20-87.74592%5D%2C%20%5B34.825272%2C%20-82.430008%5D%2C%20%5B35.111176%2C%20-89.731941%5D%2C%20%5B43.164636%2C%20-77.625161%5D%2C%20%5B40.727497%2C%20-73.929001%5D%2C%20%5B27.95014%2C%20-82.51815%5D%2C%20%5B34.32822%2C%20-82.224419%5D%2C%20%5B33.915701%2C%20-118.254487%5D%2C%20%5B41.120409%2C%20-73.374062%5D%2C%20%5B34.833866%2C%20-78.978615%5D%2C%20%5B34.380109999999995%2C%20-84.91385%5D%2C%20%5B34.032779%2C%20-118.12501%5D%2C%20%5B36.37093%2C%20-119.296944%5D%2C%20%5B34.264252%2C%20-82.226822%5D%2C%20%5B33.775368%2C%20-78.98309300000003%5D%2C%20%5B41.735401%2C%20-88.062836%5D%2C%20%5B33.866644%2C%20-79.138671%5D%2C%20%5B33.773485%2C%20-117.4851%5D%2C%20%5B36.137341%2C%20-86.798141%5D%2C%20%5B42.419%2C%20-82.93413000000002%5D%2C%20%5B41.08152000000001%2C%20-112.03566%5D%2C%20%5B34.669358%2C%20-82.244794%5D%2C%20%5B40.75544%2C%20-73.74301%5D%2C%20%5B33.825171999999995%2C%20-84.359627%5D%2C%20%5B36.036148%2C%20-79.872231%5D%2C%20%5B32.900307%2C%20-96.71769%5D%2C%20%5B26.289764%2C%20-80.119522%5D%2C%20%5B40.015045%2C%20-82.993797%5D%2C%20%5B25.77775%2C%20-80.321732%5D%2C%20%5B32.797894%2C%20-96.805424%5D%2C%20%5B26.142514%2C%20-80.169736%5D%2C%20%5B35.444618%2C%20-80.89449300000003%5D%2C%20%5B36.514844%2C%20-119.557421%5D%2C%20%5B45.545529%2C%20-122.532652%5D%2C%20%5B27.981386%2C%20-82.34150799999998%5D%2C%20%5B43.18464%2C%20-77.58395%5D%2C%20%5B41.84668%2C%20-87.68058%5D%2C%20%5B37.47302%2C%20-77.52512%5D%2C%20%5B33.874077%2C%20-117.880302%5D%2C%20%5B38.227898%2C%20-85.636894%5D%2C%20%5B34.809555%2C%20-82.462814%5D%2C%20%5B34.030807%2C%20-118.258972%5D%2C%20%5B40.78125%2C%20-73.94422%5D%2C%20%5B40.70052%2C%20-73.50350999999998%5D%2C%20%5B40.810268%2C%20-76.104462%5D%2C%20%5B29.946379%2C%20-90.080727%5D%2C%20%5B40.84383%2C%20-73.895599%5D%2C%20%5B41.7743%2C%20-87.946564%5D%2C%20%5B41.840019%2C%20-71.411263%5D%2C%20%5B37.988066%2C%20-121.244875%5D%2C%20%5B28.450899%2C%20-81.370926%5D%2C%20%5B37.104462%2C%20-121.94803600000002%5D%2C%20%5B34.35974%2C%20-117.43537%5D%2C%20%5B27.813702000000006%2C%20-82.700012%5D%2C%20%5B34.706381%2C%20-82.438372%5D%2C%20%5B47.672741%2C%20-117.214676%5D%2C%20%5B34.511712%2C%20-117.321903%5D%2C%20%5B35.76815999999999%2C%20-78.7301%5D%2C%20%5B30.352827%2C%20-97.714859%5D%2C%20%5B35.80069%2C%20-78.730171%5D%2C%20%5B37.44972%2C%20-77.64928%5D%2C%20%5B34.185878%2C%20-81.133645%5D%2C%20%5B25.785408%2C%20-80.21477%5D%2C%20%5B36.977011%2C%20-121.90568799999998%5D%2C%20%5B37.956043%2C%20-119.118881%5D%2C%20%5B40.179234%2C%20-75.43991899999997%5D%2C%20%5B41.06271%2C%20-73.86224399999998%5D%2C%20%5B45.73056%2C%20-122.87594%5D%2C%20%5B36.21949%2C%20-86.69327%5D%2C%20%5B33.98785%2C%20-118.39904%5D%2C%20%5B25.733767%2C%20-80.29539399999999%5D%2C%20%5B41.885216%2C%20-88.19435899999998%5D%2C%20%5B38.705097%2C%20-90.339996%5D%2C%20%5B33.521169%2C%20-117.089417%5D%2C%20%5B30.684532%2C%20-88.041634%5D%2C%20%5B33.539081%2C%20-81.995483%5D%2C%20%5B34.040363%2C%20-118.885242%5D%2C%20%5B45.54782700000001%2C%20-122.67874%5D%2C%20%5B42.38782%2C%20-83.01626%5D%2C%20%5B32.878639%2C%20-96.734795%5D%2C%20%5B28.14376%2C%20-82.35324%5D%2C%20%5B36.07539000000001%2C%20-95.88651%5D%2C%20%5B34.212063%2C%20-118.348564%5D%2C%20%5B35.903972%2C%20-78.80618199999998%5D%2C%20%5B38.870068%2C%20-77.046875%5D%2C%20%5B30.700339000000003%2C%20-86.571332%5D%2C%20%5B25.694731%2C%20-80.343987%5D%2C%20%5B36.15303%2C%20-86.82253299999998%5D%2C%20%5B34.998264%2C%20-82.05263199999997%5D%2C%20%5B41.10100900000001%2C%20-73.968781%5D%2C%20%5B36.987129%2C%20-121.986191%5D%2C%20%5B37.596017%2C%20-77.46633%5D%2C%20%5B44.778069%2C%20-93.504684%5D%2C%20%5B30.290983%2C%20-97.661438%5D%2C%20%5B41.0915%2C%20-74.68377%5D%2C%20%5B34.036114000000005%2C%20-118.092857%5D%2C%20%5B34.743764%2C%20-92.291274%5D%2C%20%5B41.263283%2C%20-96.023865%5D%2C%20%5B32.831509999999994%2C%20-96.78069%5D%2C%20%5B33.797096%2C%20-84.368988%5D%2C%20%5B28.55731%2C%20-81.31089%5D%2C%20%5B34.082565%2C%20-80.940956%5D%2C%20%5B37.38346%2C%20-80.82484000000002%5D%2C%20%5B43.85356%2C%20-88.57656999999998%5D%2C%20%5B39.016882%2C%20-122.91286200000002%5D%2C%20%5B30.599267%2C%20-87.16140899999998%5D%2C%20%5B25.695358%2C%20-80.337942%5D%2C%20%5B41.89088%2C%20-87.65047%5D%2C%20%5B30.009294%2C%20-90.301491%5D%2C%20%5B42.83045%2C%20-74.01113000000002%5D%2C%20%5B39.210735%2C%20-84.433777%5D%2C%20%5B34.883063%2C%20-120.436649%5D%2C%20%5B30.37742%2C%20-97.697021%5D%2C%20%5B33.671761%2C%20-112.001358%5D%2C%20%5B39.359638%2C%20-77.532234%5D%2C%20%5B39.80728%2C%20-75.96692%5D%2C%20%5B35.36837%2C%20-80.735237%5D%2C%20%5B43.030357%2C%20-88.062531%5D%2C%20%5B39.302642%2C%20-76.952908%5D%2C%20%5B31.373573%2C%20-94.459179%5D%2C%20%5B32.7061%2C%20-97.062973%5D%2C%20%5B33.91375%2C%20-112.145256%5D%2C%20%5B35.76862%2C%20-78.735336%5D%2C%20%5B40.67556%2C%20-73.732734%5D%2C%20%5B32.767246%2C%20-96.895821%5D%2C%20%5B28.473032%2C%20-81.445201%5D%2C%20%5B35.809631%2C%20-78.602188%5D%2C%20%5B43.14705%2C%20-77.60041%5D%2C%20%5B33.89229%2C%20-117.88079%5D%2C%20%5B40.616676%2C%20-122.36442%5D%2C%20%5B39.973419%2C%20-83.081558%5D%2C%20%5B32.998219%2C%20-80.093544%5D%2C%20%5B36.18337%2C%20-86.74857%5D%2C%20%5B30.427507%2C%20-91.143517%5D%2C%20%5B33.888306%2C%20-118.339256%5D%2C%20%5B36.727978%2C%20-119.880676%5D%2C%20%5B34.053136%2C%20-118.002236%5D%2C%20%5B47.60889%2C%20-122.33089%5D%2C%20%5B35.435261%2C%20-97.618706%5D%2C%20%5B42.735867%2C%20-83.379684%5D%2C%20%5B44.783374%2C%20-93.453441%5D%2C%20%5B38.066589%2C%20-84.349785%5D%2C%20%5B38.999809%2C%20-104.780098%5D%2C%20%5B38.098744%2C%20-121.26008799999998%5D%2C%20%5B34.07674%2C%20-117.20052%5D%2C%20%5B35.34676%2C%20-80.84146%5D%2C%20%5B30.434889%2C%20-88.656021%5D%2C%20%5B34.134633%2C%20-117.646557%5D%2C%20%5B34.603568%2C%20-118.557078%5D%2C%20%5B33.938702%2C%20-80.95172099999998%5D%2C%20%5B25.76002%2C%20-80.38545%5D%2C%20%5B37.77518%2C%20-121.32051%5D%2C%20%5B28.48275%2C%20-81.44471999999998%5D%2C%20%5B44.90736%2C%20-93.27504%5D%2C%20%5B32.807289000000004%2C%20-96.793266%5D%2C%20%5B44.55584%2C%20-123.061821%5D%2C%20%5B34.072418%2C%20-118.072922%5D%2C%20%5B34.01899%2C%20-86.07478%5D%2C%20%5B37.515148%2C%20-121.939873%5D%2C%20%5B38.480082%2C%20-121.549394%5D%2C%20%5B33.938175%2C%20-117.126839%5D%2C%20%5B38.961761%2C%20-76.902367%5D%2C%20%5B33.4134%2C%20-86.80544%5D%2C%20%5B33.797718%2C%20-117.896538%5D%2C%20%5B35.137829%2C%20-80.879311%5D%2C%20%5B37.345493%2C%20-121.923004%5D%2C%20%5B30.082986%2C%20-97.822215%5D%2C%20%5B37.879169%2C%20-122.049255%5D%2C%20%5B41.568382%2C%20-93.51265%5D%2C%20%5B39.95651%2C%20-75.18047%5D%2C%20%5B30.683631%2C%20-85.686518%5D%2C%20%5B32.864239000000005%2C%20-96.700485%5D%2C%20%5B39.15325900000001%2C%20-84.443687%5D%2C%20%5B39.609207%2C%20-104.893066%5D%2C%20%5B30.40588%2C%20-91.051613%5D%2C%20%5B37.586334%2C%20-77.473389%5D%2C%20%5B32.29724%2C%20-110.97823%5D%2C%20%5B40.59206%2C%20-73.58702%5D%2C%20%5B33.509979%2C%20-112.013039%5D%2C%20%5B39.826279%2C%20-85.991058%5D%2C%20%5B33.853626%2C%20-78.769139%5D%2C%20%5B40.79871%2C%20-74.189888%5D%2C%20%5B39.553337%2C%20-119.567215%5D%2C%20%5B28.434385%2C%20-81.40501400000002%5D%2C%20%5B33.422108%2C%20-111.891373%5D%2C%20%5B38.595569%2C%20-121.364452%5D%2C%20%5B32.934849%2C%20-96.752304%5D%2C%20%5B35.054939000000005%2C%20-89.82940699999997%5D%2C%20%5B40.013355%2C%20-75.212091%5D%2C%20%5B33.91891%2C%20-84.35776%5D%2C%20%5B45.49005%2C%20-118.4111%5D%2C%20%5B34.003716%2C%20-81.11041999999998%5D%2C%20%5B28.548008000000006%2C%20-81.16503900000002%5D%2C%20%5B34.12278%2C%20-118.06412%5D%2C%20%5B39.872169%2C%20-75.0812%5D%2C%20%5B38.455656%2C%20-121.405335%5D%2C%20%5B34.50646%2C%20-117.902354%5D%2C%20%5B46.137744%2C%20-123.807653%5D%2C%20%5B34.973763%2C%20-81.986514%5D%2C%20%5B35.825539%2C%20-78.696777%5D%2C%20%5B43.14587%2C%20-77.59252%5D%2C%20%5B30.469624%2C%20-86.60770500000002%5D%2C%20%5B33.8698%2C%20-118.28569%5D%2C%20%5B42.43247%2C%20-123.07348%5D%2C%20%5B32.344219%2C%20-86.223892%5D%2C%20%5B33.197289000000005%2C%20-117.12583899999998%5D%2C%20%5B35.889675%2C%20-78.679863%5D%2C%20%5B34.141281%2C%20-118.733603%5D%2C%20%5B40.739731%2C%20-73.725031%5D%2C%20%5B39.047382%2C%20-84.46228%5D%2C%20%5B39.93195%2C%20-82.92654%5D%2C%20%5B32.566887%2C%20-84.96198299999998%5D%2C%20%5B26.61379%2C%20-80.06881%5D%2C%20%5B33.77195%2C%20-118.00138%5D%2C%20%5B32.323291999999995%2C%20-80.932884%5D%2C%20%5B45.675498%2C%20-92.991811%5D%2C%20%5B45.486542%2C%20-122.589241%5D%2C%20%5B32.825764%2C%20-96.831177%5D%2C%20%5B38.744003%2C%20-90.412628%5D%2C%20%5B34.17429%2C%20-118.850029%5D%2C%20%5B35.86822%2C%20-78.62080999999998%5D%2C%20%5B30.394148%2C%20-97.845757%5D%2C%20%5B40.080177%2C%20-82.905312%5D%2C%20%5B36.123215%2C%20-86.80674%5D%2C%20%5B35.77076%2C%20-78.583214%5D%2C%20%5B37.852394%2C%20-122.029083%5D%2C%20%5B28.15438%2C%20-81.44051999999998%5D%2C%20%5B40.904856%2C%20-123.740054%5D%2C%20%5B25.899784%2C%20-80.209885%5D%2C%20%5B41.520828%2C%20-87.597076%5D%2C%20%5B30.416588%2C%20-91.143211%5D%2C%20%5B34.957531%2C%20-82.30119300000001%5D%2C%20%5B41.85348%2C%20-88.03923%5D%2C%20%5B45.911004%2C%20-123.885294%5D%2C%20%5B44.967079%2C%20-93.221375%5D%2C%20%5B45.075946%2C%20-93.327564%5D%2C%20%5B37.106022%2C%20-121.657707%5D%2C%20%5B27.990808%2C%20-82.709061%5D%2C%20%5B32.72376%2C%20-97.22531%5D%2C%20%5B41.284073%2C%20-72.934563%5D%2C%20%5B38.33552%2C%20-104.74387%5D%2C%20%5B32.878857%2C%20-96.688614%5D%2C%20%5B37.53426%2C%20-122.07832%5D%2C%20%5B28.556761%2C%20-81.3769%5D%2C%20%5B37.385112%2C%20-79.087696%5D%2C%20%5B33.69575%2C%20-117.86392%5D%2C%20%5B30.213341%2C%20-97.659576%5D%2C%20%5B41.054367%2C%20-73.809586%5D%2C%20%5B36.33706%2C%20-78.44074%5D%2C%20%5B34.020633000000004%2C%20-118.192258%5D%2C%20%5B34.02922%2C%20-118.01248%5D%2C%20%5B42.29847%2C%20-88.071991%5D%2C%20%5B32.717757%2C%20-117.087114%5D%2C%20%5B38.73133%2C%20-90.33763%5D%2C%20%5B38.005021%2C%20-121.750804%5D%2C%20%5B40.768204%2C%20-112.985938%5D%2C%20%5B32.931297%2C%20-97.315849%5D%2C%20%5B45.154654%2C%20-93.169606%5D%2C%20%5B34.138465999999994%2C%20-117.242714%5D%2C%20%5B33.954479%2C%20-80.924461%5D%2C%20%5B25.89659%2C%20-80.28648000000003%5D%2C%20%5B34.067612%2C%20-117.566681%5D%2C%20%5B33.886624%2C%20-118.325113%5D%2C%20%5B32.686756%2C%20-96.640015%5D%2C%20%5B37.41258%2C%20-122.07936%5D%2C%20%5B29.996099%2C%20-90.122124%5D%2C%20%5B26.188438%2C%20-80.151825%5D%2C%20%5B39.902439%2C%20-75.151156%5D%2C%20%5B33.584882%2C%20-79.02731%5D%2C%20%5B39.287689%2C%20-77.201714%5D%2C%20%5B32.910715%2C%20-96.881808%5D%2C%20%5B30.352633%2C%20-97.615929%5D%2C%20%5B40.75327%2C%20-74.21083%5D%2C%20%5B30.145332%2C%20-97.673454%5D%2C%20%5B42.04375%2C%20-87.76231%5D%2C%20%5B37.98256%2C%20-121.74705%5D%2C%20%5B34.0099%2C%20-117.823332%5D%2C%20%5B37.633747%2C%20-77.543114%5D%2C%20%5B38.157612%2C%20-85.718246%5D%2C%20%5B42.35786%2C%20-87.93464%5D%2C%20%5B38.515538%2C%20-111.831319%5D%2C%20%5B34.338264%2C%20-118.515579%5D%2C%20%5B33.97351%2C%20-117.37277%5D%2C%20%5B30.424227%2C%20-91.15078%5D%2C%20%5B39.02194%2C%20-76.47461%5D%2C%20%5B36.059067%2C%20-86.716248%5D%2C%20%5B27.767559%2C%20-80.550919%5D%2C%20%5B39.634239%2C%20-84.19884499999998%5D%2C%20%5B35.074272%2C%20-90.002113%5D%2C%20%5B29.700226%2C%20-95.288567%5D%2C%20%5B29.51976%2C%20-98.410957%5D%2C%20%5B34.128717%2C%20-117.938135%5D%2C%20%5B31.7374%2C%20-106.379982%5D%2C%20%5B38.938988%2C%20-77.133545%5D%2C%20%5B29.865662%2C%20-95.500183%5D%2C%20%5B34.053791%2C%20-84.593292%5D%2C%20%5B37.64217%2C%20-122.09212%5D%2C%20%5B36.357738%2C%20-82.394051%5D%2C%20%5B29.812790000000003%2C%20-95.40872%5D%2C%20%5B25.97053%2C%20-80.16575999999998%5D%2C%20%5B30.18651%2C%20-97.606003%5D%2C%20%5B39.89217%2C%20-83.039169%5D%2C%20%5B43.10533%2C%20-123.3601%5D%2C%20%5B33.773811%2C%20-84.56066899999998%5D%2C%20%5B40.72151%2C%20-111.90584%5D%2C%20%5B41.2602%2C%20-81.92756999999997%5D%2C%20%5B33.109320000000004%2C%20-84.00238%5D%2C%20%5B32.970673%2C%20-80.011803%5D%2C%20%5B32.170596999999994%2C%20-110.958386%5D%2C%20%5B35.48032%2C%20-80.87504%5D%2C%20%5B41.122194%2C%20-111.764851%5D%2C%20%5B42.427563%2C%20-87.90395%5D%2C%20%5B40.73993400000001%2C%20-74.080586%5D%2C%20%5B33.91183%2C%20-84.37395%5D%2C%20%5B43.04960300000001%2C%20-76.15355699999998%5D%2C%20%5B35.260803%2C%20-80.84123199999998%5D%2C%20%5B27.793538%2C%20-82.334979%5D%2C%20%5B39.8764%2C%20-104.801682%5D%2C%20%5B42.371223%2C%20-83.216599%5D%2C%20%5B45.0355%2C%20-92.9039%5D%2C%20%5B42.461308%2C%20-83.106026%5D%2C%20%5B32.494808%2C%20-93.757881%5D%2C%20%5B34.148464000000004%2C%20-118.469246%5D%2C%20%5B31.76303%2C%20-106.49031%5D%2C%20%5B39.014993%2C%20-84.62715899999998%5D%2C%20%5B32.91468%2C%20-97.317039%5D%2C%20%5B35.638569%2C%20-97.585556%5D%2C%20%5B37.77687%2C%20-122.23626000000002%5D%2C%20%5B38.58555%2C%20-90.217%5D%2C%20%5B33.97081%2C%20-117.33061%5D%2C%20%5B27.9606%2C%20-82.730278%5D%2C%20%5B39.95752%2C%20-75.160645%5D%2C%20%5B32.88389%2C%20-80.0204%5D%2C%20%5B43.053503000000006%2C%20-76.152197%5D%2C%20%5B34.02506%2C%20-118.20447%5D%2C%20%5B38.10011%2C%20-122.22965%5D%2C%20%5B38.48352%2C%20-90.82602%5D%2C%20%5B29.71838%2C%20-95.26605%5D%2C%20%5B36.189537%2C%20-86.80825%5D%2C%20%5B36.889221%2C%20-119.534271%5D%2C%20%5B32.76001%2C%20-97.150711%5D%2C%20%5B44.86555%2C%20-93.29896%5D%2C%20%5B33.968163%2C%20-118.16787%5D%2C%20%5B32.98338%2C%20-96.712438%5D%2C%20%5B34.09095%2C%20-118.23924%5D%2C%20%5B34.058208%2C%20-81.11173199999998%5D%2C%20%5B34.07224%2C%20-117.90755%5D%2C%20%5B29.655409%2C%20-95.344231%5D%2C%20%5B40.993927%2C%20-78.253651%5D%2C%20%5B33.089397%2C%20-87.67614%5D%2C%20%5B40.646255%2C%20-75.197357%5D%2C%20%5B39.63078%2C%20-84.20695%5D%2C%20%5B39.01045%2C%20-77.1508%5D%2C%20%5B43.60963%2C%20-123.22013%5D%2C%20%5B30.363195%2C%20-97.728991%5D%2C%20%5B33.45142%2C%20-112.134506%5D%2C%20%5B42.493881%2C%20-96.467949%5D%2C%20%5B37.931432%2C%20-121.621869%5D%2C%20%5B33.88341%2C%20-117.53907%5D%2C%20%5B44.63028%2C%20-123.061874%5D%2C%20%5B41.814949%2C%20-87.74092900000002%5D%2C%20%5B43.703168%2C%20-121.477081%5D%2C%20%5B30.445035%2C%20-87.233301%5D%2C%20%5B30.251431%2C%20-97.59568%5D%2C%20%5B39.013597%2C%20-77.05278%5D%2C%20%5B34.038456%2C%20-118.27401%5D%2C%20%5B25.78875%2C%20-80.20004%5D%2C%20%5B35.018539000000004%2C%20-82.43521899999998%5D%2C%20%5B35.092194%2C%20-80.933662%5D%2C%20%5B38.688911%2C%20-120.99073%5D%2C%20%5B29.846167%2C%20-95.36834%5D%2C%20%5B39.74644%2C%20-84.29221%5D%2C%20%5B32.690666%2C%20-117.118368%5D%2C%20%5B38.560219%2C%20-121.479729%5D%2C%20%5B34.023671%2C%20-118.172792%5D%2C%20%5B34.006817%2C%20-117.964445%5D%2C%20%5B33.996409%2C%20-117.87011499999998%5D%2C%20%5B35.511337%2C%20-97.565559%5D%2C%20%5B32.64885%2C%20-96.77621%5D%2C%20%5B34.027802%2C%20-81.2575%5D%2C%20%5B33.814809999999994%2C%20-79.03706%5D%2C%20%5B32.573582%2C%20-86.01387%5D%2C%20%5B42.202164%2C%20-71.079132%5D%2C%20%5B35.322243%2C%20-80.733154%5D%2C%20%5B38.000749%2C%20-121.149494%5D%2C%20%5B39.575608%2C%20-121.617048%5D%2C%20%5B40.10797%2C%20-83.11928%5D%2C%20%5B32.692299%2C%20-96.634216%5D%2C%20%5B32.738238%2C%20-97.463225%5D%2C%20%5B25.988148%2C%20-80.165745%5D%2C%20%5B33.763897%2C%20-117.831108%5D%2C%20%5B33.90189%2C%20-118.286911%5D%2C%20%5B33.53455%2C%20-112.11243%5D%2C%20%5B33.965069%2C%20-80.443878%5D%2C%20%5B34.018963%2C%20-117.499825%5D%2C%20%5B39.635471%2C%20-104.903717%5D%2C%20%5B33.509243%2C%20-112.04116100000002%5D%2C%20%5B34.03668%2C%20-81.11134%5D%2C%20%5B33.073711%2C%20-117.069794%5D%2C%20%5B25.83964%2C%20-80.20613%5D%2C%20%5B41.884979%2C%20-88.202744%5D%2C%20%5B38.011456%2C%20-122.118782%5D%2C%20%5B37.783089%2C%20-121.246384%5D%2C%20%5B33.681090999999995%2C%20-84.398354%5D%2C%20%5B37.71974%2C%20-122.44819%5D%2C%20%5B40.84053%2C%20-73.28148%5D%2C%20%5B33.777729%2C%20-117.832809%5D%2C%20%5B35.163113%2C%20-80.82817800000002%5D%2C%20%5B40.81115%2C%20-74.44706%5D%2C%20%5B40.14033%2C%20-75.16601%5D%2C%20%5B30.440557%2C%20-97.668533%5D%2C%20%5B40.71815%2C%20-111.89508%5D%2C%20%5B45.292918%2C%20-122.7695%5D%2C%20%5B29.853762%2C%20-95.390976%5D%2C%20%5B42.39023%2C%20-87.90443%5D%2C%20%5B33.792775%2C%20-118.102523%5D%2C%20%5B34.194851%2C%20-79.841972%5D%2C%20%5B45.663564%2C%20-108.766252%5D%2C%20%5B36.045295%2C%20-86.658745%5D%2C%20%5B39.28149000000001%2C%20-75.59305%5D%2C%20%5B29.80094%2C%20-95.54483%5D%2C%20%5B34.674747%2C%20-82.536873%5D%2C%20%5B36.17142%2C%20-86.76907%5D%2C%20%5B27.91038%2C%20-82.700828%5D%2C%20%5B28.756485%2C%20-81.287346%5D%2C%20%5B47.684792%2C%20-122.344437%5D%2C%20%5B28.207415%2C%20-82.694283%5D%2C%20%5B45.383942%2C%20-122.579239%5D%2C%20%5B33.85099%2C%20-117.81451%5D%2C%20%5B40.83155%2C%20-73.95071999999998%5D%2C%20%5B34.01913%2C%20-117.826666%5D%2C%20%5B30.36053%2C%20-97.706076%5D%2C%20%5B45.024223%2C%20-92.984756%5D%2C%20%5B42.400539%2C%20-83.070908%5D%2C%20%5B37.013462%2C%20-121.650299%5D%2C%20%5B33.916414%2C%20-118.270683%5D%2C%20%5B38.807%2C%20-76.98375%5D%2C%20%5B37.84259%2C%20-122.29759%5D%2C%20%5B40.962254%2C%20-73.736137%5D%2C%20%5B38.846924%2C%20-77.430992%5D%2C%20%5B33.766724%2C%20-97.134743%5D%2C%20%5B42.757091%2C%20-73.735956%5D%2C%20%5B37.89768%2C%20-122.09113%5D%2C%20%5B40.267319%2C%20-82.944511%5D%2C%20%5B35.229588%2C%20-80.867492%5D%2C%20%5B40.180997%2C%20-75.515906%5D%2C%20%5B36.74779%2C%20-119.82284%5D%2C%20%5B29.600140000000003%2C%20-95.33236%5D%2C%20%5B42.419624%2C%20-71.10393499999998%5D%2C%20%5B37.690529%2C%20-122.078224%5D%2C%20%5B30.05706%2C%20-89.93131600000002%5D%2C%20%5B35.594604%2C%20-97.638519%5D%2C%20%5B34.037306%2C%20-118.434476%5D%2C%20%5B38.906311%2C%20-84.642014%5D%2C%20%5B38.63688300000001%2C%20-121.328094%5D%2C%20%5B33.4618%2C%20-112.01853%5D%2C%20%5B32.895813000000004%2C%20-96.898056%5D%2C%20%5B34.319432%2C%20-118.494404%5D%2C%20%5B33.634399%2C%20-84.403847%5D%2C%20%5B34.226214%2C%20-118.375472%5D%2C%20%5B31.767294%2C%20-106.290787%5D%2C%20%5B42.344311%2C%20-87.936491%5D%2C%20%5B36.08879500000001%2C%20-86.796127%5D%2C%20%5B44.99559%2C%20-93.40089%5D%2C%20%5B38.012119%2C%20-121.866943%5D%2C%20%5B45.541824%2C%20-122.477386%5D%2C%20%5B35.90664%2C%20-77.49245%5D%2C%20%5B29.41781%2C%20-98.65011%5D%2C%20%5B37.976112%2C%20-121.741966%5D%2C%20%5B39.331749%2C%20-119.79203%5D%2C%20%5B34.143284%2C%20-118.740265%5D%2C%20%5B33.436852%2C%20-111.654121%5D%2C%20%5B29.875837%2C%20-95.412277%5D%2C%20%5B29.78376%2C%20-95.515594%5D%2C%20%5B38.845039%2C%20-77.3759%5D%2C%20%5B25.68663%2C%20-80.375404%5D%2C%20%5B33.876568%2C%20-118.082314%5D%2C%20%5B45.67914%2C%20-121.85299%5D%2C%20%5B34.201462%2C%20-118.47345%5D%2C%20%5B30.244633%2C%20-81.58921600000002%5D%2C%20%5B37.77286%2C%20-122.40655%5D%2C%20%5B33.145609%2C%20-117.193129%5D%2C%20%5B47.58004%2C%20-122.18127%5D%2C%20%5B38.433192%2C%20-121.399619%5D%2C%20%5B35.483643%2C%20-80.87484%5D%2C%20%5B39.761662%2C%20-104.772362%5D%2C%20%5B25.78583%2C%20-80.19068%5D%2C%20%5B25.762097%2C%20-80.334466%5D%2C%20%5B33.887955%2C%20-118.18936200000002%5D%2C%20%5B34.23356%2C%20-118.47298%5D%2C%20%5B38.97664%2C%20-94.5462%5D%2C%20%5B32.75971%2C%20-97.13479%5D%2C%20%5B25.98543%2C%20-80.165642%5D%2C%20%5B44.9666%2C%20-93.27349%5D%2C%20%5B33.758953000000005%2C%20-118.021751%5D%2C%20%5B40.148346%2C%20-75.204193%5D%2C%20%5B28.000749%2C%20-81.901177%5D%2C%20%5B38.01663%2C%20-121.99106%5D%2C%20%5B37.325597%2C%20-76.98256500000002%5D%2C%20%5B42.482498%2C%20-73.671364%5D%2C%20%5B42.82645%2C%20-85.68339%5D%2C%20%5B34.243938%2C%20-117.441277%5D%2C%20%5B33.877878%2C%20-117.545885%5D%2C%20%5B40.669032%2C%20-111.93886%5D%2C%20%5B38.876812%2C%20-76.667427%5D%2C%20%5B33.56861%2C%20-83.952699%5D%2C%20%5B36.69241%2C%20-119.758644%5D%2C%20%5B40.710419%2C%20-75.100418%5D%2C%20%5B27.136605%2C%20-80.28775300000002%5D%2C%20%5B42.38525%2C%20-83.15781%5D%2C%20%5B30.433275%2C%20-91.110744%5D%2C%20%5B39.093044%2C%20-77.079735%5D%2C%20%5B30.384359000000003%2C%20-91.064781%5D%2C%20%5B39.130219%2C%20-104.8638%5D%2C%20%5B42.626472%2C%20-70.978432%5D%2C%20%5B33.459118%2C%20-111.998047%5D%2C%20%5B34.068493%2C%20-117.97396100000002%5D%2C%20%5B37.380493%2C%20-121.959023%5D%2C%20%5B35.51209%2C%20-82.52685%5D%2C%20%5B39.377087%2C%20-104.750214%5D%2C%20%5B33.845198%2C%20-117.958696%5D%2C%20%5B45.6995%2C%20-121.63126%5D%2C%20%5B27.045429%2C%20-82.243622%5D%2C%20%5B26.580009000000004%2C%20-81.853218%5D%2C%20%5B34.03167%2C%20-118.41867%5D%2C%20%5B28.75644%2C%20-81.28748%5D%2C%20%5B40.741274%2C%20-111.826954%5D%2C%20%5B33.171505%2C%20-87.52490999999998%5D%2C%20%5B36.060806%2C%20-95.957848%5D%2C%20%5B32.153155%2C%20-110.986714%5D%2C%20%5B29.604702000000003%2C%20-95.48441%5D%2C%20%5B40.039951%2C%20-76.31772600000002%5D%2C%20%5B33.282940999999994%2C%20-111.800683%5D%2C%20%5B30.56052%2C%20-81.83240500000002%5D%2C%20%5B32.483143%2C%20-84.939499%5D%2C%20%5B45.470383%2C%20-122.685516%5D%2C%20%5B35.529491%2C%20-97.513992%5D%2C%20%5B43.089397%2C%20-85.632286%5D%2C%20%5B40.23666%2C%20-76.894058%5D%2C%20%5B32.918221%2C%20-96.855888%5D%2C%20%5B42.643466%2C%20-121.880203%5D%2C%20%5B40.544945%2C%20-74.331123%5D%2C%20%5B33.97805%2C%20-81.194801%5D%2C%20%5B29.496809%2C%20-98.478622%5D%2C%20%5B35.697895%2C%20-78.590365%5D%2C%20%5B35.72787%2C%20-119.7361%5D%2C%20%5B34.695998%2C%20-120.46258799999998%5D%2C%20%5B41.14237%2C%20-73.27403000000002%5D%2C%20%5B40.72265%2C%20-84.05167%5D%2C%20%5B38.88572%2C%20-112.42154%5D%2C%20%5B34.669374%2C%20-92.350911%5D%2C%20%5B34.065773%2C%20-117.995431%5D%2C%20%5B26.06231%2C%20-80.16339%5D%2C%20%5B47.06826%2C%20-122.717735%5D%2C%20%5B40.413788%2C%20-111.868828%5D%2C%20%5B45.299141%2C%20-92.97184%5D%2C%20%5B30.314735%2C%20-81.792831%5D%2C%20%5B33.864462%2C%20-117.878046%5D%2C%20%5B43.02301%2C%20-77.796791%5D%2C%20%5B30.40661%2C%20-87.733963%5D%2C%20%5B34.143078%2C%20-80.749977%5D%2C%20%5B37.31501%2C%20-121.914246%5D%2C%20%5B32.365833%2C%20-86.271233%5D%2C%20%5B38.574008%2C%20-121.383103%5D%2C%20%5B34.143352%2C%20-117.257364%5D%2C%20%5B35.22673%2C%20-80.969849%5D%2C%20%5B27.92367%2C%20-82.71929899999998%5D%2C%20%5B43.108219%2C%20-77.499847%5D%2C%20%5B41.97555300000001%2C%20-72.811145%5D%2C%20%5B34.10675%2C%20-117.8218%5D%2C%20%5B39.025677%2C%20-84.534615%5D%2C%20%5B33.99855%2C%20-118.176147%5D%2C%20%5B29.66917%2C%20-95.2622%5D%2C%20%5B30.394144%2C%20-97.746681%5D%2C%20%5B35.2575%2C%20-80.8327%5D%2C%20%5B28.61538%2C%20-80.80827%5D%2C%20%5B43.98401%2C%20-123.00818999999998%5D%2C%20%5B41.62716%2C%20-72.1989%5D%2C%20%5B37.41093%2C%20-88.86787%5D%2C%20%5B40.381954%2C%20-76.656643%5D%2C%20%5B33.67729%2C%20-112.112871%5D%2C%20%5B41.249386%2C%20-73.92971800000002%5D%2C%20%5B45.678566%2C%20-122.664467%5D%2C%20%5B38.575222%2C%20-121.548935%5D%2C%20%5B41.494003%2C%20-81.684219%5D%2C%20%5B32.866356%2C%20-97.101768%5D%2C%20%5B39.07743%2C%20-77.168417%5D%2C%20%5B39.02554%2C%20-84.56296999999998%5D%2C%20%5B32.7582%2C%20-96.80943%5D%2C%20%5B30.25427%2C%20-82.396826%5D%2C%20%5B36.162905%2C%20-95.907799%5D%2C%20%5B38.88918%2C%20-76.86995%5D%2C%20%5B45.510269%2C%20-92.993301%5D%2C%20%5B34.046826%2C%20-118.945301%5D%2C%20%5B38.30942%2C%20-85.84721%5D%2C%20%5B34.890877%2C%20-80.99517800000002%5D%2C%20%5B33.964283%2C%20-118.120224%5D%2C%20%5B42.446602%2C%20-83.09491%5D%2C%20%5B33.998075%2C%20-81.108774%5D%2C%20%5B42.74443%2C%20-77.59668%5D%2C%20%5B40.186211%2C%20-82.805939%5D%2C%20%5B40.153957%2C%20-110.219421%5D%2C%20%5B35.21933%2C%20-80.84711999999998%5D%2C%20%5B36.13985%2C%20-85.79066%5D%2C%20%5B25.775515%2C%20-80.36936999999998%5D%2C%20%5B35.685989%2C%20-78.618454%5D%2C%20%5B47.553776%2C%20-122.30273400000002%5D%2C%20%5B44.08478%2C%20-92.51033%5D%2C%20%5B34.02506%2C%20-118.20447%5D%2C%20%5B40.617433%2C%20-111.905079%5D%2C%20%5B45.8501%2C%20-95.40776%5D%2C%20%5B35.705147%2C%20-78.60086%5D%2C%20%5B44.323043%2C%20-93.296514%5D%2C%20%5B33.70505%2C%20-117.9539%5D%2C%20%5B40.267689%2C%20-75.24247700000002%5D%2C%20%5B39.74289%2C%20-83.02374%5D%2C%20%5B33.860170000000004%2C%20-78.65666%5D%2C%20%5B38.77428%2C%20-77.18195%5D%2C%20%5B33.65251%2C%20-83.69041999999997%5D%2C%20%5B41.846104%2C%20-87.97219100000002%5D%2C%20%5B35.14627%2C%20-80.92644%5D%2C%20%5B29.452795%2C%20-98.630348%5D%2C%20%5B38.025768%2C%20-122.259552%5D%2C%20%5B37.69624500000001%2C%20-121.361505%5D%2C%20%5B39.98251%2C%20-120.941353%5D%2C%20%5B38.053101%2C%20-122.225212%5D%2C%20%5B44.9832%2C%20-93.400681%5D%2C%20%5B38.93129%2C%20-94.66332%5D%2C%20%5B44.939808%2C%20-93.075615%5D%2C%20%5B34.226195000000004%2C%20-118.375976%5D%2C%20%5B34.135546999999995%2C%20-117.984268%5D%2C%20%5B39.305191%2C%20-120.52478%5D%2C%20%5B32.456455%2C%20-93.779985%5D%2C%20%5B43.99157%2C%20-121.33368%5D%2C%20%5B37.332439%2C%20-121.844795%5D%2C%20%5B35.33889%2C%20-80.82418100000002%5D%2C%20%5B35.478771%2C%20-97.607803%5D%2C%20%5B43.023891%2C%20-83.517853%5D%2C%20%5B42.4276%2C%20-123.237755%5D%2C%20%5B38.405514%2C%20-121.996033%5D%2C%20%5B37.667338%2C%20-121.327468%5D%2C%20%5B33.77834%2C%20-117.8965%5D%2C%20%5B34.233558%2C%20-118.472957%5D%2C%20%5B39.913857%2C%20-104.9533%5D%2C%20%5B34.794891%2C%20-118.237556%5D%2C%20%5B32.22162%2C%20-110.92661%5D%2C%20%5B32.837463%2C%20-97.121498%5D%2C%20%5B38.19692%2C%20-85.83179%5D%2C%20%5B36.669091%2C%20-121.75502%5D%2C%20%5B36.929167%2C%20-121.5475%5D%2C%20%5B36.119038%2C%20-95.859726%5D%2C%20%5B33.482927000000004%2C%20-93.979915%5D%2C%20%5B43.17915%2C%20-77.57579799999998%5D%2C%20%5B30.328068%2C%20-97.665977%5D%2C%20%5B37.085798%2C%20-121.597892%5D%2C%20%5B39.789055%2C%20-86.052582%5D%2C%20%5B47.25545%2C%20-122.25883%5D%2C%20%5B35.224297%2C%20-80.890915%5D%2C%20%5B34.036751%2C%20-118.317757%5D%2C%20%5B34.872032%2C%20-82.224571%5D%2C%20%5B34.194720000000004%2C%20-91.92086%5D%2C%20%5B43.00921%2C%20-83.812218%5D%2C%20%5B38.09588%2C%20-122.235026%5D%2C%20%5B39.725502%2C%20-105.032722%5D%2C%20%5B39.528004%2C%20-119.617455%5D%2C%20%5B37.681023%2C%20-77.540283%5D%2C%20%5B41.592505%2C%20-93.694092%5D%2C%20%5B30.285367%2C%20-97.682962%5D%2C%20%5B36.602546%2C%20-119.658271%5D%2C%20%5B25.942655%2C%20-80.204303%5D%2C%20%5B40.927509%2C%20-73.812294%5D%2C%20%5B39.725491%2C%20-105.01593%5D%2C%20%5B40.42429%2C%20-122.28255%5D%2C%20%5B45.686703%2C%20-121.297669%5D%2C%20%5B35.28415%2C%20-80.83551%5D%2C%20%5B29.7247%2C%20-95.49035%5D%2C%20%5B46.98263%2C%20-122.64896%5D%2C%20%5B44.938343%2C%20-92.959732%5D%2C%20%5B28.59344%2C%20-81.7143%5D%2C%20%5B42.840076%2C%20-73.772064%5D%2C%20%5B40.7685%2C%20-73.90657%5D%2C%20%5B46.593735%2C%20-112.113069%5D%2C%20%5B41.062855%2C%20-77.445534%5D%2C%20%5B36.108669%2C%20-95.828445%5D%2C%20%5B27.795790000000004%2C%20-82.66164%5D%2C%20%5B42.055157%2C%20-88.509888%5D%2C%20%5B39.79373%2C%20-84.1263%5D%2C%20%5B29.738527%2C%20-95.592827%5D%2C%20%5B34.70171%2C%20-82.916801%5D%2C%20%5B34.95322%2C%20-82.260572%5D%2C%20%5B32.930649%2C%20-96.761192%5D%2C%20%5B35.612222%2C%20-119.650556%5D%2C%20%5B44.741714%2C%20-124.055779%5D%2C%20%5B35.34401%2C%20-80.88024%5D%2C%20%5B39.825823%2C%20-82.72001999999998%5D%2C%20%5B42.28738%2C%20-83.19473%5D%2C%20%5B39.391418%2C%20-123.327202%5D%2C%20%5B39.796772%2C%20-86.117035%5D%2C%20%5B33.99536%2C%20-117.36164%5D%2C%20%5B39.72546%2C%20-105.02535%5D%2C%20%5B32.64204%2C%20-96.82996%5D%2C%20%5B32.240665%2C%20-110.943993%5D%2C%20%5B39.69565%2C%20-75.39986%5D%2C%20%5B38.648976%2C%20-121.30827%5D%2C%20%5B44.127128000000006%2C%20-124.123602%5D%2C%20%5B41.577644%2C%20-87.58139399999997%5D%2C%20%5B33.404327%2C%20-97.176369%5D%2C%20%5B44.84383%2C%20-93.24673%5D%2C%20%5B42.26592%2C%20-83.25112%5D%2C%20%5B41.816826%2C%20-88.204903%5D%2C%20%5B25.789827%2C%20-80.401037%5D%2C%20%5B35.283817%2C%20-81.187965%5D%2C%20%5B34.222103000000004%2C%20-119.113808%5D%2C%20%5B34.226746%2C%20-118.38768799999998%5D%2C%20%5B32.926212%2C%20-96.820824%5D%2C%20%5B33.172337%2C%20-87.44062%5D%2C%20%5B38.528681%2C%20-121.7569%5D%2C%20%5B29.053677%2C%20-82.283231%5D%2C%20%5B42.385277%2C%20-83.27504%5D%2C%20%5B28.61099%2C%20-81.3867%5D%2C%20%5B39.725155%2C%20-122.140938%5D%2C%20%5B45.04058%2C%20-93.40071%5D%2C%20%5B43.11396%2C%20-75.5979%5D%2C%20%5B39.757305%2C%20-104.827782%5D%2C%20%5B36.035938%2C%20-86.61113%5D%2C%20%5B41.083838%2C%20-77.47964499999998%5D%2C%20%5B33.768436%2C%20-117.867508%5D%2C%20%5B26.02801%2C%20-80.16594%5D%2C%20%5B33.92889%2C%20-118.291573%5D%2C%20%5B32.266869%2C%20-86.35507199999998%5D%2C%20%5B32.795842%2C%20-96.760901%5D%2C%20%5B45.194372%2C%20-121.690326%5D%2C%20%5B33.665775%2C%20-78.969994%5D%2C%20%5B39.940438%2C%20-75.59071%5D%2C%20%5B42.51479000000001%2C%20-122.81188%5D%2C%20%5B38.897293%2C%20-121.078094%5D%2C%20%5B39.9526%2C%20-83.01118000000002%5D%2C%20%5B35.792374%2C%20-78.745468%5D%2C%20%5B39.235561%2C%20-76.88095899999998%5D%2C%20%5B35.413792%2C%20-80.87271899999998%5D%2C%20%5B32.725015%2C%20-117.074231%5D%2C%20%5B30.22496%2C%20-97.870361%5D%2C%20%5B37.575054%2C%20-122.04689%5D%2C%20%5B33.837498%2C%20-118.261726%5D%2C%20%5B43.01649000000001%2C%20-85.68289%5D%2C%20%5B39.635235%2C%20-84.195923%5D%2C%20%5B30.507155%2C%20-87.161847%5D%2C%20%5B41.495674%2C%20-81.678101%5D%2C%20%5B35.847002%2C%20-86.700222%5D%2C%20%5B33.961647%2C%20-118.370064%5D%2C%20%5B38.436951%2C%20-122.85762%5D%2C%20%5B47.463835%2C%20-122.296336%5D%2C%20%5B34.58593%2C%20-82.26593000000003%5D%2C%20%5B38.69399%2C%20-90.45066%5D%2C%20%5B36.588113%2C%20-86.60578000000002%5D%2C%20%5B38.5738%2C%20-121.57985%5D%2C%20%5B36.210837%2C%20-119.153971%5D%2C%20%5B32.901775%2C%20-80.022568%5D%2C%20%5B43.159825%2C%20-77.419984%5D%2C%20%5B40.052883%2C%20-75.34944200000002%5D%2C%20%5B38.24555%2C%20-122.07974%5D%2C%20%5B39.968731%2C%20-82.959808%5D%2C%20%5B26.590259000000003%2C%20-81.893589%5D%2C%20%5B39.989131%2C%20-111.49896499999998%5D%2C%20%5B41.511276%2C%20-88.124245%5D%2C%20%5B38.9699%2C%20-77.17952%5D%2C%20%5B35.257416%2C%20-81.043755%5D%2C%20%5B36.103506%2C%20-119.564406%5D%2C%20%5B42.394211%2C%20-71.067543%5D%2C%20%5B36.950057%2C%20-121.552809%5D%2C%20%5B43.194796%2C%20-77.628765%5D%2C%20%5B36.15443%2C%20-86.76102%5D%2C%20%5B25.823117%2C%20-80.206385%5D%2C%20%5B32.694469%2C%20-117.125275%5D%2C%20%5B28.639994%2C%20-81.435567%5D%2C%20%5B40.724167%2C%20-73.93763%5D%2C%20%5B47.68421%2C%20-122.3233%5D%2C%20%5B43.597057%2C%20-84.08961500000002%5D%2C%20%5B37.64596%2C%20-122.09305%5D%2C%20%5B36.07902%2C%20-79.9544%5D%2C%20%5B34.293601%2C%20-118.470233%5D%2C%20%5B35.84827%2C%20-78.556351%5D%2C%20%5B41.282597%2C%20-73.820015%5D%2C%20%5B32.757359%2C%20-97.263649%5D%2C%20%5B29.745581%2C%20-95.378998%5D%2C%20%5B30.95783%2C%20-86.46848299999998%5D%2C%20%5B37.668953%2C%20-122.10939%5D%2C%20%5B34.025476%2C%20-118.205711%5D%2C%20%5B38.784523%2C%20-75.873517%5D%2C%20%5B41.91487%2C%20-88.20871%5D%2C%20%5B30.349361%2C%20-91.080123%5D%2C%20%5B28.132476%2C%20-81.917085%5D%2C%20%5B37.62779000000001%2C%20-122.08183%5D%2C%20%5B25.800557%2C%20-80.375744%5D%2C%20%5B41.409519%2C%20-73.78679699999998%5D%2C%20%5B34.335787%2C%20-83.109077%5D%2C%20%5B45.469126%2C%20-122.690434%5D%2C%20%5B36.127029%2C%20-86.727776%5D%2C%20%5B40.7421%2C%20-73.729001%5D%2C%20%5B35.551201%2C%20-97.623062%5D%2C%20%5B35.10508%2C%20-80.88619200000002%5D%2C%20%5B35.894809%2C%20-78.62261600000002%5D%2C%20%5B39.328955%2C%20-76.74480600000003%5D%2C%20%5B37.77278%2C%20-121.97316%5D%2C%20%5B39.013451%2C%20-77.036563%5D%2C%20%5B28.199961%2C%20-82.646912%5D%2C%20%5B43.06056%2C%20-83.77296%5D%2C%20%5B29.431433%2C%20-82.417296%5D%2C%20%5B37.248894%2C%20-122.068092%5D%2C%20%5B39.02464000000001%2C%20-94.69139%5D%2C%20%5B34.046996%2C%20-118.267955%5D%2C%20%5B25.353893%2C%20-80.45884000000002%5D%2C%20%5B33.657619%2C%20-81.67462900000002%5D%2C%20%5B33.3778%2C%20-111.841721%5D%2C%20%5B37.81903%2C%20-122.25363%5D%2C%20%5B29.654211%2C%20-95.565429%5D%2C%20%5B40.105108%2C%20-75.41978%5D%2C%20%5B39.157408%2C%20-94.58869%5D%2C%20%5B28.602579%2C%20-81.42842900000002%5D%2C%20%5B28.222094%2C%20-82.383812%5D%2C%20%5B40.22020300000001%2C%20-75.247986%5D%2C%20%5B43.036156%2C%20-76.33669300000003%5D%2C%20%5B38.036018%2C%20-84.396919%5D%2C%20%5B27.923571000000006%2C%20-82.335121%5D%2C%20%5B42.29743%2C%20-85.0816%5D%2C%20%5B29.730715000000004%2C%20-95.592476%5D%2C%20%5B41.76987800000001%2C%20-72.68264%5D%2C%20%5B32.7001%2C%20-117.0947%5D%2C%20%5B38.442604%2C%20-121.404045%5D%2C%20%5B41.82048%2C%20-88.203812%5D%2C%20%5B33.871868%2C%20-117.70105%5D%2C%20%5B39.03464%2C%20-94.30935%5D%2C%20%5B33.657001%2C%20-84.497742%5D%2C%20%5B30.420555%2C%20-97.704376%5D%2C%20%5B35.219398%2C%20-80.72305300000002%5D%2C%20%5B44.426256%2C%20-121.877935%5D%2C%20%5B29.848141%2C%20-95.342888%5D%2C%20%5B34.221385%2C%20-118.475572%5D%2C%20%5B42.66316%2C%20-78.95702%5D%2C%20%5B35.440529%2C%20-80.865273%5D%2C%20%5B35.7864%2C%20-78.715469%5D%2C%20%5B28.690607%2C%20-81.38861800000002%5D%2C%20%5B32.751404%2C%20-117.00145%5D%2C%20%5B39.78152100000001%2C%20-86.083199%5D%2C%20%5B40.513223%2C%20-78.844435%5D%2C%20%5B42.92393%2C%20-115.68004%5D%2C%20%5B40.73547%2C%20-73.85982%5D%2C%20%5B33.916434%2C%20-118.294404%5D%2C%20%5B41.70099%2C%20-83.52736999999998%5D%2C%20%5B26.02428%2C%20-80.16695%5D%2C%20%5B39.178079%2C%20-76.69285%5D%2C%20%5B35.52232700000001%2C%20-97.654305%5D%2C%20%5B35.973564%2C%20-83.920197%5D%2C%20%5B40.6903%2C%20-73.99865%5D%2C%20%5B35.31880800000001%2C%20-80.72949399999997%5D%2C%20%5B40.93815%2C%20-121.60661100000002%5D%2C%20%5B40.843342%2C%20-73.927757%5D%2C%20%5B35.178912%2C%20-80.78713%5D%2C%20%5B40.755348%2C%20-73.96167%5D%2C%20%5B41.29319%2C%20-73.87056%5D%2C%20%5B33.944844%2C%20-118.099155%5D%2C%20%5B35.21700999999999%2C%20-80.857445%5D%2C%20%5B33.632961%2C%20-112.082817%5D%2C%20%5B36.038906%2C%20-86.782555%5D%2C%20%5B43.611376%2C%20-84.228085%5D%2C%20%5B26.882999%2C%20-80.09983100000002%5D%2C%20%5B36.06377%2C%20-79.431152%5D%2C%20%5B38.12868%2C%20-77.51279%5D%2C%20%5B34.065653000000005%2C%20-117.9962%5D%2C%20%5B35.211937%2C%20-80.853279%5D%2C%20%5B41.809669%2C%20-87.99041700000002%5D%2C%20%5B36.178972%2C%20-86.773668%5D%2C%20%5B34.136464000000004%2C%20-117.447945%5D%2C%20%5B35.313019%2C%20-80.708626%5D%2C%20%5B38.458723%2C%20-122.422745%5D%2C%20%5B38.83859%2C%20-77.2513%5D%2C%20%5B34.030481%2C%20-118.274529%5D%2C%20%5B33.580101%2C%20-112.283722%5D%2C%20%5B30.350021%2C%20-81.668297%5D%2C%20%5B42.33528%2C%20-83.21589%5D%2C%20%5B32.248123%2C%20-110.974983%5D%2C%20%5B39.25164%2C%20-76.823639%5D%2C%20%5B37.003869%2C%20-76.320349%5D%2C%20%5B45.52114%2C%20-122.4726%5D%2C%20%5B38.492667%2C%20-121.442232%5D%2C%20%5B40.78954%2C%20-111.91495%5D%2C%20%5B29.948694%2C%20-90.099121%5D%2C%20%5B30.182963%2C%20-97.687735%5D%2C%20%5B35.48698800000001%2C%20-97.636658%5D%2C%20%5B34.613232%2C%20-86.567123%5D%2C%20%5B45.687227%2C%20-121.71128%5D%2C%20%5B36.046371%2C%20-95.899246%5D%2C%20%5B37.04547%2C%20-120.161391%5D%2C%20%5B33.88394%2C%20-117.52528999999998%5D%2C%20%5B34.0767%2C%20-117.74506%5D%2C%20%5B45.53418%2C%20-122.6662%5D%2C%20%5B29.449013%2C%20-95.077072%5D%2C%20%5B27.820951%2C%20-82.744858%5D%2C%20%5B36.060332%2C%20-119.30581200000002%5D%2C%20%5B33.262596%2C%20-111.824219%5D%2C%20%5B37.77551%2C%20-77.89689%5D%2C%20%5B32.144596%2C%20-86.377365%5D%2C%20%5B33.525991%2C%20-117.16508%5D%2C%20%5B43.62369%2C%20-70.35287%5D%2C%20%5B32.794079%2C%20-97.21243%5D%2C%20%5B40.029415%2C%20-83.032219%5D%2C%20%5B30.303625%2C%20-97.660988%5D%2C%20%5B37.590141%2C%20-77.50389100000002%5D%2C%20%5B33.766358000000004%2C%20-118.015983%5D%2C%20%5B41.267963%2C%20-95.941071%5D%2C%20%5B44.608539%2C%20-123.06219%5D%2C%20%5B37.491402%2C%20-120.630814%5D%2C%20%5B37.99173%2C%20-122.07813%5D%2C%20%5B40.34363%2C%20-82.290836%5D%2C%20%5B38.974431%2C%20-77.799027%5D%2C%20%5B29.869968%2C%20-95.365623%5D%2C%20%5B41.47401%2C%20-81.697691%5D%2C%20%5B41.23875%2C%20-73.021896%5D%2C%20%5B33.428528%2C%20-81.886971%5D%2C%20%5B37.491447%2C%20-77.445427%5D%2C%20%5B32.909515%2C%20-96.82959%5D%2C%20%5B38.00054%2C%20-122.05438999999998%5D%2C%20%5B48.884614%2C%20-122.32062%5D%2C%20%5B32.836933%2C%20-97.009483%5D%2C%20%5B36.046013%2C%20-79.76971400000002%5D%2C%20%5B47.38965%2C%20-122.29077%5D%2C%20%5B33.135563%2C%20-116.380499%5D%2C%20%5B40.28579600000001%2C%20-111.72535%5D%2C%20%5B36.18078%2C%20-115.08037%5D%2C%20%5B44.75254%2C%20-117.8112%5D%2C%20%5B47.660175%2C%20-117.41317%5D%2C%20%5B43.239323%2C%20-77.646835%5D%2C%20%5B38.041468%2C%20-122.123672%5D%2C%20%5B28.067225%2C%20-82.738968%5D%2C%20%5B40.265225%2C%20-74.840389%5D%2C%20%5B28.342121%2C%20-81.483315%5D%2C%20%5B41.85893%2C%20-88.095995%5D%2C%20%5B32.814941%2C%20-79.954033%5D%2C%20%5B35.069695%2C%20-82.45179%5D%2C%20%5B43.25479%2C%20-124.27952%5D%2C%20%5B38.453487%2C%20-121.371623%5D%2C%20%5B33.1318%2C%20-87.14408900000002%5D%2C%20%5B29.724562%2C%20-95.592354%5D%2C%20%5B34.925018%2C%20-81.993347%5D%2C%20%5B34.876652%2C%20-82.226173%5D%2C%20%5B26.680553000000003%2C%20-80.16350600000001%5D%2C%20%5B37.452118%2C%20-122.126907%5D%2C%20%5B40.968857%2C%20-73.81710799999998%5D%2C%20%5B34.06755%2C%20-117.561208%5D%2C%20%5B40.07133%2C%20-74.95785%5D%2C%20%5B28.5931%2C%20-81.367746%5D%2C%20%5B38.527947%2C%20-121.469103%5D%2C%20%5B29.782403%2C%20-95.452404%5D%2C%20%5B40.766598%2C%20-73.90396899999998%5D%2C%20%5B39.82701%2C%20-75.43441%5D%2C%20%5B42.41272%2C%20-122.55475%5D%2C%20%5B34.004011%2C%20-117.830189%5D%2C%20%5B33.928036%2C%20-118.254044%5D%2C%20%5B39.77713%2C%20-84.20285%5D%2C%20%5B34.493918%2C%20-117.686447%5D%2C%20%5B40.056794%2C%20-82.95324000000002%5D%2C%20%5B32.835006%2C%20-117.233283%5D%2C%20%5B30.52126%2C%20-97.68888%5D%2C%20%5B29.526796%2C%20-95.387093%5D%2C%20%5B42.350185%2C%20-83.099335%5D%2C%20%5B39.7839%2C%20-105.0251%5D%2C%20%5B33.189378999999995%2C%20-117.361694%5D%2C%20%5B38.563351%2C%20-121.341578%5D%2C%20%5B37.500127%2C%20-121.928566%5D%2C%20%5B39.579372%2C%20-122.210734%5D%2C%20%5B42.30364%2C%20-121.93552%5D%2C%20%5B33.332691%2C%20-86.997665%5D%2C%20%5B25.785566%2C%20-80.264313%5D%2C%20%5B42.91624%2C%20-89.08521999999998%5D%2C%20%5B29.59388%2C%20-95.230812%5D%2C%20%5B38.714561%2C%20-122.917503%5D%2C%20%5B37.232063%2C%20-80.238419%5D%2C%20%5B30.336584%2C%20-97.696932%5D%2C%20%5B34.072134000000005%2C%20-117.488845%5D%2C%20%5B30.731148%2C%20-85.185468%5D%2C%20%5B33.74566%2C%20-84.34585%5D%2C%20%5B44.864447%2C%20-91.682736%5D%2C%20%5B31.792271000000003%2C%20-106.404449%5D%2C%20%5B39.190013%2C%20-120.976812%5D%2C%20%5B33.747646%2C%20-84.38623100000002%5D%2C%20%5B32.89304%2C%20-79.977104%5D%2C%20%5B34.146797%2C%20-118.226097%5D%2C%20%5B40.57271%2C%20-74.3298%5D%2C%20%5B33.88494%2C%20-117.521319%5D%2C%20%5B35.368515%2C%20-118.976418%5D%2C%20%5B42.067516%2C%20-88.291077%5D%2C%20%5B41.93555%2C%20-86.36657%5D%2C%20%5B33.89597%2C%20-118.051%5D%2C%20%5B38.685448%2C%20-85.788116%5D%2C%20%5B35.087475%2C%20-80.81190500000002%5D%2C%20%5B39.5515%2C%20-76.66664200000002%5D%2C%20%5B32.3627%2C%20-111.09409%5D%2C%20%5B39.950317%2C%20-83.01724200000002%5D%2C%20%5B34.061417%2C%20-117.978391%5D%2C%20%5B45.501776%2C%20-122.674251%5D%2C%20%5B30.203552%2C%20-92.013885%5D%2C%20%5B34.060547%2C%20-118.215187%5D%2C%20%5B47.653858%2C%20-117.360352%5D%2C%20%5B40.673672%2C%20-73.734123%5D%2C%20%5B27.43125%2C%20-82.575462%5D%2C%20%5B35.911179%2C%20-84.12183399999998%5D%2C%20%5B42.35494%2C%20-71.11846%5D%2C%20%5B39.151285%2C%20-120.145799%5D%2C%20%5B30.149151%2C%20-91.989182%5D%2C%20%5B45.54109%2C%20-122.470607%5D%2C%20%5B28.548401%2C%20-81.447418%5D%2C%20%5B39.543929%2C%20-77.224267%5D%2C%20%5B34.077755%2C%20-118.283754%5D%2C%20%5B33.933784%2C%20-81.20945%5D%2C%20%5B37.77561%2C%20-121.31994%5D%2C%20%5B40.350379%2C%20-104.981105%5D%2C%20%5B26.174074%2C%20-81.739662%5D%2C%20%5B39.071609%2C%20-94.52169%5D%2C%20%5B33.994240000000005%2C%20-117.90509%5D%2C%20%5B29.7103%2C%20-95.401848%5D%2C%20%5B37.63091%2C%20-77.56789%5D%2C%20%5B37.656998%2C%20-122.406433%5D%2C%20%5B41.02547%2C%20-81.500961%5D%2C%20%5B45.21486%2C%20-118.02496%5D%2C%20%5B34.076542%2C%20-117.746029%5D%2C%20%5B32.923285%2C%20-96.403001%5D%2C%20%5B33.42133%2C%20-82.06455%5D%2C%20%5B45.10656%2C%20-93.188057%5D%2C%20%5B39.09723%2C%20-84.51964%5D%2C%20%5B39.970829%2C%20-75.039139%5D%2C%20%5B41.112045%2C%20-95.947273%5D%2C%20%5B36.305809%2C%20-82.369049%5D%2C%20%5B33.467842%2C%20-112.190842%5D%2C%20%5B39.745331%2C%20-84.180222%5D%2C%20%5B44.765812%2C%20-93.21772%5D%2C%20%5B39.25086%2C%20-94.65846%5D%2C%20%5B33.740320000000004%2C%20-84.23062%5D%2C%20%5B33.923924%2C%20-84.35795%5D%2C%20%5B38.685791%2C%20-77.228266%5D%2C%20%5B38.92825%2C%20-94.52655%5D%2C%20%5B38.478199%2C%20-121.426872%5D%2C%20%5B30.190359%2C%20-97.770462%5D%2C%20%5B37.408367%2C%20-122.068737%5D%2C%20%5B40.752958%2C%20-78.219748%5D%2C%20%5B33.743202000000004%2C%20-117.127823%5D%2C%20%5B30.258909000000006%2C%20-92.108131%5D%2C%20%5B35.42805900000001%2C%20-97.493645%5D%2C%20%5B34.051056%2C%20-117.548752%5D%2C%20%5B35.223606%2C%20-80.84144599999998%5D%2C%20%5B34.068741%2C%20-117.361252%5D%2C%20%5B39.63158%2C%20-84.20429200000002%5D%2C%20%5B42.881537%2C%20-78.88081600000002%5D%2C%20%5B34.191002000000005%2C%20-117.361107%5D%2C%20%5B32.133846000000005%2C%20-110.990562%5D%2C%20%5B36.966377%2C%20-76.292885%5D%2C%20%5B37.145226%2C%20-121.984657%5D%2C%20%5B44.966019%2C%20-93.267235%5D%2C%20%5B42.38084%2C%20-83.03227%5D%2C%20%5B45.42365%2C%20-122.6336%5D%2C%20%5B39.806869%2C%20-84.22319%5D%2C%20%5B41.194407%2C%20-112.02583%5D%2C%20%5B33.62508%2C%20-112.202461%5D%2C%20%5B41.366718%2C%20-72.12361899999998%5D%2C%20%5B29.765451%2C%20-95.37233%5D%2C%20%5B42.15264000000001%2C%20-87.799516%5D%2C%20%5B42.496685%2C%20-83.446686%5D%2C%20%5B41.66127%2C%20-87.7385%5D%2C%20%5B47.405262%2C%20-122.29258%5D%2C%20%5B37.538727%2C%20-77.888153%5D%2C%20%5B32.766002%2C%20-96.896136%5D%2C%20%5B34.104626%2C%20-80.829453%5D%2C%20%5B33.068233%2C%20-117.293327%5D%2C%20%5B47.56123%2C%20-122.32312%5D%2C%20%5B41.14055%2C%20-112.02558%5D%2C%20%5B29.859201%2C%20-95.403114%5D%2C%20%5B38.48166%2C%20-121.33428%5D%2C%20%5B42.487061%2C%20-83.47573100000002%5D%2C%20%5B28.450129%2C%20-81.474159%5D%2C%20%5B34.030559999999994%2C%20-117.64511%5D%2C%20%5B45.155686%2C%20-123.109152%5D%2C%20%5B42.040462%2C%20-87.823555%5D%2C%20%5B37.765912%2C%20-122.40523%5D%2C%20%5B35.268547%2C%20-118.675583%5D%2C%20%5B34.417921%2C%20-79.407892%5D%2C%20%5B33.96457%2C%20-117.32573%5D%2C%20%5B39.671467%2C%20-90.838097%5D%2C%20%5B39.641136%2C%20-75.802177%5D%2C%20%5B39.384495%2C%20-76.734177%5D%2C%20%5B34.276096%2C%20-118.49491%5D%2C%20%5B42.19044%2C%20-123.64854%5D%2C%20%5B38.30267%2C%20-85.852127%5D%2C%20%5B40.66975%2C%20-75.216476%5D%2C%20%5B29.867266%2C%20-95.56385%5D%2C%20%5B37.58565%2C%20-77.42385%5D%2C%20%5B45.83996%2C%20-119.29019%5D%2C%20%5B40.85100900000001%2C%20-73.89380600000001%5D%2C%20%5B34.099358%2C%20-117.819229%5D%2C%20%5B29.735447%2C%20-95.520966%5D%2C%20%5B34.274967%2C%20-118.493423%5D%2C%20%5B34.083557%2C%20-118.29847%5D%2C%20%5B30.21129%2C%20-97.75869%5D%2C%20%5B30.149694%2C%20-97.792707%5D%2C%20%5B25.88019%2C%20-80.20895%5D%2C%20%5B33.766597%2C%20-84.525665%5D%2C%20%5B47.805131%2C%20-122.129236%5D%2C%20%5B34.157647%2C%20-118.453132%5D%2C%20%5B37.209724%2C%20-121.723328%5D%2C%20%5B27.445227000000006%2C%20-82.468601%5D%2C%20%5B34.104134%2C%20-117.30217%5D%2C%20%5B35.884724%2C%20-119.214771%5D%2C%20%5B30.182718%2C%20-91.990067%5D%2C%20%5B33.911961%2C%20-84.207985%5D%2C%20%5B34.267784000000006%2C%20-83.819717%5D%2C%20%5B40.44083%2C%20-80.03506%5D%2C%20%5B33.50945%2C%20-112.0997%5D%2C%20%5B42.240577%2C%20-87.9842%5D%2C%20%5B37.170261%2C%20-121.989799%5D%2C%20%5B33.103598%2C%20-97.222427%5D%2C%20%5B37.34901%2C%20-120.558685%5D%2C%20%5B32.807163%2C%20-96.793358%5D%2C%20%5B33.64066%2C%20-111.9775%5D%2C%20%5B33.876888%2C%20-78.697823%5D%2C%20%5B41.56736400000001%2C%20-87.3368%5D%2C%20%5B36.54983%2C%20-119.59975%5D%2C%20%5B32.33709%2C%20-110.97737%5D%2C%20%5B38.222389%2C%20-122.128609%5D%2C%20%5B47.675838%2C%20-117.437027%5D%2C%20%5B34.58493%2C%20-82.806297%5D%2C%20%5B37.052861%2C%20-122.072857%5D%2C%20%5B34.011075%2C%20-118.280745%5D%2C%20%5B38.958099%2C%20-76.961639%5D%2C%20%5B39.743816%2C%20-105.016403%5D%2C%20%5B37.25533%2C%20-121.8544%5D%2C%20%5B42.02284%2C%20-88.31225%5D%2C%20%5B35.274563%2C%20-80.892555%5D%2C%20%5B34.026562%2C%20-117.65064%5D%2C%20%5B38.477881%2C%20-121.507543%5D%2C%20%5B26.071017%2C%20-80.166667%5D%2C%20%5B34.28447%2C%20-81.597717%5D%2C%20%5B35.882555%2C%20-78.646175%5D%2C%20%5B42.601368%2C%20-82.85668199999998%5D%2C%20%5B37.712019%2C%20-77.788921%5D%2C%20%5B39.594563%2C%20-106.260551%5D%2C%20%5B34.071346000000005%2C%20-118.235413%5D%2C%20%5B38.55195%2C%20-90.43022%5D%2C%20%5B40.784005%2C%20-73.652326%5D%2C%20%5B41.74979%2C%20-88.06395%5D%2C%20%5B27.78108%2C%20-82.66055%5D%2C%20%5B37.767668%2C%20-122.395851%5D%2C%20%5B42.80582800000001%2C%20-71.245216%5D%2C%20%5B33.550041%2C%20-81.80983%5D%2C%20%5B45.61541%2C%20-92.99221%5D%2C%20%5B30.4098%2C%20-91.162%5D%2C%20%5B43.179493%2C%20-71.530365%5D%2C%20%5B40.64200200000001%2C%20-74.288857%5D%2C%20%5B42.930981%2C%20-83.596748%5D%2C%20%5B39.856627%2C%20-75.710871%5D%2C%20%5B40.696213%2C%20-116.556297%5D%2C%20%5B43.20521%2C%20-77.66622%5D%2C%20%5B44.766605%2C%20-92.8591%5D%2C%20%5B35.50769000000001%2C%20-97.55658%5D%2C%20%5B35.594669%2C%20-97.560638%5D%2C%20%5B34.277225%2C%20-118.504013%5D%2C%20%5B39.159092%2C%20-94.49762%5D%2C%20%5B37.585461%2C%20-77.475189%5D%2C%20%5B31.76055%2C%20-106.470901%5D%2C%20%5B25.926707%2C%20-80.20635300000002%5D%2C%20%5B39.88728%2C%20-74.74235999999998%5D%2C%20%5B41.917202%2C%20-87.939766%5D%2C%20%5B27.810312%2C%20-82.791262%5D%2C%20%5B34.053899%2C%20-118.172725%5D%2C%20%5B37.61648%2C%20-121.03039%5D%2C%20%5B34.209629%2C%20-82.147247%5D%2C%20%5B29.723055%2C%20-95.501068%5D%2C%20%5B42.971577%2C%20-85.725594%5D%2C%20%5B37.14435%2C%20-121.98468%5D%2C%20%5B40.965646%2C%20-76.62169399999998%5D%2C%20%5B38.362879%2C%20-76.98752900000002%5D%2C%20%5B40.77029%2C%20-73.56474%5D%2C%20%5B34.143253%2C%20-118.738083%5D%2C%20%5B29.627701%2C%20-95.2286%5D%2C%20%5B29.689341%2C%20-95.557533%5D%2C%20%5B33.70774%2C%20-78.9179%5D%2C%20%5B34.098440000000004%2C%20-84.53050999999998%5D%2C%20%5B29.962447%2C%20-90.113622%5D%2C%20%5B42.484119%2C%20-83.084846%5D%2C%20%5B38.770744%2C%20-90.280457%5D%2C%20%5B30.307671000000006%2C%20-97.711128%5D%2C%20%5B33.958355%2C%20-118.253998%5D%2C%20%5B37.91108300000001%2C%20-121.305496%5D%2C%20%5B40.033085%2C%20-83.124001%5D%2C%20%5B33.126751%2C%20-117.104607%5D%2C%20%5B42.87656%2C%20-78.78506999999998%5D%2C%20%5B33.941074%2C%20-84.504333%5D%2C%20%5B33.546177%2C%20-84.577347%5D%2C%20%5B34.161392%2C%20-118.470016%5D%2C%20%5B33.893991%2C%20-84.25546999999997%5D%2C%20%5B30.350178000000003%2C%20-97.509529%5D%2C%20%5B33.931731%2C%20-118.044182%5D%2C%20%5B37.138392%2C%20-93.332686%5D%2C%20%5B25.69539%2C%20-80.33375%5D%2C%20%5B35.40676%2C%20-119.031151%5D%2C%20%5B29.848755%2C%20-95.284866%5D%2C%20%5B34.02853%2C%20-81.12489000000002%5D%2C%20%5B34.082565%2C%20-80.940956%5D%2C%20%5B42.493587%2C%20-83.29986600000002%5D%2C%20%5B34.019965%2C%20-118.155256%5D%2C%20%5B42.42622%2C%20-71.10334%5D%2C%20%5B26.04269%2C%20-80.16289%5D%2C%20%5B33.158203%2C%20-96.645111%5D%2C%20%5B33.233135%2C%20-87.53933%5D%2C%20%5B37.375214%2C%20-121.933624%5D%2C%20%5B38.55607%2C%20-77.83895799999998%5D%2C%20%5B27.395284000000004%2C%20-82.562663%5D%2C%20%5B37.290485%2C%20-121.871147%5D%2C%20%5B40.2595%2C%20-76.77531%5D%2C%20%5B28.022495000000006%2C%20-82.455688%5D%2C%20%5B40.287533%2C%20-75.328255%5D%2C%20%5B33.58367%2C%20-117.09943%5D%2C%20%5B30.234688%2C%20-97.824104%5D%2C%20%5B36.1437%2C%20-86.814201%5D%2C%20%5B29.56811%2C%20-98.33503%5D%2C%20%5B45.4495%2C%20-122.78392%5D%2C%20%5B33.167155%2C%20-112.649828%5D%2C%20%5B29.974576000000006%2C%20-95.421184%5D%2C%20%5B37.451414%2C%20-121.893021%5D%2C%20%5B35.198608%2C%20-80.930649%5D%2C%20%5B41.288422%2C%20-72.88802199999998%5D%2C%20%5B33.79938%2C%20-117.89767%5D%2C%20%5B34.098068%2C%20-118.314629%5D%2C%20%5B38.508039%2C%20-122.759358%5D%2C%20%5B25.92184%2C%20-80.21123%5D%2C%20%5B28.6332%2C%20-81.387395%5D%2C%20%5B34.027372%2C%20-117.800506%5D%2C%20%5B34.21553%2C%20-118.405266%5D%2C%20%5B28.026525%2C%20-82.455823%5D%2C%20%5B37.598893%2C%20-120.993531%5D%2C%20%5B33.913255%2C%20-118.137595%5D%2C%20%5B35.217751%2C%20-80.858398%5D%2C%20%5B33.840446%2C%20-118.255432%5D%2C%20%5B29.697502000000004%2C%20-95.288597%5D%2C%20%5B33.93782%2C%20-118.038813%5D%2C%20%5B38.63001%2C%20-90.3658%5D%2C%20%5B29.784531%2C%20-95.563042%5D%2C%20%5B34.894749%2C%20-82.302338%5D%2C%20%5B41.25622%2C%20-96.07637%5D%2C%20%5B33.487732%2C%20-112.108444%5D%2C%20%5B41.76988%2C%20-72.68264%5D%2C%20%5B39.016029%2C%20-94.693246%5D%2C%20%5B40.664951%2C%20-73.821915%5D%2C%20%5B42.90258%2C%20-78.90063%5D%2C%20%5B33.014821999999995%2C%20-117.269911%5D%2C%20%5B25.94559%2C%20-80.18654000000002%5D%2C%20%5B42.374046%2C%20-83.017853%5D%2C%20%5B37.048689%2C%20-113.48573%5D%2C%20%5B33.46216%2C%20-112.0236%5D%2C%20%5B42.333534%2C%20-83.036415%5D%2C%20%5B38.442428%2C%20-122.721488%5D%2C%20%5B40.733604%2C%20-74.127251%5D%2C%20%5B47.436104%2C%20-121.973671%5D%2C%20%5B42.378891%2C%20-83.206597%5D%2C%20%5B41.773849%2C%20-86.73088800000002%5D%2C%20%5B40.96340900000001%2C%20-72.227707%5D%2C%20%5B29.767740000000003%2C%20-95.36148%5D%2C%20%5B34.580723%2C%20-118.133593%5D%2C%20%5B37.555225%2C%20-122.280121%5D%2C%20%5B40.05928%2C%20-75.339737%5D%2C%20%5B36.17215%2C%20-86.7686%5D%2C%20%5B41.587509%2C%20-87.72794300000002%5D%2C%20%5B33.840218%2C%20-118.264402%5D%2C%20%5B33.016365%2C%20-80.088577%5D%2C%20%5B27.388466%2C%20-82.448792%5D%2C%20%5B41.08583%2C%20-73.459106%5D%2C%20%5B40.026286%2C%20-76.306947%5D%2C%20%5B34.26034%2C%20-118.43873%5D%2C%20%5B46.185725%2C%20-95.981138%5D%2C%20%5B39.9612%2C%20-82.98267%5D%2C%20%5B33.392841%2C%20-111.947792%5D%2C%20%5B25.923445%2C%20-80.154498%5D%2C%20%5B37.837997%2C%20-122.296704%5D%2C%20%5B42.42167%2C%20-82.93084%5D%2C%20%5B37.348324%2C%20-79.842774%5D%2C%20%5B33.420143%2C%20-86.69459499999998%5D%2C%20%5B45.58389%2C%20-122.67902%5D%2C%20%5B40.182076%2C%20-123.775953%5D%2C%20%5B34.074155%2C%20-117.617107%5D%2C%20%5B33.745304%2C%20-84.349014%5D%2C%20%5B35.348885%2C%20-120.63076%5D%2C%20%5B37.552341%2C%20-77.548187%5D%2C%20%5B38.25841%2C%20-85.746027%5D%2C%20%5B37.360657%2C%20-121.915982%5D%2C%20%5B41.6171%2C%20-72.69575999999998%5D%2C%20%5B40.12043%2C%20-111.639999%5D%2C%20%5B40.760695%2C%20-74.079329%5D%2C%20%5B26.514540000000004%2C%20-80.072075%5D%2C%20%5B41.845947%2C%20-87.991974%5D%2C%20%5B42.19365%2C%20-83.24103000000002%5D%2C%20%5B34.257259999999995%2C%20-118.472109%5D%2C%20%5B36.101844%2C%20-86.817787%5D%2C%20%5B25.59543%2C%20-80.41334499999998%5D%2C%20%5B44.31968%2C%20-94.43681%5D%2C%20%5B38.658005%2C%20-76.87468%5D%2C%20%5B40.6988%2C%20-112.25968%5D%2C%20%5B43.002407%2C%20-83.733376%5D%2C%20%5B33.553117%2C%20-112.111934%5D%2C%20%5B32.273998%2C%20-110.961036%5D%2C%20%5B34.000729%2C%20-117.837059%5D%2C%20%5B32.782876%2C%20-96.80627%5D%2C%20%5B33.864437%2C%20-118.326408%5D%2C%20%5B33.957458%2C%20-80.995857%5D%2C%20%5B41.673492%2C%20-72.847563%5D%2C%20%5B26.439394%2C%20-80.088898%5D%2C%20%5B34.003494%2C%20-81.342804%5D%2C%20%5B35.247749%2C%20-80.75251%5D%2C%20%5B45.18934%2C%20-93.5435%5D%2C%20%5B25.581528%2C%20-80.366119%5D%2C%20%5B45.53539%2C%20-122.69151%5D%2C%20%5B30.370501%2C%20-97.713066%5D%2C%20%5B36.06076%2C%20-95.859276%5D%2C%20%5B41.887276%2C%20-88.012688%5D%2C%20%5B29.958349%2C%20-90.061353%5D%2C%20%5B38.36714600000001%2C%20-79.011207%5D%2C%20%5B33.450534999999995%2C%20-86.818748%5D%2C%20%5B47.244946%2C%20-122.413269%5D%2C%20%5B28.53354%2C%20-82.51156999999998%5D%2C%20%5B33.856838%2C%20-118.284813%5D%2C%20%5B42.1856%2C%20-71.07672%5D%2C%20%5B34.878521%2C%20-82.361328%5D%2C%20%5B37.22288%2C%20-104.4931%5D%2C%20%5B45.093566%2C%20-93.188341%5D%2C%20%5B44.843899%2C%20-93.111237%5D%2C%20%5B34.15542%2C%20-118.40082%5D%2C%20%5B33.860287%2C%20-80.11314399999998%5D%2C%20%5B37.56673%2C%20-77.44438199999998%5D%2C%20%5B30.276455%2C%20-97.503098%5D%2C%20%5B33.857132%2C%20-117.980804%5D%2C%20%5B34.139806%2C%20-118.365343%5D%2C%20%5B41.26373%2C%20-73.68382%5D%2C%20%5B33.90505%2C%20-118.37054%5D%2C%20%5B34.083382%2C%20-118.221764%5D%2C%20%5B42.34505%2C%20-87.89041999999998%5D%2C%20%5B25.927536%2C%20-80.188227%5D%2C%20%5B38.729961%2C%20-90.332802%5D%2C%20%5B37.55019%2C%20-77.481125%5D%2C%20%5B33.402859%2C%20-111.947823%5D%2C%20%5B30.12808%2C%20-81.79061999999998%5D%2C%20%5B35.009551%2C%20-85.211411%5D%2C%20%5B32.939018%2C%20-80.73107900000002%5D%2C%20%5B34.136181%2C%20-117.445221%5D%2C%20%5B37.895226%2C%20-122.308246%5D%2C%20%5B42.028174%2C%20-88.045548%5D%2C%20%5B32.872856%2C%20-117.197624%5D%2C%20%5B34.266998%2C%20-118.443596%5D%2C%20%5B40.280463%2C%20-75.261701%5D%2C%20%5B34.135961%2C%20-80.880549%5D%2C%20%5B38.938938%2C%20-77.51844%5D%2C%20%5B37.529594%2C%20-121.163368%5D%2C%20%5B38.8688%2C%20-77.047%5D%2C%20%5B34.081837%2C%20-118.22374%5D%2C%20%5B33.925243%2C%20-118.209351%5D%2C%20%5B30.392241%2C%20-97.745811%5D%2C%20%5B28.167024%2C%20-80.705984%5D%2C%20%5B45.239749%2C%20-123.091802%5D%2C%20%5B39.801861%2C%20-104.984962%5D%2C%20%5B40.6998%2C%20-111.93895%5D%2C%20%5B38.514793%2C%20-123.239845%5D%2C%20%5B33.66616%2C%20-84.396731%5D%2C%20%5B32.917302%2C%20-96.858071%5D%2C%20%5B41.57009%2C%20-87.58344%5D%2C%20%5B34.878395000000005%2C%20-82.468422%5D%2C%20%5B29.693211%2C%20-95.284851%5D%2C%20%5B33.98896%2C%20-118.34093500000002%5D%2C%20%5B29.435640000000006%2C%20-98.711205%5D%2C%20%5B40.11874%2C%20-74.84432%5D%2C%20%5B38.94602%2C%20-77.35935%5D%2C%20%5B38.93492%2C%20-94.42667%5D%2C%20%5B32.92459%2C%20-96.78684%5D%2C%20%5B25.925306%2C%20-80.207596%5D%2C%20%5B43.102131%2C%20-76.181282%5D%2C%20%5B33.90123%2C%20-84.243759%5D%2C%20%5B41.247231%2C%20-76.99876400000002%5D%2C%20%5B34.06728%2C%20-117.55282%5D%2C%20%5B40.78465%2C%20-73.636014%5D%2C%20%5B40.844748%2C%20-73.922242%5D%2C%20%5B33.961884000000005%2C%20-118.369331%5D%2C%20%5B45.291355%2C%20-93.555077%5D%2C%20%5B28.901726%2C%20-82.375608%5D%2C%20%5B29.48447%2C%20-98.66642%5D%2C%20%5B44.80535%2C%20-95.52912%5D%2C%20%5B38.678492%2C%20-121.234993%5D%2C%20%5B39.679176%2C%20-105.903757%5D%2C%20%5B30.248148%2C%20-81.59407%5D%2C%20%5B28.545227%2C%20-81.444717%5D%2C%20%5B26.02372%2C%20-80.34874%5D%2C%20%5B28.55253%2C%20-81.38238%5D%2C%20%5B39.99215%2C%20-76.02126%5D%2C%20%5B37.46292%2C%20-120.81185%5D%2C%20%5B33.578228%2C%20-84.521606%5D%2C%20%5B35.194881%2C%20-80.800568%5D%2C%20%5B44.534554%2C%20-123.06196%5D%2C%20%5B40.5847%2C%20-73.96039%5D%2C%20%5B44.161087%2C%20-121.258497%5D%2C%20%5B41.841576%2C%20-87.986288%5D%2C%20%5B37.335716%2C%20-121.934608%5D%2C%20%5B35.462456%2C%20-97.495247%5D%2C%20%5B26.085437%2C%20-80.204004%5D%2C%20%5B33.46192%2C%20-112.09413%5D%2C%20%5B37.307034%2C%20-121.820658%5D%2C%20%5B37.873684%2C%20-121.253403%5D%2C%20%5B25.578605%2C%20-80.36969599999998%5D%2C%20%5B29.672392%2C%20-95.27713%5D%2C%20%5B32.8218%2C%20-117.162361%5D%2C%20%5B30.355947%2C%20-81.668327%5D%2C%20%5B35.084324%2C%20-89.886948%5D%2C%20%5B32.780624%2C%20-117.087975%5D%2C%20%5B47.690468%2C%20-122.32943%5D%5D%2C%0A%20%20%20%20%20%20%20%20%20%20%20%20%20%20%20%20%7B%0A%20%20%20%20%20%20%20%20%20%20%20%20%20%20%20%20%20%20%20%20minOpacity%3A%200.5%2C%0A%20%20%20%20%20%20%20%20%20%20%20%20%20%20%20%20%20%20%20%20maxZoom%3A%2018%2C%0A%20%20%20%20%20%20%20%20%20%20%20%20%20%20%20%20%20%20%20%20max%3A%201.0%2C%0A%20%20%20%20%20%20%20%20%20%20%20%20%20%20%20%20%20%20%20%20radius%3A%2025%2C%0A%20%20%20%20%20%20%20%20%20%20%20%20%20%20%20%20%20%20%20%20blur%3A%2015%2C%0A%20%20%20%20%20%20%20%20%20%20%20%20%20%20%20%20%20%20%20%20gradient%3A%20null%0A%20%20%20%20%20%20%20%20%20%20%20%20%20%20%20%20%20%20%20%20%7D%29%0A%20%20%20%20%20%20%20%20%20%20%20%20%20%20%20%20.addTo%28map_ece990c6236646d3835263f73e1a6e14%29%3B%0A%20%20%20%20%20%20%20%20%0A%3C/script%3E onload=\"this.contentDocument.open();this.contentDocument.write(    decodeURIComponent(this.getAttribute('data-html')));this.contentDocument.close();\" allowfullscreen webkitallowfullscreen mozallowfullscreen></iframe></div></div>"
            ],
            "text/plain": [
              "<folium.folium.Map at 0x7f5d6025cf10>"
            ]
          },
          "metadata": {},
          "execution_count": 50
        }
      ]
    },
    {
      "cell_type": "markdown",
      "metadata": {
        "id": "7T7-mZA7kBbT"
      },
      "source": [
        "By Heat map visualisation we can see that occurance of accidennts is more frequent in the west and east part of USA."
      ]
    },
    {
      "cell_type": "markdown",
      "metadata": {
        "id": "9DmBwbagrNfg"
      },
      "source": [
        "\n",
        "#Temperature "
      ]
    },
    {
      "cell_type": "markdown",
      "metadata": {
        "id": "qyL3I2oqp26L"
      },
      "source": [
        "Lets Check weather Temperature has an impact on Accident occurances, weather there are high accident occurances when temperature is low. "
      ]
    },
    {
      "cell_type": "code",
      "metadata": {
        "colab": {
          "base_uri": "https://localhost:8080/",
          "height": 457
        },
        "id": "b3YOxLdaqnV5",
        "outputId": "b792caa2-08bd-43e3-8bf2-32b759bcbb9c"
      },
      "source": [
        "plt.figure(figsize=(15,7))\n",
        "plt.hist(df['Temperature(F)'], bins = 70)\n",
        "plt.xlabel('Temperature(F)')\n",
        "plt.ylabel('Number of accidents')\n",
        "plt.title('Histogram of Accidents by temperature')\n",
        "plt.xlim(-25,150)\n",
        "plt.grid(True)\n",
        "plt.show()"
      ],
      "execution_count": 51,
      "outputs": [
        {
          "output_type": "display_data",
          "data": {
            "image/png": "[encoded data removed]",
            "text/plain": [
              "<Figure size 1080x504 with 1 Axes>"
            ]
          },
          "metadata": {}
        }
      ]
    },
    {
      "cell_type": "markdown",
      "metadata": {
        "id": "MACxM9XxLWwe"
      },
      "source": [
        "From the Histogram we can clearly see that Number of accident occurances is high during the temperature range 55°F to 75°F.\n",
        "\n",
        "Normal Temperature range of USA is 16°F to 86°F. The general undersanding that more accidents occur during Winter or lower temperature seems to be False. Moreover Number of accidents occurances is lower when temperature is less. "
      ]
    },
    {
      "cell_type": "markdown",
      "metadata": {
        "id": "--5Ei4UUsAid"
      },
      "source": [
        "# Weather Condition"
      ]
    },
    {
      "cell_type": "code",
      "metadata": {
        "colab": {
          "base_uri": "https://localhost:8080/"
        },
        "id": "8cMeNJRisQbt",
        "outputId": "b7fedf9b-d862-47ec-d5c4-053916a7ad79"
      },
      "source": [
        "df.columns"
      ],
      "execution_count": 52,
      "outputs": [
        {
          "output_type": "execute_result",
          "data": {
            "text/plain": [
              "Index(['ID', 'Severity', 'Start_Time', 'End_Time', 'Start_Lat', 'Start_Lng',\n",
              "       'End_Lat', 'End_Lng', 'Distance(mi)', 'Description', 'Street', 'Side',\n",
              "       'City', 'County', 'State', 'Zipcode', 'Country', 'Timezone',\n",
              "       'Airport_Code', 'Weather_Timestamp', 'Temperature(F)', 'Humidity(%)',\n",
              "       'Pressure(in)', 'Visibility(mi)', 'Wind_Direction', 'Wind_Speed(mph)',\n",
              "       'Weather_Condition', 'Amenity', 'Bump', 'Crossing', 'Give_Way',\n",
              "       'Junction', 'No_Exit', 'Railway', 'Roundabout', 'Station', 'Stop',\n",
              "       'Traffic_Calming', 'Traffic_Signal', 'Turning_Loop', 'Sunrise_Sunset',\n",
              "       'Civil_Twilight', 'Nautical_Twilight', 'Astronomical_Twilight'],\n",
              "      dtype='object')"
            ]
          },
          "metadata": {},
          "execution_count": 52
        }
      ]
    },
    {
      "cell_type": "code",
      "metadata": {
        "colab": {
          "base_uri": "https://localhost:8080/",
          "height": 414
        },
        "id": "GO-GfyTXsC5Q",
        "outputId": "31fabd4b-e40b-41fb-f34b-2664c0c39379"
      },
      "source": [
        "dfweather =df[['Weather_Timestamp', 'Temperature(F)',\n",
        "       'Humidity(%)', 'Pressure(in)', 'Visibility(mi)', 'Wind_Direction',\n",
        "       'Wind_Speed(mph)', 'Weather_Condition', 'Amenity']]\n",
        "dfweather"
      ],
      "execution_count": 53,
      "outputs": [
        {
          "output_type": "execute_result",
          "data": {
            "text/html": [
              "<div>\n",
              "<style scoped>\n",
              "    .dataframe tbody tr th:only-of-type {\n",
              "        vertical-align: middle;\n",
              "    }\n",
              "\n",
              "    .dataframe tbody tr th {\n",
              "        vertical-align: top;\n",
              "    }\n",
              "\n",
              "    .dataframe thead th {\n",
              "        text-align: right;\n",
              "    }\n",
              "</style>\n",
              "<table border=\"1\" class=\"dataframe\">\n",
              "  <thead>\n",
              "    <tr style=\"text-align: right;\">\n",
              "      <th></th>\n",
              "      <th>Weather_Timestamp</th>\n",
              "      <th>Temperature(F)</th>\n",
              "      <th>Humidity(%)</th>\n",
              "      <th>Pressure(in)</th>\n",
              "      <th>Visibility(mi)</th>\n",
              "      <th>Wind_Direction</th>\n",
              "      <th>Wind_Speed(mph)</th>\n",
              "      <th>Weather_Condition</th>\n",
              "      <th>Amenity</th>\n",
              "    </tr>\n",
              "  </thead>\n",
              "  <tbody>\n",
              "    <tr>\n",
              "      <th>0</th>\n",
              "      <td>2019-05-21 08:53:00</td>\n",
              "      <td>76.0</td>\n",
              "      <td>52.0</td>\n",
              "      <td>28.91</td>\n",
              "      <td>10.0</td>\n",
              "      <td>N</td>\n",
              "      <td>7.0</td>\n",
              "      <td>Fair</td>\n",
              "      <td>False</td>\n",
              "    </tr>\n",
              "    <tr>\n",
              "      <th>1</th>\n",
              "      <td>2019-10-07 17:53:00</td>\n",
              "      <td>76.0</td>\n",
              "      <td>62.0</td>\n",
              "      <td>29.30</td>\n",
              "      <td>10.0</td>\n",
              "      <td>VAR</td>\n",
              "      <td>3.0</td>\n",
              "      <td>Cloudy</td>\n",
              "      <td>False</td>\n",
              "    </tr>\n",
              "    <tr>\n",
              "      <th>2</th>\n",
              "      <td>2020-12-13 21:53:00</td>\n",
              "      <td>51.0</td>\n",
              "      <td>80.0</td>\n",
              "      <td>30.17</td>\n",
              "      <td>10.0</td>\n",
              "      <td>W</td>\n",
              "      <td>6.0</td>\n",
              "      <td>Fair</td>\n",
              "      <td>False</td>\n",
              "    </tr>\n",
              "    <tr>\n",
              "      <th>3</th>\n",
              "      <td>2018-04-17 16:55:00</td>\n",
              "      <td>53.6</td>\n",
              "      <td>16.0</td>\n",
              "      <td>30.16</td>\n",
              "      <td>10.0</td>\n",
              "      <td>SSW</td>\n",
              "      <td>4.6</td>\n",
              "      <td>Clear</td>\n",
              "      <td>False</td>\n",
              "    </tr>\n",
              "    <tr>\n",
              "      <th>4</th>\n",
              "      <td>2016-08-31 17:53:00</td>\n",
              "      <td>84.2</td>\n",
              "      <td>84.0</td>\n",
              "      <td>29.92</td>\n",
              "      <td>10.0</td>\n",
              "      <td>SSE</td>\n",
              "      <td>13.8</td>\n",
              "      <td>Overcast</td>\n",
              "      <td>False</td>\n",
              "    </tr>\n",
              "    <tr>\n",
              "      <th>...</th>\n",
              "      <td>...</td>\n",
              "      <td>...</td>\n",
              "      <td>...</td>\n",
              "      <td>...</td>\n",
              "      <td>...</td>\n",
              "      <td>...</td>\n",
              "      <td>...</td>\n",
              "      <td>...</td>\n",
              "      <td>...</td>\n",
              "    </tr>\n",
              "    <tr>\n",
              "      <th>2906605</th>\n",
              "      <td>2018-06-28 08:35:00</td>\n",
              "      <td>84.2</td>\n",
              "      <td>70.0</td>\n",
              "      <td>30.02</td>\n",
              "      <td>9.0</td>\n",
              "      <td>Variable</td>\n",
              "      <td>5.8</td>\n",
              "      <td>Clear</td>\n",
              "      <td>False</td>\n",
              "    </tr>\n",
              "    <tr>\n",
              "      <th>2906606</th>\n",
              "      <td>2019-01-10 02:00:00</td>\n",
              "      <td>46.9</td>\n",
              "      <td>74.0</td>\n",
              "      <td>30.14</td>\n",
              "      <td>10.0</td>\n",
              "      <td>Calm</td>\n",
              "      <td>NaN</td>\n",
              "      <td>Clear</td>\n",
              "      <td>False</td>\n",
              "    </tr>\n",
              "    <tr>\n",
              "      <th>2906607</th>\n",
              "      <td>2020-11-23 12:53:00</td>\n",
              "      <td>76.0</td>\n",
              "      <td>85.0</td>\n",
              "      <td>30.00</td>\n",
              "      <td>10.0</td>\n",
              "      <td>NNW</td>\n",
              "      <td>16.0</td>\n",
              "      <td>Mostly Cloudy</td>\n",
              "      <td>False</td>\n",
              "    </tr>\n",
              "    <tr>\n",
              "      <th>2906608</th>\n",
              "      <td>2019-12-29 22:54:00</td>\n",
              "      <td>27.0</td>\n",
              "      <td>81.0</td>\n",
              "      <td>25.81</td>\n",
              "      <td>10.0</td>\n",
              "      <td>SSE</td>\n",
              "      <td>8.0</td>\n",
              "      <td>Cloudy</td>\n",
              "      <td>False</td>\n",
              "    </tr>\n",
              "    <tr>\n",
              "      <th>2906609</th>\n",
              "      <td>2018-03-26 13:54:00</td>\n",
              "      <td>51.1</td>\n",
              "      <td>38.0</td>\n",
              "      <td>29.77</td>\n",
              "      <td>10.0</td>\n",
              "      <td>SE</td>\n",
              "      <td>13.8</td>\n",
              "      <td>Scattered Clouds</td>\n",
              "      <td>False</td>\n",
              "    </tr>\n",
              "  </tbody>\n",
              "</table>\n",
              "<p>2906610 rows × 9 columns</p>\n",
              "</div>"
            ],
            "text/plain": [
              "           Weather_Timestamp  Temperature(F)  ...  Weather_Condition  Amenity\n",
              "0        2019-05-21 08:53:00            76.0  ...               Fair    False\n",
              "1        2019-10-07 17:53:00            76.0  ...             Cloudy    False\n",
              "2        2020-12-13 21:53:00            51.0  ...               Fair    False\n",
              "3        2018-04-17 16:55:00            53.6  ...              Clear    False\n",
              "4        2016-08-31 17:53:00            84.2  ...           Overcast    False\n",
              "...                      ...             ...  ...                ...      ...\n",
              "2906605  2018-06-28 08:35:00            84.2  ...              Clear    False\n",
              "2906606  2019-01-10 02:00:00            46.9  ...              Clear    False\n",
              "2906607  2020-11-23 12:53:00            76.0  ...      Mostly Cloudy    False\n",
              "2906608  2019-12-29 22:54:00            27.0  ...             Cloudy    False\n",
              "2906609  2018-03-26 13:54:00            51.1  ...   Scattered Clouds    False\n",
              "\n",
              "[2906610 rows x 9 columns]"
            ]
          },
          "metadata": {},
          "execution_count": 53
        }
      ]
    },
    {
      "cell_type": "code",
      "metadata": {
        "colab": {
          "base_uri": "https://localhost:8080/"
        },
        "id": "JBPYqdZRtCRW",
        "outputId": "172f8344-607b-4a1e-d5ec-41bf71f8c6e7"
      },
      "source": [
        "dfweather.info()"
      ],
      "execution_count": 54,
      "outputs": [
        {
          "output_type": "stream",
          "text": [
            "<class 'pandas.core.frame.DataFrame'>\n",
            "RangeIndex: 2906610 entries, 0 to 2906609\n",
            "Data columns (total 9 columns):\n",
            " #   Column             Dtype  \n",
            "---  ------             -----  \n",
            " 0   Weather_Timestamp  object \n",
            " 1   Temperature(F)     float64\n",
            " 2   Humidity(%)        float64\n",
            " 3   Pressure(in)       float64\n",
            " 4   Visibility(mi)     float64\n",
            " 5   Wind_Direction     object \n",
            " 6   Wind_Speed(mph)    float64\n",
            " 7   Weather_Condition  object \n",
            " 8   Amenity            bool   \n",
            "dtypes: bool(1), float64(5), object(3)\n",
            "memory usage: 180.2+ MB\n"
          ],
          "name": "stdout"
        }
      ]
    },
    {
      "cell_type": "code",
      "metadata": {
        "colab": {
          "base_uri": "https://localhost:8080/",
          "height": 232
        },
        "id": "RwGi2iA_sH0a",
        "outputId": "a51beb63-e5b8-4755-9b42-dfa01a81407a"
      },
      "source": [
        "dfweather.corr()"
      ],
      "execution_count": 55,
      "outputs": [
        {
          "output_type": "execute_result",
          "data": {
            "text/html": [
              "<div>\n",
              "<style scoped>\n",
              "    .dataframe tbody tr th:only-of-type {\n",
              "        vertical-align: middle;\n",
              "    }\n",
              "\n",
              "    .dataframe tbody tr th {\n",
              "        vertical-align: top;\n",
              "    }\n",
              "\n",
              "    .dataframe thead th {\n",
              "        text-align: right;\n",
              "    }\n",
              "</style>\n",
              "<table border=\"1\" class=\"dataframe\">\n",
              "  <thead>\n",
              "    <tr style=\"text-align: right;\">\n",
              "      <th></th>\n",
              "      <th>Temperature(F)</th>\n",
              "      <th>Humidity(%)</th>\n",
              "      <th>Pressure(in)</th>\n",
              "      <th>Visibility(mi)</th>\n",
              "      <th>Wind_Speed(mph)</th>\n",
              "      <th>Amenity</th>\n",
              "    </tr>\n",
              "  </thead>\n",
              "  <tbody>\n",
              "    <tr>\n",
              "      <th>Temperature(F)</th>\n",
              "      <td>1.000000</td>\n",
              "      <td>-0.344177</td>\n",
              "      <td>0.040501</td>\n",
              "      <td>0.178301</td>\n",
              "      <td>0.039756</td>\n",
              "      <td>0.000059</td>\n",
              "    </tr>\n",
              "    <tr>\n",
              "      <th>Humidity(%)</th>\n",
              "      <td>-0.344177</td>\n",
              "      <td>1.000000</td>\n",
              "      <td>0.126864</td>\n",
              "      <td>-0.368379</td>\n",
              "      <td>-0.155178</td>\n",
              "      <td>-0.003343</td>\n",
              "    </tr>\n",
              "    <tr>\n",
              "      <th>Pressure(in)</th>\n",
              "      <td>0.040501</td>\n",
              "      <td>0.126864</td>\n",
              "      <td>1.000000</td>\n",
              "      <td>-0.005270</td>\n",
              "      <td>0.000514</td>\n",
              "      <td>0.013203</td>\n",
              "    </tr>\n",
              "    <tr>\n",
              "      <th>Visibility(mi)</th>\n",
              "      <td>0.178301</td>\n",
              "      <td>-0.368379</td>\n",
              "      <td>-0.005270</td>\n",
              "      <td>1.000000</td>\n",
              "      <td>0.024108</td>\n",
              "      <td>0.006207</td>\n",
              "    </tr>\n",
              "    <tr>\n",
              "      <th>Wind_Speed(mph)</th>\n",
              "      <td>0.039756</td>\n",
              "      <td>-0.155178</td>\n",
              "      <td>0.000514</td>\n",
              "      <td>0.024108</td>\n",
              "      <td>1.000000</td>\n",
              "      <td>0.001433</td>\n",
              "    </tr>\n",
              "    <tr>\n",
              "      <th>Amenity</th>\n",
              "      <td>0.000059</td>\n",
              "      <td>-0.003343</td>\n",
              "      <td>0.013203</td>\n",
              "      <td>0.006207</td>\n",
              "      <td>0.001433</td>\n",
              "      <td>1.000000</td>\n",
              "    </tr>\n",
              "  </tbody>\n",
              "</table>\n",
              "</div>"
            ],
            "text/plain": [
              "                 Temperature(F)  Humidity(%)  ...  Wind_Speed(mph)   Amenity\n",
              "Temperature(F)         1.000000    -0.344177  ...         0.039756  0.000059\n",
              "Humidity(%)           -0.344177     1.000000  ...        -0.155178 -0.003343\n",
              "Pressure(in)           0.040501     0.126864  ...         0.000514  0.013203\n",
              "Visibility(mi)         0.178301    -0.368379  ...         0.024108  0.006207\n",
              "Wind_Speed(mph)        0.039756    -0.155178  ...         1.000000  0.001433\n",
              "Amenity                0.000059    -0.003343  ...         0.001433  1.000000\n",
              "\n",
              "[6 rows x 6 columns]"
            ]
          },
          "metadata": {},
          "execution_count": 55
        }
      ]
    },
    {
      "cell_type": "code",
      "metadata": {
        "colab": {
          "base_uri": "https://localhost:8080/"
        },
        "id": "q77Y9LxztPRt",
        "outputId": "aa49cde4-37fc-42c6-cc28-b5fc114688b6"
      },
      "source": [
        "dfweather.Weather_Timestamp = pd.to_datetime(dfweather.Weather_Timestamp)"
      ],
      "execution_count": 56,
      "outputs": [
        {
          "output_type": "stream",
          "text": [
            "/usr/local/lib/python3.7/dist-packages/pandas/core/generic.py:5170: SettingWithCopyWarning: \n",
            "A value is trying to be set on a copy of a slice from a DataFrame.\n",
            "Try using .loc[row_indexer,col_indexer] = value instead\n",
            "\n",
            "See the caveats in the documentation: https://pandas.pydata.org/pandas-docs/stable/user_guide/indexing.html#returning-a-view-versus-a-copy\n",
            "  self[name] = value\n"
          ],
          "name": "stderr"
        }
      ]
    },
    {
      "cell_type": "code",
      "metadata": {
        "colab": {
          "base_uri": "https://localhost:8080/"
        },
        "id": "0PwtwjPJs6dE",
        "outputId": "9a6c5758-2e15-48c9-fca6-777539afd525"
      },
      "source": [
        "dfweather.Weather_Timestamp"
      ],
      "execution_count": 57,
      "outputs": [
        {
          "output_type": "execute_result",
          "data": {
            "text/plain": [
              "0         2019-05-21 08:53:00\n",
              "1         2019-10-07 17:53:00\n",
              "2         2020-12-13 21:53:00\n",
              "3         2018-04-17 16:55:00\n",
              "4         2016-08-31 17:53:00\n",
              "                  ...        \n",
              "2906605   2018-06-28 08:35:00\n",
              "2906606   2019-01-10 02:00:00\n",
              "2906607   2020-11-23 12:53:00\n",
              "2906608   2019-12-29 22:54:00\n",
              "2906609   2018-03-26 13:54:00\n",
              "Name: Weather_Timestamp, Length: 2906610, dtype: datetime64[ns]"
            ]
          },
          "metadata": {},
          "execution_count": 57
        }
      ]
    },
    {
      "cell_type": "markdown",
      "metadata": {
        "id": "hYMsyLV1uE0w"
      },
      "source": [
        "Accident Occurance Distribution based on Weather time stamp"
      ]
    },
    {
      "cell_type": "code",
      "metadata": {
        "colab": {
          "base_uri": "https://localhost:8080/",
          "height": 516
        },
        "id": "k3RU2PPmTXAn",
        "outputId": "7dd6c202-83b7-4475-b6ed-86163df72988"
      },
      "source": [
        "plt.figure(figsize=(15,7))\n",
        "sns.distplot(dfweather.Weather_Timestamp.dt.month, bins=12, kde=False, norm_hist=True)"
      ],
      "execution_count": 58,
      "outputs": [
        {
          "output_type": "stream",
          "text": [
            "/usr/local/lib/python3.7/dist-packages/seaborn/distributions.py:2557: FutureWarning: `distplot` is a deprecated function and will be removed in a future version. Please adapt your code to use either `displot` (a figure-level function with similar flexibility) or `histplot` (an axes-level function for histograms).\n",
            "  warnings.warn(msg, FutureWarning)\n"
          ],
          "name": "stderr"
        },
        {
          "output_type": "execute_result",
          "data": {
            "text/plain": [
              "<matplotlib.axes._subplots.AxesSubplot at 0x7f5d6d56cdd0>"
            ]
          },
          "metadata": {},
          "execution_count": 58
        },
        {
          "output_type": "display_data",
          "data": {
            "image/png": "[encoded data removed]",
            "text/plain": [
              "<Figure size 1080x504 with 1 Axes>"
            ]
          },
          "metadata": {}
        }
      ]
    },
    {
      "cell_type": "markdown",
      "metadata": {
        "id": "ilq5ph-UTys_"
      },
      "source": [
        "As seen before data collection was started from 2016 and there may be some missing data during the start so lets skip year 2016."
      ]
    },
    {
      "cell_type": "code",
      "metadata": {
        "colab": {
          "base_uri": "https://localhost:8080/",
          "height": 516
        },
        "id": "30BUgBCMTxzZ",
        "outputId": "b317e518-c8c5-4fca-dade-1d794242211c"
      },
      "source": [
        "dfw_year = dfweather[dfweather.Weather_Timestamp.dt.year > 2016]\n",
        "plt.figure(figsize=(15,7))\n",
        "sns.distplot(dfw_year.Weather_Timestamp.dt.month, bins=12, kde=False, norm_hist=True)"
      ],
      "execution_count": 59,
      "outputs": [
        {
          "output_type": "stream",
          "text": [
            "/usr/local/lib/python3.7/dist-packages/seaborn/distributions.py:2557: FutureWarning: `distplot` is a deprecated function and will be removed in a future version. Please adapt your code to use either `displot` (a figure-level function with similar flexibility) or `histplot` (an axes-level function for histograms).\n",
            "  warnings.warn(msg, FutureWarning)\n"
          ],
          "name": "stderr"
        },
        {
          "output_type": "execute_result",
          "data": {
            "text/plain": [
              "<matplotlib.axes._subplots.AxesSubplot at 0x7f5d5fed15d0>"
            ]
          },
          "metadata": {},
          "execution_count": 59
        },
        {
          "output_type": "display_data",
          "data": {
            "image/png": "[encoded data removed]",
            "text/plain": [
              "<Figure size 1080x504 with 1 Axes>"
            ]
          },
          "metadata": {}
        }
      ]
    },
    {
      "cell_type": "markdown",
      "metadata": {
        "id": "y80lY3_juycl"
      },
      "source": [
        "Based on Weather Time stamp accident occurances is more during the last three months."
      ]
    },
    {
      "cell_type": "code",
      "metadata": {
        "colab": {
          "base_uri": "https://localhost:8080/"
        },
        "id": "ALOp3ACiomFA",
        "outputId": "273f44fd-c265-498e-d118-13c3def76cf6"
      },
      "source": [
        "df_month = dfw_year[dfweather.Weather_Timestamp.dt.month > 9]"
      ],
      "execution_count": 60,
      "outputs": [
        {
          "output_type": "stream",
          "text": [
            "/usr/local/lib/python3.7/dist-packages/ipykernel_launcher.py:1: UserWarning: Boolean Series key will be reindexed to match DataFrame index.\n",
            "  \"\"\"Entry point for launching an IPython kernel.\n"
          ],
          "name": "stderr"
        }
      ]
    },
    {
      "cell_type": "code",
      "metadata": {
        "colab": {
          "base_uri": "https://localhost:8080/",
          "height": 414
        },
        "id": "JDUkHjzSWmg4",
        "outputId": "8730d4b6-22cc-4cac-baf0-8dc66f967f7c"
      },
      "source": [
        "dfwc = df_month.Weather_Condition.value_counts().to_frame()\n",
        "dfwc = dfwc.reset_index()\n",
        "dfwc.columns= ['Weather_Condition','Count']\n",
        "dfwc"
      ],
      "execution_count": 61,
      "outputs": [
        {
          "output_type": "execute_result",
          "data": {
            "text/html": [
              "<div>\n",
              "<style scoped>\n",
              "    .dataframe tbody tr th:only-of-type {\n",
              "        vertical-align: middle;\n",
              "    }\n",
              "\n",
              "    .dataframe tbody tr th {\n",
              "        vertical-align: top;\n",
              "    }\n",
              "\n",
              "    .dataframe thead th {\n",
              "        text-align: right;\n",
              "    }\n",
              "</style>\n",
              "<table border=\"1\" class=\"dataframe\">\n",
              "  <thead>\n",
              "    <tr style=\"text-align: right;\">\n",
              "      <th></th>\n",
              "      <th>Weather_Condition</th>\n",
              "      <th>Count</th>\n",
              "    </tr>\n",
              "  </thead>\n",
              "  <tbody>\n",
              "    <tr>\n",
              "      <th>0</th>\n",
              "      <td>Fair</td>\n",
              "      <td>339257</td>\n",
              "    </tr>\n",
              "    <tr>\n",
              "      <th>1</th>\n",
              "      <td>Cloudy</td>\n",
              "      <td>117206</td>\n",
              "    </tr>\n",
              "    <tr>\n",
              "      <th>2</th>\n",
              "      <td>Mostly Cloudy</td>\n",
              "      <td>107379</td>\n",
              "    </tr>\n",
              "    <tr>\n",
              "      <th>3</th>\n",
              "      <td>Clear</td>\n",
              "      <td>99056</td>\n",
              "    </tr>\n",
              "    <tr>\n",
              "      <th>4</th>\n",
              "      <td>Partly Cloudy</td>\n",
              "      <td>72787</td>\n",
              "    </tr>\n",
              "    <tr>\n",
              "      <th>...</th>\n",
              "      <td>...</td>\n",
              "      <td>...</td>\n",
              "    </tr>\n",
              "    <tr>\n",
              "      <th>93</th>\n",
              "      <td>Heavy Thunderstorms and Snow</td>\n",
              "      <td>1</td>\n",
              "    </tr>\n",
              "    <tr>\n",
              "      <th>94</th>\n",
              "      <td>Funnel Cloud</td>\n",
              "      <td>1</td>\n",
              "    </tr>\n",
              "    <tr>\n",
              "      <th>95</th>\n",
              "      <td>Drizzle / Windy</td>\n",
              "      <td>1</td>\n",
              "    </tr>\n",
              "    <tr>\n",
              "      <th>96</th>\n",
              "      <td>Heavy Freezing Rain</td>\n",
              "      <td>1</td>\n",
              "    </tr>\n",
              "    <tr>\n",
              "      <th>97</th>\n",
              "      <td>Sleet / Windy</td>\n",
              "      <td>1</td>\n",
              "    </tr>\n",
              "  </tbody>\n",
              "</table>\n",
              "<p>98 rows × 2 columns</p>\n",
              "</div>"
            ],
            "text/plain": [
              "               Weather_Condition   Count\n",
              "0                           Fair  339257\n",
              "1                         Cloudy  117206\n",
              "2                  Mostly Cloudy  107379\n",
              "3                          Clear   99056\n",
              "4                  Partly Cloudy   72787\n",
              "..                           ...     ...\n",
              "93  Heavy Thunderstorms and Snow       1\n",
              "94                  Funnel Cloud       1\n",
              "95               Drizzle / Windy       1\n",
              "96           Heavy Freezing Rain       1\n",
              "97                 Sleet / Windy       1\n",
              "\n",
              "[98 rows x 2 columns]"
            ]
          },
          "metadata": {},
          "execution_count": 61
        }
      ]
    },
    {
      "cell_type": "markdown",
      "metadata": {
        "id": "zbAI1SYfA97e"
      },
      "source": [
        "Top 20 Weather Conditions where accident occurance is high"
      ]
    },
    {
      "cell_type": "code",
      "metadata": {
        "id": "rZm1PPHMcOTX"
      },
      "source": [
        "dfwc = dfwc.head(20)"
      ],
      "execution_count": 62,
      "outputs": []
    },
    {
      "cell_type": "code",
      "metadata": {
        "colab": {
          "base_uri": "https://localhost:8080/",
          "height": 445
        },
        "id": "dAjGhb9bWJAa",
        "outputId": "dd44206e-d1b9-437c-c766-0f16567d089c"
      },
      "source": [
        "plt.figure(figsize=(15,7))\n",
        "plt.barh(dfwc.Weather_Condition, dfwc.Count)"
      ],
      "execution_count": 63,
      "outputs": [
        {
          "output_type": "execute_result",
          "data": {
            "text/plain": [
              "<BarContainer object of 20 artists>"
            ]
          },
          "metadata": {},
          "execution_count": 63
        },
        {
          "output_type": "display_data",
          "data": {
            "image/png": "[encoded data removed]",
            "text/plain": [
              "<Figure size 1080x504 with 1 Axes>"
            ]
          },
          "metadata": {}
        }
      ]
    },
    {
      "cell_type": "markdown",
      "metadata": {
        "id": "Gb40hBtMBLN0"
      },
      "source": [
        "From the Bar chart we can clearly see the most of the accidents occur during normal weather conditions. Hence Weather conditions dosen't have impact on accident occurance. "
      ]
    },
    {
      "cell_type": "markdown",
      "metadata": {
        "id": "s-klwrcAbMAB"
      },
      "source": [
        "## Findings"
      ]
    },
    {
      "cell_type": "markdown",
      "metadata": {
        "id": "ja8mD0V4bnGZ"
      },
      "source": [
        "1) Top 20 Cities where accident occurance is more."
      ]
    },
    {
      "cell_type": "code",
      "metadata": {
        "id": "nS2pDYia6p-Z",
        "colab": {
          "base_uri": "https://localhost:8080/"
        },
        "outputId": "ba9db150-9a12-4df1-be27-c593a1d397d3"
      },
      "source": [
        "cities_by_accident[:20]"
      ],
      "execution_count": 70,
      "outputs": [
        {
          "output_type": "execute_result",
          "data": {
            "text/plain": [
              "Los Angeles      68411\n",
              "Houston          68265\n",
              "Charlotte        56176\n",
              "Miami            49965\n",
              "Dallas           48525\n",
              "Austin           38808\n",
              "Raleigh          31355\n",
              "Atlanta          29244\n",
              "Sacramento       28984\n",
              "Orlando          28092\n",
              "Nashville        25277\n",
              "Baton Rouge      25080\n",
              "Minneapolis      22469\n",
              "San Diego        22329\n",
              "Phoenix          21370\n",
              "Oklahoma City    21292\n",
              "Portland         19432\n",
              "Richmond         18343\n",
              "Seattle          17384\n",
              "Saint Paul       17266\n",
              "Name: City, dtype: int64"
            ]
          },
          "metadata": {},
          "execution_count": 70
        }
      ]
    },
    {
      "cell_type": "markdown",
      "metadata": {
        "id": "I0jQU81bcFJ_"
      },
      "source": [
        "2) Top 10 State which incoprates top cities which high number of accidents. "
      ]
    },
    {
      "cell_type": "code",
      "metadata": {
        "id": "v6puUNg-6p-a",
        "colab": {
          "base_uri": "https://localhost:8080/",
          "height": 355
        },
        "outputId": "44111e30-e9e4-494f-d2e6-0bce64f4e894"
      },
      "source": [
        "dftopstate"
      ],
      "execution_count": 72,
      "outputs": [
        {
          "output_type": "execute_result",
          "data": {
            "text/html": [
              "<div>\n",
              "<style scoped>\n",
              "    .dataframe tbody tr th:only-of-type {\n",
              "        vertical-align: middle;\n",
              "    }\n",
              "\n",
              "    .dataframe tbody tr th {\n",
              "        vertical-align: top;\n",
              "    }\n",
              "\n",
              "    .dataframe thead th {\n",
              "        text-align: right;\n",
              "    }\n",
              "</style>\n",
              "<table border=\"1\" class=\"dataframe\">\n",
              "  <thead>\n",
              "    <tr style=\"text-align: right;\">\n",
              "      <th></th>\n",
              "      <th>State</th>\n",
              "      <th>Count</th>\n",
              "    </tr>\n",
              "  </thead>\n",
              "  <tbody>\n",
              "    <tr>\n",
              "      <th>0</th>\n",
              "      <td>CA</td>\n",
              "      <td>293209</td>\n",
              "    </tr>\n",
              "    <tr>\n",
              "      <th>1</th>\n",
              "      <td>TX</td>\n",
              "      <td>185773</td>\n",
              "    </tr>\n",
              "    <tr>\n",
              "      <th>2</th>\n",
              "      <td>FL</td>\n",
              "      <td>153855</td>\n",
              "    </tr>\n",
              "    <tr>\n",
              "      <th>3</th>\n",
              "      <td>NC</td>\n",
              "      <td>87388</td>\n",
              "    </tr>\n",
              "    <tr>\n",
              "      <th>4</th>\n",
              "      <td>LA</td>\n",
              "      <td>42082</td>\n",
              "    </tr>\n",
              "    <tr>\n",
              "      <th>5</th>\n",
              "      <td>MN</td>\n",
              "      <td>39636</td>\n",
              "    </tr>\n",
              "    <tr>\n",
              "      <th>6</th>\n",
              "      <td>TN</td>\n",
              "      <td>36091</td>\n",
              "    </tr>\n",
              "    <tr>\n",
              "      <th>7</th>\n",
              "      <td>NY</td>\n",
              "      <td>35349</td>\n",
              "    </tr>\n",
              "    <tr>\n",
              "      <th>8</th>\n",
              "      <td>AZ</td>\n",
              "      <td>34701</td>\n",
              "    </tr>\n",
              "    <tr>\n",
              "      <th>9</th>\n",
              "      <td>GA</td>\n",
              "      <td>34131</td>\n",
              "    </tr>\n",
              "  </tbody>\n",
              "</table>\n",
              "</div>"
            ],
            "text/plain": [
              "  State   Count\n",
              "0    CA  293209\n",
              "1    TX  185773\n",
              "2    FL  153855\n",
              "3    NC   87388\n",
              "4    LA   42082\n",
              "5    MN   39636\n",
              "6    TN   36091\n",
              "7    NY   35349\n",
              "8    AZ   34701\n",
              "9    GA   34131"
            ]
          },
          "metadata": {},
          "execution_count": 72
        }
      ]
    },
    {
      "cell_type": "markdown",
      "metadata": {
        "id": "Vn701UCZc3eB"
      },
      "source": [
        "3) During a Day high Number of accidents occur between 6 am to 10 am (probably people are in a hurry to get to work) and next higest percentage is 3 pm to 6 pm."
      ]
    },
    {
      "cell_type": "markdown",
      "metadata": {
        "id": "qnZL5A1AdL64"
      },
      "source": [
        "4) Accidents occurance are high in weekdays and are less on weekends(Saturday & Sunday) "
      ]
    },
    {
      "cell_type": "markdown",
      "metadata": {
        "id": "kmy1cjRkd4_n"
      },
      "source": [
        "5) By Heat map visualisation of occurace location we can see that occurance of accidennts is more frequent in the west and east part of USA."
      ]
    },
    {
      "cell_type": "code",
      "metadata": {
        "id": "CXL6x_hH7fAa",
        "colab": {
          "base_uri": "https://localhost:8080/",
          "height": 854
        },
        "outputId": "d41cc7c0-6798-4345-bc3f-bb487016ee38"
      },
      "source": [
        "map = folium.Map(location=[37.0902, -95.7129], zoom_start=5)\n",
        "HeatMap(lat_lon_pairs).add_to(map)\n",
        "map"
      ],
      "execution_count": 77,
      "outputs": [
        {
          "output_type": "execute_result",
          "data": {
            "text/html": [
              "<div style=\"width:100%;\"><div style=\"position:relative;width:100%;height:0;padding-bottom:60%;\"><span style=\"color:#565656\">Make this Notebook Trusted to load map: File -> Trust Notebook</span><iframe src=\"about:blank\" style=\"position:absolute;width:100%;height:100%;left:0;top:0;border:none !important;\" data-html=%3C%21DOCTYPE%20html%3E%0A%3Chead%3E%20%20%20%20%0A%20%20%20%20%3Cmeta%20http-equiv%3D%22content-type%22%20content%3D%22text/html%3B%20charset%3DUTF-8%22%20/%3E%0A%20%20%20%20%3Cscript%3EL_PREFER_CANVAS%3Dfalse%3B%20L_NO_TOUCH%3Dfalse%3B%20L_DISABLE_3D%3Dfalse%3B%3C/script%3E%0A%20%20%20%20%3Cscript%20src%3D%22https%3A//cdn.jsdelivr.net/npm/leaflet%401.4.0/dist/leaflet.js%22%3E%3C/script%3E%0A%20%20%20%20%3Cscript%20src%3D%22https%3A//code.jquery.com/jquery-1.12.4.min.js%22%3E%3C/script%3E%0A%20%20%20%20%3Cscript%20src%3D%22https%3A//maxcdn.bootstrapcdn.com/bootstrap/3.2.0/js/bootstrap.min.js%22%3E%3C/script%3E%0A%20%20%20%20%3Cscript%20src%3D%22https%3A//cdnjs.cloudflare.com/ajax/libs/Leaflet.awesome-markers/2.0.2/leaflet.awesome-markers.js%22%3E%3C/script%3E%0A%20%20%20%20%3Clink%20rel%3D%22stylesheet%22%20href%3D%22https%3A//cdn.jsdelivr.net/npm/leaflet%401.4.0/dist/leaflet.css%22/%3E%0A%20%20%20%20%3Clink%20rel%3D%22stylesheet%22%20href%3D%22https%3A//maxcdn.bootstrapcdn.com/bootstrap/3.2.0/css/bootstrap.min.css%22/%3E%0A%20%20%20%20%3Clink%20rel%3D%22stylesheet%22%20href%3D%22https%3A//maxcdn.bootstrapcdn.com/bootstrap/3.2.0/css/bootstrap-theme.min.css%22/%3E%0A%20%20%20%20%3Clink%20rel%3D%22stylesheet%22%20href%3D%22https%3A//maxcdn.bootstrapcdn.com/font-awesome/4.6.3/css/font-awesome.min.css%22/%3E%0A%20%20%20%20%3Clink%20rel%3D%22stylesheet%22%20href%3D%22https%3A//cdnjs.cloudflare.com/ajax/libs/Leaflet.awesome-markers/2.0.2/leaflet.awesome-markers.css%22/%3E%0A%20%20%20%20%3Clink%20rel%3D%22stylesheet%22%20href%3D%22https%3A//rawcdn.githack.com/python-visualization/folium/master/folium/templates/leaflet.awesome.rotate.css%22/%3E%0A%20%20%20%20%3Cstyle%3Ehtml%2C%20body%20%7Bwidth%3A%20100%25%3Bheight%3A%20100%25%3Bmargin%3A%200%3Bpadding%3A%200%3B%7D%3C/style%3E%0A%20%20%20%20%3Cstyle%3E%23map%20%7Bposition%3Aabsolute%3Btop%3A0%3Bbottom%3A0%3Bright%3A0%3Bleft%3A0%3B%7D%3C/style%3E%0A%20%20%20%20%0A%20%20%20%20%3Cmeta%20name%3D%22viewport%22%20content%3D%22width%3Ddevice-width%2C%0A%20%20%20%20%20%20%20%20initial-scale%3D1.0%2C%20maximum-scale%3D1.0%2C%20user-scalable%3Dno%22%20/%3E%0A%20%20%20%20%3Cstyle%3E%23map_daeffe22d1d54dddb6a55d8f7529ec47%20%7B%0A%20%20%20%20%20%20%20%20position%3A%20relative%3B%0A%20%20%20%20%20%20%20%20width%3A%20100.0%25%3B%0A%20%20%20%20%20%20%20%20height%3A%20100.0%25%3B%0A%20%20%20%20%20%20%20%20left%3A%200.0%25%3B%0A%20%20%20%20%20%20%20%20top%3A%200.0%25%3B%0A%20%20%20%20%20%20%20%20%7D%0A%20%20%20%20%3C/style%3E%0A%20%20%20%20%3Cscript%20src%3D%22https%3A//leaflet.github.io/Leaflet.heat/dist/leaflet-heat.js%22%3E%3C/script%3E%0A%3C/head%3E%0A%3Cbody%3E%20%20%20%20%0A%20%20%20%20%0A%20%20%20%20%3Cdiv%20class%3D%22folium-map%22%20id%3D%22map_daeffe22d1d54dddb6a55d8f7529ec47%22%20%3E%3C/div%3E%0A%3C/body%3E%0A%3Cscript%3E%20%20%20%20%0A%20%20%20%20%0A%20%20%20%20%0A%20%20%20%20%20%20%20%20var%20bounds%20%3D%20null%3B%0A%20%20%20%20%0A%0A%20%20%20%20var%20map_daeffe22d1d54dddb6a55d8f7529ec47%20%3D%20L.map%28%0A%20%20%20%20%20%20%20%20%27map_daeffe22d1d54dddb6a55d8f7529ec47%27%2C%20%7B%0A%20%20%20%20%20%20%20%20center%3A%20%5B37.0902%2C%20-95.7129%5D%2C%0A%20%20%20%20%20%20%20%20zoom%3A%205%2C%0A%20%20%20%20%20%20%20%20maxBounds%3A%20bounds%2C%0A%20%20%20%20%20%20%20%20layers%3A%20%5B%5D%2C%0A%20%20%20%20%20%20%20%20worldCopyJump%3A%20false%2C%0A%20%20%20%20%20%20%20%20crs%3A%20L.CRS.EPSG3857%2C%0A%20%20%20%20%20%20%20%20zoomControl%3A%20true%2C%0A%20%20%20%20%20%20%20%20%7D%29%3B%0A%0A%0A%20%20%20%20%0A%20%20%20%20var%20tile_layer_ac0e86c266bc452185231ba403b29dc2%20%3D%20L.tileLayer%28%0A%20%20%20%20%20%20%20%20%27https%3A//%7Bs%7D.tile.openstreetmap.org/%7Bz%7D/%7Bx%7D/%7By%7D.png%27%2C%0A%20%20%20%20%20%20%20%20%7B%0A%20%20%20%20%20%20%20%20%22attribution%22%3A%20null%2C%0A%20%20%20%20%20%20%20%20%22detectRetina%22%3A%20false%2C%0A%20%20%20%20%20%20%20%20%22maxNativeZoom%22%3A%2018%2C%0A%20%20%20%20%20%20%20%20%22maxZoom%22%3A%2018%2C%0A%20%20%20%20%20%20%20%20%22minZoom%22%3A%200%2C%0A%20%20%20%20%20%20%20%20%22noWrap%22%3A%20false%2C%0A%20%20%20%20%20%20%20%20%22opacity%22%3A%201%2C%0A%20%20%20%20%20%20%20%20%22subdomains%22%3A%20%22abc%22%2C%0A%20%20%20%20%20%20%20%20%22tms%22%3A%20false%0A%7D%29.addTo%28map_daeffe22d1d54dddb6a55d8f7529ec47%29%3B%0A%20%20%20%20%0A%20%20%20%20%20%20%20%20%20%20%20%20var%20heat_map_9faba603735b47e8b6a906f10ee4405e%20%3D%20L.heatLayer%28%0A%20%20%20%20%20%20%20%20%20%20%20%20%20%20%20%20%5B%5B42.958908%2C%20-85.67147800000002%5D%2C%20%5B28.492792%2C%20-81.43354000000002%5D%2C%20%5B38.482391%2C%20-77.395363%5D%2C%20%5B25.781242%2C%20-80.336578%5D%2C%20%5B42.223179%2C%20-71.170784%5D%2C%20%5B34.95559%2C%20-82.14334000000002%5D%2C%20%5B32.735149%2C%20-111.550133%5D%2C%20%5B34.104626%2C%20-80.829453%5D%2C%20%5B34.220223%2C%20-79.76124899999998%5D%2C%20%5B35.23057199999999%2C%20-80.844925%5D%2C%20%5B37.602623%2C%20-122.063881%5D%2C%20%5B34.087757%2C%20-84.26949300000003%5D%2C%20%5B41.80896%2C%20-88.11726999999998%5D%2C%20%5B29.737070000000006%2C%20-95.548363%5D%2C%20%5B35.234219%2C%20-89.92572%5D%2C%20%5B39.06875%2C%20-94.7945%5D%2C%20%5B37.509842%2C%20-122.48807%5D%2C%20%5B44.0978%2C%20-123.15806%5D%2C%20%5B33.84032%2C%20-117.83273%5D%2C%20%5B37.78174%2C%20-121.31203%5D%2C%20%5B38.879964%2C%20-77.242712%5D%2C%20%5B25.751724%2C%20-80.387012%5D%2C%20%5B33.725390999999995%2C%20-117.803279%5D%2C%20%5B38.657444%2C%20-76.874962%5D%2C%20%5B40.336815%2C%20-79.948931%5D%2C%20%5B47.318554%2C%20-122.183807%5D%2C%20%5B33.369228%2C%20-117.227692%5D%2C%20%5B40.196949%2C%20-75.184387%5D%2C%20%5B29.673273%2C%20-95.289314%5D%2C%20%5B33.51815%2C%20-80.877937%5D%2C%20%5B29.949296%2C%20-95.413218%5D%2C%20%5B30.405247%2C%20-97.583542%5D%2C%20%5B33.79797%2C%20-84.39292900000002%5D%2C%20%5B39.521656%2C%20-119.47551%5D%2C%20%5B35.09474%2C%20-89.87044%5D%2C%20%5B38.556953%2C%20-122.505241%5D%2C%20%5B45.20829000000001%2C%20-122.93776%5D%2C%20%5B34.93766%2C%20-82.004326%5D%2C%20%5B37.89968%2C%20-122.51585%5D%2C%20%5B43.193581%2C%20-77.62258%5D%2C%20%5B33.841961%2C%20-118.286232%5D%2C%20%5B40.255341%2C%20-75.724073%5D%2C%20%5B33.655674%2C%20-117.74407%5D%2C%20%5B29.70422%2C%20-95.40667%5D%2C%20%5B33.945476%2C%20-118.296126%5D%2C%20%5B40.59611500000001%2C%20-75.33674599999998%5D%2C%20%5B27.847363%2C%20-82.819939%5D%2C%20%5B36.951126%2C%20-80.87814200000003%5D%2C%20%5B30.001551%2C%20-95.281311%5D%2C%20%5B35.73308%2C%20-79.457417%5D%2C%20%5B39.060956%2C%20-76.83675799999997%5D%2C%20%5B37.316426%2C%20-80.05079599999998%5D%2C%20%5B42.44976%2C%20-87.82547%5D%2C%20%5B34.068787%2C%20-117.345312%5D%2C%20%5B37.052003000000006%2C%20-122.070454%5D%2C%20%5B30.519458%2C%20-87.143137%5D%2C%20%5B30.102303000000006%2C%20-81.705635%5D%2C%20%5B36.347286%2C%20-82.378624%5D%2C%20%5B47.6199%2C%20-122.3209%5D%2C%20%5B33.810186%2C%20-118.290254%5D%2C%20%5B30.353336%2C%20-97.705627%5D%2C%20%5B33.811%2C%20-84.37305%5D%2C%20%5B39.25236500000001%2C%20-84.57991%5D%2C%20%5B37.708439%2C%20-122.163834%5D%2C%20%5B34.003772999999995%2C%20-118.281029%5D%2C%20%5B39.921501%2C%20-86.11216%5D%2C%20%5B35.459949%2C%20-97.65416%5D%2C%20%5B35.169628%2C%20-80.904701%5D%2C%20%5B34.066759999999995%2C%20-117.21885%5D%2C%20%5B47.73413%2C%20-122.33698%5D%2C%20%5B27.758341%2C%20-82.675285%5D%2C%20%5B38.50246%2C%20-122.9954%5D%2C%20%5B44.313776%2C%20-122.00583600000002%5D%2C%20%5B40.192486%2C%20-75.15293100000002%5D%2C%20%5B37.130473%2C%20-121.032375%5D%2C%20%5B39.00985%2C%20-94.69381%5D%2C%20%5B29.935341%2C%20-95.398613%5D%2C%20%5B38.372875%2C%20-121.358711%5D%2C%20%5B40.85956%2C%20-73.97537%5D%2C%20%5B35.91745%2C%20-84.094406%5D%2C%20%5B42.66706%2C%20-78.885649%5D%2C%20%5B37.303768%2C%20-121.878227%5D%2C%20%5B29.48807%2C%20-98.3927%5D%2C%20%5B39.981274%2C%20-76.761581%5D%2C%20%5B35.16395%2C%20-80.95784%5D%2C%20%5B38.05451%2C%20-122.22957%5D%2C%20%5B31.7776%2C%20-106.44373%5D%2C%20%5B33.509440999999995%2C%20-112.112457%5D%2C%20%5B34.061%2C%20-117.80478%5D%2C%20%5B33.799890000000005%2C%20-84.39126%5D%2C%20%5B37.4633%2C%20-77.50007%5D%2C%20%5B39.483367%2C%20-75.04329%5D%2C%20%5B39.889111%2C%20-75.104874%5D%2C%20%5B33.86329%2C%20-84.43791999999998%5D%2C%20%5B39.01577%2C%20-77.016624%5D%2C%20%5B29.522219%2C%20-98.394287%5D%2C%20%5B28.55292%2C%20-81.41396%5D%2C%20%5B30.711157%2C%20-88.170135%5D%2C%20%5B33.935405%2C%20-118.280342%5D%2C%20%5B38.55875%2C%20-90.25768%5D%2C%20%5B39.379158%2C%20-76.503586%5D%2C%20%5B30.212673%2C%20-85.608007%5D%2C%20%5B37.617466%2C%20-104.759262%5D%2C%20%5B25.761064%2C%20-80.415162%5D%2C%20%5B45.55981%2C%20-122.17327%5D%2C%20%5B36.13979000000001%2C%20-86.82274%5D%2C%20%5B35.396572%2C%20-97.597305%5D%2C%20%5B34.379204%2C%20-81.68016800000002%5D%2C%20%5B39.39598%2C%20-76.68738%5D%2C%20%5B33.519615%2C%20-80.790993%5D%2C%20%5B40.586455%2C%20-122.375142%5D%2C%20%5B34.376090999999995%2C%20-119.477493%5D%2C%20%5B45.42945200000001%2C%20-118.358738%5D%2C%20%5B37.814411%2C%20-122.250877%5D%2C%20%5B44.09075%2C%20-123.17118%5D%2C%20%5B34.12534%2C%20-118.47652%5D%2C%20%5B41.99693%2C%20-87.7289%5D%2C%20%5B33.87422%2C%20-117.88052%5D%2C%20%5B33.94453%2C%20-84.51029%5D%2C%20%5B41.787209%2C%20-87.631302%5D%2C%20%5B29.70751%2C%20-95.10257%5D%2C%20%5B46.98263%2C%20-122.64896%5D%2C%20%5B34.823840000000004%2C%20-86.94227%5D%2C%20%5B42.13176%2C%20-83.24128%5D%2C%20%5B37.041081%2C%20-76.395202%5D%2C%20%5B34.350414%2C%20-118.504124%5D%2C%20%5B37.53847%2C%20-121.92725%5D%2C%20%5B45.496109%2C%20-92.994835%5D%2C%20%5B38.544781%2C%20-121.473984%5D%2C%20%5B40.41976%2C%20-74.209624%5D%2C%20%5B35.018071%2C%20-118.955197%5D%2C%20%5B41.905735%2C%20-87.96500400000002%5D%2C%20%5B45.9759%2C%20-117.26189%5D%2C%20%5B40.27049%2C%20-74.50894%5D%2C%20%5B36.838047%2C%20-76.09831199999998%5D%2C%20%5B41.82988%2C%20-71.41796%5D%2C%20%5B40.075459%2C%20-76.752098%5D%2C%20%5B34.055686%2C%20-118.451951%5D%2C%20%5B37.998032%2C%20-121.806084%5D%2C%20%5B35.22435%2C%20-80.74875%5D%2C%20%5B37.340458%2C%20-122.08933%5D%2C%20%5B42.27952%2C%20-87.86752%5D%2C%20%5B41.931431%2C%20-87.939667%5D%2C%20%5B30.442825%2C%20-87.310355%5D%2C%20%5B34.166657%2C%20-118.299513%5D%2C%20%5B28.35802%2C%20-80.60812%5D%2C%20%5B34.020491%2C%20-118.194086%5D%2C%20%5B41.902233%2C%20-88.10172299999998%5D%2C%20%5B34.081454%2C%20-118.295803%5D%2C%20%5B39.963771%2C%20-76.767318%5D%2C%20%5B25.761633%2C%20-80.352379%5D%2C%20%5B40.854504%2C%20-73.965942%5D%2C%20%5B34.053185%2C%20-81.061378%5D%2C%20%5B41.87965%2C%20-87.80473%5D%2C%20%5B33.99382%2C%20-117.3586%5D%2C%20%5B34.192904%2C%20-118.14824099999998%5D%2C%20%5B34.5894%2C%20-120.408373%5D%2C%20%5B37.542969%2C%20-122.020271%5D%2C%20%5B38.47535300000001%2C%20-121.423849%5D%2C%20%5B45.91169%2C%20-94.88028%5D%2C%20%5B28.537979%2C%20-81.34356700000002%5D%2C%20%5B34.806952%2C%20-89.51053399999998%5D%2C%20%5B35.64053300000001%2C%20-78.640823%5D%2C%20%5B35.0634%2C%20-81.666351%5D%2C%20%5B33.667976%2C%20-112.203018%5D%2C%20%5B25.96749%2C%20-80.22936999999997%5D%2C%20%5B34.094749%2C%20-81.169899%5D%2C%20%5B39.901974%2C%20-75.112747%5D%2C%20%5B34.064419%2C%20-118.00592%5D%2C%20%5B39.039173%2C%20-94.341591%5D%2C%20%5B40.282146%2C%20-76.820086%5D%2C%20%5B37.25389000000001%2C%20-121.95698%5D%2C%20%5B35.31766%2C%20-80.94483000000002%5D%2C%20%5B27.162090000000006%2C%20-80.56437%5D%2C%20%5B44.07982%2C%20-121.30166%5D%2C%20%5B38.965183%2C%20-78.436989%5D%2C%20%5B30.255404%2C%20-97.776527%5D%2C%20%5B47.849579%2C%20-122.246902%5D%2C%20%5B33.725570000000005%2C%20-117.80413%5D%2C%20%5B36.188396%2C%20-86.79656999999997%5D%2C%20%5B42.152405%2C%20-88.136055%5D%2C%20%5B42.531198%2C%20-73.784683%5D%2C%20%5B32.766921999999994%2C%20-96.751526%5D%2C%20%5B33.76488%2C%20-84.51972099999998%5D%2C%20%5B33.750488%2C%20-84.44416%5D%2C%20%5B42.63826%2C%20-84.73909%5D%2C%20%5B42.747219%2C%20-71.49269100000002%5D%2C%20%5B33.465431%2C%20-81.961739%5D%2C%20%5B35.280737%2C%20-80.834305%5D%2C%20%5B42.431931%2C%20-71.243752%5D%2C%20%5B37.683109%2C%20-122.127647%5D%2C%20%5B34.10785%2C%20-117.30274%5D%2C%20%5B45.17935%2C%20-122.59174%5D%2C%20%5B34.214699%2C%20-117.864342%5D%2C%20%5B40.6888%2C%20-73.80870999999998%5D%2C%20%5B34.140764000000004%2C%20-118.277491%5D%2C%20%5B44.561263%2C%20-92.49515%5D%2C%20%5B29.435684%2C%20-98.390083%5D%2C%20%5B34.494021999999994%2C%20-81.841248%5D%2C%20%5B40.085468%2C%20-75.125038%5D%2C%20%5B35.204399%2C%20-80.719879%5D%2C%20%5B40.897204%2C%20-74.022171%5D%2C%20%5B37.69032%2C%20-122.12347%5D%2C%20%5B32.177741999999995%2C%20-110.985435%5D%2C%20%5B42.809438%2C%20-71.49859599999998%5D%2C%20%5B35.49332000000001%2C%20-97.583382%5D%2C%20%5B33.320263%2C%20-111.894035%5D%2C%20%5B35.978068%2C%20-78.580907%5D%2C%20%5B34.182049%2C%20-118.397179%5D%2C%20%5B37.672691%2C%20-122.453972%5D%2C%20%5B34.076153000000005%2C%20-79.304138%5D%2C%20%5B25.90278%2C%20-80.32299%5D%2C%20%5B38.463249%2C%20-90.42495%5D%2C%20%5B37.559256%2C%20-77.417167%5D%2C%20%5B41.28351%2C%20-72.95098%5D%2C%20%5B34.028231%2C%20-118.229938%5D%2C%20%5B37.794292%2C%20-122.206039%5D%2C%20%5B41.175848%2C%20-112.007148%5D%2C%20%5B28.456014%2C%20-81.40138%5D%2C%20%5B36.310596%2C%20-82.406364%5D%2C%20%5B39.88232100000001%2C%20-104.98746%5D%2C%20%5B40.82345%2C%20-73.34748%5D%2C%20%5B36.075481%2C%20-86.940407%5D%2C%20%5B39.13057%2C%20-76.81913%5D%2C%20%5B42.03045%2C%20-88.03085%5D%2C%20%5B27.78186%2C%20-82.6612%5D%2C%20%5B39.094425%2C%20-94.543129%5D%2C%20%5B41.81905%2C%20-71.38453%5D%2C%20%5B32.88921%2C%20-80.010315%5D%2C%20%5B33.928719%2C%20-118.294716%5D%2C%20%5B30.263117%2C%20-97.735694%5D%2C%20%5B35.114178%2C%20-80.824539%5D%2C%20%5B38.661907%2C%20-120.941201%5D%2C%20%5B44.634312%2C%20-124.019058%5D%2C%20%5B39.52977%2C%20-106.21614%5D%2C%20%5B28.097912%2C%20-82.452545%5D%2C%20%5B32.221027%2C%20-110.840973%5D%2C%20%5B36.153%2C%20-86.795982%5D%2C%20%5B36.122715%2C%20-86.80684699999998%5D%2C%20%5B44.690219%2C%20-118.194598%5D%2C%20%5B39.81278%2C%20-105.13791%5D%2C%20%5B37.780026%2C%20-121.186689%5D%2C%20%5B35.799561%2C%20-78.646149%5D%2C%20%5B41.967937%2C%20-88.080109%5D%2C%20%5B34.966384999999995%2C%20-120.421204%5D%2C%20%5B38.008755%2C%20-121.752762%5D%2C%20%5B38.994564%2C%20-104.783417%5D%2C%20%5B34.888069%2C%20-82.37265%5D%2C%20%5B34.12737%2C%20-118.27367%5D%2C%20%5B33.508556%2C%20-112.264038%5D%2C%20%5B30.361718%2C%20-97.641869%5D%2C%20%5B33.855976%2C%20-117.997269%5D%2C%20%5B45.427553%2C%20-122.744042%5D%2C%20%5B38.820953%2C%20-76.848618%5D%2C%20%5B34.098209000000004%2C%20-117.301758%5D%2C%20%5B40.58794%2C%20-111.900467%5D%2C%20%5B34.259827%2C%20-118.330101%5D%2C%20%5B39.378342%2C%20-76.651268%5D%2C%20%5B38.93706%2C%20-94.51362%5D%2C%20%5B45.51284%2C%20-122.99088%5D%2C%20%5B36.20393%2C%20-86.750641%5D%2C%20%5B35.99514%2C%20-86.59663%5D%2C%20%5B40.600346%2C%20-74.23127%5D%2C%20%5B45.519032%2C%20-122.55394%5D%2C%20%5B33.92852%2C%20-118.239164%5D%2C%20%5B28.202374%2C%20-82.776945%5D%2C%20%5B42.34628%2C%20-122.87533%5D%2C%20%5B43.018829%2C%20-78.186203%5D%2C%20%5B40.814671%2C%20-74.05275%5D%2C%20%5B38.871806%2C%20-76.98214300000002%5D%2C%20%5B40.844866%2C%20-73.925262%5D%2C%20%5B42.588089%2C%20-121.924483%5D%2C%20%5B38.694317%2C%20-90.238304%5D%2C%20%5B34.01685%2C%20-117.98548999999998%5D%2C%20%5B37.250729%2C%20-121.910713%5D%2C%20%5B34.018448%2C%20-118.280075%5D%2C%20%5B43.155731%2C%20-77.62044499999998%5D%2C%20%5B34.145569%2C%20-118.226471%5D%2C%20%5B39.217575%2C%20-84.29639399999998%5D%2C%20%5B35.768368%2C%20-78.69413%5D%2C%20%5B29.820692%2C%20-95.42952%5D%2C%20%5B32.8189%2C%20-79.95506999999998%5D%2C%20%5B37.47018%2C%20-121.90886%5D%2C%20%5B42.360269%2C%20-71.07208%5D%2C%20%5B33.180089%2C%20-117.353969%5D%2C%20%5B32.83654%2C%20-96.77962%5D%2C%20%5B35.68626%2C%20-78.608101%5D%2C%20%5B45.38807%2C%20-118.31846000000002%5D%2C%20%5B40.8686%2C%20-73.00034000000002%5D%2C%20%5B38.954372%2C%20-76.078453%5D%2C%20%5B35.194336%2C%20-80.72567%5D%2C%20%5B30.27154%2C%20-81.702797%5D%2C%20%5B40.819904%2C%20-73.890417%5D%2C%20%5B32.834555%2C%20-85.75859100000002%5D%2C%20%5B41.577461%2C%20-87.538177%5D%2C%20%5B34.033353000000005%2C%20-118.170219%5D%2C%20%5B33.881609000000005%2C%20-118.10386%5D%2C%20%5B46.057713%2C%20-123.915249%5D%2C%20%5B43.107471%2C%20-76.287071%5D%2C%20%5B42.245937%2C%20-83.76413000000002%5D%2C%20%5B38.228142%2C%20-85.636627%5D%2C%20%5B36.064886%2C%20-79.456063%5D%2C%20%5B48.16471%2C%20-118.97903%5D%2C%20%5B30.456839%2C%20-91.072083%5D%2C%20%5B44.53695%2C%20-93.84784%5D%2C%20%5B34.299865999999994%2C%20-80.086136%5D%2C%20%5B33.859921%2C%20-118.299194%5D%2C%20%5B25.928132%2C%20-80.293405%5D%2C%20%5B35.305767%2C%20-80.749763%5D%2C%20%5B45.431288%2C%20-118.360744%5D%2C%20%5B37.851368%2C%20-122.028702%5D%2C%20%5B42.400654%2C%20-83.21820799999998%5D%2C%20%5B35.015213%2C%20-85.163684%5D%2C%20%5B43.494523%2C%20-121.674965%5D%2C%20%5B38.84118400000001%2C%20-76.72766999999997%5D%2C%20%5B47.233849%2C%20-122.429741%5D%2C%20%5B41.83173%2C%20-88.201141%5D%2C%20%5B40.725709%2C%20-73.83785999999998%5D%2C%20%5B30.39768%2C%20-81.562485%5D%2C%20%5B25.927303%2C%20-80.221649%5D%2C%20%5B34.14571%2C%20-83.6223%5D%2C%20%5B37.5681%2C%20-121.89597%5D%2C%20%5B37.619975%2C%20-122.075969%5D%2C%20%5B45.51952%2C%20-122.56557%5D%2C%20%5B44.17427%2C%20-93.93767%5D%2C%20%5B29.568777%2C%20-98.394211%5D%2C%20%5B36.158649%2C%20-95.88665%5D%2C%20%5B44.979195%2C%20-93.287598%5D%2C%20%5B40.926926%2C%20-75.3162%5D%2C%20%5B39.18832800000001%2C%20-94.590085%5D%2C%20%5B40.03314%2C%20-75.76375%5D%2C%20%5B34.06743%2C%20-117.42777%5D%2C%20%5B32.839783000000004%2C%20-79.862724%5D%2C%20%5B37.7014%2C%20-121.87741%5D%2C%20%5B37.275824%2C%20-121.946309%5D%2C%20%5B34.018875%2C%20-118.18619%5D%2C%20%5B33.85606%2C%20-117.98707%5D%2C%20%5B30.20516%2C%20-92.012917%5D%2C%20%5B28.375291%2C%20-81.506412%5D%2C%20%5B40.008526%2C%20-75.21072099999998%5D%2C%20%5B38.692059%2C%20-121.336601%5D%2C%20%5B40.73473%2C%20-74.109749%5D%2C%20%5B28.52347%2C%20-81.31031800000002%5D%2C%20%5B37.4782%2C%20-121.93349%5D%2C%20%5B38.55087%2C%20-121.42259%5D%2C%20%5B42.37344%2C%20-71.119438%5D%2C%20%5B33.443977000000004%2C%20-86.733376%5D%2C%20%5B27.636778000000003%2C%20-80.434814%5D%2C%20%5B37.261551%2C%20-121.80016299999998%5D%2C%20%5B42.43913%2C%20-83.42860999999998%5D%2C%20%5B38.496395%2C%20-121.446463%5D%2C%20%5B37.900803%2C%20-121.221181%5D%2C%20%5B35.742931%2C%20-78.68096899999998%5D%2C%20%5B39.047794%2C%20-94.646263%5D%2C%20%5B43.012848%2C%20-83.733856%5D%2C%20%5B40.756325%2C%20-73.550575%5D%2C%20%5B35.301041%2C%20-80.986961%5D%2C%20%5B33.996179999999995%2C%20-117.87029%5D%2C%20%5B36.12746%2C%20-86.728554%5D%2C%20%5B27.874511%2C%20-82.762102%5D%2C%20%5B37.378673%2C%20-121.910996%5D%2C%20%5B34.961201%2C%20-82.387772%5D%2C%20%5B41.73257%2C%20-74.06602%5D%2C%20%5B38.81156%2C%20-94.8204%5D%2C%20%5B34.012502000000005%2C%20-118.418508%5D%2C%20%5B44.889603%2C%20-93.350197%5D%2C%20%5B28.193329%2C%20-82.635086%5D%2C%20%5B30.173796000000007%2C%20-97.823753%5D%2C%20%5B39.99551%2C%20-111.4688%5D%2C%20%5B34.098471%2C%20-81.055757%5D%2C%20%5B39.094131%2C%20-94.543137%5D%2C%20%5B34.175083%2C%20-118.106578%5D%2C%20%5B41.122194%2C%20-111.764851%5D%2C%20%5B40.84488%2C%20-73.922687%5D%2C%20%5B39.923683%2C%20-86.22337399999998%5D%2C%20%5B39.74715%2C%20-105.01813%5D%2C%20%5B34.120436%2C%20-118.271244%5D%2C%20%5B43.122372%2C%20-77.59427600000002%5D%2C%20%5B33.932819%2C%20-81.076858%5D%2C%20%5B35.391338%2C%20-97.533455%5D%2C%20%5B37.335352%2C%20-121.85864%5D%2C%20%5B37.89791500000001%2C%20-122.095856%5D%2C%20%5B33.654920000000004%2C%20-84.36503%5D%2C%20%5B44.78698%2C%20-93.2048%5D%2C%20%5B47.618576%2C%20-92.457944%5D%2C%20%5B33.846699%2C%20-118.206787%5D%2C%20%5B39.018255%2C%20-77.10847700000002%5D%2C%20%5B31.4335%2C%20-83.51978000000003%5D%2C%20%5B40.56396%2C%20-75.58524%5D%2C%20%5B28.501865%2C%20-81.396973%5D%2C%20%5B35.193331%2C%20-80.79990600000002%5D%2C%20%5B41.876987%2C%20-88.070122%5D%2C%20%5B45.037411%2C%20-93.04245%5D%2C%20%5B33.16523%2C%20-80.64463%5D%2C%20%5B30.221426%2C%20-97.764876%5D%2C%20%5B42.04011%2C%20-87.88886%5D%2C%20%5B40.66765%2C%20-111.9388%5D%2C%20%5B33.754219%2C%20-117.850647%5D%2C%20%5B37.994606%2C%20-122.069801%5D%2C%20%5B29.89128%2C%20-90.40987%5D%2C%20%5B26.080715%2C%20-80.1686%5D%2C%20%5B32.981388%2C%20-96.932191%5D%2C%20%5B25.941313%2C%20-80.190342%5D%2C%20%5B32.750645%2C%20-80.828445%5D%2C%20%5B30.267139%2C%20-97.770866%5D%2C%20%5B34.055588%2C%20-118.21299%5D%2C%20%5B27.71246%2C%20-82.29821%5D%2C%20%5B41.038431%2C%20-78.389711%5D%2C%20%5B28.433971000000003%2C%20-82.548538%5D%2C%20%5B41.81907%2C%20-71.41835999999998%5D%2C%20%5B30.116516%2C%20-91.971291%5D%2C%20%5B27.446066%2C%20-82.485039%5D%2C%20%5B33.790413%2C%20-118.099365%5D%2C%20%5B42.125888%2C%20-87.89807900000002%5D%2C%20%5B38.250305%2C%20-122.270721%5D%2C%20%5B39.048167%2C%20-77.151092%5D%2C%20%5B35.383056%2C%20-119.044444%5D%2C%20%5B38.183498%2C%20-121.769051%5D%2C%20%5B38.657665%2C%20-121.382591%5D%2C%20%5B33.441438%2C%20-117.137764%5D%2C%20%5B25.772091%2C%20-80.190185%5D%2C%20%5B42.208824%2C%20-73.63681%5D%2C%20%5B41.56755%2C%20-87.33058%5D%2C%20%5B29.352079%2C%20-98.431496%5D%2C%20%5B32.391585%2C%20-90.145584%5D%2C%20%5B33.733059000000004%2C%20-117.989822%5D%2C%20%5B39.184761%2C%20-84.366638%5D%2C%20%5B44.826096%2C%20-95.036576%5D%2C%20%5B34.068659999999994%2C%20-117.37487%5D%2C%20%5B34.033283000000004%2C%20-118.181114%5D%2C%20%5B33.71625%2C%20-84.25243%5D%2C%20%5B35.053761%2C%20-90.007446%5D%2C%20%5B34.39846%2C%20-118.46193%5D%2C%20%5B41.37531%2C%20-83.61631700000002%5D%2C%20%5B33.920577%2C%20-118.082588%5D%2C%20%5B37.572998%2C%20-77.519814%5D%2C%20%5B40.735321%2C%20-73.90834%5D%2C%20%5B35.18853%2C%20-85.48359%5D%2C%20%5B36.653923%2C%20-120.297585%5D%2C%20%5B42.548679%2C%20-73.671387%5D%2C%20%5B27.893890000000006%2C%20-82.668178%5D%2C%20%5B37.320877%2C%20-77.400749%5D%2C%20%5B30.462097%2C%20-97.816207%5D%2C%20%5B30.36488%2C%20-97.696007%5D%2C%20%5B36.03191%2C%20-95.864647%5D%2C%20%5B30.462299%2C%20-91.035187%5D%2C%20%5B41.63796%2C%20-83.54525%5D%2C%20%5B40.17299000000001%2C%20-74.07257%5D%2C%20%5B32.843920000000004%2C%20-96.63466%5D%2C%20%5B39.022289%2C%20-84.511803%5D%2C%20%5B32.232994%2C%20-110.959465%5D%2C%20%5B35.249763%2C%20-80.856438%5D%2C%20%5B36.13258%2C%20-80.28098299999998%5D%2C%20%5B27.33855%2C%20-82.44436%5D%2C%20%5B36.169209%2C%20-86.779663%5D%2C%20%5B40.21131%2C%20-79.662987%5D%2C%20%5B33.516889%2C%20-117.663986%5D%2C%20%5B37.98991%2C%20-122.13337%5D%2C%20%5B34.033409000000006%2C%20-118.18045%5D%2C%20%5B34.096815%2C%20-117.925406%5D%2C%20%5B40.894001%2C%20-74.273315%5D%2C%20%5B37.33453%2C%20-122.02868%5D%2C%20%5B38.80023%2C%20-77.20654%5D%2C%20%5B39.078094%2C%20-76.952332%5D%2C%20%5B26.684276%2C%20-81.79855%5D%2C%20%5B34.524982%2C%20-82.519875%5D%2C%20%5B40.13114%2C%20-74.96751%5D%2C%20%5B37.40794%2C%20-122.0043%5D%2C%20%5B43.102382%2C%20-123.472483%5D%2C%20%5B35.96319000000001%2C%20-83.93939%5D%2C%20%5B29.48596%2C%20-82.491122%5D%2C%20%5B43.048023%2C%20-77.647903%5D%2C%20%5B38.004318%2C%20-122.04023%5D%2C%20%5B41.05881%2C%20-73.82184000000002%5D%2C%20%5B35.596649%2C%20-97.642601%5D%2C%20%5B25.85225%2C%20-80.20814%5D%2C%20%5B39.735574%2C%20-123.258125%5D%2C%20%5B25.687379%2C%20-80.355979%5D%2C%20%5B38.657707%2C%20-121.363853%5D%2C%20%5B32.765695%2C%20-117.128486%5D%2C%20%5B37.34723%2C%20-121.85912%5D%2C%20%5B27.606163%2C%20-82.497803%5D%2C%20%5B28.519131%2C%20-81.39705699999998%5D%2C%20%5B40.88638%2C%20-73.89589000000002%5D%2C%20%5B28.092556%2C%20-82.73944499999998%5D%2C%20%5B42.720482%2C%20-84.504951%5D%2C%20%5B34.03841%2C%20-118.439682%5D%2C%20%5B34.089901%2C%20-80.92733%5D%2C%20%5B39.113308%2C%20-104.865658%5D%2C%20%5B36.763179%2C%20-119.747699%5D%2C%20%5B37.666409%2C%20-122.106804%5D%2C%20%5B33.82264%2C%20-118.19736%5D%2C%20%5B38.91107%2C%20-120.918522%5D%2C%20%5B30.32608%2C%20-97.692383%5D%2C%20%5B34.09369%2C%20-118.25607%5D%2C%20%5B41.124969%2C%20-74.165664%5D%2C%20%5B33.44723%2C%20-117.63508%5D%2C%20%5B33.688899%2C%20-117.918201%5D%2C%20%5B33.419395%2C%20-112.018768%5D%2C%20%5B40.87223400000001%2C%20-73.81796999999997%5D%2C%20%5B36.1472%2C%20-86.74367%5D%2C%20%5B39.9893%2C%20-85.93041%5D%2C%20%5B42.74151%2C%20-95.44658%5D%2C%20%5B35.31745%2C%20-80.77631%5D%2C%20%5B39.743931%2C%20-105.02993%5D%2C%20%5B39.84419000000001%2C%20-86.04244%5D%2C%20%5B38.737267%2C%20-77.192484%5D%2C%20%5B38.674713%2C%20-76.876099%5D%2C%20%5B32.759422%2C%20-97.029007%5D%2C%20%5B47.60582700000001%2C%20-122.331146%5D%2C%20%5B35.07886%2C%20-90.02585%5D%2C%20%5B33.79938%2C%20-117.89767%5D%2C%20%5B38.815727%2C%20-77.13825200000002%5D%2C%20%5B39.03699%2C%20-94.68329%5D%2C%20%5B38.843868%2C%20-94.529579%5D%2C%20%5B42.40204%2C%20-82.97069%5D%2C%20%5B33.772087%2C%20-117.156386%5D%2C%20%5B34.446176%2C%20-119.956799%5D%2C%20%5B42.695904%2C%20-73.84127%5D%2C%20%5B35.022411%2C%20-85.17576600000002%5D%2C%20%5B37.60635%2C%20-87.10544%5D%2C%20%5B35.180565%2C%20-80.888756%5D%2C%20%5B40.8227%2C%20-74.12556%5D%2C%20%5B35.235924%2C%20-80.880516%5D%2C%20%5B37.783173%2C%20-121.229187%5D%2C%20%5B33.943661%2C%20-79.563232%5D%2C%20%5B42.58915%2C%20-122.81657%5D%2C%20%5B37.18665%2C%20-119.203154%5D%2C%20%5B39.418221%2C%20-77.45084399999998%5D%2C%20%5B34.68816%2C%20-82.996162%5D%2C%20%5B34.18756%2C%20-118.93386%5D%2C%20%5B32.936115%2C%20-117.111275%5D%2C%20%5B32.926117%2C%20-96.81234%5D%2C%20%5B45.073331%2C%20-93.286532%5D%2C%20%5B44.42824%2C%20-93.530947%5D%2C%20%5B40.369846%2C%20-76.943321%5D%2C%20%5B39.309693%2C%20-76.74507%5D%2C%20%5B36.750367%2C%20-119.700245%5D%2C%20%5B45.03758300000001%2C%20-93.091868%5D%2C%20%5B45.497887%2C%20-94.240654%5D%2C%20%5B39.59539%2C%20-84.20027900000002%5D%2C%20%5B34.799839%2C%20-82.42443100000001%5D%2C%20%5B34.003994%2C%20-117.83017%5D%2C%20%5B40.098991%2C%20-83.146927%5D%2C%20%5B41.551898%2C%20-73.94393000000002%5D%2C%20%5B36.138571%2C%20-115.243019%5D%2C%20%5B45.286277%2C%20-93.002926%5D%2C%20%5B34.234987%2C%20-118.29043%5D%2C%20%5B36.193375%2C%20-86.776886%5D%2C%20%5B45.728696%2C%20-120.558425%5D%2C%20%5B41.67473%2C%20-93.57793%5D%2C%20%5B38.95333%2C%20-76.72780999999998%5D%2C%20%5B35.31095900000001%2C%20-84.804939%5D%2C%20%5B30.251652000000004%2C%20-81.466492%5D%2C%20%5B40.131565%2C%20-75.449104%5D%2C%20%5B38.589854%2C%20-121.730293%5D%2C%20%5B37.540244%2C%20-120.895759%5D%2C%20%5B33.63176%2C%20-84.39544000000002%5D%2C%20%5B38.83453400000001%2C%20-77.097862%5D%2C%20%5B36.758015%2C%20-76.29597%5D%2C%20%5B41.140095%2C%20-95.937347%5D%2C%20%5B37.27642%2C%20-121.94619%5D%2C%20%5B33.747341%2C%20-118.291412%5D%2C%20%5B34.487594%2C%20-118.1399%5D%2C%20%5B34.795922%2C%20-82.437576%5D%2C%20%5B34.871140000000004%2C%20-82.691612%5D%2C%20%5B40.10699%2C%20-82.95770999999998%5D%2C%20%5B40.634635%2C%20-111.905195%5D%2C%20%5B32.7877%2C%20-117.113981%5D%2C%20%5B34.133549%2C%20-118.352539%5D%2C%20%5B40.979275%2C%20-72.133636%5D%2C%20%5B37.68668%2C%20-122.1301%5D%2C%20%5B38.90972100000001%2C%20-77.544495%5D%2C%20%5B30.44331%2C%20-97.66748%5D%2C%20%5B34.178047%2C%20-118.393959%5D%2C%20%5B25.888203%2C%20-80.212807%5D%2C%20%5B25.92554%2C%20-80.2649%5D%2C%20%5B42.321499%2C%20-71.053802%5D%2C%20%5B36.742799%2C%20-119.445653%5D%2C%20%5B35.23349%2C%20-80.823143%5D%2C%20%5B38.985983%2C%20-93.499842%5D%2C%20%5B41.242298%2C%20-79.425568%5D%2C%20%5B34.036961%2C%20-118.173576%5D%2C%20%5B34.0246%2C%20-118.46924%5D%2C%20%5B41.92366%2C%20-87.96337%5D%2C%20%5B33.823372%2C%20-84.357681%5D%2C%20%5B32.751663%2C%20-117.004601%5D%2C%20%5B38.559351%2C%20-121.372622%5D%2C%20%5B34.005720000000004%2C%20-117.96019%5D%2C%20%5B33.762451%2C%20-116.309555%5D%2C%20%5B36.514561%2C%20-80.742337%5D%2C%20%5B29.70097%2C%20-95.374313%5D%2C%20%5B25.879293%2C%20-80.3564%5D%2C%20%5B37.099854%2C%20-120.87751000000002%5D%2C%20%5B33.903713%2C%20-118.185593%5D%2C%20%5B28.4806%2C%20-81.310112%5D%2C%20%5B33.859982%2C%20-118.298935%5D%2C%20%5B34.401109000000005%2C%20-118.805591%5D%2C%20%5B33.710011%2C%20-117.782486%5D%2C%20%5B38.43268%2C%20-122.71608%5D%2C%20%5B37.017418%2C%20-76.45027900000002%5D%2C%20%5B40.86295%2C%20-73.0538%5D%2C%20%5B38.99469000000001%2C%20-76.88884%5D%2C%20%5B45.5055%2C%20-122.67672%5D%2C%20%5B35.246578%2C%20-80.891441%5D%2C%20%5B39.086391%2C%20-84.522896%5D%2C%20%5B40.094572%2C%20-76.410253%5D%2C%20%5B30.581257%2C%20-91.162216%5D%2C%20%5B33.912085999999995%2C%20-84.379356%5D%2C%20%5B31.549009%2C%20-97.12442%5D%2C%20%5B38.25629%2C%20-85.76668000000002%5D%2C%20%5B40.386612%2C%20-111.832703%5D%2C%20%5B26.011093%2C%20-80.166809%5D%2C%20%5B40.194717%2C%20-75.156693%5D%2C%20%5B29.733961%2C%20-95.378021%5D%2C%20%5B34.03665%2C%20-118.16132%5D%2C%20%5B33.772346%2C%20-86.828712%5D%2C%20%5B35.23567%2C%20-80.85453000000003%5D%2C%20%5B42.84008%2C%20-117.62489%5D%2C%20%5B39.830605%2C%20-84.89031999999997%5D%2C%20%5B34.323640000000005%2C%20-118.46463%5D%2C%20%5B29.851583%2C%20-95.504662%5D%2C%20%5B34.141154%2C%20-117.248611%5D%2C%20%5B33.702585%2C%20-84.191085%5D%2C%20%5B41.284073%2C%20-72.934563%5D%2C%20%5B42.313591%2C%20-71.121086%5D%2C%20%5B33.670998%2C%20-84.17935200000002%5D%2C%20%5B39.465378%2C%20-119.786827%5D%2C%20%5B34.498546999999995%2C%20-82.330116%5D%2C%20%5B28.52333%2C%20-81.38631%5D%2C%20%5B34.01951%2C%20-118.180012%5D%2C%20%5B40.63598%2C%20-111.90204%5D%2C%20%5B44.77805%2C%20-93.55639%5D%2C%20%5B35.006116%2C%20-85.24779000000002%5D%2C%20%5B34.027939%2C%20-117.933067%5D%2C%20%5B40.667274%2C%20-111.952507%5D%2C%20%5B39.232681%2C%20-76.709879%5D%2C%20%5B25.461069%2C%20-80.484314%5D%2C%20%5B32.133984000000005%2C%20-110.97776%5D%2C%20%5B34.072262%2C%20-117.91127%5D%2C%20%5B35.01133%2C%20-80.765884%5D%2C%20%5B34.078388000000004%2C%20-81.15316800000002%5D%2C%20%5B32.894951%2C%20-80.70946500000002%5D%2C%20%5B34.073055%2C%20-80.978363%5D%2C%20%5B44.556862%2C%20-120.049928%5D%2C%20%5B33.813122%2C%20-84.5457%5D%2C%20%5B25.62749%2C%20-80.37989%5D%2C%20%5B33.771282%2C%20-84.38503299999998%5D%2C%20%5B33.85989%2C%20-84.481255%5D%2C%20%5B28.53256%2C%20-81.38498%5D%2C%20%5B25.769772%2C%20-80.329799%5D%2C%20%5B39.246822%2C%20-76.67559%5D%2C%20%5B30.43807%2C%20-84.279442%5D%2C%20%5B44.15633%2C%20-117.41877%5D%2C%20%5B40.00251%2C%20-83.117676%5D%2C%20%5B44.43697%2C%20-119.313697%5D%2C%20%5B33.480662%2C%20-112.106407%5D%2C%20%5B37.869523%2C%20-122.304749%5D%2C%20%5B31.768637%2C%20-106.487823%5D%2C%20%5B38.05303%2C%20-120.20244%5D%2C%20%5B39.04267%2C%20-94.36918%5D%2C%20%5B29.937441%2C%20-95.483231%5D%2C%20%5B43.144611%2C%20-77.523216%5D%2C%20%5B41.135605%2C%20-74.16834300000002%5D%2C%20%5B39.561306%2C%20-107.294115%5D%2C%20%5B37.908665%2C%20-122.320973%5D%2C%20%5B39.675498%2C%20-123.475627%5D%2C%20%5B33.85973%2C%20-118.30395%5D%2C%20%5B40.081847%2C%20-74.76369%5D%2C%20%5B39.313509%2C%20-119.897083%5D%2C%20%5B33.63896%2C%20-79.03193%5D%2C%20%5B34.024693%2C%20-117.113235%5D%2C%20%5B34.026501%2C%20-117.332984%5D%2C%20%5B34.020306%2C%20-118.192268%5D%2C%20%5B34.130386%2C%20-118.073189%5D%2C%20%5B45.43387%2C%20-122.76066000000002%5D%2C%20%5B38.445852%2C%20-111.804349%5D%2C%20%5B39.632637%2C%20-84.20303299999998%5D%2C%20%5B35.097633%2C%20-106.568932%5D%2C%20%5B33.937615%2C%20-117.123581%5D%2C%20%5B40.07912%2C%20-76.76335999999998%5D%2C%20%5B44.032696%2C%20-123.852096%5D%2C%20%5B37.362774%2C%20-121.887871%5D%2C%20%5B43.153622%2C%20-121.79486%5D%2C%20%5B34.663422%2C%20-82.45768000000002%5D%2C%20%5B34.04646%2C%20-117.77394%5D%2C%20%5B42.49462%2C%20-82.93205%5D%2C%20%5B36.856944%2C%20-121.63%5D%2C%20%5B25.903611%2C%20-80.174983%5D%2C%20%5B37.4167%2C%20-122.21154%5D%2C%20%5B28.565596000000006%2C%20-81.20740699999998%5D%2C%20%5B33.168407%2C%20-87.516914%5D%2C%20%5B38.412975%2C%20-120.550606%5D%2C%20%5B43.071339%2C%20-87.92076899999998%5D%2C%20%5B34.669041%2C%20-83.064194%5D%2C%20%5B37.441703%2C%20-121.889973%5D%2C%20%5B40.57841%2C%20-111.66924%5D%2C%20%5B26.351255%2C%20-80.11853%5D%2C%20%5B37.75705900000001%2C%20-121.963573%5D%2C%20%5B39.277725%2C%20-77.32356999999998%5D%2C%20%5B37.688957%2C%20-122.135612%5D%2C%20%5B25.860951%2C%20-80.209603%5D%2C%20%5B45.309635%2C%20-121.838595%5D%2C%20%5B43.075279%2C%20-88.058289%5D%2C%20%5B33.669289%2C%20-112.099747%5D%2C%20%5B38.838493%2C%20-77.448013%5D%2C%20%5B47.49897%2C%20-94.92498%5D%2C%20%5B35.328838%2C%20-80.737999%5D%2C%20%5B42.13363%2C%20-88.09324000000002%5D%2C%20%5B36.04433%2C%20-86.65701999999997%5D%2C%20%5B37.532822%2C%20-77.507133%5D%2C%20%5B25.972676%2C%20-80.20612%5D%2C%20%5B28.48275%2C%20-81.46398%5D%2C%20%5B32.139381%2C%20-110.840698%5D%2C%20%5B34.024632000000004%2C%20-118.166138%5D%2C%20%5B40.254362%2C%20-76.86477%5D%2C%20%5B35.567329%2C%20-97.500343%5D%2C%20%5B37.806983%2C%20-122.475511%5D%2C%20%5B30.010485%2C%20-90.020974%5D%2C%20%5B45.32136%2C%20-94.89557%5D%2C%20%5B34.038070000000005%2C%20-81.10636%5D%2C%20%5B41.83219%2C%20-87.69566%5D%2C%20%5B37.03399%2C%20-77.63280999999998%5D%2C%20%5B39.35976%2C%20-76.50476%5D%2C%20%5B40.06063%2C%20-75.32424%5D%2C%20%5B40.70555%2C%20-74.2459%5D%2C%20%5B34.030628%2C%20-81.08815%5D%2C%20%5B34.01676%2C%20-118.482679%5D%2C%20%5B39.189964%2C%20-76.86889599999998%5D%2C%20%5B38.672997%2C%20-121.328221%5D%2C%20%5B32.631557%2C%20-80.881538%5D%2C%20%5B34.4894%2C%20-117.332964%5D%2C%20%5B37.400574%2C%20-122.03569%5D%2C%20%5B40.725784%2C%20-73.837631%5D%2C%20%5B42.733875%2C%20-71.19207800000002%5D%2C%20%5B46.981754%2C%20-92.471264%5D%2C%20%5B47.52644%2C%20-122.314903%5D%2C%20%5B39.172241%2C%20-76.62056%5D%2C%20%5B33.597229%2C%20-117.676826%5D%2C%20%5B33.814454%2C%20-118.081565%5D%2C%20%5B35.767089%2C%20-80.332401%5D%2C%20%5B35.39138%2C%20-97.530434%5D%2C%20%5B42.933151%2C%20-71.43020600000001%5D%2C%20%5B37.341617%2C%20-77.33612099999998%5D%2C%20%5B27.85717%2C%20-82.846649%5D%2C%20%5B39.584105%2C%20-77.635674%5D%2C%20%5B36.073868%2C%20-80.32288299999998%5D%2C%20%5B44.549447%2C%20-123.002352%5D%2C%20%5B33.960784999999994%2C%20-117.312996%5D%2C%20%5B36.49616%2C%20-121.364839%5D%2C%20%5B34.028526%2C%20-118.067993%5D%2C%20%5B39.787888%2C%20-86.208427%5D%2C%20%5B44.518136%2C%20-92.923343%5D%2C%20%5B36.186589%2C%20-86.804066%5D%2C%20%5B40.081341%2C%20-75.37560500000002%5D%2C%20%5B40.419422%2C%20-80.090576%5D%2C%20%5B34.1358%2C%20-117.58372%5D%2C%20%5B41.91665%2C%20-89.56168000000002%5D%2C%20%5B32.95953%2C%20-96.821297%5D%2C%20%5B32.186993%2C%20-110.96833%5D%2C%20%5B33.424816%2C%20-81.791617%5D%2C%20%5B32.368120000000005%2C%20-86.13481%5D%2C%20%5B38.5118%2C%20-122.45581%5D%2C%20%5B42.476000000000006%2C%20-83.12123100000002%5D%2C%20%5B41.023586%2C%20-77.934578%5D%2C%20%5B28.373216%2C%20-82.645584%5D%2C%20%5B37.74219%2C%20-121.525634%5D%2C%20%5B33.911245%2C%20-118.172382%5D%2C%20%5B40.990665%2C%20-111.904198%5D%2C%20%5B32.94895%2C%20-96.82331%5D%2C%20%5B42.664112%2C%20-71.194603%5D%2C%20%5B33.791664000000004%2C%20-117.8903%5D%2C%20%5B39.445218%2C%20-76.334935%5D%2C%20%5B33.536713%2C%20-112.340988%5D%2C%20%5B43.784231%2C%20-122.538671%5D%2C%20%5B34.00524%2C%20-117.393033%5D%2C%20%5B35.109138%2C%20-89.888359%5D%2C%20%5B40.166088%2C%20-76.828903%5D%2C%20%5B33.772989%2C%20-81.392798%5D%2C%20%5B37.636082%2C%20-121.396698%5D%2C%20%5B35.093361%2C%20-80.84279599999998%5D%2C%20%5B33.938782%2C%20-118.343918%5D%2C%20%5B36.253949%2C%20-119.172166%5D%2C%20%5B43.147701%2C%20-77.732399%5D%2C%20%5B45.0205%2C%20-93.18908%5D%2C%20%5B36.152302%2C%20-95.987694%5D%2C%20%5B25.58768%2C%20-80.405247%5D%2C%20%5B35.518669%2C%20-97.534363%5D%2C%20%5B41.05426%2C%20-73.809792%5D%2C%20%5B32.776671%2C%20-96.784148%5D%2C%20%5B25.811558%2C%20-80.19538100000003%5D%2C%20%5B33.58013%2C%20-84.51928000000002%5D%2C%20%5B35.130282%2C%20-120.607842%5D%2C%20%5B43.77328%2C%20-123.06034%5D%2C%20%5B37.360481%2C%20-77.34120899999998%5D%2C%20%5B34.03514000000001%2C%20-118.149622%5D%2C%20%5B34.121449%2C%20-117.302361%5D%2C%20%5B34.278183%2C%20-118.502144%5D%2C%20%5B34.25036%2C%20-117.192969%5D%2C%20%5B36.18508900000001%2C%20-86.759918%5D%2C%20%5B40.195644%2C%20-76.975449%5D%2C%20%5B40.631443%2C%20-111.839973%5D%2C%20%5B28.19171%2C%20-82.465721%5D%2C%20%5B31.72829%2C%20-106.31296%5D%2C%20%5B42.43211%2C%20-83.11538%5D%2C%20%5B34.823708%2C%20-82.431473%5D%2C%20%5B41.263893%2C%20-73.611165%5D%2C%20%5B35.009617%2C%20-82.02829%5D%2C%20%5B33.39320900000001%2C%20-112.116345%5D%2C%20%5B33.99953%2C%20-117.8497%5D%2C%20%5B41.964356%2C%20-123.746889%5D%2C%20%5B37.725182%2C%20-122.401639%5D%2C%20%5B44.951969%2C%20-93.147911%5D%2C%20%5B40.23552700000001%2C%20-75.27359399999997%5D%2C%20%5B29.710754%2C%20-95.604622%5D%2C%20%5B30.372386%2C%20-81.66930699999998%5D%2C%20%5B34.14674%2C%20-117.247986%5D%2C%20%5B33.809023%2C%20-118.028073%5D%2C%20%5B38.64067100000001%2C%20-121.271698%5D%2C%20%5B41.474041%2C%20-87.323341%5D%2C%20%5B34.018904%2C%20-118.17236%5D%2C%20%5B35.335012%2C%20-81.12123100000002%5D%2C%20%5B34.015709%2C%20-117.339882%5D%2C%20%5B33.007172%2C%20-80.42189%5D%2C%20%5B34.572697%2C%20-117.88962%5D%2C%20%5B34.280628%2C%20-118.419006%5D%2C%20%5B44.93291%2C%20-93.07175%5D%2C%20%5B40.740543%2C%20-73.841324%5D%2C%20%5B33.194796999999994%2C%20-117.250128%5D%2C%20%5B34.064072%2C%20-118.01008600000002%5D%2C%20%5B35.210556%2C%20-80.83717299999998%5D%2C%20%5B33.634338%2C%20-80.87554899999998%5D%2C%20%5B39.083374%2C%20-121.187776%5D%2C%20%5B42.41235%2C%20-83.21871999999998%5D%2C%20%5B34.248562%2C%20-117.185895%5D%2C%20%5B41.786024%2C%20-93.570698%5D%2C%20%5B38.11301%2C%20-122.10605%5D%2C%20%5B40.976758%2C%20-111.428473%5D%2C%20%5B28.445629%2C%20-81.364952%5D%2C%20%5B33.048378%2C%20-117.287079%5D%2C%20%5B34.953441999999995%2C%20-82.02211%5D%2C%20%5B36.150162%2C%20-86.857933%5D%2C%20%5B42.011909%2C%20-87.750877%5D%2C%20%5B41.690765%2C%20-74.078096%5D%2C%20%5B32.88045%2C%20-80.01839%5D%2C%20%5B35.232069%2C%20-80.850974%5D%2C%20%5B37.841358%2C%20-122.297058%5D%2C%20%5B42.130918%2C%20-84.24817%5D%2C%20%5B33.390093%2C%20-86.793676%5D%2C%20%5B26.44488%2C%20-81.93521899999998%5D%2C%20%5B35.35495%2C%20-119.336304%5D%2C%20%5B43.59603%2C%20-83.98904%5D%2C%20%5B40.8297%2C%20-73.19962%5D%2C%20%5B35.22781%2C%20-80.86148%5D%2C%20%5B42.343227%2C%20-83.216042%5D%2C%20%5B40.69987%2C%20-111.870062%5D%2C%20%5B36.627679%2C%20-121.587591%5D%2C%20%5B37.62429%2C%20-121.004913%5D%2C%20%5B39.665596%2C%20-75.604156%5D%2C%20%5B34.055355%2C%20-118.09948%5D%2C%20%5B36.26088%2C%20-86.73819%5D%2C%20%5B39.638161%2C%20-78.947449%5D%2C%20%5B35.53335900000001%2C%20-114.354807%5D%2C%20%5B30.44471%2C%20-84.278313%5D%2C%20%5B35.882088%2C%20-84.510307%5D%2C%20%5B34.546188%2C%20-120.193305%5D%2C%20%5B45.527247%2C%20-122.565461%5D%2C%20%5B43.04169%2C%20-71.46166%5D%2C%20%5B37.865199%2C%20-121.667654%5D%2C%20%5B37.556715%2C%20-120.915576%5D%2C%20%5B40.6549%2C%20-111.90073%5D%2C%20%5B35.016158000000004%2C%20-81.97549599999998%5D%2C%20%5B42.30615%2C%20-88.02917%5D%2C%20%5B35.181792%2C%20-118.4934%5D%2C%20%5B33.899288%2C%20-84.269072%5D%2C%20%5B30.595115000000003%2C%20-87.079341%5D%2C%20%5B33.001976%2C%20-80.098191%5D%2C%20%5B34.968781%2C%20-81.96965%5D%2C%20%5B40.758446%2C%20-74.97962199999998%5D%2C%20%5B35.008224%2C%20-85.265504%5D%2C%20%5B43.12244000000001%2C%20-123.41274%5D%2C%20%5B45.230684%2C%20-93.633839%5D%2C%20%5B25.718082%2C%20-80.318502%5D%2C%20%5B39.01875%2C%20-77.10274%5D%2C%20%5B38.631317%2C%20-121.504875%5D%2C%20%5B47.730137%2C%20-122.296501%5D%2C%20%5B42.93296%2C%20-78.78761999999998%5D%2C%20%5B35.26842100000001%2C%20-80.882706%5D%2C%20%5B29.665173%2C%20-95.260182%5D%2C%20%5B29.029079%2C%20-82.02174000000002%5D%2C%20%5B29.6656%2C%20-95.512329%5D%2C%20%5B30.40682%2C%20-97.635033%5D%2C%20%5B34.1213%2C%20-118.231094%5D%2C%20%5B30.458786%2C%20-91.058258%5D%2C%20%5B40.494522%2C%20-74.412887%5D%2C%20%5B34.036921%2C%20-118.088854%5D%2C%20%5B39.928558%2C%20-104.987267%5D%2C%20%5B36.16588400000001%2C%20-86.865013%5D%2C%20%5B33.139774%2C%20-117.181976%5D%2C%20%5B32.456747%2C%20-93.707719%5D%2C%20%5B40.77174%2C%20-73.87563%5D%2C%20%5B33.928268%2C%20-118.255821%5D%2C%20%5B35.795643%2C%20-78.51531999999997%5D%2C%20%5B30.192265000000006%2C%20-85.649918%5D%2C%20%5B32.572933%2C%20-83.237213%5D%2C%20%5B35.051687%2C%20-120.526332%5D%2C%20%5B45.5233%2C%20-122.41316%5D%2C%20%5B41.429912%2C%20-112.057472%5D%2C%20%5B36.765205%2C%20-81.833855%5D%2C%20%5B36.17691%2C%20-86.774551%5D%2C%20%5B27.942963%2C%20-82.544907%5D%2C%20%5B32.26643%2C%20-95.279429%5D%2C%20%5B34.006599%2C%20-117.826782%5D%2C%20%5B34.900246%2C%20-82.035973%5D%2C%20%5B33.415955%2C%20-111.939575%5D%2C%20%5B43.177372%2C%20-83.77422299999998%5D%2C%20%5B32.72268%2C%20-111.51524%5D%2C%20%5B40.03356%2C%20-82.90299999999998%5D%2C%20%5B35.4179%2C%20-97.570953%5D%2C%20%5B34.344318%2C%20-86.610626%5D%2C%20%5B34.364688%2C%20-119.036274%5D%2C%20%5B39.32155%2C%20-84.25046%5D%2C%20%5B25.689146%2C%20-80.38287199999998%5D%2C%20%5B35.292053%2C%20-80.796669%5D%2C%20%5B41.984444%2C%20-88.078835%5D%2C%20%5B36.850525%2C%20-80.861778%5D%2C%20%5B39.775139%2C%20-105.144958%5D%2C%20%5B38.222591%2C%20-122.25325%5D%2C%20%5B30.345266%2C%20-91.031158%5D%2C%20%5B37.548836%2C%20-77.43336500000002%5D%2C%20%5B30.384674%2C%20-97.644844%5D%2C%20%5B28.261477000000006%2C%20-81.512295%5D%2C%20%5B40.160424%2C%20-79.86306400000002%5D%2C%20%5B39.249762%2C%20-94.727736%5D%2C%20%5B41.869747%2C%20-75.71614100000002%5D%2C%20%5B37.098129%2C%20-120.147072%5D%2C%20%5B43.09788%2C%20-77.60117%5D%2C%20%5B39.945305%2C%20-76.64654499999997%5D%2C%20%5B40.42934%2C%20-80.02436%5D%2C%20%5B40.237869%2C%20-82.860626%5D%2C%20%5B34.068589%2C%20-118.151171%5D%2C%20%5B34.15609%2C%20-80.896751%5D%2C%20%5B47.80484000000001%2C%20-122.14343999999998%5D%2C%20%5B29.720051%2C%20-95.484848%5D%2C%20%5B36.92845%2C%20-120.02595%5D%2C%20%5B40.615398%2C%20-74.040079%5D%2C%20%5B45.03557%2C%20-92.88343%5D%2C%20%5B37.51136%2C%20-121.937637%5D%2C%20%5B43.01162%2C%20-83.68699000000002%5D%2C%20%5B36.746212%2C%20-80.772308%5D%2C%20%5B35.738039%2C%20-118.556186%5D%2C%20%5B36.036282%2C%20-95.948898%5D%2C%20%5B33.238953%2C%20-87.576897%5D%2C%20%5B37.219124%2C%20-119.508759%5D%2C%20%5B40.113658%2C%20-75.349877%5D%2C%20%5B44.948666%2C%20-92.988831%5D%2C%20%5B37.511353%2C%20-121.93766%5D%2C%20%5B35.480743%2C%20-97.54776%5D%2C%20%5B37.916544%2C%20-121.291021%5D%2C%20%5B25.834862%2C%20-80.24334%5D%2C%20%5B33.46151%2C%20-112.07706%5D%2C%20%5B33.754063%2C%20-117.806267%5D%2C%20%5B37.698132%2C%20-121.94076499999998%5D%2C%20%5B30.219708%2C%20-97.836202%5D%2C%20%5B29.877081%2C%20-95.483276%5D%2C%20%5B43.246824%2C%20-75.147673%5D%2C%20%5B34.322979%2C%20-118.46949%5D%2C%20%5B41.53817100000001%2C%20-72.805886%5D%2C%20%5B40.698837%2C%20-74.240723%5D%2C%20%5B39.903751%2C%20-83.07534%5D%2C%20%5B33.631085%2C%20-78.960676%5D%2C%20%5B43.158589%2C%20-77.604543%5D%2C%20%5B35.380833%2C%20-119.044167%5D%2C%20%5B32.83457%2C%20-96.87498%5D%2C%20%5B34.13619%2C%20-117.57587%5D%2C%20%5B42.442745%2C%20-83.754082%5D%2C%20%5B25.964895%2C%20-80.174217%5D%2C%20%5B33.41452%2C%20-111.97833%5D%2C%20%5B35.27269000000001%2C%20-80.835526%5D%2C%20%5B36.14982%2C%20-82.42155%5D%2C%20%5B34.464657%2C%20-82.045784%5D%2C%20%5B40.25358%2C%20-76.81799000000002%5D%2C%20%5B36.772277%2C%20-119.744759%5D%2C%20%5B33.721008000000005%2C%20-84.395403%5D%2C%20%5B45.580551%2C%20-118.619636%5D%2C%20%5B47.499512%2C%20-122.274139%5D%2C%20%5B35.643756%2C%20-81.115318%5D%2C%20%5B38.587347%2C%20-121.447199%5D%2C%20%5B34.07456%2C%20-118.22136%5D%2C%20%5B32.749428%2C%20-96.824097%5D%2C%20%5B34.647919%2C%20-82.48268900000002%5D%2C%20%5B35.796535%2C%20-78.677391%5D%2C%20%5B34.148901%2C%20-117.264432%5D%2C%20%5B37.322247%2C%20-121.898155%5D%2C%20%5B33.710693%2C%20-112.254738%5D%2C%20%5B30.215662%2C%20-97.797401%5D%2C%20%5B34.05664%2C%20-84.59952%5D%2C%20%5B27.714103%2C%20-82.335265%5D%2C%20%5B39.225182%2C%20-94.500282%5D%2C%20%5B34.201462%2C%20-118.47345%5D%2C%20%5B38.342197%2C%20-122.009514%5D%2C%20%5B41.277794%2C%20-96.023941%5D%2C%20%5B34.173342%2C%20-118.544801%5D%2C%20%5B32.893597%2C%20-84.34683199999998%5D%2C%20%5B29.447025%2C%20-98.653519%5D%2C%20%5B38.824219%2C%20-76.947929%5D%2C%20%5B25.495483%2C%20-80.444908%5D%2C%20%5B40.43147800000001%2C%20-111.889402%5D%2C%20%5B30.255758%2C%20-97.720726%5D%2C%20%5B36.976982%2C%20-120.079346%5D%2C%20%5B37.057916%2C%20-122.123107%5D%2C%20%5B41.292316%2C%20-96.105499%5D%2C%20%5B34.172234%2C%20-118.389229%5D%2C%20%5B32.802822%2C%20-86.580803%5D%2C%20%5B32.657090000000004%2C%20-96.88422%5D%2C%20%5B34.13905%2C%20-118.364456%5D%2C%20%5B38.295856%2C%20-77.512863%5D%2C%20%5B28.4705%2C%20-82.26585%5D%2C%20%5B34.03027%2C%20-117.66279%5D%2C%20%5B32.75951%2C%20-97.06135%5D%2C%20%5B41.819408%2C%20-72.609383%5D%2C%20%5B47.2046%2C%20-122.25053%5D%2C%20%5B28.547174%2C%20-81.244461%5D%2C%20%5B33.821548%2C%20-84.359383%5D%2C%20%5B47.679665%2C%20-122.321083%5D%2C%20%5B45.5075%2C%20-122.72064%5D%2C%20%5B37.929169%2C%20-122.387276%5D%2C%20%5B42.363876%2C%20-87.82869000000002%5D%2C%20%5B33.792097%2C%20-117.890152%5D%2C%20%5B25.987464000000006%2C%20-80.16577%5D%2C%20%5B35.148979%2C%20-82.036728%5D%2C%20%5B37.708698%2C%20-121.723869%5D%2C%20%5B32.453540999999994%2C%20-83.682877%5D%2C%20%5B40.081177%2C%20-76.657135%5D%2C%20%5B38.248798%2C%20-122.631683%5D%2C%20%5B32.989767%2C%20-96.710363%5D%2C%20%5B42.141571%2C%20-71.173119%5D%2C%20%5B43.12183%2C%20-83.51909599999998%5D%2C%20%5B43.07576%2C%20-83.68360899999998%5D%2C%20%5B30.481381%2C%20-87.25867099999998%5D%2C%20%5B35.689342%2C%20-78.862993%5D%2C%20%5B39.524261%2C%20-119.739944%5D%2C%20%5B37.666492%2C%20-122.103455%5D%2C%20%5B33.65932%2C%20-111.93121%5D%2C%20%5B42.054539%2C%20-87.84034%5D%2C%20%5B37.026119%2C%20-80.729691%5D%2C%20%5B27.008181%2C%20-80.210033%5D%2C%20%5B26.546714%2C%20-81.83574%5D%2C%20%5B46.23971%2C%20-94.34772%5D%2C%20%5B39.06223%2C%20-94.62581%5D%2C%20%5B45.02232%2C%20-93.91023%5D%2C%20%5B39.204472%2C%20-94.492455%5D%2C%20%5B38.841465%2C%20-77.43102900000002%5D%2C%20%5B29.87494%2C%20-90.09809%5D%2C%20%5B45.36143%2C%20-122.76078%5D%2C%20%5B38.146945%2C%20-121.158696%5D%2C%20%5B30.820154%2C%20-84.523812%5D%2C%20%5B34.454041%2C%20-119.752632%5D%2C%20%5B35.496796%2C%20-97.565689%5D%2C%20%5B41.788635%2C%20-87.94706%5D%2C%20%5B33.927409999999995%2C%20-117.2886%5D%2C%20%5B37.015732%2C%20-76.386978%5D%2C%20%5B33.935919%2C%20-118.28027%5D%2C%20%5B30.555451%2C%20-91.13439%5D%2C%20%5B40.719191%2C%20-74.234482%5D%2C%20%5B38.94199%2C%20-121.097099%5D%2C%20%5B36.956173%2C%20-113.791698%5D%2C%20%5B33.957836%2C%20-118.111847%5D%2C%20%5B34.860809%2C%20-83.03434%5D%2C%20%5B40.25374%2C%20-76.82136%5D%2C%20%5B33.99648%2C%20-118.28048%5D%2C%20%5B42.5091%2C%20-89.03793%5D%2C%20%5B25.755457%2C%20-80.38501%5D%2C%20%5B30.29375%2C%20-81.77094%5D%2C%20%5B39.094742%2C%20-77.11492199999998%5D%2C%20%5B33.819378%2C%20-81.196678%5D%2C%20%5B37.973236%2C%20-122.062073%5D%2C%20%5B30.81066%2C%20-86.495152%5D%2C%20%5B35.363129%2C%20-97.56546%5D%2C%20%5B39.413913%2C%20-76.789401%5D%2C%20%5B29.80302%2C%20-95.50087%5D%2C%20%5B34.027747999999995%2C%20-118.452553%5D%2C%20%5B39.164838%2C%20-122.154042%5D%2C%20%5B34.273912%2C%20-119.13528%5D%2C%20%5B38.354671%2C%20-81.649876%5D%2C%20%5B33.837124%2C%20-117.296371%5D%2C%20%5B34.031%2C%20-117.32828%5D%2C%20%5B35.400394%2C%20-79.990157%5D%2C%20%5B34.858795%2C%20-82.2603%5D%2C%20%5B41.355486%2C%20-78.54439599999998%5D%2C%20%5B33.48494%2C%20-117.14248700000002%5D%2C%20%5B30.188116%2C%20-81.70289%5D%2C%20%5B43.21603%2C%20-77.938309%5D%2C%20%5B39.313858%2C%20-120.471759%5D%2C%20%5B34.17852%2C%20-80.292091%5D%2C%20%5B39.423224%2C%20-77.49399%5D%2C%20%5B45.00708%2C%20-93.400993%5D%2C%20%5B32.837791%2C%20-97.076118%5D%2C%20%5B28.01939%2C%20-82.74677%5D%2C%20%5B43.225096%2C%20-71.504029%5D%2C%20%5B28.59504%2C%20-81.38455%5D%2C%20%5B45.08828%2C%20-93.187488%5D%2C%20%5B35.838047%2C%20-78.869682%5D%2C%20%5B43.024357%2C%20-88.10766600000002%5D%2C%20%5B29.756308%2C%20-81.34978199999998%5D%2C%20%5B28.53912%2C%20-81.475815%5D%2C%20%5B40.692711%2C%20-74.427773%5D%2C%20%5B27.92789%2C%20-82.58686%5D%2C%20%5B34.021786%2C%20-84.32416500000002%5D%2C%20%5B41.75074%2C%20-87.9132%5D%2C%20%5B44.65882%2C%20-121.10447%5D%2C%20%5B39.350887%2C%20-77.392569%5D%2C%20%5B34.036964000000005%2C%20-118.219789%5D%2C%20%5B34.381573%2C%20-82.810989%5D%2C%20%5B32.887104%2C%20-117.227867%5D%2C%20%5B43.05556%2C%20-74.04842%5D%2C%20%5B30.468553000000004%2C%20-97.796806%5D%2C%20%5B38.190258%2C%20-85.72912600000002%5D%2C%20%5B41.198647%2C%20-73.118042%5D%2C%20%5B33.70325%2C%20-84.17498%5D%2C%20%5B33.81041%2C%20-117.967598%5D%2C%20%5B43.350555%2C%20-83.864365%5D%2C%20%5B34.18882%2C%20-80.68851%5D%2C%20%5B44.861805%2C%20-93.308884%5D%2C%20%5B35.71801%2C%20-81.75370799999997%5D%2C%20%5B39.71125%2C%20-105.02501%5D%2C%20%5B35.529724%2C%20-119.190041%5D%2C%20%5B34.08724%2C%20-117.68462%5D%2C%20%5B37.80763%2C%20-122.30404%5D%2C%20%5B40.56598%2C%20-74.688251%5D%2C%20%5B40.630459%2C%20-111.876063%5D%2C%20%5B39.374238%2C%20-76.750348%5D%2C%20%5B29.63796%2C%20-95.5829%5D%2C%20%5B35.561161%2C%20-78.486176%5D%2C%20%5B43.122372%2C%20-77.647552%5D%2C%20%5B47.546192%2C%20-122.276337%5D%2C%20%5B39.87282%2C%20-75.07866%5D%2C%20%5B39.18242%2C%20-84.26487%5D%2C%20%5B33.793864%2C%20-117.892591%5D%2C%20%5B40.997089%2C%20-91.813095%5D%2C%20%5B33.87637%2C%20-117.66016%5D%2C%20%5B33.84376%2C%20-118.20603%5D%2C%20%5B33.912859999999995%2C%20-118.14588%5D%2C%20%5B37.977637%2C%20-122.257589%5D%2C%20%5B39.740246%2C%20-104.661937%5D%2C%20%5B26.446154%2C%20-82.041733%5D%2C%20%5B34.284907000000004%2C%20-119.305633%5D%2C%20%5B43.05067800000001%2C%20-83.663063%5D%2C%20%5B42.367962%2C%20-87.879952%5D%2C%20%5B34.426527%2C%20-117.450979%5D%2C%20%5B45.37087%2C%20-122.70935%5D%2C%20%5B33.916421%2C%20-118.28603%5D%2C%20%5B41.592377%2C%20-93.751816%5D%2C%20%5B35.801325%2C%20-78.470849%5D%2C%20%5B33.39277%2C%20-111.980796%5D%2C%20%5B38.207588%2C%20-121.264046%5D%2C%20%5B28.3356%2C%20-81.59146700000002%5D%2C%20%5B40.544281%2C%20-111.898659%5D%2C%20%5B33.771286%2C%20-84.390045%5D%2C%20%5B33.84206%2C%20-118.285545%5D%2C%20%5B37.7098%2C%20-122.12421%5D%2C%20%5B30.252905%2C%20-81.515999%5D%2C%20%5B36.060898%2C%20-95.919212%5D%2C%20%5B28.47258%2C%20-81.396652%5D%2C%20%5B39.72566%2C%20-105.01531%5D%2C%20%5B37.514736%2C%20-77.460693%5D%2C%20%5B42.699726%2C%20-73.708138%5D%2C%20%5B34.06092%2C%20-118.25032%5D%2C%20%5B33.864472%2C%20-118.326524%5D%2C%20%5B35.84288%2C%20-78.573631%5D%2C%20%5B44.81944%2C%20-122.80069%5D%2C%20%5B33.884373%2C%20-117.629326%5D%2C%20%5B28.15542%2C%20-82.525414%5D%2C%20%5B41.17902%2C%20-73.18119%5D%2C%20%5B35.42225300000001%2C%20-119.03011200000002%5D%2C%20%5B40.023506%2C%20-75.230515%5D%2C%20%5B32.85372%2C%20-96.56152%5D%2C%20%5B38.85113%2C%20-77.407933%5D%2C%20%5B41.674335%2C%20-83.693764%5D%2C%20%5B30.6805%2C%20-88.042957%5D%2C%20%5B37.71144%2C%20-121.01309%5D%2C%20%5B35.733978%2C%20-81.530273%5D%2C%20%5B25.549867000000006%2C%20-80.477863%5D%2C%20%5B29.703358%2C%20-95.607524%5D%2C%20%5B33.508911%2C%20-80.84494000000002%5D%2C%20%5B35.339516%2C%20-119.039474%5D%2C%20%5B38.832438%2C%20-77.466655%5D%2C%20%5B44.21302%2C%20-93.26816%5D%2C%20%5B39.97414000000001%2C%20-82.99371%5D%2C%20%5B37.317935%2C%20-121.980482%5D%2C%20%5B35.204781%2C%20-80.73853299999998%5D%2C%20%5B25.889278%2C%20-80.209335%5D%2C%20%5B43.16452%2C%20-77.72318299999998%5D%2C%20%5B39.712147%2C%20-86.120628%5D%2C%20%5B29.206415000000003%2C%20-82.184433%5D%2C%20%5B40.781495%2C%20-74.201201%5D%2C%20%5B35.075915%2C%20-82.069923%5D%2C%20%5B32.86237%2C%20-96.859643%5D%2C%20%5B33.8237%2C%20-84.351959%5D%2C%20%5B42.272336%2C%20-84.42566500000002%5D%2C%20%5B33.93096%2C%20-118.291913%5D%2C%20%5B30.923887%2C%20-87.51339300000002%5D%2C%20%5B37.713459%2C%20-121.088242%5D%2C%20%5B25.942207%2C%20-80.351395%5D%2C%20%5B30.33403%2C%20-97.746529%5D%2C%20%5B37.824055%2C%20-122.266937%5D%2C%20%5B46.87401%2C%20-97.20619%5D%2C%20%5B44.97121%2C%20-93.37512%5D%2C%20%5B35.743125%2C%20-78.652191%5D%2C%20%5B33.493303999999995%2C%20-80.834785%5D%2C%20%5B33.13671%2C%20-117.16931%5D%2C%20%5B32.837569%2C%20-96.778047%5D%2C%20%5B44.94687%2C%20-93.0791%5D%2C%20%5B30.534106%2C%20-87.092496%5D%2C%20%5B30.45031%2C%20-91.007874%5D%2C%20%5B29.848095%2C%20-95.323799%5D%2C%20%5B40.187649%2C%20-74.691986%5D%2C%20%5B25.883375%2C%20-80.323509%5D%2C%20%5B37.932716%2C%20-122.060364%5D%2C%20%5B37.492235%2C%20-122.386063%5D%2C%20%5B35.30977100000001%2C%20-119.002989%5D%2C%20%5B34.09182%2C%20-117.991814%5D%2C%20%5B42.599005%2C%20-123.383793%5D%2C%20%5B26.078549%2C%20-80.215784%5D%2C%20%5B38.678468%2C%20-121.230351%5D%2C%20%5B27.954693%2C%20-82.537979%5D%2C%20%5B39.073875%2C%20-76.905869%5D%2C%20%5B39.204567%2C%20-76.63930699999997%5D%2C%20%5B33.900974%2C%20-98.496231%5D%2C%20%5B25.76102%2C%20-80.3784%5D%2C%20%5B35.540161%2C%20-78.287132%5D%2C%20%5B33.669582%2C%20-117.754593%5D%2C%20%5B29.620478%2C%20-95.221436%5D%2C%20%5B45.36894%2C%20-92.99531%5D%2C%20%5B42.941479%2C%20-85.677673%5D%2C%20%5B40.69057%2C%20-73.99886%5D%2C%20%5B42.357029%2C%20-88.067993%5D%2C%20%5B29.660612%2C%20-95.508476%5D%2C%20%5B37.481743%2C%20-77.495552%5D%2C%20%5B41.995358%2C%20-88.144791%5D%2C%20%5B47.66888%2C%20-122.104507%5D%2C%20%5B32.05736%2C%20-81.10122%5D%2C%20%5B33.958378%2C%20-118.11058%5D%2C%20%5B36.970099%2C%20-81.066795%5D%2C%20%5B33.60982%2C%20-112.25486%5D%2C%20%5B33.862817%2C%20-118.199257%5D%2C%20%5B44.32981%2C%20-72.74414%5D%2C%20%5B35.964001%2C%20-84.984974%5D%2C%20%5B29.850113%2C%20-95.26248%5D%2C%20%5B42.9632%2C%20-85.667908%5D%2C%20%5B33.96747%2C%20-118.232838%5D%2C%20%5B36.133209%2C%20-95.958252%5D%2C%20%5B43.37981%2C%20-84.131%5D%2C%20%5B39.764591%2C%20-86.167183%5D%2C%20%5B35.32239000000001%2C%20-80.73305%5D%2C%20%5B36.985049%2C%20-76.427273%5D%2C%20%5B41.666542%2C%20-71.499352%5D%2C%20%5B29.92798%2C%20-90.07534%5D%2C%20%5B34.02494%2C%20-118.204178%5D%2C%20%5B39.879818%2C%20-86.292198%5D%2C%20%5B37.746723%2C%20-122.393951%5D%2C%20%5B35.30505%2C%20-80.858368%5D%2C%20%5B26.975628000000004%2C%20-82.34734300000002%5D%2C%20%5B38.549797%2C%20-122.719186%5D%2C%20%5B42.358749%2C%20-83.07634%5D%2C%20%5B33.912987%2C%20-118.180145%5D%2C%20%5B35.060925%2C%20-80.956326%5D%2C%20%5B39.580528%2C%20-104.904259%5D%2C%20%5B39.976463%2C%20-75.199173%5D%2C%20%5B38.501457%2C%20-122.76313799999998%5D%2C%20%5B33.914165000000004%2C%20-118.370537%5D%2C%20%5B38.660919%2C%20-121.379967%5D%2C%20%5B43.052528%2C%20-87.971703%5D%2C%20%5B34.083554%2C%20-118.298805%5D%2C%20%5B41.680817%2C%20-72.65365600000001%5D%2C%20%5B34.230522%2C%20-79.798828%5D%2C%20%5B33.76712%2C%20-81.641312%5D%2C%20%5B39.99469000000001%2C%20-75.09456%5D%2C%20%5B32.704411%2C%20-117.147102%5D%2C%20%5B39.04204%2C%20-76.90388%5D%2C%20%5B32.878639%2C%20-96.734795%5D%2C%20%5B34.039093%2C%20-118.439758%5D%2C%20%5B32.863949%2C%20-86.621277%5D%2C%20%5B33.287357%2C%20-111.858994%5D%2C%20%5B37.44052%2C%20-120.849407%5D%2C%20%5B37.691459%2C%20-77.699747%5D%2C%20%5B34.02324%2C%20-117.81159%5D%2C%20%5B35.118732%2C%20-81.08329%5D%2C%20%5B33.228588%2C%20-87.533401%5D%2C%20%5B25.794266%2C%20-80.239756%5D%2C%20%5B37.973152%2C%20-121.247295%5D%2C%20%5B44.9649%2C%20-93.28739%5D%2C%20%5B34.043251%2C%20-117.550058%5D%2C%20%5B30.338619%2C%20-81.671091%5D%2C%20%5B33.81296%2C%20-117.91247%5D%2C%20%5B42.95162%2C%20-78.75912%5D%2C%20%5B32.806961%2C%20-96.670212%5D%2C%20%5B36.171841%2C%20-86.764717%5D%2C%20%5B35.792999%2C%20-78.62487800000002%5D%2C%20%5B34.055739%2C%20-118.452239%5D%2C%20%5B42.961731%2C%20-83.55484%5D%2C%20%5B36.07877%2C%20-87.022499%5D%2C%20%5B33.872531%2C%20-118.202324%5D%2C%20%5B33.698211%2C%20-112.152267%5D%2C%20%5B35.392776%2C%20-119.044724%5D%2C%20%5B34.806025%2C%20-118.170667%5D%2C%20%5B41.80656%2C%20-71.44098000000002%5D%2C%20%5B33.930101%2C%20-118.17063600000002%5D%2C%20%5B40.671476%2C%20-111.460219%5D%2C%20%5B40.553581%2C%20-74.318169%5D%2C%20%5B43.064892%2C%20-121.825256%5D%2C%20%5B42.487531%2C%20-83.21258399999998%5D%2C%20%5B41.131836%2C%20-73.795541%5D%2C%20%5B32.665718%2C%20-97.293716%5D%2C%20%5B37.597414%2C%20-77.492183%5D%2C%20%5B40.023653%2C%20-75.644185%5D%2C%20%5B34.412859000000005%2C%20-82.04979300000002%5D%2C%20%5B38.150757%2C%20-122.449348%5D%2C%20%5B38.244046%2C%20-121.277522%5D%2C%20%5B42.312149%2C%20-87.90460999999998%5D%2C%20%5B30.384298%2C%20-91.064819%5D%2C%20%5B38.337105%2C%20-104.749672%5D%2C%20%5B34.106544%2C%20-118.255806%5D%2C%20%5B42.970104%2C%20-85.653221%5D%2C%20%5B45.482449%2C%20-95.090523%5D%2C%20%5B38.55417%2C%20-121.689551%5D%2C%20%5B34.054878%2C%20-118.257164%5D%2C%20%5B34.066145%2C%20-117.509282%5D%2C%20%5B34.994587%2C%20-80.854469%5D%2C%20%5B33.97172%2C%20-117.54869%5D%2C%20%5B42.45735%2C%20-83.09770999999998%5D%2C%20%5B34.222538%2C%20-117.405647%5D%2C%20%5B42.750744%2C%20-83.50045899999998%5D%2C%20%5B34.581194%2C%20-118.133601%5D%2C%20%5B42.36261%2C%20-71.05504%5D%2C%20%5B35.83540700000001%2C%20-78.669601%5D%2C%20%5B43.011326%2C%20-83.517525%5D%2C%20%5B26.562878%2C%20-81.871815%5D%2C%20%5B38.611691%2C%20-90.451683%5D%2C%20%5B35.412286%2C%20-119.074446%5D%2C%20%5B34.274578000000005%2C%20-118.570014%5D%2C%20%5B42.49073%2C%20-83.28260999999998%5D%2C%20%5B29.324371000000006%2C%20-98.412689%5D%2C%20%5B33.899712%2C%20-79.807129%5D%2C%20%5B41.646431%2C%20-72.772522%5D%2C%20%5B33.07774000000001%2C%20-80.21315799999998%5D%2C%20%5B31.762833%2C%20-106.267929%5D%2C%20%5B33.429245%2C%20-86.70858%5D%2C%20%5B37.71724%2C%20-77.44792%5D%2C%20%5B33.911048%2C%20-117.448379%5D%2C%20%5B33.987404%2C%20-118.13723799999998%5D%2C%20%5B44.96467%2C%20-93.28649%5D%2C%20%5B40.182881%2C%20-75.163165%5D%2C%20%5B43.80858%2C%20-95.30178%5D%2C%20%5B37.36386%2C%20-121.89169%5D%2C%20%5B35.17208%2C%20-80.85123%5D%2C%20%5B39.090752%2C%20-104.862183%5D%2C%20%5B30.46633%2C%20-91.105469%5D%2C%20%5B39.46516%2C%20-76.36858000000002%5D%2C%20%5B33.646603000000006%2C%20-114.33593%5D%2C%20%5B37.937881%2C%20-122.325729%5D%2C%20%5B33.802636%2C%20-118.125354%5D%2C%20%5B38.978794%2C%20-94.711364%5D%2C%20%5B40.84668900000001%2C%20-73.928873%5D%2C%20%5B40.782569%2C%20-73.556862%5D%2C%20%5B35.369722%2C%20-119.0425%5D%2C%20%5B35.21392%2C%20-80.83746%5D%2C%20%5B25.686548%2C%20-80.376251%5D%2C%20%5B38.964973%2C%20-77.42836%5D%2C%20%5B25.899435%2C%20-80.34668%5D%2C%20%5B25.728491%2C%20-80.335571%5D%2C%20%5B36.168533%2C%20-86.600273%5D%2C%20%5B44.889545%2C%20-93.349922%5D%2C%20%5B39.18021%2C%20-84.64705%5D%2C%20%5B34.394146%2C%20-118.571426%5D%2C%20%5B37.001175%2C%20-122.002782%5D%2C%20%5B41.210716%2C%20-95.96273%5D%2C%20%5B37.548822%2C%20-118.639328%5D%2C%20%5B45.472037%2C%20-122.57906%5D%2C%20%5B32.782478999999995%2C%20-96.811314%5D%2C%20%5B29.844490000000004%2C%20-95.49782%5D%2C%20%5B40.74792%2C%20-73.76013%5D%2C%20%5B43.041462%2C%20-83.69388599999998%5D%2C%20%5B36.546807%2C%20-119.57505%5D%2C%20%5B40.709049%2C%20-73.84133100000003%5D%2C%20%5B39.737587%2C%20-75.00254100000002%5D%2C%20%5B35.91247%2C%20-78.78206999999998%5D%2C%20%5B35.735218%2C%20-78.58852399999998%5D%2C%20%5B38.63587%2C%20-77.67429%5D%2C%20%5B40.61681%2C%20-122.36488%5D%2C%20%5B42.4096%2C%20-122.95189%5D%2C%20%5B34.2728%2C%20-79.69644%5D%2C%20%5B37.317426%2C%20-121.935356%5D%2C%20%5B28.534294%2C%20-80.80751%5D%2C%20%5B34.818258%2C%20-118.99571%5D%2C%20%5B39.757201%2C%20-105.010238%5D%2C%20%5B45.53202%2C%20-122.56638999999998%5D%2C%20%5B29.862867%2C%20-95.334305%5D%2C%20%5B43.02795%2C%20-88.021341%5D%2C%20%5B33.813461%2C%20-79.01725%5D%2C%20%5B44.20957%2C%20-121.4147%5D%2C%20%5B38.6586%2C%20-77.44084000000002%5D%2C%20%5B32.031307%2C%20-81.267471%5D%2C%20%5B35.189522%2C%20-80.853134%5D%2C%20%5B47.849758%2C%20-122.257248%5D%2C%20%5B37.71469%2C%20-122.13111%5D%2C%20%5B26.029239%2C%20-80.165616%5D%2C%20%5B28.582256%2C%20-81.375038%5D%2C%20%5B40.42006%2C%20-105.22263%5D%2C%20%5B41.871591%2C%20-73.363878%5D%2C%20%5B35.760647%2C%20-78.82653%5D%2C%20%5B41.263058%2C%20-96.119537%5D%2C%20%5B33.49575%2C%20-112.130989%5D%2C%20%5B42.00843%2C%20-88.20385%5D%2C%20%5B39.08253%2C%20-77.17198%5D%2C%20%5B35.208599%2C%20-80.86369300000001%5D%2C%20%5B33.57592%2C%20-112.25816%5D%2C%20%5B30.249331%2C%20-97.75518%5D%2C%20%5B40.883%2C%20-74.12823%5D%2C%20%5B41.001201%2C%20-73.652397%5D%2C%20%5B35.7612%2C%20-119.344421%5D%2C%20%5B42.654678%2C%20-73.745628%5D%2C%20%5B33.55851%2C%20-80.824112%5D%2C%20%5B30.476958000000003%2C%20-91.167279%5D%2C%20%5B42.30595%2C%20-87.95966%5D%2C%20%5B35.391533%2C%20-97.523468%5D%2C%20%5B37.448731%2C%20-120.797104%5D%2C%20%5B37.220467%2C%20-77.390989%5D%2C%20%5B34.029724%2C%20-118.403061%5D%2C%20%5B30.632039%2C%20-81.602051%5D%2C%20%5B33.85558%2C%20-118.28234%5D%2C%20%5B32.806328%2C%20-117.151352%5D%2C%20%5B30.369770000000006%2C%20-97.717003%5D%2C%20%5B39.90255%2C%20-75.15086%5D%2C%20%5B40.375276%2C%20-123.353241%5D%2C%20%5B34.062588%2C%20-118.248718%5D%2C%20%5B35.888749%2C%20-78.55171999999997%5D%2C%20%5B39.93114%2C%20-83.14463%5D%2C%20%5B40.54431%2C%20-111.894166%5D%2C%20%5B36.104256%2C%20-96.009087%5D%2C%20%5B34.099434%2C%20-117.872581%5D%2C%20%5B43.046993%2C%20-87.911873%5D%2C%20%5B33.889942%2C%20-84.462845%5D%2C%20%5B30.39299%2C%20-81.56066%5D%2C%20%5B41.722759%2C%20-87.624207%5D%2C%20%5B34.016994%2C%20-118.141115%5D%2C%20%5B39.639382%2C%20-77.00631%5D%2C%20%5B39.87475900000001%2C%20-75.096627%5D%2C%20%5B41.409733%2C%20-73.455368%5D%2C%20%5B32.13375%2C%20-111.00301%5D%2C%20%5B29.424948%2C%20-98.420784%5D%2C%20%5B37.89692700000001%2C%20-122.101845%5D%2C%20%5B28.53918%2C%20-81.47573%5D%2C%20%5B31.269440000000003%2C%20-83.472153%5D%2C%20%5B29.866804%2C%20-81.32309000000002%5D%2C%20%5B39.32349%2C%20-77.356678%5D%2C%20%5B42.294624%2C%20-71.479576%5D%2C%20%5B45.65075%2C%20-123.14392%5D%2C%20%5B25.581185%2C%20-80.367202%5D%2C%20%5B37.650943%2C%20-121.603618%5D%2C%20%5B29.743413%2C%20-95.328744%5D%2C%20%5B33.732693%2C%20-84.737381%5D%2C%20%5B38.605522%2C%20-122.595421%5D%2C%20%5B42.647076%2C%20-73.749245%5D%2C%20%5B41.91833%2C%20-88.03775%5D%2C%20%5B34.829239%2C%20-82.30319200000002%5D%2C%20%5B28.559799%2C%20-81.38020300000002%5D%2C%20%5B42.504543%2C%20-83.114975%5D%2C%20%5B40.737438%2C%20-74.07643900000002%5D%2C%20%5B45.103863%2C%20-93.459373%5D%2C%20%5B33.125640999999995%2C%20-87.483475%5D%2C%20%5B35.041777%2C%20-80.846526%5D%2C%20%5B33.408809999999995%2C%20-111.805321%5D%2C%20%5B34.065697%2C%20-117.543663%5D%2C%20%5B34.068442%2C%20-117.800527%5D%2C%20%5B40.766258%2C%20-73.33113900000002%5D%2C%20%5B45.150799%2C%20-122.881134%5D%2C%20%5B44.88383%2C%20-93.29583%5D%2C%20%5B37.635036%2C%20-77.573929%5D%2C%20%5B40.67514%2C%20-73.802116%5D%2C%20%5B34.148941%2C%20-118.697578%5D%2C%20%5B33.638636%2C%20-112.394002%5D%2C%20%5B36.08744%2C%20-86.692177%5D%2C%20%5B34.087757%2C%20-84.26949300000003%5D%2C%20%5B42.42438%2C%20-71.25769%5D%2C%20%5B38.000648%2C%20-122.03772%5D%2C%20%5B42.30064%2C%20-71.04916%5D%2C%20%5B45.50365%2C%20-122.67455%5D%2C%20%5B42.96235%2C%20-88.02011%5D%2C%20%5B27.843781%2C%20-82.819908%5D%2C%20%5B26.13051%2C%20-80.16949%5D%2C%20%5B25.684389000000003%2C%20-80.33545699999998%5D%2C%20%5B33.825720000000004%2C%20-118.203668%5D%2C%20%5B39.004993%2C%20-94.55497%5D%2C%20%5B26.617167%2C%20-80.17390400000002%5D%2C%20%5B38.939716%2C%20-94.566216%5D%2C%20%5B34.169132%2C%20-118.098287%5D%2C%20%5B30.417977%2C%20-81.565836%5D%2C%20%5B33.3026%2C%20-111.97151%5D%2C%20%5B29.627747%2C%20-95.446159%5D%2C%20%5B29.728695%2C%20-95.460167%5D%2C%20%5B35.181789%2C%20-80.916588%5D%2C%20%5B32.443756%2C%20-93.769485%5D%2C%20%5B33.681383000000004%2C%20-117.853618%5D%2C%20%5B34.200361%2C%20-118.958847%5D%2C%20%5B37.72476%2C%20-121.325741%5D%2C%20%5B39.547741%2C%20-105.036453%5D%2C%20%5B32.71346%2C%20-117.13166%5D%2C%20%5B42.515549%2C%20-73.78935200000002%5D%2C%20%5B40.755608%2C%20-73.47492199999998%5D%2C%20%5B34.13593%2C%20-117.401762%5D%2C%20%5B39.698263%2C%20-86.106711%5D%2C%20%5B36.215305%2C%20-86.588791%5D%2C%20%5B37.980766%2C%20-120.321335%5D%2C%20%5B34.630057%2C%20-82.781696%5D%2C%20%5B35.341032%2C%20-82.44%5D%2C%20%5B34.41642%2C%20-119.707207%5D%2C%20%5B42.433814%2C%20-122.633624%5D%2C%20%5B32.864101%2C%20-96.66571%5D%2C%20%5B34.135368%2C%20-118.00074%5D%2C%20%5B35.465637%2C%20-97.724731%5D%2C%20%5B37.912775%2C%20-122.06692%5D%2C%20%5B34.037581%2C%20-118.086252%5D%2C%20%5B40.870949%2C%20-73.428497%5D%2C%20%5B35.75445900000001%2C%20-78.612465%5D%2C%20%5B37.069686%2C%20-121.616644%5D%2C%20%5B40.785217%2C%20-73.444489%5D%2C%20%5B32.241829%2C%20-80.981125%5D%2C%20%5B38.968956%2C%20-77.62288000000002%5D%2C%20%5B43.510692%2C%20-123.507378%5D%2C%20%5B32.785340000000005%2C%20-117.11449%5D%2C%20%5B38.790543%2C%20-77.176376%5D%2C%20%5B34.916515000000004%2C%20-82.09642%5D%2C%20%5B33.885555%2C%20-117.549698%5D%2C%20%5B43.204616%2C%20-124.30707%5D%2C%20%5B43.045719%2C%20-88.199736%5D%2C%20%5B33.912704%2C%20-118.180191%5D%2C%20%5B36.15816%2C%20-86.62557%5D%2C%20%5B34.048087%2C%20-118.221623%5D%2C%20%5B25.761405%2C%20-80.36845500000003%5D%2C%20%5B32.383038%2C%20-86.246178%5D%2C%20%5B35.803669%2C%20-78.693855%5D%2C%20%5B33.67031%2C%20-117.76567%5D%2C%20%5B38.660848%2C%20-121.350513%5D%2C%20%5B30.407455%2C%20-97.714233%5D%2C%20%5B34.111179%2C%20-80.896072%5D%2C%20%5B29.730158000000007%2C%20-95.4842%5D%2C%20%5B40.69478%2C%20-73.8121%5D%2C%20%5B32.925831%2C%20-96.820572%5D%2C%20%5B40.698093%2C%20-74.366486%5D%2C%20%5B30.383913%2C%20-91.03688%5D%2C%20%5B43.252941%2C%20-77.677687%5D%2C%20%5B26.841722%2C%20-80.130981%5D%2C%20%5B39.71119%2C%20-105.01447%5D%2C%20%5B33.13918%2C%20-117.18029%5D%2C%20%5B37.690368%2C%20-122.123883%5D%2C%20%5B41.857823%2C%20-71.444864%5D%2C%20%5B34.054889%2C%20-118.212024%5D%2C%20%5B34.03615%2C%20-118.32081%5D%2C%20%5B37.619972%2C%20-122.075974%5D%2C%20%5B33.949379%2C%20-82.372297%5D%2C%20%5B30.139606%2C%20-97.795822%5D%2C%20%5B32.909447%2C%20-96.84685%5D%2C%20%5B35.056269%2C%20-80.856726%5D%2C%20%5B37.111919%2C%20-121.015656%5D%2C%20%5B42.303394%2C%20-88.075989%5D%2C%20%5B33.884205%2C%20-117.642059%5D%2C%20%5B25.852249%2C%20-80.208138%5D%2C%20%5B29.773351%2C%20-95.45624%5D%2C%20%5B43.15749%2C%20-77.538986%5D%2C%20%5B29.991871000000003%2C%20-90.05880400000002%5D%2C%20%5B41.906612%2C%20-87.923645%5D%2C%20%5B33.786369%2C%20-117.879784%5D%2C%20%5B38.231289%2C%20-122.584328%5D%2C%20%5B30.482689%2C%20-84.309471%5D%2C%20%5B40.081367%2C%20-75.298889%5D%2C%20%5B33.903561%2C%20-118.185379%5D%2C%20%5B36.14355%2C%20-86.7021%5D%2C%20%5B39.978663%2C%20-76.681656%5D%2C%20%5B42.75789%2C%20-73.75756%5D%2C%20%5B33.875896000000004%2C%20-118.16858700000002%5D%2C%20%5B26.725409000000006%2C%20-81.906639%5D%2C%20%5B39.972177%2C%20-76.693764%5D%2C%20%5B34.29277800000001%2C%20-119.305833%5D%2C%20%5B39.085233%2C%20-84.52292%5D%2C%20%5B39.88473%2C%20-104.98744%5D%2C%20%5B45.294786%2C%20-93.553267%5D%2C%20%5B28.049090000000003%2C%20-82.709214%5D%2C%20%5B29.81278%2C%20-95.563606%5D%2C%20%5B33.46263%2C%20-112.19715%5D%2C%20%5B33.654736%2C%20-117.864418%5D%2C%20%5B37.55947000000001%2C%20-122.30193%5D%2C%20%5B44.173461%2C%20-122.15946%5D%2C%20%5B41.90236%2C%20-88.10025%5D%2C%20%5B40.719131%2C%20-73.78846%5D%2C%20%5B38.50563%2C%20-121.45596%5D%2C%20%5B34.034602%2C%20-118.43727%5D%2C%20%5B33.412327000000005%2C%20-86.758781%5D%2C%20%5B40.084648%2C%20-75.16902900000002%5D%2C%20%5B38.212617%2C%20-122.25658%5D%2C%20%5B44.969879%2C%20-93.308052%5D%2C%20%5B27.474606%2C%20-82.30680799999998%5D%2C%20%5B33.77758%2C%20-84.39076%5D%2C%20%5B40.002754%2C%20-83.123077%5D%2C%20%5B39.674918%2C%20-76.92976999999998%5D%2C%20%5B38.739455%2C%20-90.365853%5D%2C%20%5B30.348848%2C%20-97.555931%5D%2C%20%5B33.52018%2C%20-86.813339%5D%2C%20%5B34.054108%2C%20-118.237839%5D%2C%20%5B39.35939000000001%2C%20-78.04892%5D%2C%20%5B47.59055%2C%20-122.30434%5D%2C%20%5B42.56988%2C%20-121.88243%5D%2C%20%5B42.485809%2C%20-83.263184%5D%2C%20%5B33.165123%2C%20-87.550026%5D%2C%20%5B43.59001%2C%20-119.9817%5D%2C%20%5B46.98659%2C%20-93.606958%5D%2C%20%5B41.16167100000001%2C%20-96.126991%5D%2C%20%5B29.769140000000004%2C%20-95.33667%5D%2C%20%5B33.461021%2C%20-86.945847%5D%2C%20%5B35.4425%2C%20-119.08611100000002%5D%2C%20%5B38.79213%2C%20-90.452377%5D%2C%20%5B42.29996%2C%20-85.0775%5D%2C%20%5B34.155258%2C%20-118.2939%5D%2C%20%5B42.869709%2C%20-71.341415%5D%2C%20%5B43.177448%2C%20-83.748009%5D%2C%20%5B40.478432%2C%20-74.40469399999998%5D%2C%20%5B39.31563%2C%20-76.74483000000002%5D%2C%20%5B34.068614000000004%2C%20-117.375816%5D%2C%20%5B41.474072%2C%20-73.649231%5D%2C%20%5B27.894429%2C%20-82.76249399999998%5D%2C%20%5B42.40795900000001%2C%20-83.081314%5D%2C%20%5B40.099602%2C%20-75.30242199999998%5D%2C%20%5B40.73681%2C%20-111.90444%5D%2C%20%5B34.766487%2C%20-82.277321%5D%2C%20%5B34.291714%2C%20-82.23005699999999%5D%2C%20%5B30.502090000000006%2C%20-97.683327%5D%2C%20%5B33.37927%2C%20-111.72241%5D%2C%20%5B33.129448%2C%20-117.115045%5D%2C%20%5B45.210716%2C%20-93.584146%5D%2C%20%5B45.066181%2C%20-93.236771%5D%2C%20%5B42.358749%2C%20-83.07634%5D%2C%20%5B41.276015%2C%20-111.969282%5D%2C%20%5B25.864475%2C%20-80.208504%5D%2C%20%5B25.727695%2C%20-80.318437%5D%2C%20%5B27.89465%2C%20-82.787025%5D%2C%20%5B34.92693%2C%20-82.47695999999998%5D%2C%20%5B42.294426%2C%20-71.088074%5D%2C%20%5B38.25468400000001%2C%20-85.720039%5D%2C%20%5B38.315006%2C%20-85.581932%5D%2C%20%5B38.32696%2C%20-77.50178000000002%5D%2C%20%5B32.811176%2C%20-96.833412%5D%2C%20%5B25.657368%2C%20-80.41592%5D%2C%20%5B40.593248%2C%20-111.902629%5D%2C%20%5B40.771011%2C%20-73.566673%5D%2C%20%5B45.50689000000001%2C%20-122.71238999999998%5D%2C%20%5B39.06266%2C%20-76.64008000000003%5D%2C%20%5B32.696468%2C%20-96.767738%5D%2C%20%5B33.71191%2C%20-84.22014%5D%2C%20%5B39.615902%2C%20-84.24587199999998%5D%2C%20%5B38.687726%2C%20-121.343884%5D%2C%20%5B40.73431400000001%2C%20-73.922318%5D%2C%20%5B34.095536%2C%20-118.244025%5D%2C%20%5B34.838257%2C%20-81.970703%5D%2C%20%5B33.494961%2C%20-112.151711%5D%2C%20%5B38.868137%2C%20-77.31223299999998%5D%2C%20%5B34.425117%2C%20-118.423637%5D%2C%20%5B32.924481%2C%20-96.775679%5D%2C%20%5B42.429573%2C%20-122.598709%5D%2C%20%5B38.01738%2C%20-84.40789000000002%5D%2C%20%5B29.591944%2C%20-98.351402%5D%2C%20%5B33.766396%2C%20-84.52681700000002%5D%2C%20%5B41.89739%2C%20-87.65938%5D%2C%20%5B40.121899%2C%20-75.288635%5D%2C%20%5B35.605022%2C%20-97.567154%5D%2C%20%5B35.730034%2C%20-78.556152%5D%2C%20%5B33.975772%2C%20-117.476109%5D%2C%20%5B32.50014%2C%20-93.75186%5D%2C%20%5B35.406613%2C%20-119.048732%5D%2C%20%5B34.03705%2C%20-118.30892%5D%2C%20%5B39.159794%2C%20-94.64503%5D%2C%20%5B37.688055%2C%20-122.139145%5D%2C%20%5B44.889493%2C%20-93.386988%5D%2C%20%5B25.926041%2C%20-80.210355%5D%2C%20%5B35.310671%2C%20-118.914321%5D%2C%20%5B40.081951%2C%20-75.394203%5D%2C%20%5B33.605564%2C%20-112.299629%5D%2C%20%5B34.1611%2C%20-118.2254%5D%2C%20%5B26.546107%2C%20-81.886758%5D%2C%20%5B33.876536%2C%20-118.082241%5D%2C%20%5B38.243259%2C%20-85.621872%5D%2C%20%5B34.073654%2C%20-80.996629%5D%2C%20%5B42.380428%2C%20-83.236649%5D%2C%20%5B37.346958%2C%20-121.858887%5D%2C%20%5B39.816563%2C%20-75.067635%5D%2C%20%5B39.824181%2C%20-83.999901%5D%2C%20%5B37.3708%2C%20-121.91313999999998%5D%2C%20%5B30.36521%2C%20-90.09386%5D%2C%20%5B36.714149%2C%20-119.763702%5D%2C%20%5B38.78426%2C%20-76.66391%5D%2C%20%5B35.96319000000001%2C%20-83.93939%5D%2C%20%5B41.22374%2C%20-96.02836%5D%2C%20%5B36.14238%2C%20-86.771622%5D%2C%20%5B26.70676%2C%20-80.11117%5D%2C%20%5B38.188774%2C%20-85.783417%5D%2C%20%5B30.010061%2C%20-90.238922%5D%2C%20%5B34.061768%2C%20-118.287019%5D%2C%20%5B28.464744%2C%20-81.309958%5D%2C%20%5B43.060364%2C%20-83.793648%5D%2C%20%5B33.159%2C%20-117.340248%5D%2C%20%5B40.747089%2C%20-73.835098%5D%2C%20%5B40.428989%2C%20-79.931618%5D%2C%20%5B32.864021%2C%20-96.66114%5D%2C%20%5B40.803413%2C%20-73.915939%5D%2C%20%5B28.449932%2C%20-81.470863%5D%2C%20%5B33.77333400000001%2C%20-118.039027%5D%2C%20%5B41.890661%2C%20-91.67108%5D%2C%20%5B33.748062%2C%20-84.38768%5D%2C%20%5B40.715733%2C%20-73.826256%5D%2C%20%5B30.196472%2C%20-81.739235%5D%2C%20%5B33.853611%2C%20-84.359573%5D%2C%20%5B36.153553%2C%20-86.788483%5D%2C%20%5B39.38961%2C%20-76.53375%5D%2C%20%5B33.884196%2C%20-117.629596%5D%2C%20%5B40.684912%2C%20-73.642677%5D%2C%20%5B39.66075%2C%20-104.83926%5D%2C%20%5B35.117249%2C%20-80.95755799999998%5D%2C%20%5B37.935097%2C%20-122.444517%5D%2C%20%5B44.690456%2C%20-122.024994%5D%2C%20%5B44.64276%2C%20-123.06276%5D%2C%20%5B42.438719%2C%20-83.43177%5D%2C%20%5B39.68085%2C%20-75.49595%5D%2C%20%5B48.017106%2C%20-122.830969%5D%2C%20%5B34.762214%2C%20-118.797484%5D%2C%20%5B40.429253%2C%20-76.568954%5D%2C%20%5B38.815017%2C%20-104.82455%5D%2C%20%5B26.62223%2C%20-80.06739%5D%2C%20%5B42.52024%2C%20-83.7548%5D%2C%20%5B33.698051%2C%20-117.330826%5D%2C%20%5B33.541916%2C%20-81.816414%5D%2C%20%5B29.746025%2C%20-95.485489%5D%2C%20%5B34.055503%2C%20-118.255044%5D%2C%20%5B42.53722%2C%20-122.81227%5D%2C%20%5B35.60019699999999%2C%20-97.429192%5D%2C%20%5B29.243347%2C%20-81.463013%5D%2C%20%5B37.427165%2C%20-113.235416%5D%2C%20%5B41.86597%2C%20-87.64442%5D%2C%20%5B33.790298%2C%20-118.28196%5D%2C%20%5B41.76477%2C%20-87.67596999999998%5D%2C%20%5B28.186235%2C%20-82.38707%5D%2C%20%5B35.49329%2C%20-97.578773%5D%2C%20%5B44.726421%2C%20-122.13553600000002%5D%2C%20%5B42.815528%2C%20-83.569621%5D%2C%20%5B45.23771%2C%20-123.06348%5D%2C%20%5B37.695438%2C%20-122.105179%5D%2C%20%5B37.680571%2C%20-79.49439100000002%5D%2C%20%5B25.8798%2C%20-80.35606%5D%2C%20%5B36.126387%2C%20-86.710594%5D%2C%20%5B37.742008%2C%20-121.570717%5D%2C%20%5B32.786541%2C%20-96.805244%5D%2C%20%5B33.821445000000004%2C%20-118.206841%5D%2C%20%5B30.392645%2C%20-81.667946%5D%2C%20%5B40.651257%2C%20-122.939332%5D%2C%20%5B39.523003%2C%20-104.867393%5D%2C%20%5B30.277988%2C%20-97.677193%5D%2C%20%5B31.75252%2C%20-106.487358%5D%2C%20%5B32.801792%2C%20-96.827225%5D%2C%20%5B44.861755%2C%20-93.298523%5D%2C%20%5B42.364917%2C%20-87.865445%5D%2C%20%5B26.65509%2C%20-80.06935899999998%5D%2C%20%5B41.139881%2C%20-112.064453%5D%2C%20%5B42.357547%2C%20-122.865254%5D%2C%20%5B33.997653%2C%20-117.367962%5D%2C%20%5B34.06459%2C%20-117.809982%5D%2C%20%5B34.168785%2C%20-118.46817%5D%2C%20%5B38.375728%2C%20-121.476711%5D%2C%20%5B34.030312%2C%20-117.645324%5D%2C%20%5B33.319511%2C%20-117.249207%5D%2C%20%5B34.15298%2C%20-118.36866%5D%2C%20%5B29.125924%2C%20-82.159594%5D%2C%20%5B38.1811%2C%20-85.72093000000002%5D%2C%20%5B34.48684%2C%20-118.61692%5D%2C%20%5B42.431622%2C%20-71.10279799999998%5D%2C%20%5B35.18074%2C%20-80.889297%5D%2C%20%5B38.055149%2C%20-121.25946100000002%5D%2C%20%5B35.282639%2C%20-80.723961%5D%2C%20%5B29.143918%2C%20-81.119196%5D%2C%20%5B38.902386%2C%20-76.943985%5D%2C%20%5B37.32598%2C%20-122.05087%5D%2C%20%5B35.836769%2C%20-78.601837%5D%2C%20%5B38.459519%2C%20-121.841307%5D%2C%20%5B34.035381%2C%20-118.328119%5D%2C%20%5B28.507427000000003%2C%20-82.19498399999998%5D%2C%20%5B48.210346%2C%20-122.215981%5D%2C%20%5B39.81201%2C%20-75.45425%5D%2C%20%5B45.282978%2C%20-123.006547%5D%2C%20%5B40.754841%2C%20-74.117928%5D%2C%20%5B42.31732%2C%20-83.44283%5D%2C%20%5B33.728188%2C%20-117.834127%5D%2C%20%5B35.60041%2C%20-97.62072%5D%2C%20%5B43.677559%2C%20-94.108101%5D%2C%20%5B36.136986%2C%20-86.821381%5D%2C%20%5B42.140848%2C%20-84.24821999999998%5D%2C%20%5B33.966572%2C%20-118.247681%5D%2C%20%5B40.886761%2C%20-73.815079%5D%2C%20%5B39.708778%2C%20-84.201088%5D%2C%20%5B29.724787%2C%20-95.350517%5D%2C%20%5B34.165882%2C%20-118.469574%5D%2C%20%5B36.57198%2C%20-121.891197%5D%2C%20%5B29.681622%2C%20-95.508705%5D%2C%20%5B29.950796%2C%20-96.039032%5D%2C%20%5B34.073815%2C%20-118.21926299999998%5D%2C%20%5B28.595701%2C%20-81.382713%5D%2C%20%5B33.42452%2C%20-84.17775999999998%5D%2C%20%5B34.147693%2C%20-118.077577%5D%2C%20%5B28.400698%2C%20-81.391257%5D%2C%20%5B40.40627%2C%20-82.86565999999998%5D%2C%20%5B29.93847%2C%20-95.38097%5D%2C%20%5B30.402435%2C%20-88.719551%5D%2C%20%5B34.871151%2C%20-117.071068%5D%2C%20%5B40.037666%2C%20-85.72200000000002%5D%2C%20%5B41.025585%2C%20-73.731339%5D%2C%20%5B41.10463%2C%20-81.49996999999998%5D%2C%20%5B30.31826%2C%20-97.731194%5D%2C%20%5B32.697628%2C%20-117.09494%5D%2C%20%5B38.140622%2C%20-121.259322%5D%2C%20%5B38.67844%2C%20-121.225594%5D%2C%20%5B40.805962%2C%20-73.90896%5D%2C%20%5B38.73211%2C%20-77.40391%5D%2C%20%5B34.052165%2C%20-117.719887%5D%2C%20%5B33.881147%2C%20-117.597903%5D%2C%20%5B42.461308%2C%20-83.106026%5D%2C%20%5B35.834667%2C%20-78.638649%5D%2C%20%5B41.236214%2C%20-75.848846%5D%2C%20%5B33.386672999999995%2C%20-111.894348%5D%2C%20%5B35.264885%2C%20-120.673767%5D%2C%20%5B27.232841%2C%20-82.497035%5D%2C%20%5B34.031620000000004%2C%20-118.41359%5D%2C%20%5B40.17001%2C%20-120.36964%5D%2C%20%5B34.863602%2C%20-82.96566800000002%5D%2C%20%5B26.033428%2C%20-80.16449%5D%2C%20%5B29.828648%2C%20-95.381058%5D%2C%20%5B34.40627%2C%20-117.396479%5D%2C%20%5B35.036827%2C%20-85.26108599999998%5D%2C%20%5B43.044296%2C%20-76.147522%5D%2C%20%5B34.193946999999994%2C%20-118.409431%5D%2C%20%5B37.690868%2C%20-122.470581%5D%2C%20%5B34.067633%2C%20-117.981703%5D%2C%20%5B33.337447999999995%2C%20-84.78399999999998%5D%2C%20%5B29.997187%2C%20-95.700189%5D%2C%20%5B41.759346%2C%20-88.031311%5D%2C%20%5B41.87065%2C%20-87.76884%5D%2C%20%5B31.85181%2C%20-106.44014%5D%2C%20%5B32.505036%2C%20-93.746477%5D%2C%20%5B41.70288%2C%20-93.57436%5D%2C%20%5B29.863483%2C%20-95.446426%5D%2C%20%5B45.098749%2C%20-93.188137%5D%2C%20%5B27.945595%2C%20-82.537514%5D%2C%20%5B34.136405%2C%20-117.552666%5D%2C%20%5B43.038059%2C%20-71.309578%5D%2C%20%5B32.271465%2C%20-96.512764%5D%2C%20%5B27.162071%2C%20-80.55477900000002%5D%2C%20%5B32.443337%2C%20-93.714596%5D%2C%20%5B38.552429%2C%20-76.009232%5D%2C%20%5B35.163129999999995%2C%20-80.89571%5D%2C%20%5B42.633236%2C%20-73.701202%5D%2C%20%5B33.846001%2C%20-118.092361%5D%2C%20%5B34.872710999999995%2C%20-82.329262%5D%2C%20%5B41.69985%2C%20-88.03007%5D%2C%20%5B30.398390000000006%2C%20-97.746498%5D%2C%20%5B37.824251%2C%20-122.315308%5D%2C%20%5B42.171922%2C%20-121.621619%5D%2C%20%5B25.913371%2C%20-80.333001%5D%2C%20%5B45.53346%2C%20-122.57893%5D%2C%20%5B34.858925%2C%20-82.259857%5D%2C%20%5B44.75371%2C%20-123.22404%5D%2C%20%5B34.02407%2C%20-117.33546%5D%2C%20%5B35.075024%2C%20-89.861343%5D%2C%20%5B36.108669%2C%20-86.812172%5D%2C%20%5B33.990288%2C%20-117.359077%5D%2C%20%5B29.699690000000004%2C%20-95.28239%5D%2C%20%5B33.911724%2C%20-117.447418%5D%2C%20%5B29.781401%2C%20-95.251442%5D%2C%20%5B43.665074%2C%20-123.368433%5D%2C%20%5B35.20607000000001%2C%20-80.922173%5D%2C%20%5B33.472584000000005%2C%20-81.99015%5D%2C%20%5B37.286992%2C%20-121.869108%5D%2C%20%5B34.1006%2C%20-118.478%5D%2C%20%5B36.14465%2C%20-86.744049%5D%2C%20%5B42.86692%2C%20-87.9373%5D%2C%20%5B38.56057%2C%20-121.45827%5D%2C%20%5B47.20382%2C%20-122.46162%5D%2C%20%5B42.902741%2C%20-89.350187%5D%2C%20%5B41.77196%2C%20-72.59792%5D%2C%20%5B44.071429%2C%20-121.302369%5D%2C%20%5B30.424614%2C%20-91.156006%5D%2C%20%5B40.110966%2C%20-75.0765%5D%2C%20%5B38.50514%2C%20-90.5828%5D%2C%20%5B25.869146%2C%20-80.208439%5D%2C%20%5B26.62096%2C%20-81.75695%5D%2C%20%5B37.569649%2C%20-77.416931%5D%2C%20%5B41.380702%2C%20-71.899799%5D%2C%20%5B33.581593%2C%20-84.417084%5D%2C%20%5B43.205551%2C%20-77.513184%5D%2C%20%5B42.41229000000001%2C%20-83.0708%5D%2C%20%5B39.29259%2C%20-76.53220999999998%5D%2C%20%5B34.185601%2C%20-118.473805%5D%2C%20%5B37.988021%2C%20-120.283327%5D%2C%20%5B42.66959%2C%20-83.033836%5D%2C%20%5B32.970318%2C%20-93.994698%5D%2C%20%5B35.072548%2C%20-90.026573%5D%2C%20%5B30.472429%2C%20-91.058052%5D%2C%20%5B33.68574%2C%20-117.86347%5D%2C%20%5B38.671906%2C%20-90.615593%5D%2C%20%5B42.667377%2C%20-73.73484%5D%2C%20%5B38.388763%2C%20-122.889244%5D%2C%20%5B42.940932%2C%20-83.723512%5D%2C%20%5B35.164951%2C%20-80.75428000000002%5D%2C%20%5B26.404625%2C%20-80.08980799999998%5D%2C%20%5B33.21913%2C%20-111.92028%5D%2C%20%5B29.76857%2C%20-95.35534%5D%2C%20%5B34.06617%2C%20-117.489075%5D%2C%20%5B33.418781%2C%20-82.078781%5D%2C%20%5B32.237239%2C%20-110.93528%5D%2C%20%5B40.626891%2C%20-111.85478%5D%2C%20%5B32.923897%2C%20-96.764816%5D%2C%20%5B40.001801%2C%20-86.420384%5D%2C%20%5B41.76982%2C%20-72.68236999999998%5D%2C%20%5B30.303352%2C%20-97.714386%5D%2C%20%5B28.01061%2C%20-82.43472%5D%2C%20%5B42.78703%2C%20-74.01394%5D%2C%20%5B36.046379%2C%20-95.886192%5D%2C%20%5B33.731506%2C%20-117.812189%5D%2C%20%5B32.309052%2C%20-80.975662%5D%2C%20%5B40.68129%2C%20-74.00282%5D%2C%20%5B38.676231%2C%20-77.23661%5D%2C%20%5B40.081326%2C%20-75.118652%5D%2C%20%5B34.120953%2C%20-117.890091%5D%2C%20%5B25.898947%2C%20-80.346977%5D%2C%20%5B37.079882%2C%20-80.68269699999998%5D%2C%20%5B34.028981%2C%20-118.01313%5D%2C%20%5B38.481607%2C%20-121.408674%5D%2C%20%5B34.110347999999995%2C%20-118.334511%5D%2C%20%5B33.952785%2C%20-118.170522%5D%2C%20%5B38.348541%2C%20-119.361922%5D%2C%20%5B40.135363%2C%20-74.988566%5D%2C%20%5B34.146685999999995%2C%20-118.226396%5D%2C%20%5B30.357372%2C%20-97.686319%5D%2C%20%5B35.17616%2C%20-80.75657%5D%2C%20%5B33.882335999999995%2C%20-117.58803600000002%5D%2C%20%5B32.37915%2C%20-111.109489%5D%2C%20%5B33.866571%2C%20-83.868758%5D%2C%20%5B33.852024%2C%20-84.369621%5D%2C%20%5B37.495384%2C%20-121.923294%5D%2C%20%5B39.956187%2C%20-76.735298%5D%2C%20%5B33.68662%2C%20-117.766%5D%2C%20%5B33.526218%2C%20-80.42939799999998%5D%2C%20%5B39.79839000000001%2C%20-104.86597%5D%2C%20%5B39.25101%2C%20-76.81353%5D%2C%20%5B36.571472%2C%20-121.808361%5D%2C%20%5B34.11969000000001%2C%20-117.807033%5D%2C%20%5B38.763316%2C%20-121.257981%5D%2C%20%5B36.759809%2C%20-119.74906599999998%5D%2C%20%5B35.214788%2C%20-80.88773499999998%5D%2C%20%5B33.85342%2C%20-78.67514%5D%2C%20%5B43.012154%2C%20-83.654434%5D%2C%20%5B35.43124%2C%20-119.064331%5D%2C%20%5B30.436787%2C%20-97.775612%5D%2C%20%5B33.765762%2C%20-84.493156%5D%2C%20%5B36.670425%2C%20-121.638484%5D%2C%20%5B43.170575%2C%20-77.59779%5D%2C%20%5B39.982746%2C%20-82.81427%5D%2C%20%5B42.944817%2C%20-83.681488%5D%2C%20%5B39.06225%2C%20-95.74047%5D%2C%20%5B39.788662%2C%20-86.16660999999998%5D%2C%20%5B25.9423%2C%20-80.18844%5D%2C%20%5B41.611665%2C%20-93.578599%5D%2C%20%5B34.982838%2C%20-80.41407%5D%2C%20%5B35.767884%2C%20-78.575525%5D%2C%20%5B29.828426%2C%20-95.369568%5D%2C%20%5B42.904528000000006%2C%20-78.901229%5D%2C%20%5B34.892672999999995%2C%20-82.160774%5D%2C%20%5B37.187822%2C%20-93.631546%5D%2C%20%5B29.7843%2C%20-95.56055%5D%2C%20%5B28.00324%2C%20-82.31975%5D%2C%20%5B34.011082%2C%20-118.280762%5D%2C%20%5B30.477856%2C%20-97.765419%5D%2C%20%5B35.153936%2C%20-120.662038%5D%2C%20%5B38.015572%2C%20-121.88298%5D%2C%20%5B32.76973%2C%20-86.880302%5D%2C%20%5B39.73447%2C%20-121.81669%5D%2C%20%5B40.82281%2C%20-73.88490999999998%5D%2C%20%5B25.814866%2C%20-80.24858499999998%5D%2C%20%5B39.534019%2C%20-119.755104%5D%2C%20%5B42.223042%2C%20-85.78531600000002%5D%2C%20%5B35.070423%2C%20-80.84291800000003%5D%2C%20%5B32.82078%2C%20-96.63377%5D%2C%20%5B32.362358%2C%20-86.136238%5D%2C%20%5B43.141804%2C%20-77.59479499999998%5D%2C%20%5B32.139381%2C%20-110.840698%5D%2C%20%5B33.233799%2C%20-111.738319%5D%2C%20%5B26.67736%2C%20-80.101925%5D%2C%20%5B39.356449%2C%20-123.509341%5D%2C%20%5B35.846692%2C%20-78.52335500000002%5D%2C%20%5B33.760464%2C%20-84.493477%5D%2C%20%5B35.741291%2C%20-78.62416800000003%5D%2C%20%5B42.680904%2C%20-73.773186%5D%2C%20%5B34.146657%2C%20-118.226384%5D%2C%20%5B29.80603%2C%20-95.29899%5D%2C%20%5B38.94034%2C%20-94.75092%5D%2C%20%5B33.823139000000005%2C%20-80.387676%5D%2C%20%5B25.959528%2C%20-80.22936999999997%5D%2C%20%5B37.997314%2C%20-122.073334%5D%2C%20%5B32.94062%2C%20-80.050674%5D%2C%20%5B30.197689%2C%20-92.016479%5D%2C%20%5B35.460178000000006%2C%20-97.597382%5D%2C%20%5B32.937816999999995%2C%20-96.822083%5D%2C%20%5B39.025378%2C%20-90.252329%5D%2C%20%5B45.31216%2C%20-122.92685%5D%2C%20%5B35.497412%2C%20-97.578981%5D%2C%20%5B40.82309%2C%20-73.88274%5D%2C%20%5B38.520653%2C%20-77.371178%5D%2C%20%5B40.01199%2C%20-82.99159%5D%2C%20%5B26.2068%2C%20-80.19827%5D%2C%20%5B35.363289%2C%20-97.529991%5D%2C%20%5B39.81964%2C%20-84.19828000000003%5D%2C%20%5B34.639019%2C%20-82.68968199999998%5D%2C%20%5B33.261604%2C%20-111.881027%5D%2C%20%5B39.32325%2C%20-120.603699%5D%2C%20%5B34.484573%2C%20-84.46978399999998%5D%2C%20%5B35.368279%2C%20-97.547729%5D%2C%20%5B42.487923%2C%20-83.045898%5D%2C%20%5B40.643173%2C%20-75.43190799999998%5D%2C%20%5B35.779621%2C%20-78.640106%5D%2C%20%5B44.13864%2C%20-93.95779%5D%2C%20%5B37.54413%2C%20-77.37008%5D%2C%20%5B35.912343%2C%20-78.781896%5D%2C%20%5B33.7477%2C%20-84.38703000000002%5D%2C%20%5B41.93962%2C%20-87.70819%5D%2C%20%5B33.948627%2C%20-117.386215%5D%2C%20%5B33.99773%2C%20-117.93485%5D%2C%20%5B40.14616%2C%20-76.815445%5D%2C%20%5B39.133665%2C%20-84.493707%5D%2C%20%5B37.135833%2C%20-121.636389%5D%2C%20%5B33.840411%2C%20-117.135361%5D%2C%20%5B42.44572%2C%20-96.371339%5D%2C%20%5B29.709856%2C%20-95.266968%5D%2C%20%5B38.86673%2C%20-77.220365%5D%2C%20%5B40.021252%2C%20-75.317856%5D%2C%20%5B34.991402%2C%20-82.022827%5D%2C%20%5B34.790852%2C%20-82.817909%5D%2C%20%5B28.237706%2C%20-80.72049%5D%2C%20%5B33.384597%2C%20-117.24809%5D%2C%20%5B34.00015%2C%20-117.35263%5D%2C%20%5B36.807587%2C%20-76.195702%5D%2C%20%5B38.01079%2C%20-122.0172%5D%2C%20%5B39.87429%2C%20-75.10209%5D%2C%20%5B37.739123%2C%20-122.142424%5D%2C%20%5B40.625305%2C%20-73.939751%5D%2C%20%5B40.99176%2C%20-80.63124%5D%2C%20%5B34.011383%2C%20-81.148788%5D%2C%20%5B33.881458%2C%20-117.649341%5D%2C%20%5B29.836611%2C%20-95.262207%5D%2C%20%5B35.146947999999995%2C%20-80.92612199999998%5D%2C%20%5B30.43391%2C%20-85.53402700000002%5D%2C%20%5B44.894073%2C%20-93.275139%5D%2C%20%5B40.754723%2C%20-74.117989%5D%2C%20%5B35.24541%2C%20-80.89327%5D%2C%20%5B43.178837%2C%20-83.66001899999998%5D%2C%20%5B29.858009000000006%2C%20-95.361375%5D%2C%20%5B34.962519%2C%20-90.00041800000002%5D%2C%20%5B30.383324%2C%20-97.707466%5D%2C%20%5B29.298277%2C%20-95.733566%5D%2C%20%5B43.147572%2C%20-77.554138%5D%2C%20%5B46.15209%2C%20-123.856885%5D%2C%20%5B39.385239%2C%20-77.259415%5D%2C%20%5B44.95174%2C%20-93.16706%5D%2C%20%5B41.768311%2C%20-72.55957%5D%2C%20%5B34.014153%2C%20-117.922187%5D%2C%20%5B40.679344%2C%20-74.003136%5D%2C%20%5B29.725445%2C%20-95.422112%5D%2C%20%5B35.30721%2C%20-80.82163%5D%2C%20%5B27.820305%2C%20-82.693848%5D%2C%20%5B30.278959000000004%2C%20-97.73217%5D%2C%20%5B26.68052%2C%20-80.2079%5D%2C%20%5B32.470961%2C%20-93.801087%5D%2C%20%5B30.424335%2C%20-91.150719%5D%2C%20%5B37.701387%2C%20-121.769828%5D%2C%20%5B34.156681%2C%20-118.244408%5D%2C%20%5B41.5698%2C%20-87.40981%5D%2C%20%5B39.039936%2C%20-94.670311%5D%2C%20%5B37.64217%2C%20-122.09212%5D%2C%20%5B47.796776%2C%20-122.218315%5D%2C%20%5B39.88191%2C%20-104.98746%5D%2C%20%5B43.19384%2C%20-77.638874%5D%2C%20%5B34.14732%2C%20-118.227646%5D%2C%20%5B33.584712%2C%20-83.967038%5D%2C%20%5B34.891502%2C%20-82.468193%5D%2C%20%5B34.992299%2C%20-118.947021%5D%2C%20%5B26.011093%2C%20-80.166809%5D%2C%20%5B33.919797%2C%20-118.224113%5D%2C%20%5B44.73835%2C%20-92.890083%5D%2C%20%5B39.021972%2C%20-76.95043000000003%5D%2C%20%5B35.454556%2C%20-97.513496%5D%2C%20%5B35.83540700000001%2C%20-78.669601%5D%2C%20%5B35.428406%2C%20-80.934044%5D%2C%20%5B34.002173%2C%20-117.351482%5D%2C%20%5B39.749253%2C%20-86.143101%5D%2C%20%5B39.865265%2C%20-84.05454300000002%5D%2C%20%5B34.833031%2C%20-82.296837%5D%2C%20%5B28.56553%2C%20-81.19524%5D%2C%20%5B33.687276000000004%2C%20-84.40134%5D%2C%20%5B37.72999%2C%20-122.40373999999998%5D%2C%20%5B47.48008%2C%20-122.20071000000002%5D%2C%20%5B33.462429%2C%20-112.062187%5D%2C%20%5B38.528873%2C%20-121.469612%5D%2C%20%5B34.155739000000004%2C%20-118.431219%5D%2C%20%5B33.82817%2C%20-84.48709000000002%5D%2C%20%5B40.780087%2C%20-111.91065%5D%2C%20%5B32.507221%2C%20-93.767548%5D%2C%20%5B33.912704%2C%20-118.180283%5D%2C%20%5B44.173461%2C%20-122.15946%5D%2C%20%5B26.062872%2C%20-80.163872%5D%2C%20%5B33.48604%2C%20-117.66623%5D%2C%20%5B40.4785%2C%20-80.19489300000002%5D%2C%20%5B28.410352000000003%2C%20-81.39144%5D%2C%20%5B39.78143%2C%20-104.99143%5D%2C%20%5B37.941063%2C%20-121.232193%5D%2C%20%5B40.755644%2C%20-74.199922%5D%2C%20%5B38.49797%2C%20-121.44812%5D%2C%20%5B38.87554%2C%20-77.280396%5D%2C%20%5B35.017105%2C%20-85.179085%5D%2C%20%5B40.154697%2C%20-75.13932%5D%2C%20%5B33.722176%2C%20-84.407852%5D%2C%20%5B35.20362%2C%20-80.74851%5D%2C%20%5B37.204002%2C%20-76.573463%5D%2C%20%5B42.06671%2C%20-88.13387%5D%2C%20%5B44.965481%2C%20-93.287987%5D%2C%20%5B41.361877%2C%20-81.650345%5D%2C%20%5B27.157918%2C%20-80.30234899999998%5D%2C%20%5B33.687889%2C%20-117.914543%5D%2C%20%5B39.454807%2C%20-76.646416%5D%2C%20%5B39.17985%2C%20-94.5852%5D%2C%20%5B34.382121999999995%2C%20-81.948952%5D%2C%20%5B44.759415%2C%20-93.248062%5D%2C%20%5B41.46112%2C%20-81.69416%5D%2C%20%5B42.42212%2C%20-123.02712%5D%2C%20%5B40.921581%2C%20-73.809692%5D%2C%20%5B36.648516%2C%20-82.087056%5D%2C%20%5B27.99919%2C%20-82.45384%5D%2C%20%5B35.006654%2C%20-118.951564%5D%2C%20%5B33.38265%2C%20-117.251351%5D%2C%20%5B36.526998%2C%20-119.572701%5D%2C%20%5B37.960651%2C%20-122.330353%5D%2C%20%5B28.33091%2C%20-82.69915%5D%2C%20%5B32.898647%2C%20-96.769081%5D%2C%20%5B33.465969%2C%20-112.134483%5D%2C%20%5B29.8133%2C%20-95.46222%5D%2C%20%5B33.6171%2C%20-84.438622%5D%2C%20%5B44.565944%2C%20-120.143369%5D%2C%20%5B36.864349%2C%20-76.270119%5D%2C%20%5B36.06444000000001%2C%20-80.30048000000002%5D%2C%20%5B35.01559%2C%20-85.25362%5D%2C%20%5B42.97207%2C%20-85.67236%5D%2C%20%5B34.067703%2C%20-117.593521%5D%2C%20%5B43.184067%2C%20-124.244781%5D%2C%20%5B29.68833%2C%20-95.2806%5D%2C%20%5B38.885719%2C%20-76.91855600000002%5D%2C%20%5B38.805288%2C%20-77.213126%5D%2C%20%5B44.147541%2C%20-122.574332%5D%2C%20%5B43.80142%2C%20-91.30142%5D%2C%20%5B42.49144%2C%20-83.03487%5D%2C%20%5B33.96112%2C%20-117.8543%5D%2C%20%5B35.102211%2C%20-79.47567%5D%2C%20%5B30.503596%2C%20-87.217735%5D%2C%20%5B30.241757%2C%20-97.728337%5D%2C%20%5B37.881911%2C%20-122.308246%5D%2C%20%5B42.241829%2C%20-71.854256%5D%2C%20%5B34.152692%2C%20-118.094458%5D%2C%20%5B41.81133300000001%2C%20-71.353989%5D%2C%20%5B36.753876%2C%20-119.827545%5D%2C%20%5B38.44071%2C%20-90.90719%5D%2C%20%5B45.78072%2C%20-122.547592%5D%2C%20%5B38.743789%2C%20-121.210706%5D%2C%20%5B43.285702%2C%20-77.83326%5D%2C%20%5B33.665932%2C%20-117.303246%5D%2C%20%5B34.579529%2C%20-82.691742%5D%2C%20%5B37.425549%2C%20-121.917213%5D%2C%20%5B28.495335%2C%20-81.396918%5D%2C%20%5B27.85162%2C%20-82.34671800000002%5D%2C%20%5B42.356781%2C%20-71.183655%5D%2C%20%5B34.151340000000005%2C%20-80.91169000000002%5D%2C%20%5B30.216276%2C%20-97.751244%5D%2C%20%5B34.410709999999995%2C%20-118.67041%5D%2C%20%5B38.08299%2C%20-122.23342%5D%2C%20%5B35.75898%2C%20-120.950447%5D%2C%20%5B42.64357%2C%20-124.407332%5D%2C%20%5B36.15256%2C%20-86.78708%5D%2C%20%5B39.237026%2C%20-121.035065%5D%2C%20%5B42.34061%2C%20-79.58071%5D%2C%20%5B37.745937%2C%20-122.200958%5D%2C%20%5B32.705755%2C%20-96.840513%5D%2C%20%5B37.740064%2C%20-122.143814%5D%2C%20%5B25.577588%2C%20-80.380441%5D%2C%20%5B33.859375%2C%20-118.299205%5D%2C%20%5B35.97004000000001%2C%20-79.05941999999997%5D%2C%20%5B38.693016%2C%20-121.591072%5D%2C%20%5B35.12332%2C%20-80.91878%5D%2C%20%5B29.941116%2C%20-95.407417%5D%2C%20%5B34.336939%2C%20-117.259165%5D%2C%20%5B29.951202%2C%20-90.085449%5D%2C%20%5B40.62314600000001%2C%20-111.152634%5D%2C%20%5B33.622528%2C%20-111.925728%5D%2C%20%5B40.095719%2C%20-75.359087%5D%2C%20%5B27.919839%2C%20-82.49361999999998%5D%2C%20%5B41.78149000000001%2C%20-88.23172%5D%2C%20%5B35.272095%2C%20-80.93463100000002%5D%2C%20%5B33.6026%2C%20-112.29004%5D%2C%20%5B34.92485%2C%20-82.079971%5D%2C%20%5B30.404322%2C%20-97.725243%5D%2C%20%5B33.938869%2C%20-117.876839%5D%2C%20%5B27.13838%2C%20-82.45804%5D%2C%20%5B37.361534000000006%2C%20-121.878357%5D%2C%20%5B41.52173%2C%20-73.88943%5D%2C%20%5B45.093651%2C%20-93.44648%5D%2C%20%5B30.419590000000003%2C%20-91.187492%5D%2C%20%5B45.63874000000001%2C%20-118.68494%5D%2C%20%5B38.03397800000001%2C%20-78.859886%5D%2C%20%5B35.029783%2C%20-114.597979%5D%2C%20%5B40.035069%2C%20-76.253624%5D%2C%20%5B39.04419%2C%20-84.57848%5D%2C%20%5B47.01666%2C%20-122.29633%5D%2C%20%5B41.234238%2C%20-96.086388%5D%2C%20%5B34.035358%2C%20-118.369453%5D%2C%20%5B39.74916500000001%2C%20-77.223%5D%2C%20%5B33.87656%2C%20-118.07772%5D%2C%20%5B34.19957%2C%20-118.338249%5D%2C%20%5B41.212341%2C%20-95.950447%5D%2C%20%5B28.013115000000006%2C%20-82.454819%5D%2C%20%5B30.416897%2C%20-91.155479%5D%2C%20%5B38.816188%2C%20-76.915766%5D%2C%20%5B33.996262%2C%20-117.36411%5D%2C%20%5B33.874828%2C%20-118.125202%5D%2C%20%5B34.27498%2C%20-118.53624%5D%2C%20%5B41.47011%2C%20-81.74554%5D%2C%20%5B41.969231%2C%20-87.93965899999998%5D%2C%20%5B34.15382%2C%20-118.32589%5D%2C%20%5B41.67214%2C%20-72.82058%5D%2C%20%5B35.772686%2C%20-79.828377%5D%2C%20%5B34.02537%2C%20-118.42875%5D%2C%20%5B32.92514%2C%20-80.742104%5D%2C%20%5B33.465934999999995%2C%20-111.888611%5D%2C%20%5B26.95183%2C%20-82.06177%5D%2C%20%5B29.44487%2C%20-98.659142%5D%2C%20%5B35.748806%2C%20-78.64895600000001%5D%2C%20%5B33.919399%2C%20-117.434021%5D%2C%20%5B36.31241%2C%20-86.66928%5D%2C%20%5B33.42832%2C%20-112.070372%5D%2C%20%5B37.603424%2C%20-122.064148%5D%2C%20%5B39.515022%2C%20-76.407578%5D%2C%20%5B28.498684%2C%20-81.459091%5D%2C%20%5B37.332445%2C%20-121.844787%5D%2C%20%5B37.328884%2C%20-121.870255%5D%2C%20%5B40.851169%2C%20-78.152457%5D%2C%20%5B38.727396%2C%20-76.067351%5D%2C%20%5B37.51394000000001%2C%20-121.939165%5D%2C%20%5B33.80434%2C%20-118.20737%5D%2C%20%5B33.291989%2C%20-111.906683%5D%2C%20%5B33.993561%2C%20-118.069321%5D%2C%20%5B45.09967%2C%20-91.503845%5D%2C%20%5B43.97209%2C%20-93.25515%5D%2C%20%5B35.975506%2C%20-83.918671%5D%2C%20%5B40.27241%2C%20-74.16676%5D%2C%20%5B35.15163%2C%20-80.62956%5D%2C%20%5B32.763870000000004%2C%20-117.160454%5D%2C%20%5B34.13513%2C%20-117.60728%5D%2C%20%5B38.915923%2C%20-94.767669%5D%2C%20%5B29.745924%2C%20-95.55768%5D%2C%20%5B34.64255900000001%2C%20-82.45047%5D%2C%20%5B34.492878000000005%2C%20-79.379311%5D%2C%20%5B32.879406%2C%20-111.933907%5D%2C%20%5B34.499092%2C%20-118.626353%5D%2C%20%5B32.367718%2C%20-86.138901%5D%2C%20%5B39.74506%2C%20-84.09416%5D%2C%20%5B37.496712%2C%20-121.925484%5D%2C%20%5B35.745193%2C%20-78.872375%5D%2C%20%5B35.491768%2C%20-97.531311%5D%2C%20%5B30.188738%2C%20-97.771645%5D%2C%20%5B37.842594%2C%20-122.2976%5D%2C%20%5B29.822313%2C%20-95.37574%5D%2C%20%5B42.331463%2C%20-83.08731800000002%5D%2C%20%5B40.78142%2C%20-73.53566%5D%2C%20%5B37.734608%2C%20-122.406319%5D%2C%20%5B35.37133%2C%20-119.04328999999998%5D%2C%20%5B37.552776%2C%20-77.443588%5D%2C%20%5B34.22833%2C%20-117.25126000000002%5D%2C%20%5B25.769541%2C%20-80.335844%5D%2C%20%5B41.831429%2C%20-87.980438%5D%2C%20%5B39.252477%2C%20-86.65408000000002%5D%2C%20%5B30.20367%2C%20-81.75426%5D%2C%20%5B27.196505%2C%20-82.438538%5D%2C%20%5B34.017975%2C%20-117.472217%5D%2C%20%5B39.827271%2C%20-105.041397%5D%2C%20%5B41.52307%2C%20-73.89501%5D%2C%20%5B34.156265000000005%2C%20-118.264519%5D%2C%20%5B38.27082100000001%2C%20-122.668465%5D%2C%20%5B36.378677%2C%20-119.21562%5D%2C%20%5B40.706201%2C%20-74.25188100000003%5D%2C%20%5B38.47427%2C%20-121.422974%5D%2C%20%5B33.781532%2C%20-84.390869%5D%2C%20%5B40.220646%2C%20-76.093758%5D%2C%20%5B45.650671%2C%20-122.566384%5D%2C%20%5B40.781815%2C%20-74.162514%5D%2C%20%5B34.70740900000001%2C%20-112.149864%5D%2C%20%5B48.776783%2C%20-122.444878%5D%2C%20%5B43.016575%2C%20-83.773026%5D%2C%20%5B35.213196%2C%20-80.863945%5D%2C%20%5B34.17667%2C%20-118.4683%5D%2C%20%5B29.949478000000006%2C%20-90.086136%5D%2C%20%5B35.565609%2C%20-97.620697%5D%2C%20%5B42.3633%2C%20-71.06066899999998%5D%2C%20%5B38.638069%2C%20-121.203156%5D%2C%20%5B41.824966%2C%20-73.772141%5D%2C%20%5B38.698416%2C%20-77.780578%5D%2C%20%5B28.369864%2C%20-81.309589%5D%2C%20%5B39.84798%2C%20-75.09573%5D%2C%20%5B42.381714%2C%20-83.419685%5D%2C%20%5B33.783735%2C%20-118.091473%5D%2C%20%5B33.868339%2C%20-117.761177%5D%2C%20%5B30.109738%2C%20-81.50916600000002%5D%2C%20%5B34.02621%2C%20-117.33354%5D%2C%20%5B37.638248%2C%20-120.905821%5D%2C%20%5B33.791386%2C%20-84.392204%5D%2C%20%5B45.06701%2C%20-93.18592%5D%2C%20%5B40.57911%2C%20-75.62843000000002%5D%2C%20%5B36.140709%2C%20-95.900948%5D%2C%20%5B45.49641%2C%20-122.89171%5D%2C%20%5B42.225368%2C%20-88.76438900000002%5D%2C%20%5B33.218861%2C%20-79.969612%5D%2C%20%5B25.92184%2C%20-80.21123%5D%2C%20%5B34.0368%2C%20-118.377555%5D%2C%20%5B39.152151%2C%20-76.679838%5D%2C%20%5B47.949451%2C%20-122.199257%5D%2C%20%5B40.12003%2C%20-75.068078%5D%2C%20%5B42.96556500000001%2C%20-83.806984%5D%2C%20%5B39.301768%2C%20-76.611561%5D%2C%20%5B40.570549%2C%20-89.636169%5D%2C%20%5B43.05887%2C%20-76.08754%5D%2C%20%5B44.496188%2C%20-122.845173%5D%2C%20%5B34.04569%2C%20-118.21552%5D%2C%20%5B39.99318%2C%20-85.83743%5D%2C%20%5B39.481685%2C%20-123.361906%5D%2C%20%5B40.33799000000001%2C%20-74.50238%5D%2C%20%5B25.886459%2C%20-80.21064100000002%5D%2C%20%5B43.1382%2C%20-77.578035%5D%2C%20%5B42.25512%2C%20-88.00144%5D%2C%20%5B38.683201%2C%20-78.203978%5D%2C%20%5B40.987434%2C%20-73.679855%5D%2C%20%5B40.845625%2C%20-73.943601%5D%2C%20%5B30.26404%2C%20-97.735718%5D%2C%20%5B41.00055%2C%20-76.610802%5D%2C%20%5B37.923637%2C%20-121.242629%5D%2C%20%5B38.64016%2C%20-121.271599%5D%2C%20%5B43.036018%2C%20-83.713211%5D%2C%20%5B40.702377%2C%20-74.427666%5D%2C%20%5B34.485675%2C%20-118.151001%5D%2C%20%5B35.462189%2C%20-97.519432%5D%2C%20%5B40.583939%2C%20-73.830933%5D%2C%20%5B30.32865%2C%20-85.761627%5D%2C%20%5B39.54453%2C%20-76.66646%5D%2C%20%5B43.96991%2C%20-92.46303%5D%2C%20%5B44.638334%2C%20-123.800914%5D%2C%20%5B39.910618%2C%20-75.15815%5D%2C%20%5B34.0819%2C%20-117.716%5D%2C%20%5B34.581924%2C%20-118.135246%5D%2C%20%5B25.91236%2C%20-80.2097%5D%2C%20%5B40.845722%2C%20-73.929606%5D%2C%20%5B34.068657%2C%20-80.918633%5D%2C%20%5B32.8162%2C%20-96.761528%5D%2C%20%5B45.18934%2C%20-93.5435%5D%2C%20%5B40.778629%2C%20-72.859779%5D%2C%20%5B30.440748%2C%20-97.750572%5D%2C%20%5B41.713558%2C%20-87.606804%5D%2C%20%5B33.8778%2C%20-84.249619%5D%2C%20%5B29.832024%2C%20-95.376045%5D%2C%20%5B35.24252%2C%20-80.844365%5D%2C%20%5B34.100974%2C%20-118.248685%5D%2C%20%5B25.783079%2C%20-80.173012%5D%2C%20%5B42.23397%2C%20-121.52341%5D%2C%20%5B38.47806%2C%20-78.61291999999997%5D%2C%20%5B28.011083000000006%2C%20-82.454169%5D%2C%20%5B45.533847%2C%20-122.580483%5D%2C%20%5B39.034983%2C%20-84.59899300000002%5D%2C%20%5B36.31893%2C%20-86.70246999999998%5D%2C%20%5B33.442188%2C%20-117.627449%5D%2C%20%5B34.789242%2C%20-82.37814300000002%5D%2C%20%5B41.76981%2C%20-72.67408%5D%2C%20%5B33.924606%2C%20-118.104057%5D%2C%20%5B39.555674%2C%20-123.428914%5D%2C%20%5B37.824861%2C%20-122.313611%5D%2C%20%5B35.833481%2C%20-78.76765400000002%5D%2C%20%5B25.97952%2C%20-80.16601%5D%2C%20%5B28.422041%2C%20-81.422951%5D%2C%20%5B32.836%2C%20-96.606%5D%2C%20%5B33.997066%2C%20-117.93118%5D%2C%20%5B41.148933%2C%20-74.025017%5D%2C%20%5B40.14979%2C%20-74.66803%5D%2C%20%5B29.594891%2C%20-95.196129%5D%2C%20%5B40.165878%2C%20-74.899895%5D%2C%20%5B42.27616%2C%20-122.81006%5D%2C%20%5B40.58775%2C%20-111.9102%5D%2C%20%5B45.539551%2C%20-122.455543%5D%2C%20%5B43.326435%2C%20-124.205119%5D%2C%20%5B26.083785%2C%20-80.19329599999998%5D%2C%20%5B38.473618%2C%20-122.894882%5D%2C%20%5B34.61483%2C%20-120.189781%5D%2C%20%5B41.65813%2C%20-87.58708%5D%2C%20%5B47.61829%2C%20-122.33098%5D%2C%20%5B45.229543%2C%20-120.720723%5D%2C%20%5B32.88421%2C%20-96.69716%5D%2C%20%5B34.0453%2C%20-118.27086%5D%2C%20%5B47.52475%2C%20-122.69424%5D%2C%20%5B34.962540000000004%2C%20-90.00143%5D%2C%20%5B44.42216%2C%20-121.8573%5D%2C%20%5B43.131176%2C%20-77.72223100000002%5D%2C%20%5B38.069431%2C%20-122.538918%5D%2C%20%5B33.451591%2C%20-112.203461%5D%2C%20%5B43.66688%2C%20-123.47003%5D%2C%20%5B33.954726%2C%20-117.305097%5D%2C%20%5B37.657505%2C%20-77.605141%5D%2C%20%5B31.869774%2C%20-106.433419%5D%2C%20%5B33.582531%2C%20-111.83506%5D%2C%20%5B25.9055%2C%20-80.32435%5D%2C%20%5B32.782852%2C%20-96.794479%5D%2C%20%5B32.647507%2C%20-111.393341%5D%2C%20%5B34.17302%2C%20-118.30643%5D%2C%20%5B38.41888%2C%20-121.89413%5D%2C%20%5B47.611473%2C%20-122.327118%5D%2C%20%5B34.072742%2C%20-118.053626%5D%2C%20%5B38.683023%2C%20-121.33652%5D%2C%20%5B33.714588%2C%20-84.240868%5D%2C%20%5B29.77385%2C%20-95.3404%5D%2C%20%5B33.948593%2C%20-84.13787099999998%5D%2C%20%5B33.424496000000005%2C%20-111.926285%5D%2C%20%5B39.225132%2C%20-84.366745%5D%2C%20%5B35.02753%2C%20-89.75694%5D%2C%20%5B40.621099%2C%20-74.169104%5D%2C%20%5B38.84670300000001%2C%20-77.43220500000002%5D%2C%20%5B41.77304%2C%20-87.62557%5D%2C%20%5B45.04389000000001%2C%20-93.40074%5D%2C%20%5B38.770333%2C%20-77.537459%5D%2C%20%5B34.028042%2C%20-118.274508%5D%2C%20%5B32.980843%2C%20-86.688744%5D%2C%20%5B28.459639000000006%2C%20-82.627296%5D%2C%20%5B41.277779%2C%20-96.014343%5D%2C%20%5B37.85272%2C%20-122.29991%5D%2C%20%5B34.094792%2C%20-118.311105%5D%2C%20%5B42.41069%2C%20-83.08171800000002%5D%2C%20%5B29.724895%2C%20-95.476501%5D%2C%20%5B33.510113%2C%20-80.844482%5D%2C%20%5B40.754172%2C%20-77.168337%5D%2C%20%5B37.64603%2C%20-98.739436%5D%2C%20%5B38.21435200000001%2C%20-85.742889%5D%2C%20%5B40.732021%2C%20-73.925522%5D%2C%20%5B33.427681%2C%20-84.181717%5D%2C%20%5B37.918967%2C%20-120.4518%5D%2C%20%5B39.77999000000001%2C%20-104.953%5D%2C%20%5B47.59028%2C%20-122.32931%5D%2C%20%5B26.57241%2C%20-81.661626%5D%2C%20%5B29.888966%2C%20-95.411964%5D%2C%20%5B34.044922%2C%20-81.100258%5D%2C%20%5B31.747604%2C%20-106.318901%5D%2C%20%5B40.10741%2C%20-75.11016%5D%2C%20%5B44.36547%2C%20-92.7997%5D%2C%20%5B32.19185%2C%20-110.82398%5D%2C%20%5B35.460918%2C%20-97.565598%5D%2C%20%5B38.279812%2C%20-85.636131%5D%2C%20%5B35.556046%2C%20-97.517509%5D%2C%20%5B37.32717%2C%20-121.94089%5D%2C%20%5B36.853821%2C%20-121.771088%5D%2C%20%5B39.91608%2C%20-76.62958499999998%5D%2C%20%5B35.4933%2C%20-97.60085%5D%2C%20%5B35.77923%2C%20-78.70557%5D%2C%20%5B33.949703%2C%20-118.170532%5D%2C%20%5B29.707087%2C%20-95.253738%5D%2C%20%5B40.854571%2C%20-73.968244%5D%2C%20%5B39.906433%2C%20-86.044655%5D%2C%20%5B36.06042%2C%20-95.88632%5D%2C%20%5B33.46278%2C%20-112.16351%5D%2C%20%5B29.737999%2C%20-95.265205%5D%2C%20%5B34.143044%2C%20-117.318265%5D%2C%20%5B40.78475%2C%20-111.95291%5D%2C%20%5B41.77461%2C%20-72.57781%5D%2C%20%5B29.738708000000006%2C%20-95.507446%5D%2C%20%5B29.831854%2C%20-95.563667%5D%2C%20%5B38.612782%2C%20-90.199585%5D%2C%20%5B30.517643%2C%20-81.635216%5D%2C%20%5B41.542591%2C%20-72.98996700000002%5D%2C%20%5B38.054874%2C%20-122.230558%5D%2C%20%5B32.81163%2C%20-96.8531%5D%2C%20%5B34.106808%2C%20-117.821835%5D%2C%20%5B37.544589%2C%20-77.42814399999997%5D%2C%20%5B33.780769%2C%20-78.971588%5D%2C%20%5B25.845326%2C%20-80.322514%5D%2C%20%5B41.16151%2C%20-112.022949%5D%2C%20%5B27.444193%2C%20-82.468956%5D%2C%20%5B30.525264%2C%20-91.180336%5D%2C%20%5B38.58861%2C%20-121.29111%5D%2C%20%5B35.897837%2C%20-78.501638%5D%2C%20%5B39.780212%2C%20-104.939514%5D%2C%20%5B35.740446%2C%20-78.804817%5D%2C%20%5B33.462337%2C%20-112.238297%5D%2C%20%5B40.267437%2C%20-74.510508%5D%2C%20%5B30.466375%2C%20-91.105499%5D%2C%20%5B29.78413%2C%20-95.47405%5D%2C%20%5B40.563915%2C%20-89.633202%5D%2C%20%5B34.160186%2C%20-117.329466%5D%2C%20%5B39.142986%2C%20-77.65218399999998%5D%2C%20%5B33.462270000000004%2C%20-112.22652%5D%2C%20%5B33.993626%2C%20-117.358177%5D%2C%20%5B35.280994%2C%20-114.175661%5D%2C%20%5B41.097534%2C%20-74.040215%5D%2C%20%5B38.63515%2C%20-107.98675%5D%2C%20%5B35.200418%2C%20-80.764094%5D%2C%20%5B34.053272%2C%20-117.547928%5D%2C%20%5B38.34052%2C%20-121.3342%5D%2C%20%5B38.101745%2C%20-122.22981%5D%2C%20%5B30.314785%2C%20-81.788593%5D%2C%20%5B33.933434000000005%2C%20-118.350723%5D%2C%20%5B34.960232%2C%20-82.30690799999998%5D%2C%20%5B45.150192%2C%20-122.793027%5D%2C%20%5B44.406512%2C%20-123.891318%5D%2C%20%5B39.483587%2C%20-77.34483399999998%5D%2C%20%5B42.555328%2C%20-79.112%5D%2C%20%5B35.501209%2C%20-97.485542%5D%2C%20%5B29.67697%2C%20-95.5599%5D%2C%20%5B45.287758%2C%20-93.002441%5D%2C%20%5B34.127579%2C%20-118.27372%5D%2C%20%5B26.02792%2C%20-80.16573000000002%5D%2C%20%5B34.256702000000004%2C%20-79.785881%5D%2C%20%5B47.612488%2C%20-122.328056%5D%2C%20%5B40.67678%2C%20-74.00142%5D%2C%20%5B32.70786%2C%20-96.82968%5D%2C%20%5B36.74786%2C%20-119.822884%5D%2C%20%5B44.002057%2C%20-92.483564%5D%2C%20%5B32.402085%2C%20-93.793062%5D%2C%20%5B44.979889%2C%20-92.777634%5D%2C%20%5B39.026955%2C%20-121.513351%5D%2C%20%5B40.15905%2C%20-75.064552%5D%2C%20%5B33.421021%2C%20-111.926308%5D%2C%20%5B32.764128%2C%20-96.936194%5D%2C%20%5B34.185559999999995%2C%20-118.31755%5D%2C%20%5B38.672345%2C%20-77.246288%5D%2C%20%5B43.501725%2C%20-88.809177%5D%2C%20%5B34.03476%2C%20-117.974571%5D%2C%20%5B33.742999%2C%20-117.223473%5D%2C%20%5B33.705444%2C%20-84.403511%5D%2C%20%5B40.72429%2C%20-111.90703%5D%2C%20%5B34.911713%2C%20-80.96822399999998%5D%2C%20%5B32.860626%2C%20-97.010262%5D%2C%20%5B34.01254%2C%20-81.38212%5D%2C%20%5B45.559174%2C%20-122.578522%5D%2C%20%5B30.387161%2C%20-91.06308%5D%2C%20%5B34.378979%2C%20-118.492172%5D%2C%20%5B34.157602000000004%2C%20-118.431305%5D%2C%20%5B47.193439%2C%20-122.239426%5D%2C%20%5B38.96283%2C%20-78.44035500000003%5D%2C%20%5B37.63273%2C%20-122.40302%5D%2C%20%5B30.685789%2C%20-88.126991%5D%2C%20%5B35.276745%2C%20-80.807411%5D%2C%20%5B41.64444%2C%20-88.08046999999998%5D%2C%20%5B35.087044%2C%20-90.076393%5D%2C%20%5B32.768615999999994%2C%20-117.129654%5D%2C%20%5B37.317204%2C%20-121.974594%5D%2C%20%5B34.748875%2C%20-112.112534%5D%2C%20%5B33.461617%2C%20-112.444153%5D%2C%20%5B41.396591%2C%20-88.191704%5D%2C%20%5B44.951816%2C%20-93.133474%5D%2C%20%5B26.10289%2C%20-80.25010999999998%5D%2C%20%5B47.79681%2C%20-122.21835%5D%2C%20%5B32.79177%2C%20-96.73262%5D%2C%20%5B33.629539%2C%20-79.03469100000002%5D%2C%20%5B35.468461%2C%20-94.262506%5D%2C%20%5B35.90535%2C%20-78.771683%5D%2C%20%5B38.234119%2C%20-122.618462%5D%2C%20%5B37.725623%2C%20-122.401803%5D%2C%20%5B39.1725%2C%20-121.05417%5D%2C%20%5B37.551121%2C%20-120.828728%5D%2C%20%5B32.73753%2C%20-117.15607%5D%2C%20%5B37.457062%2C%20-121.131828%5D%2C%20%5B43.11733%2C%20-123.35903%5D%2C%20%5B40.134742%2C%20-75.445026%5D%2C%20%5B26.20001%2C%20-80.29574699999998%5D%2C%20%5B29.937056%2C%20-95.5467%5D%2C%20%5B30.39421%2C%20-91.08671%5D%2C%20%5B34.121315%2C%20-117.261828%5D%2C%20%5B33.987705%2C%20-118.39906299999998%5D%2C%20%5B41.597721%2C%20-81.54585300000002%5D%2C%20%5B32.888775%2C%20-86.624481%5D%2C%20%5B33.872064%2C%20-117.665251%5D%2C%20%5B30.474190000000004%2C%20-87.248192%5D%2C%20%5B42.247608%2C%20-87.87169899999998%5D%2C%20%5B35.027664%2C%20-80.965065%5D%2C%20%5B34.425646%2C%20-118.423658%5D%2C%20%5B42.871523%2C%20-78.789873%5D%2C%20%5B39.72571%2C%20-105.02075%5D%2C%20%5B41.53187%2C%20-94.0431%5D%2C%20%5B37.47625%2C%20-122.187057%5D%2C%20%5B27.471581%2C%20-82.563019%5D%2C%20%5B43.37421%2C%20-88.30118%5D%2C%20%5B38.604874%2C%20-90.308525%5D%2C%20%5B40.199265%2C%20-75.11856800000002%5D%2C%20%5B32.771137%2C%20-96.873863%5D%2C%20%5B35.84735999999999%2C%20-78.79453000000002%5D%2C%20%5B37.546158%2C%20-77.442856%5D%2C%20%5B32.662701%2C%20-96.725068%5D%2C%20%5B38.01306500000001%2C%20-122.002136%5D%2C%20%5B40.636015%2C%20-74.1973%5D%2C%20%5B34.173478%2C%20-118.553463%5D%2C%20%5B33.89711%2C%20-81.156548%5D%2C%20%5B37.421535%2C%20-121.93466200000002%5D%2C%20%5B34.167165000000004%2C%20-82.194914%5D%2C%20%5B44.08423%2C%20-123.0468%5D%2C%20%5B36.167599%2C%20-86.762199%5D%2C%20%5B34.266009999999994%2C%20-118.463013%5D%2C%20%5B35.20985%2C%20-80.75718%5D%2C%20%5B38.900962%2C%20-77.015117%5D%2C%20%5B34.209233000000005%2C%20-117.086653%5D%2C%20%5B38.557995%2C%20-121.675636%5D%2C%20%5B38.080128%2C%20-90.58287%5D%2C%20%5B37.321956%2C%20-121.890827%5D%2C%20%5B36.751942%2C%20-119.791267%5D%2C%20%5B33.982372999999995%2C%20-118.280137%5D%2C%20%5B33.334805%2C%20-111.972237%5D%2C%20%5B34.029719%2C%20-118.403062%5D%2C%20%5B30.431051%2C%20-91.084015%5D%2C%20%5B34.913441%2C%20-80.98254399999998%5D%2C%20%5B32.63745%2C%20-96.70197%5D%2C%20%5B38.36456%2C%20-121.96465%5D%2C%20%5B43.130985%2C%20-77.646416%5D%2C%20%5B35.19481%2C%20-80.76629%5D%2C%20%5B37.89539%2C%20-122.11373%5D%2C%20%5B39.93577%2C%20-75.08634%5D%2C%20%5B39.264081%2C%20-76.589395%5D%2C%20%5B31.760857%2C%20-106.400116%5D%2C%20%5B27.833759000000004%2C%20-82.699913%5D%2C%20%5B43.129693%2C%20-124.364147%5D%2C%20%5B34.050986%2C%20-118.223229%5D%2C%20%5B40.70097%2C%20-73.99471%5D%2C%20%5B34.587357%2C%20-86.451126%5D%2C%20%5B34.015591%2C%20-118.17231%5D%2C%20%5B33.854001000000004%2C%20-117.959244%5D%2C%20%5B32.885582%2C%20-96.700478%5D%2C%20%5B32.72611%2C%20-97.32039%5D%2C%20%5B35.24253%2C%20-89.89723000000002%5D%2C%20%5B47.989849%2C%20-122.209793%5D%2C%20%5B34.632168%2C%20-81.77301%5D%2C%20%5B33.893563%2C%20-84.263292%5D%2C%20%5B34.055739%2C%20-118.452239%5D%2C%20%5B32.97446%2C%20-96.71684%5D%2C%20%5B33.928823%2C%20-118.291579%5D%2C%20%5B25.73848%2C%20-80.38419300000002%5D%2C%20%5B33.005714000000005%2C%20-80.102402%5D%2C%20%5B38.790867%2C%20-77.17615500000002%5D%2C%20%5B41.182001%2C%20-111.949159%5D%2C%20%5B35.783096%2C%20-78.59251400000002%5D%2C%20%5B40.81573%2C%20-73.93097%5D%2C%20%5B36.174221%2C%20-86.80074300000003%5D%2C%20%5B42.336269%2C%20-71.053864%5D%2C%20%5B41.902233%2C%20-88.10172299999998%5D%2C%20%5B38.66029%2C%20-77.27796%5D%2C%20%5B34.030655%2C%20-117.610558%5D%2C%20%5B43.727603%2C%20-75.410677%5D%2C%20%5B35.44229%2C%20-80.86548%5D%2C%20%5B36.04538%2C%20-86.713249%5D%2C%20%5B30.686090000000004%2C%20-88.08773000000002%5D%2C%20%5B31.260340000000006%2C%20-97.37924%5D%2C%20%5B38.98049%2C%20-76.55139%5D%2C%20%5B32.753342%2C%20-96.764732%5D%2C%20%5B38.473633%2C%20-122.891518%5D%2C%20%5B37.709465%2C%20-122.122139%5D%2C%20%5B44.076984%2C%20-122.765286%5D%2C%20%5B38.64356%2C%20-121.39427%5D%2C%20%5B26.49597%2C%20-81.84565699999997%5D%2C%20%5B40.6449%2C%20-75.42688000000003%5D%2C%20%5B32.426136%2C%20-88.45194599999998%5D%2C%20%5B42.772039%2C%20-74.073697%5D%2C%20%5B32.24123400000001%2C%20-80.811073%5D%2C%20%5B29.81405%2C%20-95.36061%5D%2C%20%5B43.091412%2C%20-75.747284%5D%2C%20%5B35.27029%2C%20-80.81385%5D%2C%20%5B28.263756%2C%20-81.652794%5D%2C%20%5B34.017835%2C%20-117.530803%5D%2C%20%5B33.6702%2C%20-112.03737%5D%2C%20%5B45.018571%2C%20-93.282326%5D%2C%20%5B34.065517%2C%20-117.5448%5D%2C%20%5B39.349163%2C%20-76.745705%5D%2C%20%5B26.432213%2C%20-81.77793100000002%5D%2C%20%5B40.737487%2C%20-73.851095%5D%2C%20%5B34.157162%2C%20-118.379395%5D%2C%20%5B32.83951%2C%20-97.16602%5D%2C%20%5B33.139229%2C%20-80.155479%5D%2C%20%5B40.77524%2C%20-73.92324%5D%2C%20%5B43.10527%2C%20-89.316353%5D%2C%20%5B45.501079%2C%20-118.42078899999998%5D%2C%20%5B33.778839000000005%2C%20-117.89566%5D%2C%20%5B40.379662%2C%20-74.154625%5D%2C%20%5B39.78014%2C%20-104.95929%5D%2C%20%5B39.841581%2C%20-96.422786%5D%2C%20%5B44.51796%2C%20-93.84777%5D%2C%20%5B38.511368%2C%20-122.775558%5D%2C%20%5B29.688407%2C%20-95.570371%5D%2C%20%5B40.14328%2C%20-122.323112%5D%2C%20%5B40.55877%2C%20-111.8722%5D%2C%20%5B39.83818%2C%20-75.15316999999997%5D%2C%20%5B35.74876%2C%20-78.64886%5D%2C%20%5B40.179985%2C%20-82.912582%5D%2C%20%5B34.509476%2C%20-120.226318%5D%2C%20%5B38.660557%2C%20-121.36158799999998%5D%2C%20%5B43.23311%2C%20-77.92766999999998%5D%2C%20%5B38.9319%2C%20-94.667564%5D%2C%20%5B33.930894%2C%20-118.298352%5D%2C%20%5B32.79599%2C%20-96.833876%5D%2C%20%5B30.332333%2C%20-97.75547%5D%2C%20%5B39.034821%2C%20-84.599937%5D%2C%20%5B33.698640000000005%2C%20-111.8905%5D%2C%20%5B38.898964%2C%20-77.197113%5D%2C%20%5B38.552139%2C%20-121.415749%5D%2C%20%5B34.038456%2C%20-118.274025%5D%2C%20%5B30.237671%2C%20-97.662331%5D%2C%20%5B32.752559999999995%2C%20-96.770897%5D%2C%20%5B34.801708000000005%2C%20-82.225677%5D%2C%20%5B40.718065%2C%20-112.114229%5D%2C%20%5B42.28164%2C%20-71.08699%5D%2C%20%5B38.33476%2C%20-122.71294%5D%2C%20%5B36.84348%2C%20-76.13691999999998%5D%2C%20%5B45.44049%2C%20-118.37077%5D%2C%20%5B39.87551%2C%20-75.04966%5D%2C%20%5B38.762973%2C%20-90.150022%5D%2C%20%5B34.298953999999995%2C%20-117.45784%5D%2C%20%5B29.02002%2C%20-82.15576%5D%2C%20%5B42.849899%2C%20-78.79026%5D%2C%20%5B43.252956%2C%20-77.64679%5D%2C%20%5B27.821191%2C%20-82.667804%5D%2C%20%5B33.87678%2C%20-118.17195%5D%2C%20%5B35.115201%2C%20-80.962347%5D%2C%20%5B33.77013%2C%20-84.64542%5D%2C%20%5B30.263351%2C%20-81.60773499999998%5D%2C%20%5B40.684954%2C%20-111.87142%5D%2C%20%5B37.324524%2C%20-121.889542%5D%2C%20%5B30.439766%2C%20-97.698326%5D%2C%20%5B38.772331%2C%20-76.964928%5D%2C%20%5B42.551563%2C%20-71.782822%5D%2C%20%5B35.62307%2C%20-78.56709000000002%5D%2C%20%5B38.474449%2C%20-122.755608%5D%2C%20%5B34.753499%2C%20-82.089986%5D%2C%20%5B45.27168%2C%20-93.00735%5D%2C%20%5B37.529945%2C%20-77.37236%5D%2C%20%5B30.19021%2C%20-90.91489%5D%2C%20%5B30.226359%2C%20-97.706378%5D%2C%20%5B44.43876%2C%20-121.95413%5D%2C%20%5B39.017715%2C%20-84.480896%5D%2C%20%5B33.778335%2C%20-117.873964%5D%2C%20%5B37.135833%2C%20-121.636389%5D%2C%20%5B39.431129%2C%20-105.464348%5D%2C%20%5B39.776569%2C%20-104.99482%5D%2C%20%5B33.535876%2C%20-84.458438%5D%2C%20%5B30.202879%2C%20-92.018036%5D%2C%20%5B39.472652%2C%20-74.633492%5D%2C%20%5B25.890105%2C%20-80.243408%5D%2C%20%5B34.152615000000004%2C%20-118.113297%5D%2C%20%5B38.55564%2C%20-121.44127%5D%2C%20%5B34.101085999999995%2C%20-117.199576%5D%2C%20%5B40.84584%2C%20-73.931061%5D%2C%20%5B42.62662%2C%20-123.38318%5D%2C%20%5B36.036744%2C%20-119.039491%5D%2C%20%5B37.89838%2C%20-122.30933%5D%2C%20%5B30.395247%2C%20-91.109673%5D%2C%20%5B29.400921000000004%2C%20-98.440964%5D%2C%20%5B40.80459000000001%2C%20-73.91885%5D%2C%20%5B35.390751%2C%20-80.84584%5D%2C%20%5B30.12826%2C%20-97.800545%5D%2C%20%5B40.653797%2C%20-74.008087%5D%2C%20%5B35.001059999999995%2C%20-80.86255600000001%5D%2C%20%5B40.18942%2C%20-74.74744%5D%2C%20%5B39.969875%2C%20-76.781166%5D%2C%20%5B44.693787%2C%20-123.05217%5D%2C%20%5B45.507012%2C%20-122.670625%5D%2C%20%5B29.95385%2C%20-95.422607%5D%2C%20%5B44.80506%2C%20-93.22858%5D%2C%20%5B32.983578%2C%20-96.712364%5D%2C%20%5B41.85887%2C%20-88.10108000000002%5D%2C%20%5B34.19854%2C%20-117.417508%5D%2C%20%5B30.150635%2C%20-92.09388%5D%2C%20%5B33.968117%2C%20-118.168053%5D%2C%20%5B34.810775%2C%20-82.438164%5D%2C%20%5B30.212955%2C%20-97.658722%5D%2C%20%5B42.502148%2C%20-71.243126%5D%2C%20%5B33.42645%2C%20-112.02957%5D%2C%20%5B38.915241%2C%20-77.430092%5D%2C%20%5B29.8042%2C%20-95.293096%5D%2C%20%5B29.866288%2C%20-95.363397%5D%2C%20%5B36.806312%2C%20-76.361514%5D%2C%20%5B42.600788%2C%20-71.071747%5D%2C%20%5B34.077971999999995%2C%20-81.152649%5D%2C%20%5B37.66361%2C%20-122.10584%5D%2C%20%5B43.16048%2C%20-77.53945999999998%5D%2C%20%5B29.841906%2C%20-95.390388%5D%2C%20%5B45.57745%2C%20-122.76167%5D%2C%20%5B34.070695%2C%20-119.012176%5D%2C%20%5B34.077663%2C%20-117.998184%5D%2C%20%5B43.22426%2C%20-117.05207%5D%2C%20%5B34.75378%2C%20-82.287735%5D%2C%20%5B40.118804%2C%20-75.347827%5D%2C%20%5B29.937456%2C%20-95.507538%5D%2C%20%5B38.449753%2C%20-122.688301%5D%2C%20%5B44.951584%2C%20-93.167221%5D%2C%20%5B37.52031%2C%20-121.9838%5D%2C%20%5B25.910166%2C%20-80.21167%5D%2C%20%5B33.856705%2C%20-118.284599%5D%2C%20%5B33.852191999999995%2C%20-118.11703500000002%5D%2C%20%5B34.170231%2C%20-118.304405%5D%2C%20%5B37.083115%2C%20-120.492767%5D%2C%20%5B37.98325300000001%2C%20-122.315956%5D%2C%20%5B38.998178%2C%20-121.403503%5D%2C%20%5B41.6021%2C%20-87.174118%5D%2C%20%5B35.803837%2C%20-78.707024%5D%2C%20%5B40.772255%2C%20-73.333694%5D%2C%20%5B36.738737%2C%20-119.808333%5D%2C%20%5B40.452244%2C%20-79.950851%5D%2C%20%5B33.484032%2C%20-82.08107%5D%2C%20%5B34.059508%2C%20-118.172845%5D%2C%20%5B39.21414%2C%20-84.46104%5D%2C%20%5B35.1142%2C%20-80.69279%5D%2C%20%5B30.275391%2C%20-97.731295%5D%2C%20%5B33.38842%2C%20-82.02658100000002%5D%2C%20%5B28.508842%2C%20-81.4188%5D%2C%20%5B45.680688%2C%20-118.736678%5D%2C%20%5B36.094921%2C%20-95.849289%5D%2C%20%5B32.862435%2C%20-96.658626%5D%2C%20%5B25.694277%2C%20-80.38723%5D%2C%20%5B25.81711%2C%20-80.20644%5D%2C%20%5B39.01536%2C%20-77.12218%5D%2C%20%5B37.792828%2C%20-121.190193%5D%2C%20%5B34.0928%2C%20-81.206177%5D%2C%20%5B32.78237%2C%20-117.1141%5D%2C%20%5B34.091141%2C%20-118.258392%5D%2C%20%5B33.92142%2C%20-118.08278%5D%2C%20%5B47.395756%2C%20-121.480295%5D%2C%20%5B45.161225%2C%20-122.54364%5D%2C%20%5B34.12057%2C%20-112.94645%5D%2C%20%5B40.75777%2C%20-73.73823%5D%2C%20%5B37.241516%2C%20-93.353394%5D%2C%20%5B34.074847%2C%20-117.856166%5D%2C%20%5B44.859962%2C%20-93.382996%5D%2C%20%5B33.959064%2C%20-117.858086%5D%2C%20%5B35.126694%2C%20-80.656708%5D%2C%20%5B29.915540000000004%2C%20-81.33119%5D%2C%20%5B35.750423%2C%20-78.768314%5D%2C%20%5B30.247078%2C%20-92.066292%5D%2C%20%5B47.385944%2C%20-122.827842%5D%2C%20%5B40.4678%2C%20-111.91123%5D%2C%20%5B41.727749%2C%20-72.349907%5D%2C%20%5B34.233559%2C%20-118.472977%5D%2C%20%5B29.788928%2C%20-95.659905%5D%2C%20%5B33.377971%2C%20-84.626449%5D%2C%20%5B35.276756%2C%20-80.806931%5D%2C%20%5B33.984759000000004%2C%20-117.365246%5D%2C%20%5B43.0247%2C%20-78.97669%5D%2C%20%5B33.952416%2C%20-83.398816%5D%2C%20%5B37.71270300000001%2C%20-121.094383%5D%2C%20%5B37.552818%2C%20-77.461037%5D%2C%20%5B34.023788%2C%20-118.27639%5D%2C%20%5B45.86456%2C%20-123.56686%5D%2C%20%5B30.322535%2C%20-97.70687%5D%2C%20%5B30.406218%2C%20-97.642267%5D%2C%20%5B33.065952%2C%20-96.690079%5D%2C%20%5B33.913174%2C%20-118.180505%5D%2C%20%5B34.064007000000004%2C%20-117.296761%5D%2C%20%5B45.152969%2C%20-123.197533%5D%2C%20%5B37.981949%2C%20-84.422859%5D%2C%20%5B33.939964%2C%20-118.291748%5D%2C%20%5B45.553837%2C%20-122.407738%5D%2C%20%5B37.22169%2C%20-120.371006%5D%2C%20%5B39.199868%2C%20-121.034933%5D%2C%20%5B37.87640800000001%2C%20-122.046349%5D%2C%20%5B40.71772%2C%20-111.95335%5D%2C%20%5B37.12690900000001%2C%20-120.252527%5D%2C%20%5B26.046556%2C%20-80.208809%5D%2C%20%5B38.233483%2C%20-85.62671800000003%5D%2C%20%5B36.312447%2C%20-86.665337%5D%2C%20%5B36.045591%2C%20-95.859072%5D%2C%20%5B34.23082%2C%20-117.216011%5D%2C%20%5B40.132241%2C%20-105.10254%5D%2C%20%5B33.390785%2C%20-86.792488%5D%2C%20%5B34.480175%2C%20-82.648087%5D%2C%20%5B33.94399%2C%20-117.2864%5D%2C%20%5B39.956558%2C%20-82.983078%5D%2C%20%5B37.74062%2C%20-121.503433%5D%2C%20%5B38.11328%2C%20-85.86251%5D%2C%20%5B35.38130200000001%2C%20-97.503685%5D%2C%20%5B37.432868%2C%20-120.779282%5D%2C%20%5B33.941727%2C%20-84.505447%5D%2C%20%5B35.3676%2C%20-80.81676%5D%2C%20%5B38.96443%2C%20-76.90476%5D%2C%20%5B30.408619%2C%20-97.716049%5D%2C%20%5B30.404022%2C%20-91.182014%5D%5D%2C%0A%20%20%20%20%20%20%20%20%20%20%20%20%20%20%20%20%7B%0A%20%20%20%20%20%20%20%20%20%20%20%20%20%20%20%20%20%20%20%20minOpacity%3A%200.5%2C%0A%20%20%20%20%20%20%20%20%20%20%20%20%20%20%20%20%20%20%20%20maxZoom%3A%2018%2C%0A%20%20%20%20%20%20%20%20%20%20%20%20%20%20%20%20%20%20%20%20max%3A%201.0%2C%0A%20%20%20%20%20%20%20%20%20%20%20%20%20%20%20%20%20%20%20%20radius%3A%2025%2C%0A%20%20%20%20%20%20%20%20%20%20%20%20%20%20%20%20%20%20%20%20blur%3A%2015%2C%0A%20%20%20%20%20%20%20%20%20%20%20%20%20%20%20%20%20%20%20%20gradient%3A%20null%0A%20%20%20%20%20%20%20%20%20%20%20%20%20%20%20%20%20%20%20%20%7D%29%0A%20%20%20%20%20%20%20%20%20%20%20%20%20%20%20%20.addTo%28map_daeffe22d1d54dddb6a55d8f7529ec47%29%3B%0A%20%20%20%20%20%20%20%20%0A%3C/script%3E onload=\"this.contentDocument.open();this.contentDocument.write(    decodeURIComponent(this.getAttribute('data-html')));this.contentDocument.close();\" allowfullscreen webkitallowfullscreen mozallowfullscreen></iframe></div></div>"
            ],
            "text/plain": [
              "<folium.folium.Map at 0x7ffae2535790>"
            ]
          },
          "metadata": {},
          "execution_count": 77
        }
      ]
    },
    {
      "cell_type": "markdown",
      "metadata": {
        "id": "2cZBqHcseRmA"
      },
      "source": [
        "6) Number of accident occurances is high during the temperature range 55°F to 75°F. Normal Temperature range of USA is 16°F to 86°F. The general undersanding that more accidents occur during Winter or lower temperature seems to be False. Moreover Number of accidents occurances is lower when temperature is less. "
      ]
    },
    {
      "cell_type": "markdown",
      "metadata": {
        "id": "nG9lHKqZe82C"
      },
      "source": [
        "7) Based on Weather Time stamp accident occurances is more during the last three months but most of the accidents occurances during the last three month has been recorded as normal weather conditions. Hence Weather conditions dosen't have impact on accident occurance"
      ]
    },
    {
      "cell_type": "markdown",
      "metadata": {
        "id": "SODC7UkySnek"
      },
      "source": [
        "# Summary "
      ]
    },
    {
      "cell_type": "markdown",
      "metadata": {
        "id": "JgJ8h7ILS134"
      },
      "source": [
        "1. High nummber of accidents occur during the commuting hours between 6 am to 10 am  3 pm to 6 pm.\n",
        "2. Weather and Temperature dosent have a significant impact on accident occuraces.\n",
        "3. Most of the accidents occur at the eastern and western part of USA where population is high."
      ]
    }
  ]
}