{
  "nbformat": 4,
  "nbformat_minor": 0,
  "metadata": {
    "accelerator": "GPU",
    "colab": {
      "name": "US_Accidents_Analysis.ipynb",
      "provenance": [],
      "collapsed_sections": [],
      "machine_shape": "hm"
    },
    "kernelspec": {
      "display_name": "Python 3",
      "language": "python",
      "name": "python3"
    },
    "language_info": {
      "codemirror_mode": {
        "name": "ipython",
        "version": 3
      },
      "file_extension": ".py",
      "mimetype": "text/x-python",
      "name": "python",
      "nbconvert_exporter": "python",
      "pygments_lexer": "ipython3",
      "version": "3.8.5"
    }
  },
  "cells": [
    {
      "cell_type": "markdown",
      "metadata": {
        "id": "FIPMsRH37EjL"
      },
      "source": [
        "# US Accidents Exploratory Data Analysis\n"
      ]
    },
    {
      "cell_type": "markdown",
      "metadata": {
        "id": "SqZg3EplXmlZ"
      },
      "source": [
        "**About the Dataset** - \n",
        "The Dataset is obtained from Kaggel.\n",
        "\n",
        "This dataset has been collected in real-time, using multiple Traffic APIs. Currently, it contains accident data that are collected from February 2016 to Dec 2020 for the Contiguous United States. Check here to learn more about this dataset.\n"
      ]
    },
    {
      "cell_type": "markdown",
      "metadata": {
        "id": "HK2DF03_i0e8"
      },
      "source": [
        "Importing US Accidents data set from kaggel"
      ]
    },
    {
      "cell_type": "code",
      "metadata": {
        "id": "O6QlzTGY7JT1"
      },
      "source": [
        "pip install opendatasets --upgrade --quiet"
      ],
      "execution_count": 2,
      "outputs": []
    },
    {
      "cell_type": "code",
      "metadata": {
        "colab": {
          "base_uri": "https://localhost:8080/"
        },
        "id": "Cbgnqzgi8H5D",
        "outputId": "52116ec9-d33e-4d88-ca95-54c1e45c8241"
      },
      "source": [
        "import opendatasets as od\n",
        "\n",
        "download_url = 'https://www.kaggle.com/sobhanmoosavi/us-accidents'\n",
        "\n",
        "od.download(download_url)"
      ],
      "execution_count": 3,
      "outputs": [
        {
          "output_type": "stream",
          "text": [
            "Please provide your Kaggle credentials to download this dataset. Learn more: http://bit.ly/kaggle-creds\n",
            "Your Kaggle username: siddharthksidd\n",
            "Your Kaggle Key: ··········\n",
            "Downloading us-accidents.zip to ./us-accidents\n"
          ],
          "name": "stdout"
        },
        {
          "output_type": "stream",
          "text": [
            "100%|██████████| 290M/290M [00:03<00:00, 84.6MB/s]\n"
          ],
          "name": "stderr"
        },
        {
          "output_type": "stream",
          "text": [
            "\n"
          ],
          "name": "stdout"
        }
      ]
    },
    {
      "cell_type": "code",
      "metadata": {
        "id": "QBJB1AK29BT2"
      },
      "source": [
        "data_filename = '/content/us-accidents/US_Accidents_Dec20_Updated.csv'"
      ],
      "execution_count": 4,
      "outputs": []
    },
    {
      "cell_type": "markdown",
      "metadata": {
        "id": "L0doTYcH7Qxs"
      },
      "source": [
        "## Data Preparation and Cleaning\n",
        "\n"
      ]
    },
    {
      "cell_type": "markdown",
      "metadata": {
        "id": "yYfDqAeiRrXh"
      },
      "source": [
        "Loading the data into Pandas DataFrame"
      ]
    },
    {
      "cell_type": "code",
      "metadata": {
        "id": "p9o1x5mC7JJ-"
      },
      "source": [
        "import pandas as pd"
      ],
      "execution_count": 5,
      "outputs": []
    },
    {
      "cell_type": "code",
      "metadata": {
        "id": "-2x1XO5w7VgE"
      },
      "source": [
        "df = pd.read_csv(data_filename)"
      ],
      "execution_count": 6,
      "outputs": []
    },
    {
      "cell_type": "code",
      "metadata": {
        "colab": {
          "base_uri": "https://localhost:8080/",
          "height": 522
        },
        "id": "NHajB4gW7V8Z",
        "outputId": "e5870c91-a0f6-488f-805e-309379a49f6d"
      },
      "source": [
        "df.head()"
      ],
      "execution_count": 7,
      "outputs": [
        {
          "output_type": "execute_result",
          "data": {
            "text/html": [
              "<div>\n",
              "<style scoped>\n",
              "    .dataframe tbody tr th:only-of-type {\n",
              "        vertical-align: middle;\n",
              "    }\n",
              "\n",
              "    .dataframe tbody tr th {\n",
              "        vertical-align: top;\n",
              "    }\n",
              "\n",
              "    .dataframe thead th {\n",
              "        text-align: right;\n",
              "    }\n",
              "</style>\n",
              "<table border=\"1\" class=\"dataframe\">\n",
              "  <thead>\n",
              "    <tr style=\"text-align: right;\">\n",
              "      <th></th>\n",
              "      <th>ID</th>\n",
              "      <th>Severity</th>\n",
              "      <th>Start_Time</th>\n",
              "      <th>End_Time</th>\n",
              "      <th>Start_Lat</th>\n",
              "      <th>Start_Lng</th>\n",
              "      <th>End_Lat</th>\n",
              "      <th>End_Lng</th>\n",
              "      <th>Distance(mi)</th>\n",
              "      <th>Description</th>\n",
              "      <th>Number</th>\n",
              "      <th>Street</th>\n",
              "      <th>Side</th>\n",
              "      <th>City</th>\n",
              "      <th>County</th>\n",
              "      <th>State</th>\n",
              "      <th>Zipcode</th>\n",
              "      <th>Country</th>\n",
              "      <th>Timezone</th>\n",
              "      <th>Airport_Code</th>\n",
              "      <th>Weather_Timestamp</th>\n",
              "      <th>Temperature(F)</th>\n",
              "      <th>Wind_Chill(F)</th>\n",
              "      <th>Humidity(%)</th>\n",
              "      <th>Pressure(in)</th>\n",
              "      <th>Visibility(mi)</th>\n",
              "      <th>Wind_Direction</th>\n",
              "      <th>Wind_Speed(mph)</th>\n",
              "      <th>Precipitation(in)</th>\n",
              "      <th>Weather_Condition</th>\n",
              "      <th>Amenity</th>\n",
              "      <th>Bump</th>\n",
              "      <th>Crossing</th>\n",
              "      <th>Give_Way</th>\n",
              "      <th>Junction</th>\n",
              "      <th>No_Exit</th>\n",
              "      <th>Railway</th>\n",
              "      <th>Roundabout</th>\n",
              "      <th>Station</th>\n",
              "      <th>Stop</th>\n",
              "      <th>Traffic_Calming</th>\n",
              "      <th>Traffic_Signal</th>\n",
              "      <th>Turning_Loop</th>\n",
              "      <th>Sunrise_Sunset</th>\n",
              "      <th>Civil_Twilight</th>\n",
              "      <th>Nautical_Twilight</th>\n",
              "      <th>Astronomical_Twilight</th>\n",
              "    </tr>\n",
              "  </thead>\n",
              "  <tbody>\n",
              "    <tr>\n",
              "      <th>0</th>\n",
              "      <td>A-1</td>\n",
              "      <td>2</td>\n",
              "      <td>2019-05-21 08:29:55</td>\n",
              "      <td>2019-05-21 09:29:40</td>\n",
              "      <td>34.808868</td>\n",
              "      <td>-82.269157</td>\n",
              "      <td>34.808868</td>\n",
              "      <td>-82.269157</td>\n",
              "      <td>0.0</td>\n",
              "      <td>Accident on Tanner Rd at Pennbrooke Ln.</td>\n",
              "      <td>439.0</td>\n",
              "      <td>Tanner Rd</td>\n",
              "      <td>R</td>\n",
              "      <td>Greenville</td>\n",
              "      <td>Greenville</td>\n",
              "      <td>SC</td>\n",
              "      <td>29607-6027</td>\n",
              "      <td>US</td>\n",
              "      <td>US/Eastern</td>\n",
              "      <td>KGMU</td>\n",
              "      <td>2019-05-21 08:53:00</td>\n",
              "      <td>76.0</td>\n",
              "      <td>76.0</td>\n",
              "      <td>52.0</td>\n",
              "      <td>28.91</td>\n",
              "      <td>10.0</td>\n",
              "      <td>N</td>\n",
              "      <td>7.0</td>\n",
              "      <td>0.0</td>\n",
              "      <td>Fair</td>\n",
              "      <td>False</td>\n",
              "      <td>False</td>\n",
              "      <td>False</td>\n",
              "      <td>False</td>\n",
              "      <td>False</td>\n",
              "      <td>False</td>\n",
              "      <td>False</td>\n",
              "      <td>False</td>\n",
              "      <td>False</td>\n",
              "      <td>False</td>\n",
              "      <td>False</td>\n",
              "      <td>False</td>\n",
              "      <td>False</td>\n",
              "      <td>Day</td>\n",
              "      <td>Day</td>\n",
              "      <td>Day</td>\n",
              "      <td>Day</td>\n",
              "    </tr>\n",
              "    <tr>\n",
              "      <th>1</th>\n",
              "      <td>A-2</td>\n",
              "      <td>2</td>\n",
              "      <td>2019-10-07 17:43:09</td>\n",
              "      <td>2019-10-07 19:42:50</td>\n",
              "      <td>35.090080</td>\n",
              "      <td>-80.745560</td>\n",
              "      <td>35.090080</td>\n",
              "      <td>-80.745560</td>\n",
              "      <td>0.0</td>\n",
              "      <td>Accident on Houston Branch Rd at Providence Br...</td>\n",
              "      <td>3299.0</td>\n",
              "      <td>Providence Branch Ln</td>\n",
              "      <td>R</td>\n",
              "      <td>Charlotte</td>\n",
              "      <td>Mecklenburg</td>\n",
              "      <td>NC</td>\n",
              "      <td>28270-8560</td>\n",
              "      <td>US</td>\n",
              "      <td>US/Eastern</td>\n",
              "      <td>KEQY</td>\n",
              "      <td>2019-10-07 17:53:00</td>\n",
              "      <td>76.0</td>\n",
              "      <td>76.0</td>\n",
              "      <td>62.0</td>\n",
              "      <td>29.30</td>\n",
              "      <td>10.0</td>\n",
              "      <td>VAR</td>\n",
              "      <td>3.0</td>\n",
              "      <td>0.0</td>\n",
              "      <td>Cloudy</td>\n",
              "      <td>False</td>\n",
              "      <td>False</td>\n",
              "      <td>False</td>\n",
              "      <td>False</td>\n",
              "      <td>False</td>\n",
              "      <td>False</td>\n",
              "      <td>False</td>\n",
              "      <td>False</td>\n",
              "      <td>False</td>\n",
              "      <td>False</td>\n",
              "      <td>False</td>\n",
              "      <td>False</td>\n",
              "      <td>False</td>\n",
              "      <td>Day</td>\n",
              "      <td>Day</td>\n",
              "      <td>Day</td>\n",
              "      <td>Day</td>\n",
              "    </tr>\n",
              "    <tr>\n",
              "      <th>2</th>\n",
              "      <td>A-3</td>\n",
              "      <td>2</td>\n",
              "      <td>2020-12-13 21:53:00</td>\n",
              "      <td>2020-12-13 22:44:00</td>\n",
              "      <td>37.145730</td>\n",
              "      <td>-121.985052</td>\n",
              "      <td>37.165850</td>\n",
              "      <td>-121.988062</td>\n",
              "      <td>1.4</td>\n",
              "      <td>Stationary traffic on CA-17 from Summit Rd (CA...</td>\n",
              "      <td>NaN</td>\n",
              "      <td>Santa Cruz Hwy</td>\n",
              "      <td>R</td>\n",
              "      <td>Los Gatos</td>\n",
              "      <td>Santa Clara</td>\n",
              "      <td>CA</td>\n",
              "      <td>95033</td>\n",
              "      <td>US</td>\n",
              "      <td>US/Pacific</td>\n",
              "      <td>KSJC</td>\n",
              "      <td>2020-12-13 21:53:00</td>\n",
              "      <td>51.0</td>\n",
              "      <td>51.0</td>\n",
              "      <td>80.0</td>\n",
              "      <td>30.17</td>\n",
              "      <td>10.0</td>\n",
              "      <td>W</td>\n",
              "      <td>6.0</td>\n",
              "      <td>0.0</td>\n",
              "      <td>Fair</td>\n",
              "      <td>False</td>\n",
              "      <td>False</td>\n",
              "      <td>False</td>\n",
              "      <td>False</td>\n",
              "      <td>False</td>\n",
              "      <td>False</td>\n",
              "      <td>False</td>\n",
              "      <td>False</td>\n",
              "      <td>False</td>\n",
              "      <td>False</td>\n",
              "      <td>False</td>\n",
              "      <td>False</td>\n",
              "      <td>False</td>\n",
              "      <td>Night</td>\n",
              "      <td>Night</td>\n",
              "      <td>Night</td>\n",
              "      <td>Night</td>\n",
              "    </tr>\n",
              "    <tr>\n",
              "      <th>3</th>\n",
              "      <td>A-4</td>\n",
              "      <td>2</td>\n",
              "      <td>2018-04-17 16:51:23</td>\n",
              "      <td>2018-04-17 17:50:46</td>\n",
              "      <td>39.110390</td>\n",
              "      <td>-119.773781</td>\n",
              "      <td>39.110390</td>\n",
              "      <td>-119.773781</td>\n",
              "      <td>0.0</td>\n",
              "      <td>Accident on US-395 Southbound at Topsy Ln.</td>\n",
              "      <td>NaN</td>\n",
              "      <td>US Highway 395 S</td>\n",
              "      <td>R</td>\n",
              "      <td>Carson City</td>\n",
              "      <td>Douglas</td>\n",
              "      <td>NV</td>\n",
              "      <td>89705</td>\n",
              "      <td>US</td>\n",
              "      <td>US/Pacific</td>\n",
              "      <td>KCXP</td>\n",
              "      <td>2018-04-17 16:55:00</td>\n",
              "      <td>53.6</td>\n",
              "      <td>NaN</td>\n",
              "      <td>16.0</td>\n",
              "      <td>30.16</td>\n",
              "      <td>10.0</td>\n",
              "      <td>SSW</td>\n",
              "      <td>4.6</td>\n",
              "      <td>NaN</td>\n",
              "      <td>Clear</td>\n",
              "      <td>False</td>\n",
              "      <td>False</td>\n",
              "      <td>False</td>\n",
              "      <td>False</td>\n",
              "      <td>False</td>\n",
              "      <td>False</td>\n",
              "      <td>False</td>\n",
              "      <td>False</td>\n",
              "      <td>False</td>\n",
              "      <td>False</td>\n",
              "      <td>False</td>\n",
              "      <td>True</td>\n",
              "      <td>False</td>\n",
              "      <td>Day</td>\n",
              "      <td>Day</td>\n",
              "      <td>Day</td>\n",
              "      <td>Day</td>\n",
              "    </tr>\n",
              "    <tr>\n",
              "      <th>4</th>\n",
              "      <td>A-5</td>\n",
              "      <td>3</td>\n",
              "      <td>2016-08-31 17:40:49</td>\n",
              "      <td>2016-08-31 18:10:49</td>\n",
              "      <td>26.102942</td>\n",
              "      <td>-80.265091</td>\n",
              "      <td>26.102942</td>\n",
              "      <td>-80.265091</td>\n",
              "      <td>0.0</td>\n",
              "      <td>Accident on I-595 Westbound at Exit 4 / Pine I...</td>\n",
              "      <td>NaN</td>\n",
              "      <td>I-595 W</td>\n",
              "      <td>R</td>\n",
              "      <td>Fort Lauderdale</td>\n",
              "      <td>Broward</td>\n",
              "      <td>FL</td>\n",
              "      <td>33324</td>\n",
              "      <td>US</td>\n",
              "      <td>US/Eastern</td>\n",
              "      <td>KHWO</td>\n",
              "      <td>2016-08-31 17:53:00</td>\n",
              "      <td>84.2</td>\n",
              "      <td>NaN</td>\n",
              "      <td>84.0</td>\n",
              "      <td>29.92</td>\n",
              "      <td>10.0</td>\n",
              "      <td>SSE</td>\n",
              "      <td>13.8</td>\n",
              "      <td>NaN</td>\n",
              "      <td>Overcast</td>\n",
              "      <td>False</td>\n",
              "      <td>False</td>\n",
              "      <td>False</td>\n",
              "      <td>False</td>\n",
              "      <td>True</td>\n",
              "      <td>False</td>\n",
              "      <td>False</td>\n",
              "      <td>False</td>\n",
              "      <td>False</td>\n",
              "      <td>False</td>\n",
              "      <td>False</td>\n",
              "      <td>True</td>\n",
              "      <td>False</td>\n",
              "      <td>Day</td>\n",
              "      <td>Day</td>\n",
              "      <td>Day</td>\n",
              "      <td>Day</td>\n",
              "    </tr>\n",
              "  </tbody>\n",
              "</table>\n",
              "</div>"
            ],
            "text/plain": [
              "    ID  Severity  ... Nautical_Twilight Astronomical_Twilight\n",
              "0  A-1         2  ...               Day                   Day\n",
              "1  A-2         2  ...               Day                   Day\n",
              "2  A-3         2  ...             Night                 Night\n",
              "3  A-4         2  ...               Day                   Day\n",
              "4  A-5         3  ...               Day                   Day\n",
              "\n",
              "[5 rows x 47 columns]"
            ]
          },
          "metadata": {},
          "execution_count": 7
        }
      ]
    },
    {
      "cell_type": "markdown",
      "metadata": {
        "id": "GmzepYiTRwNf"
      },
      "source": [
        "Getting to know the dataset"
      ]
    },
    {
      "cell_type": "code",
      "metadata": {
        "colab": {
          "base_uri": "https://localhost:8080/"
        },
        "id": "lnQGGWJV93Qy",
        "outputId": "c8a97f5b-d02d-4ccf-b03c-8a20ed70c469"
      },
      "source": [
        "df.info()"
      ],
      "execution_count": 8,
      "outputs": [
        {
          "output_type": "stream",
          "text": [
            "<class 'pandas.core.frame.DataFrame'>\n",
            "RangeIndex: 2906610 entries, 0 to 2906609\n",
            "Data columns (total 47 columns):\n",
            " #   Column                 Dtype  \n",
            "---  ------                 -----  \n",
            " 0   ID                     object \n",
            " 1   Severity               int64  \n",
            " 2   Start_Time             object \n",
            " 3   End_Time               object \n",
            " 4   Start_Lat              float64\n",
            " 5   Start_Lng              float64\n",
            " 6   End_Lat                float64\n",
            " 7   End_Lng                float64\n",
            " 8   Distance(mi)           float64\n",
            " 9   Description            object \n",
            " 10  Number                 float64\n",
            " 11  Street                 object \n",
            " 12  Side                   object \n",
            " 13  City                   object \n",
            " 14  County                 object \n",
            " 15  State                  object \n",
            " 16  Zipcode                object \n",
            " 17  Country                object \n",
            " 18  Timezone               object \n",
            " 19  Airport_Code           object \n",
            " 20  Weather_Timestamp      object \n",
            " 21  Temperature(F)         float64\n",
            " 22  Wind_Chill(F)          float64\n",
            " 23  Humidity(%)            float64\n",
            " 24  Pressure(in)           float64\n",
            " 25  Visibility(mi)         float64\n",
            " 26  Wind_Direction         object \n",
            " 27  Wind_Speed(mph)        float64\n",
            " 28  Precipitation(in)      float64\n",
            " 29  Weather_Condition      object \n",
            " 30  Amenity                bool   \n",
            " 31  Bump                   bool   \n",
            " 32  Crossing               bool   \n",
            " 33  Give_Way               bool   \n",
            " 34  Junction               bool   \n",
            " 35  No_Exit                bool   \n",
            " 36  Railway                bool   \n",
            " 37  Roundabout             bool   \n",
            " 38  Station                bool   \n",
            " 39  Stop                   bool   \n",
            " 40  Traffic_Calming        bool   \n",
            " 41  Traffic_Signal         bool   \n",
            " 42  Turning_Loop           bool   \n",
            " 43  Sunrise_Sunset         object \n",
            " 44  Civil_Twilight         object \n",
            " 45  Nautical_Twilight      object \n",
            " 46  Astronomical_Twilight  object \n",
            "dtypes: bool(13), float64(13), int64(1), object(20)\n",
            "memory usage: 790.0+ MB\n"
          ],
          "name": "stdout"
        }
      ]
    },
    {
      "cell_type": "code",
      "metadata": {
        "colab": {
          "base_uri": "https://localhost:8080/",
          "height": 314
        },
        "id": "uJGnotnv-WXC",
        "outputId": "a0164099-9cb7-4795-e07a-1166f0d7d129"
      },
      "source": [
        "df.describe()"
      ],
      "execution_count": 9,
      "outputs": [
        {
          "output_type": "execute_result",
          "data": {
            "text/html": [
              "<div>\n",
              "<style scoped>\n",
              "    .dataframe tbody tr th:only-of-type {\n",
              "        vertical-align: middle;\n",
              "    }\n",
              "\n",
              "    .dataframe tbody tr th {\n",
              "        vertical-align: top;\n",
              "    }\n",
              "\n",
              "    .dataframe thead th {\n",
              "        text-align: right;\n",
              "    }\n",
              "</style>\n",
              "<table border=\"1\" class=\"dataframe\">\n",
              "  <thead>\n",
              "    <tr style=\"text-align: right;\">\n",
              "      <th></th>\n",
              "      <th>Severity</th>\n",
              "      <th>Start_Lat</th>\n",
              "      <th>Start_Lng</th>\n",
              "      <th>End_Lat</th>\n",
              "      <th>End_Lng</th>\n",
              "      <th>Distance(mi)</th>\n",
              "      <th>Number</th>\n",
              "      <th>Temperature(F)</th>\n",
              "      <th>Wind_Chill(F)</th>\n",
              "      <th>Humidity(%)</th>\n",
              "      <th>Pressure(in)</th>\n",
              "      <th>Visibility(mi)</th>\n",
              "      <th>Wind_Speed(mph)</th>\n",
              "      <th>Precipitation(in)</th>\n",
              "    </tr>\n",
              "  </thead>\n",
              "  <tbody>\n",
              "    <tr>\n",
              "      <th>count</th>\n",
              "      <td>2.906610e+06</td>\n",
              "      <td>2.906610e+06</td>\n",
              "      <td>2.906610e+06</td>\n",
              "      <td>2.623789e+06</td>\n",
              "      <td>2.623789e+06</td>\n",
              "      <td>2.906610e+06</td>\n",
              "      <td>1.014938e+06</td>\n",
              "      <td>2.839386e+06</td>\n",
              "      <td>1.722751e+06</td>\n",
              "      <td>2.835340e+06</td>\n",
              "      <td>2.849702e+06</td>\n",
              "      <td>2.834532e+06</td>\n",
              "      <td>2.599447e+06</td>\n",
              "      <td>1.605284e+06</td>\n",
              "    </tr>\n",
              "    <tr>\n",
              "      <th>mean</th>\n",
              "      <td>2.288649e+00</td>\n",
              "      <td>3.653027e+01</td>\n",
              "      <td>-9.642676e+01</td>\n",
              "      <td>3.651733e+01</td>\n",
              "      <td>-9.620367e+01</td>\n",
              "      <td>3.980541e-01</td>\n",
              "      <td>6.789728e+03</td>\n",
              "      <td>6.098873e+01</td>\n",
              "      <td>5.499048e+01</td>\n",
              "      <td>6.537758e+01</td>\n",
              "      <td>2.965685e+01</td>\n",
              "      <td>9.116766e+00</td>\n",
              "      <td>7.818111e+00</td>\n",
              "      <td>1.119459e-02</td>\n",
              "    </tr>\n",
              "    <tr>\n",
              "      <th>std</th>\n",
              "      <td>5.541618e-01</td>\n",
              "      <td>5.013964e+00</td>\n",
              "      <td>1.775412e+01</td>\n",
              "      <td>5.016609e+00</td>\n",
              "      <td>1.765971e+01</td>\n",
              "      <td>1.592556e+00</td>\n",
              "      <td>1.697225e+04</td>\n",
              "      <td>1.845258e+01</td>\n",
              "      <td>2.219542e+01</td>\n",
              "      <td>2.287854e+01</td>\n",
              "      <td>9.094133e-01</td>\n",
              "      <td>2.837271e+00</td>\n",
              "      <td>5.431171e+00</td>\n",
              "      <td>1.540812e-01</td>\n",
              "    </tr>\n",
              "    <tr>\n",
              "      <th>min</th>\n",
              "      <td>1.000000e+00</td>\n",
              "      <td>2.455527e+01</td>\n",
              "      <td>-1.246238e+02</td>\n",
              "      <td>2.455527e+01</td>\n",
              "      <td>-1.246238e+02</td>\n",
              "      <td>0.000000e+00</td>\n",
              "      <td>0.000000e+00</td>\n",
              "      <td>-8.900000e+01</td>\n",
              "      <td>-8.900000e+01</td>\n",
              "      <td>1.000000e+00</td>\n",
              "      <td>0.000000e+00</td>\n",
              "      <td>0.000000e+00</td>\n",
              "      <td>0.000000e+00</td>\n",
              "      <td>0.000000e+00</td>\n",
              "    </tr>\n",
              "    <tr>\n",
              "      <th>25%</th>\n",
              "      <td>2.000000e+00</td>\n",
              "      <td>3.366453e+01</td>\n",
              "      <td>-1.178232e+02</td>\n",
              "      <td>3.364659e+01</td>\n",
              "      <td>-1.177020e+02</td>\n",
              "      <td>0.000000e+00</td>\n",
              "      <td>9.650000e+02</td>\n",
              "      <td>4.890000e+01</td>\n",
              "      <td>3.900000e+01</td>\n",
              "      <td>4.900000e+01</td>\n",
              "      <td>2.959000e+01</td>\n",
              "      <td>1.000000e+01</td>\n",
              "      <td>4.600000e+00</td>\n",
              "      <td>0.000000e+00</td>\n",
              "    </tr>\n",
              "    <tr>\n",
              "      <th>50%</th>\n",
              "      <td>2.000000e+00</td>\n",
              "      <td>3.609977e+01</td>\n",
              "      <td>-9.116690e+01</td>\n",
              "      <td>3.605898e+01</td>\n",
              "      <td>-9.105163e+01</td>\n",
              "      <td>0.000000e+00</td>\n",
              "      <td>3.093000e+03</td>\n",
              "      <td>6.300000e+01</td>\n",
              "      <td>5.800000e+01</td>\n",
              "      <td>6.800000e+01</td>\n",
              "      <td>2.992000e+01</td>\n",
              "      <td>1.000000e+01</td>\n",
              "      <td>7.000000e+00</td>\n",
              "      <td>0.000000e+00</td>\n",
              "    </tr>\n",
              "    <tr>\n",
              "      <th>75%</th>\n",
              "      <td>3.000000e+00</td>\n",
              "      <td>4.037505e+01</td>\n",
              "      <td>-8.085814e+01</td>\n",
              "      <td>4.033133e+01</td>\n",
              "      <td>-8.084679e+01</td>\n",
              "      <td>2.790000e-01</td>\n",
              "      <td>7.976000e+03</td>\n",
              "      <td>7.500000e+01</td>\n",
              "      <td>7.200000e+01</td>\n",
              "      <td>8.500000e+01</td>\n",
              "      <td>3.007000e+01</td>\n",
              "      <td>1.000000e+01</td>\n",
              "      <td>1.040000e+01</td>\n",
              "      <td>0.000000e+00</td>\n",
              "    </tr>\n",
              "    <tr>\n",
              "      <th>max</th>\n",
              "      <td>4.000000e+00</td>\n",
              "      <td>4.900220e+01</td>\n",
              "      <td>-6.711317e+01</td>\n",
              "      <td>4.907500e+01</td>\n",
              "      <td>-6.710924e+01</td>\n",
              "      <td>3.336300e+02</td>\n",
              "      <td>9.999997e+06</td>\n",
              "      <td>2.030000e+02</td>\n",
              "      <td>1.740000e+02</td>\n",
              "      <td>1.000000e+02</td>\n",
              "      <td>5.804000e+01</td>\n",
              "      <td>1.400000e+02</td>\n",
              "      <td>9.840000e+02</td>\n",
              "      <td>2.400000e+01</td>\n",
              "    </tr>\n",
              "  </tbody>\n",
              "</table>\n",
              "</div>"
            ],
            "text/plain": [
              "           Severity     Start_Lat  ...  Wind_Speed(mph)  Precipitation(in)\n",
              "count  2.906610e+06  2.906610e+06  ...     2.599447e+06       1.605284e+06\n",
              "mean   2.288649e+00  3.653027e+01  ...     7.818111e+00       1.119459e-02\n",
              "std    5.541618e-01  5.013964e+00  ...     5.431171e+00       1.540812e-01\n",
              "min    1.000000e+00  2.455527e+01  ...     0.000000e+00       0.000000e+00\n",
              "25%    2.000000e+00  3.366453e+01  ...     4.600000e+00       0.000000e+00\n",
              "50%    2.000000e+00  3.609977e+01  ...     7.000000e+00       0.000000e+00\n",
              "75%    3.000000e+00  4.037505e+01  ...     1.040000e+01       0.000000e+00\n",
              "max    4.000000e+00  4.900220e+01  ...     9.840000e+02       2.400000e+01\n",
              "\n",
              "[8 rows x 14 columns]"
            ]
          },
          "metadata": {},
          "execution_count": 9
        }
      ]
    },
    {
      "cell_type": "markdown",
      "metadata": {
        "id": "Hzpk2c-dUQPM"
      },
      "source": [
        "Lets check the number of columns which has numeric dtype "
      ]
    },
    {
      "cell_type": "code",
      "metadata": {
        "colab": {
          "base_uri": "https://localhost:8080/"
        },
        "id": "VY06MtLb-WT8",
        "outputId": "4f21fd4c-7d77-429b-f94f-e9a291b80f10"
      },
      "source": [
        "numerics = ['int16', 'int32', 'int64', 'float16', 'float32', 'float64']\n",
        "\n",
        "numeric_df = df.select_dtypes(include=numerics)\n",
        "len(numeric_df.columns)"
      ],
      "execution_count": 10,
      "outputs": [
        {
          "output_type": "execute_result",
          "data": {
            "text/plain": [
              "14"
            ]
          },
          "metadata": {},
          "execution_count": 10
        }
      ]
    },
    {
      "cell_type": "markdown",
      "metadata": {
        "id": "2coalt28VUmH"
      },
      "source": [
        "Out of 46 columns only 14 columns are in numeric data type"
      ]
    },
    {
      "cell_type": "markdown",
      "metadata": {
        "id": "QEM6L_SJAdcc"
      },
      "source": [
        "Percentage of missing values per column"
      ]
    },
    {
      "cell_type": "code",
      "metadata": {
        "colab": {
          "base_uri": "https://localhost:8080/"
        },
        "id": "P-DxObWa-WRP",
        "outputId": "3106fe07-5cb9-4816-b649-5fad72d3ad03"
      },
      "source": [
        "missing_percentages = df.isna().sum().sort_values(ascending=False) / len(df) *100\n",
        "missing_percentages"
      ],
      "execution_count": 11,
      "outputs": [
        {
          "output_type": "execute_result",
          "data": {
            "text/plain": [
              "Number                   65.081728\n",
              "Precipitation(in)        44.771263\n",
              "Wind_Chill(F)            40.729888\n",
              "Wind_Speed(mph)          10.567740\n",
              "End_Lat                   9.730270\n",
              "End_Lng                   9.730270\n",
              "Visibility(mi)            2.479796\n",
              "Weather_Condition         2.471986\n",
              "Humidity(%)               2.451997\n",
              "Temperature(F)            2.312797\n",
              "Wind_Direction            2.183781\n",
              "Pressure(in)              1.957882\n",
              "Weather_Timestamp         1.614148\n",
              "Airport_Code              0.227344\n",
              "Timezone                  0.118007\n",
              "Zipcode                   0.038326\n",
              "Nautical_Twilight         0.003784\n",
              "Astronomical_Twilight     0.003784\n",
              "Civil_Twilight            0.003784\n",
              "Sunrise_Sunset            0.003784\n",
              "City                      0.003716\n",
              "Amenity                   0.000000\n",
              "Severity                  0.000000\n",
              "Start_Time                0.000000\n",
              "End_Time                  0.000000\n",
              "Start_Lat                 0.000000\n",
              "Start_Lng                 0.000000\n",
              "Distance(mi)              0.000000\n",
              "Description               0.000000\n",
              "Turning_Loop              0.000000\n",
              "Street                    0.000000\n",
              "Side                      0.000000\n",
              "County                    0.000000\n",
              "Bump                      0.000000\n",
              "State                     0.000000\n",
              "Traffic_Signal            0.000000\n",
              "Country                   0.000000\n",
              "Traffic_Calming           0.000000\n",
              "Stop                      0.000000\n",
              "Station                   0.000000\n",
              "Roundabout                0.000000\n",
              "Railway                   0.000000\n",
              "No_Exit                   0.000000\n",
              "Junction                  0.000000\n",
              "Give_Way                  0.000000\n",
              "Crossing                  0.000000\n",
              "ID                        0.000000\n",
              "dtype: float64"
            ]
          },
          "metadata": {},
          "execution_count": 11
        }
      ]
    },
    {
      "cell_type": "code",
      "metadata": {
        "colab": {
          "base_uri": "https://localhost:8080/"
        },
        "id": "u7UxjIoqBARH",
        "outputId": "a760cdc2-0d64-4b23-8a94-bdc45fb3a050"
      },
      "source": [
        "type(missing_percentages)"
      ],
      "execution_count": 12,
      "outputs": [
        {
          "output_type": "execute_result",
          "data": {
            "text/plain": [
              "pandas.core.series.Series"
            ]
          },
          "metadata": {},
          "execution_count": 12
        }
      ]
    },
    {
      "cell_type": "markdown",
      "metadata": {
        "id": "aF3QcIYyXn4r"
      },
      "source": [
        "Visualising the missing values percentages"
      ]
    },
    {
      "cell_type": "code",
      "metadata": {
        "colab": {
          "base_uri": "https://localhost:8080/",
          "height": 445
        },
        "id": "ID8Rs0RJ93Lf",
        "outputId": "ed449f91-5b00-4bb7-fac8-09b91fcac64f"
      },
      "source": [
        "import matplotlib.pyplot as plt\n",
        "plt.figure(figsize=(15,7))\n",
        "missing_percentages[missing_percentages != 0].plot(kind='barh')"
      ],
      "execution_count": 13,
      "outputs": [
        {
          "output_type": "execute_result",
          "data": {
            "text/plain": [
              "<matplotlib.axes._subplots.AxesSubplot at 0x7ffb00bb12d0>"
            ]
          },
          "metadata": {},
          "execution_count": 13
        },
        {
          "output_type": "display_data",
          "data": {
            "image/png": "[encoded data removed]",
            "text/plain": [
              "<Figure size 1080x504 with 1 Axes>"
            ]
          },
          "metadata": {
            "needs_background": "light"
          }
        }
      ]
    },
    {
      "cell_type": "markdown",
      "metadata": {
        "id": "a84gqD0KBykW"
      },
      "source": [
        "Removing columns that has high missing percentage."
      ]
    },
    {
      "cell_type": "code",
      "metadata": {
        "id": "UdEDl8yR93EM",
        "colab": {
          "base_uri": "https://localhost:8080/",
          "height": 334
        },
        "outputId": "5bb8d0f5-7a64-4438-c985-1ce1d669743b"
      },
      "source": [
        "df.drop(['Number', 'Precipitation(in)','Wind_Chill(F)'], axis = 1, inplace = True)"
      ],
      "execution_count": 16,
      "outputs": [
        {
          "output_type": "error",
          "ename": "KeyError",
          "evalue": "ignored",
          "traceback": [
            "\u001b[0;31m---------------------------------------------------------------------------\u001b[0m",
            "\u001b[0;31mKeyError\u001b[0m                                  Traceback (most recent call last)",
            "\u001b[0;32m<ipython-input-16-7a0772e43521>\u001b[0m in \u001b[0;36m<module>\u001b[0;34m()\u001b[0m\n\u001b[0;32m----> 1\u001b[0;31m \u001b[0mdf\u001b[0m\u001b[0;34m.\u001b[0m\u001b[0mdrop\u001b[0m\u001b[0;34m(\u001b[0m\u001b[0;34m[\u001b[0m\u001b[0;34m'Number'\u001b[0m\u001b[0;34m,\u001b[0m \u001b[0;34m'Precipitation(in)'\u001b[0m\u001b[0;34m,\u001b[0m\u001b[0;34m'Wind_Chill(F)'\u001b[0m\u001b[0;34m]\u001b[0m\u001b[0;34m,\u001b[0m \u001b[0maxis\u001b[0m \u001b[0;34m=\u001b[0m \u001b[0;36m1\u001b[0m\u001b[0;34m,\u001b[0m \u001b[0minplace\u001b[0m \u001b[0;34m=\u001b[0m \u001b[0;32mTrue\u001b[0m\u001b[0;34m)\u001b[0m\u001b[0;34m\u001b[0m\u001b[0;34m\u001b[0m\u001b[0m\n\u001b[0m\u001b[1;32m      2\u001b[0m \u001b[0mdf\u001b[0m\u001b[0;34m.\u001b[0m\u001b[0minfo\u001b[0m\u001b[0;34m(\u001b[0m\u001b[0;34m)\u001b[0m\u001b[0;34m\u001b[0m\u001b[0;34m\u001b[0m\u001b[0m\n",
            "\u001b[0;32m/usr/local/lib/python3.7/dist-packages/pandas/core/frame.py\u001b[0m in \u001b[0;36mdrop\u001b[0;34m(self, labels, axis, index, columns, level, inplace, errors)\u001b[0m\n\u001b[1;32m   4172\u001b[0m             \u001b[0mlevel\u001b[0m\u001b[0;34m=\u001b[0m\u001b[0mlevel\u001b[0m\u001b[0;34m,\u001b[0m\u001b[0;34m\u001b[0m\u001b[0;34m\u001b[0m\u001b[0m\n\u001b[1;32m   4173\u001b[0m             \u001b[0minplace\u001b[0m\u001b[0;34m=\u001b[0m\u001b[0minplace\u001b[0m\u001b[0;34m,\u001b[0m\u001b[0;34m\u001b[0m\u001b[0;34m\u001b[0m\u001b[0m\n\u001b[0;32m-> 4174\u001b[0;31m             \u001b[0merrors\u001b[0m\u001b[0;34m=\u001b[0m\u001b[0merrors\u001b[0m\u001b[0;34m,\u001b[0m\u001b[0;34m\u001b[0m\u001b[0;34m\u001b[0m\u001b[0m\n\u001b[0m\u001b[1;32m   4175\u001b[0m         )\n\u001b[1;32m   4176\u001b[0m \u001b[0;34m\u001b[0m\u001b[0m\n",
            "\u001b[0;32m/usr/local/lib/python3.7/dist-packages/pandas/core/generic.py\u001b[0m in \u001b[0;36mdrop\u001b[0;34m(self, labels, axis, index, columns, level, inplace, errors)\u001b[0m\n\u001b[1;32m   3887\u001b[0m         \u001b[0;32mfor\u001b[0m \u001b[0maxis\u001b[0m\u001b[0;34m,\u001b[0m \u001b[0mlabels\u001b[0m \u001b[0;32min\u001b[0m \u001b[0maxes\u001b[0m\u001b[0;34m.\u001b[0m\u001b[0mitems\u001b[0m\u001b[0;34m(\u001b[0m\u001b[0;34m)\u001b[0m\u001b[0;34m:\u001b[0m\u001b[0;34m\u001b[0m\u001b[0;34m\u001b[0m\u001b[0m\n\u001b[1;32m   3888\u001b[0m             \u001b[0;32mif\u001b[0m \u001b[0mlabels\u001b[0m \u001b[0;32mis\u001b[0m \u001b[0;32mnot\u001b[0m \u001b[0;32mNone\u001b[0m\u001b[0;34m:\u001b[0m\u001b[0;34m\u001b[0m\u001b[0;34m\u001b[0m\u001b[0m\n\u001b[0;32m-> 3889\u001b[0;31m                 \u001b[0mobj\u001b[0m \u001b[0;34m=\u001b[0m \u001b[0mobj\u001b[0m\u001b[0;34m.\u001b[0m\u001b[0m_drop_axis\u001b[0m\u001b[0;34m(\u001b[0m\u001b[0mlabels\u001b[0m\u001b[0;34m,\u001b[0m \u001b[0maxis\u001b[0m\u001b[0;34m,\u001b[0m \u001b[0mlevel\u001b[0m\u001b[0;34m=\u001b[0m\u001b[0mlevel\u001b[0m\u001b[0;34m,\u001b[0m \u001b[0merrors\u001b[0m\u001b[0;34m=\u001b[0m\u001b[0merrors\u001b[0m\u001b[0;34m)\u001b[0m\u001b[0;34m\u001b[0m\u001b[0;34m\u001b[0m\u001b[0m\n\u001b[0m\u001b[1;32m   3890\u001b[0m \u001b[0;34m\u001b[0m\u001b[0m\n\u001b[1;32m   3891\u001b[0m         \u001b[0;32mif\u001b[0m \u001b[0minplace\u001b[0m\u001b[0;34m:\u001b[0m\u001b[0;34m\u001b[0m\u001b[0;34m\u001b[0m\u001b[0m\n",
            "\u001b[0;32m/usr/local/lib/python3.7/dist-packages/pandas/core/generic.py\u001b[0m in \u001b[0;36m_drop_axis\u001b[0;34m(self, labels, axis, level, errors)\u001b[0m\n\u001b[1;32m   3921\u001b[0m                 \u001b[0mnew_axis\u001b[0m \u001b[0;34m=\u001b[0m \u001b[0maxis\u001b[0m\u001b[0;34m.\u001b[0m\u001b[0mdrop\u001b[0m\u001b[0;34m(\u001b[0m\u001b[0mlabels\u001b[0m\u001b[0;34m,\u001b[0m \u001b[0mlevel\u001b[0m\u001b[0;34m=\u001b[0m\u001b[0mlevel\u001b[0m\u001b[0;34m,\u001b[0m \u001b[0merrors\u001b[0m\u001b[0;34m=\u001b[0m\u001b[0merrors\u001b[0m\u001b[0;34m)\u001b[0m\u001b[0;34m\u001b[0m\u001b[0;34m\u001b[0m\u001b[0m\n\u001b[1;32m   3922\u001b[0m             \u001b[0;32melse\u001b[0m\u001b[0;34m:\u001b[0m\u001b[0;34m\u001b[0m\u001b[0;34m\u001b[0m\u001b[0m\n\u001b[0;32m-> 3923\u001b[0;31m                 \u001b[0mnew_axis\u001b[0m \u001b[0;34m=\u001b[0m \u001b[0maxis\u001b[0m\u001b[0;34m.\u001b[0m\u001b[0mdrop\u001b[0m\u001b[0;34m(\u001b[0m\u001b[0mlabels\u001b[0m\u001b[0;34m,\u001b[0m \u001b[0merrors\u001b[0m\u001b[0;34m=\u001b[0m\u001b[0merrors\u001b[0m\u001b[0;34m)\u001b[0m\u001b[0;34m\u001b[0m\u001b[0;34m\u001b[0m\u001b[0m\n\u001b[0m\u001b[1;32m   3924\u001b[0m             \u001b[0mresult\u001b[0m \u001b[0;34m=\u001b[0m \u001b[0mself\u001b[0m\u001b[0;34m.\u001b[0m\u001b[0mreindex\u001b[0m\u001b[0;34m(\u001b[0m\u001b[0;34m**\u001b[0m\u001b[0;34m{\u001b[0m\u001b[0maxis_name\u001b[0m\u001b[0;34m:\u001b[0m \u001b[0mnew_axis\u001b[0m\u001b[0;34m}\u001b[0m\u001b[0;34m)\u001b[0m\u001b[0;34m\u001b[0m\u001b[0;34m\u001b[0m\u001b[0m\n\u001b[1;32m   3925\u001b[0m \u001b[0;34m\u001b[0m\u001b[0m\n",
            "\u001b[0;32m/usr/local/lib/python3.7/dist-packages/pandas/core/indexes/base.py\u001b[0m in \u001b[0;36mdrop\u001b[0;34m(self, labels, errors)\u001b[0m\n\u001b[1;32m   5285\u001b[0m         \u001b[0;32mif\u001b[0m \u001b[0mmask\u001b[0m\u001b[0;34m.\u001b[0m\u001b[0many\u001b[0m\u001b[0;34m(\u001b[0m\u001b[0;34m)\u001b[0m\u001b[0;34m:\u001b[0m\u001b[0;34m\u001b[0m\u001b[0;34m\u001b[0m\u001b[0m\n\u001b[1;32m   5286\u001b[0m             \u001b[0;32mif\u001b[0m \u001b[0merrors\u001b[0m \u001b[0;34m!=\u001b[0m \u001b[0;34m\"ignore\"\u001b[0m\u001b[0;34m:\u001b[0m\u001b[0;34m\u001b[0m\u001b[0;34m\u001b[0m\u001b[0m\n\u001b[0;32m-> 5287\u001b[0;31m                 \u001b[0;32mraise\u001b[0m \u001b[0mKeyError\u001b[0m\u001b[0;34m(\u001b[0m\u001b[0;34mf\"{labels[mask]} not found in axis\"\u001b[0m\u001b[0;34m)\u001b[0m\u001b[0;34m\u001b[0m\u001b[0;34m\u001b[0m\u001b[0m\n\u001b[0m\u001b[1;32m   5288\u001b[0m             \u001b[0mindexer\u001b[0m \u001b[0;34m=\u001b[0m \u001b[0mindexer\u001b[0m\u001b[0;34m[\u001b[0m\u001b[0;34m~\u001b[0m\u001b[0mmask\u001b[0m\u001b[0;34m]\u001b[0m\u001b[0;34m\u001b[0m\u001b[0;34m\u001b[0m\u001b[0m\n\u001b[1;32m   5289\u001b[0m         \u001b[0;32mreturn\u001b[0m \u001b[0mself\u001b[0m\u001b[0;34m.\u001b[0m\u001b[0mdelete\u001b[0m\u001b[0;34m(\u001b[0m\u001b[0mindexer\u001b[0m\u001b[0;34m)\u001b[0m\u001b[0;34m\u001b[0m\u001b[0;34m\u001b[0m\u001b[0m\n",
            "\u001b[0;31mKeyError\u001b[0m: \"['Number' 'Precipitation(in)' 'Wind_Chill(F)'] not found in axis\""
          ]
        }
      ]
    },
    {
      "cell_type": "code",
      "metadata": {
        "colab": {
          "base_uri": "https://localhost:8080/"
        },
        "id": "t3uNkmGfZc2T",
        "outputId": "7404c620-9e94-4a24-cd5e-25ba9aa72eef"
      },
      "source": [
        "df.info()"
      ],
      "execution_count": 17,
      "outputs": [
        {
          "output_type": "stream",
          "text": [
            "<class 'pandas.core.frame.DataFrame'>\n",
            "RangeIndex: 2906610 entries, 0 to 2906609\n",
            "Data columns (total 44 columns):\n",
            " #   Column                 Dtype  \n",
            "---  ------                 -----  \n",
            " 0   ID                     object \n",
            " 1   Severity               int64  \n",
            " 2   Start_Time             object \n",
            " 3   End_Time               object \n",
            " 4   Start_Lat              float64\n",
            " 5   Start_Lng              float64\n",
            " 6   End_Lat                float64\n",
            " 7   End_Lng                float64\n",
            " 8   Distance(mi)           float64\n",
            " 9   Description            object \n",
            " 10  Street                 object \n",
            " 11  Side                   object \n",
            " 12  City                   object \n",
            " 13  County                 object \n",
            " 14  State                  object \n",
            " 15  Zipcode                object \n",
            " 16  Country                object \n",
            " 17  Timezone               object \n",
            " 18  Airport_Code           object \n",
            " 19  Weather_Timestamp      object \n",
            " 20  Temperature(F)         float64\n",
            " 21  Humidity(%)            float64\n",
            " 22  Pressure(in)           float64\n",
            " 23  Visibility(mi)         float64\n",
            " 24  Wind_Direction         object \n",
            " 25  Wind_Speed(mph)        float64\n",
            " 26  Weather_Condition      object \n",
            " 27  Amenity                bool   \n",
            " 28  Bump                   bool   \n",
            " 29  Crossing               bool   \n",
            " 30  Give_Way               bool   \n",
            " 31  Junction               bool   \n",
            " 32  No_Exit                bool   \n",
            " 33  Railway                bool   \n",
            " 34  Roundabout             bool   \n",
            " 35  Station                bool   \n",
            " 36  Stop                   bool   \n",
            " 37  Traffic_Calming        bool   \n",
            " 38  Traffic_Signal         bool   \n",
            " 39  Turning_Loop           bool   \n",
            " 40  Sunrise_Sunset         object \n",
            " 41  Civil_Twilight         object \n",
            " 42  Nautical_Twilight      object \n",
            " 43  Astronomical_Twilight  object \n",
            "dtypes: bool(13), float64(10), int64(1), object(20)\n",
            "memory usage: 723.5+ MB\n"
          ],
          "name": "stdout"
        }
      ]
    },
    {
      "cell_type": "markdown",
      "metadata": {
        "id": "RvM47Xfp7X36"
      },
      "source": [
        "## Exploratory Analysis and Visualization\n",
        "\n",
        "Columns chosen for analysis:\n",
        "\n",
        "1. City\n",
        "2. Start Time\n",
        "3. Start Lat, Start Lng\n",
        "4. Temperature\n",
        "5. Weather Condition"
      ]
    },
    {
      "cell_type": "code",
      "metadata": {
        "colab": {
          "base_uri": "https://localhost:8080/"
        },
        "id": "uiEYZ3Q9B44q",
        "outputId": "03dc42bc-5177-4a1e-d2a6-cf62fffc95cb"
      },
      "source": [
        "df.columns"
      ],
      "execution_count": 18,
      "outputs": [
        {
          "output_type": "execute_result",
          "data": {
            "text/plain": [
              "Index(['ID', 'Severity', 'Start_Time', 'End_Time', 'Start_Lat', 'Start_Lng',\n",
              "       'End_Lat', 'End_Lng', 'Distance(mi)', 'Description', 'Street', 'Side',\n",
              "       'City', 'County', 'State', 'Zipcode', 'Country', 'Timezone',\n",
              "       'Airport_Code', 'Weather_Timestamp', 'Temperature(F)', 'Humidity(%)',\n",
              "       'Pressure(in)', 'Visibility(mi)', 'Wind_Direction', 'Wind_Speed(mph)',\n",
              "       'Weather_Condition', 'Amenity', 'Bump', 'Crossing', 'Give_Way',\n",
              "       'Junction', 'No_Exit', 'Railway', 'Roundabout', 'Station', 'Stop',\n",
              "       'Traffic_Calming', 'Traffic_Signal', 'Turning_Loop', 'Sunrise_Sunset',\n",
              "       'Civil_Twilight', 'Nautical_Twilight', 'Astronomical_Twilight'],\n",
              "      dtype='object')"
            ]
          },
          "metadata": {},
          "execution_count": 18
        }
      ]
    },
    {
      "cell_type": "markdown",
      "metadata": {
        "id": "3rz2quexIZac"
      },
      "source": [
        "### City"
      ]
    },
    {
      "cell_type": "code",
      "metadata": {
        "colab": {
          "base_uri": "https://localhost:8080/"
        },
        "id": "gcdVkqfpB4oK",
        "outputId": "35bbcbc0-75bd-4522-badf-a47ac92acba6"
      },
      "source": [
        "df.City"
      ],
      "execution_count": 19,
      "outputs": [
        {
          "output_type": "execute_result",
          "data": {
            "text/plain": [
              "0                Greenville\n",
              "1                 Charlotte\n",
              "2                 Los Gatos\n",
              "3               Carson City\n",
              "4           Fort Lauderdale\n",
              "                 ...       \n",
              "2906605             Houston\n",
              "2906606              Colton\n",
              "2906607               Miami\n",
              "2906608      Salt Lake City\n",
              "2906609    Colorado Springs\n",
              "Name: City, Length: 2906610, dtype: object"
            ]
          },
          "metadata": {},
          "execution_count": 19
        }
      ]
    },
    {
      "cell_type": "markdown",
      "metadata": {
        "id": "ju5g8ZVrVSmL"
      },
      "source": [
        "Total number of Cities in the Dataset"
      ]
    },
    {
      "cell_type": "code",
      "metadata": {
        "colab": {
          "base_uri": "https://localhost:8080/"
        },
        "id": "lK5ve5iWB4lI",
        "outputId": "e0367fdb-f94a-49fd-db06-ed625f905bb2"
      },
      "source": [
        "cities = df.City.unique()\n",
        "len(cities)"
      ],
      "execution_count": 20,
      "outputs": [
        {
          "output_type": "execute_result",
          "data": {
            "text/plain": [
              "11790"
            ]
          },
          "metadata": {},
          "execution_count": 20
        }
      ]
    },
    {
      "cell_type": "markdown",
      "metadata": {
        "id": "rkSO-OMkVYpZ"
      },
      "source": [
        "No. of Accidents occured in each city"
      ]
    },
    {
      "cell_type": "code",
      "metadata": {
        "colab": {
          "base_uri": "https://localhost:8080/"
        },
        "id": "LmgK4XQ0B4dy",
        "outputId": "97a379f9-e4f6-46bd-9a17-01b5d5cb1729"
      },
      "source": [
        "cities_by_accident = df.City.value_counts()\n",
        "cities_by_accident"
      ],
      "execution_count": 21,
      "outputs": [
        {
          "output_type": "execute_result",
          "data": {
            "text/plain": [
              "Los Angeles    68411\n",
              "Houston        68265\n",
              "Charlotte      56176\n",
              "Miami          49965\n",
              "Dallas         48525\n",
              "               ...  \n",
              "Osawatomie         1\n",
              "Minong             1\n",
              "Hurdsfield         1\n",
              "Wainscott          1\n",
              "Concord Twp        1\n",
              "Name: City, Length: 11789, dtype: int64"
            ]
          },
          "metadata": {},
          "execution_count": 21
        }
      ]
    },
    {
      "cell_type": "markdown",
      "metadata": {
        "id": "7seXwOBlVmk-"
      },
      "source": [
        "Top 20 Cities with high occurance of accidents"
      ]
    },
    {
      "cell_type": "code",
      "metadata": {
        "colab": {
          "base_uri": "https://localhost:8080/"
        },
        "id": "X0nan3xu7Vtq",
        "outputId": "4d5d3f0b-3660-4515-f704-30f1f40be1ee"
      },
      "source": [
        "cities_by_accident[:20]"
      ],
      "execution_count": 22,
      "outputs": [
        {
          "output_type": "execute_result",
          "data": {
            "text/plain": [
              "Los Angeles      68411\n",
              "Houston          68265\n",
              "Charlotte        56176\n",
              "Miami            49965\n",
              "Dallas           48525\n",
              "Austin           38808\n",
              "Raleigh          31355\n",
              "Atlanta          29244\n",
              "Sacramento       28984\n",
              "Orlando          28092\n",
              "Nashville        25277\n",
              "Baton Rouge      25080\n",
              "Minneapolis      22469\n",
              "San Diego        22329\n",
              "Phoenix          21370\n",
              "Oklahoma City    21292\n",
              "Portland         19432\n",
              "Richmond         18343\n",
              "Seattle          17384\n",
              "Saint Paul       17266\n",
              "Name: City, dtype: int64"
            ]
          },
          "metadata": {},
          "execution_count": 22
        }
      ]
    },
    {
      "cell_type": "code",
      "metadata": {
        "colab": {
          "base_uri": "https://localhost:8080/"
        },
        "id": "5FLQkPvZFuF8",
        "outputId": "b38dff57-3906-4a88-fe50-d01b87302195"
      },
      "source": [
        "type(cities_by_accident)"
      ],
      "execution_count": 23,
      "outputs": [
        {
          "output_type": "execute_result",
          "data": {
            "text/plain": [
              "pandas.core.series.Series"
            ]
          },
          "metadata": {},
          "execution_count": 23
        }
      ]
    },
    {
      "cell_type": "markdown",
      "metadata": {
        "id": "XN3uMbjnVvaW"
      },
      "source": [
        "Visualising Top 20 cities by occcurance of ccidents "
      ]
    },
    {
      "cell_type": "code",
      "metadata": {
        "colab": {
          "base_uri": "https://localhost:8080/",
          "height": 445
        },
        "id": "uq4X__76EvDy",
        "outputId": "aa30d433-a715-4e73-d501-d49956918fe0"
      },
      "source": [
        "x = cities_by_accident[:20]\n",
        "plt.figure(figsize=(15,7))\n",
        "cities_by_accident[:20].plot(kind='barh')"
      ],
      "execution_count": 24,
      "outputs": [
        {
          "output_type": "execute_result",
          "data": {
            "text/plain": [
              "<matplotlib.axes._subplots.AxesSubplot at 0x7ffaff8762d0>"
            ]
          },
          "metadata": {},
          "execution_count": 24
        },
        {
          "output_type": "display_data",
          "data": {
            "image/png": "[encoded data removed]",
            "text/plain": [
              "<Figure size 1080x504 with 1 Axes>"
            ]
          },
          "metadata": {
            "needs_background": "light"
          }
        }
      ]
    },
    {
      "cell_type": "code",
      "metadata": {
        "id": "IarEBz5OEvAn"
      },
      "source": [
        "import seaborn as sns\n",
        "sns.set_style(\"darkgrid\")"
      ],
      "execution_count": 25,
      "outputs": []
    },
    {
      "cell_type": "code",
      "metadata": {
        "colab": {
          "base_uri": "https://localhost:8080/",
          "height": 463
        },
        "id": "kCuWqfPCFnSu",
        "outputId": "145a850e-d688-4ae5-d79a-62fd7825853d"
      },
      "source": [
        "plt.figure(figsize=(15,7))\n",
        "sns.histplot(cities_by_accident, log_scale=True)"
      ],
      "execution_count": 26,
      "outputs": [
        {
          "output_type": "execute_result",
          "data": {
            "text/plain": [
              "<matplotlib.axes._subplots.AxesSubplot at 0x7ffaf0741890>"
            ]
          },
          "metadata": {},
          "execution_count": 26
        },
        {
          "output_type": "display_data",
          "data": {
            "image/png": "[encoded data removed]",
            "text/plain": [
              "<Figure size 1080x504 with 1 Axes>"
            ]
          },
          "metadata": {}
        }
      ]
    },
    {
      "cell_type": "markdown",
      "metadata": {
        "id": "y1X3-aKIWmsm"
      },
      "source": [
        "Cities which had only one accident "
      ]
    },
    {
      "cell_type": "code",
      "metadata": {
        "colab": {
          "base_uri": "https://localhost:8080/"
        },
        "id": "j8GBvN1XHeKL",
        "outputId": "5abcd046-b1bc-4899-817e-fcd106506f8c"
      },
      "source": [
        "cities_by_accident[cities_by_accident == 1]"
      ],
      "execution_count": 27,
      "outputs": [
        {
          "output_type": "execute_result",
          "data": {
            "text/plain": [
              "Belle Fourche    1\n",
              "Merna            1\n",
              "Colmesneil       1\n",
              "South Hampton    1\n",
              "Valley Spring    1\n",
              "                ..\n",
              "Osawatomie       1\n",
              "Minong           1\n",
              "Hurdsfield       1\n",
              "Wainscott        1\n",
              "Concord Twp      1\n",
              "Name: City, Length: 1306, dtype: int64"
            ]
          },
          "metadata": {},
          "execution_count": 27
        }
      ]
    },
    {
      "cell_type": "markdown",
      "metadata": {
        "id": "8AaFn5YrRnTn"
      },
      "source": [
        "Top 10 States which incoprates top cities by number of accidents"
      ]
    },
    {
      "cell_type": "code",
      "metadata": {
        "colab": {
          "base_uri": "https://localhost:8080/",
          "height": 414
        },
        "id": "COsjteurCqtg",
        "outputId": "5a10273a-23d7-4c09-fd2f-9b28d2afe2c1"
      },
      "source": [
        "dfgp = df.groupby(['State', 'City']).City.count().to_frame().rename(columns={'City': 'Count'}).reset_index()\n",
        "dfgp = dfgp.sort_values(by='Count',ascending=False)\n",
        "dfgp_100 =  dfgp.head(100)\n",
        "dfgp_100"
      ],
      "execution_count": 28,
      "outputs": [
        {
          "output_type": "execute_result",
          "data": {
            "text/html": [
              "<div>\n",
              "<style scoped>\n",
              "    .dataframe tbody tr th:only-of-type {\n",
              "        vertical-align: middle;\n",
              "    }\n",
              "\n",
              "    .dataframe tbody tr th {\n",
              "        vertical-align: top;\n",
              "    }\n",
              "\n",
              "    .dataframe thead th {\n",
              "        text-align: right;\n",
              "    }\n",
              "</style>\n",
              "<table border=\"1\" class=\"dataframe\">\n",
              "  <thead>\n",
              "    <tr style=\"text-align: right;\">\n",
              "      <th></th>\n",
              "      <th>State</th>\n",
              "      <th>City</th>\n",
              "      <th>Count</th>\n",
              "    </tr>\n",
              "  </thead>\n",
              "  <tbody>\n",
              "    <tr>\n",
              "      <th>1422</th>\n",
              "      <td>CA</td>\n",
              "      <td>Los Angeles</td>\n",
              "      <td>68411</td>\n",
              "    </tr>\n",
              "    <tr>\n",
              "      <th>14754</th>\n",
              "      <td>TX</td>\n",
              "      <td>Houston</td>\n",
              "      <td>68191</td>\n",
              "    </tr>\n",
              "    <tr>\n",
              "      <th>8642</th>\n",
              "      <td>NC</td>\n",
              "      <td>Charlotte</td>\n",
              "      <td>56038</td>\n",
              "    </tr>\n",
              "    <tr>\n",
              "      <th>2874</th>\n",
              "      <td>FL</td>\n",
              "      <td>Miami</td>\n",
              "      <td>49913</td>\n",
              "    </tr>\n",
              "    <tr>\n",
              "      <th>14618</th>\n",
              "      <td>TX</td>\n",
              "      <td>Dallas</td>\n",
              "      <td>48266</td>\n",
              "    </tr>\n",
              "    <tr>\n",
              "      <th>...</th>\n",
              "      <td>...</td>\n",
              "      <td>...</td>\n",
              "      <td>...</td>\n",
              "    </tr>\n",
              "    <tr>\n",
              "      <th>1617</th>\n",
              "      <td>CA</td>\n",
              "      <td>Pasadena</td>\n",
              "      <td>3958</td>\n",
              "    </tr>\n",
              "    <tr>\n",
              "      <th>15743</th>\n",
              "      <td>VA</td>\n",
              "      <td>Norfolk</td>\n",
              "      <td>3905</td>\n",
              "    </tr>\n",
              "    <tr>\n",
              "      <th>1402</th>\n",
              "      <td>CA</td>\n",
              "      <td>Livermore</td>\n",
              "      <td>3903</td>\n",
              "    </tr>\n",
              "    <tr>\n",
              "      <th>2067</th>\n",
              "      <td>CO</td>\n",
              "      <td>Colorado Springs</td>\n",
              "      <td>3824</td>\n",
              "    </tr>\n",
              "    <tr>\n",
              "      <th>13753</th>\n",
              "      <td>RI</td>\n",
              "      <td>Providence</td>\n",
              "      <td>3818</td>\n",
              "    </tr>\n",
              "  </tbody>\n",
              "</table>\n",
              "<p>100 rows × 3 columns</p>\n",
              "</div>"
            ],
            "text/plain": [
              "      State              City  Count\n",
              "1422     CA       Los Angeles  68411\n",
              "14754    TX           Houston  68191\n",
              "8642     NC         Charlotte  56038\n",
              "2874     FL             Miami  49913\n",
              "14618    TX            Dallas  48266\n",
              "...     ...               ...    ...\n",
              "1617     CA          Pasadena   3958\n",
              "15743    VA           Norfolk   3905\n",
              "1402     CA         Livermore   3903\n",
              "2067     CO  Colorado Springs   3824\n",
              "13753    RI        Providence   3818\n",
              "\n",
              "[100 rows x 3 columns]"
            ]
          },
          "metadata": {},
          "execution_count": 28
        }
      ]
    },
    {
      "cell_type": "code",
      "metadata": {
        "colab": {
          "base_uri": "https://localhost:8080/",
          "height": 355
        },
        "id": "xC7gpn-AN1C9",
        "outputId": "398f13f5-ef51-4543-fd7f-376b4ef573d3"
      },
      "source": [
        "dftopstate = dfgp_100.groupby(['State']).Count.sum().sort_values(ascending=False).head(10).reset_index()\n",
        "dftopstate\n"
      ],
      "execution_count": 29,
      "outputs": [
        {
          "output_type": "execute_result",
          "data": {
            "text/html": [
              "<div>\n",
              "<style scoped>\n",
              "    .dataframe tbody tr th:only-of-type {\n",
              "        vertical-align: middle;\n",
              "    }\n",
              "\n",
              "    .dataframe tbody tr th {\n",
              "        vertical-align: top;\n",
              "    }\n",
              "\n",
              "    .dataframe thead th {\n",
              "        text-align: right;\n",
              "    }\n",
              "</style>\n",
              "<table border=\"1\" class=\"dataframe\">\n",
              "  <thead>\n",
              "    <tr style=\"text-align: right;\">\n",
              "      <th></th>\n",
              "      <th>State</th>\n",
              "      <th>Count</th>\n",
              "    </tr>\n",
              "  </thead>\n",
              "  <tbody>\n",
              "    <tr>\n",
              "      <th>0</th>\n",
              "      <td>CA</td>\n",
              "      <td>293209</td>\n",
              "    </tr>\n",
              "    <tr>\n",
              "      <th>1</th>\n",
              "      <td>TX</td>\n",
              "      <td>185773</td>\n",
              "    </tr>\n",
              "    <tr>\n",
              "      <th>2</th>\n",
              "      <td>FL</td>\n",
              "      <td>153855</td>\n",
              "    </tr>\n",
              "    <tr>\n",
              "      <th>3</th>\n",
              "      <td>NC</td>\n",
              "      <td>87388</td>\n",
              "    </tr>\n",
              "    <tr>\n",
              "      <th>4</th>\n",
              "      <td>LA</td>\n",
              "      <td>42082</td>\n",
              "    </tr>\n",
              "    <tr>\n",
              "      <th>5</th>\n",
              "      <td>MN</td>\n",
              "      <td>39636</td>\n",
              "    </tr>\n",
              "    <tr>\n",
              "      <th>6</th>\n",
              "      <td>TN</td>\n",
              "      <td>36091</td>\n",
              "    </tr>\n",
              "    <tr>\n",
              "      <th>7</th>\n",
              "      <td>NY</td>\n",
              "      <td>35349</td>\n",
              "    </tr>\n",
              "    <tr>\n",
              "      <th>8</th>\n",
              "      <td>AZ</td>\n",
              "      <td>34701</td>\n",
              "    </tr>\n",
              "    <tr>\n",
              "      <th>9</th>\n",
              "      <td>GA</td>\n",
              "      <td>34131</td>\n",
              "    </tr>\n",
              "  </tbody>\n",
              "</table>\n",
              "</div>"
            ],
            "text/plain": [
              "  State   Count\n",
              "0    CA  293209\n",
              "1    TX  185773\n",
              "2    FL  153855\n",
              "3    NC   87388\n",
              "4    LA   42082\n",
              "5    MN   39636\n",
              "6    TN   36091\n",
              "7    NY   35349\n",
              "8    AZ   34701\n",
              "9    GA   34131"
            ]
          },
          "metadata": {},
          "execution_count": 29
        }
      ]
    },
    {
      "cell_type": "code",
      "metadata": {
        "colab": {
          "base_uri": "https://localhost:8080/",
          "height": 457
        },
        "id": "3gtVi2bJQ86x",
        "outputId": "fbc107f9-383a-4c5c-f2d7-963443cab928"
      },
      "source": [
        "plt.figure(figsize= (15,7))\n",
        "plt.barh(dftopstate.State, dftopstate.Count)\n",
        "plt.xlabel('Number of Accidents')\n",
        "plt.ylabel('States')\n",
        "plt.title('Top 10 States which incoprates top cities by number of accidents')\n",
        "plt.grid(True)\n",
        "plt.show()"
      ],
      "execution_count": 30,
      "outputs": [
        {
          "output_type": "display_data",
          "data": {
            "image/png": "[encoded data removed]",
            "text/plain": [
              "<Figure size 1080x504 with 1 Axes>"
            ]
          },
          "metadata": {}
        }
      ]
    },
    {
      "cell_type": "markdown",
      "metadata": {
        "id": "23vI2-8iIUui"
      },
      "source": [
        "### Start Time"
      ]
    },
    {
      "cell_type": "markdown",
      "metadata": {
        "id": "N-U5Hkp8W8AS"
      },
      "source": [
        "Analysis by the time at which the accident occured."
      ]
    },
    {
      "cell_type": "code",
      "metadata": {
        "colab": {
          "base_uri": "https://localhost:8080/"
        },
        "id": "juz0_WHIILWU",
        "outputId": "71c8d801-e463-42f6-bed2-f51771166f59"
      },
      "source": [
        "df.Start_Time"
      ],
      "execution_count": 32,
      "outputs": [
        {
          "output_type": "execute_result",
          "data": {
            "text/plain": [
              "0          2019-05-21 08:29:55\n",
              "1          2019-10-07 17:43:09\n",
              "2          2020-12-13 21:53:00\n",
              "3          2018-04-17 16:51:23\n",
              "4          2016-08-31 17:40:49\n",
              "                  ...         \n",
              "2906605    2018-06-28 08:49:01\n",
              "2906606    2019-01-10 02:01:01\n",
              "2906607    2020-11-23 12:52:00\n",
              "2906608    2019-12-29 22:38:00\n",
              "2906609    2018-03-26 13:35:03\n",
              "Name: Start_Time, Length: 2906610, dtype: object"
            ]
          },
          "metadata": {},
          "execution_count": 32
        }
      ]
    },
    {
      "cell_type": "markdown",
      "metadata": {
        "id": "QoQqx_tYXXaz"
      },
      "source": [
        "Changing the Start_time data type to datetime data type for further analysis"
      ]
    },
    {
      "cell_type": "code",
      "metadata": {
        "id": "a7R3_lA2ILTc"
      },
      "source": [
        "df.Start_Time = pd.to_datetime(df.Start_Time)"
      ],
      "execution_count": 33,
      "outputs": []
    },
    {
      "cell_type": "markdown",
      "metadata": {
        "id": "Ir0pHVurKpNe"
      },
      "source": [
        "- Figure out how to show percentages"
      ]
    },
    {
      "cell_type": "markdown",
      "metadata": {
        "id": "0L-rniX0ZGcX"
      },
      "source": [
        "Visualising accident occurance in a hourly basis."
      ]
    },
    {
      "cell_type": "code",
      "metadata": {
        "colab": {
          "base_uri": "https://localhost:8080/",
          "height": 353
        },
        "id": "V_XF4vTdHeHb",
        "outputId": "4ad684a1-7f52-4924-dcbb-b68481b30eae"
      },
      "source": [
        "sns.distplot(df.Start_Time.dt.hour, bins=24, kde=False, norm_hist=True)"
      ],
      "execution_count": 34,
      "outputs": [
        {
          "output_type": "stream",
          "text": [
            "/usr/local/lib/python3.7/dist-packages/seaborn/distributions.py:2557: FutureWarning: `distplot` is a deprecated function and will be removed in a future version. Please adapt your code to use either `displot` (a figure-level function with similar flexibility) or `histplot` (an axes-level function for histograms).\n",
            "  warnings.warn(msg, FutureWarning)\n"
          ],
          "name": "stderr"
        },
        {
          "output_type": "execute_result",
          "data": {
            "text/plain": [
              "<matplotlib.axes._subplots.AxesSubplot at 0x7ffaf0396d10>"
            ]
          },
          "metadata": {},
          "execution_count": 34
        },
        {
          "output_type": "display_data",
          "data": {
            "image/png": "[encoded data removed]",
            "text/plain": [
              "<Figure size 432x288 with 1 Axes>"
            ]
          },
          "metadata": {}
        }
      ]
    },
    {
      "cell_type": "markdown",
      "metadata": {
        "id": "i6RsW8PZK1nY"
      },
      "source": [
        "- A high percentage of accidents occur between 6 am to 10 am (probably people are in a hurry to get to work)\n",
        "- Next higest percentage is 3 pm to 6 pm."
      ]
    },
    {
      "cell_type": "markdown",
      "metadata": {
        "id": "IpN8fVyOZ1sJ"
      },
      "source": [
        "Visualising accident occurance on each day in a weekly basis."
      ]
    },
    {
      "cell_type": "code",
      "metadata": {
        "colab": {
          "base_uri": "https://localhost:8080/",
          "height": 353
        },
        "id": "adct6zrOJS4j",
        "outputId": "61d211d1-24b8-4db2-b218-3a3b19168285"
      },
      "source": [
        "sns.distplot(df.Start_Time.dt.dayofweek, bins=7, kde=False, norm_hist=True)"
      ],
      "execution_count": 35,
      "outputs": [
        {
          "output_type": "stream",
          "text": [
            "/usr/local/lib/python3.7/dist-packages/seaborn/distributions.py:2557: FutureWarning: `distplot` is a deprecated function and will be removed in a future version. Please adapt your code to use either `displot` (a figure-level function with similar flexibility) or `histplot` (an axes-level function for histograms).\n",
            "  warnings.warn(msg, FutureWarning)\n"
          ],
          "name": "stderr"
        },
        {
          "output_type": "execute_result",
          "data": {
            "text/plain": [
              "<matplotlib.axes._subplots.AxesSubplot at 0x7ffaf02bb1d0>"
            ]
          },
          "metadata": {},
          "execution_count": 35
        },
        {
          "output_type": "display_data",
          "data": {
            "image/png": "[encoded data removed]",
            "text/plain": [
              "<Figure size 432x288 with 1 Axes>"
            ]
          },
          "metadata": {}
        }
      ]
    },
    {
      "cell_type": "markdown",
      "metadata": {
        "id": "aQ50kcMiaYDD"
      },
      "source": [
        "Accidents occurance are high in weekdays and are less on weekends(Saturday & Sunday) "
      ]
    },
    {
      "cell_type": "markdown",
      "metadata": {
        "id": "xIMI1CEeL_vs"
      },
      "source": [
        "Is the distribution of accidents by hour the same on weekends as on weekdays."
      ]
    },
    {
      "cell_type": "code",
      "metadata": {
        "colab": {
          "base_uri": "https://localhost:8080/",
          "height": 353
        },
        "id": "BJiZUABzJS16",
        "outputId": "feb26c57-8c99-48bd-d6eb-c7bf3d5969f7"
      },
      "source": [
        "sundays_start_time = df.Start_Time[df.Start_Time.dt.dayofweek == 6]\n",
        "sns.distplot(sundays_start_time.dt.hour, bins=24, kde=False, norm_hist=True)"
      ],
      "execution_count": 36,
      "outputs": [
        {
          "output_type": "stream",
          "text": [
            "/usr/local/lib/python3.7/dist-packages/seaborn/distributions.py:2557: FutureWarning: `distplot` is a deprecated function and will be removed in a future version. Please adapt your code to use either `displot` (a figure-level function with similar flexibility) or `histplot` (an axes-level function for histograms).\n",
            "  warnings.warn(msg, FutureWarning)\n"
          ],
          "name": "stderr"
        },
        {
          "output_type": "execute_result",
          "data": {
            "text/plain": [
              "<matplotlib.axes._subplots.AxesSubplot at 0x7ffaf0316b10>"
            ]
          },
          "metadata": {},
          "execution_count": 36
        },
        {
          "output_type": "display_data",
          "data": {
            "image/png": "[encoded data removed]",
            "text/plain": [
              "<Figure size 432x288 with 1 Axes>"
            ]
          },
          "metadata": {}
        }
      ]
    },
    {
      "cell_type": "code",
      "metadata": {
        "colab": {
          "base_uri": "https://localhost:8080/",
          "height": 353
        },
        "id": "q4AEgnRKEAMS",
        "outputId": "c7146752-eb5f-43f3-af88-322bf3fefc10"
      },
      "source": [
        "monday_start_time = df.Start_Time[df.Start_Time.dt.dayofweek == 0]\n",
        "sns.distplot(monday_start_time.dt.hour, bins=24, kde=False, norm_hist=True)"
      ],
      "execution_count": 37,
      "outputs": [
        {
          "output_type": "stream",
          "text": [
            "/usr/local/lib/python3.7/dist-packages/seaborn/distributions.py:2557: FutureWarning: `distplot` is a deprecated function and will be removed in a future version. Please adapt your code to use either `displot` (a figure-level function with similar flexibility) or `histplot` (an axes-level function for histograms).\n",
            "  warnings.warn(msg, FutureWarning)\n"
          ],
          "name": "stderr"
        },
        {
          "output_type": "execute_result",
          "data": {
            "text/plain": [
              "<matplotlib.axes._subplots.AxesSubplot at 0x7ffaf01bd0d0>"
            ]
          },
          "metadata": {},
          "execution_count": 37
        },
        {
          "output_type": "display_data",
          "data": {
            "image/png": "[encoded data removed]",
            "text/plain": [
              "<Figure size 432x288 with 1 Axes>"
            ]
          },
          "metadata": {}
        }
      ]
    },
    {
      "cell_type": "markdown",
      "metadata": {
        "id": "JwEdvO-oMt6h"
      },
      "source": [
        "On Sundays, the peak occurs between 10 am and 3 pm, unlike weekdays"
      ]
    },
    {
      "cell_type": "code",
      "metadata": {
        "colab": {
          "base_uri": "https://localhost:8080/",
          "height": 353
        },
        "id": "QDl-kmzffhyz",
        "outputId": "012e2034-d5d0-4286-b4a1-8d880eb446dd"
      },
      "source": [
        "sns.distplot(df.Start_Time.dt.month, bins=12, kde=False, norm_hist=True)"
      ],
      "execution_count": 38,
      "outputs": [
        {
          "output_type": "stream",
          "text": [
            "/usr/local/lib/python3.7/dist-packages/seaborn/distributions.py:2557: FutureWarning: `distplot` is a deprecated function and will be removed in a future version. Please adapt your code to use either `displot` (a figure-level function with similar flexibility) or `histplot` (an axes-level function for histograms).\n",
            "  warnings.warn(msg, FutureWarning)\n"
          ],
          "name": "stderr"
        },
        {
          "output_type": "execute_result",
          "data": {
            "text/plain": [
              "<matplotlib.axes._subplots.AxesSubplot at 0x7ffaf03bdcd0>"
            ]
          },
          "metadata": {},
          "execution_count": 38
        },
        {
          "output_type": "display_data",
          "data": {
            "image/png": "[encoded data removed]",
            "text/plain": [
              "<Figure size 432x288 with 1 Axes>"
            ]
          },
          "metadata": {}
        }
      ]
    },
    {
      "cell_type": "markdown",
      "metadata": {
        "id": "b9su1m7_fscj"
      },
      "source": [
        "It seems that occurance of accidents is high during winter season when compared to other seasons.\n",
        "Lets verify the same that do accidents occure frequenntly during winter season every year."
      ]
    },
    {
      "cell_type": "code",
      "metadata": {
        "colab": {
          "base_uri": "https://localhost:8080/",
          "height": 353
        },
        "id": "lo9x_4SFhWKw",
        "outputId": "a9cd2848-5b08-419c-c472-60e4e34c7589"
      },
      "source": [
        "df_year = df[df.Start_Time.dt.year == 2016]\n",
        "sns.distplot(df_year.Start_Time.dt.month, bins=12, kde=False, norm_hist=True)"
      ],
      "execution_count": 39,
      "outputs": [
        {
          "output_type": "stream",
          "text": [
            "/usr/local/lib/python3.7/dist-packages/seaborn/distributions.py:2557: FutureWarning: `distplot` is a deprecated function and will be removed in a future version. Please adapt your code to use either `displot` (a figure-level function with similar flexibility) or `histplot` (an axes-level function for histograms).\n",
            "  warnings.warn(msg, FutureWarning)\n"
          ],
          "name": "stderr"
        },
        {
          "output_type": "execute_result",
          "data": {
            "text/plain": [
              "<matplotlib.axes._subplots.AxesSubplot at 0x7ffaf04ac4d0>"
            ]
          },
          "metadata": {},
          "execution_count": 39
        },
        {
          "output_type": "display_data",
          "data": {
            "image/png": "[encoded data removed]",
            "text/plain": [
              "<Figure size 432x288 with 1 Axes>"
            ]
          },
          "metadata": {}
        }
      ]
    },
    {
      "cell_type": "code",
      "metadata": {
        "colab": {
          "base_uri": "https://localhost:8080/",
          "height": 353
        },
        "id": "cWvSLU-5hiy6",
        "outputId": "45924d14-0bc8-4272-f9b6-27ae7399a9a0"
      },
      "source": [
        "df_year = df[df.Start_Time.dt.year == 2017]\n",
        "sns.distplot(df_year.Start_Time.dt.month, bins=12, kde=False, norm_hist=True)"
      ],
      "execution_count": 40,
      "outputs": [
        {
          "output_type": "stream",
          "text": [
            "/usr/local/lib/python3.7/dist-packages/seaborn/distributions.py:2557: FutureWarning: `distplot` is a deprecated function and will be removed in a future version. Please adapt your code to use either `displot` (a figure-level function with similar flexibility) or `histplot` (an axes-level function for histograms).\n",
            "  warnings.warn(msg, FutureWarning)\n"
          ],
          "name": "stderr"
        },
        {
          "output_type": "execute_result",
          "data": {
            "text/plain": [
              "<matplotlib.axes._subplots.AxesSubplot at 0x7ffaf0157d10>"
            ]
          },
          "metadata": {},
          "execution_count": 40
        },
        {
          "output_type": "display_data",
          "data": {
            "image/png": "[encoded data removed]",
            "text/plain": [
              "<Figure size 432x288 with 1 Axes>"
            ]
          },
          "metadata": {}
        }
      ]
    },
    {
      "cell_type": "code",
      "metadata": {
        "colab": {
          "base_uri": "https://localhost:8080/",
          "height": 353
        },
        "id": "-KUQ1wX-hm-W",
        "outputId": "f9a914d2-d197-4222-e05b-3a206917aee4"
      },
      "source": [
        "df_year = df[df.Start_Time.dt.year == 2018]\n",
        "sns.distplot(df_year.Start_Time.dt.month, bins=12, kde=False, norm_hist=True)"
      ],
      "execution_count": 41,
      "outputs": [
        {
          "output_type": "stream",
          "text": [
            "/usr/local/lib/python3.7/dist-packages/seaborn/distributions.py:2557: FutureWarning: `distplot` is a deprecated function and will be removed in a future version. Please adapt your code to use either `displot` (a figure-level function with similar flexibility) or `histplot` (an axes-level function for histograms).\n",
            "  warnings.warn(msg, FutureWarning)\n"
          ],
          "name": "stderr"
        },
        {
          "output_type": "execute_result",
          "data": {
            "text/plain": [
              "<matplotlib.axes._subplots.AxesSubplot at 0x7ffaf006e950>"
            ]
          },
          "metadata": {},
          "execution_count": 41
        },
        {
          "output_type": "display_data",
          "data": {
            "image/png": "[encoded data removed]",
            "text/plain": [
              "<Figure size 432x288 with 1 Axes>"
            ]
          },
          "metadata": {}
        }
      ]
    },
    {
      "cell_type": "code",
      "metadata": {
        "colab": {
          "base_uri": "https://localhost:8080/",
          "height": 355
        },
        "id": "Yz57mPfEhqIT",
        "outputId": "474397a4-6e64-4319-a6f6-a51ab02c80ba"
      },
      "source": [
        "df_year = df[df.Start_Time.dt.year == 2019]\n",
        "sns.distplot(df_year.Start_Time.dt.month, bins=12, kde=False, norm_hist=True)"
      ],
      "execution_count": 42,
      "outputs": [
        {
          "output_type": "stream",
          "text": [
            "/usr/local/lib/python3.7/dist-packages/seaborn/distributions.py:2557: FutureWarning: `distplot` is a deprecated function and will be removed in a future version. Please adapt your code to use either `displot` (a figure-level function with similar flexibility) or `histplot` (an axes-level function for histograms).\n",
            "  warnings.warn(msg, FutureWarning)\n"
          ],
          "name": "stderr"
        },
        {
          "output_type": "execute_result",
          "data": {
            "text/plain": [
              "<matplotlib.axes._subplots.AxesSubplot at 0x7ffaeffeca10>"
            ]
          },
          "metadata": {},
          "execution_count": 42
        },
        {
          "output_type": "display_data",
          "data": {
            "image/png": "[encoded data removed]",
            "text/plain": [
              "<Figure size 432x288 with 1 Axes>"
            ]
          },
          "metadata": {}
        }
      ]
    },
    {
      "cell_type": "markdown",
      "metadata": {
        "id": "YxQaq9wchtfY"
      },
      "source": [
        "when driling down the data to each year we can see that our Hypothesis was False. It seems that data collection is started from 2016 and there may be some missing data during the start which may be the reason for the skewness."
      ]
    },
    {
      "cell_type": "markdown",
      "metadata": {
        "id": "uxJ8j-L3Pips"
      },
      "source": [
        "### Start Latitude & Longitude\n"
      ]
    },
    {
      "cell_type": "code",
      "metadata": {
        "colab": {
          "base_uri": "https://localhost:8080/"
        },
        "id": "SaHT2yIhPhqs",
        "outputId": "05862cd9-7e2a-4f3b-ff79-ebdf3662520e"
      },
      "source": [
        "df.Start_Lat"
      ],
      "execution_count": 43,
      "outputs": [
        {
          "output_type": "execute_result",
          "data": {
            "text/plain": [
              "0          34.808868\n",
              "1          35.090080\n",
              "2          37.145730\n",
              "3          39.110390\n",
              "4          26.102942\n",
              "             ...    \n",
              "2906605    29.813824\n",
              "2906606    34.068890\n",
              "2906607    25.702200\n",
              "2906608    40.660140\n",
              "2906609    38.831749\n",
              "Name: Start_Lat, Length: 2906610, dtype: float64"
            ]
          },
          "metadata": {},
          "execution_count": 43
        }
      ]
    },
    {
      "cell_type": "code",
      "metadata": {
        "colab": {
          "base_uri": "https://localhost:8080/"
        },
        "id": "OACwujEyPhn_",
        "outputId": "8cca9b7c-fdc6-4a3a-fae7-052c64376e63"
      },
      "source": [
        "df.Start_Lng"
      ],
      "execution_count": 44,
      "outputs": [
        {
          "output_type": "execute_result",
          "data": {
            "text/plain": [
              "0          -82.269157\n",
              "1          -80.745560\n",
              "2         -121.985052\n",
              "3         -119.773781\n",
              "4          -80.265091\n",
              "              ...    \n",
              "2906605    -95.399437\n",
              "2906606   -117.342010\n",
              "2906607    -80.335556\n",
              "2906608   -111.952460\n",
              "2906609   -104.748161\n",
              "Name: Start_Lng, Length: 2906610, dtype: float64"
            ]
          },
          "metadata": {},
          "execution_count": 44
        }
      ]
    },
    {
      "cell_type": "code",
      "metadata": {
        "id": "4tEvL_RQPhlq"
      },
      "source": [
        "sample_df = df.sample(int(0.1 * len(df)))"
      ],
      "execution_count": 45,
      "outputs": []
    },
    {
      "cell_type": "code",
      "metadata": {
        "colab": {
          "base_uri": "https://localhost:8080/",
          "height": 300
        },
        "id": "gkh8yL4UPhi-",
        "outputId": "78437f79-fa1a-4010-ca10-429a0e3bc636"
      },
      "source": [
        "sns.scatterplot(x=sample_df.Start_Lng, y=sample_df.Start_Lat, size=0.001)"
      ],
      "execution_count": 46,
      "outputs": [
        {
          "output_type": "execute_result",
          "data": {
            "text/plain": [
              "<matplotlib.axes._subplots.AxesSubplot at 0x7ffaf0016f50>"
            ]
          },
          "metadata": {},
          "execution_count": 46
        },
        {
          "output_type": "display_data",
          "data": {
            "image/png": "[encoded data removed]",
            "text/plain": [
              "<Figure size 432x288 with 1 Axes>"
            ]
          },
          "metadata": {}
        }
      ]
    },
    {
      "cell_type": "code",
      "metadata": {
        "id": "2b_dBVyR7EHl"
      },
      "source": [
        "import folium"
      ],
      "execution_count": 47,
      "outputs": []
    },
    {
      "cell_type": "code",
      "metadata": {
        "colab": {
          "base_uri": "https://localhost:8080/"
        },
        "id": "vuLp9BOxRLci",
        "outputId": "ced8c5c2-17b1-4fad-9326-615ede18685f"
      },
      "source": [
        "lat, lon = df.Start_Lat[0], df.Start_Lng[0]\n",
        "lat, lon"
      ],
      "execution_count": 48,
      "outputs": [
        {
          "output_type": "execute_result",
          "data": {
            "text/plain": [
              "(34.808868, -82.26915699999998)"
            ]
          },
          "metadata": {},
          "execution_count": 48
        }
      ]
    },
    {
      "cell_type": "code",
      "metadata": {
        "colab": {
          "base_uri": "https://localhost:8080/"
        },
        "id": "Y8ZNqcFVRt81",
        "outputId": "5e4492c4-04cc-48c4-b3bd-ffda15d1db68"
      },
      "source": [
        "for x in df[['Start_Lat', 'Start_Lng']].sample(100).iteritems():\n",
        "    print(x[1])"
      ],
      "execution_count": 49,
      "outputs": [
        {
          "output_type": "stream",
          "text": [
            "1214524    34.152016\n",
            "1687979    33.696520\n",
            "2309778    34.263651\n",
            "126854     35.863243\n",
            "1552020    37.900940\n",
            "             ...    \n",
            "547681     37.594749\n",
            "1046277    32.731915\n",
            "786305     35.039340\n",
            "691426     33.939160\n",
            "803761     41.214214\n",
            "Name: Start_Lat, Length: 100, dtype: float64\n",
            "1214524    -83.646606\n",
            "1687979    -84.410900\n",
            "2309778   -118.989123\n",
            "126854     -78.589813\n",
            "1552020   -122.310699\n",
            "              ...    \n",
            "547681     -77.517333\n",
            "1046277   -117.060860\n",
            "786305    -120.486740\n",
            "691426     -84.500580\n",
            "803761    -111.959457\n",
            "Name: Start_Lng, Length: 100, dtype: float64\n"
          ],
          "name": "stdout"
        }
      ]
    },
    {
      "cell_type": "code",
      "metadata": {
        "colab": {
          "base_uri": "https://localhost:8080/"
        },
        "id": "d1vWEMf-Sxeq",
        "outputId": "51be77f3-d249-4409-f95f-8d398d5d82d0"
      },
      "source": [
        "zip(list(df.Start_Lat), list(df.Start_Lng))"
      ],
      "execution_count": 50,
      "outputs": [
        {
          "output_type": "execute_result",
          "data": {
            "text/plain": [
              "<zip at 0x7ffaeff79230>"
            ]
          },
          "metadata": {},
          "execution_count": 50
        }
      ]
    },
    {
      "cell_type": "code",
      "metadata": {
        "id": "ODtfSEc6TN7B"
      },
      "source": [
        "from folium.plugins import HeatMap"
      ],
      "execution_count": 51,
      "outputs": []
    },
    {
      "cell_type": "code",
      "metadata": {
        "id": "vDG1zJnzTbW2"
      },
      "source": [
        "sample_df = df.sample(int(0.001 * len(df)))\n",
        "lat_lon_pairs = list(zip(list(sample_df.Start_Lat), list(sample_df.Start_Lng)))"
      ],
      "execution_count": 52,
      "outputs": []
    },
    {
      "cell_type": "code",
      "metadata": {
        "colab": {
          "base_uri": "https://localhost:8080/",
          "height": 854
        },
        "id": "hJ2mH2FiQ8Wf",
        "outputId": "bb8c651f-4061-4b08-84b3-4938f98f4012"
      },
      "source": [
        "map = folium.Map(location=[37.0902, -95.7129], zoom_start=5)\n",
        "HeatMap(lat_lon_pairs).add_to(map)\n",
        "map"
      ],
      "execution_count": 53,
      "outputs": [
        {
          "output_type": "execute_result",
          "data": {
            "text/html": [
              "<div style=\"width:100%;\"><div style=\"position:relative;width:100%;height:0;padding-bottom:60%;\"><span style=\"color:#565656\">Make this Notebook Trusted to load map: File -> Trust Notebook</span><iframe src=\"about:blank\" style=\"position:absolute;width:100%;height:100%;left:0;top:0;border:none !important;\" data-html=%3C%21DOCTYPE%20html%3E%0A%3Chead%3E%20%20%20%20%0A%20%20%20%20%3Cmeta%20http-equiv%3D%22content-type%22%20content%3D%22text/html%3B%20charset%3DUTF-8%22%20/%3E%0A%20%20%20%20%3Cscript%3EL_PREFER_CANVAS%3Dfalse%3B%20L_NO_TOUCH%3Dfalse%3B%20L_DISABLE_3D%3Dfalse%3B%3C/script%3E%0A%20%20%20%20%3Cscript%20src%3D%22https%3A//cdn.jsdelivr.net/npm/leaflet%401.4.0/dist/leaflet.js%22%3E%3C/script%3E%0A%20%20%20%20%3Cscript%20src%3D%22https%3A//code.jquery.com/jquery-1.12.4.min.js%22%3E%3C/script%3E%0A%20%20%20%20%3Cscript%20src%3D%22https%3A//maxcdn.bootstrapcdn.com/bootstrap/3.2.0/js/bootstrap.min.js%22%3E%3C/script%3E%0A%20%20%20%20%3Cscript%20src%3D%22https%3A//cdnjs.cloudflare.com/ajax/libs/Leaflet.awesome-markers/2.0.2/leaflet.awesome-markers.js%22%3E%3C/script%3E%0A%20%20%20%20%3Clink%20rel%3D%22stylesheet%22%20href%3D%22https%3A//cdn.jsdelivr.net/npm/leaflet%401.4.0/dist/leaflet.css%22/%3E%0A%20%20%20%20%3Clink%20rel%3D%22stylesheet%22%20href%3D%22https%3A//maxcdn.bootstrapcdn.com/bootstrap/3.2.0/css/bootstrap.min.css%22/%3E%0A%20%20%20%20%3Clink%20rel%3D%22stylesheet%22%20href%3D%22https%3A//maxcdn.bootstrapcdn.com/bootstrap/3.2.0/css/bootstrap-theme.min.css%22/%3E%0A%20%20%20%20%3Clink%20rel%3D%22stylesheet%22%20href%3D%22https%3A//maxcdn.bootstrapcdn.com/font-awesome/4.6.3/css/font-awesome.min.css%22/%3E%0A%20%20%20%20%3Clink%20rel%3D%22stylesheet%22%20href%3D%22https%3A//cdnjs.cloudflare.com/ajax/libs/Leaflet.awesome-markers/2.0.2/leaflet.awesome-markers.css%22/%3E%0A%20%20%20%20%3Clink%20rel%3D%22stylesheet%22%20href%3D%22https%3A//rawcdn.githack.com/python-visualization/folium/master/folium/templates/leaflet.awesome.rotate.css%22/%3E%0A%20%20%20%20%3Cstyle%3Ehtml%2C%20body%20%7Bwidth%3A%20100%25%3Bheight%3A%20100%25%3Bmargin%3A%200%3Bpadding%3A%200%3B%7D%3C/style%3E%0A%20%20%20%20%3Cstyle%3E%23map%20%7Bposition%3Aabsolute%3Btop%3A0%3Bbottom%3A0%3Bright%3A0%3Bleft%3A0%3B%7D%3C/style%3E%0A%20%20%20%20%0A%20%20%20%20%3Cmeta%20name%3D%22viewport%22%20content%3D%22width%3Ddevice-width%2C%0A%20%20%20%20%20%20%20%20initial-scale%3D1.0%2C%20maximum-scale%3D1.0%2C%20user-scalable%3Dno%22%20/%3E%0A%20%20%20%20%3Cstyle%3E%23map_4908816d6bca490587a7718dbdd26397%20%7B%0A%20%20%20%20%20%20%20%20position%3A%20relative%3B%0A%20%20%20%20%20%20%20%20width%3A%20100.0%25%3B%0A%20%20%20%20%20%20%20%20height%3A%20100.0%25%3B%0A%20%20%20%20%20%20%20%20left%3A%200.0%25%3B%0A%20%20%20%20%20%20%20%20top%3A%200.0%25%3B%0A%20%20%20%20%20%20%20%20%7D%0A%20%20%20%20%3C/style%3E%0A%20%20%20%20%3Cscript%20src%3D%22https%3A//leaflet.github.io/Leaflet.heat/dist/leaflet-heat.js%22%3E%3C/script%3E%0A%3C/head%3E%0A%3Cbody%3E%20%20%20%20%0A%20%20%20%20%0A%20%20%20%20%3Cdiv%20class%3D%22folium-map%22%20id%3D%22map_4908816d6bca490587a7718dbdd26397%22%20%3E%3C/div%3E%0A%3C/body%3E%0A%3Cscript%3E%20%20%20%20%0A%20%20%20%20%0A%20%20%20%20%0A%20%20%20%20%20%20%20%20var%20bounds%20%3D%20null%3B%0A%20%20%20%20%0A%0A%20%20%20%20var%20map_4908816d6bca490587a7718dbdd26397%20%3D%20L.map%28%0A%20%20%20%20%20%20%20%20%27map_4908816d6bca490587a7718dbdd26397%27%2C%20%7B%0A%20%20%20%20%20%20%20%20center%3A%20%5B37.0902%2C%20-95.7129%5D%2C%0A%20%20%20%20%20%20%20%20zoom%3A%205%2C%0A%20%20%20%20%20%20%20%20maxBounds%3A%20bounds%2C%0A%20%20%20%20%20%20%20%20layers%3A%20%5B%5D%2C%0A%20%20%20%20%20%20%20%20worldCopyJump%3A%20false%2C%0A%20%20%20%20%20%20%20%20crs%3A%20L.CRS.EPSG3857%2C%0A%20%20%20%20%20%20%20%20zoomControl%3A%20true%2C%0A%20%20%20%20%20%20%20%20%7D%29%3B%0A%0A%0A%20%20%20%20%0A%20%20%20%20var%20tile_layer_e1725a63bee843d091c9a49c24f21db0%20%3D%20L.tileLayer%28%0A%20%20%20%20%20%20%20%20%27https%3A//%7Bs%7D.tile.openstreetmap.org/%7Bz%7D/%7Bx%7D/%7By%7D.png%27%2C%0A%20%20%20%20%20%20%20%20%7B%0A%20%20%20%20%20%20%20%20%22attribution%22%3A%20null%2C%0A%20%20%20%20%20%20%20%20%22detectRetina%22%3A%20false%2C%0A%20%20%20%20%20%20%20%20%22maxNativeZoom%22%3A%2018%2C%0A%20%20%20%20%20%20%20%20%22maxZoom%22%3A%2018%2C%0A%20%20%20%20%20%20%20%20%22minZoom%22%3A%200%2C%0A%20%20%20%20%20%20%20%20%22noWrap%22%3A%20false%2C%0A%20%20%20%20%20%20%20%20%22opacity%22%3A%201%2C%0A%20%20%20%20%20%20%20%20%22subdomains%22%3A%20%22abc%22%2C%0A%20%20%20%20%20%20%20%20%22tms%22%3A%20false%0A%7D%29.addTo%28map_4908816d6bca490587a7718dbdd26397%29%3B%0A%20%20%20%20%0A%20%20%20%20%20%20%20%20%20%20%20%20var%20heat_map_3560a2c562614fcb8aca08006bc40472%20%3D%20L.heatLayer%28%0A%20%20%20%20%20%20%20%20%20%20%20%20%20%20%20%20%5B%5B42.958908%2C%20-85.67147800000002%5D%2C%20%5B28.492792%2C%20-81.43354000000002%5D%2C%20%5B38.482391%2C%20-77.395363%5D%2C%20%5B25.781242%2C%20-80.336578%5D%2C%20%5B42.223179%2C%20-71.170784%5D%2C%20%5B34.95559%2C%20-82.14334000000002%5D%2C%20%5B32.735149%2C%20-111.550133%5D%2C%20%5B34.104626%2C%20-80.829453%5D%2C%20%5B34.220223%2C%20-79.76124899999998%5D%2C%20%5B35.23057199999999%2C%20-80.844925%5D%2C%20%5B37.602623%2C%20-122.063881%5D%2C%20%5B34.087757%2C%20-84.26949300000003%5D%2C%20%5B41.80896%2C%20-88.11726999999998%5D%2C%20%5B29.737070000000006%2C%20-95.548363%5D%2C%20%5B35.234219%2C%20-89.92572%5D%2C%20%5B39.06875%2C%20-94.7945%5D%2C%20%5B37.509842%2C%20-122.48807%5D%2C%20%5B44.0978%2C%20-123.15806%5D%2C%20%5B33.84032%2C%20-117.83273%5D%2C%20%5B37.78174%2C%20-121.31203%5D%2C%20%5B38.879964%2C%20-77.242712%5D%2C%20%5B25.751724%2C%20-80.387012%5D%2C%20%5B33.725390999999995%2C%20-117.803279%5D%2C%20%5B38.657444%2C%20-76.874962%5D%2C%20%5B40.336815%2C%20-79.948931%5D%2C%20%5B47.318554%2C%20-122.183807%5D%2C%20%5B33.369228%2C%20-117.227692%5D%2C%20%5B40.196949%2C%20-75.184387%5D%2C%20%5B29.673273%2C%20-95.289314%5D%2C%20%5B33.51815%2C%20-80.877937%5D%2C%20%5B29.949296%2C%20-95.413218%5D%2C%20%5B30.405247%2C%20-97.583542%5D%2C%20%5B33.79797%2C%20-84.39292900000002%5D%2C%20%5B39.521656%2C%20-119.47551%5D%2C%20%5B35.09474%2C%20-89.87044%5D%2C%20%5B38.556953%2C%20-122.505241%5D%2C%20%5B45.20829000000001%2C%20-122.93776%5D%2C%20%5B34.93766%2C%20-82.004326%5D%2C%20%5B37.89968%2C%20-122.51585%5D%2C%20%5B43.193581%2C%20-77.62258%5D%2C%20%5B33.841961%2C%20-118.286232%5D%2C%20%5B40.255341%2C%20-75.724073%5D%2C%20%5B33.655674%2C%20-117.74407%5D%2C%20%5B29.70422%2C%20-95.40667%5D%2C%20%5B33.945476%2C%20-118.296126%5D%2C%20%5B40.59611500000001%2C%20-75.33674599999998%5D%2C%20%5B27.847363%2C%20-82.819939%5D%2C%20%5B36.951126%2C%20-80.87814200000003%5D%2C%20%5B30.001551%2C%20-95.281311%5D%2C%20%5B35.73308%2C%20-79.457417%5D%2C%20%5B39.060956%2C%20-76.83675799999997%5D%2C%20%5B37.316426%2C%20-80.05079599999998%5D%2C%20%5B42.44976%2C%20-87.82547%5D%2C%20%5B34.068787%2C%20-117.345312%5D%2C%20%5B37.052003000000006%2C%20-122.070454%5D%2C%20%5B30.519458%2C%20-87.143137%5D%2C%20%5B30.102303000000006%2C%20-81.705635%5D%2C%20%5B36.347286%2C%20-82.378624%5D%2C%20%5B47.6199%2C%20-122.3209%5D%2C%20%5B33.810186%2C%20-118.290254%5D%2C%20%5B30.353336%2C%20-97.705627%5D%2C%20%5B33.811%2C%20-84.37305%5D%2C%20%5B39.25236500000001%2C%20-84.57991%5D%2C%20%5B37.708439%2C%20-122.163834%5D%2C%20%5B34.003772999999995%2C%20-118.281029%5D%2C%20%5B39.921501%2C%20-86.11216%5D%2C%20%5B35.459949%2C%20-97.65416%5D%2C%20%5B35.169628%2C%20-80.904701%5D%2C%20%5B34.066759999999995%2C%20-117.21885%5D%2C%20%5B47.73413%2C%20-122.33698%5D%2C%20%5B27.758341%2C%20-82.675285%5D%2C%20%5B38.50246%2C%20-122.9954%5D%2C%20%5B44.313776%2C%20-122.00583600000002%5D%2C%20%5B40.192486%2C%20-75.15293100000002%5D%2C%20%5B37.130473%2C%20-121.032375%5D%2C%20%5B39.00985%2C%20-94.69381%5D%2C%20%5B29.935341%2C%20-95.398613%5D%2C%20%5B38.372875%2C%20-121.358711%5D%2C%20%5B40.85956%2C%20-73.97537%5D%2C%20%5B35.91745%2C%20-84.094406%5D%2C%20%5B42.66706%2C%20-78.885649%5D%2C%20%5B37.303768%2C%20-121.878227%5D%2C%20%5B29.48807%2C%20-98.3927%5D%2C%20%5B39.981274%2C%20-76.761581%5D%2C%20%5B35.16395%2C%20-80.95784%5D%2C%20%5B38.05451%2C%20-122.22957%5D%2C%20%5B31.7776%2C%20-106.44373%5D%2C%20%5B33.509440999999995%2C%20-112.112457%5D%2C%20%5B34.061%2C%20-117.80478%5D%2C%20%5B33.799890000000005%2C%20-84.39126%5D%2C%20%5B37.4633%2C%20-77.50007%5D%2C%20%5B39.483367%2C%20-75.04329%5D%2C%20%5B39.889111%2C%20-75.104874%5D%2C%20%5B33.86329%2C%20-84.43791999999998%5D%2C%20%5B39.01577%2C%20-77.016624%5D%2C%20%5B29.522219%2C%20-98.394287%5D%2C%20%5B28.55292%2C%20-81.41396%5D%2C%20%5B30.711157%2C%20-88.170135%5D%2C%20%5B33.935405%2C%20-118.280342%5D%2C%20%5B38.55875%2C%20-90.25768%5D%2C%20%5B39.379158%2C%20-76.503586%5D%2C%20%5B30.212673%2C%20-85.608007%5D%2C%20%5B37.617466%2C%20-104.759262%5D%2C%20%5B25.761064%2C%20-80.415162%5D%2C%20%5B45.55981%2C%20-122.17327%5D%2C%20%5B36.13979000000001%2C%20-86.82274%5D%2C%20%5B35.396572%2C%20-97.597305%5D%2C%20%5B34.379204%2C%20-81.68016800000002%5D%2C%20%5B39.39598%2C%20-76.68738%5D%2C%20%5B33.519615%2C%20-80.790993%5D%2C%20%5B40.586455%2C%20-122.375142%5D%2C%20%5B34.376090999999995%2C%20-119.477493%5D%2C%20%5B45.42945200000001%2C%20-118.358738%5D%2C%20%5B37.814411%2C%20-122.250877%5D%2C%20%5B44.09075%2C%20-123.17118%5D%2C%20%5B34.12534%2C%20-118.47652%5D%2C%20%5B41.99693%2C%20-87.7289%5D%2C%20%5B33.87422%2C%20-117.88052%5D%2C%20%5B33.94453%2C%20-84.51029%5D%2C%20%5B41.787209%2C%20-87.631302%5D%2C%20%5B29.70751%2C%20-95.10257%5D%2C%20%5B46.98263%2C%20-122.64896%5D%2C%20%5B34.823840000000004%2C%20-86.94227%5D%2C%20%5B42.13176%2C%20-83.24128%5D%2C%20%5B37.041081%2C%20-76.395202%5D%2C%20%5B34.350414%2C%20-118.504124%5D%2C%20%5B37.53847%2C%20-121.92725%5D%2C%20%5B45.496109%2C%20-92.994835%5D%2C%20%5B38.544781%2C%20-121.473984%5D%2C%20%5B40.41976%2C%20-74.209624%5D%2C%20%5B35.018071%2C%20-118.955197%5D%2C%20%5B41.905735%2C%20-87.96500400000002%5D%2C%20%5B45.9759%2C%20-117.26189%5D%2C%20%5B40.27049%2C%20-74.50894%5D%2C%20%5B36.838047%2C%20-76.09831199999998%5D%2C%20%5B41.82988%2C%20-71.41796%5D%2C%20%5B40.075459%2C%20-76.752098%5D%2C%20%5B34.055686%2C%20-118.451951%5D%2C%20%5B37.998032%2C%20-121.806084%5D%2C%20%5B35.22435%2C%20-80.74875%5D%2C%20%5B37.340458%2C%20-122.08933%5D%2C%20%5B42.27952%2C%20-87.86752%5D%2C%20%5B41.931431%2C%20-87.939667%5D%2C%20%5B30.442825%2C%20-87.310355%5D%2C%20%5B34.166657%2C%20-118.299513%5D%2C%20%5B28.35802%2C%20-80.60812%5D%2C%20%5B34.020491%2C%20-118.194086%5D%2C%20%5B41.902233%2C%20-88.10172299999998%5D%2C%20%5B34.081454%2C%20-118.295803%5D%2C%20%5B39.963771%2C%20-76.767318%5D%2C%20%5B25.761633%2C%20-80.352379%5D%2C%20%5B40.854504%2C%20-73.965942%5D%2C%20%5B34.053185%2C%20-81.061378%5D%2C%20%5B41.87965%2C%20-87.80473%5D%2C%20%5B33.99382%2C%20-117.3586%5D%2C%20%5B34.192904%2C%20-118.14824099999998%5D%2C%20%5B34.5894%2C%20-120.408373%5D%2C%20%5B37.542969%2C%20-122.020271%5D%2C%20%5B38.47535300000001%2C%20-121.423849%5D%2C%20%5B45.91169%2C%20-94.88028%5D%2C%20%5B28.537979%2C%20-81.34356700000002%5D%2C%20%5B34.806952%2C%20-89.51053399999998%5D%2C%20%5B35.64053300000001%2C%20-78.640823%5D%2C%20%5B35.0634%2C%20-81.666351%5D%2C%20%5B33.667976%2C%20-112.203018%5D%2C%20%5B25.96749%2C%20-80.22936999999997%5D%2C%20%5B34.094749%2C%20-81.169899%5D%2C%20%5B39.901974%2C%20-75.112747%5D%2C%20%5B34.064419%2C%20-118.00592%5D%2C%20%5B39.039173%2C%20-94.341591%5D%2C%20%5B40.282146%2C%20-76.820086%5D%2C%20%5B37.25389000000001%2C%20-121.95698%5D%2C%20%5B35.31766%2C%20-80.94483000000002%5D%2C%20%5B27.162090000000006%2C%20-80.56437%5D%2C%20%5B44.07982%2C%20-121.30166%5D%2C%20%5B38.965183%2C%20-78.436989%5D%2C%20%5B30.255404%2C%20-97.776527%5D%2C%20%5B47.849579%2C%20-122.246902%5D%2C%20%5B33.725570000000005%2C%20-117.80413%5D%2C%20%5B36.188396%2C%20-86.79656999999997%5D%2C%20%5B42.152405%2C%20-88.136055%5D%2C%20%5B42.531198%2C%20-73.784683%5D%2C%20%5B32.766921999999994%2C%20-96.751526%5D%2C%20%5B33.76488%2C%20-84.51972099999998%5D%2C%20%5B33.750488%2C%20-84.44416%5D%2C%20%5B42.63826%2C%20-84.73909%5D%2C%20%5B42.747219%2C%20-71.49269100000002%5D%2C%20%5B33.465431%2C%20-81.961739%5D%2C%20%5B35.280737%2C%20-80.834305%5D%2C%20%5B42.431931%2C%20-71.243752%5D%2C%20%5B37.683109%2C%20-122.127647%5D%2C%20%5B34.10785%2C%20-117.30274%5D%2C%20%5B45.17935%2C%20-122.59174%5D%2C%20%5B34.214699%2C%20-117.864342%5D%2C%20%5B40.6888%2C%20-73.80870999999998%5D%2C%20%5B34.140764000000004%2C%20-118.277491%5D%2C%20%5B44.561263%2C%20-92.49515%5D%2C%20%5B29.435684%2C%20-98.390083%5D%2C%20%5B34.494021999999994%2C%20-81.841248%5D%2C%20%5B40.085468%2C%20-75.125038%5D%2C%20%5B35.204399%2C%20-80.719879%5D%2C%20%5B40.897204%2C%20-74.022171%5D%2C%20%5B37.69032%2C%20-122.12347%5D%2C%20%5B32.177741999999995%2C%20-110.985435%5D%2C%20%5B42.809438%2C%20-71.49859599999998%5D%2C%20%5B35.49332000000001%2C%20-97.583382%5D%2C%20%5B33.320263%2C%20-111.894035%5D%2C%20%5B35.978068%2C%20-78.580907%5D%2C%20%5B34.182049%2C%20-118.397179%5D%2C%20%5B37.672691%2C%20-122.453972%5D%2C%20%5B34.076153000000005%2C%20-79.304138%5D%2C%20%5B25.90278%2C%20-80.32299%5D%2C%20%5B38.463249%2C%20-90.42495%5D%2C%20%5B37.559256%2C%20-77.417167%5D%2C%20%5B41.28351%2C%20-72.95098%5D%2C%20%5B34.028231%2C%20-118.229938%5D%2C%20%5B37.794292%2C%20-122.206039%5D%2C%20%5B41.175848%2C%20-112.007148%5D%2C%20%5B28.456014%2C%20-81.40138%5D%2C%20%5B36.310596%2C%20-82.406364%5D%2C%20%5B39.88232100000001%2C%20-104.98746%5D%2C%20%5B40.82345%2C%20-73.34748%5D%2C%20%5B36.075481%2C%20-86.940407%5D%2C%20%5B39.13057%2C%20-76.81913%5D%2C%20%5B42.03045%2C%20-88.03085%5D%2C%20%5B27.78186%2C%20-82.6612%5D%2C%20%5B39.094425%2C%20-94.543129%5D%2C%20%5B41.81905%2C%20-71.38453%5D%2C%20%5B32.88921%2C%20-80.010315%5D%2C%20%5B33.928719%2C%20-118.294716%5D%2C%20%5B30.263117%2C%20-97.735694%5D%2C%20%5B35.114178%2C%20-80.824539%5D%2C%20%5B38.661907%2C%20-120.941201%5D%2C%20%5B44.634312%2C%20-124.019058%5D%2C%20%5B39.52977%2C%20-106.21614%5D%2C%20%5B28.097912%2C%20-82.452545%5D%2C%20%5B32.221027%2C%20-110.840973%5D%2C%20%5B36.153%2C%20-86.795982%5D%2C%20%5B36.122715%2C%20-86.80684699999998%5D%2C%20%5B44.690219%2C%20-118.194598%5D%2C%20%5B39.81278%2C%20-105.13791%5D%2C%20%5B37.780026%2C%20-121.186689%5D%2C%20%5B35.799561%2C%20-78.646149%5D%2C%20%5B41.967937%2C%20-88.080109%5D%2C%20%5B34.966384999999995%2C%20-120.421204%5D%2C%20%5B38.008755%2C%20-121.752762%5D%2C%20%5B38.994564%2C%20-104.783417%5D%2C%20%5B34.888069%2C%20-82.37265%5D%2C%20%5B34.12737%2C%20-118.27367%5D%2C%20%5B33.508556%2C%20-112.264038%5D%2C%20%5B30.361718%2C%20-97.641869%5D%2C%20%5B33.855976%2C%20-117.997269%5D%2C%20%5B45.427553%2C%20-122.744042%5D%2C%20%5B38.820953%2C%20-76.848618%5D%2C%20%5B34.098209000000004%2C%20-117.301758%5D%2C%20%5B40.58794%2C%20-111.900467%5D%2C%20%5B34.259827%2C%20-118.330101%5D%2C%20%5B39.378342%2C%20-76.651268%5D%2C%20%5B38.93706%2C%20-94.51362%5D%2C%20%5B45.51284%2C%20-122.99088%5D%2C%20%5B36.20393%2C%20-86.750641%5D%2C%20%5B35.99514%2C%20-86.59663%5D%2C%20%5B40.600346%2C%20-74.23127%5D%2C%20%5B45.519032%2C%20-122.55394%5D%2C%20%5B33.92852%2C%20-118.239164%5D%2C%20%5B28.202374%2C%20-82.776945%5D%2C%20%5B42.34628%2C%20-122.87533%5D%2C%20%5B43.018829%2C%20-78.186203%5D%2C%20%5B40.814671%2C%20-74.05275%5D%2C%20%5B38.871806%2C%20-76.98214300000002%5D%2C%20%5B40.844866%2C%20-73.925262%5D%2C%20%5B42.588089%2C%20-121.924483%5D%2C%20%5B38.694317%2C%20-90.238304%5D%2C%20%5B34.01685%2C%20-117.98548999999998%5D%2C%20%5B37.250729%2C%20-121.910713%5D%2C%20%5B34.018448%2C%20-118.280075%5D%2C%20%5B43.155731%2C%20-77.62044499999998%5D%2C%20%5B34.145569%2C%20-118.226471%5D%2C%20%5B39.217575%2C%20-84.29639399999998%5D%2C%20%5B35.768368%2C%20-78.69413%5D%2C%20%5B29.820692%2C%20-95.42952%5D%2C%20%5B32.8189%2C%20-79.95506999999998%5D%2C%20%5B37.47018%2C%20-121.90886%5D%2C%20%5B42.360269%2C%20-71.07208%5D%2C%20%5B33.180089%2C%20-117.353969%5D%2C%20%5B32.83654%2C%20-96.77962%5D%2C%20%5B35.68626%2C%20-78.608101%5D%2C%20%5B45.38807%2C%20-118.31846000000002%5D%2C%20%5B40.8686%2C%20-73.00034000000002%5D%2C%20%5B38.954372%2C%20-76.078453%5D%2C%20%5B35.194336%2C%20-80.72567%5D%2C%20%5B30.27154%2C%20-81.702797%5D%2C%20%5B40.819904%2C%20-73.890417%5D%2C%20%5B32.834555%2C%20-85.75859100000002%5D%2C%20%5B41.577461%2C%20-87.538177%5D%2C%20%5B34.033353000000005%2C%20-118.170219%5D%2C%20%5B33.881609000000005%2C%20-118.10386%5D%2C%20%5B46.057713%2C%20-123.915249%5D%2C%20%5B43.107471%2C%20-76.287071%5D%2C%20%5B42.245937%2C%20-83.76413000000002%5D%2C%20%5B38.228142%2C%20-85.636627%5D%2C%20%5B36.064886%2C%20-79.456063%5D%2C%20%5B48.16471%2C%20-118.97903%5D%2C%20%5B30.456839%2C%20-91.072083%5D%2C%20%5B44.53695%2C%20-93.84784%5D%2C%20%5B34.299865999999994%2C%20-80.086136%5D%2C%20%5B33.859921%2C%20-118.299194%5D%2C%20%5B25.928132%2C%20-80.293405%5D%2C%20%5B35.305767%2C%20-80.749763%5D%2C%20%5B45.431288%2C%20-118.360744%5D%2C%20%5B37.851368%2C%20-122.028702%5D%2C%20%5B42.400654%2C%20-83.21820799999998%5D%2C%20%5B35.015213%2C%20-85.163684%5D%2C%20%5B43.494523%2C%20-121.674965%5D%2C%20%5B38.84118400000001%2C%20-76.72766999999997%5D%2C%20%5B47.233849%2C%20-122.429741%5D%2C%20%5B41.83173%2C%20-88.201141%5D%2C%20%5B40.725709%2C%20-73.83785999999998%5D%2C%20%5B30.39768%2C%20-81.562485%5D%2C%20%5B25.927303%2C%20-80.221649%5D%2C%20%5B34.14571%2C%20-83.6223%5D%2C%20%5B37.5681%2C%20-121.89597%5D%2C%20%5B37.619975%2C%20-122.075969%5D%2C%20%5B45.51952%2C%20-122.56557%5D%2C%20%5B44.17427%2C%20-93.93767%5D%2C%20%5B29.568777%2C%20-98.394211%5D%2C%20%5B36.158649%2C%20-95.88665%5D%2C%20%5B44.979195%2C%20-93.287598%5D%2C%20%5B40.926926%2C%20-75.3162%5D%2C%20%5B39.18832800000001%2C%20-94.590085%5D%2C%20%5B40.03314%2C%20-75.76375%5D%2C%20%5B34.06743%2C%20-117.42777%5D%2C%20%5B32.839783000000004%2C%20-79.862724%5D%2C%20%5B37.7014%2C%20-121.87741%5D%2C%20%5B37.275824%2C%20-121.946309%5D%2C%20%5B34.018875%2C%20-118.18619%5D%2C%20%5B33.85606%2C%20-117.98707%5D%2C%20%5B30.20516%2C%20-92.012917%5D%2C%20%5B28.375291%2C%20-81.506412%5D%2C%20%5B40.008526%2C%20-75.21072099999998%5D%2C%20%5B38.692059%2C%20-121.336601%5D%2C%20%5B40.73473%2C%20-74.109749%5D%2C%20%5B28.52347%2C%20-81.31031800000002%5D%2C%20%5B37.4782%2C%20-121.93349%5D%2C%20%5B38.55087%2C%20-121.42259%5D%2C%20%5B42.37344%2C%20-71.119438%5D%2C%20%5B33.443977000000004%2C%20-86.733376%5D%2C%20%5B27.636778000000003%2C%20-80.434814%5D%2C%20%5B37.261551%2C%20-121.80016299999998%5D%2C%20%5B42.43913%2C%20-83.42860999999998%5D%2C%20%5B38.496395%2C%20-121.446463%5D%2C%20%5B37.900803%2C%20-121.221181%5D%2C%20%5B35.742931%2C%20-78.68096899999998%5D%2C%20%5B39.047794%2C%20-94.646263%5D%2C%20%5B43.012848%2C%20-83.733856%5D%2C%20%5B40.756325%2C%20-73.550575%5D%2C%20%5B35.301041%2C%20-80.986961%5D%2C%20%5B33.996179999999995%2C%20-117.87029%5D%2C%20%5B36.12746%2C%20-86.728554%5D%2C%20%5B27.874511%2C%20-82.762102%5D%2C%20%5B37.378673%2C%20-121.910996%5D%2C%20%5B34.961201%2C%20-82.387772%5D%2C%20%5B41.73257%2C%20-74.06602%5D%2C%20%5B38.81156%2C%20-94.8204%5D%2C%20%5B34.012502000000005%2C%20-118.418508%5D%2C%20%5B44.889603%2C%20-93.350197%5D%2C%20%5B28.193329%2C%20-82.635086%5D%2C%20%5B30.173796000000007%2C%20-97.823753%5D%2C%20%5B39.99551%2C%20-111.4688%5D%2C%20%5B34.098471%2C%20-81.055757%5D%2C%20%5B39.094131%2C%20-94.543137%5D%2C%20%5B34.175083%2C%20-118.106578%5D%2C%20%5B41.122194%2C%20-111.764851%5D%2C%20%5B40.84488%2C%20-73.922687%5D%2C%20%5B39.923683%2C%20-86.22337399999998%5D%2C%20%5B39.74715%2C%20-105.01813%5D%2C%20%5B34.120436%2C%20-118.271244%5D%2C%20%5B43.122372%2C%20-77.59427600000002%5D%2C%20%5B33.932819%2C%20-81.076858%5D%2C%20%5B35.391338%2C%20-97.533455%5D%2C%20%5B37.335352%2C%20-121.85864%5D%2C%20%5B37.89791500000001%2C%20-122.095856%5D%2C%20%5B33.654920000000004%2C%20-84.36503%5D%2C%20%5B44.78698%2C%20-93.2048%5D%2C%20%5B47.618576%2C%20-92.457944%5D%2C%20%5B33.846699%2C%20-118.206787%5D%2C%20%5B39.018255%2C%20-77.10847700000002%5D%2C%20%5B31.4335%2C%20-83.51978000000003%5D%2C%20%5B40.56396%2C%20-75.58524%5D%2C%20%5B28.501865%2C%20-81.396973%5D%2C%20%5B35.193331%2C%20-80.79990600000002%5D%2C%20%5B41.876987%2C%20-88.070122%5D%2C%20%5B45.037411%2C%20-93.04245%5D%2C%20%5B33.16523%2C%20-80.64463%5D%2C%20%5B30.221426%2C%20-97.764876%5D%2C%20%5B42.04011%2C%20-87.88886%5D%2C%20%5B40.66765%2C%20-111.9388%5D%2C%20%5B33.754219%2C%20-117.850647%5D%2C%20%5B37.994606%2C%20-122.069801%5D%2C%20%5B29.89128%2C%20-90.40987%5D%2C%20%5B26.080715%2C%20-80.1686%5D%2C%20%5B32.981388%2C%20-96.932191%5D%2C%20%5B25.941313%2C%20-80.190342%5D%2C%20%5B32.750645%2C%20-80.828445%5D%2C%20%5B30.267139%2C%20-97.770866%5D%2C%20%5B34.055588%2C%20-118.21299%5D%2C%20%5B27.71246%2C%20-82.29821%5D%2C%20%5B41.038431%2C%20-78.389711%5D%2C%20%5B28.433971000000003%2C%20-82.548538%5D%2C%20%5B41.81907%2C%20-71.41835999999998%5D%2C%20%5B30.116516%2C%20-91.971291%5D%2C%20%5B27.446066%2C%20-82.485039%5D%2C%20%5B33.790413%2C%20-118.099365%5D%2C%20%5B42.125888%2C%20-87.89807900000002%5D%2C%20%5B38.250305%2C%20-122.270721%5D%2C%20%5B39.048167%2C%20-77.151092%5D%2C%20%5B35.383056%2C%20-119.044444%5D%2C%20%5B38.183498%2C%20-121.769051%5D%2C%20%5B38.657665%2C%20-121.382591%5D%2C%20%5B33.441438%2C%20-117.137764%5D%2C%20%5B25.772091%2C%20-80.190185%5D%2C%20%5B42.208824%2C%20-73.63681%5D%2C%20%5B41.56755%2C%20-87.33058%5D%2C%20%5B29.352079%2C%20-98.431496%5D%2C%20%5B32.391585%2C%20-90.145584%5D%2C%20%5B33.733059000000004%2C%20-117.989822%5D%2C%20%5B39.184761%2C%20-84.366638%5D%2C%20%5B44.826096%2C%20-95.036576%5D%2C%20%5B34.068659999999994%2C%20-117.37487%5D%2C%20%5B34.033283000000004%2C%20-118.181114%5D%2C%20%5B33.71625%2C%20-84.25243%5D%2C%20%5B35.053761%2C%20-90.007446%5D%2C%20%5B34.39846%2C%20-118.46193%5D%2C%20%5B41.37531%2C%20-83.61631700000002%5D%2C%20%5B33.920577%2C%20-118.082588%5D%2C%20%5B37.572998%2C%20-77.519814%5D%2C%20%5B40.735321%2C%20-73.90834%5D%2C%20%5B35.18853%2C%20-85.48359%5D%2C%20%5B36.653923%2C%20-120.297585%5D%2C%20%5B42.548679%2C%20-73.671387%5D%2C%20%5B27.893890000000006%2C%20-82.668178%5D%2C%20%5B37.320877%2C%20-77.400749%5D%2C%20%5B30.462097%2C%20-97.816207%5D%2C%20%5B30.36488%2C%20-97.696007%5D%2C%20%5B36.03191%2C%20-95.864647%5D%2C%20%5B30.462299%2C%20-91.035187%5D%2C%20%5B41.63796%2C%20-83.54525%5D%2C%20%5B40.17299000000001%2C%20-74.07257%5D%2C%20%5B32.843920000000004%2C%20-96.63466%5D%2C%20%5B39.022289%2C%20-84.511803%5D%2C%20%5B32.232994%2C%20-110.959465%5D%2C%20%5B35.249763%2C%20-80.856438%5D%2C%20%5B36.13258%2C%20-80.28098299999998%5D%2C%20%5B27.33855%2C%20-82.44436%5D%2C%20%5B36.169209%2C%20-86.779663%5D%2C%20%5B40.21131%2C%20-79.662987%5D%2C%20%5B33.516889%2C%20-117.663986%5D%2C%20%5B37.98991%2C%20-122.13337%5D%2C%20%5B34.033409000000006%2C%20-118.18045%5D%2C%20%5B34.096815%2C%20-117.925406%5D%2C%20%5B40.894001%2C%20-74.273315%5D%2C%20%5B37.33453%2C%20-122.02868%5D%2C%20%5B38.80023%2C%20-77.20654%5D%2C%20%5B39.078094%2C%20-76.952332%5D%2C%20%5B26.684276%2C%20-81.79855%5D%2C%20%5B34.524982%2C%20-82.519875%5D%2C%20%5B40.13114%2C%20-74.96751%5D%2C%20%5B37.40794%2C%20-122.0043%5D%2C%20%5B43.102382%2C%20-123.472483%5D%2C%20%5B35.96319000000001%2C%20-83.93939%5D%2C%20%5B29.48596%2C%20-82.491122%5D%2C%20%5B43.048023%2C%20-77.647903%5D%2C%20%5B38.004318%2C%20-122.04023%5D%2C%20%5B41.05881%2C%20-73.82184000000002%5D%2C%20%5B35.596649%2C%20-97.642601%5D%2C%20%5B25.85225%2C%20-80.20814%5D%2C%20%5B39.735574%2C%20-123.258125%5D%2C%20%5B25.687379%2C%20-80.355979%5D%2C%20%5B38.657707%2C%20-121.363853%5D%2C%20%5B32.765695%2C%20-117.128486%5D%2C%20%5B37.34723%2C%20-121.85912%5D%2C%20%5B27.606163%2C%20-82.497803%5D%2C%20%5B28.519131%2C%20-81.39705699999998%5D%2C%20%5B40.88638%2C%20-73.89589000000002%5D%2C%20%5B28.092556%2C%20-82.73944499999998%5D%2C%20%5B42.720482%2C%20-84.504951%5D%2C%20%5B34.03841%2C%20-118.439682%5D%2C%20%5B34.089901%2C%20-80.92733%5D%2C%20%5B39.113308%2C%20-104.865658%5D%2C%20%5B36.763179%2C%20-119.747699%5D%2C%20%5B37.666409%2C%20-122.106804%5D%2C%20%5B33.82264%2C%20-118.19736%5D%2C%20%5B38.91107%2C%20-120.918522%5D%2C%20%5B30.32608%2C%20-97.692383%5D%2C%20%5B34.09369%2C%20-118.25607%5D%2C%20%5B41.124969%2C%20-74.165664%5D%2C%20%5B33.44723%2C%20-117.63508%5D%2C%20%5B33.688899%2C%20-117.918201%5D%2C%20%5B33.419395%2C%20-112.018768%5D%2C%20%5B40.87223400000001%2C%20-73.81796999999997%5D%2C%20%5B36.1472%2C%20-86.74367%5D%2C%20%5B39.9893%2C%20-85.93041%5D%2C%20%5B42.74151%2C%20-95.44658%5D%2C%20%5B35.31745%2C%20-80.77631%5D%2C%20%5B39.743931%2C%20-105.02993%5D%2C%20%5B39.84419000000001%2C%20-86.04244%5D%2C%20%5B38.737267%2C%20-77.192484%5D%2C%20%5B38.674713%2C%20-76.876099%5D%2C%20%5B32.759422%2C%20-97.029007%5D%2C%20%5B47.60582700000001%2C%20-122.331146%5D%2C%20%5B35.07886%2C%20-90.02585%5D%2C%20%5B33.79938%2C%20-117.89767%5D%2C%20%5B38.815727%2C%20-77.13825200000002%5D%2C%20%5B39.03699%2C%20-94.68329%5D%2C%20%5B38.843868%2C%20-94.529579%5D%2C%20%5B42.40204%2C%20-82.97069%5D%2C%20%5B33.772087%2C%20-117.156386%5D%2C%20%5B34.446176%2C%20-119.956799%5D%2C%20%5B42.695904%2C%20-73.84127%5D%2C%20%5B35.022411%2C%20-85.17576600000002%5D%2C%20%5B37.60635%2C%20-87.10544%5D%2C%20%5B35.180565%2C%20-80.888756%5D%2C%20%5B40.8227%2C%20-74.12556%5D%2C%20%5B35.235924%2C%20-80.880516%5D%2C%20%5B37.783173%2C%20-121.229187%5D%2C%20%5B33.943661%2C%20-79.563232%5D%2C%20%5B42.58915%2C%20-122.81657%5D%2C%20%5B37.18665%2C%20-119.203154%5D%2C%20%5B39.418221%2C%20-77.45084399999998%5D%2C%20%5B34.68816%2C%20-82.996162%5D%2C%20%5B34.18756%2C%20-118.93386%5D%2C%20%5B32.936115%2C%20-117.111275%5D%2C%20%5B32.926117%2C%20-96.81234%5D%2C%20%5B45.073331%2C%20-93.286532%5D%2C%20%5B44.42824%2C%20-93.530947%5D%2C%20%5B40.369846%2C%20-76.943321%5D%2C%20%5B39.309693%2C%20-76.74507%5D%2C%20%5B36.750367%2C%20-119.700245%5D%2C%20%5B45.03758300000001%2C%20-93.091868%5D%2C%20%5B45.497887%2C%20-94.240654%5D%2C%20%5B39.59539%2C%20-84.20027900000002%5D%2C%20%5B34.799839%2C%20-82.42443100000001%5D%2C%20%5B34.003994%2C%20-117.83017%5D%2C%20%5B40.098991%2C%20-83.146927%5D%2C%20%5B41.551898%2C%20-73.94393000000002%5D%2C%20%5B36.138571%2C%20-115.243019%5D%2C%20%5B45.286277%2C%20-93.002926%5D%2C%20%5B34.234987%2C%20-118.29043%5D%2C%20%5B36.193375%2C%20-86.776886%5D%2C%20%5B45.728696%2C%20-120.558425%5D%2C%20%5B41.67473%2C%20-93.57793%5D%2C%20%5B38.95333%2C%20-76.72780999999998%5D%2C%20%5B35.31095900000001%2C%20-84.804939%5D%2C%20%5B30.251652000000004%2C%20-81.466492%5D%2C%20%5B40.131565%2C%20-75.449104%5D%2C%20%5B38.589854%2C%20-121.730293%5D%2C%20%5B37.540244%2C%20-120.895759%5D%2C%20%5B33.63176%2C%20-84.39544000000002%5D%2C%20%5B38.83453400000001%2C%20-77.097862%5D%2C%20%5B36.758015%2C%20-76.29597%5D%2C%20%5B41.140095%2C%20-95.937347%5D%2C%20%5B37.27642%2C%20-121.94619%5D%2C%20%5B33.747341%2C%20-118.291412%5D%2C%20%5B34.487594%2C%20-118.1399%5D%2C%20%5B34.795922%2C%20-82.437576%5D%2C%20%5B34.871140000000004%2C%20-82.691612%5D%2C%20%5B40.10699%2C%20-82.95770999999998%5D%2C%20%5B40.634635%2C%20-111.905195%5D%2C%20%5B32.7877%2C%20-117.113981%5D%2C%20%5B34.133549%2C%20-118.352539%5D%2C%20%5B40.979275%2C%20-72.133636%5D%2C%20%5B37.68668%2C%20-122.1301%5D%2C%20%5B38.90972100000001%2C%20-77.544495%5D%2C%20%5B30.44331%2C%20-97.66748%5D%2C%20%5B34.178047%2C%20-118.393959%5D%2C%20%5B25.888203%2C%20-80.212807%5D%2C%20%5B25.92554%2C%20-80.2649%5D%2C%20%5B42.321499%2C%20-71.053802%5D%2C%20%5B36.742799%2C%20-119.445653%5D%2C%20%5B35.23349%2C%20-80.823143%5D%2C%20%5B38.985983%2C%20-93.499842%5D%2C%20%5B41.242298%2C%20-79.425568%5D%2C%20%5B34.036961%2C%20-118.173576%5D%2C%20%5B34.0246%2C%20-118.46924%5D%2C%20%5B41.92366%2C%20-87.96337%5D%2C%20%5B33.823372%2C%20-84.357681%5D%2C%20%5B32.751663%2C%20-117.004601%5D%2C%20%5B38.559351%2C%20-121.372622%5D%2C%20%5B34.005720000000004%2C%20-117.96019%5D%2C%20%5B33.762451%2C%20-116.309555%5D%2C%20%5B36.514561%2C%20-80.742337%5D%2C%20%5B29.70097%2C%20-95.374313%5D%2C%20%5B25.879293%2C%20-80.3564%5D%2C%20%5B37.099854%2C%20-120.87751000000002%5D%2C%20%5B33.903713%2C%20-118.185593%5D%2C%20%5B28.4806%2C%20-81.310112%5D%2C%20%5B33.859982%2C%20-118.298935%5D%2C%20%5B34.401109000000005%2C%20-118.805591%5D%2C%20%5B33.710011%2C%20-117.782486%5D%2C%20%5B38.43268%2C%20-122.71608%5D%2C%20%5B37.017418%2C%20-76.45027900000002%5D%2C%20%5B40.86295%2C%20-73.0538%5D%2C%20%5B38.99469000000001%2C%20-76.88884%5D%2C%20%5B45.5055%2C%20-122.67672%5D%2C%20%5B35.246578%2C%20-80.891441%5D%2C%20%5B39.086391%2C%20-84.522896%5D%2C%20%5B40.094572%2C%20-76.410253%5D%2C%20%5B30.581257%2C%20-91.162216%5D%2C%20%5B33.912085999999995%2C%20-84.379356%5D%2C%20%5B31.549009%2C%20-97.12442%5D%2C%20%5B38.25629%2C%20-85.76668000000002%5D%2C%20%5B40.386612%2C%20-111.832703%5D%2C%20%5B26.011093%2C%20-80.166809%5D%2C%20%5B40.194717%2C%20-75.156693%5D%2C%20%5B29.733961%2C%20-95.378021%5D%2C%20%5B34.03665%2C%20-118.16132%5D%2C%20%5B33.772346%2C%20-86.828712%5D%2C%20%5B35.23567%2C%20-80.85453000000003%5D%2C%20%5B42.84008%2C%20-117.62489%5D%2C%20%5B39.830605%2C%20-84.89031999999997%5D%2C%20%5B34.323640000000005%2C%20-118.46463%5D%2C%20%5B29.851583%2C%20-95.504662%5D%2C%20%5B34.141154%2C%20-117.248611%5D%2C%20%5B33.702585%2C%20-84.191085%5D%2C%20%5B41.284073%2C%20-72.934563%5D%2C%20%5B42.313591%2C%20-71.121086%5D%2C%20%5B33.670998%2C%20-84.17935200000002%5D%2C%20%5B39.465378%2C%20-119.786827%5D%2C%20%5B34.498546999999995%2C%20-82.330116%5D%2C%20%5B28.52333%2C%20-81.38631%5D%2C%20%5B34.01951%2C%20-118.180012%5D%2C%20%5B40.63598%2C%20-111.90204%5D%2C%20%5B44.77805%2C%20-93.55639%5D%2C%20%5B35.006116%2C%20-85.24779000000002%5D%2C%20%5B34.027939%2C%20-117.933067%5D%2C%20%5B40.667274%2C%20-111.952507%5D%2C%20%5B39.232681%2C%20-76.709879%5D%2C%20%5B25.461069%2C%20-80.484314%5D%2C%20%5B32.133984000000005%2C%20-110.97776%5D%2C%20%5B34.072262%2C%20-117.91127%5D%2C%20%5B35.01133%2C%20-80.765884%5D%2C%20%5B34.078388000000004%2C%20-81.15316800000002%5D%2C%20%5B32.894951%2C%20-80.70946500000002%5D%2C%20%5B34.073055%2C%20-80.978363%5D%2C%20%5B44.556862%2C%20-120.049928%5D%2C%20%5B33.813122%2C%20-84.5457%5D%2C%20%5B25.62749%2C%20-80.37989%5D%2C%20%5B33.771282%2C%20-84.38503299999998%5D%2C%20%5B33.85989%2C%20-84.481255%5D%2C%20%5B28.53256%2C%20-81.38498%5D%2C%20%5B25.769772%2C%20-80.329799%5D%2C%20%5B39.246822%2C%20-76.67559%5D%2C%20%5B30.43807%2C%20-84.279442%5D%2C%20%5B44.15633%2C%20-117.41877%5D%2C%20%5B40.00251%2C%20-83.117676%5D%2C%20%5B44.43697%2C%20-119.313697%5D%2C%20%5B33.480662%2C%20-112.106407%5D%2C%20%5B37.869523%2C%20-122.304749%5D%2C%20%5B31.768637%2C%20-106.487823%5D%2C%20%5B38.05303%2C%20-120.20244%5D%2C%20%5B39.04267%2C%20-94.36918%5D%2C%20%5B29.937441%2C%20-95.483231%5D%2C%20%5B43.144611%2C%20-77.523216%5D%2C%20%5B41.135605%2C%20-74.16834300000002%5D%2C%20%5B39.561306%2C%20-107.294115%5D%2C%20%5B37.908665%2C%20-122.320973%5D%2C%20%5B39.675498%2C%20-123.475627%5D%2C%20%5B33.85973%2C%20-118.30395%5D%2C%20%5B40.081847%2C%20-74.76369%5D%2C%20%5B39.313509%2C%20-119.897083%5D%2C%20%5B33.63896%2C%20-79.03193%5D%2C%20%5B34.024693%2C%20-117.113235%5D%2C%20%5B34.026501%2C%20-117.332984%5D%2C%20%5B34.020306%2C%20-118.192268%5D%2C%20%5B34.130386%2C%20-118.073189%5D%2C%20%5B45.43387%2C%20-122.76066000000002%5D%2C%20%5B38.445852%2C%20-111.804349%5D%2C%20%5B39.632637%2C%20-84.20303299999998%5D%2C%20%5B35.097633%2C%20-106.568932%5D%2C%20%5B33.937615%2C%20-117.123581%5D%2C%20%5B40.07912%2C%20-76.76335999999998%5D%2C%20%5B44.032696%2C%20-123.852096%5D%2C%20%5B37.362774%2C%20-121.887871%5D%2C%20%5B43.153622%2C%20-121.79486%5D%2C%20%5B34.663422%2C%20-82.45768000000002%5D%2C%20%5B34.04646%2C%20-117.77394%5D%2C%20%5B42.49462%2C%20-82.93205%5D%2C%20%5B36.856944%2C%20-121.63%5D%2C%20%5B25.903611%2C%20-80.174983%5D%2C%20%5B37.4167%2C%20-122.21154%5D%2C%20%5B28.565596000000006%2C%20-81.20740699999998%5D%2C%20%5B33.168407%2C%20-87.516914%5D%2C%20%5B38.412975%2C%20-120.550606%5D%2C%20%5B43.071339%2C%20-87.92076899999998%5D%2C%20%5B34.669041%2C%20-83.064194%5D%2C%20%5B37.441703%2C%20-121.889973%5D%2C%20%5B40.57841%2C%20-111.66924%5D%2C%20%5B26.351255%2C%20-80.11853%5D%2C%20%5B37.75705900000001%2C%20-121.963573%5D%2C%20%5B39.277725%2C%20-77.32356999999998%5D%2C%20%5B37.688957%2C%20-122.135612%5D%2C%20%5B25.860951%2C%20-80.209603%5D%2C%20%5B45.309635%2C%20-121.838595%5D%2C%20%5B43.075279%2C%20-88.058289%5D%2C%20%5B33.669289%2C%20-112.099747%5D%2C%20%5B38.838493%2C%20-77.448013%5D%2C%20%5B47.49897%2C%20-94.92498%5D%2C%20%5B35.328838%2C%20-80.737999%5D%2C%20%5B42.13363%2C%20-88.09324000000002%5D%2C%20%5B36.04433%2C%20-86.65701999999997%5D%2C%20%5B37.532822%2C%20-77.507133%5D%2C%20%5B25.972676%2C%20-80.20612%5D%2C%20%5B28.48275%2C%20-81.46398%5D%2C%20%5B32.139381%2C%20-110.840698%5D%2C%20%5B34.024632000000004%2C%20-118.166138%5D%2C%20%5B40.254362%2C%20-76.86477%5D%2C%20%5B35.567329%2C%20-97.500343%5D%2C%20%5B37.806983%2C%20-122.475511%5D%2C%20%5B30.010485%2C%20-90.020974%5D%2C%20%5B45.32136%2C%20-94.89557%5D%2C%20%5B34.038070000000005%2C%20-81.10636%5D%2C%20%5B41.83219%2C%20-87.69566%5D%2C%20%5B37.03399%2C%20-77.63280999999998%5D%2C%20%5B39.35976%2C%20-76.50476%5D%2C%20%5B40.06063%2C%20-75.32424%5D%2C%20%5B40.70555%2C%20-74.2459%5D%2C%20%5B34.030628%2C%20-81.08815%5D%2C%20%5B34.01676%2C%20-118.482679%5D%2C%20%5B39.189964%2C%20-76.86889599999998%5D%2C%20%5B38.672997%2C%20-121.328221%5D%2C%20%5B32.631557%2C%20-80.881538%5D%2C%20%5B34.4894%2C%20-117.332964%5D%2C%20%5B37.400574%2C%20-122.03569%5D%2C%20%5B40.725784%2C%20-73.837631%5D%2C%20%5B42.733875%2C%20-71.19207800000002%5D%2C%20%5B46.981754%2C%20-92.471264%5D%2C%20%5B47.52644%2C%20-122.314903%5D%2C%20%5B39.172241%2C%20-76.62056%5D%2C%20%5B33.597229%2C%20-117.676826%5D%2C%20%5B33.814454%2C%20-118.081565%5D%2C%20%5B35.767089%2C%20-80.332401%5D%2C%20%5B35.39138%2C%20-97.530434%5D%2C%20%5B42.933151%2C%20-71.43020600000001%5D%2C%20%5B37.341617%2C%20-77.33612099999998%5D%2C%20%5B27.85717%2C%20-82.846649%5D%2C%20%5B39.584105%2C%20-77.635674%5D%2C%20%5B36.073868%2C%20-80.32288299999998%5D%2C%20%5B44.549447%2C%20-123.002352%5D%2C%20%5B33.960784999999994%2C%20-117.312996%5D%2C%20%5B36.49616%2C%20-121.364839%5D%2C%20%5B34.028526%2C%20-118.067993%5D%2C%20%5B39.787888%2C%20-86.208427%5D%2C%20%5B44.518136%2C%20-92.923343%5D%2C%20%5B36.186589%2C%20-86.804066%5D%2C%20%5B40.081341%2C%20-75.37560500000002%5D%2C%20%5B40.419422%2C%20-80.090576%5D%2C%20%5B34.1358%2C%20-117.58372%5D%2C%20%5B41.91665%2C%20-89.56168000000002%5D%2C%20%5B32.95953%2C%20-96.821297%5D%2C%20%5B32.186993%2C%20-110.96833%5D%2C%20%5B33.424816%2C%20-81.791617%5D%2C%20%5B32.368120000000005%2C%20-86.13481%5D%2C%20%5B38.5118%2C%20-122.45581%5D%2C%20%5B42.476000000000006%2C%20-83.12123100000002%5D%2C%20%5B41.023586%2C%20-77.934578%5D%2C%20%5B28.373216%2C%20-82.645584%5D%2C%20%5B37.74219%2C%20-121.525634%5D%2C%20%5B33.911245%2C%20-118.172382%5D%2C%20%5B40.990665%2C%20-111.904198%5D%2C%20%5B32.94895%2C%20-96.82331%5D%2C%20%5B42.664112%2C%20-71.194603%5D%2C%20%5B33.791664000000004%2C%20-117.8903%5D%2C%20%5B39.445218%2C%20-76.334935%5D%2C%20%5B33.536713%2C%20-112.340988%5D%2C%20%5B43.784231%2C%20-122.538671%5D%2C%20%5B34.00524%2C%20-117.393033%5D%2C%20%5B35.109138%2C%20-89.888359%5D%2C%20%5B40.166088%2C%20-76.828903%5D%2C%20%5B33.772989%2C%20-81.392798%5D%2C%20%5B37.636082%2C%20-121.396698%5D%2C%20%5B35.093361%2C%20-80.84279599999998%5D%2C%20%5B33.938782%2C%20-118.343918%5D%2C%20%5B36.253949%2C%20-119.172166%5D%2C%20%5B43.147701%2C%20-77.732399%5D%2C%20%5B45.0205%2C%20-93.18908%5D%2C%20%5B36.152302%2C%20-95.987694%5D%2C%20%5B25.58768%2C%20-80.405247%5D%2C%20%5B35.518669%2C%20-97.534363%5D%2C%20%5B41.05426%2C%20-73.809792%5D%2C%20%5B32.776671%2C%20-96.784148%5D%2C%20%5B25.811558%2C%20-80.19538100000003%5D%2C%20%5B33.58013%2C%20-84.51928000000002%5D%2C%20%5B35.130282%2C%20-120.607842%5D%2C%20%5B43.77328%2C%20-123.06034%5D%2C%20%5B37.360481%2C%20-77.34120899999998%5D%2C%20%5B34.03514000000001%2C%20-118.149622%5D%2C%20%5B34.121449%2C%20-117.302361%5D%2C%20%5B34.278183%2C%20-118.502144%5D%2C%20%5B34.25036%2C%20-117.192969%5D%2C%20%5B36.18508900000001%2C%20-86.759918%5D%2C%20%5B40.195644%2C%20-76.975449%5D%2C%20%5B40.631443%2C%20-111.839973%5D%2C%20%5B28.19171%2C%20-82.465721%5D%2C%20%5B31.72829%2C%20-106.31296%5D%2C%20%5B42.43211%2C%20-83.11538%5D%2C%20%5B34.823708%2C%20-82.431473%5D%2C%20%5B41.263893%2C%20-73.611165%5D%2C%20%5B35.009617%2C%20-82.02829%5D%2C%20%5B33.39320900000001%2C%20-112.116345%5D%2C%20%5B33.99953%2C%20-117.8497%5D%2C%20%5B41.964356%2C%20-123.746889%5D%2C%20%5B37.725182%2C%20-122.401639%5D%2C%20%5B44.951969%2C%20-93.147911%5D%2C%20%5B40.23552700000001%2C%20-75.27359399999997%5D%2C%20%5B29.710754%2C%20-95.604622%5D%2C%20%5B30.372386%2C%20-81.66930699999998%5D%2C%20%5B34.14674%2C%20-117.247986%5D%2C%20%5B33.809023%2C%20-118.028073%5D%2C%20%5B38.64067100000001%2C%20-121.271698%5D%2C%20%5B41.474041%2C%20-87.323341%5D%2C%20%5B34.018904%2C%20-118.17236%5D%2C%20%5B35.335012%2C%20-81.12123100000002%5D%2C%20%5B34.015709%2C%20-117.339882%5D%2C%20%5B33.007172%2C%20-80.42189%5D%2C%20%5B34.572697%2C%20-117.88962%5D%2C%20%5B34.280628%2C%20-118.419006%5D%2C%20%5B44.93291%2C%20-93.07175%5D%2C%20%5B40.740543%2C%20-73.841324%5D%2C%20%5B33.194796999999994%2C%20-117.250128%5D%2C%20%5B34.064072%2C%20-118.01008600000002%5D%2C%20%5B35.210556%2C%20-80.83717299999998%5D%2C%20%5B33.634338%2C%20-80.87554899999998%5D%2C%20%5B39.083374%2C%20-121.187776%5D%2C%20%5B42.41235%2C%20-83.21871999999998%5D%2C%20%5B34.248562%2C%20-117.185895%5D%2C%20%5B41.786024%2C%20-93.570698%5D%2C%20%5B38.11301%2C%20-122.10605%5D%2C%20%5B40.976758%2C%20-111.428473%5D%2C%20%5B28.445629%2C%20-81.364952%5D%2C%20%5B33.048378%2C%20-117.287079%5D%2C%20%5B34.953441999999995%2C%20-82.02211%5D%2C%20%5B36.150162%2C%20-86.857933%5D%2C%20%5B42.011909%2C%20-87.750877%5D%2C%20%5B41.690765%2C%20-74.078096%5D%2C%20%5B32.88045%2C%20-80.01839%5D%2C%20%5B35.232069%2C%20-80.850974%5D%2C%20%5B37.841358%2C%20-122.297058%5D%2C%20%5B42.130918%2C%20-84.24817%5D%2C%20%5B33.390093%2C%20-86.793676%5D%2C%20%5B26.44488%2C%20-81.93521899999998%5D%2C%20%5B35.35495%2C%20-119.336304%5D%2C%20%5B43.59603%2C%20-83.98904%5D%2C%20%5B40.8297%2C%20-73.19962%5D%2C%20%5B35.22781%2C%20-80.86148%5D%2C%20%5B42.343227%2C%20-83.216042%5D%2C%20%5B40.69987%2C%20-111.870062%5D%2C%20%5B36.627679%2C%20-121.587591%5D%2C%20%5B37.62429%2C%20-121.004913%5D%2C%20%5B39.665596%2C%20-75.604156%5D%2C%20%5B34.055355%2C%20-118.09948%5D%2C%20%5B36.26088%2C%20-86.73819%5D%2C%20%5B39.638161%2C%20-78.947449%5D%2C%20%5B35.53335900000001%2C%20-114.354807%5D%2C%20%5B30.44471%2C%20-84.278313%5D%2C%20%5B35.882088%2C%20-84.510307%5D%2C%20%5B34.546188%2C%20-120.193305%5D%2C%20%5B45.527247%2C%20-122.565461%5D%2C%20%5B43.04169%2C%20-71.46166%5D%2C%20%5B37.865199%2C%20-121.667654%5D%2C%20%5B37.556715%2C%20-120.915576%5D%2C%20%5B40.6549%2C%20-111.90073%5D%2C%20%5B35.016158000000004%2C%20-81.97549599999998%5D%2C%20%5B42.30615%2C%20-88.02917%5D%2C%20%5B35.181792%2C%20-118.4934%5D%2C%20%5B33.899288%2C%20-84.269072%5D%2C%20%5B30.595115000000003%2C%20-87.079341%5D%2C%20%5B33.001976%2C%20-80.098191%5D%2C%20%5B34.968781%2C%20-81.96965%5D%2C%20%5B40.758446%2C%20-74.97962199999998%5D%2C%20%5B35.008224%2C%20-85.265504%5D%2C%20%5B43.12244000000001%2C%20-123.41274%5D%2C%20%5B45.230684%2C%20-93.633839%5D%2C%20%5B25.718082%2C%20-80.318502%5D%2C%20%5B39.01875%2C%20-77.10274%5D%2C%20%5B38.631317%2C%20-121.504875%5D%2C%20%5B47.730137%2C%20-122.296501%5D%2C%20%5B42.93296%2C%20-78.78761999999998%5D%2C%20%5B35.26842100000001%2C%20-80.882706%5D%2C%20%5B29.665173%2C%20-95.260182%5D%2C%20%5B29.029079%2C%20-82.02174000000002%5D%2C%20%5B29.6656%2C%20-95.512329%5D%2C%20%5B30.40682%2C%20-97.635033%5D%2C%20%5B34.1213%2C%20-118.231094%5D%2C%20%5B30.458786%2C%20-91.058258%5D%2C%20%5B40.494522%2C%20-74.412887%5D%2C%20%5B34.036921%2C%20-118.088854%5D%2C%20%5B39.928558%2C%20-104.987267%5D%2C%20%5B36.16588400000001%2C%20-86.865013%5D%2C%20%5B33.139774%2C%20-117.181976%5D%2C%20%5B32.456747%2C%20-93.707719%5D%2C%20%5B40.77174%2C%20-73.87563%5D%2C%20%5B33.928268%2C%20-118.255821%5D%2C%20%5B35.795643%2C%20-78.51531999999997%5D%2C%20%5B30.192265000000006%2C%20-85.649918%5D%2C%20%5B32.572933%2C%20-83.237213%5D%2C%20%5B35.051687%2C%20-120.526332%5D%2C%20%5B45.5233%2C%20-122.41316%5D%2C%20%5B41.429912%2C%20-112.057472%5D%2C%20%5B36.765205%2C%20-81.833855%5D%2C%20%5B36.17691%2C%20-86.774551%5D%2C%20%5B27.942963%2C%20-82.544907%5D%2C%20%5B32.26643%2C%20-95.279429%5D%2C%20%5B34.006599%2C%20-117.826782%5D%2C%20%5B34.900246%2C%20-82.035973%5D%2C%20%5B33.415955%2C%20-111.939575%5D%2C%20%5B43.177372%2C%20-83.77422299999998%5D%2C%20%5B32.72268%2C%20-111.51524%5D%2C%20%5B40.03356%2C%20-82.90299999999998%5D%2C%20%5B35.4179%2C%20-97.570953%5D%2C%20%5B34.344318%2C%20-86.610626%5D%2C%20%5B34.364688%2C%20-119.036274%5D%2C%20%5B39.32155%2C%20-84.25046%5D%2C%20%5B25.689146%2C%20-80.38287199999998%5D%2C%20%5B35.292053%2C%20-80.796669%5D%2C%20%5B41.984444%2C%20-88.078835%5D%2C%20%5B36.850525%2C%20-80.861778%5D%2C%20%5B39.775139%2C%20-105.144958%5D%2C%20%5B38.222591%2C%20-122.25325%5D%2C%20%5B30.345266%2C%20-91.031158%5D%2C%20%5B37.548836%2C%20-77.43336500000002%5D%2C%20%5B30.384674%2C%20-97.644844%5D%2C%20%5B28.261477000000006%2C%20-81.512295%5D%2C%20%5B40.160424%2C%20-79.86306400000002%5D%2C%20%5B39.249762%2C%20-94.727736%5D%2C%20%5B41.869747%2C%20-75.71614100000002%5D%2C%20%5B37.098129%2C%20-120.147072%5D%2C%20%5B43.09788%2C%20-77.60117%5D%2C%20%5B39.945305%2C%20-76.64654499999997%5D%2C%20%5B40.42934%2C%20-80.02436%5D%2C%20%5B40.237869%2C%20-82.860626%5D%2C%20%5B34.068589%2C%20-118.151171%5D%2C%20%5B34.15609%2C%20-80.896751%5D%2C%20%5B47.80484000000001%2C%20-122.14343999999998%5D%2C%20%5B29.720051%2C%20-95.484848%5D%2C%20%5B36.92845%2C%20-120.02595%5D%2C%20%5B40.615398%2C%20-74.040079%5D%2C%20%5B45.03557%2C%20-92.88343%5D%2C%20%5B37.51136%2C%20-121.937637%5D%2C%20%5B43.01162%2C%20-83.68699000000002%5D%2C%20%5B36.746212%2C%20-80.772308%5D%2C%20%5B35.738039%2C%20-118.556186%5D%2C%20%5B36.036282%2C%20-95.948898%5D%2C%20%5B33.238953%2C%20-87.576897%5D%2C%20%5B37.219124%2C%20-119.508759%5D%2C%20%5B40.113658%2C%20-75.349877%5D%2C%20%5B44.948666%2C%20-92.988831%5D%2C%20%5B37.511353%2C%20-121.93766%5D%2C%20%5B35.480743%2C%20-97.54776%5D%2C%20%5B37.916544%2C%20-121.291021%5D%2C%20%5B25.834862%2C%20-80.24334%5D%2C%20%5B33.46151%2C%20-112.07706%5D%2C%20%5B33.754063%2C%20-117.806267%5D%2C%20%5B37.698132%2C%20-121.94076499999998%5D%2C%20%5B30.219708%2C%20-97.836202%5D%2C%20%5B29.877081%2C%20-95.483276%5D%2C%20%5B43.246824%2C%20-75.147673%5D%2C%20%5B34.322979%2C%20-118.46949%5D%2C%20%5B41.53817100000001%2C%20-72.805886%5D%2C%20%5B40.698837%2C%20-74.240723%5D%2C%20%5B39.903751%2C%20-83.07534%5D%2C%20%5B33.631085%2C%20-78.960676%5D%2C%20%5B43.158589%2C%20-77.604543%5D%2C%20%5B35.380833%2C%20-119.044167%5D%2C%20%5B32.83457%2C%20-96.87498%5D%2C%20%5B34.13619%2C%20-117.57587%5D%2C%20%5B42.442745%2C%20-83.754082%5D%2C%20%5B25.964895%2C%20-80.174217%5D%2C%20%5B33.41452%2C%20-111.97833%5D%2C%20%5B35.27269000000001%2C%20-80.835526%5D%2C%20%5B36.14982%2C%20-82.42155%5D%2C%20%5B34.464657%2C%20-82.045784%5D%2C%20%5B40.25358%2C%20-76.81799000000002%5D%2C%20%5B36.772277%2C%20-119.744759%5D%2C%20%5B33.721008000000005%2C%20-84.395403%5D%2C%20%5B45.580551%2C%20-118.619636%5D%2C%20%5B47.499512%2C%20-122.274139%5D%2C%20%5B35.643756%2C%20-81.115318%5D%2C%20%5B38.587347%2C%20-121.447199%5D%2C%20%5B34.07456%2C%20-118.22136%5D%2C%20%5B32.749428%2C%20-96.824097%5D%2C%20%5B34.647919%2C%20-82.48268900000002%5D%2C%20%5B35.796535%2C%20-78.677391%5D%2C%20%5B34.148901%2C%20-117.264432%5D%2C%20%5B37.322247%2C%20-121.898155%5D%2C%20%5B33.710693%2C%20-112.254738%5D%2C%20%5B30.215662%2C%20-97.797401%5D%2C%20%5B34.05664%2C%20-84.59952%5D%2C%20%5B27.714103%2C%20-82.335265%5D%2C%20%5B39.225182%2C%20-94.500282%5D%2C%20%5B34.201462%2C%20-118.47345%5D%2C%20%5B38.342197%2C%20-122.009514%5D%2C%20%5B41.277794%2C%20-96.023941%5D%2C%20%5B34.173342%2C%20-118.544801%5D%2C%20%5B32.893597%2C%20-84.34683199999998%5D%2C%20%5B29.447025%2C%20-98.653519%5D%2C%20%5B38.824219%2C%20-76.947929%5D%2C%20%5B25.495483%2C%20-80.444908%5D%2C%20%5B40.43147800000001%2C%20-111.889402%5D%2C%20%5B30.255758%2C%20-97.720726%5D%2C%20%5B36.976982%2C%20-120.079346%5D%2C%20%5B37.057916%2C%20-122.123107%5D%2C%20%5B41.292316%2C%20-96.105499%5D%2C%20%5B34.172234%2C%20-118.389229%5D%2C%20%5B32.802822%2C%20-86.580803%5D%2C%20%5B32.657090000000004%2C%20-96.88422%5D%2C%20%5B34.13905%2C%20-118.364456%5D%2C%20%5B38.295856%2C%20-77.512863%5D%2C%20%5B28.4705%2C%20-82.26585%5D%2C%20%5B34.03027%2C%20-117.66279%5D%2C%20%5B32.75951%2C%20-97.06135%5D%2C%20%5B41.819408%2C%20-72.609383%5D%2C%20%5B47.2046%2C%20-122.25053%5D%2C%20%5B28.547174%2C%20-81.244461%5D%2C%20%5B33.821548%2C%20-84.359383%5D%2C%20%5B47.679665%2C%20-122.321083%5D%2C%20%5B45.5075%2C%20-122.72064%5D%2C%20%5B37.929169%2C%20-122.387276%5D%2C%20%5B42.363876%2C%20-87.82869000000002%5D%2C%20%5B33.792097%2C%20-117.890152%5D%2C%20%5B25.987464000000006%2C%20-80.16577%5D%2C%20%5B35.148979%2C%20-82.036728%5D%2C%20%5B37.708698%2C%20-121.723869%5D%2C%20%5B32.453540999999994%2C%20-83.682877%5D%2C%20%5B40.081177%2C%20-76.657135%5D%2C%20%5B38.248798%2C%20-122.631683%5D%2C%20%5B32.989767%2C%20-96.710363%5D%2C%20%5B42.141571%2C%20-71.173119%5D%2C%20%5B43.12183%2C%20-83.51909599999998%5D%2C%20%5B43.07576%2C%20-83.68360899999998%5D%2C%20%5B30.481381%2C%20-87.25867099999998%5D%2C%20%5B35.689342%2C%20-78.862993%5D%2C%20%5B39.524261%2C%20-119.739944%5D%2C%20%5B37.666492%2C%20-122.103455%5D%2C%20%5B33.65932%2C%20-111.93121%5D%2C%20%5B42.054539%2C%20-87.84034%5D%2C%20%5B37.026119%2C%20-80.729691%5D%2C%20%5B27.008181%2C%20-80.210033%5D%2C%20%5B26.546714%2C%20-81.83574%5D%2C%20%5B46.23971%2C%20-94.34772%5D%2C%20%5B39.06223%2C%20-94.62581%5D%2C%20%5B45.02232%2C%20-93.91023%5D%2C%20%5B39.204472%2C%20-94.492455%5D%2C%20%5B38.841465%2C%20-77.43102900000002%5D%2C%20%5B29.87494%2C%20-90.09809%5D%2C%20%5B45.36143%2C%20-122.76078%5D%2C%20%5B38.146945%2C%20-121.158696%5D%2C%20%5B30.820154%2C%20-84.523812%5D%2C%20%5B34.454041%2C%20-119.752632%5D%2C%20%5B35.496796%2C%20-97.565689%5D%2C%20%5B41.788635%2C%20-87.94706%5D%2C%20%5B33.927409999999995%2C%20-117.2886%5D%2C%20%5B37.015732%2C%20-76.386978%5D%2C%20%5B33.935919%2C%20-118.28027%5D%2C%20%5B30.555451%2C%20-91.13439%5D%2C%20%5B40.719191%2C%20-74.234482%5D%2C%20%5B38.94199%2C%20-121.097099%5D%2C%20%5B36.956173%2C%20-113.791698%5D%2C%20%5B33.957836%2C%20-118.111847%5D%2C%20%5B34.860809%2C%20-83.03434%5D%2C%20%5B40.25374%2C%20-76.82136%5D%2C%20%5B33.99648%2C%20-118.28048%5D%2C%20%5B42.5091%2C%20-89.03793%5D%2C%20%5B25.755457%2C%20-80.38501%5D%2C%20%5B30.29375%2C%20-81.77094%5D%2C%20%5B39.094742%2C%20-77.11492199999998%5D%2C%20%5B33.819378%2C%20-81.196678%5D%2C%20%5B37.973236%2C%20-122.062073%5D%2C%20%5B30.81066%2C%20-86.495152%5D%2C%20%5B35.363129%2C%20-97.56546%5D%2C%20%5B39.413913%2C%20-76.789401%5D%2C%20%5B29.80302%2C%20-95.50087%5D%2C%20%5B34.027747999999995%2C%20-118.452553%5D%2C%20%5B39.164838%2C%20-122.154042%5D%2C%20%5B34.273912%2C%20-119.13528%5D%2C%20%5B38.354671%2C%20-81.649876%5D%2C%20%5B33.837124%2C%20-117.296371%5D%2C%20%5B34.031%2C%20-117.32828%5D%2C%20%5B35.400394%2C%20-79.990157%5D%2C%20%5B34.858795%2C%20-82.2603%5D%2C%20%5B41.355486%2C%20-78.54439599999998%5D%2C%20%5B33.48494%2C%20-117.14248700000002%5D%2C%20%5B30.188116%2C%20-81.70289%5D%2C%20%5B43.21603%2C%20-77.938309%5D%2C%20%5B39.313858%2C%20-120.471759%5D%2C%20%5B34.17852%2C%20-80.292091%5D%2C%20%5B39.423224%2C%20-77.49399%5D%2C%20%5B45.00708%2C%20-93.400993%5D%2C%20%5B32.837791%2C%20-97.076118%5D%2C%20%5B28.01939%2C%20-82.74677%5D%2C%20%5B43.225096%2C%20-71.504029%5D%2C%20%5B28.59504%2C%20-81.38455%5D%2C%20%5B45.08828%2C%20-93.187488%5D%2C%20%5B35.838047%2C%20-78.869682%5D%2C%20%5B43.024357%2C%20-88.10766600000002%5D%2C%20%5B29.756308%2C%20-81.34978199999998%5D%2C%20%5B28.53912%2C%20-81.475815%5D%2C%20%5B40.692711%2C%20-74.427773%5D%2C%20%5B27.92789%2C%20-82.58686%5D%2C%20%5B34.021786%2C%20-84.32416500000002%5D%2C%20%5B41.75074%2C%20-87.9132%5D%2C%20%5B44.65882%2C%20-121.10447%5D%2C%20%5B39.350887%2C%20-77.392569%5D%2C%20%5B34.036964000000005%2C%20-118.219789%5D%2C%20%5B34.381573%2C%20-82.810989%5D%2C%20%5B32.887104%2C%20-117.227867%5D%2C%20%5B43.05556%2C%20-74.04842%5D%2C%20%5B30.468553000000004%2C%20-97.796806%5D%2C%20%5B38.190258%2C%20-85.72912600000002%5D%2C%20%5B41.198647%2C%20-73.118042%5D%2C%20%5B33.70325%2C%20-84.17498%5D%2C%20%5B33.81041%2C%20-117.967598%5D%2C%20%5B43.350555%2C%20-83.864365%5D%2C%20%5B34.18882%2C%20-80.68851%5D%2C%20%5B44.861805%2C%20-93.308884%5D%2C%20%5B35.71801%2C%20-81.75370799999997%5D%2C%20%5B39.71125%2C%20-105.02501%5D%2C%20%5B35.529724%2C%20-119.190041%5D%2C%20%5B34.08724%2C%20-117.68462%5D%2C%20%5B37.80763%2C%20-122.30404%5D%2C%20%5B40.56598%2C%20-74.688251%5D%2C%20%5B40.630459%2C%20-111.876063%5D%2C%20%5B39.374238%2C%20-76.750348%5D%2C%20%5B29.63796%2C%20-95.5829%5D%2C%20%5B35.561161%2C%20-78.486176%5D%2C%20%5B43.122372%2C%20-77.647552%5D%2C%20%5B47.546192%2C%20-122.276337%5D%2C%20%5B39.87282%2C%20-75.07866%5D%2C%20%5B39.18242%2C%20-84.26487%5D%2C%20%5B33.793864%2C%20-117.892591%5D%2C%20%5B40.997089%2C%20-91.813095%5D%2C%20%5B33.87637%2C%20-117.66016%5D%2C%20%5B33.84376%2C%20-118.20603%5D%2C%20%5B33.912859999999995%2C%20-118.14588%5D%2C%20%5B37.977637%2C%20-122.257589%5D%2C%20%5B39.740246%2C%20-104.661937%5D%2C%20%5B26.446154%2C%20-82.041733%5D%2C%20%5B34.284907000000004%2C%20-119.305633%5D%2C%20%5B43.05067800000001%2C%20-83.663063%5D%2C%20%5B42.367962%2C%20-87.879952%5D%2C%20%5B34.426527%2C%20-117.450979%5D%2C%20%5B45.37087%2C%20-122.70935%5D%2C%20%5B33.916421%2C%20-118.28603%5D%2C%20%5B41.592377%2C%20-93.751816%5D%2C%20%5B35.801325%2C%20-78.470849%5D%2C%20%5B33.39277%2C%20-111.980796%5D%2C%20%5B38.207588%2C%20-121.264046%5D%2C%20%5B28.3356%2C%20-81.59146700000002%5D%2C%20%5B40.544281%2C%20-111.898659%5D%2C%20%5B33.771286%2C%20-84.390045%5D%2C%20%5B33.84206%2C%20-118.285545%5D%2C%20%5B37.7098%2C%20-122.12421%5D%2C%20%5B30.252905%2C%20-81.515999%5D%2C%20%5B36.060898%2C%20-95.919212%5D%2C%20%5B28.47258%2C%20-81.396652%5D%2C%20%5B39.72566%2C%20-105.01531%5D%2C%20%5B37.514736%2C%20-77.460693%5D%2C%20%5B42.699726%2C%20-73.708138%5D%2C%20%5B34.06092%2C%20-118.25032%5D%2C%20%5B33.864472%2C%20-118.326524%5D%2C%20%5B35.84288%2C%20-78.573631%5D%2C%20%5B44.81944%2C%20-122.80069%5D%2C%20%5B33.884373%2C%20-117.629326%5D%2C%20%5B28.15542%2C%20-82.525414%5D%2C%20%5B41.17902%2C%20-73.18119%5D%2C%20%5B35.42225300000001%2C%20-119.03011200000002%5D%2C%20%5B40.023506%2C%20-75.230515%5D%2C%20%5B32.85372%2C%20-96.56152%5D%2C%20%5B38.85113%2C%20-77.407933%5D%2C%20%5B41.674335%2C%20-83.693764%5D%2C%20%5B30.6805%2C%20-88.042957%5D%2C%20%5B37.71144%2C%20-121.01309%5D%2C%20%5B35.733978%2C%20-81.530273%5D%2C%20%5B25.549867000000006%2C%20-80.477863%5D%2C%20%5B29.703358%2C%20-95.607524%5D%2C%20%5B33.508911%2C%20-80.84494000000002%5D%2C%20%5B35.339516%2C%20-119.039474%5D%2C%20%5B38.832438%2C%20-77.466655%5D%2C%20%5B44.21302%2C%20-93.26816%5D%2C%20%5B39.97414000000001%2C%20-82.99371%5D%2C%20%5B37.317935%2C%20-121.980482%5D%2C%20%5B35.204781%2C%20-80.73853299999998%5D%2C%20%5B25.889278%2C%20-80.209335%5D%2C%20%5B43.16452%2C%20-77.72318299999998%5D%2C%20%5B39.712147%2C%20-86.120628%5D%2C%20%5B29.206415000000003%2C%20-82.184433%5D%2C%20%5B40.781495%2C%20-74.201201%5D%2C%20%5B35.075915%2C%20-82.069923%5D%2C%20%5B32.86237%2C%20-96.859643%5D%2C%20%5B33.8237%2C%20-84.351959%5D%2C%20%5B42.272336%2C%20-84.42566500000002%5D%2C%20%5B33.93096%2C%20-118.291913%5D%2C%20%5B30.923887%2C%20-87.51339300000002%5D%2C%20%5B37.713459%2C%20-121.088242%5D%2C%20%5B25.942207%2C%20-80.351395%5D%2C%20%5B30.33403%2C%20-97.746529%5D%2C%20%5B37.824055%2C%20-122.266937%5D%2C%20%5B46.87401%2C%20-97.20619%5D%2C%20%5B44.97121%2C%20-93.37512%5D%2C%20%5B35.743125%2C%20-78.652191%5D%2C%20%5B33.493303999999995%2C%20-80.834785%5D%2C%20%5B33.13671%2C%20-117.16931%5D%2C%20%5B32.837569%2C%20-96.778047%5D%2C%20%5B44.94687%2C%20-93.0791%5D%2C%20%5B30.534106%2C%20-87.092496%5D%2C%20%5B30.45031%2C%20-91.007874%5D%2C%20%5B29.848095%2C%20-95.323799%5D%2C%20%5B40.187649%2C%20-74.691986%5D%2C%20%5B25.883375%2C%20-80.323509%5D%2C%20%5B37.932716%2C%20-122.060364%5D%2C%20%5B37.492235%2C%20-122.386063%5D%2C%20%5B35.30977100000001%2C%20-119.002989%5D%2C%20%5B34.09182%2C%20-117.991814%5D%2C%20%5B42.599005%2C%20-123.383793%5D%2C%20%5B26.078549%2C%20-80.215784%5D%2C%20%5B38.678468%2C%20-121.230351%5D%2C%20%5B27.954693%2C%20-82.537979%5D%2C%20%5B39.073875%2C%20-76.905869%5D%2C%20%5B39.204567%2C%20-76.63930699999997%5D%2C%20%5B33.900974%2C%20-98.496231%5D%2C%20%5B25.76102%2C%20-80.3784%5D%2C%20%5B35.540161%2C%20-78.287132%5D%2C%20%5B33.669582%2C%20-117.754593%5D%2C%20%5B29.620478%2C%20-95.221436%5D%2C%20%5B45.36894%2C%20-92.99531%5D%2C%20%5B42.941479%2C%20-85.677673%5D%2C%20%5B40.69057%2C%20-73.99886%5D%2C%20%5B42.357029%2C%20-88.067993%5D%2C%20%5B29.660612%2C%20-95.508476%5D%2C%20%5B37.481743%2C%20-77.495552%5D%2C%20%5B41.995358%2C%20-88.144791%5D%2C%20%5B47.66888%2C%20-122.104507%5D%2C%20%5B32.05736%2C%20-81.10122%5D%2C%20%5B33.958378%2C%20-118.11058%5D%2C%20%5B36.970099%2C%20-81.066795%5D%2C%20%5B33.60982%2C%20-112.25486%5D%2C%20%5B33.862817%2C%20-118.199257%5D%2C%20%5B44.32981%2C%20-72.74414%5D%2C%20%5B35.964001%2C%20-84.984974%5D%2C%20%5B29.850113%2C%20-95.26248%5D%2C%20%5B42.9632%2C%20-85.667908%5D%2C%20%5B33.96747%2C%20-118.232838%5D%2C%20%5B36.133209%2C%20-95.958252%5D%2C%20%5B43.37981%2C%20-84.131%5D%2C%20%5B39.764591%2C%20-86.167183%5D%2C%20%5B35.32239000000001%2C%20-80.73305%5D%2C%20%5B36.985049%2C%20-76.427273%5D%2C%20%5B41.666542%2C%20-71.499352%5D%2C%20%5B29.92798%2C%20-90.07534%5D%2C%20%5B34.02494%2C%20-118.204178%5D%2C%20%5B39.879818%2C%20-86.292198%5D%2C%20%5B37.746723%2C%20-122.393951%5D%2C%20%5B35.30505%2C%20-80.858368%5D%2C%20%5B26.975628000000004%2C%20-82.34734300000002%5D%2C%20%5B38.549797%2C%20-122.719186%5D%2C%20%5B42.358749%2C%20-83.07634%5D%2C%20%5B33.912987%2C%20-118.180145%5D%2C%20%5B35.060925%2C%20-80.956326%5D%2C%20%5B39.580528%2C%20-104.904259%5D%2C%20%5B39.976463%2C%20-75.199173%5D%2C%20%5B38.501457%2C%20-122.76313799999998%5D%2C%20%5B33.914165000000004%2C%20-118.370537%5D%2C%20%5B38.660919%2C%20-121.379967%5D%2C%20%5B43.052528%2C%20-87.971703%5D%2C%20%5B34.083554%2C%20-118.298805%5D%2C%20%5B41.680817%2C%20-72.65365600000001%5D%2C%20%5B34.230522%2C%20-79.798828%5D%2C%20%5B33.76712%2C%20-81.641312%5D%2C%20%5B39.99469000000001%2C%20-75.09456%5D%2C%20%5B32.704411%2C%20-117.147102%5D%2C%20%5B39.04204%2C%20-76.90388%5D%2C%20%5B32.878639%2C%20-96.734795%5D%2C%20%5B34.039093%2C%20-118.439758%5D%2C%20%5B32.863949%2C%20-86.621277%5D%2C%20%5B33.287357%2C%20-111.858994%5D%2C%20%5B37.44052%2C%20-120.849407%5D%2C%20%5B37.691459%2C%20-77.699747%5D%2C%20%5B34.02324%2C%20-117.81159%5D%2C%20%5B35.118732%2C%20-81.08329%5D%2C%20%5B33.228588%2C%20-87.533401%5D%2C%20%5B25.794266%2C%20-80.239756%5D%2C%20%5B37.973152%2C%20-121.247295%5D%2C%20%5B44.9649%2C%20-93.28739%5D%2C%20%5B34.043251%2C%20-117.550058%5D%2C%20%5B30.338619%2C%20-81.671091%5D%2C%20%5B33.81296%2C%20-117.91247%5D%2C%20%5B42.95162%2C%20-78.75912%5D%2C%20%5B32.806961%2C%20-96.670212%5D%2C%20%5B36.171841%2C%20-86.764717%5D%2C%20%5B35.792999%2C%20-78.62487800000002%5D%2C%20%5B34.055739%2C%20-118.452239%5D%2C%20%5B42.961731%2C%20-83.55484%5D%2C%20%5B36.07877%2C%20-87.022499%5D%2C%20%5B33.872531%2C%20-118.202324%5D%2C%20%5B33.698211%2C%20-112.152267%5D%2C%20%5B35.392776%2C%20-119.044724%5D%2C%20%5B34.806025%2C%20-118.170667%5D%2C%20%5B41.80656%2C%20-71.44098000000002%5D%2C%20%5B33.930101%2C%20-118.17063600000002%5D%2C%20%5B40.671476%2C%20-111.460219%5D%2C%20%5B40.553581%2C%20-74.318169%5D%2C%20%5B43.064892%2C%20-121.825256%5D%2C%20%5B42.487531%2C%20-83.21258399999998%5D%2C%20%5B41.131836%2C%20-73.795541%5D%2C%20%5B32.665718%2C%20-97.293716%5D%2C%20%5B37.597414%2C%20-77.492183%5D%2C%20%5B40.023653%2C%20-75.644185%5D%2C%20%5B34.412859000000005%2C%20-82.04979300000002%5D%2C%20%5B38.150757%2C%20-122.449348%5D%2C%20%5B38.244046%2C%20-121.277522%5D%2C%20%5B42.312149%2C%20-87.90460999999998%5D%2C%20%5B30.384298%2C%20-91.064819%5D%2C%20%5B38.337105%2C%20-104.749672%5D%2C%20%5B34.106544%2C%20-118.255806%5D%2C%20%5B42.970104%2C%20-85.653221%5D%2C%20%5B45.482449%2C%20-95.090523%5D%2C%20%5B38.55417%2C%20-121.689551%5D%2C%20%5B34.054878%2C%20-118.257164%5D%2C%20%5B34.066145%2C%20-117.509282%5D%2C%20%5B34.994587%2C%20-80.854469%5D%2C%20%5B33.97172%2C%20-117.54869%5D%2C%20%5B42.45735%2C%20-83.09770999999998%5D%2C%20%5B34.222538%2C%20-117.405647%5D%2C%20%5B42.750744%2C%20-83.50045899999998%5D%2C%20%5B34.581194%2C%20-118.133601%5D%2C%20%5B42.36261%2C%20-71.05504%5D%2C%20%5B35.83540700000001%2C%20-78.669601%5D%2C%20%5B43.011326%2C%20-83.517525%5D%2C%20%5B26.562878%2C%20-81.871815%5D%2C%20%5B38.611691%2C%20-90.451683%5D%2C%20%5B35.412286%2C%20-119.074446%5D%2C%20%5B34.274578000000005%2C%20-118.570014%5D%2C%20%5B42.49073%2C%20-83.28260999999998%5D%2C%20%5B29.324371000000006%2C%20-98.412689%5D%2C%20%5B33.899712%2C%20-79.807129%5D%2C%20%5B41.646431%2C%20-72.772522%5D%2C%20%5B33.07774000000001%2C%20-80.21315799999998%5D%2C%20%5B31.762833%2C%20-106.267929%5D%2C%20%5B33.429245%2C%20-86.70858%5D%2C%20%5B37.71724%2C%20-77.44792%5D%2C%20%5B33.911048%2C%20-117.448379%5D%2C%20%5B33.987404%2C%20-118.13723799999998%5D%2C%20%5B44.96467%2C%20-93.28649%5D%2C%20%5B40.182881%2C%20-75.163165%5D%2C%20%5B43.80858%2C%20-95.30178%5D%2C%20%5B37.36386%2C%20-121.89169%5D%2C%20%5B35.17208%2C%20-80.85123%5D%2C%20%5B39.090752%2C%20-104.862183%5D%2C%20%5B30.46633%2C%20-91.105469%5D%2C%20%5B39.46516%2C%20-76.36858000000002%5D%2C%20%5B33.646603000000006%2C%20-114.33593%5D%2C%20%5B37.937881%2C%20-122.325729%5D%2C%20%5B33.802636%2C%20-118.125354%5D%2C%20%5B38.978794%2C%20-94.711364%5D%2C%20%5B40.84668900000001%2C%20-73.928873%5D%2C%20%5B40.782569%2C%20-73.556862%5D%2C%20%5B35.369722%2C%20-119.0425%5D%2C%20%5B35.21392%2C%20-80.83746%5D%2C%20%5B25.686548%2C%20-80.376251%5D%2C%20%5B38.964973%2C%20-77.42836%5D%2C%20%5B25.899435%2C%20-80.34668%5D%2C%20%5B25.728491%2C%20-80.335571%5D%2C%20%5B36.168533%2C%20-86.600273%5D%2C%20%5B44.889545%2C%20-93.349922%5D%2C%20%5B39.18021%2C%20-84.64705%5D%2C%20%5B34.394146%2C%20-118.571426%5D%2C%20%5B37.001175%2C%20-122.002782%5D%2C%20%5B41.210716%2C%20-95.96273%5D%2C%20%5B37.548822%2C%20-118.639328%5D%2C%20%5B45.472037%2C%20-122.57906%5D%2C%20%5B32.782478999999995%2C%20-96.811314%5D%2C%20%5B29.844490000000004%2C%20-95.49782%5D%2C%20%5B40.74792%2C%20-73.76013%5D%2C%20%5B43.041462%2C%20-83.69388599999998%5D%2C%20%5B36.546807%2C%20-119.57505%5D%2C%20%5B40.709049%2C%20-73.84133100000003%5D%2C%20%5B39.737587%2C%20-75.00254100000002%5D%2C%20%5B35.91247%2C%20-78.78206999999998%5D%2C%20%5B35.735218%2C%20-78.58852399999998%5D%2C%20%5B38.63587%2C%20-77.67429%5D%2C%20%5B40.61681%2C%20-122.36488%5D%2C%20%5B42.4096%2C%20-122.95189%5D%2C%20%5B34.2728%2C%20-79.69644%5D%2C%20%5B37.317426%2C%20-121.935356%5D%2C%20%5B28.534294%2C%20-80.80751%5D%2C%20%5B34.818258%2C%20-118.99571%5D%2C%20%5B39.757201%2C%20-105.010238%5D%2C%20%5B45.53202%2C%20-122.56638999999998%5D%2C%20%5B29.862867%2C%20-95.334305%5D%2C%20%5B43.02795%2C%20-88.021341%5D%2C%20%5B33.813461%2C%20-79.01725%5D%2C%20%5B44.20957%2C%20-121.4147%5D%2C%20%5B38.6586%2C%20-77.44084000000002%5D%2C%20%5B32.031307%2C%20-81.267471%5D%2C%20%5B35.189522%2C%20-80.853134%5D%2C%20%5B47.849758%2C%20-122.257248%5D%2C%20%5B37.71469%2C%20-122.13111%5D%2C%20%5B26.029239%2C%20-80.165616%5D%2C%20%5B28.582256%2C%20-81.375038%5D%2C%20%5B40.42006%2C%20-105.22263%5D%2C%20%5B41.871591%2C%20-73.363878%5D%2C%20%5B35.760647%2C%20-78.82653%5D%2C%20%5B41.263058%2C%20-96.119537%5D%2C%20%5B33.49575%2C%20-112.130989%5D%2C%20%5B42.00843%2C%20-88.20385%5D%2C%20%5B39.08253%2C%20-77.17198%5D%2C%20%5B35.208599%2C%20-80.86369300000001%5D%2C%20%5B33.57592%2C%20-112.25816%5D%2C%20%5B30.249331%2C%20-97.75518%5D%2C%20%5B40.883%2C%20-74.12823%5D%2C%20%5B41.001201%2C%20-73.652397%5D%2C%20%5B35.7612%2C%20-119.344421%5D%2C%20%5B42.654678%2C%20-73.745628%5D%2C%20%5B33.55851%2C%20-80.824112%5D%2C%20%5B30.476958000000003%2C%20-91.167279%5D%2C%20%5B42.30595%2C%20-87.95966%5D%2C%20%5B35.391533%2C%20-97.523468%5D%2C%20%5B37.448731%2C%20-120.797104%5D%2C%20%5B37.220467%2C%20-77.390989%5D%2C%20%5B34.029724%2C%20-118.403061%5D%2C%20%5B30.632039%2C%20-81.602051%5D%2C%20%5B33.85558%2C%20-118.28234%5D%2C%20%5B32.806328%2C%20-117.151352%5D%2C%20%5B30.369770000000006%2C%20-97.717003%5D%2C%20%5B39.90255%2C%20-75.15086%5D%2C%20%5B40.375276%2C%20-123.353241%5D%2C%20%5B34.062588%2C%20-118.248718%5D%2C%20%5B35.888749%2C%20-78.55171999999997%5D%2C%20%5B39.93114%2C%20-83.14463%5D%2C%20%5B40.54431%2C%20-111.894166%5D%2C%20%5B36.104256%2C%20-96.009087%5D%2C%20%5B34.099434%2C%20-117.872581%5D%2C%20%5B43.046993%2C%20-87.911873%5D%2C%20%5B33.889942%2C%20-84.462845%5D%2C%20%5B30.39299%2C%20-81.56066%5D%2C%20%5B41.722759%2C%20-87.624207%5D%2C%20%5B34.016994%2C%20-118.141115%5D%2C%20%5B39.639382%2C%20-77.00631%5D%2C%20%5B39.87475900000001%2C%20-75.096627%5D%2C%20%5B41.409733%2C%20-73.455368%5D%2C%20%5B32.13375%2C%20-111.00301%5D%2C%20%5B29.424948%2C%20-98.420784%5D%2C%20%5B37.89692700000001%2C%20-122.101845%5D%2C%20%5B28.53918%2C%20-81.47573%5D%2C%20%5B31.269440000000003%2C%20-83.472153%5D%2C%20%5B29.866804%2C%20-81.32309000000002%5D%2C%20%5B39.32349%2C%20-77.356678%5D%2C%20%5B42.294624%2C%20-71.479576%5D%2C%20%5B45.65075%2C%20-123.14392%5D%2C%20%5B25.581185%2C%20-80.367202%5D%2C%20%5B37.650943%2C%20-121.603618%5D%2C%20%5B29.743413%2C%20-95.328744%5D%2C%20%5B33.732693%2C%20-84.737381%5D%2C%20%5B38.605522%2C%20-122.595421%5D%2C%20%5B42.647076%2C%20-73.749245%5D%2C%20%5B41.91833%2C%20-88.03775%5D%2C%20%5B34.829239%2C%20-82.30319200000002%5D%2C%20%5B28.559799%2C%20-81.38020300000002%5D%2C%20%5B42.504543%2C%20-83.114975%5D%2C%20%5B40.737438%2C%20-74.07643900000002%5D%2C%20%5B45.103863%2C%20-93.459373%5D%2C%20%5B33.125640999999995%2C%20-87.483475%5D%2C%20%5B35.041777%2C%20-80.846526%5D%2C%20%5B33.408809999999995%2C%20-111.805321%5D%2C%20%5B34.065697%2C%20-117.543663%5D%2C%20%5B34.068442%2C%20-117.800527%5D%2C%20%5B40.766258%2C%20-73.33113900000002%5D%2C%20%5B45.150799%2C%20-122.881134%5D%2C%20%5B44.88383%2C%20-93.29583%5D%2C%20%5B37.635036%2C%20-77.573929%5D%2C%20%5B40.67514%2C%20-73.802116%5D%2C%20%5B34.148941%2C%20-118.697578%5D%2C%20%5B33.638636%2C%20-112.394002%5D%2C%20%5B36.08744%2C%20-86.692177%5D%2C%20%5B34.087757%2C%20-84.26949300000003%5D%2C%20%5B42.42438%2C%20-71.25769%5D%2C%20%5B38.000648%2C%20-122.03772%5D%2C%20%5B42.30064%2C%20-71.04916%5D%2C%20%5B45.50365%2C%20-122.67455%5D%2C%20%5B42.96235%2C%20-88.02011%5D%2C%20%5B27.843781%2C%20-82.819908%5D%2C%20%5B26.13051%2C%20-80.16949%5D%2C%20%5B25.684389000000003%2C%20-80.33545699999998%5D%2C%20%5B33.825720000000004%2C%20-118.203668%5D%2C%20%5B39.004993%2C%20-94.55497%5D%2C%20%5B26.617167%2C%20-80.17390400000002%5D%2C%20%5B38.939716%2C%20-94.566216%5D%2C%20%5B34.169132%2C%20-118.098287%5D%2C%20%5B30.417977%2C%20-81.565836%5D%2C%20%5B33.3026%2C%20-111.97151%5D%2C%20%5B29.627747%2C%20-95.446159%5D%2C%20%5B29.728695%2C%20-95.460167%5D%2C%20%5B35.181789%2C%20-80.916588%5D%2C%20%5B32.443756%2C%20-93.769485%5D%2C%20%5B33.681383000000004%2C%20-117.853618%5D%2C%20%5B34.200361%2C%20-118.958847%5D%2C%20%5B37.72476%2C%20-121.325741%5D%2C%20%5B39.547741%2C%20-105.036453%5D%2C%20%5B32.71346%2C%20-117.13166%5D%2C%20%5B42.515549%2C%20-73.78935200000002%5D%2C%20%5B40.755608%2C%20-73.47492199999998%5D%2C%20%5B34.13593%2C%20-117.401762%5D%2C%20%5B39.698263%2C%20-86.106711%5D%2C%20%5B36.215305%2C%20-86.588791%5D%2C%20%5B37.980766%2C%20-120.321335%5D%2C%20%5B34.630057%2C%20-82.781696%5D%2C%20%5B35.341032%2C%20-82.44%5D%2C%20%5B34.41642%2C%20-119.707207%5D%2C%20%5B42.433814%2C%20-122.633624%5D%2C%20%5B32.864101%2C%20-96.66571%5D%2C%20%5B34.135368%2C%20-118.00074%5D%2C%20%5B35.465637%2C%20-97.724731%5D%2C%20%5B37.912775%2C%20-122.06692%5D%2C%20%5B34.037581%2C%20-118.086252%5D%2C%20%5B40.870949%2C%20-73.428497%5D%2C%20%5B35.75445900000001%2C%20-78.612465%5D%2C%20%5B37.069686%2C%20-121.616644%5D%2C%20%5B40.785217%2C%20-73.444489%5D%2C%20%5B32.241829%2C%20-80.981125%5D%2C%20%5B38.968956%2C%20-77.62288000000002%5D%2C%20%5B43.510692%2C%20-123.507378%5D%2C%20%5B32.785340000000005%2C%20-117.11449%5D%2C%20%5B38.790543%2C%20-77.176376%5D%2C%20%5B34.916515000000004%2C%20-82.09642%5D%2C%20%5B33.885555%2C%20-117.549698%5D%2C%20%5B43.204616%2C%20-124.30707%5D%2C%20%5B43.045719%2C%20-88.199736%5D%2C%20%5B33.912704%2C%20-118.180191%5D%2C%20%5B36.15816%2C%20-86.62557%5D%2C%20%5B34.048087%2C%20-118.221623%5D%2C%20%5B25.761405%2C%20-80.36845500000003%5D%2C%20%5B32.383038%2C%20-86.246178%5D%2C%20%5B35.803669%2C%20-78.693855%5D%2C%20%5B33.67031%2C%20-117.76567%5D%2C%20%5B38.660848%2C%20-121.350513%5D%2C%20%5B30.407455%2C%20-97.714233%5D%2C%20%5B34.111179%2C%20-80.896072%5D%2C%20%5B29.730158000000007%2C%20-95.4842%5D%2C%20%5B40.69478%2C%20-73.8121%5D%2C%20%5B32.925831%2C%20-96.820572%5D%2C%20%5B40.698093%2C%20-74.366486%5D%2C%20%5B30.383913%2C%20-91.03688%5D%2C%20%5B43.252941%2C%20-77.677687%5D%2C%20%5B26.841722%2C%20-80.130981%5D%2C%20%5B39.71119%2C%20-105.01447%5D%2C%20%5B33.13918%2C%20-117.18029%5D%2C%20%5B37.690368%2C%20-122.123883%5D%2C%20%5B41.857823%2C%20-71.444864%5D%2C%20%5B34.054889%2C%20-118.212024%5D%2C%20%5B34.03615%2C%20-118.32081%5D%2C%20%5B37.619972%2C%20-122.075974%5D%2C%20%5B33.949379%2C%20-82.372297%5D%2C%20%5B30.139606%2C%20-97.795822%5D%2C%20%5B32.909447%2C%20-96.84685%5D%2C%20%5B35.056269%2C%20-80.856726%5D%2C%20%5B37.111919%2C%20-121.015656%5D%2C%20%5B42.303394%2C%20-88.075989%5D%2C%20%5B33.884205%2C%20-117.642059%5D%2C%20%5B25.852249%2C%20-80.208138%5D%2C%20%5B29.773351%2C%20-95.45624%5D%2C%20%5B43.15749%2C%20-77.538986%5D%2C%20%5B29.991871000000003%2C%20-90.05880400000002%5D%2C%20%5B41.906612%2C%20-87.923645%5D%2C%20%5B33.786369%2C%20-117.879784%5D%2C%20%5B38.231289%2C%20-122.584328%5D%2C%20%5B30.482689%2C%20-84.309471%5D%2C%20%5B40.081367%2C%20-75.298889%5D%2C%20%5B33.903561%2C%20-118.185379%5D%2C%20%5B36.14355%2C%20-86.7021%5D%2C%20%5B39.978663%2C%20-76.681656%5D%2C%20%5B42.75789%2C%20-73.75756%5D%2C%20%5B33.875896000000004%2C%20-118.16858700000002%5D%2C%20%5B26.725409000000006%2C%20-81.906639%5D%2C%20%5B39.972177%2C%20-76.693764%5D%2C%20%5B34.29277800000001%2C%20-119.305833%5D%2C%20%5B39.085233%2C%20-84.52292%5D%2C%20%5B39.88473%2C%20-104.98744%5D%2C%20%5B45.294786%2C%20-93.553267%5D%2C%20%5B28.049090000000003%2C%20-82.709214%5D%2C%20%5B29.81278%2C%20-95.563606%5D%2C%20%5B33.46263%2C%20-112.19715%5D%2C%20%5B33.654736%2C%20-117.864418%5D%2C%20%5B37.55947000000001%2C%20-122.30193%5D%2C%20%5B44.173461%2C%20-122.15946%5D%2C%20%5B41.90236%2C%20-88.10025%5D%2C%20%5B40.719131%2C%20-73.78846%5D%2C%20%5B38.50563%2C%20-121.45596%5D%2C%20%5B34.034602%2C%20-118.43727%5D%2C%20%5B33.412327000000005%2C%20-86.758781%5D%2C%20%5B40.084648%2C%20-75.16902900000002%5D%2C%20%5B38.212617%2C%20-122.25658%5D%2C%20%5B44.969879%2C%20-93.308052%5D%2C%20%5B27.474606%2C%20-82.30680799999998%5D%2C%20%5B33.77758%2C%20-84.39076%5D%2C%20%5B40.002754%2C%20-83.123077%5D%2C%20%5B39.674918%2C%20-76.92976999999998%5D%2C%20%5B38.739455%2C%20-90.365853%5D%2C%20%5B30.348848%2C%20-97.555931%5D%2C%20%5B33.52018%2C%20-86.813339%5D%2C%20%5B34.054108%2C%20-118.237839%5D%2C%20%5B39.35939000000001%2C%20-78.04892%5D%2C%20%5B47.59055%2C%20-122.30434%5D%2C%20%5B42.56988%2C%20-121.88243%5D%2C%20%5B42.485809%2C%20-83.263184%5D%2C%20%5B33.165123%2C%20-87.550026%5D%2C%20%5B43.59001%2C%20-119.9817%5D%2C%20%5B46.98659%2C%20-93.606958%5D%2C%20%5B41.16167100000001%2C%20-96.126991%5D%2C%20%5B29.769140000000004%2C%20-95.33667%5D%2C%20%5B33.461021%2C%20-86.945847%5D%2C%20%5B35.4425%2C%20-119.08611100000002%5D%2C%20%5B38.79213%2C%20-90.452377%5D%2C%20%5B42.29996%2C%20-85.0775%5D%2C%20%5B34.155258%2C%20-118.2939%5D%2C%20%5B42.869709%2C%20-71.341415%5D%2C%20%5B43.177448%2C%20-83.748009%5D%2C%20%5B40.478432%2C%20-74.40469399999998%5D%2C%20%5B39.31563%2C%20-76.74483000000002%5D%2C%20%5B34.068614000000004%2C%20-117.375816%5D%2C%20%5B41.474072%2C%20-73.649231%5D%2C%20%5B27.894429%2C%20-82.76249399999998%5D%2C%20%5B42.40795900000001%2C%20-83.081314%5D%2C%20%5B40.099602%2C%20-75.30242199999998%5D%2C%20%5B40.73681%2C%20-111.90444%5D%2C%20%5B34.766487%2C%20-82.277321%5D%2C%20%5B34.291714%2C%20-82.23005699999999%5D%2C%20%5B30.502090000000006%2C%20-97.683327%5D%2C%20%5B33.37927%2C%20-111.72241%5D%2C%20%5B33.129448%2C%20-117.115045%5D%2C%20%5B45.210716%2C%20-93.584146%5D%2C%20%5B45.066181%2C%20-93.236771%5D%2C%20%5B42.358749%2C%20-83.07634%5D%2C%20%5B41.276015%2C%20-111.969282%5D%2C%20%5B25.864475%2C%20-80.208504%5D%2C%20%5B25.727695%2C%20-80.318437%5D%2C%20%5B27.89465%2C%20-82.787025%5D%2C%20%5B34.92693%2C%20-82.47695999999998%5D%2C%20%5B42.294426%2C%20-71.088074%5D%2C%20%5B38.25468400000001%2C%20-85.720039%5D%2C%20%5B38.315006%2C%20-85.581932%5D%2C%20%5B38.32696%2C%20-77.50178000000002%5D%2C%20%5B32.811176%2C%20-96.833412%5D%2C%20%5B25.657368%2C%20-80.41592%5D%2C%20%5B40.593248%2C%20-111.902629%5D%2C%20%5B40.771011%2C%20-73.566673%5D%2C%20%5B45.50689000000001%2C%20-122.71238999999998%5D%2C%20%5B39.06266%2C%20-76.64008000000003%5D%2C%20%5B32.696468%2C%20-96.767738%5D%2C%20%5B33.71191%2C%20-84.22014%5D%2C%20%5B39.615902%2C%20-84.24587199999998%5D%2C%20%5B38.687726%2C%20-121.343884%5D%2C%20%5B40.73431400000001%2C%20-73.922318%5D%2C%20%5B34.095536%2C%20-118.244025%5D%2C%20%5B34.838257%2C%20-81.970703%5D%2C%20%5B33.494961%2C%20-112.151711%5D%2C%20%5B38.868137%2C%20-77.31223299999998%5D%2C%20%5B34.425117%2C%20-118.423637%5D%2C%20%5B32.924481%2C%20-96.775679%5D%2C%20%5B42.429573%2C%20-122.598709%5D%2C%20%5B38.01738%2C%20-84.40789000000002%5D%2C%20%5B29.591944%2C%20-98.351402%5D%2C%20%5B33.766396%2C%20-84.52681700000002%5D%2C%20%5B41.89739%2C%20-87.65938%5D%2C%20%5B40.121899%2C%20-75.288635%5D%2C%20%5B35.605022%2C%20-97.567154%5D%2C%20%5B35.730034%2C%20-78.556152%5D%2C%20%5B33.975772%2C%20-117.476109%5D%2C%20%5B32.50014%2C%20-93.75186%5D%2C%20%5B35.406613%2C%20-119.048732%5D%2C%20%5B34.03705%2C%20-118.30892%5D%2C%20%5B39.159794%2C%20-94.64503%5D%2C%20%5B37.688055%2C%20-122.139145%5D%2C%20%5B44.889493%2C%20-93.386988%5D%2C%20%5B25.926041%2C%20-80.210355%5D%2C%20%5B35.310671%2C%20-118.914321%5D%2C%20%5B40.081951%2C%20-75.394203%5D%2C%20%5B33.605564%2C%20-112.299629%5D%2C%20%5B34.1611%2C%20-118.2254%5D%2C%20%5B26.546107%2C%20-81.886758%5D%2C%20%5B33.876536%2C%20-118.082241%5D%2C%20%5B38.243259%2C%20-85.621872%5D%2C%20%5B34.073654%2C%20-80.996629%5D%2C%20%5B42.380428%2C%20-83.236649%5D%2C%20%5B37.346958%2C%20-121.858887%5D%2C%20%5B39.816563%2C%20-75.067635%5D%2C%20%5B39.824181%2C%20-83.999901%5D%2C%20%5B37.3708%2C%20-121.91313999999998%5D%2C%20%5B30.36521%2C%20-90.09386%5D%2C%20%5B36.714149%2C%20-119.763702%5D%2C%20%5B38.78426%2C%20-76.66391%5D%2C%20%5B35.96319000000001%2C%20-83.93939%5D%2C%20%5B41.22374%2C%20-96.02836%5D%2C%20%5B36.14238%2C%20-86.771622%5D%2C%20%5B26.70676%2C%20-80.11117%5D%2C%20%5B38.188774%2C%20-85.783417%5D%2C%20%5B30.010061%2C%20-90.238922%5D%2C%20%5B34.061768%2C%20-118.287019%5D%2C%20%5B28.464744%2C%20-81.309958%5D%2C%20%5B43.060364%2C%20-83.793648%5D%2C%20%5B33.159%2C%20-117.340248%5D%2C%20%5B40.747089%2C%20-73.835098%5D%2C%20%5B40.428989%2C%20-79.931618%5D%2C%20%5B32.864021%2C%20-96.66114%5D%2C%20%5B40.803413%2C%20-73.915939%5D%2C%20%5B28.449932%2C%20-81.470863%5D%2C%20%5B33.77333400000001%2C%20-118.039027%5D%2C%20%5B41.890661%2C%20-91.67108%5D%2C%20%5B33.748062%2C%20-84.38768%5D%2C%20%5B40.715733%2C%20-73.826256%5D%2C%20%5B30.196472%2C%20-81.739235%5D%2C%20%5B33.853611%2C%20-84.359573%5D%2C%20%5B36.153553%2C%20-86.788483%5D%2C%20%5B39.38961%2C%20-76.53375%5D%2C%20%5B33.884196%2C%20-117.629596%5D%2C%20%5B40.684912%2C%20-73.642677%5D%2C%20%5B39.66075%2C%20-104.83926%5D%2C%20%5B35.117249%2C%20-80.95755799999998%5D%2C%20%5B37.935097%2C%20-122.444517%5D%2C%20%5B44.690456%2C%20-122.024994%5D%2C%20%5B44.64276%2C%20-123.06276%5D%2C%20%5B42.438719%2C%20-83.43177%5D%2C%20%5B39.68085%2C%20-75.49595%5D%2C%20%5B48.017106%2C%20-122.830969%5D%2C%20%5B34.762214%2C%20-118.797484%5D%2C%20%5B40.429253%2C%20-76.568954%5D%2C%20%5B38.815017%2C%20-104.82455%5D%2C%20%5B26.62223%2C%20-80.06739%5D%2C%20%5B42.52024%2C%20-83.7548%5D%2C%20%5B33.698051%2C%20-117.330826%5D%2C%20%5B33.541916%2C%20-81.816414%5D%2C%20%5B29.746025%2C%20-95.485489%5D%2C%20%5B34.055503%2C%20-118.255044%5D%2C%20%5B42.53722%2C%20-122.81227%5D%2C%20%5B35.60019699999999%2C%20-97.429192%5D%2C%20%5B29.243347%2C%20-81.463013%5D%2C%20%5B37.427165%2C%20-113.235416%5D%2C%20%5B41.86597%2C%20-87.64442%5D%2C%20%5B33.790298%2C%20-118.28196%5D%2C%20%5B41.76477%2C%20-87.67596999999998%5D%2C%20%5B28.186235%2C%20-82.38707%5D%2C%20%5B35.49329%2C%20-97.578773%5D%2C%20%5B44.726421%2C%20-122.13553600000002%5D%2C%20%5B42.815528%2C%20-83.569621%5D%2C%20%5B45.23771%2C%20-123.06348%5D%2C%20%5B37.695438%2C%20-122.105179%5D%2C%20%5B37.680571%2C%20-79.49439100000002%5D%2C%20%5B25.8798%2C%20-80.35606%5D%2C%20%5B36.126387%2C%20-86.710594%5D%2C%20%5B37.742008%2C%20-121.570717%5D%2C%20%5B32.786541%2C%20-96.805244%5D%2C%20%5B33.821445000000004%2C%20-118.206841%5D%2C%20%5B30.392645%2C%20-81.667946%5D%2C%20%5B40.651257%2C%20-122.939332%5D%2C%20%5B39.523003%2C%20-104.867393%5D%2C%20%5B30.277988%2C%20-97.677193%5D%2C%20%5B31.75252%2C%20-106.487358%5D%2C%20%5B32.801792%2C%20-96.827225%5D%2C%20%5B44.861755%2C%20-93.298523%5D%2C%20%5B42.364917%2C%20-87.865445%5D%2C%20%5B26.65509%2C%20-80.06935899999998%5D%2C%20%5B41.139881%2C%20-112.064453%5D%2C%20%5B42.357547%2C%20-122.865254%5D%2C%20%5B33.997653%2C%20-117.367962%5D%2C%20%5B34.06459%2C%20-117.809982%5D%2C%20%5B34.168785%2C%20-118.46817%5D%2C%20%5B38.375728%2C%20-121.476711%5D%2C%20%5B34.030312%2C%20-117.645324%5D%2C%20%5B33.319511%2C%20-117.249207%5D%2C%20%5B34.15298%2C%20-118.36866%5D%2C%20%5B29.125924%2C%20-82.159594%5D%2C%20%5B38.1811%2C%20-85.72093000000002%5D%2C%20%5B34.48684%2C%20-118.61692%5D%2C%20%5B42.431622%2C%20-71.10279799999998%5D%2C%20%5B35.18074%2C%20-80.889297%5D%2C%20%5B38.055149%2C%20-121.25946100000002%5D%2C%20%5B35.282639%2C%20-80.723961%5D%2C%20%5B29.143918%2C%20-81.119196%5D%2C%20%5B38.902386%2C%20-76.943985%5D%2C%20%5B37.32598%2C%20-122.05087%5D%2C%20%5B35.836769%2C%20-78.601837%5D%2C%20%5B38.459519%2C%20-121.841307%5D%2C%20%5B34.035381%2C%20-118.328119%5D%2C%20%5B28.507427000000003%2C%20-82.19498399999998%5D%2C%20%5B48.210346%2C%20-122.215981%5D%2C%20%5B39.81201%2C%20-75.45425%5D%2C%20%5B45.282978%2C%20-123.006547%5D%2C%20%5B40.754841%2C%20-74.117928%5D%2C%20%5B42.31732%2C%20-83.44283%5D%2C%20%5B33.728188%2C%20-117.834127%5D%2C%20%5B35.60041%2C%20-97.62072%5D%2C%20%5B43.677559%2C%20-94.108101%5D%2C%20%5B36.136986%2C%20-86.821381%5D%2C%20%5B42.140848%2C%20-84.24821999999998%5D%2C%20%5B33.966572%2C%20-118.247681%5D%2C%20%5B40.886761%2C%20-73.815079%5D%2C%20%5B39.708778%2C%20-84.201088%5D%2C%20%5B29.724787%2C%20-95.350517%5D%2C%20%5B34.165882%2C%20-118.469574%5D%2C%20%5B36.57198%2C%20-121.891197%5D%2C%20%5B29.681622%2C%20-95.508705%5D%2C%20%5B29.950796%2C%20-96.039032%5D%2C%20%5B34.073815%2C%20-118.21926299999998%5D%2C%20%5B28.595701%2C%20-81.382713%5D%2C%20%5B33.42452%2C%20-84.17775999999998%5D%2C%20%5B34.147693%2C%20-118.077577%5D%2C%20%5B28.400698%2C%20-81.391257%5D%2C%20%5B40.40627%2C%20-82.86565999999998%5D%2C%20%5B29.93847%2C%20-95.38097%5D%2C%20%5B30.402435%2C%20-88.719551%5D%2C%20%5B34.871151%2C%20-117.071068%5D%2C%20%5B40.037666%2C%20-85.72200000000002%5D%2C%20%5B41.025585%2C%20-73.731339%5D%2C%20%5B41.10463%2C%20-81.49996999999998%5D%2C%20%5B30.31826%2C%20-97.731194%5D%2C%20%5B32.697628%2C%20-117.09494%5D%2C%20%5B38.140622%2C%20-121.259322%5D%2C%20%5B38.67844%2C%20-121.225594%5D%2C%20%5B40.805962%2C%20-73.90896%5D%2C%20%5B38.73211%2C%20-77.40391%5D%2C%20%5B34.052165%2C%20-117.719887%5D%2C%20%5B33.881147%2C%20-117.597903%5D%2C%20%5B42.461308%2C%20-83.106026%5D%2C%20%5B35.834667%2C%20-78.638649%5D%2C%20%5B41.236214%2C%20-75.848846%5D%2C%20%5B33.386672999999995%2C%20-111.894348%5D%2C%20%5B35.264885%2C%20-120.673767%5D%2C%20%5B27.232841%2C%20-82.497035%5D%2C%20%5B34.031620000000004%2C%20-118.41359%5D%2C%20%5B40.17001%2C%20-120.36964%5D%2C%20%5B34.863602%2C%20-82.96566800000002%5D%2C%20%5B26.033428%2C%20-80.16449%5D%2C%20%5B29.828648%2C%20-95.381058%5D%2C%20%5B34.40627%2C%20-117.396479%5D%2C%20%5B35.036827%2C%20-85.26108599999998%5D%2C%20%5B43.044296%2C%20-76.147522%5D%2C%20%5B34.193946999999994%2C%20-118.409431%5D%2C%20%5B37.690868%2C%20-122.470581%5D%2C%20%5B34.067633%2C%20-117.981703%5D%2C%20%5B33.337447999999995%2C%20-84.78399999999998%5D%2C%20%5B29.997187%2C%20-95.700189%5D%2C%20%5B41.759346%2C%20-88.031311%5D%2C%20%5B41.87065%2C%20-87.76884%5D%2C%20%5B31.85181%2C%20-106.44014%5D%2C%20%5B32.505036%2C%20-93.746477%5D%2C%20%5B41.70288%2C%20-93.57436%5D%2C%20%5B29.863483%2C%20-95.446426%5D%2C%20%5B45.098749%2C%20-93.188137%5D%2C%20%5B27.945595%2C%20-82.537514%5D%2C%20%5B34.136405%2C%20-117.552666%5D%2C%20%5B43.038059%2C%20-71.309578%5D%2C%20%5B32.271465%2C%20-96.512764%5D%2C%20%5B27.162071%2C%20-80.55477900000002%5D%2C%20%5B32.443337%2C%20-93.714596%5D%2C%20%5B38.552429%2C%20-76.009232%5D%2C%20%5B35.163129999999995%2C%20-80.89571%5D%2C%20%5B42.633236%2C%20-73.701202%5D%2C%20%5B33.846001%2C%20-118.092361%5D%2C%20%5B34.872710999999995%2C%20-82.329262%5D%2C%20%5B41.69985%2C%20-88.03007%5D%2C%20%5B30.398390000000006%2C%20-97.746498%5D%2C%20%5B37.824251%2C%20-122.315308%5D%2C%20%5B42.171922%2C%20-121.621619%5D%2C%20%5B25.913371%2C%20-80.333001%5D%2C%20%5B45.53346%2C%20-122.57893%5D%2C%20%5B34.858925%2C%20-82.259857%5D%2C%20%5B44.75371%2C%20-123.22404%5D%2C%20%5B34.02407%2C%20-117.33546%5D%2C%20%5B35.075024%2C%20-89.861343%5D%2C%20%5B36.108669%2C%20-86.812172%5D%2C%20%5B33.990288%2C%20-117.359077%5D%2C%20%5B29.699690000000004%2C%20-95.28239%5D%2C%20%5B33.911724%2C%20-117.447418%5D%2C%20%5B29.781401%2C%20-95.251442%5D%2C%20%5B43.665074%2C%20-123.368433%5D%2C%20%5B35.20607000000001%2C%20-80.922173%5D%2C%20%5B33.472584000000005%2C%20-81.99015%5D%2C%20%5B37.286992%2C%20-121.869108%5D%2C%20%5B34.1006%2C%20-118.478%5D%2C%20%5B36.14465%2C%20-86.744049%5D%2C%20%5B42.86692%2C%20-87.9373%5D%2C%20%5B38.56057%2C%20-121.45827%5D%2C%20%5B47.20382%2C%20-122.46162%5D%2C%20%5B42.902741%2C%20-89.350187%5D%2C%20%5B41.77196%2C%20-72.59792%5D%2C%20%5B44.071429%2C%20-121.302369%5D%2C%20%5B30.424614%2C%20-91.156006%5D%2C%20%5B40.110966%2C%20-75.0765%5D%2C%20%5B38.50514%2C%20-90.5828%5D%2C%20%5B25.869146%2C%20-80.208439%5D%2C%20%5B26.62096%2C%20-81.75695%5D%2C%20%5B37.569649%2C%20-77.416931%5D%2C%20%5B41.380702%2C%20-71.899799%5D%2C%20%5B33.581593%2C%20-84.417084%5D%2C%20%5B43.205551%2C%20-77.513184%5D%2C%20%5B42.41229000000001%2C%20-83.0708%5D%2C%20%5B39.29259%2C%20-76.53220999999998%5D%2C%20%5B34.185601%2C%20-118.473805%5D%2C%20%5B37.988021%2C%20-120.283327%5D%2C%20%5B42.66959%2C%20-83.033836%5D%2C%20%5B32.970318%2C%20-93.994698%5D%2C%20%5B35.072548%2C%20-90.026573%5D%2C%20%5B30.472429%2C%20-91.058052%5D%2C%20%5B33.68574%2C%20-117.86347%5D%2C%20%5B38.671906%2C%20-90.615593%5D%2C%20%5B42.667377%2C%20-73.73484%5D%2C%20%5B38.388763%2C%20-122.889244%5D%2C%20%5B42.940932%2C%20-83.723512%5D%2C%20%5B35.164951%2C%20-80.75428000000002%5D%2C%20%5B26.404625%2C%20-80.08980799999998%5D%2C%20%5B33.21913%2C%20-111.92028%5D%2C%20%5B29.76857%2C%20-95.35534%5D%2C%20%5B34.06617%2C%20-117.489075%5D%2C%20%5B33.418781%2C%20-82.078781%5D%2C%20%5B32.237239%2C%20-110.93528%5D%2C%20%5B40.626891%2C%20-111.85478%5D%2C%20%5B32.923897%2C%20-96.764816%5D%2C%20%5B40.001801%2C%20-86.420384%5D%2C%20%5B41.76982%2C%20-72.68236999999998%5D%2C%20%5B30.303352%2C%20-97.714386%5D%2C%20%5B28.01061%2C%20-82.43472%5D%2C%20%5B42.78703%2C%20-74.01394%5D%2C%20%5B36.046379%2C%20-95.886192%5D%2C%20%5B33.731506%2C%20-117.812189%5D%2C%20%5B32.309052%2C%20-80.975662%5D%2C%20%5B40.68129%2C%20-74.00282%5D%2C%20%5B38.676231%2C%20-77.23661%5D%2C%20%5B40.081326%2C%20-75.118652%5D%2C%20%5B34.120953%2C%20-117.890091%5D%2C%20%5B25.898947%2C%20-80.346977%5D%2C%20%5B37.079882%2C%20-80.68269699999998%5D%2C%20%5B34.028981%2C%20-118.01313%5D%2C%20%5B38.481607%2C%20-121.408674%5D%2C%20%5B34.110347999999995%2C%20-118.334511%5D%2C%20%5B33.952785%2C%20-118.170522%5D%2C%20%5B38.348541%2C%20-119.361922%5D%2C%20%5B40.135363%2C%20-74.988566%5D%2C%20%5B34.146685999999995%2C%20-118.226396%5D%2C%20%5B30.357372%2C%20-97.686319%5D%2C%20%5B35.17616%2C%20-80.75657%5D%2C%20%5B33.882335999999995%2C%20-117.58803600000002%5D%2C%20%5B32.37915%2C%20-111.109489%5D%2C%20%5B33.866571%2C%20-83.868758%5D%2C%20%5B33.852024%2C%20-84.369621%5D%2C%20%5B37.495384%2C%20-121.923294%5D%2C%20%5B39.956187%2C%20-76.735298%5D%2C%20%5B33.68662%2C%20-117.766%5D%2C%20%5B33.526218%2C%20-80.42939799999998%5D%2C%20%5B39.79839000000001%2C%20-104.86597%5D%2C%20%5B39.25101%2C%20-76.81353%5D%2C%20%5B36.571472%2C%20-121.808361%5D%2C%20%5B34.11969000000001%2C%20-117.807033%5D%2C%20%5B38.763316%2C%20-121.257981%5D%2C%20%5B36.759809%2C%20-119.74906599999998%5D%2C%20%5B35.214788%2C%20-80.88773499999998%5D%2C%20%5B33.85342%2C%20-78.67514%5D%2C%20%5B43.012154%2C%20-83.654434%5D%2C%20%5B35.43124%2C%20-119.064331%5D%2C%20%5B30.436787%2C%20-97.775612%5D%2C%20%5B33.765762%2C%20-84.493156%5D%2C%20%5B36.670425%2C%20-121.638484%5D%2C%20%5B43.170575%2C%20-77.59779%5D%2C%20%5B39.982746%2C%20-82.81427%5D%2C%20%5B42.944817%2C%20-83.681488%5D%2C%20%5B39.06225%2C%20-95.74047%5D%2C%20%5B39.788662%2C%20-86.16660999999998%5D%2C%20%5B25.9423%2C%20-80.18844%5D%2C%20%5B41.611665%2C%20-93.578599%5D%2C%20%5B34.982838%2C%20-80.41407%5D%2C%20%5B35.767884%2C%20-78.575525%5D%2C%20%5B29.828426%2C%20-95.369568%5D%2C%20%5B42.904528000000006%2C%20-78.901229%5D%2C%20%5B34.892672999999995%2C%20-82.160774%5D%2C%20%5B37.187822%2C%20-93.631546%5D%2C%20%5B29.7843%2C%20-95.56055%5D%2C%20%5B28.00324%2C%20-82.31975%5D%2C%20%5B34.011082%2C%20-118.280762%5D%2C%20%5B30.477856%2C%20-97.765419%5D%2C%20%5B35.153936%2C%20-120.662038%5D%2C%20%5B38.015572%2C%20-121.88298%5D%2C%20%5B32.76973%2C%20-86.880302%5D%2C%20%5B39.73447%2C%20-121.81669%5D%2C%20%5B40.82281%2C%20-73.88490999999998%5D%2C%20%5B25.814866%2C%20-80.24858499999998%5D%2C%20%5B39.534019%2C%20-119.755104%5D%2C%20%5B42.223042%2C%20-85.78531600000002%5D%2C%20%5B35.070423%2C%20-80.84291800000003%5D%2C%20%5B32.82078%2C%20-96.63377%5D%2C%20%5B32.362358%2C%20-86.136238%5D%2C%20%5B43.141804%2C%20-77.59479499999998%5D%2C%20%5B32.139381%2C%20-110.840698%5D%2C%20%5B33.233799%2C%20-111.738319%5D%2C%20%5B26.67736%2C%20-80.101925%5D%2C%20%5B39.356449%2C%20-123.509341%5D%2C%20%5B35.846692%2C%20-78.52335500000002%5D%2C%20%5B33.760464%2C%20-84.493477%5D%2C%20%5B35.741291%2C%20-78.62416800000003%5D%2C%20%5B42.680904%2C%20-73.773186%5D%2C%20%5B34.146657%2C%20-118.226384%5D%2C%20%5B29.80603%2C%20-95.29899%5D%2C%20%5B38.94034%2C%20-94.75092%5D%2C%20%5B33.823139000000005%2C%20-80.387676%5D%2C%20%5B25.959528%2C%20-80.22936999999997%5D%2C%20%5B37.997314%2C%20-122.073334%5D%2C%20%5B32.94062%2C%20-80.050674%5D%2C%20%5B30.197689%2C%20-92.016479%5D%2C%20%5B35.460178000000006%2C%20-97.597382%5D%2C%20%5B32.937816999999995%2C%20-96.822083%5D%2C%20%5B39.025378%2C%20-90.252329%5D%2C%20%5B45.31216%2C%20-122.92685%5D%2C%20%5B35.497412%2C%20-97.578981%5D%2C%20%5B40.82309%2C%20-73.88274%5D%2C%20%5B38.520653%2C%20-77.371178%5D%2C%20%5B40.01199%2C%20-82.99159%5D%2C%20%5B26.2068%2C%20-80.19827%5D%2C%20%5B35.363289%2C%20-97.529991%5D%2C%20%5B39.81964%2C%20-84.19828000000003%5D%2C%20%5B34.639019%2C%20-82.68968199999998%5D%2C%20%5B33.261604%2C%20-111.881027%5D%2C%20%5B39.32325%2C%20-120.603699%5D%2C%20%5B34.484573%2C%20-84.46978399999998%5D%2C%20%5B35.368279%2C%20-97.547729%5D%2C%20%5B42.487923%2C%20-83.045898%5D%2C%20%5B40.643173%2C%20-75.43190799999998%5D%2C%20%5B35.779621%2C%20-78.640106%5D%2C%20%5B44.13864%2C%20-93.95779%5D%2C%20%5B37.54413%2C%20-77.37008%5D%2C%20%5B35.912343%2C%20-78.781896%5D%2C%20%5B33.7477%2C%20-84.38703000000002%5D%2C%20%5B41.93962%2C%20-87.70819%5D%2C%20%5B33.948627%2C%20-117.386215%5D%2C%20%5B33.99773%2C%20-117.93485%5D%2C%20%5B40.14616%2C%20-76.815445%5D%2C%20%5B39.133665%2C%20-84.493707%5D%2C%20%5B37.135833%2C%20-121.636389%5D%2C%20%5B33.840411%2C%20-117.135361%5D%2C%20%5B42.44572%2C%20-96.371339%5D%2C%20%5B29.709856%2C%20-95.266968%5D%2C%20%5B38.86673%2C%20-77.220365%5D%2C%20%5B40.021252%2C%20-75.317856%5D%2C%20%5B34.991402%2C%20-82.022827%5D%2C%20%5B34.790852%2C%20-82.817909%5D%2C%20%5B28.237706%2C%20-80.72049%5D%2C%20%5B33.384597%2C%20-117.24809%5D%2C%20%5B34.00015%2C%20-117.35263%5D%2C%20%5B36.807587%2C%20-76.195702%5D%2C%20%5B38.01079%2C%20-122.0172%5D%2C%20%5B39.87429%2C%20-75.10209%5D%2C%20%5B37.739123%2C%20-122.142424%5D%2C%20%5B40.625305%2C%20-73.939751%5D%2C%20%5B40.99176%2C%20-80.63124%5D%2C%20%5B34.011383%2C%20-81.148788%5D%2C%20%5B33.881458%2C%20-117.649341%5D%2C%20%5B29.836611%2C%20-95.262207%5D%2C%20%5B35.146947999999995%2C%20-80.92612199999998%5D%2C%20%5B30.43391%2C%20-85.53402700000002%5D%2C%20%5B44.894073%2C%20-93.275139%5D%2C%20%5B40.754723%2C%20-74.117989%5D%2C%20%5B35.24541%2C%20-80.89327%5D%2C%20%5B43.178837%2C%20-83.66001899999998%5D%2C%20%5B29.858009000000006%2C%20-95.361375%5D%2C%20%5B34.962519%2C%20-90.00041800000002%5D%2C%20%5B30.383324%2C%20-97.707466%5D%2C%20%5B29.298277%2C%20-95.733566%5D%2C%20%5B43.147572%2C%20-77.554138%5D%2C%20%5B46.15209%2C%20-123.856885%5D%2C%20%5B39.385239%2C%20-77.259415%5D%2C%20%5B44.95174%2C%20-93.16706%5D%2C%20%5B41.768311%2C%20-72.55957%5D%2C%20%5B34.014153%2C%20-117.922187%5D%2C%20%5B40.679344%2C%20-74.003136%5D%2C%20%5B29.725445%2C%20-95.422112%5D%2C%20%5B35.30721%2C%20-80.82163%5D%2C%20%5B27.820305%2C%20-82.693848%5D%2C%20%5B30.278959000000004%2C%20-97.73217%5D%2C%20%5B26.68052%2C%20-80.2079%5D%2C%20%5B32.470961%2C%20-93.801087%5D%2C%20%5B30.424335%2C%20-91.150719%5D%2C%20%5B37.701387%2C%20-121.769828%5D%2C%20%5B34.156681%2C%20-118.244408%5D%2C%20%5B41.5698%2C%20-87.40981%5D%2C%20%5B39.039936%2C%20-94.670311%5D%2C%20%5B37.64217%2C%20-122.09212%5D%2C%20%5B47.796776%2C%20-122.218315%5D%2C%20%5B39.88191%2C%20-104.98746%5D%2C%20%5B43.19384%2C%20-77.638874%5D%2C%20%5B34.14732%2C%20-118.227646%5D%2C%20%5B33.584712%2C%20-83.967038%5D%2C%20%5B34.891502%2C%20-82.468193%5D%2C%20%5B34.992299%2C%20-118.947021%5D%2C%20%5B26.011093%2C%20-80.166809%5D%2C%20%5B33.919797%2C%20-118.224113%5D%2C%20%5B44.73835%2C%20-92.890083%5D%2C%20%5B39.021972%2C%20-76.95043000000003%5D%2C%20%5B35.454556%2C%20-97.513496%5D%2C%20%5B35.83540700000001%2C%20-78.669601%5D%2C%20%5B35.428406%2C%20-80.934044%5D%2C%20%5B34.002173%2C%20-117.351482%5D%2C%20%5B39.749253%2C%20-86.143101%5D%2C%20%5B39.865265%2C%20-84.05454300000002%5D%2C%20%5B34.833031%2C%20-82.296837%5D%2C%20%5B28.56553%2C%20-81.19524%5D%2C%20%5B33.687276000000004%2C%20-84.40134%5D%2C%20%5B37.72999%2C%20-122.40373999999998%5D%2C%20%5B47.48008%2C%20-122.20071000000002%5D%2C%20%5B33.462429%2C%20-112.062187%5D%2C%20%5B38.528873%2C%20-121.469612%5D%2C%20%5B34.155739000000004%2C%20-118.431219%5D%2C%20%5B33.82817%2C%20-84.48709000000002%5D%2C%20%5B40.780087%2C%20-111.91065%5D%2C%20%5B32.507221%2C%20-93.767548%5D%2C%20%5B33.912704%2C%20-118.180283%5D%2C%20%5B44.173461%2C%20-122.15946%5D%2C%20%5B26.062872%2C%20-80.163872%5D%2C%20%5B33.48604%2C%20-117.66623%5D%2C%20%5B40.4785%2C%20-80.19489300000002%5D%2C%20%5B28.410352000000003%2C%20-81.39144%5D%2C%20%5B39.78143%2C%20-104.99143%5D%2C%20%5B37.941063%2C%20-121.232193%5D%2C%20%5B40.755644%2C%20-74.199922%5D%2C%20%5B38.49797%2C%20-121.44812%5D%2C%20%5B38.87554%2C%20-77.280396%5D%2C%20%5B35.017105%2C%20-85.179085%5D%2C%20%5B40.154697%2C%20-75.13932%5D%2C%20%5B33.722176%2C%20-84.407852%5D%2C%20%5B35.20362%2C%20-80.74851%5D%2C%20%5B37.204002%2C%20-76.573463%5D%2C%20%5B42.06671%2C%20-88.13387%5D%2C%20%5B44.965481%2C%20-93.287987%5D%2C%20%5B41.361877%2C%20-81.650345%5D%2C%20%5B27.157918%2C%20-80.30234899999998%5D%2C%20%5B33.687889%2C%20-117.914543%5D%2C%20%5B39.454807%2C%20-76.646416%5D%2C%20%5B39.17985%2C%20-94.5852%5D%2C%20%5B34.382121999999995%2C%20-81.948952%5D%2C%20%5B44.759415%2C%20-93.248062%5D%2C%20%5B41.46112%2C%20-81.69416%5D%2C%20%5B42.42212%2C%20-123.02712%5D%2C%20%5B40.921581%2C%20-73.809692%5D%2C%20%5B36.648516%2C%20-82.087056%5D%2C%20%5B27.99919%2C%20-82.45384%5D%2C%20%5B35.006654%2C%20-118.951564%5D%2C%20%5B33.38265%2C%20-117.251351%5D%2C%20%5B36.526998%2C%20-119.572701%5D%2C%20%5B37.960651%2C%20-122.330353%5D%2C%20%5B28.33091%2C%20-82.69915%5D%2C%20%5B32.898647%2C%20-96.769081%5D%2C%20%5B33.465969%2C%20-112.134483%5D%2C%20%5B29.8133%2C%20-95.46222%5D%2C%20%5B33.6171%2C%20-84.438622%5D%2C%20%5B44.565944%2C%20-120.143369%5D%2C%20%5B36.864349%2C%20-76.270119%5D%2C%20%5B36.06444000000001%2C%20-80.30048000000002%5D%2C%20%5B35.01559%2C%20-85.25362%5D%2C%20%5B42.97207%2C%20-85.67236%5D%2C%20%5B34.067703%2C%20-117.593521%5D%2C%20%5B43.184067%2C%20-124.244781%5D%2C%20%5B29.68833%2C%20-95.2806%5D%2C%20%5B38.885719%2C%20-76.91855600000002%5D%2C%20%5B38.805288%2C%20-77.213126%5D%2C%20%5B44.147541%2C%20-122.574332%5D%2C%20%5B43.80142%2C%20-91.30142%5D%2C%20%5B42.49144%2C%20-83.03487%5D%2C%20%5B33.96112%2C%20-117.8543%5D%2C%20%5B35.102211%2C%20-79.47567%5D%2C%20%5B30.503596%2C%20-87.217735%5D%2C%20%5B30.241757%2C%20-97.728337%5D%2C%20%5B37.881911%2C%20-122.308246%5D%2C%20%5B42.241829%2C%20-71.854256%5D%2C%20%5B34.152692%2C%20-118.094458%5D%2C%20%5B41.81133300000001%2C%20-71.353989%5D%2C%20%5B36.753876%2C%20-119.827545%5D%2C%20%5B38.44071%2C%20-90.90719%5D%2C%20%5B45.78072%2C%20-122.547592%5D%2C%20%5B38.743789%2C%20-121.210706%5D%2C%20%5B43.285702%2C%20-77.83326%5D%2C%20%5B33.665932%2C%20-117.303246%5D%2C%20%5B34.579529%2C%20-82.691742%5D%2C%20%5B37.425549%2C%20-121.917213%5D%2C%20%5B28.495335%2C%20-81.396918%5D%2C%20%5B27.85162%2C%20-82.34671800000002%5D%2C%20%5B42.356781%2C%20-71.183655%5D%2C%20%5B34.151340000000005%2C%20-80.91169000000002%5D%2C%20%5B30.216276%2C%20-97.751244%5D%2C%20%5B34.410709999999995%2C%20-118.67041%5D%2C%20%5B38.08299%2C%20-122.23342%5D%2C%20%5B35.75898%2C%20-120.950447%5D%2C%20%5B42.64357%2C%20-124.407332%5D%2C%20%5B36.15256%2C%20-86.78708%5D%2C%20%5B39.237026%2C%20-121.035065%5D%2C%20%5B42.34061%2C%20-79.58071%5D%2C%20%5B37.745937%2C%20-122.200958%5D%2C%20%5B32.705755%2C%20-96.840513%5D%2C%20%5B37.740064%2C%20-122.143814%5D%2C%20%5B25.577588%2C%20-80.380441%5D%2C%20%5B33.859375%2C%20-118.299205%5D%2C%20%5B35.97004000000001%2C%20-79.05941999999997%5D%2C%20%5B38.693016%2C%20-121.591072%5D%2C%20%5B35.12332%2C%20-80.91878%5D%2C%20%5B29.941116%2C%20-95.407417%5D%2C%20%5B34.336939%2C%20-117.259165%5D%2C%20%5B29.951202%2C%20-90.085449%5D%2C%20%5B40.62314600000001%2C%20-111.152634%5D%2C%20%5B33.622528%2C%20-111.925728%5D%2C%20%5B40.095719%2C%20-75.359087%5D%2C%20%5B27.919839%2C%20-82.49361999999998%5D%2C%20%5B41.78149000000001%2C%20-88.23172%5D%2C%20%5B35.272095%2C%20-80.93463100000002%5D%2C%20%5B33.6026%2C%20-112.29004%5D%2C%20%5B34.92485%2C%20-82.079971%5D%2C%20%5B30.404322%2C%20-97.725243%5D%2C%20%5B33.938869%2C%20-117.876839%5D%2C%20%5B27.13838%2C%20-82.45804%5D%2C%20%5B37.361534000000006%2C%20-121.878357%5D%2C%20%5B41.52173%2C%20-73.88943%5D%2C%20%5B45.093651%2C%20-93.44648%5D%2C%20%5B30.419590000000003%2C%20-91.187492%5D%2C%20%5B45.63874000000001%2C%20-118.68494%5D%2C%20%5B38.03397800000001%2C%20-78.859886%5D%2C%20%5B35.029783%2C%20-114.597979%5D%2C%20%5B40.035069%2C%20-76.253624%5D%2C%20%5B39.04419%2C%20-84.57848%5D%2C%20%5B47.01666%2C%20-122.29633%5D%2C%20%5B41.234238%2C%20-96.086388%5D%2C%20%5B34.035358%2C%20-118.369453%5D%2C%20%5B39.74916500000001%2C%20-77.223%5D%2C%20%5B33.87656%2C%20-118.07772%5D%2C%20%5B34.19957%2C%20-118.338249%5D%2C%20%5B41.212341%2C%20-95.950447%5D%2C%20%5B28.013115000000006%2C%20-82.454819%5D%2C%20%5B30.416897%2C%20-91.155479%5D%2C%20%5B38.816188%2C%20-76.915766%5D%2C%20%5B33.996262%2C%20-117.36411%5D%2C%20%5B33.874828%2C%20-118.125202%5D%2C%20%5B34.27498%2C%20-118.53624%5D%2C%20%5B41.47011%2C%20-81.74554%5D%2C%20%5B41.969231%2C%20-87.93965899999998%5D%2C%20%5B34.15382%2C%20-118.32589%5D%2C%20%5B41.67214%2C%20-72.82058%5D%2C%20%5B35.772686%2C%20-79.828377%5D%2C%20%5B34.02537%2C%20-118.42875%5D%2C%20%5B32.92514%2C%20-80.742104%5D%2C%20%5B33.465934999999995%2C%20-111.888611%5D%2C%20%5B26.95183%2C%20-82.06177%5D%2C%20%5B29.44487%2C%20-98.659142%5D%2C%20%5B35.748806%2C%20-78.64895600000001%5D%2C%20%5B33.919399%2C%20-117.434021%5D%2C%20%5B36.31241%2C%20-86.66928%5D%2C%20%5B33.42832%2C%20-112.070372%5D%2C%20%5B37.603424%2C%20-122.064148%5D%2C%20%5B39.515022%2C%20-76.407578%5D%2C%20%5B28.498684%2C%20-81.459091%5D%2C%20%5B37.332445%2C%20-121.844787%5D%2C%20%5B37.328884%2C%20-121.870255%5D%2C%20%5B40.851169%2C%20-78.152457%5D%2C%20%5B38.727396%2C%20-76.067351%5D%2C%20%5B37.51394000000001%2C%20-121.939165%5D%2C%20%5B33.80434%2C%20-118.20737%5D%2C%20%5B33.291989%2C%20-111.906683%5D%2C%20%5B33.993561%2C%20-118.069321%5D%2C%20%5B45.09967%2C%20-91.503845%5D%2C%20%5B43.97209%2C%20-93.25515%5D%2C%20%5B35.975506%2C%20-83.918671%5D%2C%20%5B40.27241%2C%20-74.16676%5D%2C%20%5B35.15163%2C%20-80.62956%5D%2C%20%5B32.763870000000004%2C%20-117.160454%5D%2C%20%5B34.13513%2C%20-117.60728%5D%2C%20%5B38.915923%2C%20-94.767669%5D%2C%20%5B29.745924%2C%20-95.55768%5D%2C%20%5B34.64255900000001%2C%20-82.45047%5D%2C%20%5B34.492878000000005%2C%20-79.379311%5D%2C%20%5B32.879406%2C%20-111.933907%5D%2C%20%5B34.499092%2C%20-118.626353%5D%2C%20%5B32.367718%2C%20-86.138901%5D%2C%20%5B39.74506%2C%20-84.09416%5D%2C%20%5B37.496712%2C%20-121.925484%5D%2C%20%5B35.745193%2C%20-78.872375%5D%2C%20%5B35.491768%2C%20-97.531311%5D%2C%20%5B30.188738%2C%20-97.771645%5D%2C%20%5B37.842594%2C%20-122.2976%5D%2C%20%5B29.822313%2C%20-95.37574%5D%2C%20%5B42.331463%2C%20-83.08731800000002%5D%2C%20%5B40.78142%2C%20-73.53566%5D%2C%20%5B37.734608%2C%20-122.406319%5D%2C%20%5B35.37133%2C%20-119.04328999999998%5D%2C%20%5B37.552776%2C%20-77.443588%5D%2C%20%5B34.22833%2C%20-117.25126000000002%5D%2C%20%5B25.769541%2C%20-80.335844%5D%2C%20%5B41.831429%2C%20-87.980438%5D%2C%20%5B39.252477%2C%20-86.65408000000002%5D%2C%20%5B30.20367%2C%20-81.75426%5D%2C%20%5B27.196505%2C%20-82.438538%5D%2C%20%5B34.017975%2C%20-117.472217%5D%2C%20%5B39.827271%2C%20-105.041397%5D%2C%20%5B41.52307%2C%20-73.89501%5D%2C%20%5B34.156265000000005%2C%20-118.264519%5D%2C%20%5B38.27082100000001%2C%20-122.668465%5D%2C%20%5B36.378677%2C%20-119.21562%5D%2C%20%5B40.706201%2C%20-74.25188100000003%5D%2C%20%5B38.47427%2C%20-121.422974%5D%2C%20%5B33.781532%2C%20-84.390869%5D%2C%20%5B40.220646%2C%20-76.093758%5D%2C%20%5B45.650671%2C%20-122.566384%5D%2C%20%5B40.781815%2C%20-74.162514%5D%2C%20%5B34.70740900000001%2C%20-112.149864%5D%2C%20%5B48.776783%2C%20-122.444878%5D%2C%20%5B43.016575%2C%20-83.773026%5D%2C%20%5B35.213196%2C%20-80.863945%5D%2C%20%5B34.17667%2C%20-118.4683%5D%2C%20%5B29.949478000000006%2C%20-90.086136%5D%2C%20%5B35.565609%2C%20-97.620697%5D%2C%20%5B42.3633%2C%20-71.06066899999998%5D%2C%20%5B38.638069%2C%20-121.203156%5D%2C%20%5B41.824966%2C%20-73.772141%5D%2C%20%5B38.698416%2C%20-77.780578%5D%2C%20%5B28.369864%2C%20-81.309589%5D%2C%20%5B39.84798%2C%20-75.09573%5D%2C%20%5B42.381714%2C%20-83.419685%5D%2C%20%5B33.783735%2C%20-118.091473%5D%2C%20%5B33.868339%2C%20-117.761177%5D%2C%20%5B30.109738%2C%20-81.50916600000002%5D%2C%20%5B34.02621%2C%20-117.33354%5D%2C%20%5B37.638248%2C%20-120.905821%5D%2C%20%5B33.791386%2C%20-84.392204%5D%2C%20%5B45.06701%2C%20-93.18592%5D%2C%20%5B40.57911%2C%20-75.62843000000002%5D%2C%20%5B36.140709%2C%20-95.900948%5D%2C%20%5B45.49641%2C%20-122.89171%5D%2C%20%5B42.225368%2C%20-88.76438900000002%5D%2C%20%5B33.218861%2C%20-79.969612%5D%2C%20%5B25.92184%2C%20-80.21123%5D%2C%20%5B34.0368%2C%20-118.377555%5D%2C%20%5B39.152151%2C%20-76.679838%5D%2C%20%5B47.949451%2C%20-122.199257%5D%2C%20%5B40.12003%2C%20-75.068078%5D%2C%20%5B42.96556500000001%2C%20-83.806984%5D%2C%20%5B39.301768%2C%20-76.611561%5D%2C%20%5B40.570549%2C%20-89.636169%5D%2C%20%5B43.05887%2C%20-76.08754%5D%2C%20%5B44.496188%2C%20-122.845173%5D%2C%20%5B34.04569%2C%20-118.21552%5D%2C%20%5B39.99318%2C%20-85.83743%5D%2C%20%5B39.481685%2C%20-123.361906%5D%2C%20%5B40.33799000000001%2C%20-74.50238%5D%2C%20%5B25.886459%2C%20-80.21064100000002%5D%2C%20%5B43.1382%2C%20-77.578035%5D%2C%20%5B42.25512%2C%20-88.00144%5D%2C%20%5B38.683201%2C%20-78.203978%5D%2C%20%5B40.987434%2C%20-73.679855%5D%2C%20%5B40.845625%2C%20-73.943601%5D%2C%20%5B30.26404%2C%20-97.735718%5D%2C%20%5B41.00055%2C%20-76.610802%5D%2C%20%5B37.923637%2C%20-121.242629%5D%2C%20%5B38.64016%2C%20-121.271599%5D%2C%20%5B43.036018%2C%20-83.713211%5D%2C%20%5B40.702377%2C%20-74.427666%5D%2C%20%5B34.485675%2C%20-118.151001%5D%2C%20%5B35.462189%2C%20-97.519432%5D%2C%20%5B40.583939%2C%20-73.830933%5D%2C%20%5B30.32865%2C%20-85.761627%5D%2C%20%5B39.54453%2C%20-76.66646%5D%2C%20%5B43.96991%2C%20-92.46303%5D%2C%20%5B44.638334%2C%20-123.800914%5D%2C%20%5B39.910618%2C%20-75.15815%5D%2C%20%5B34.0819%2C%20-117.716%5D%2C%20%5B34.581924%2C%20-118.135246%5D%2C%20%5B25.91236%2C%20-80.2097%5D%2C%20%5B40.845722%2C%20-73.929606%5D%2C%20%5B34.068657%2C%20-80.918633%5D%2C%20%5B32.8162%2C%20-96.761528%5D%2C%20%5B45.18934%2C%20-93.5435%5D%2C%20%5B40.778629%2C%20-72.859779%5D%2C%20%5B30.440748%2C%20-97.750572%5D%2C%20%5B41.713558%2C%20-87.606804%5D%2C%20%5B33.8778%2C%20-84.249619%5D%2C%20%5B29.832024%2C%20-95.376045%5D%2C%20%5B35.24252%2C%20-80.844365%5D%2C%20%5B34.100974%2C%20-118.248685%5D%2C%20%5B25.783079%2C%20-80.173012%5D%2C%20%5B42.23397%2C%20-121.52341%5D%2C%20%5B38.47806%2C%20-78.61291999999997%5D%2C%20%5B28.011083000000006%2C%20-82.454169%5D%2C%20%5B45.533847%2C%20-122.580483%5D%2C%20%5B39.034983%2C%20-84.59899300000002%5D%2C%20%5B36.31893%2C%20-86.70246999999998%5D%2C%20%5B33.442188%2C%20-117.627449%5D%2C%20%5B34.789242%2C%20-82.37814300000002%5D%2C%20%5B41.76981%2C%20-72.67408%5D%2C%20%5B33.924606%2C%20-118.104057%5D%2C%20%5B39.555674%2C%20-123.428914%5D%2C%20%5B37.824861%2C%20-122.313611%5D%2C%20%5B35.833481%2C%20-78.76765400000002%5D%2C%20%5B25.97952%2C%20-80.16601%5D%2C%20%5B28.422041%2C%20-81.422951%5D%2C%20%5B32.836%2C%20-96.606%5D%2C%20%5B33.997066%2C%20-117.93118%5D%2C%20%5B41.148933%2C%20-74.025017%5D%2C%20%5B40.14979%2C%20-74.66803%5D%2C%20%5B29.594891%2C%20-95.196129%5D%2C%20%5B40.165878%2C%20-74.899895%5D%2C%20%5B42.27616%2C%20-122.81006%5D%2C%20%5B40.58775%2C%20-111.9102%5D%2C%20%5B45.539551%2C%20-122.455543%5D%2C%20%5B43.326435%2C%20-124.205119%5D%2C%20%5B26.083785%2C%20-80.19329599999998%5D%2C%20%5B38.473618%2C%20-122.894882%5D%2C%20%5B34.61483%2C%20-120.189781%5D%2C%20%5B41.65813%2C%20-87.58708%5D%2C%20%5B47.61829%2C%20-122.33098%5D%2C%20%5B45.229543%2C%20-120.720723%5D%2C%20%5B32.88421%2C%20-96.69716%5D%2C%20%5B34.0453%2C%20-118.27086%5D%2C%20%5B47.52475%2C%20-122.69424%5D%2C%20%5B34.962540000000004%2C%20-90.00143%5D%2C%20%5B44.42216%2C%20-121.8573%5D%2C%20%5B43.131176%2C%20-77.72223100000002%5D%2C%20%5B38.069431%2C%20-122.538918%5D%2C%20%5B33.451591%2C%20-112.203461%5D%2C%20%5B43.66688%2C%20-123.47003%5D%2C%20%5B33.954726%2C%20-117.305097%5D%2C%20%5B37.657505%2C%20-77.605141%5D%2C%20%5B31.869774%2C%20-106.433419%5D%2C%20%5B33.582531%2C%20-111.83506%5D%2C%20%5B25.9055%2C%20-80.32435%5D%2C%20%5B32.782852%2C%20-96.794479%5D%2C%20%5B32.647507%2C%20-111.393341%5D%2C%20%5B34.17302%2C%20-118.30643%5D%2C%20%5B38.41888%2C%20-121.89413%5D%2C%20%5B47.611473%2C%20-122.327118%5D%2C%20%5B34.072742%2C%20-118.053626%5D%2C%20%5B38.683023%2C%20-121.33652%5D%2C%20%5B33.714588%2C%20-84.240868%5D%2C%20%5B29.77385%2C%20-95.3404%5D%2C%20%5B33.948593%2C%20-84.13787099999998%5D%2C%20%5B33.424496000000005%2C%20-111.926285%5D%2C%20%5B39.225132%2C%20-84.366745%5D%2C%20%5B35.02753%2C%20-89.75694%5D%2C%20%5B40.621099%2C%20-74.169104%5D%2C%20%5B38.84670300000001%2C%20-77.43220500000002%5D%2C%20%5B41.77304%2C%20-87.62557%5D%2C%20%5B45.04389000000001%2C%20-93.40074%5D%2C%20%5B38.770333%2C%20-77.537459%5D%2C%20%5B34.028042%2C%20-118.274508%5D%2C%20%5B32.980843%2C%20-86.688744%5D%2C%20%5B28.459639000000006%2C%20-82.627296%5D%2C%20%5B41.277779%2C%20-96.014343%5D%2C%20%5B37.85272%2C%20-122.29991%5D%2C%20%5B34.094792%2C%20-118.311105%5D%2C%20%5B42.41069%2C%20-83.08171800000002%5D%2C%20%5B29.724895%2C%20-95.476501%5D%2C%20%5B33.510113%2C%20-80.844482%5D%2C%20%5B40.754172%2C%20-77.168337%5D%2C%20%5B37.64603%2C%20-98.739436%5D%2C%20%5B38.21435200000001%2C%20-85.742889%5D%2C%20%5B40.732021%2C%20-73.925522%5D%2C%20%5B33.427681%2C%20-84.181717%5D%2C%20%5B37.918967%2C%20-120.4518%5D%2C%20%5B39.77999000000001%2C%20-104.953%5D%2C%20%5B47.59028%2C%20-122.32931%5D%2C%20%5B26.57241%2C%20-81.661626%5D%2C%20%5B29.888966%2C%20-95.411964%5D%2C%20%5B34.044922%2C%20-81.100258%5D%2C%20%5B31.747604%2C%20-106.318901%5D%2C%20%5B40.10741%2C%20-75.11016%5D%2C%20%5B44.36547%2C%20-92.7997%5D%2C%20%5B32.19185%2C%20-110.82398%5D%2C%20%5B35.460918%2C%20-97.565598%5D%2C%20%5B38.279812%2C%20-85.636131%5D%2C%20%5B35.556046%2C%20-97.517509%5D%2C%20%5B37.32717%2C%20-121.94089%5D%2C%20%5B36.853821%2C%20-121.771088%5D%2C%20%5B39.91608%2C%20-76.62958499999998%5D%2C%20%5B35.4933%2C%20-97.60085%5D%2C%20%5B35.77923%2C%20-78.70557%5D%2C%20%5B33.949703%2C%20-118.170532%5D%2C%20%5B29.707087%2C%20-95.253738%5D%2C%20%5B40.854571%2C%20-73.968244%5D%2C%20%5B39.906433%2C%20-86.044655%5D%2C%20%5B36.06042%2C%20-95.88632%5D%2C%20%5B33.46278%2C%20-112.16351%5D%2C%20%5B29.737999%2C%20-95.265205%5D%2C%20%5B34.143044%2C%20-117.318265%5D%2C%20%5B40.78475%2C%20-111.95291%5D%2C%20%5B41.77461%2C%20-72.57781%5D%2C%20%5B29.738708000000006%2C%20-95.507446%5D%2C%20%5B29.831854%2C%20-95.563667%5D%2C%20%5B38.612782%2C%20-90.199585%5D%2C%20%5B30.517643%2C%20-81.635216%5D%2C%20%5B41.542591%2C%20-72.98996700000002%5D%2C%20%5B38.054874%2C%20-122.230558%5D%2C%20%5B32.81163%2C%20-96.8531%5D%2C%20%5B34.106808%2C%20-117.821835%5D%2C%20%5B37.544589%2C%20-77.42814399999997%5D%2C%20%5B33.780769%2C%20-78.971588%5D%2C%20%5B25.845326%2C%20-80.322514%5D%2C%20%5B41.16151%2C%20-112.022949%5D%2C%20%5B27.444193%2C%20-82.468956%5D%2C%20%5B30.525264%2C%20-91.180336%5D%2C%20%5B38.58861%2C%20-121.29111%5D%2C%20%5B35.897837%2C%20-78.501638%5D%2C%20%5B39.780212%2C%20-104.939514%5D%2C%20%5B35.740446%2C%20-78.804817%5D%2C%20%5B33.462337%2C%20-112.238297%5D%2C%20%5B40.267437%2C%20-74.510508%5D%2C%20%5B30.466375%2C%20-91.105499%5D%2C%20%5B29.78413%2C%20-95.47405%5D%2C%20%5B40.563915%2C%20-89.633202%5D%2C%20%5B34.160186%2C%20-117.329466%5D%2C%20%5B39.142986%2C%20-77.65218399999998%5D%2C%20%5B33.462270000000004%2C%20-112.22652%5D%2C%20%5B33.993626%2C%20-117.358177%5D%2C%20%5B35.280994%2C%20-114.175661%5D%2C%20%5B41.097534%2C%20-74.040215%5D%2C%20%5B38.63515%2C%20-107.98675%5D%2C%20%5B35.200418%2C%20-80.764094%5D%2C%20%5B34.053272%2C%20-117.547928%5D%2C%20%5B38.34052%2C%20-121.3342%5D%2C%20%5B38.101745%2C%20-122.22981%5D%2C%20%5B30.314785%2C%20-81.788593%5D%2C%20%5B33.933434000000005%2C%20-118.350723%5D%2C%20%5B34.960232%2C%20-82.30690799999998%5D%2C%20%5B45.150192%2C%20-122.793027%5D%2C%20%5B44.406512%2C%20-123.891318%5D%2C%20%5B39.483587%2C%20-77.34483399999998%5D%2C%20%5B42.555328%2C%20-79.112%5D%2C%20%5B35.501209%2C%20-97.485542%5D%2C%20%5B29.67697%2C%20-95.5599%5D%2C%20%5B45.287758%2C%20-93.002441%5D%2C%20%5B34.127579%2C%20-118.27372%5D%2C%20%5B26.02792%2C%20-80.16573000000002%5D%2C%20%5B34.256702000000004%2C%20-79.785881%5D%2C%20%5B47.612488%2C%20-122.328056%5D%2C%20%5B40.67678%2C%20-74.00142%5D%2C%20%5B32.70786%2C%20-96.82968%5D%2C%20%5B36.74786%2C%20-119.822884%5D%2C%20%5B44.002057%2C%20-92.483564%5D%2C%20%5B32.402085%2C%20-93.793062%5D%2C%20%5B44.979889%2C%20-92.777634%5D%2C%20%5B39.026955%2C%20-121.513351%5D%2C%20%5B40.15905%2C%20-75.064552%5D%2C%20%5B33.421021%2C%20-111.926308%5D%2C%20%5B32.764128%2C%20-96.936194%5D%2C%20%5B34.185559999999995%2C%20-118.31755%5D%2C%20%5B38.672345%2C%20-77.246288%5D%2C%20%5B43.501725%2C%20-88.809177%5D%2C%20%5B34.03476%2C%20-117.974571%5D%2C%20%5B33.742999%2C%20-117.223473%5D%2C%20%5B33.705444%2C%20-84.403511%5D%2C%20%5B40.72429%2C%20-111.90703%5D%2C%20%5B34.911713%2C%20-80.96822399999998%5D%2C%20%5B32.860626%2C%20-97.010262%5D%2C%20%5B34.01254%2C%20-81.38212%5D%2C%20%5B45.559174%2C%20-122.578522%5D%2C%20%5B30.387161%2C%20-91.06308%5D%2C%20%5B34.378979%2C%20-118.492172%5D%2C%20%5B34.157602000000004%2C%20-118.431305%5D%2C%20%5B47.193439%2C%20-122.239426%5D%2C%20%5B38.96283%2C%20-78.44035500000003%5D%2C%20%5B37.63273%2C%20-122.40302%5D%2C%20%5B30.685789%2C%20-88.126991%5D%2C%20%5B35.276745%2C%20-80.807411%5D%2C%20%5B41.64444%2C%20-88.08046999999998%5D%2C%20%5B35.087044%2C%20-90.076393%5D%2C%20%5B32.768615999999994%2C%20-117.129654%5D%2C%20%5B37.317204%2C%20-121.974594%5D%2C%20%5B34.748875%2C%20-112.112534%5D%2C%20%5B33.461617%2C%20-112.444153%5D%2C%20%5B41.396591%2C%20-88.191704%5D%2C%20%5B44.951816%2C%20-93.133474%5D%2C%20%5B26.10289%2C%20-80.25010999999998%5D%2C%20%5B47.79681%2C%20-122.21835%5D%2C%20%5B32.79177%2C%20-96.73262%5D%2C%20%5B33.629539%2C%20-79.03469100000002%5D%2C%20%5B35.468461%2C%20-94.262506%5D%2C%20%5B35.90535%2C%20-78.771683%5D%2C%20%5B38.234119%2C%20-122.618462%5D%2C%20%5B37.725623%2C%20-122.401803%5D%2C%20%5B39.1725%2C%20-121.05417%5D%2C%20%5B37.551121%2C%20-120.828728%5D%2C%20%5B32.73753%2C%20-117.15607%5D%2C%20%5B37.457062%2C%20-121.131828%5D%2C%20%5B43.11733%2C%20-123.35903%5D%2C%20%5B40.134742%2C%20-75.445026%5D%2C%20%5B26.20001%2C%20-80.29574699999998%5D%2C%20%5B29.937056%2C%20-95.5467%5D%2C%20%5B30.39421%2C%20-91.08671%5D%2C%20%5B34.121315%2C%20-117.261828%5D%2C%20%5B33.987705%2C%20-118.39906299999998%5D%2C%20%5B41.597721%2C%20-81.54585300000002%5D%2C%20%5B32.888775%2C%20-86.624481%5D%2C%20%5B33.872064%2C%20-117.665251%5D%2C%20%5B30.474190000000004%2C%20-87.248192%5D%2C%20%5B42.247608%2C%20-87.87169899999998%5D%2C%20%5B35.027664%2C%20-80.965065%5D%2C%20%5B34.425646%2C%20-118.423658%5D%2C%20%5B42.871523%2C%20-78.789873%5D%2C%20%5B39.72571%2C%20-105.02075%5D%2C%20%5B41.53187%2C%20-94.0431%5D%2C%20%5B37.47625%2C%20-122.187057%5D%2C%20%5B27.471581%2C%20-82.563019%5D%2C%20%5B43.37421%2C%20-88.30118%5D%2C%20%5B38.604874%2C%20-90.308525%5D%2C%20%5B40.199265%2C%20-75.11856800000002%5D%2C%20%5B32.771137%2C%20-96.873863%5D%2C%20%5B35.84735999999999%2C%20-78.79453000000002%5D%2C%20%5B37.546158%2C%20-77.442856%5D%2C%20%5B32.662701%2C%20-96.725068%5D%2C%20%5B38.01306500000001%2C%20-122.002136%5D%2C%20%5B40.636015%2C%20-74.1973%5D%2C%20%5B34.173478%2C%20-118.553463%5D%2C%20%5B33.89711%2C%20-81.156548%5D%2C%20%5B37.421535%2C%20-121.93466200000002%5D%2C%20%5B34.167165000000004%2C%20-82.194914%5D%2C%20%5B44.08423%2C%20-123.0468%5D%2C%20%5B36.167599%2C%20-86.762199%5D%2C%20%5B34.266009999999994%2C%20-118.463013%5D%2C%20%5B35.20985%2C%20-80.75718%5D%2C%20%5B38.900962%2C%20-77.015117%5D%2C%20%5B34.209233000000005%2C%20-117.086653%5D%2C%20%5B38.557995%2C%20-121.675636%5D%2C%20%5B38.080128%2C%20-90.58287%5D%2C%20%5B37.321956%2C%20-121.890827%5D%2C%20%5B36.751942%2C%20-119.791267%5D%2C%20%5B33.982372999999995%2C%20-118.280137%5D%2C%20%5B33.334805%2C%20-111.972237%5D%2C%20%5B34.029719%2C%20-118.403062%5D%2C%20%5B30.431051%2C%20-91.084015%5D%2C%20%5B34.913441%2C%20-80.98254399999998%5D%2C%20%5B32.63745%2C%20-96.70197%5D%2C%20%5B38.36456%2C%20-121.96465%5D%2C%20%5B43.130985%2C%20-77.646416%5D%2C%20%5B35.19481%2C%20-80.76629%5D%2C%20%5B37.89539%2C%20-122.11373%5D%2C%20%5B39.93577%2C%20-75.08634%5D%2C%20%5B39.264081%2C%20-76.589395%5D%2C%20%5B31.760857%2C%20-106.400116%5D%2C%20%5B27.833759000000004%2C%20-82.699913%5D%2C%20%5B43.129693%2C%20-124.364147%5D%2C%20%5B34.050986%2C%20-118.223229%5D%2C%20%5B40.70097%2C%20-73.99471%5D%2C%20%5B34.587357%2C%20-86.451126%5D%2C%20%5B34.015591%2C%20-118.17231%5D%2C%20%5B33.854001000000004%2C%20-117.959244%5D%2C%20%5B32.885582%2C%20-96.700478%5D%2C%20%5B32.72611%2C%20-97.32039%5D%2C%20%5B35.24253%2C%20-89.89723000000002%5D%2C%20%5B47.989849%2C%20-122.209793%5D%2C%20%5B34.632168%2C%20-81.77301%5D%2C%20%5B33.893563%2C%20-84.263292%5D%2C%20%5B34.055739%2C%20-118.452239%5D%2C%20%5B32.97446%2C%20-96.71684%5D%2C%20%5B33.928823%2C%20-118.291579%5D%2C%20%5B25.73848%2C%20-80.38419300000002%5D%2C%20%5B33.005714000000005%2C%20-80.102402%5D%2C%20%5B38.790867%2C%20-77.17615500000002%5D%2C%20%5B41.182001%2C%20-111.949159%5D%2C%20%5B35.783096%2C%20-78.59251400000002%5D%2C%20%5B40.81573%2C%20-73.93097%5D%2C%20%5B36.174221%2C%20-86.80074300000003%5D%2C%20%5B42.336269%2C%20-71.053864%5D%2C%20%5B41.902233%2C%20-88.10172299999998%5D%2C%20%5B38.66029%2C%20-77.27796%5D%2C%20%5B34.030655%2C%20-117.610558%5D%2C%20%5B43.727603%2C%20-75.410677%5D%2C%20%5B35.44229%2C%20-80.86548%5D%2C%20%5B36.04538%2C%20-86.713249%5D%2C%20%5B30.686090000000004%2C%20-88.08773000000002%5D%2C%20%5B31.260340000000006%2C%20-97.37924%5D%2C%20%5B38.98049%2C%20-76.55139%5D%2C%20%5B32.753342%2C%20-96.764732%5D%2C%20%5B38.473633%2C%20-122.891518%5D%2C%20%5B37.709465%2C%20-122.122139%5D%2C%20%5B44.076984%2C%20-122.765286%5D%2C%20%5B38.64356%2C%20-121.39427%5D%2C%20%5B26.49597%2C%20-81.84565699999997%5D%2C%20%5B40.6449%2C%20-75.42688000000003%5D%2C%20%5B32.426136%2C%20-88.45194599999998%5D%2C%20%5B42.772039%2C%20-74.073697%5D%2C%20%5B32.24123400000001%2C%20-80.811073%5D%2C%20%5B29.81405%2C%20-95.36061%5D%2C%20%5B43.091412%2C%20-75.747284%5D%2C%20%5B35.27029%2C%20-80.81385%5D%2C%20%5B28.263756%2C%20-81.652794%5D%2C%20%5B34.017835%2C%20-117.530803%5D%2C%20%5B33.6702%2C%20-112.03737%5D%2C%20%5B45.018571%2C%20-93.282326%5D%2C%20%5B34.065517%2C%20-117.5448%5D%2C%20%5B39.349163%2C%20-76.745705%5D%2C%20%5B26.432213%2C%20-81.77793100000002%5D%2C%20%5B40.737487%2C%20-73.851095%5D%2C%20%5B34.157162%2C%20-118.379395%5D%2C%20%5B32.83951%2C%20-97.16602%5D%2C%20%5B33.139229%2C%20-80.155479%5D%2C%20%5B40.77524%2C%20-73.92324%5D%2C%20%5B43.10527%2C%20-89.316353%5D%2C%20%5B45.501079%2C%20-118.42078899999998%5D%2C%20%5B33.778839000000005%2C%20-117.89566%5D%2C%20%5B40.379662%2C%20-74.154625%5D%2C%20%5B39.78014%2C%20-104.95929%5D%2C%20%5B39.841581%2C%20-96.422786%5D%2C%20%5B44.51796%2C%20-93.84777%5D%2C%20%5B38.511368%2C%20-122.775558%5D%2C%20%5B29.688407%2C%20-95.570371%5D%2C%20%5B40.14328%2C%20-122.323112%5D%2C%20%5B40.55877%2C%20-111.8722%5D%2C%20%5B39.83818%2C%20-75.15316999999997%5D%2C%20%5B35.74876%2C%20-78.64886%5D%2C%20%5B40.179985%2C%20-82.912582%5D%2C%20%5B34.509476%2C%20-120.226318%5D%2C%20%5B38.660557%2C%20-121.36158799999998%5D%2C%20%5B43.23311%2C%20-77.92766999999998%5D%2C%20%5B38.9319%2C%20-94.667564%5D%2C%20%5B33.930894%2C%20-118.298352%5D%2C%20%5B32.79599%2C%20-96.833876%5D%2C%20%5B30.332333%2C%20-97.75547%5D%2C%20%5B39.034821%2C%20-84.599937%5D%2C%20%5B33.698640000000005%2C%20-111.8905%5D%2C%20%5B38.898964%2C%20-77.197113%5D%2C%20%5B38.552139%2C%20-121.415749%5D%2C%20%5B34.038456%2C%20-118.274025%5D%2C%20%5B30.237671%2C%20-97.662331%5D%2C%20%5B32.752559999999995%2C%20-96.770897%5D%2C%20%5B34.801708000000005%2C%20-82.225677%5D%2C%20%5B40.718065%2C%20-112.114229%5D%2C%20%5B42.28164%2C%20-71.08699%5D%2C%20%5B38.33476%2C%20-122.71294%5D%2C%20%5B36.84348%2C%20-76.13691999999998%5D%2C%20%5B45.44049%2C%20-118.37077%5D%2C%20%5B39.87551%2C%20-75.04966%5D%2C%20%5B38.762973%2C%20-90.150022%5D%2C%20%5B34.298953999999995%2C%20-117.45784%5D%2C%20%5B29.02002%2C%20-82.15576%5D%2C%20%5B42.849899%2C%20-78.79026%5D%2C%20%5B43.252956%2C%20-77.64679%5D%2C%20%5B27.821191%2C%20-82.667804%5D%2C%20%5B33.87678%2C%20-118.17195%5D%2C%20%5B35.115201%2C%20-80.962347%5D%2C%20%5B33.77013%2C%20-84.64542%5D%2C%20%5B30.263351%2C%20-81.60773499999998%5D%2C%20%5B40.684954%2C%20-111.87142%5D%2C%20%5B37.324524%2C%20-121.889542%5D%2C%20%5B30.439766%2C%20-97.698326%5D%2C%20%5B38.772331%2C%20-76.964928%5D%2C%20%5B42.551563%2C%20-71.782822%5D%2C%20%5B35.62307%2C%20-78.56709000000002%5D%2C%20%5B38.474449%2C%20-122.755608%5D%2C%20%5B34.753499%2C%20-82.089986%5D%2C%20%5B45.27168%2C%20-93.00735%5D%2C%20%5B37.529945%2C%20-77.37236%5D%2C%20%5B30.19021%2C%20-90.91489%5D%2C%20%5B30.226359%2C%20-97.706378%5D%2C%20%5B44.43876%2C%20-121.95413%5D%2C%20%5B39.017715%2C%20-84.480896%5D%2C%20%5B33.778335%2C%20-117.873964%5D%2C%20%5B37.135833%2C%20-121.636389%5D%2C%20%5B39.431129%2C%20-105.464348%5D%2C%20%5B39.776569%2C%20-104.99482%5D%2C%20%5B33.535876%2C%20-84.458438%5D%2C%20%5B30.202879%2C%20-92.018036%5D%2C%20%5B39.472652%2C%20-74.633492%5D%2C%20%5B25.890105%2C%20-80.243408%5D%2C%20%5B34.152615000000004%2C%20-118.113297%5D%2C%20%5B38.55564%2C%20-121.44127%5D%2C%20%5B34.101085999999995%2C%20-117.199576%5D%2C%20%5B40.84584%2C%20-73.931061%5D%2C%20%5B42.62662%2C%20-123.38318%5D%2C%20%5B36.036744%2C%20-119.039491%5D%2C%20%5B37.89838%2C%20-122.30933%5D%2C%20%5B30.395247%2C%20-91.109673%5D%2C%20%5B29.400921000000004%2C%20-98.440964%5D%2C%20%5B40.80459000000001%2C%20-73.91885%5D%2C%20%5B35.390751%2C%20-80.84584%5D%2C%20%5B30.12826%2C%20-97.800545%5D%2C%20%5B40.653797%2C%20-74.008087%5D%2C%20%5B35.001059999999995%2C%20-80.86255600000001%5D%2C%20%5B40.18942%2C%20-74.74744%5D%2C%20%5B39.969875%2C%20-76.781166%5D%2C%20%5B44.693787%2C%20-123.05217%5D%2C%20%5B45.507012%2C%20-122.670625%5D%2C%20%5B29.95385%2C%20-95.422607%5D%2C%20%5B44.80506%2C%20-93.22858%5D%2C%20%5B32.983578%2C%20-96.712364%5D%2C%20%5B41.85887%2C%20-88.10108000000002%5D%2C%20%5B34.19854%2C%20-117.417508%5D%2C%20%5B30.150635%2C%20-92.09388%5D%2C%20%5B33.968117%2C%20-118.168053%5D%2C%20%5B34.810775%2C%20-82.438164%5D%2C%20%5B30.212955%2C%20-97.658722%5D%2C%20%5B42.502148%2C%20-71.243126%5D%2C%20%5B33.42645%2C%20-112.02957%5D%2C%20%5B38.915241%2C%20-77.430092%5D%2C%20%5B29.8042%2C%20-95.293096%5D%2C%20%5B29.866288%2C%20-95.363397%5D%2C%20%5B36.806312%2C%20-76.361514%5D%2C%20%5B42.600788%2C%20-71.071747%5D%2C%20%5B34.077971999999995%2C%20-81.152649%5D%2C%20%5B37.66361%2C%20-122.10584%5D%2C%20%5B43.16048%2C%20-77.53945999999998%5D%2C%20%5B29.841906%2C%20-95.390388%5D%2C%20%5B45.57745%2C%20-122.76167%5D%2C%20%5B34.070695%2C%20-119.012176%5D%2C%20%5B34.077663%2C%20-117.998184%5D%2C%20%5B43.22426%2C%20-117.05207%5D%2C%20%5B34.75378%2C%20-82.287735%5D%2C%20%5B40.118804%2C%20-75.347827%5D%2C%20%5B29.937456%2C%20-95.507538%5D%2C%20%5B38.449753%2C%20-122.688301%5D%2C%20%5B44.951584%2C%20-93.167221%5D%2C%20%5B37.52031%2C%20-121.9838%5D%2C%20%5B25.910166%2C%20-80.21167%5D%2C%20%5B33.856705%2C%20-118.284599%5D%2C%20%5B33.852191999999995%2C%20-118.11703500000002%5D%2C%20%5B34.170231%2C%20-118.304405%5D%2C%20%5B37.083115%2C%20-120.492767%5D%2C%20%5B37.98325300000001%2C%20-122.315956%5D%2C%20%5B38.998178%2C%20-121.403503%5D%2C%20%5B41.6021%2C%20-87.174118%5D%2C%20%5B35.803837%2C%20-78.707024%5D%2C%20%5B40.772255%2C%20-73.333694%5D%2C%20%5B36.738737%2C%20-119.808333%5D%2C%20%5B40.452244%2C%20-79.950851%5D%2C%20%5B33.484032%2C%20-82.08107%5D%2C%20%5B34.059508%2C%20-118.172845%5D%2C%20%5B39.21414%2C%20-84.46104%5D%2C%20%5B35.1142%2C%20-80.69279%5D%2C%20%5B30.275391%2C%20-97.731295%5D%2C%20%5B33.38842%2C%20-82.02658100000002%5D%2C%20%5B28.508842%2C%20-81.4188%5D%2C%20%5B45.680688%2C%20-118.736678%5D%2C%20%5B36.094921%2C%20-95.849289%5D%2C%20%5B32.862435%2C%20-96.658626%5D%2C%20%5B25.694277%2C%20-80.38723%5D%2C%20%5B25.81711%2C%20-80.20644%5D%2C%20%5B39.01536%2C%20-77.12218%5D%2C%20%5B37.792828%2C%20-121.190193%5D%2C%20%5B34.0928%2C%20-81.206177%5D%2C%20%5B32.78237%2C%20-117.1141%5D%2C%20%5B34.091141%2C%20-118.258392%5D%2C%20%5B33.92142%2C%20-118.08278%5D%2C%20%5B47.395756%2C%20-121.480295%5D%2C%20%5B45.161225%2C%20-122.54364%5D%2C%20%5B34.12057%2C%20-112.94645%5D%2C%20%5B40.75777%2C%20-73.73823%5D%2C%20%5B37.241516%2C%20-93.353394%5D%2C%20%5B34.074847%2C%20-117.856166%5D%2C%20%5B44.859962%2C%20-93.382996%5D%2C%20%5B33.959064%2C%20-117.858086%5D%2C%20%5B35.126694%2C%20-80.656708%5D%2C%20%5B29.915540000000004%2C%20-81.33119%5D%2C%20%5B35.750423%2C%20-78.768314%5D%2C%20%5B30.247078%2C%20-92.066292%5D%2C%20%5B47.385944%2C%20-122.827842%5D%2C%20%5B40.4678%2C%20-111.91123%5D%2C%20%5B41.727749%2C%20-72.349907%5D%2C%20%5B34.233559%2C%20-118.472977%5D%2C%20%5B29.788928%2C%20-95.659905%5D%2C%20%5B33.377971%2C%20-84.626449%5D%2C%20%5B35.276756%2C%20-80.806931%5D%2C%20%5B33.984759000000004%2C%20-117.365246%5D%2C%20%5B43.0247%2C%20-78.97669%5D%2C%20%5B33.952416%2C%20-83.398816%5D%2C%20%5B37.71270300000001%2C%20-121.094383%5D%2C%20%5B37.552818%2C%20-77.461037%5D%2C%20%5B34.023788%2C%20-118.27639%5D%2C%20%5B45.86456%2C%20-123.56686%5D%2C%20%5B30.322535%2C%20-97.70687%5D%2C%20%5B30.406218%2C%20-97.642267%5D%2C%20%5B33.065952%2C%20-96.690079%5D%2C%20%5B33.913174%2C%20-118.180505%5D%2C%20%5B34.064007000000004%2C%20-117.296761%5D%2C%20%5B45.152969%2C%20-123.197533%5D%2C%20%5B37.981949%2C%20-84.422859%5D%2C%20%5B33.939964%2C%20-118.291748%5D%2C%20%5B45.553837%2C%20-122.407738%5D%2C%20%5B37.22169%2C%20-120.371006%5D%2C%20%5B39.199868%2C%20-121.034933%5D%2C%20%5B37.87640800000001%2C%20-122.046349%5D%2C%20%5B40.71772%2C%20-111.95335%5D%2C%20%5B37.12690900000001%2C%20-120.252527%5D%2C%20%5B26.046556%2C%20-80.208809%5D%2C%20%5B38.233483%2C%20-85.62671800000003%5D%2C%20%5B36.312447%2C%20-86.665337%5D%2C%20%5B36.045591%2C%20-95.859072%5D%2C%20%5B34.23082%2C%20-117.216011%5D%2C%20%5B40.132241%2C%20-105.10254%5D%2C%20%5B33.390785%2C%20-86.792488%5D%2C%20%5B34.480175%2C%20-82.648087%5D%2C%20%5B33.94399%2C%20-117.2864%5D%2C%20%5B39.956558%2C%20-82.983078%5D%2C%20%5B37.74062%2C%20-121.503433%5D%2C%20%5B38.11328%2C%20-85.86251%5D%2C%20%5B35.38130200000001%2C%20-97.503685%5D%2C%20%5B37.432868%2C%20-120.779282%5D%2C%20%5B33.941727%2C%20-84.505447%5D%2C%20%5B35.3676%2C%20-80.81676%5D%2C%20%5B38.96443%2C%20-76.90476%5D%2C%20%5B30.408619%2C%20-97.716049%5D%2C%20%5B30.404022%2C%20-91.182014%5D%5D%2C%0A%20%20%20%20%20%20%20%20%20%20%20%20%20%20%20%20%7B%0A%20%20%20%20%20%20%20%20%20%20%20%20%20%20%20%20%20%20%20%20minOpacity%3A%200.5%2C%0A%20%20%20%20%20%20%20%20%20%20%20%20%20%20%20%20%20%20%20%20maxZoom%3A%2018%2C%0A%20%20%20%20%20%20%20%20%20%20%20%20%20%20%20%20%20%20%20%20max%3A%201.0%2C%0A%20%20%20%20%20%20%20%20%20%20%20%20%20%20%20%20%20%20%20%20radius%3A%2025%2C%0A%20%20%20%20%20%20%20%20%20%20%20%20%20%20%20%20%20%20%20%20blur%3A%2015%2C%0A%20%20%20%20%20%20%20%20%20%20%20%20%20%20%20%20%20%20%20%20gradient%3A%20null%0A%20%20%20%20%20%20%20%20%20%20%20%20%20%20%20%20%20%20%20%20%7D%29%0A%20%20%20%20%20%20%20%20%20%20%20%20%20%20%20%20.addTo%28map_4908816d6bca490587a7718dbdd26397%29%3B%0A%20%20%20%20%20%20%20%20%0A%3C/script%3E onload=\"this.contentDocument.open();this.contentDocument.write(    decodeURIComponent(this.getAttribute('data-html')));this.contentDocument.close();\" allowfullscreen webkitallowfullscreen mozallowfullscreen></iframe></div></div>"
            ],
            "text/plain": [
              "<folium.folium.Map at 0x7ffae2ba4610>"
            ]
          },
          "metadata": {},
          "execution_count": 53
        }
      ]
    },
    {
      "cell_type": "markdown",
      "metadata": {
        "id": "7T7-mZA7kBbT"
      },
      "source": [
        "By Heat map visualisation we can see that occurance of accidennts is more frequent in the west and east part of USA."
      ]
    },
    {
      "cell_type": "markdown",
      "metadata": {
        "id": "9DmBwbagrNfg"
      },
      "source": [
        "\n",
        "#Temperature "
      ]
    },
    {
      "cell_type": "markdown",
      "metadata": {
        "id": "qyL3I2oqp26L"
      },
      "source": [
        "Lets Check weather Temperature has an impact on Accident occurances, weather there are high accident occurances when temperature is low. "
      ]
    },
    {
      "cell_type": "code",
      "metadata": {
        "colab": {
          "base_uri": "https://localhost:8080/",
          "height": 457
        },
        "id": "b3YOxLdaqnV5",
        "outputId": "b5bfedcf-6ff5-4dcd-ed72-c4de744b0e65"
      },
      "source": [
        "plt.figure(figsize=(15,7))\n",
        "plt.hist(df['Temperature(F)'], bins = 70)\n",
        "plt.xlabel('Temperature(F)')\n",
        "plt.ylabel('Number of accidents')\n",
        "plt.title('Histogram of Accidents by temperature')\n",
        "plt.xlim(-25,150)\n",
        "plt.grid(True)\n",
        "plt.show()"
      ],
      "execution_count": 54,
      "outputs": [
        {
          "output_type": "display_data",
          "data": {
            "image/png": "[encoded data removed]",
            "text/plain": [
              "<Figure size 1080x504 with 1 Axes>"
            ]
          },
          "metadata": {}
        }
      ]
    },
    {
      "cell_type": "markdown",
      "metadata": {
        "id": "MACxM9XxLWwe"
      },
      "source": [
        "From the Histogram we can clearly see that Number of accident occurances is high during the temperature range 55°F to 75°F.\n",
        "\n",
        "Normal Temperature range of USA is 16°F to 86°F. The general undersanding that more accidents occur during Winter or lower temperature seems to be False. Moreover Number of accidents occurances is lower when temperature is less. "
      ]
    },
    {
      "cell_type": "markdown",
      "metadata": {
        "id": "--5Ei4UUsAid"
      },
      "source": [
        "# Weather Condition"
      ]
    },
    {
      "cell_type": "code",
      "metadata": {
        "colab": {
          "base_uri": "https://localhost:8080/"
        },
        "id": "8cMeNJRisQbt",
        "outputId": "d7b10bf1-158d-4f58-882c-00407b109556"
      },
      "source": [
        "df.columns"
      ],
      "execution_count": 55,
      "outputs": [
        {
          "output_type": "execute_result",
          "data": {
            "text/plain": [
              "Index(['ID', 'Severity', 'Start_Time', 'End_Time', 'Start_Lat', 'Start_Lng',\n",
              "       'End_Lat', 'End_Lng', 'Distance(mi)', 'Description', 'Street', 'Side',\n",
              "       'City', 'County', 'State', 'Zipcode', 'Country', 'Timezone',\n",
              "       'Airport_Code', 'Weather_Timestamp', 'Temperature(F)', 'Humidity(%)',\n",
              "       'Pressure(in)', 'Visibility(mi)', 'Wind_Direction', 'Wind_Speed(mph)',\n",
              "       'Weather_Condition', 'Amenity', 'Bump', 'Crossing', 'Give_Way',\n",
              "       'Junction', 'No_Exit', 'Railway', 'Roundabout', 'Station', 'Stop',\n",
              "       'Traffic_Calming', 'Traffic_Signal', 'Turning_Loop', 'Sunrise_Sunset',\n",
              "       'Civil_Twilight', 'Nautical_Twilight', 'Astronomical_Twilight'],\n",
              "      dtype='object')"
            ]
          },
          "metadata": {},
          "execution_count": 55
        }
      ]
    },
    {
      "cell_type": "code",
      "metadata": {
        "colab": {
          "base_uri": "https://localhost:8080/",
          "height": 414
        },
        "id": "GO-GfyTXsC5Q",
        "outputId": "30f99721-3ba0-40c0-b6c0-c377fc30b7e8"
      },
      "source": [
        "dfweather =df[['Weather_Timestamp', 'Temperature(F)',\n",
        "       'Humidity(%)', 'Pressure(in)', 'Visibility(mi)', 'Wind_Direction',\n",
        "       'Wind_Speed(mph)', 'Weather_Condition', 'Amenity']]\n",
        "dfweather"
      ],
      "execution_count": 58,
      "outputs": [
        {
          "output_type": "execute_result",
          "data": {
            "text/html": [
              "<div>\n",
              "<style scoped>\n",
              "    .dataframe tbody tr th:only-of-type {\n",
              "        vertical-align: middle;\n",
              "    }\n",
              "\n",
              "    .dataframe tbody tr th {\n",
              "        vertical-align: top;\n",
              "    }\n",
              "\n",
              "    .dataframe thead th {\n",
              "        text-align: right;\n",
              "    }\n",
              "</style>\n",
              "<table border=\"1\" class=\"dataframe\">\n",
              "  <thead>\n",
              "    <tr style=\"text-align: right;\">\n",
              "      <th></th>\n",
              "      <th>Weather_Timestamp</th>\n",
              "      <th>Temperature(F)</th>\n",
              "      <th>Humidity(%)</th>\n",
              "      <th>Pressure(in)</th>\n",
              "      <th>Visibility(mi)</th>\n",
              "      <th>Wind_Direction</th>\n",
              "      <th>Wind_Speed(mph)</th>\n",
              "      <th>Weather_Condition</th>\n",
              "      <th>Amenity</th>\n",
              "    </tr>\n",
              "  </thead>\n",
              "  <tbody>\n",
              "    <tr>\n",
              "      <th>0</th>\n",
              "      <td>2019-05-21 08:53:00</td>\n",
              "      <td>76.0</td>\n",
              "      <td>52.0</td>\n",
              "      <td>28.91</td>\n",
              "      <td>10.0</td>\n",
              "      <td>N</td>\n",
              "      <td>7.0</td>\n",
              "      <td>Fair</td>\n",
              "      <td>False</td>\n",
              "    </tr>\n",
              "    <tr>\n",
              "      <th>1</th>\n",
              "      <td>2019-10-07 17:53:00</td>\n",
              "      <td>76.0</td>\n",
              "      <td>62.0</td>\n",
              "      <td>29.30</td>\n",
              "      <td>10.0</td>\n",
              "      <td>VAR</td>\n",
              "      <td>3.0</td>\n",
              "      <td>Cloudy</td>\n",
              "      <td>False</td>\n",
              "    </tr>\n",
              "    <tr>\n",
              "      <th>2</th>\n",
              "      <td>2020-12-13 21:53:00</td>\n",
              "      <td>51.0</td>\n",
              "      <td>80.0</td>\n",
              "      <td>30.17</td>\n",
              "      <td>10.0</td>\n",
              "      <td>W</td>\n",
              "      <td>6.0</td>\n",
              "      <td>Fair</td>\n",
              "      <td>False</td>\n",
              "    </tr>\n",
              "    <tr>\n",
              "      <th>3</th>\n",
              "      <td>2018-04-17 16:55:00</td>\n",
              "      <td>53.6</td>\n",
              "      <td>16.0</td>\n",
              "      <td>30.16</td>\n",
              "      <td>10.0</td>\n",
              "      <td>SSW</td>\n",
              "      <td>4.6</td>\n",
              "      <td>Clear</td>\n",
              "      <td>False</td>\n",
              "    </tr>\n",
              "    <tr>\n",
              "      <th>4</th>\n",
              "      <td>2016-08-31 17:53:00</td>\n",
              "      <td>84.2</td>\n",
              "      <td>84.0</td>\n",
              "      <td>29.92</td>\n",
              "      <td>10.0</td>\n",
              "      <td>SSE</td>\n",
              "      <td>13.8</td>\n",
              "      <td>Overcast</td>\n",
              "      <td>False</td>\n",
              "    </tr>\n",
              "    <tr>\n",
              "      <th>...</th>\n",
              "      <td>...</td>\n",
              "      <td>...</td>\n",
              "      <td>...</td>\n",
              "      <td>...</td>\n",
              "      <td>...</td>\n",
              "      <td>...</td>\n",
              "      <td>...</td>\n",
              "      <td>...</td>\n",
              "      <td>...</td>\n",
              "    </tr>\n",
              "    <tr>\n",
              "      <th>2906605</th>\n",
              "      <td>2018-06-28 08:35:00</td>\n",
              "      <td>84.2</td>\n",
              "      <td>70.0</td>\n",
              "      <td>30.02</td>\n",
              "      <td>9.0</td>\n",
              "      <td>Variable</td>\n",
              "      <td>5.8</td>\n",
              "      <td>Clear</td>\n",
              "      <td>False</td>\n",
              "    </tr>\n",
              "    <tr>\n",
              "      <th>2906606</th>\n",
              "      <td>2019-01-10 02:00:00</td>\n",
              "      <td>46.9</td>\n",
              "      <td>74.0</td>\n",
              "      <td>30.14</td>\n",
              "      <td>10.0</td>\n",
              "      <td>Calm</td>\n",
              "      <td>NaN</td>\n",
              "      <td>Clear</td>\n",
              "      <td>False</td>\n",
              "    </tr>\n",
              "    <tr>\n",
              "      <th>2906607</th>\n",
              "      <td>2020-11-23 12:53:00</td>\n",
              "      <td>76.0</td>\n",
              "      <td>85.0</td>\n",
              "      <td>30.00</td>\n",
              "      <td>10.0</td>\n",
              "      <td>NNW</td>\n",
              "      <td>16.0</td>\n",
              "      <td>Mostly Cloudy</td>\n",
              "      <td>False</td>\n",
              "    </tr>\n",
              "    <tr>\n",
              "      <th>2906608</th>\n",
              "      <td>2019-12-29 22:54:00</td>\n",
              "      <td>27.0</td>\n",
              "      <td>81.0</td>\n",
              "      <td>25.81</td>\n",
              "      <td>10.0</td>\n",
              "      <td>SSE</td>\n",
              "      <td>8.0</td>\n",
              "      <td>Cloudy</td>\n",
              "      <td>False</td>\n",
              "    </tr>\n",
              "    <tr>\n",
              "      <th>2906609</th>\n",
              "      <td>2018-03-26 13:54:00</td>\n",
              "      <td>51.1</td>\n",
              "      <td>38.0</td>\n",
              "      <td>29.77</td>\n",
              "      <td>10.0</td>\n",
              "      <td>SE</td>\n",
              "      <td>13.8</td>\n",
              "      <td>Scattered Clouds</td>\n",
              "      <td>False</td>\n",
              "    </tr>\n",
              "  </tbody>\n",
              "</table>\n",
              "<p>2906610 rows × 9 columns</p>\n",
              "</div>"
            ],
            "text/plain": [
              "           Weather_Timestamp  Temperature(F)  ...  Weather_Condition  Amenity\n",
              "0        2019-05-21 08:53:00            76.0  ...               Fair    False\n",
              "1        2019-10-07 17:53:00            76.0  ...             Cloudy    False\n",
              "2        2020-12-13 21:53:00            51.0  ...               Fair    False\n",
              "3        2018-04-17 16:55:00            53.6  ...              Clear    False\n",
              "4        2016-08-31 17:53:00            84.2  ...           Overcast    False\n",
              "...                      ...             ...  ...                ...      ...\n",
              "2906605  2018-06-28 08:35:00            84.2  ...              Clear    False\n",
              "2906606  2019-01-10 02:00:00            46.9  ...              Clear    False\n",
              "2906607  2020-11-23 12:53:00            76.0  ...      Mostly Cloudy    False\n",
              "2906608  2019-12-29 22:54:00            27.0  ...             Cloudy    False\n",
              "2906609  2018-03-26 13:54:00            51.1  ...   Scattered Clouds    False\n",
              "\n",
              "[2906610 rows x 9 columns]"
            ]
          },
          "metadata": {},
          "execution_count": 58
        }
      ]
    },
    {
      "cell_type": "code",
      "metadata": {
        "colab": {
          "base_uri": "https://localhost:8080/"
        },
        "id": "JBPYqdZRtCRW",
        "outputId": "45e2c37d-ce99-49a6-a46e-ffbfade0adf2"
      },
      "source": [
        "dfweather.info()"
      ],
      "execution_count": 59,
      "outputs": [
        {
          "output_type": "stream",
          "text": [
            "<class 'pandas.core.frame.DataFrame'>\n",
            "RangeIndex: 2906610 entries, 0 to 2906609\n",
            "Data columns (total 9 columns):\n",
            " #   Column             Dtype  \n",
            "---  ------             -----  \n",
            " 0   Weather_Timestamp  object \n",
            " 1   Temperature(F)     float64\n",
            " 2   Humidity(%)        float64\n",
            " 3   Pressure(in)       float64\n",
            " 4   Visibility(mi)     float64\n",
            " 5   Wind_Direction     object \n",
            " 6   Wind_Speed(mph)    float64\n",
            " 7   Weather_Condition  object \n",
            " 8   Amenity            bool   \n",
            "dtypes: bool(1), float64(5), object(3)\n",
            "memory usage: 180.2+ MB\n"
          ],
          "name": "stdout"
        }
      ]
    },
    {
      "cell_type": "code",
      "metadata": {
        "colab": {
          "base_uri": "https://localhost:8080/",
          "height": 232
        },
        "id": "RwGi2iA_sH0a",
        "outputId": "624e44c3-4a23-4a06-c8f1-15ae5b544b55"
      },
      "source": [
        "dfweather.corr()"
      ],
      "execution_count": 60,
      "outputs": [
        {
          "output_type": "execute_result",
          "data": {
            "text/html": [
              "<div>\n",
              "<style scoped>\n",
              "    .dataframe tbody tr th:only-of-type {\n",
              "        vertical-align: middle;\n",
              "    }\n",
              "\n",
              "    .dataframe tbody tr th {\n",
              "        vertical-align: top;\n",
              "    }\n",
              "\n",
              "    .dataframe thead th {\n",
              "        text-align: right;\n",
              "    }\n",
              "</style>\n",
              "<table border=\"1\" class=\"dataframe\">\n",
              "  <thead>\n",
              "    <tr style=\"text-align: right;\">\n",
              "      <th></th>\n",
              "      <th>Temperature(F)</th>\n",
              "      <th>Humidity(%)</th>\n",
              "      <th>Pressure(in)</th>\n",
              "      <th>Visibility(mi)</th>\n",
              "      <th>Wind_Speed(mph)</th>\n",
              "      <th>Amenity</th>\n",
              "    </tr>\n",
              "  </thead>\n",
              "  <tbody>\n",
              "    <tr>\n",
              "      <th>Temperature(F)</th>\n",
              "      <td>1.000000</td>\n",
              "      <td>-0.344177</td>\n",
              "      <td>0.040501</td>\n",
              "      <td>0.178301</td>\n",
              "      <td>0.039756</td>\n",
              "      <td>0.000059</td>\n",
              "    </tr>\n",
              "    <tr>\n",
              "      <th>Humidity(%)</th>\n",
              "      <td>-0.344177</td>\n",
              "      <td>1.000000</td>\n",
              "      <td>0.126864</td>\n",
              "      <td>-0.368379</td>\n",
              "      <td>-0.155178</td>\n",
              "      <td>-0.003343</td>\n",
              "    </tr>\n",
              "    <tr>\n",
              "      <th>Pressure(in)</th>\n",
              "      <td>0.040501</td>\n",
              "      <td>0.126864</td>\n",
              "      <td>1.000000</td>\n",
              "      <td>-0.005270</td>\n",
              "      <td>0.000514</td>\n",
              "      <td>0.013203</td>\n",
              "    </tr>\n",
              "    <tr>\n",
              "      <th>Visibility(mi)</th>\n",
              "      <td>0.178301</td>\n",
              "      <td>-0.368379</td>\n",
              "      <td>-0.005270</td>\n",
              "      <td>1.000000</td>\n",
              "      <td>0.024108</td>\n",
              "      <td>0.006207</td>\n",
              "    </tr>\n",
              "    <tr>\n",
              "      <th>Wind_Speed(mph)</th>\n",
              "      <td>0.039756</td>\n",
              "      <td>-0.155178</td>\n",
              "      <td>0.000514</td>\n",
              "      <td>0.024108</td>\n",
              "      <td>1.000000</td>\n",
              "      <td>0.001433</td>\n",
              "    </tr>\n",
              "    <tr>\n",
              "      <th>Amenity</th>\n",
              "      <td>0.000059</td>\n",
              "      <td>-0.003343</td>\n",
              "      <td>0.013203</td>\n",
              "      <td>0.006207</td>\n",
              "      <td>0.001433</td>\n",
              "      <td>1.000000</td>\n",
              "    </tr>\n",
              "  </tbody>\n",
              "</table>\n",
              "</div>"
            ],
            "text/plain": [
              "                 Temperature(F)  Humidity(%)  ...  Wind_Speed(mph)   Amenity\n",
              "Temperature(F)         1.000000    -0.344177  ...         0.039756  0.000059\n",
              "Humidity(%)           -0.344177     1.000000  ...        -0.155178 -0.003343\n",
              "Pressure(in)           0.040501     0.126864  ...         0.000514  0.013203\n",
              "Visibility(mi)         0.178301    -0.368379  ...         0.024108  0.006207\n",
              "Wind_Speed(mph)        0.039756    -0.155178  ...         1.000000  0.001433\n",
              "Amenity                0.000059    -0.003343  ...         0.001433  1.000000\n",
              "\n",
              "[6 rows x 6 columns]"
            ]
          },
          "metadata": {},
          "execution_count": 60
        }
      ]
    },
    {
      "cell_type": "code",
      "metadata": {
        "colab": {
          "base_uri": "https://localhost:8080/"
        },
        "id": "q77Y9LxztPRt",
        "outputId": "4f6e0b1d-f67c-4292-8df3-a7b49da35e00"
      },
      "source": [
        "dfweather.Weather_Timestamp = pd.to_datetime(dfweather.Weather_Timestamp)"
      ],
      "execution_count": 61,
      "outputs": [
        {
          "output_type": "stream",
          "text": [
            "/usr/local/lib/python3.7/dist-packages/pandas/core/generic.py:5170: SettingWithCopyWarning: \n",
            "A value is trying to be set on a copy of a slice from a DataFrame.\n",
            "Try using .loc[row_indexer,col_indexer] = value instead\n",
            "\n",
            "See the caveats in the documentation: https://pandas.pydata.org/pandas-docs/stable/user_guide/indexing.html#returning-a-view-versus-a-copy\n",
            "  self[name] = value\n"
          ],
          "name": "stderr"
        }
      ]
    },
    {
      "cell_type": "code",
      "metadata": {
        "colab": {
          "base_uri": "https://localhost:8080/"
        },
        "id": "0PwtwjPJs6dE",
        "outputId": "8d99823c-b7e7-42bc-f52d-fd858b908789"
      },
      "source": [
        "dfweather.Weather_Timestamp"
      ],
      "execution_count": 62,
      "outputs": [
        {
          "output_type": "execute_result",
          "data": {
            "text/plain": [
              "0         2019-05-21 08:53:00\n",
              "1         2019-10-07 17:53:00\n",
              "2         2020-12-13 21:53:00\n",
              "3         2018-04-17 16:55:00\n",
              "4         2016-08-31 17:53:00\n",
              "                  ...        \n",
              "2906605   2018-06-28 08:35:00\n",
              "2906606   2019-01-10 02:00:00\n",
              "2906607   2020-11-23 12:53:00\n",
              "2906608   2019-12-29 22:54:00\n",
              "2906609   2018-03-26 13:54:00\n",
              "Name: Weather_Timestamp, Length: 2906610, dtype: datetime64[ns]"
            ]
          },
          "metadata": {},
          "execution_count": 62
        }
      ]
    },
    {
      "cell_type": "markdown",
      "metadata": {
        "id": "hYMsyLV1uE0w"
      },
      "source": [
        "Accident Occurance Distribution based on Weather time stamp"
      ]
    },
    {
      "cell_type": "code",
      "metadata": {
        "colab": {
          "base_uri": "https://localhost:8080/",
          "height": 516
        },
        "id": "k3RU2PPmTXAn",
        "outputId": "a2343c82-ff9e-4be7-c177-db907e62cc44"
      },
      "source": [
        "plt.figure(figsize=(15,7))\n",
        "sns.distplot(dfweather.Weather_Timestamp.dt.month, bins=12, kde=False, norm_hist=True)"
      ],
      "execution_count": 63,
      "outputs": [
        {
          "output_type": "stream",
          "text": [
            "/usr/local/lib/python3.7/dist-packages/seaborn/distributions.py:2557: FutureWarning: `distplot` is a deprecated function and will be removed in a future version. Please adapt your code to use either `displot` (a figure-level function with similar flexibility) or `histplot` (an axes-level function for histograms).\n",
            "  warnings.warn(msg, FutureWarning)\n"
          ],
          "name": "stderr"
        },
        {
          "output_type": "execute_result",
          "data": {
            "text/plain": [
              "<matplotlib.axes._subplots.AxesSubplot at 0x7ffae295e150>"
            ]
          },
          "metadata": {},
          "execution_count": 63
        },
        {
          "output_type": "display_data",
          "data": {
            "image/png": "[encoded data removed]",
            "text/plain": [
              "<Figure size 1080x504 with 1 Axes>"
            ]
          },
          "metadata": {}
        }
      ]
    },
    {
      "cell_type": "markdown",
      "metadata": {
        "id": "ilq5ph-UTys_"
      },
      "source": [
        "As seen before data collection was started from 2016 and there may be some missing data during the start so lets skip year 2016."
      ]
    },
    {
      "cell_type": "code",
      "metadata": {
        "colab": {
          "base_uri": "https://localhost:8080/",
          "height": 516
        },
        "id": "30BUgBCMTxzZ",
        "outputId": "d79c9a91-9b7d-40bd-ac04-ece7f3a5389f"
      },
      "source": [
        "dfw_year = dfweather[dfweather.Weather_Timestamp.dt.year > 2016]\n",
        "plt.figure(figsize=(15,7))\n",
        "sns.distplot(dfw_year.Weather_Timestamp.dt.month, bins=12, kde=False, norm_hist=True)"
      ],
      "execution_count": 64,
      "outputs": [
        {
          "output_type": "stream",
          "text": [
            "/usr/local/lib/python3.7/dist-packages/seaborn/distributions.py:2557: FutureWarning: `distplot` is a deprecated function and will be removed in a future version. Please adapt your code to use either `displot` (a figure-level function with similar flexibility) or `histplot` (an axes-level function for histograms).\n",
            "  warnings.warn(msg, FutureWarning)\n"
          ],
          "name": "stderr"
        },
        {
          "output_type": "execute_result",
          "data": {
            "text/plain": [
              "<matplotlib.axes._subplots.AxesSubplot at 0x7ffae29e8650>"
            ]
          },
          "metadata": {},
          "execution_count": 64
        },
        {
          "output_type": "display_data",
          "data": {
            "image/png": "[encoded data removed]",
            "text/plain": [
              "<Figure size 1080x504 with 1 Axes>"
            ]
          },
          "metadata": {}
        }
      ]
    },
    {
      "cell_type": "markdown",
      "metadata": {
        "id": "y80lY3_juycl"
      },
      "source": [
        "Based on Weather Time stamp accident occurances is more during the last three months."
      ]
    },
    {
      "cell_type": "code",
      "metadata": {
        "colab": {
          "base_uri": "https://localhost:8080/"
        },
        "id": "ALOp3ACiomFA",
        "outputId": "ba1eb7c9-ad86-48c4-a75d-011d4762742d"
      },
      "source": [
        "df_month = dfw_year[dfweather.Weather_Timestamp.dt.month > 9]"
      ],
      "execution_count": 65,
      "outputs": [
        {
          "output_type": "stream",
          "text": [
            "/usr/local/lib/python3.7/dist-packages/ipykernel_launcher.py:1: UserWarning: Boolean Series key will be reindexed to match DataFrame index.\n",
            "  \"\"\"Entry point for launching an IPython kernel.\n"
          ],
          "name": "stderr"
        }
      ]
    },
    {
      "cell_type": "code",
      "metadata": {
        "colab": {
          "base_uri": "https://localhost:8080/",
          "height": 414
        },
        "id": "JDUkHjzSWmg4",
        "outputId": "0eeb3389-b468-40db-ced7-709fb74df8be"
      },
      "source": [
        "dfwc = df_month.Weather_Condition.value_counts().to_frame()\n",
        "dfwc = dfwc.reset_index()\n",
        "dfwc.columns= ['Weather_Condition','Count']\n",
        "dfwc"
      ],
      "execution_count": 67,
      "outputs": [
        {
          "output_type": "execute_result",
          "data": {
            "text/html": [
              "<div>\n",
              "<style scoped>\n",
              "    .dataframe tbody tr th:only-of-type {\n",
              "        vertical-align: middle;\n",
              "    }\n",
              "\n",
              "    .dataframe tbody tr th {\n",
              "        vertical-align: top;\n",
              "    }\n",
              "\n",
              "    .dataframe thead th {\n",
              "        text-align: right;\n",
              "    }\n",
              "</style>\n",
              "<table border=\"1\" class=\"dataframe\">\n",
              "  <thead>\n",
              "    <tr style=\"text-align: right;\">\n",
              "      <th></th>\n",
              "      <th>Weather_Condition</th>\n",
              "      <th>Count</th>\n",
              "    </tr>\n",
              "  </thead>\n",
              "  <tbody>\n",
              "    <tr>\n",
              "      <th>0</th>\n",
              "      <td>Fair</td>\n",
              "      <td>339257</td>\n",
              "    </tr>\n",
              "    <tr>\n",
              "      <th>1</th>\n",
              "      <td>Cloudy</td>\n",
              "      <td>117206</td>\n",
              "    </tr>\n",
              "    <tr>\n",
              "      <th>2</th>\n",
              "      <td>Mostly Cloudy</td>\n",
              "      <td>107379</td>\n",
              "    </tr>\n",
              "    <tr>\n",
              "      <th>3</th>\n",
              "      <td>Clear</td>\n",
              "      <td>99056</td>\n",
              "    </tr>\n",
              "    <tr>\n",
              "      <th>4</th>\n",
              "      <td>Partly Cloudy</td>\n",
              "      <td>72787</td>\n",
              "    </tr>\n",
              "    <tr>\n",
              "      <th>...</th>\n",
              "      <td>...</td>\n",
              "      <td>...</td>\n",
              "    </tr>\n",
              "    <tr>\n",
              "      <th>93</th>\n",
              "      <td>Sleet / Windy</td>\n",
              "      <td>1</td>\n",
              "    </tr>\n",
              "    <tr>\n",
              "      <th>94</th>\n",
              "      <td>Drizzle / Windy</td>\n",
              "      <td>1</td>\n",
              "    </tr>\n",
              "    <tr>\n",
              "      <th>95</th>\n",
              "      <td>Heavy Smoke</td>\n",
              "      <td>1</td>\n",
              "    </tr>\n",
              "    <tr>\n",
              "      <th>96</th>\n",
              "      <td>Funnel Cloud</td>\n",
              "      <td>1</td>\n",
              "    </tr>\n",
              "    <tr>\n",
              "      <th>97</th>\n",
              "      <td>Heavy Thunderstorms and Snow</td>\n",
              "      <td>1</td>\n",
              "    </tr>\n",
              "  </tbody>\n",
              "</table>\n",
              "<p>98 rows × 2 columns</p>\n",
              "</div>"
            ],
            "text/plain": [
              "               Weather_Condition   Count\n",
              "0                           Fair  339257\n",
              "1                         Cloudy  117206\n",
              "2                  Mostly Cloudy  107379\n",
              "3                          Clear   99056\n",
              "4                  Partly Cloudy   72787\n",
              "..                           ...     ...\n",
              "93                 Sleet / Windy       1\n",
              "94               Drizzle / Windy       1\n",
              "95                   Heavy Smoke       1\n",
              "96                  Funnel Cloud       1\n",
              "97  Heavy Thunderstorms and Snow       1\n",
              "\n",
              "[98 rows x 2 columns]"
            ]
          },
          "metadata": {},
          "execution_count": 67
        }
      ]
    },
    {
      "cell_type": "markdown",
      "metadata": {
        "id": "zbAI1SYfA97e"
      },
      "source": [
        "Top 20 Weather Conditions where accident occurance is high"
      ]
    },
    {
      "cell_type": "code",
      "metadata": {
        "id": "rZm1PPHMcOTX"
      },
      "source": [
        "dfwc = dfwc.head(20)"
      ],
      "execution_count": 68,
      "outputs": []
    },
    {
      "cell_type": "code",
      "metadata": {
        "colab": {
          "base_uri": "https://localhost:8080/",
          "height": 445
        },
        "id": "dAjGhb9bWJAa",
        "outputId": "375111ce-c822-4644-f53b-b0b15dd9c828"
      },
      "source": [
        "plt.figure(figsize=(15,7))\n",
        "plt.barh(dfwc.Weather_Condition, dfwc.Count)"
      ],
      "execution_count": 69,
      "outputs": [
        {
          "output_type": "execute_result",
          "data": {
            "text/plain": [
              "<BarContainer object of 20 artists>"
            ]
          },
          "metadata": {},
          "execution_count": 69
        },
        {
          "output_type": "display_data",
          "data": {
            "image/png": "[encoded data removed]",
            "text/plain": [
              "<Figure size 1080x504 with 1 Axes>"
            ]
          },
          "metadata": {}
        }
      ]
    },
    {
      "cell_type": "markdown",
      "metadata": {
        "id": "Gb40hBtMBLN0"
      },
      "source": [
        "From the Bar chart we can clearly see the most of the accidents occur during normal weather conditions. Hence Weather conditions dosen't have impact on accident occurance. "
      ]
    },
    {
      "cell_type": "markdown",
      "metadata": {
        "id": "0lT7ML7Y7a04"
      },
      "source": [
        "## Ask & answer questions\n",
        "\n",
        "1. Are there more accidents in warmer or colder areas?\n",
        "2. Which 5 states have the highest number of accidents? How about per capita?\n",
        "3. Does New York show up in the data? If yes, why is the count lower if this the most populated city.\n",
        "4. Among the top 100 cities in number of accidents, which states do they belong to most frequently.\n",
        "5. What time of the day are accidents most frequent in? - ANSWERED\n",
        "6. Which days of the week have the most accidents?\n",
        "7. Which months have the most accidents?\n",
        "8. What is the trend of accidents year over year (decreasing/increasing?)\n",
        "9. When is accidents per unit of traffic the highest."
      ]
    },
    {
      "cell_type": "markdown",
      "metadata": {
        "id": "s-klwrcAbMAB"
      },
      "source": [
        "## Findings"
      ]
    },
    {
      "cell_type": "markdown",
      "metadata": {
        "id": "ja8mD0V4bnGZ"
      },
      "source": [
        "1. Top 20 Cities where accident occurance is more."
      ]
    },
    {
      "cell_type": "code",
      "metadata": {
        "id": "nS2pDYia6p-Z",
        "colab": {
          "base_uri": "https://localhost:8080/"
        },
        "outputId": "ba9db150-9a12-4df1-be27-c593a1d397d3"
      },
      "source": [
        "cities_by_accident[:20]"
      ],
      "execution_count": 70,
      "outputs": [
        {
          "output_type": "execute_result",
          "data": {
            "text/plain": [
              "Los Angeles      68411\n",
              "Houston          68265\n",
              "Charlotte        56176\n",
              "Miami            49965\n",
              "Dallas           48525\n",
              "Austin           38808\n",
              "Raleigh          31355\n",
              "Atlanta          29244\n",
              "Sacramento       28984\n",
              "Orlando          28092\n",
              "Nashville        25277\n",
              "Baton Rouge      25080\n",
              "Minneapolis      22469\n",
              "San Diego        22329\n",
              "Phoenix          21370\n",
              "Oklahoma City    21292\n",
              "Portland         19432\n",
              "Richmond         18343\n",
              "Seattle          17384\n",
              "Saint Paul       17266\n",
              "Name: City, dtype: int64"
            ]
          },
          "metadata": {},
          "execution_count": 70
        }
      ]
    },
    {
      "cell_type": "markdown",
      "metadata": {
        "id": "I0jQU81bcFJ_"
      },
      "source": [
        "2. Top 10 State which incoprates top cities which high number of accidents. "
      ]
    },
    {
      "cell_type": "code",
      "metadata": {
        "id": "v6puUNg-6p-a",
        "colab": {
          "base_uri": "https://localhost:8080/",
          "height": 355
        },
        "outputId": "44111e30-e9e4-494f-d2e6-0bce64f4e894"
      },
      "source": [
        "dftopstate"
      ],
      "execution_count": 72,
      "outputs": [
        {
          "output_type": "execute_result",
          "data": {
            "text/html": [
              "<div>\n",
              "<style scoped>\n",
              "    .dataframe tbody tr th:only-of-type {\n",
              "        vertical-align: middle;\n",
              "    }\n",
              "\n",
              "    .dataframe tbody tr th {\n",
              "        vertical-align: top;\n",
              "    }\n",
              "\n",
              "    .dataframe thead th {\n",
              "        text-align: right;\n",
              "    }\n",
              "</style>\n",
              "<table border=\"1\" class=\"dataframe\">\n",
              "  <thead>\n",
              "    <tr style=\"text-align: right;\">\n",
              "      <th></th>\n",
              "      <th>State</th>\n",
              "      <th>Count</th>\n",
              "    </tr>\n",
              "  </thead>\n",
              "  <tbody>\n",
              "    <tr>\n",
              "      <th>0</th>\n",
              "      <td>CA</td>\n",
              "      <td>293209</td>\n",
              "    </tr>\n",
              "    <tr>\n",
              "      <th>1</th>\n",
              "      <td>TX</td>\n",
              "      <td>185773</td>\n",
              "    </tr>\n",
              "    <tr>\n",
              "      <th>2</th>\n",
              "      <td>FL</td>\n",
              "      <td>153855</td>\n",
              "    </tr>\n",
              "    <tr>\n",
              "      <th>3</th>\n",
              "      <td>NC</td>\n",
              "      <td>87388</td>\n",
              "    </tr>\n",
              "    <tr>\n",
              "      <th>4</th>\n",
              "      <td>LA</td>\n",
              "      <td>42082</td>\n",
              "    </tr>\n",
              "    <tr>\n",
              "      <th>5</th>\n",
              "      <td>MN</td>\n",
              "      <td>39636</td>\n",
              "    </tr>\n",
              "    <tr>\n",
              "      <th>6</th>\n",
              "      <td>TN</td>\n",
              "      <td>36091</td>\n",
              "    </tr>\n",
              "    <tr>\n",
              "      <th>7</th>\n",
              "      <td>NY</td>\n",
              "      <td>35349</td>\n",
              "    </tr>\n",
              "    <tr>\n",
              "      <th>8</th>\n",
              "      <td>AZ</td>\n",
              "      <td>34701</td>\n",
              "    </tr>\n",
              "    <tr>\n",
              "      <th>9</th>\n",
              "      <td>GA</td>\n",
              "      <td>34131</td>\n",
              "    </tr>\n",
              "  </tbody>\n",
              "</table>\n",
              "</div>"
            ],
            "text/plain": [
              "  State   Count\n",
              "0    CA  293209\n",
              "1    TX  185773\n",
              "2    FL  153855\n",
              "3    NC   87388\n",
              "4    LA   42082\n",
              "5    MN   39636\n",
              "6    TN   36091\n",
              "7    NY   35349\n",
              "8    AZ   34701\n",
              "9    GA   34131"
            ]
          },
          "metadata": {},
          "execution_count": 72
        }
      ]
    },
    {
      "cell_type": "markdown",
      "metadata": {
        "id": "Vn701UCZc3eB"
      },
      "source": [
        "3. During a Day high Number of accidents occur between 6 am to 10 am (probably people are in a hurry to get to work) and next higest percentage is 3 pm to 6 pm."
      ]
    },
    {
      "cell_type": "markdown",
      "metadata": {
        "id": "qnZL5A1AdL64"
      },
      "source": [
        "4. Accidents occurance are high in weekdays and are less on weekends(Saturday & Sunday) "
      ]
    },
    {
      "cell_type": "markdown",
      "metadata": {
        "id": "kmy1cjRkd4_n"
      },
      "source": [
        "5. By Heat map visualisation of occurace location we can see that occurance of accidennts is more frequent in the west and east part of USA."
      ]
    },
    {
      "cell_type": "code",
      "metadata": {
        "id": "CXL6x_hH7fAa",
        "colab": {
          "base_uri": "https://localhost:8080/",
          "height": 854
        },
        "outputId": "d41cc7c0-6798-4345-bc3f-bb487016ee38"
      },
      "source": [
        "map = folium.Map(location=[37.0902, -95.7129], zoom_start=5)\n",
        "HeatMap(lat_lon_pairs).add_to(map)\n",
        "map"
      ],
      "execution_count": 77,
      "outputs": [
        {
          "output_type": "execute_result",
          "data": {
            "text/html": [
              "<div style=\"width:100%;\"><div style=\"position:relative;width:100%;height:0;padding-bottom:60%;\"><span style=\"color:#565656\">Make this Notebook Trusted to load map: File -> Trust Notebook</span><iframe src=\"about:blank\" style=\"position:absolute;width:100%;height:100%;left:0;top:0;border:none !important;\" data-html=%3C%21DOCTYPE%20html%3E%0A%3Chead%3E%20%20%20%20%0A%20%20%20%20%3Cmeta%20http-equiv%3D%22content-type%22%20content%3D%22text/html%3B%20charset%3DUTF-8%22%20/%3E%0A%20%20%20%20%3Cscript%3EL_PREFER_CANVAS%3Dfalse%3B%20L_NO_TOUCH%3Dfalse%3B%20L_DISABLE_3D%3Dfalse%3B%3C/script%3E%0A%20%20%20%20%3Cscript%20src%3D%22https%3A//cdn.jsdelivr.net/npm/leaflet%401.4.0/dist/leaflet.js%22%3E%3C/script%3E%0A%20%20%20%20%3Cscript%20src%3D%22https%3A//code.jquery.com/jquery-1.12.4.min.js%22%3E%3C/script%3E%0A%20%20%20%20%3Cscript%20src%3D%22https%3A//maxcdn.bootstrapcdn.com/bootstrap/3.2.0/js/bootstrap.min.js%22%3E%3C/script%3E%0A%20%20%20%20%3Cscript%20src%3D%22https%3A//cdnjs.cloudflare.com/ajax/libs/Leaflet.awesome-markers/2.0.2/leaflet.awesome-markers.js%22%3E%3C/script%3E%0A%20%20%20%20%3Clink%20rel%3D%22stylesheet%22%20href%3D%22https%3A//cdn.jsdelivr.net/npm/leaflet%401.4.0/dist/leaflet.css%22/%3E%0A%20%20%20%20%3Clink%20rel%3D%22stylesheet%22%20href%3D%22https%3A//maxcdn.bootstrapcdn.com/bootstrap/3.2.0/css/bootstrap.min.css%22/%3E%0A%20%20%20%20%3Clink%20rel%3D%22stylesheet%22%20href%3D%22https%3A//maxcdn.bootstrapcdn.com/bootstrap/3.2.0/css/bootstrap-theme.min.css%22/%3E%0A%20%20%20%20%3Clink%20rel%3D%22stylesheet%22%20href%3D%22https%3A//maxcdn.bootstrapcdn.com/font-awesome/4.6.3/css/font-awesome.min.css%22/%3E%0A%20%20%20%20%3Clink%20rel%3D%22stylesheet%22%20href%3D%22https%3A//cdnjs.cloudflare.com/ajax/libs/Leaflet.awesome-markers/2.0.2/leaflet.awesome-markers.css%22/%3E%0A%20%20%20%20%3Clink%20rel%3D%22stylesheet%22%20href%3D%22https%3A//rawcdn.githack.com/python-visualization/folium/master/folium/templates/leaflet.awesome.rotate.css%22/%3E%0A%20%20%20%20%3Cstyle%3Ehtml%2C%20body%20%7Bwidth%3A%20100%25%3Bheight%3A%20100%25%3Bmargin%3A%200%3Bpadding%3A%200%3B%7D%3C/style%3E%0A%20%20%20%20%3Cstyle%3E%23map%20%7Bposition%3Aabsolute%3Btop%3A0%3Bbottom%3A0%3Bright%3A0%3Bleft%3A0%3B%7D%3C/style%3E%0A%20%20%20%20%0A%20%20%20%20%3Cmeta%20name%3D%22viewport%22%20content%3D%22width%3Ddevice-width%2C%0A%20%20%20%20%20%20%20%20initial-scale%3D1.0%2C%20maximum-scale%3D1.0%2C%20user-scalable%3Dno%22%20/%3E%0A%20%20%20%20%3Cstyle%3E%23map_daeffe22d1d54dddb6a55d8f7529ec47%20%7B%0A%20%20%20%20%20%20%20%20position%3A%20relative%3B%0A%20%20%20%20%20%20%20%20width%3A%20100.0%25%3B%0A%20%20%20%20%20%20%20%20height%3A%20100.0%25%3B%0A%20%20%20%20%20%20%20%20left%3A%200.0%25%3B%0A%20%20%20%20%20%20%20%20top%3A%200.0%25%3B%0A%20%20%20%20%20%20%20%20%7D%0A%20%20%20%20%3C/style%3E%0A%20%20%20%20%3Cscript%20src%3D%22https%3A//leaflet.github.io/Leaflet.heat/dist/leaflet-heat.js%22%3E%3C/script%3E%0A%3C/head%3E%0A%3Cbody%3E%20%20%20%20%0A%20%20%20%20%0A%20%20%20%20%3Cdiv%20class%3D%22folium-map%22%20id%3D%22map_daeffe22d1d54dddb6a55d8f7529ec47%22%20%3E%3C/div%3E%0A%3C/body%3E%0A%3Cscript%3E%20%20%20%20%0A%20%20%20%20%0A%20%20%20%20%0A%20%20%20%20%20%20%20%20var%20bounds%20%3D%20null%3B%0A%20%20%20%20%0A%0A%20%20%20%20var%20map_daeffe22d1d54dddb6a55d8f7529ec47%20%3D%20L.map%28%0A%20%20%20%20%20%20%20%20%27map_daeffe22d1d54dddb6a55d8f7529ec47%27%2C%20%7B%0A%20%20%20%20%20%20%20%20center%3A%20%5B37.0902%2C%20-95.7129%5D%2C%0A%20%20%20%20%20%20%20%20zoom%3A%205%2C%0A%20%20%20%20%20%20%20%20maxBounds%3A%20bounds%2C%0A%20%20%20%20%20%20%20%20layers%3A%20%5B%5D%2C%0A%20%20%20%20%20%20%20%20worldCopyJump%3A%20false%2C%0A%20%20%20%20%20%20%20%20crs%3A%20L.CRS.EPSG3857%2C%0A%20%20%20%20%20%20%20%20zoomControl%3A%20true%2C%0A%20%20%20%20%20%20%20%20%7D%29%3B%0A%0A%0A%20%20%20%20%0A%20%20%20%20var%20tile_layer_ac0e86c266bc452185231ba403b29dc2%20%3D%20L.tileLayer%28%0A%20%20%20%20%20%20%20%20%27https%3A//%7Bs%7D.tile.openstreetmap.org/%7Bz%7D/%7Bx%7D/%7By%7D.png%27%2C%0A%20%20%20%20%20%20%20%20%7B%0A%20%20%20%20%20%20%20%20%22attribution%22%3A%20null%2C%0A%20%20%20%20%20%20%20%20%22detectRetina%22%3A%20false%2C%0A%20%20%20%20%20%20%20%20%22maxNativeZoom%22%3A%2018%2C%0A%20%20%20%20%20%20%20%20%22maxZoom%22%3A%2018%2C%0A%20%20%20%20%20%20%20%20%22minZoom%22%3A%200%2C%0A%20%20%20%20%20%20%20%20%22noWrap%22%3A%20false%2C%0A%20%20%20%20%20%20%20%20%22opacity%22%3A%201%2C%0A%20%20%20%20%20%20%20%20%22subdomains%22%3A%20%22abc%22%2C%0A%20%20%20%20%20%20%20%20%22tms%22%3A%20false%0A%7D%29.addTo%28map_daeffe22d1d54dddb6a55d8f7529ec47%29%3B%0A%20%20%20%20%0A%20%20%20%20%20%20%20%20%20%20%20%20var%20heat_map_9faba603735b47e8b6a906f10ee4405e%20%3D%20L.heatLayer%28%0A%20%20%20%20%20%20%20%20%20%20%20%20%20%20%20%20%5B%5B42.958908%2C%20-85.67147800000002%5D%2C%20%5B28.492792%2C%20-81.43354000000002%5D%2C%20%5B38.482391%2C%20-77.395363%5D%2C%20%5B25.781242%2C%20-80.336578%5D%2C%20%5B42.223179%2C%20-71.170784%5D%2C%20%5B34.95559%2C%20-82.14334000000002%5D%2C%20%5B32.735149%2C%20-111.550133%5D%2C%20%5B34.104626%2C%20-80.829453%5D%2C%20%5B34.220223%2C%20-79.76124899999998%5D%2C%20%5B35.23057199999999%2C%20-80.844925%5D%2C%20%5B37.602623%2C%20-122.063881%5D%2C%20%5B34.087757%2C%20-84.26949300000003%5D%2C%20%5B41.80896%2C%20-88.11726999999998%5D%2C%20%5B29.737070000000006%2C%20-95.548363%5D%2C%20%5B35.234219%2C%20-89.92572%5D%2C%20%5B39.06875%2C%20-94.7945%5D%2C%20%5B37.509842%2C%20-122.48807%5D%2C%20%5B44.0978%2C%20-123.15806%5D%2C%20%5B33.84032%2C%20-117.83273%5D%2C%20%5B37.78174%2C%20-121.31203%5D%2C%20%5B38.879964%2C%20-77.242712%5D%2C%20%5B25.751724%2C%20-80.387012%5D%2C%20%5B33.725390999999995%2C%20-117.803279%5D%2C%20%5B38.657444%2C%20-76.874962%5D%2C%20%5B40.336815%2C%20-79.948931%5D%2C%20%5B47.318554%2C%20-122.183807%5D%2C%20%5B33.369228%2C%20-117.227692%5D%2C%20%5B40.196949%2C%20-75.184387%5D%2C%20%5B29.673273%2C%20-95.289314%5D%2C%20%5B33.51815%2C%20-80.877937%5D%2C%20%5B29.949296%2C%20-95.413218%5D%2C%20%5B30.405247%2C%20-97.583542%5D%2C%20%5B33.79797%2C%20-84.39292900000002%5D%2C%20%5B39.521656%2C%20-119.47551%5D%2C%20%5B35.09474%2C%20-89.87044%5D%2C%20%5B38.556953%2C%20-122.505241%5D%2C%20%5B45.20829000000001%2C%20-122.93776%5D%2C%20%5B34.93766%2C%20-82.004326%5D%2C%20%5B37.89968%2C%20-122.51585%5D%2C%20%5B43.193581%2C%20-77.62258%5D%2C%20%5B33.841961%2C%20-118.286232%5D%2C%20%5B40.255341%2C%20-75.724073%5D%2C%20%5B33.655674%2C%20-117.74407%5D%2C%20%5B29.70422%2C%20-95.40667%5D%2C%20%5B33.945476%2C%20-118.296126%5D%2C%20%5B40.59611500000001%2C%20-75.33674599999998%5D%2C%20%5B27.847363%2C%20-82.819939%5D%2C%20%5B36.951126%2C%20-80.87814200000003%5D%2C%20%5B30.001551%2C%20-95.281311%5D%2C%20%5B35.73308%2C%20-79.457417%5D%2C%20%5B39.060956%2C%20-76.83675799999997%5D%2C%20%5B37.316426%2C%20-80.05079599999998%5D%2C%20%5B42.44976%2C%20-87.82547%5D%2C%20%5B34.068787%2C%20-117.345312%5D%2C%20%5B37.052003000000006%2C%20-122.070454%5D%2C%20%5B30.519458%2C%20-87.143137%5D%2C%20%5B30.102303000000006%2C%20-81.705635%5D%2C%20%5B36.347286%2C%20-82.378624%5D%2C%20%5B47.6199%2C%20-122.3209%5D%2C%20%5B33.810186%2C%20-118.290254%5D%2C%20%5B30.353336%2C%20-97.705627%5D%2C%20%5B33.811%2C%20-84.37305%5D%2C%20%5B39.25236500000001%2C%20-84.57991%5D%2C%20%5B37.708439%2C%20-122.163834%5D%2C%20%5B34.003772999999995%2C%20-118.281029%5D%2C%20%5B39.921501%2C%20-86.11216%5D%2C%20%5B35.459949%2C%20-97.65416%5D%2C%20%5B35.169628%2C%20-80.904701%5D%2C%20%5B34.066759999999995%2C%20-117.21885%5D%2C%20%5B47.73413%2C%20-122.33698%5D%2C%20%5B27.758341%2C%20-82.675285%5D%2C%20%5B38.50246%2C%20-122.9954%5D%2C%20%5B44.313776%2C%20-122.00583600000002%5D%2C%20%5B40.192486%2C%20-75.15293100000002%5D%2C%20%5B37.130473%2C%20-121.032375%5D%2C%20%5B39.00985%2C%20-94.69381%5D%2C%20%5B29.935341%2C%20-95.398613%5D%2C%20%5B38.372875%2C%20-121.358711%5D%2C%20%5B40.85956%2C%20-73.97537%5D%2C%20%5B35.91745%2C%20-84.094406%5D%2C%20%5B42.66706%2C%20-78.885649%5D%2C%20%5B37.303768%2C%20-121.878227%5D%2C%20%5B29.48807%2C%20-98.3927%5D%2C%20%5B39.981274%2C%20-76.761581%5D%2C%20%5B35.16395%2C%20-80.95784%5D%2C%20%5B38.05451%2C%20-122.22957%5D%2C%20%5B31.7776%2C%20-106.44373%5D%2C%20%5B33.509440999999995%2C%20-112.112457%5D%2C%20%5B34.061%2C%20-117.80478%5D%2C%20%5B33.799890000000005%2C%20-84.39126%5D%2C%20%5B37.4633%2C%20-77.50007%5D%2C%20%5B39.483367%2C%20-75.04329%5D%2C%20%5B39.889111%2C%20-75.104874%5D%2C%20%5B33.86329%2C%20-84.43791999999998%5D%2C%20%5B39.01577%2C%20-77.016624%5D%2C%20%5B29.522219%2C%20-98.394287%5D%2C%20%5B28.55292%2C%20-81.41396%5D%2C%20%5B30.711157%2C%20-88.170135%5D%2C%20%5B33.935405%2C%20-118.280342%5D%2C%20%5B38.55875%2C%20-90.25768%5D%2C%20%5B39.379158%2C%20-76.503586%5D%2C%20%5B30.212673%2C%20-85.608007%5D%2C%20%5B37.617466%2C%20-104.759262%5D%2C%20%5B25.761064%2C%20-80.415162%5D%2C%20%5B45.55981%2C%20-122.17327%5D%2C%20%5B36.13979000000001%2C%20-86.82274%5D%2C%20%5B35.396572%2C%20-97.597305%5D%2C%20%5B34.379204%2C%20-81.68016800000002%5D%2C%20%5B39.39598%2C%20-76.68738%5D%2C%20%5B33.519615%2C%20-80.790993%5D%2C%20%5B40.586455%2C%20-122.375142%5D%2C%20%5B34.376090999999995%2C%20-119.477493%5D%2C%20%5B45.42945200000001%2C%20-118.358738%5D%2C%20%5B37.814411%2C%20-122.250877%5D%2C%20%5B44.09075%2C%20-123.17118%5D%2C%20%5B34.12534%2C%20-118.47652%5D%2C%20%5B41.99693%2C%20-87.7289%5D%2C%20%5B33.87422%2C%20-117.88052%5D%2C%20%5B33.94453%2C%20-84.51029%5D%2C%20%5B41.787209%2C%20-87.631302%5D%2C%20%5B29.70751%2C%20-95.10257%5D%2C%20%5B46.98263%2C%20-122.64896%5D%2C%20%5B34.823840000000004%2C%20-86.94227%5D%2C%20%5B42.13176%2C%20-83.24128%5D%2C%20%5B37.041081%2C%20-76.395202%5D%2C%20%5B34.350414%2C%20-118.504124%5D%2C%20%5B37.53847%2C%20-121.92725%5D%2C%20%5B45.496109%2C%20-92.994835%5D%2C%20%5B38.544781%2C%20-121.473984%5D%2C%20%5B40.41976%2C%20-74.209624%5D%2C%20%5B35.018071%2C%20-118.955197%5D%2C%20%5B41.905735%2C%20-87.96500400000002%5D%2C%20%5B45.9759%2C%20-117.26189%5D%2C%20%5B40.27049%2C%20-74.50894%5D%2C%20%5B36.838047%2C%20-76.09831199999998%5D%2C%20%5B41.82988%2C%20-71.41796%5D%2C%20%5B40.075459%2C%20-76.752098%5D%2C%20%5B34.055686%2C%20-118.451951%5D%2C%20%5B37.998032%2C%20-121.806084%5D%2C%20%5B35.22435%2C%20-80.74875%5D%2C%20%5B37.340458%2C%20-122.08933%5D%2C%20%5B42.27952%2C%20-87.86752%5D%2C%20%5B41.931431%2C%20-87.939667%5D%2C%20%5B30.442825%2C%20-87.310355%5D%2C%20%5B34.166657%2C%20-118.299513%5D%2C%20%5B28.35802%2C%20-80.60812%5D%2C%20%5B34.020491%2C%20-118.194086%5D%2C%20%5B41.902233%2C%20-88.10172299999998%5D%2C%20%5B34.081454%2C%20-118.295803%5D%2C%20%5B39.963771%2C%20-76.767318%5D%2C%20%5B25.761633%2C%20-80.352379%5D%2C%20%5B40.854504%2C%20-73.965942%5D%2C%20%5B34.053185%2C%20-81.061378%5D%2C%20%5B41.87965%2C%20-87.80473%5D%2C%20%5B33.99382%2C%20-117.3586%5D%2C%20%5B34.192904%2C%20-118.14824099999998%5D%2C%20%5B34.5894%2C%20-120.408373%5D%2C%20%5B37.542969%2C%20-122.020271%5D%2C%20%5B38.47535300000001%2C%20-121.423849%5D%2C%20%5B45.91169%2C%20-94.88028%5D%2C%20%5B28.537979%2C%20-81.34356700000002%5D%2C%20%5B34.806952%2C%20-89.51053399999998%5D%2C%20%5B35.64053300000001%2C%20-78.640823%5D%2C%20%5B35.0634%2C%20-81.666351%5D%2C%20%5B33.667976%2C%20-112.203018%5D%2C%20%5B25.96749%2C%20-80.22936999999997%5D%2C%20%5B34.094749%2C%20-81.169899%5D%2C%20%5B39.901974%2C%20-75.112747%5D%2C%20%5B34.064419%2C%20-118.00592%5D%2C%20%5B39.039173%2C%20-94.341591%5D%2C%20%5B40.282146%2C%20-76.820086%5D%2C%20%5B37.25389000000001%2C%20-121.95698%5D%2C%20%5B35.31766%2C%20-80.94483000000002%5D%2C%20%5B27.162090000000006%2C%20-80.56437%5D%2C%20%5B44.07982%2C%20-121.30166%5D%2C%20%5B38.965183%2C%20-78.436989%5D%2C%20%5B30.255404%2C%20-97.776527%5D%2C%20%5B47.849579%2C%20-122.246902%5D%2C%20%5B33.725570000000005%2C%20-117.80413%5D%2C%20%5B36.188396%2C%20-86.79656999999997%5D%2C%20%5B42.152405%2C%20-88.136055%5D%2C%20%5B42.531198%2C%20-73.784683%5D%2C%20%5B32.766921999999994%2C%20-96.751526%5D%2C%20%5B33.76488%2C%20-84.51972099999998%5D%2C%20%5B33.750488%2C%20-84.44416%5D%2C%20%5B42.63826%2C%20-84.73909%5D%2C%20%5B42.747219%2C%20-71.49269100000002%5D%2C%20%5B33.465431%2C%20-81.961739%5D%2C%20%5B35.280737%2C%20-80.834305%5D%2C%20%5B42.431931%2C%20-71.243752%5D%2C%20%5B37.683109%2C%20-122.127647%5D%2C%20%5B34.10785%2C%20-117.30274%5D%2C%20%5B45.17935%2C%20-122.59174%5D%2C%20%5B34.214699%2C%20-117.864342%5D%2C%20%5B40.6888%2C%20-73.80870999999998%5D%2C%20%5B34.140764000000004%2C%20-118.277491%5D%2C%20%5B44.561263%2C%20-92.49515%5D%2C%20%5B29.435684%2C%20-98.390083%5D%2C%20%5B34.494021999999994%2C%20-81.841248%5D%2C%20%5B40.085468%2C%20-75.125038%5D%2C%20%5B35.204399%2C%20-80.719879%5D%2C%20%5B40.897204%2C%20-74.022171%5D%2C%20%5B37.69032%2C%20-122.12347%5D%2C%20%5B32.177741999999995%2C%20-110.985435%5D%2C%20%5B42.809438%2C%20-71.49859599999998%5D%2C%20%5B35.49332000000001%2C%20-97.583382%5D%2C%20%5B33.320263%2C%20-111.894035%5D%2C%20%5B35.978068%2C%20-78.580907%5D%2C%20%5B34.182049%2C%20-118.397179%5D%2C%20%5B37.672691%2C%20-122.453972%5D%2C%20%5B34.076153000000005%2C%20-79.304138%5D%2C%20%5B25.90278%2C%20-80.32299%5D%2C%20%5B38.463249%2C%20-90.42495%5D%2C%20%5B37.559256%2C%20-77.417167%5D%2C%20%5B41.28351%2C%20-72.95098%5D%2C%20%5B34.028231%2C%20-118.229938%5D%2C%20%5B37.794292%2C%20-122.206039%5D%2C%20%5B41.175848%2C%20-112.007148%5D%2C%20%5B28.456014%2C%20-81.40138%5D%2C%20%5B36.310596%2C%20-82.406364%5D%2C%20%5B39.88232100000001%2C%20-104.98746%5D%2C%20%5B40.82345%2C%20-73.34748%5D%2C%20%5B36.075481%2C%20-86.940407%5D%2C%20%5B39.13057%2C%20-76.81913%5D%2C%20%5B42.03045%2C%20-88.03085%5D%2C%20%5B27.78186%2C%20-82.6612%5D%2C%20%5B39.094425%2C%20-94.543129%5D%2C%20%5B41.81905%2C%20-71.38453%5D%2C%20%5B32.88921%2C%20-80.010315%5D%2C%20%5B33.928719%2C%20-118.294716%5D%2C%20%5B30.263117%2C%20-97.735694%5D%2C%20%5B35.114178%2C%20-80.824539%5D%2C%20%5B38.661907%2C%20-120.941201%5D%2C%20%5B44.634312%2C%20-124.019058%5D%2C%20%5B39.52977%2C%20-106.21614%5D%2C%20%5B28.097912%2C%20-82.452545%5D%2C%20%5B32.221027%2C%20-110.840973%5D%2C%20%5B36.153%2C%20-86.795982%5D%2C%20%5B36.122715%2C%20-86.80684699999998%5D%2C%20%5B44.690219%2C%20-118.194598%5D%2C%20%5B39.81278%2C%20-105.13791%5D%2C%20%5B37.780026%2C%20-121.186689%5D%2C%20%5B35.799561%2C%20-78.646149%5D%2C%20%5B41.967937%2C%20-88.080109%5D%2C%20%5B34.966384999999995%2C%20-120.421204%5D%2C%20%5B38.008755%2C%20-121.752762%5D%2C%20%5B38.994564%2C%20-104.783417%5D%2C%20%5B34.888069%2C%20-82.37265%5D%2C%20%5B34.12737%2C%20-118.27367%5D%2C%20%5B33.508556%2C%20-112.264038%5D%2C%20%5B30.361718%2C%20-97.641869%5D%2C%20%5B33.855976%2C%20-117.997269%5D%2C%20%5B45.427553%2C%20-122.744042%5D%2C%20%5B38.820953%2C%20-76.848618%5D%2C%20%5B34.098209000000004%2C%20-117.301758%5D%2C%20%5B40.58794%2C%20-111.900467%5D%2C%20%5B34.259827%2C%20-118.330101%5D%2C%20%5B39.378342%2C%20-76.651268%5D%2C%20%5B38.93706%2C%20-94.51362%5D%2C%20%5B45.51284%2C%20-122.99088%5D%2C%20%5B36.20393%2C%20-86.750641%5D%2C%20%5B35.99514%2C%20-86.59663%5D%2C%20%5B40.600346%2C%20-74.23127%5D%2C%20%5B45.519032%2C%20-122.55394%5D%2C%20%5B33.92852%2C%20-118.239164%5D%2C%20%5B28.202374%2C%20-82.776945%5D%2C%20%5B42.34628%2C%20-122.87533%5D%2C%20%5B43.018829%2C%20-78.186203%5D%2C%20%5B40.814671%2C%20-74.05275%5D%2C%20%5B38.871806%2C%20-76.98214300000002%5D%2C%20%5B40.844866%2C%20-73.925262%5D%2C%20%5B42.588089%2C%20-121.924483%5D%2C%20%5B38.694317%2C%20-90.238304%5D%2C%20%5B34.01685%2C%20-117.98548999999998%5D%2C%20%5B37.250729%2C%20-121.910713%5D%2C%20%5B34.018448%2C%20-118.280075%5D%2C%20%5B43.155731%2C%20-77.62044499999998%5D%2C%20%5B34.145569%2C%20-118.226471%5D%2C%20%5B39.217575%2C%20-84.29639399999998%5D%2C%20%5B35.768368%2C%20-78.69413%5D%2C%20%5B29.820692%2C%20-95.42952%5D%2C%20%5B32.8189%2C%20-79.95506999999998%5D%2C%20%5B37.47018%2C%20-121.90886%5D%2C%20%5B42.360269%2C%20-71.07208%5D%2C%20%5B33.180089%2C%20-117.353969%5D%2C%20%5B32.83654%2C%20-96.77962%5D%2C%20%5B35.68626%2C%20-78.608101%5D%2C%20%5B45.38807%2C%20-118.31846000000002%5D%2C%20%5B40.8686%2C%20-73.00034000000002%5D%2C%20%5B38.954372%2C%20-76.078453%5D%2C%20%5B35.194336%2C%20-80.72567%5D%2C%20%5B30.27154%2C%20-81.702797%5D%2C%20%5B40.819904%2C%20-73.890417%5D%2C%20%5B32.834555%2C%20-85.75859100000002%5D%2C%20%5B41.577461%2C%20-87.538177%5D%2C%20%5B34.033353000000005%2C%20-118.170219%5D%2C%20%5B33.881609000000005%2C%20-118.10386%5D%2C%20%5B46.057713%2C%20-123.915249%5D%2C%20%5B43.107471%2C%20-76.287071%5D%2C%20%5B42.245937%2C%20-83.76413000000002%5D%2C%20%5B38.228142%2C%20-85.636627%5D%2C%20%5B36.064886%2C%20-79.456063%5D%2C%20%5B48.16471%2C%20-118.97903%5D%2C%20%5B30.456839%2C%20-91.072083%5D%2C%20%5B44.53695%2C%20-93.84784%5D%2C%20%5B34.299865999999994%2C%20-80.086136%5D%2C%20%5B33.859921%2C%20-118.299194%5D%2C%20%5B25.928132%2C%20-80.293405%5D%2C%20%5B35.305767%2C%20-80.749763%5D%2C%20%5B45.431288%2C%20-118.360744%5D%2C%20%5B37.851368%2C%20-122.028702%5D%2C%20%5B42.400654%2C%20-83.21820799999998%5D%2C%20%5B35.015213%2C%20-85.163684%5D%2C%20%5B43.494523%2C%20-121.674965%5D%2C%20%5B38.84118400000001%2C%20-76.72766999999997%5D%2C%20%5B47.233849%2C%20-122.429741%5D%2C%20%5B41.83173%2C%20-88.201141%5D%2C%20%5B40.725709%2C%20-73.83785999999998%5D%2C%20%5B30.39768%2C%20-81.562485%5D%2C%20%5B25.927303%2C%20-80.221649%5D%2C%20%5B34.14571%2C%20-83.6223%5D%2C%20%5B37.5681%2C%20-121.89597%5D%2C%20%5B37.619975%2C%20-122.075969%5D%2C%20%5B45.51952%2C%20-122.56557%5D%2C%20%5B44.17427%2C%20-93.93767%5D%2C%20%5B29.568777%2C%20-98.394211%5D%2C%20%5B36.158649%2C%20-95.88665%5D%2C%20%5B44.979195%2C%20-93.287598%5D%2C%20%5B40.926926%2C%20-75.3162%5D%2C%20%5B39.18832800000001%2C%20-94.590085%5D%2C%20%5B40.03314%2C%20-75.76375%5D%2C%20%5B34.06743%2C%20-117.42777%5D%2C%20%5B32.839783000000004%2C%20-79.862724%5D%2C%20%5B37.7014%2C%20-121.87741%5D%2C%20%5B37.275824%2C%20-121.946309%5D%2C%20%5B34.018875%2C%20-118.18619%5D%2C%20%5B33.85606%2C%20-117.98707%5D%2C%20%5B30.20516%2C%20-92.012917%5D%2C%20%5B28.375291%2C%20-81.506412%5D%2C%20%5B40.008526%2C%20-75.21072099999998%5D%2C%20%5B38.692059%2C%20-121.336601%5D%2C%20%5B40.73473%2C%20-74.109749%5D%2C%20%5B28.52347%2C%20-81.31031800000002%5D%2C%20%5B37.4782%2C%20-121.93349%5D%2C%20%5B38.55087%2C%20-121.42259%5D%2C%20%5B42.37344%2C%20-71.119438%5D%2C%20%5B33.443977000000004%2C%20-86.733376%5D%2C%20%5B27.636778000000003%2C%20-80.434814%5D%2C%20%5B37.261551%2C%20-121.80016299999998%5D%2C%20%5B42.43913%2C%20-83.42860999999998%5D%2C%20%5B38.496395%2C%20-121.446463%5D%2C%20%5B37.900803%2C%20-121.221181%5D%2C%20%5B35.742931%2C%20-78.68096899999998%5D%2C%20%5B39.047794%2C%20-94.646263%5D%2C%20%5B43.012848%2C%20-83.733856%5D%2C%20%5B40.756325%2C%20-73.550575%5D%2C%20%5B35.301041%2C%20-80.986961%5D%2C%20%5B33.996179999999995%2C%20-117.87029%5D%2C%20%5B36.12746%2C%20-86.728554%5D%2C%20%5B27.874511%2C%20-82.762102%5D%2C%20%5B37.378673%2C%20-121.910996%5D%2C%20%5B34.961201%2C%20-82.387772%5D%2C%20%5B41.73257%2C%20-74.06602%5D%2C%20%5B38.81156%2C%20-94.8204%5D%2C%20%5B34.012502000000005%2C%20-118.418508%5D%2C%20%5B44.889603%2C%20-93.350197%5D%2C%20%5B28.193329%2C%20-82.635086%5D%2C%20%5B30.173796000000007%2C%20-97.823753%5D%2C%20%5B39.99551%2C%20-111.4688%5D%2C%20%5B34.098471%2C%20-81.055757%5D%2C%20%5B39.094131%2C%20-94.543137%5D%2C%20%5B34.175083%2C%20-118.106578%5D%2C%20%5B41.122194%2C%20-111.764851%5D%2C%20%5B40.84488%2C%20-73.922687%5D%2C%20%5B39.923683%2C%20-86.22337399999998%5D%2C%20%5B39.74715%2C%20-105.01813%5D%2C%20%5B34.120436%2C%20-118.271244%5D%2C%20%5B43.122372%2C%20-77.59427600000002%5D%2C%20%5B33.932819%2C%20-81.076858%5D%2C%20%5B35.391338%2C%20-97.533455%5D%2C%20%5B37.335352%2C%20-121.85864%5D%2C%20%5B37.89791500000001%2C%20-122.095856%5D%2C%20%5B33.654920000000004%2C%20-84.36503%5D%2C%20%5B44.78698%2C%20-93.2048%5D%2C%20%5B47.618576%2C%20-92.457944%5D%2C%20%5B33.846699%2C%20-118.206787%5D%2C%20%5B39.018255%2C%20-77.10847700000002%5D%2C%20%5B31.4335%2C%20-83.51978000000003%5D%2C%20%5B40.56396%2C%20-75.58524%5D%2C%20%5B28.501865%2C%20-81.396973%5D%2C%20%5B35.193331%2C%20-80.79990600000002%5D%2C%20%5B41.876987%2C%20-88.070122%5D%2C%20%5B45.037411%2C%20-93.04245%5D%2C%20%5B33.16523%2C%20-80.64463%5D%2C%20%5B30.221426%2C%20-97.764876%5D%2C%20%5B42.04011%2C%20-87.88886%5D%2C%20%5B40.66765%2C%20-111.9388%5D%2C%20%5B33.754219%2C%20-117.850647%5D%2C%20%5B37.994606%2C%20-122.069801%5D%2C%20%5B29.89128%2C%20-90.40987%5D%2C%20%5B26.080715%2C%20-80.1686%5D%2C%20%5B32.981388%2C%20-96.932191%5D%2C%20%5B25.941313%2C%20-80.190342%5D%2C%20%5B32.750645%2C%20-80.828445%5D%2C%20%5B30.267139%2C%20-97.770866%5D%2C%20%5B34.055588%2C%20-118.21299%5D%2C%20%5B27.71246%2C%20-82.29821%5D%2C%20%5B41.038431%2C%20-78.389711%5D%2C%20%5B28.433971000000003%2C%20-82.548538%5D%2C%20%5B41.81907%2C%20-71.41835999999998%5D%2C%20%5B30.116516%2C%20-91.971291%5D%2C%20%5B27.446066%2C%20-82.485039%5D%2C%20%5B33.790413%2C%20-118.099365%5D%2C%20%5B42.125888%2C%20-87.89807900000002%5D%2C%20%5B38.250305%2C%20-122.270721%5D%2C%20%5B39.048167%2C%20-77.151092%5D%2C%20%5B35.383056%2C%20-119.044444%5D%2C%20%5B38.183498%2C%20-121.769051%5D%2C%20%5B38.657665%2C%20-121.382591%5D%2C%20%5B33.441438%2C%20-117.137764%5D%2C%20%5B25.772091%2C%20-80.190185%5D%2C%20%5B42.208824%2C%20-73.63681%5D%2C%20%5B41.56755%2C%20-87.33058%5D%2C%20%5B29.352079%2C%20-98.431496%5D%2C%20%5B32.391585%2C%20-90.145584%5D%2C%20%5B33.733059000000004%2C%20-117.989822%5D%2C%20%5B39.184761%2C%20-84.366638%5D%2C%20%5B44.826096%2C%20-95.036576%5D%2C%20%5B34.068659999999994%2C%20-117.37487%5D%2C%20%5B34.033283000000004%2C%20-118.181114%5D%2C%20%5B33.71625%2C%20-84.25243%5D%2C%20%5B35.053761%2C%20-90.007446%5D%2C%20%5B34.39846%2C%20-118.46193%5D%2C%20%5B41.37531%2C%20-83.61631700000002%5D%2C%20%5B33.920577%2C%20-118.082588%5D%2C%20%5B37.572998%2C%20-77.519814%5D%2C%20%5B40.735321%2C%20-73.90834%5D%2C%20%5B35.18853%2C%20-85.48359%5D%2C%20%5B36.653923%2C%20-120.297585%5D%2C%20%5B42.548679%2C%20-73.671387%5D%2C%20%5B27.893890000000006%2C%20-82.668178%5D%2C%20%5B37.320877%2C%20-77.400749%5D%2C%20%5B30.462097%2C%20-97.816207%5D%2C%20%5B30.36488%2C%20-97.696007%5D%2C%20%5B36.03191%2C%20-95.864647%5D%2C%20%5B30.462299%2C%20-91.035187%5D%2C%20%5B41.63796%2C%20-83.54525%5D%2C%20%5B40.17299000000001%2C%20-74.07257%5D%2C%20%5B32.843920000000004%2C%20-96.63466%5D%2C%20%5B39.022289%2C%20-84.511803%5D%2C%20%5B32.232994%2C%20-110.959465%5D%2C%20%5B35.249763%2C%20-80.856438%5D%2C%20%5B36.13258%2C%20-80.28098299999998%5D%2C%20%5B27.33855%2C%20-82.44436%5D%2C%20%5B36.169209%2C%20-86.779663%5D%2C%20%5B40.21131%2C%20-79.662987%5D%2C%20%5B33.516889%2C%20-117.663986%5D%2C%20%5B37.98991%2C%20-122.13337%5D%2C%20%5B34.033409000000006%2C%20-118.18045%5D%2C%20%5B34.096815%2C%20-117.925406%5D%2C%20%5B40.894001%2C%20-74.273315%5D%2C%20%5B37.33453%2C%20-122.02868%5D%2C%20%5B38.80023%2C%20-77.20654%5D%2C%20%5B39.078094%2C%20-76.952332%5D%2C%20%5B26.684276%2C%20-81.79855%5D%2C%20%5B34.524982%2C%20-82.519875%5D%2C%20%5B40.13114%2C%20-74.96751%5D%2C%20%5B37.40794%2C%20-122.0043%5D%2C%20%5B43.102382%2C%20-123.472483%5D%2C%20%5B35.96319000000001%2C%20-83.93939%5D%2C%20%5B29.48596%2C%20-82.491122%5D%2C%20%5B43.048023%2C%20-77.647903%5D%2C%20%5B38.004318%2C%20-122.04023%5D%2C%20%5B41.05881%2C%20-73.82184000000002%5D%2C%20%5B35.596649%2C%20-97.642601%5D%2C%20%5B25.85225%2C%20-80.20814%5D%2C%20%5B39.735574%2C%20-123.258125%5D%2C%20%5B25.687379%2C%20-80.355979%5D%2C%20%5B38.657707%2C%20-121.363853%5D%2C%20%5B32.765695%2C%20-117.128486%5D%2C%20%5B37.34723%2C%20-121.85912%5D%2C%20%5B27.606163%2C%20-82.497803%5D%2C%20%5B28.519131%2C%20-81.39705699999998%5D%2C%20%5B40.88638%2C%20-73.89589000000002%5D%2C%20%5B28.092556%2C%20-82.73944499999998%5D%2C%20%5B42.720482%2C%20-84.504951%5D%2C%20%5B34.03841%2C%20-118.439682%5D%2C%20%5B34.089901%2C%20-80.92733%5D%2C%20%5B39.113308%2C%20-104.865658%5D%2C%20%5B36.763179%2C%20-119.747699%5D%2C%20%5B37.666409%2C%20-122.106804%5D%2C%20%5B33.82264%2C%20-118.19736%5D%2C%20%5B38.91107%2C%20-120.918522%5D%2C%20%5B30.32608%2C%20-97.692383%5D%2C%20%5B34.09369%2C%20-118.25607%5D%2C%20%5B41.124969%2C%20-74.165664%5D%2C%20%5B33.44723%2C%20-117.63508%5D%2C%20%5B33.688899%2C%20-117.918201%5D%2C%20%5B33.419395%2C%20-112.018768%5D%2C%20%5B40.87223400000001%2C%20-73.81796999999997%5D%2C%20%5B36.1472%2C%20-86.74367%5D%2C%20%5B39.9893%2C%20-85.93041%5D%2C%20%5B42.74151%2C%20-95.44658%5D%2C%20%5B35.31745%2C%20-80.77631%5D%2C%20%5B39.743931%2C%20-105.02993%5D%2C%20%5B39.84419000000001%2C%20-86.04244%5D%2C%20%5B38.737267%2C%20-77.192484%5D%2C%20%5B38.674713%2C%20-76.876099%5D%2C%20%5B32.759422%2C%20-97.029007%5D%2C%20%5B47.60582700000001%2C%20-122.331146%5D%2C%20%5B35.07886%2C%20-90.02585%5D%2C%20%5B33.79938%2C%20-117.89767%5D%2C%20%5B38.815727%2C%20-77.13825200000002%5D%2C%20%5B39.03699%2C%20-94.68329%5D%2C%20%5B38.843868%2C%20-94.529579%5D%2C%20%5B42.40204%2C%20-82.97069%5D%2C%20%5B33.772087%2C%20-117.156386%5D%2C%20%5B34.446176%2C%20-119.956799%5D%2C%20%5B42.695904%2C%20-73.84127%5D%2C%20%5B35.022411%2C%20-85.17576600000002%5D%2C%20%5B37.60635%2C%20-87.10544%5D%2C%20%5B35.180565%2C%20-80.888756%5D%2C%20%5B40.8227%2C%20-74.12556%5D%2C%20%5B35.235924%2C%20-80.880516%5D%2C%20%5B37.783173%2C%20-121.229187%5D%2C%20%5B33.943661%2C%20-79.563232%5D%2C%20%5B42.58915%2C%20-122.81657%5D%2C%20%5B37.18665%2C%20-119.203154%5D%2C%20%5B39.418221%2C%20-77.45084399999998%5D%2C%20%5B34.68816%2C%20-82.996162%5D%2C%20%5B34.18756%2C%20-118.93386%5D%2C%20%5B32.936115%2C%20-117.111275%5D%2C%20%5B32.926117%2C%20-96.81234%5D%2C%20%5B45.073331%2C%20-93.286532%5D%2C%20%5B44.42824%2C%20-93.530947%5D%2C%20%5B40.369846%2C%20-76.943321%5D%2C%20%5B39.309693%2C%20-76.74507%5D%2C%20%5B36.750367%2C%20-119.700245%5D%2C%20%5B45.03758300000001%2C%20-93.091868%5D%2C%20%5B45.497887%2C%20-94.240654%5D%2C%20%5B39.59539%2C%20-84.20027900000002%5D%2C%20%5B34.799839%2C%20-82.42443100000001%5D%2C%20%5B34.003994%2C%20-117.83017%5D%2C%20%5B40.098991%2C%20-83.146927%5D%2C%20%5B41.551898%2C%20-73.94393000000002%5D%2C%20%5B36.138571%2C%20-115.243019%5D%2C%20%5B45.286277%2C%20-93.002926%5D%2C%20%5B34.234987%2C%20-118.29043%5D%2C%20%5B36.193375%2C%20-86.776886%5D%2C%20%5B45.728696%2C%20-120.558425%5D%2C%20%5B41.67473%2C%20-93.57793%5D%2C%20%5B38.95333%2C%20-76.72780999999998%5D%2C%20%5B35.31095900000001%2C%20-84.804939%5D%2C%20%5B30.251652000000004%2C%20-81.466492%5D%2C%20%5B40.131565%2C%20-75.449104%5D%2C%20%5B38.589854%2C%20-121.730293%5D%2C%20%5B37.540244%2C%20-120.895759%5D%2C%20%5B33.63176%2C%20-84.39544000000002%5D%2C%20%5B38.83453400000001%2C%20-77.097862%5D%2C%20%5B36.758015%2C%20-76.29597%5D%2C%20%5B41.140095%2C%20-95.937347%5D%2C%20%5B37.27642%2C%20-121.94619%5D%2C%20%5B33.747341%2C%20-118.291412%5D%2C%20%5B34.487594%2C%20-118.1399%5D%2C%20%5B34.795922%2C%20-82.437576%5D%2C%20%5B34.871140000000004%2C%20-82.691612%5D%2C%20%5B40.10699%2C%20-82.95770999999998%5D%2C%20%5B40.634635%2C%20-111.905195%5D%2C%20%5B32.7877%2C%20-117.113981%5D%2C%20%5B34.133549%2C%20-118.352539%5D%2C%20%5B40.979275%2C%20-72.133636%5D%2C%20%5B37.68668%2C%20-122.1301%5D%2C%20%5B38.90972100000001%2C%20-77.544495%5D%2C%20%5B30.44331%2C%20-97.66748%5D%2C%20%5B34.178047%2C%20-118.393959%5D%2C%20%5B25.888203%2C%20-80.212807%5D%2C%20%5B25.92554%2C%20-80.2649%5D%2C%20%5B42.321499%2C%20-71.053802%5D%2C%20%5B36.742799%2C%20-119.445653%5D%2C%20%5B35.23349%2C%20-80.823143%5D%2C%20%5B38.985983%2C%20-93.499842%5D%2C%20%5B41.242298%2C%20-79.425568%5D%2C%20%5B34.036961%2C%20-118.173576%5D%2C%20%5B34.0246%2C%20-118.46924%5D%2C%20%5B41.92366%2C%20-87.96337%5D%2C%20%5B33.823372%2C%20-84.357681%5D%2C%20%5B32.751663%2C%20-117.004601%5D%2C%20%5B38.559351%2C%20-121.372622%5D%2C%20%5B34.005720000000004%2C%20-117.96019%5D%2C%20%5B33.762451%2C%20-116.309555%5D%2C%20%5B36.514561%2C%20-80.742337%5D%2C%20%5B29.70097%2C%20-95.374313%5D%2C%20%5B25.879293%2C%20-80.3564%5D%2C%20%5B37.099854%2C%20-120.87751000000002%5D%2C%20%5B33.903713%2C%20-118.185593%5D%2C%20%5B28.4806%2C%20-81.310112%5D%2C%20%5B33.859982%2C%20-118.298935%5D%2C%20%5B34.401109000000005%2C%20-118.805591%5D%2C%20%5B33.710011%2C%20-117.782486%5D%2C%20%5B38.43268%2C%20-122.71608%5D%2C%20%5B37.017418%2C%20-76.45027900000002%5D%2C%20%5B40.86295%2C%20-73.0538%5D%2C%20%5B38.99469000000001%2C%20-76.88884%5D%2C%20%5B45.5055%2C%20-122.67672%5D%2C%20%5B35.246578%2C%20-80.891441%5D%2C%20%5B39.086391%2C%20-84.522896%5D%2C%20%5B40.094572%2C%20-76.410253%5D%2C%20%5B30.581257%2C%20-91.162216%5D%2C%20%5B33.912085999999995%2C%20-84.379356%5D%2C%20%5B31.549009%2C%20-97.12442%5D%2C%20%5B38.25629%2C%20-85.76668000000002%5D%2C%20%5B40.386612%2C%20-111.832703%5D%2C%20%5B26.011093%2C%20-80.166809%5D%2C%20%5B40.194717%2C%20-75.156693%5D%2C%20%5B29.733961%2C%20-95.378021%5D%2C%20%5B34.03665%2C%20-118.16132%5D%2C%20%5B33.772346%2C%20-86.828712%5D%2C%20%5B35.23567%2C%20-80.85453000000003%5D%2C%20%5B42.84008%2C%20-117.62489%5D%2C%20%5B39.830605%2C%20-84.89031999999997%5D%2C%20%5B34.323640000000005%2C%20-118.46463%5D%2C%20%5B29.851583%2C%20-95.504662%5D%2C%20%5B34.141154%2C%20-117.248611%5D%2C%20%5B33.702585%2C%20-84.191085%5D%2C%20%5B41.284073%2C%20-72.934563%5D%2C%20%5B42.313591%2C%20-71.121086%5D%2C%20%5B33.670998%2C%20-84.17935200000002%5D%2C%20%5B39.465378%2C%20-119.786827%5D%2C%20%5B34.498546999999995%2C%20-82.330116%5D%2C%20%5B28.52333%2C%20-81.38631%5D%2C%20%5B34.01951%2C%20-118.180012%5D%2C%20%5B40.63598%2C%20-111.90204%5D%2C%20%5B44.77805%2C%20-93.55639%5D%2C%20%5B35.006116%2C%20-85.24779000000002%5D%2C%20%5B34.027939%2C%20-117.933067%5D%2C%20%5B40.667274%2C%20-111.952507%5D%2C%20%5B39.232681%2C%20-76.709879%5D%2C%20%5B25.461069%2C%20-80.484314%5D%2C%20%5B32.133984000000005%2C%20-110.97776%5D%2C%20%5B34.072262%2C%20-117.91127%5D%2C%20%5B35.01133%2C%20-80.765884%5D%2C%20%5B34.078388000000004%2C%20-81.15316800000002%5D%2C%20%5B32.894951%2C%20-80.70946500000002%5D%2C%20%5B34.073055%2C%20-80.978363%5D%2C%20%5B44.556862%2C%20-120.049928%5D%2C%20%5B33.813122%2C%20-84.5457%5D%2C%20%5B25.62749%2C%20-80.37989%5D%2C%20%5B33.771282%2C%20-84.38503299999998%5D%2C%20%5B33.85989%2C%20-84.481255%5D%2C%20%5B28.53256%2C%20-81.38498%5D%2C%20%5B25.769772%2C%20-80.329799%5D%2C%20%5B39.246822%2C%20-76.67559%5D%2C%20%5B30.43807%2C%20-84.279442%5D%2C%20%5B44.15633%2C%20-117.41877%5D%2C%20%5B40.00251%2C%20-83.117676%5D%2C%20%5B44.43697%2C%20-119.313697%5D%2C%20%5B33.480662%2C%20-112.106407%5D%2C%20%5B37.869523%2C%20-122.304749%5D%2C%20%5B31.768637%2C%20-106.487823%5D%2C%20%5B38.05303%2C%20-120.20244%5D%2C%20%5B39.04267%2C%20-94.36918%5D%2C%20%5B29.937441%2C%20-95.483231%5D%2C%20%5B43.144611%2C%20-77.523216%5D%2C%20%5B41.135605%2C%20-74.16834300000002%5D%2C%20%5B39.561306%2C%20-107.294115%5D%2C%20%5B37.908665%2C%20-122.320973%5D%2C%20%5B39.675498%2C%20-123.475627%5D%2C%20%5B33.85973%2C%20-118.30395%5D%2C%20%5B40.081847%2C%20-74.76369%5D%2C%20%5B39.313509%2C%20-119.897083%5D%2C%20%5B33.63896%2C%20-79.03193%5D%2C%20%5B34.024693%2C%20-117.113235%5D%2C%20%5B34.026501%2C%20-117.332984%5D%2C%20%5B34.020306%2C%20-118.192268%5D%2C%20%5B34.130386%2C%20-118.073189%5D%2C%20%5B45.43387%2C%20-122.76066000000002%5D%2C%20%5B38.445852%2C%20-111.804349%5D%2C%20%5B39.632637%2C%20-84.20303299999998%5D%2C%20%5B35.097633%2C%20-106.568932%5D%2C%20%5B33.937615%2C%20-117.123581%5D%2C%20%5B40.07912%2C%20-76.76335999999998%5D%2C%20%5B44.032696%2C%20-123.852096%5D%2C%20%5B37.362774%2C%20-121.887871%5D%2C%20%5B43.153622%2C%20-121.79486%5D%2C%20%5B34.663422%2C%20-82.45768000000002%5D%2C%20%5B34.04646%2C%20-117.77394%5D%2C%20%5B42.49462%2C%20-82.93205%5D%2C%20%5B36.856944%2C%20-121.63%5D%2C%20%5B25.903611%2C%20-80.174983%5D%2C%20%5B37.4167%2C%20-122.21154%5D%2C%20%5B28.565596000000006%2C%20-81.20740699999998%5D%2C%20%5B33.168407%2C%20-87.516914%5D%2C%20%5B38.412975%2C%20-120.550606%5D%2C%20%5B43.071339%2C%20-87.92076899999998%5D%2C%20%5B34.669041%2C%20-83.064194%5D%2C%20%5B37.441703%2C%20-121.889973%5D%2C%20%5B40.57841%2C%20-111.66924%5D%2C%20%5B26.351255%2C%20-80.11853%5D%2C%20%5B37.75705900000001%2C%20-121.963573%5D%2C%20%5B39.277725%2C%20-77.32356999999998%5D%2C%20%5B37.688957%2C%20-122.135612%5D%2C%20%5B25.860951%2C%20-80.209603%5D%2C%20%5B45.309635%2C%20-121.838595%5D%2C%20%5B43.075279%2C%20-88.058289%5D%2C%20%5B33.669289%2C%20-112.099747%5D%2C%20%5B38.838493%2C%20-77.448013%5D%2C%20%5B47.49897%2C%20-94.92498%5D%2C%20%5B35.328838%2C%20-80.737999%5D%2C%20%5B42.13363%2C%20-88.09324000000002%5D%2C%20%5B36.04433%2C%20-86.65701999999997%5D%2C%20%5B37.532822%2C%20-77.507133%5D%2C%20%5B25.972676%2C%20-80.20612%5D%2C%20%5B28.48275%2C%20-81.46398%5D%2C%20%5B32.139381%2C%20-110.840698%5D%2C%20%5B34.024632000000004%2C%20-118.166138%5D%2C%20%5B40.254362%2C%20-76.86477%5D%2C%20%5B35.567329%2C%20-97.500343%5D%2C%20%5B37.806983%2C%20-122.475511%5D%2C%20%5B30.010485%2C%20-90.020974%5D%2C%20%5B45.32136%2C%20-94.89557%5D%2C%20%5B34.038070000000005%2C%20-81.10636%5D%2C%20%5B41.83219%2C%20-87.69566%5D%2C%20%5B37.03399%2C%20-77.63280999999998%5D%2C%20%5B39.35976%2C%20-76.50476%5D%2C%20%5B40.06063%2C%20-75.32424%5D%2C%20%5B40.70555%2C%20-74.2459%5D%2C%20%5B34.030628%2C%20-81.08815%5D%2C%20%5B34.01676%2C%20-118.482679%5D%2C%20%5B39.189964%2C%20-76.86889599999998%5D%2C%20%5B38.672997%2C%20-121.328221%5D%2C%20%5B32.631557%2C%20-80.881538%5D%2C%20%5B34.4894%2C%20-117.332964%5D%2C%20%5B37.400574%2C%20-122.03569%5D%2C%20%5B40.725784%2C%20-73.837631%5D%2C%20%5B42.733875%2C%20-71.19207800000002%5D%2C%20%5B46.981754%2C%20-92.471264%5D%2C%20%5B47.52644%2C%20-122.314903%5D%2C%20%5B39.172241%2C%20-76.62056%5D%2C%20%5B33.597229%2C%20-117.676826%5D%2C%20%5B33.814454%2C%20-118.081565%5D%2C%20%5B35.767089%2C%20-80.332401%5D%2C%20%5B35.39138%2C%20-97.530434%5D%2C%20%5B42.933151%2C%20-71.43020600000001%5D%2C%20%5B37.341617%2C%20-77.33612099999998%5D%2C%20%5B27.85717%2C%20-82.846649%5D%2C%20%5B39.584105%2C%20-77.635674%5D%2C%20%5B36.073868%2C%20-80.32288299999998%5D%2C%20%5B44.549447%2C%20-123.002352%5D%2C%20%5B33.960784999999994%2C%20-117.312996%5D%2C%20%5B36.49616%2C%20-121.364839%5D%2C%20%5B34.028526%2C%20-118.067993%5D%2C%20%5B39.787888%2C%20-86.208427%5D%2C%20%5B44.518136%2C%20-92.923343%5D%2C%20%5B36.186589%2C%20-86.804066%5D%2C%20%5B40.081341%2C%20-75.37560500000002%5D%2C%20%5B40.419422%2C%20-80.090576%5D%2C%20%5B34.1358%2C%20-117.58372%5D%2C%20%5B41.91665%2C%20-89.56168000000002%5D%2C%20%5B32.95953%2C%20-96.821297%5D%2C%20%5B32.186993%2C%20-110.96833%5D%2C%20%5B33.424816%2C%20-81.791617%5D%2C%20%5B32.368120000000005%2C%20-86.13481%5D%2C%20%5B38.5118%2C%20-122.45581%5D%2C%20%5B42.476000000000006%2C%20-83.12123100000002%5D%2C%20%5B41.023586%2C%20-77.934578%5D%2C%20%5B28.373216%2C%20-82.645584%5D%2C%20%5B37.74219%2C%20-121.525634%5D%2C%20%5B33.911245%2C%20-118.172382%5D%2C%20%5B40.990665%2C%20-111.904198%5D%2C%20%5B32.94895%2C%20-96.82331%5D%2C%20%5B42.664112%2C%20-71.194603%5D%2C%20%5B33.791664000000004%2C%20-117.8903%5D%2C%20%5B39.445218%2C%20-76.334935%5D%2C%20%5B33.536713%2C%20-112.340988%5D%2C%20%5B43.784231%2C%20-122.538671%5D%2C%20%5B34.00524%2C%20-117.393033%5D%2C%20%5B35.109138%2C%20-89.888359%5D%2C%20%5B40.166088%2C%20-76.828903%5D%2C%20%5B33.772989%2C%20-81.392798%5D%2C%20%5B37.636082%2C%20-121.396698%5D%2C%20%5B35.093361%2C%20-80.84279599999998%5D%2C%20%5B33.938782%2C%20-118.343918%5D%2C%20%5B36.253949%2C%20-119.172166%5D%2C%20%5B43.147701%2C%20-77.732399%5D%2C%20%5B45.0205%2C%20-93.18908%5D%2C%20%5B36.152302%2C%20-95.987694%5D%2C%20%5B25.58768%2C%20-80.405247%5D%2C%20%5B35.518669%2C%20-97.534363%5D%2C%20%5B41.05426%2C%20-73.809792%5D%2C%20%5B32.776671%2C%20-96.784148%5D%2C%20%5B25.811558%2C%20-80.19538100000003%5D%2C%20%5B33.58013%2C%20-84.51928000000002%5D%2C%20%5B35.130282%2C%20-120.607842%5D%2C%20%5B43.77328%2C%20-123.06034%5D%2C%20%5B37.360481%2C%20-77.34120899999998%5D%2C%20%5B34.03514000000001%2C%20-118.149622%5D%2C%20%5B34.121449%2C%20-117.302361%5D%2C%20%5B34.278183%2C%20-118.502144%5D%2C%20%5B34.25036%2C%20-117.192969%5D%2C%20%5B36.18508900000001%2C%20-86.759918%5D%2C%20%5B40.195644%2C%20-76.975449%5D%2C%20%5B40.631443%2C%20-111.839973%5D%2C%20%5B28.19171%2C%20-82.465721%5D%2C%20%5B31.72829%2C%20-106.31296%5D%2C%20%5B42.43211%2C%20-83.11538%5D%2C%20%5B34.823708%2C%20-82.431473%5D%2C%20%5B41.263893%2C%20-73.611165%5D%2C%20%5B35.009617%2C%20-82.02829%5D%2C%20%5B33.39320900000001%2C%20-112.116345%5D%2C%20%5B33.99953%2C%20-117.8497%5D%2C%20%5B41.964356%2C%20-123.746889%5D%2C%20%5B37.725182%2C%20-122.401639%5D%2C%20%5B44.951969%2C%20-93.147911%5D%2C%20%5B40.23552700000001%2C%20-75.27359399999997%5D%2C%20%5B29.710754%2C%20-95.604622%5D%2C%20%5B30.372386%2C%20-81.66930699999998%5D%2C%20%5B34.14674%2C%20-117.247986%5D%2C%20%5B33.809023%2C%20-118.028073%5D%2C%20%5B38.64067100000001%2C%20-121.271698%5D%2C%20%5B41.474041%2C%20-87.323341%5D%2C%20%5B34.018904%2C%20-118.17236%5D%2C%20%5B35.335012%2C%20-81.12123100000002%5D%2C%20%5B34.015709%2C%20-117.339882%5D%2C%20%5B33.007172%2C%20-80.42189%5D%2C%20%5B34.572697%2C%20-117.88962%5D%2C%20%5B34.280628%2C%20-118.419006%5D%2C%20%5B44.93291%2C%20-93.07175%5D%2C%20%5B40.740543%2C%20-73.841324%5D%2C%20%5B33.194796999999994%2C%20-117.250128%5D%2C%20%5B34.064072%2C%20-118.01008600000002%5D%2C%20%5B35.210556%2C%20-80.83717299999998%5D%2C%20%5B33.634338%2C%20-80.87554899999998%5D%2C%20%5B39.083374%2C%20-121.187776%5D%2C%20%5B42.41235%2C%20-83.21871999999998%5D%2C%20%5B34.248562%2C%20-117.185895%5D%2C%20%5B41.786024%2C%20-93.570698%5D%2C%20%5B38.11301%2C%20-122.10605%5D%2C%20%5B40.976758%2C%20-111.428473%5D%2C%20%5B28.445629%2C%20-81.364952%5D%2C%20%5B33.048378%2C%20-117.287079%5D%2C%20%5B34.953441999999995%2C%20-82.02211%5D%2C%20%5B36.150162%2C%20-86.857933%5D%2C%20%5B42.011909%2C%20-87.750877%5D%2C%20%5B41.690765%2C%20-74.078096%5D%2C%20%5B32.88045%2C%20-80.01839%5D%2C%20%5B35.232069%2C%20-80.850974%5D%2C%20%5B37.841358%2C%20-122.297058%5D%2C%20%5B42.130918%2C%20-84.24817%5D%2C%20%5B33.390093%2C%20-86.793676%5D%2C%20%5B26.44488%2C%20-81.93521899999998%5D%2C%20%5B35.35495%2C%20-119.336304%5D%2C%20%5B43.59603%2C%20-83.98904%5D%2C%20%5B40.8297%2C%20-73.19962%5D%2C%20%5B35.22781%2C%20-80.86148%5D%2C%20%5B42.343227%2C%20-83.216042%5D%2C%20%5B40.69987%2C%20-111.870062%5D%2C%20%5B36.627679%2C%20-121.587591%5D%2C%20%5B37.62429%2C%20-121.004913%5D%2C%20%5B39.665596%2C%20-75.604156%5D%2C%20%5B34.055355%2C%20-118.09948%5D%2C%20%5B36.26088%2C%20-86.73819%5D%2C%20%5B39.638161%2C%20-78.947449%5D%2C%20%5B35.53335900000001%2C%20-114.354807%5D%2C%20%5B30.44471%2C%20-84.278313%5D%2C%20%5B35.882088%2C%20-84.510307%5D%2C%20%5B34.546188%2C%20-120.193305%5D%2C%20%5B45.527247%2C%20-122.565461%5D%2C%20%5B43.04169%2C%20-71.46166%5D%2C%20%5B37.865199%2C%20-121.667654%5D%2C%20%5B37.556715%2C%20-120.915576%5D%2C%20%5B40.6549%2C%20-111.90073%5D%2C%20%5B35.016158000000004%2C%20-81.97549599999998%5D%2C%20%5B42.30615%2C%20-88.02917%5D%2C%20%5B35.181792%2C%20-118.4934%5D%2C%20%5B33.899288%2C%20-84.269072%5D%2C%20%5B30.595115000000003%2C%20-87.079341%5D%2C%20%5B33.001976%2C%20-80.098191%5D%2C%20%5B34.968781%2C%20-81.96965%5D%2C%20%5B40.758446%2C%20-74.97962199999998%5D%2C%20%5B35.008224%2C%20-85.265504%5D%2C%20%5B43.12244000000001%2C%20-123.41274%5D%2C%20%5B45.230684%2C%20-93.633839%5D%2C%20%5B25.718082%2C%20-80.318502%5D%2C%20%5B39.01875%2C%20-77.10274%5D%2C%20%5B38.631317%2C%20-121.504875%5D%2C%20%5B47.730137%2C%20-122.296501%5D%2C%20%5B42.93296%2C%20-78.78761999999998%5D%2C%20%5B35.26842100000001%2C%20-80.882706%5D%2C%20%5B29.665173%2C%20-95.260182%5D%2C%20%5B29.029079%2C%20-82.02174000000002%5D%2C%20%5B29.6656%2C%20-95.512329%5D%2C%20%5B30.40682%2C%20-97.635033%5D%2C%20%5B34.1213%2C%20-118.231094%5D%2C%20%5B30.458786%2C%20-91.058258%5D%2C%20%5B40.494522%2C%20-74.412887%5D%2C%20%5B34.036921%2C%20-118.088854%5D%2C%20%5B39.928558%2C%20-104.987267%5D%2C%20%5B36.16588400000001%2C%20-86.865013%5D%2C%20%5B33.139774%2C%20-117.181976%5D%2C%20%5B32.456747%2C%20-93.707719%5D%2C%20%5B40.77174%2C%20-73.87563%5D%2C%20%5B33.928268%2C%20-118.255821%5D%2C%20%5B35.795643%2C%20-78.51531999999997%5D%2C%20%5B30.192265000000006%2C%20-85.649918%5D%2C%20%5B32.572933%2C%20-83.237213%5D%2C%20%5B35.051687%2C%20-120.526332%5D%2C%20%5B45.5233%2C%20-122.41316%5D%2C%20%5B41.429912%2C%20-112.057472%5D%2C%20%5B36.765205%2C%20-81.833855%5D%2C%20%5B36.17691%2C%20-86.774551%5D%2C%20%5B27.942963%2C%20-82.544907%5D%2C%20%5B32.26643%2C%20-95.279429%5D%2C%20%5B34.006599%2C%20-117.826782%5D%2C%20%5B34.900246%2C%20-82.035973%5D%2C%20%5B33.415955%2C%20-111.939575%5D%2C%20%5B43.177372%2C%20-83.77422299999998%5D%2C%20%5B32.72268%2C%20-111.51524%5D%2C%20%5B40.03356%2C%20-82.90299999999998%5D%2C%20%5B35.4179%2C%20-97.570953%5D%2C%20%5B34.344318%2C%20-86.610626%5D%2C%20%5B34.364688%2C%20-119.036274%5D%2C%20%5B39.32155%2C%20-84.25046%5D%2C%20%5B25.689146%2C%20-80.38287199999998%5D%2C%20%5B35.292053%2C%20-80.796669%5D%2C%20%5B41.984444%2C%20-88.078835%5D%2C%20%5B36.850525%2C%20-80.861778%5D%2C%20%5B39.775139%2C%20-105.144958%5D%2C%20%5B38.222591%2C%20-122.25325%5D%2C%20%5B30.345266%2C%20-91.031158%5D%2C%20%5B37.548836%2C%20-77.43336500000002%5D%2C%20%5B30.384674%2C%20-97.644844%5D%2C%20%5B28.261477000000006%2C%20-81.512295%5D%2C%20%5B40.160424%2C%20-79.86306400000002%5D%2C%20%5B39.249762%2C%20-94.727736%5D%2C%20%5B41.869747%2C%20-75.71614100000002%5D%2C%20%5B37.098129%2C%20-120.147072%5D%2C%20%5B43.09788%2C%20-77.60117%5D%2C%20%5B39.945305%2C%20-76.64654499999997%5D%2C%20%5B40.42934%2C%20-80.02436%5D%2C%20%5B40.237869%2C%20-82.860626%5D%2C%20%5B34.068589%2C%20-118.151171%5D%2C%20%5B34.15609%2C%20-80.896751%5D%2C%20%5B47.80484000000001%2C%20-122.14343999999998%5D%2C%20%5B29.720051%2C%20-95.484848%5D%2C%20%5B36.92845%2C%20-120.02595%5D%2C%20%5B40.615398%2C%20-74.040079%5D%2C%20%5B45.03557%2C%20-92.88343%5D%2C%20%5B37.51136%2C%20-121.937637%5D%2C%20%5B43.01162%2C%20-83.68699000000002%5D%2C%20%5B36.746212%2C%20-80.772308%5D%2C%20%5B35.738039%2C%20-118.556186%5D%2C%20%5B36.036282%2C%20-95.948898%5D%2C%20%5B33.238953%2C%20-87.576897%5D%2C%20%5B37.219124%2C%20-119.508759%5D%2C%20%5B40.113658%2C%20-75.349877%5D%2C%20%5B44.948666%2C%20-92.988831%5D%2C%20%5B37.511353%2C%20-121.93766%5D%2C%20%5B35.480743%2C%20-97.54776%5D%2C%20%5B37.916544%2C%20-121.291021%5D%2C%20%5B25.834862%2C%20-80.24334%5D%2C%20%5B33.46151%2C%20-112.07706%5D%2C%20%5B33.754063%2C%20-117.806267%5D%2C%20%5B37.698132%2C%20-121.94076499999998%5D%2C%20%5B30.219708%2C%20-97.836202%5D%2C%20%5B29.877081%2C%20-95.483276%5D%2C%20%5B43.246824%2C%20-75.147673%5D%2C%20%5B34.322979%2C%20-118.46949%5D%2C%20%5B41.53817100000001%2C%20-72.805886%5D%2C%20%5B40.698837%2C%20-74.240723%5D%2C%20%5B39.903751%2C%20-83.07534%5D%2C%20%5B33.631085%2C%20-78.960676%5D%2C%20%5B43.158589%2C%20-77.604543%5D%2C%20%5B35.380833%2C%20-119.044167%5D%2C%20%5B32.83457%2C%20-96.87498%5D%2C%20%5B34.13619%2C%20-117.57587%5D%2C%20%5B42.442745%2C%20-83.754082%5D%2C%20%5B25.964895%2C%20-80.174217%5D%2C%20%5B33.41452%2C%20-111.97833%5D%2C%20%5B35.27269000000001%2C%20-80.835526%5D%2C%20%5B36.14982%2C%20-82.42155%5D%2C%20%5B34.464657%2C%20-82.045784%5D%2C%20%5B40.25358%2C%20-76.81799000000002%5D%2C%20%5B36.772277%2C%20-119.744759%5D%2C%20%5B33.721008000000005%2C%20-84.395403%5D%2C%20%5B45.580551%2C%20-118.619636%5D%2C%20%5B47.499512%2C%20-122.274139%5D%2C%20%5B35.643756%2C%20-81.115318%5D%2C%20%5B38.587347%2C%20-121.447199%5D%2C%20%5B34.07456%2C%20-118.22136%5D%2C%20%5B32.749428%2C%20-96.824097%5D%2C%20%5B34.647919%2C%20-82.48268900000002%5D%2C%20%5B35.796535%2C%20-78.677391%5D%2C%20%5B34.148901%2C%20-117.264432%5D%2C%20%5B37.322247%2C%20-121.898155%5D%2C%20%5B33.710693%2C%20-112.254738%5D%2C%20%5B30.215662%2C%20-97.797401%5D%2C%20%5B34.05664%2C%20-84.59952%5D%2C%20%5B27.714103%2C%20-82.335265%5D%2C%20%5B39.225182%2C%20-94.500282%5D%2C%20%5B34.201462%2C%20-118.47345%5D%2C%20%5B38.342197%2C%20-122.009514%5D%2C%20%5B41.277794%2C%20-96.023941%5D%2C%20%5B34.173342%2C%20-118.544801%5D%2C%20%5B32.893597%2C%20-84.34683199999998%5D%2C%20%5B29.447025%2C%20-98.653519%5D%2C%20%5B38.824219%2C%20-76.947929%5D%2C%20%5B25.495483%2C%20-80.444908%5D%2C%20%5B40.43147800000001%2C%20-111.889402%5D%2C%20%5B30.255758%2C%20-97.720726%5D%2C%20%5B36.976982%2C%20-120.079346%5D%2C%20%5B37.057916%2C%20-122.123107%5D%2C%20%5B41.292316%2C%20-96.105499%5D%2C%20%5B34.172234%2C%20-118.389229%5D%2C%20%5B32.802822%2C%20-86.580803%5D%2C%20%5B32.657090000000004%2C%20-96.88422%5D%2C%20%5B34.13905%2C%20-118.364456%5D%2C%20%5B38.295856%2C%20-77.512863%5D%2C%20%5B28.4705%2C%20-82.26585%5D%2C%20%5B34.03027%2C%20-117.66279%5D%2C%20%5B32.75951%2C%20-97.06135%5D%2C%20%5B41.819408%2C%20-72.609383%5D%2C%20%5B47.2046%2C%20-122.25053%5D%2C%20%5B28.547174%2C%20-81.244461%5D%2C%20%5B33.821548%2C%20-84.359383%5D%2C%20%5B47.679665%2C%20-122.321083%5D%2C%20%5B45.5075%2C%20-122.72064%5D%2C%20%5B37.929169%2C%20-122.387276%5D%2C%20%5B42.363876%2C%20-87.82869000000002%5D%2C%20%5B33.792097%2C%20-117.890152%5D%2C%20%5B25.987464000000006%2C%20-80.16577%5D%2C%20%5B35.148979%2C%20-82.036728%5D%2C%20%5B37.708698%2C%20-121.723869%5D%2C%20%5B32.453540999999994%2C%20-83.682877%5D%2C%20%5B40.081177%2C%20-76.657135%5D%2C%20%5B38.248798%2C%20-122.631683%5D%2C%20%5B32.989767%2C%20-96.710363%5D%2C%20%5B42.141571%2C%20-71.173119%5D%2C%20%5B43.12183%2C%20-83.51909599999998%5D%2C%20%5B43.07576%2C%20-83.68360899999998%5D%2C%20%5B30.481381%2C%20-87.25867099999998%5D%2C%20%5B35.689342%2C%20-78.862993%5D%2C%20%5B39.524261%2C%20-119.739944%5D%2C%20%5B37.666492%2C%20-122.103455%5D%2C%20%5B33.65932%2C%20-111.93121%5D%2C%20%5B42.054539%2C%20-87.84034%5D%2C%20%5B37.026119%2C%20-80.729691%5D%2C%20%5B27.008181%2C%20-80.210033%5D%2C%20%5B26.546714%2C%20-81.83574%5D%2C%20%5B46.23971%2C%20-94.34772%5D%2C%20%5B39.06223%2C%20-94.62581%5D%2C%20%5B45.02232%2C%20-93.91023%5D%2C%20%5B39.204472%2C%20-94.492455%5D%2C%20%5B38.841465%2C%20-77.43102900000002%5D%2C%20%5B29.87494%2C%20-90.09809%5D%2C%20%5B45.36143%2C%20-122.76078%5D%2C%20%5B38.146945%2C%20-121.158696%5D%2C%20%5B30.820154%2C%20-84.523812%5D%2C%20%5B34.454041%2C%20-119.752632%5D%2C%20%5B35.496796%2C%20-97.565689%5D%2C%20%5B41.788635%2C%20-87.94706%5D%2C%20%5B33.927409999999995%2C%20-117.2886%5D%2C%20%5B37.015732%2C%20-76.386978%5D%2C%20%5B33.935919%2C%20-118.28027%5D%2C%20%5B30.555451%2C%20-91.13439%5D%2C%20%5B40.719191%2C%20-74.234482%5D%2C%20%5B38.94199%2C%20-121.097099%5D%2C%20%5B36.956173%2C%20-113.791698%5D%2C%20%5B33.957836%2C%20-118.111847%5D%2C%20%5B34.860809%2C%20-83.03434%5D%2C%20%5B40.25374%2C%20-76.82136%5D%2C%20%5B33.99648%2C%20-118.28048%5D%2C%20%5B42.5091%2C%20-89.03793%5D%2C%20%5B25.755457%2C%20-80.38501%5D%2C%20%5B30.29375%2C%20-81.77094%5D%2C%20%5B39.094742%2C%20-77.11492199999998%5D%2C%20%5B33.819378%2C%20-81.196678%5D%2C%20%5B37.973236%2C%20-122.062073%5D%2C%20%5B30.81066%2C%20-86.495152%5D%2C%20%5B35.363129%2C%20-97.56546%5D%2C%20%5B39.413913%2C%20-76.789401%5D%2C%20%5B29.80302%2C%20-95.50087%5D%2C%20%5B34.027747999999995%2C%20-118.452553%5D%2C%20%5B39.164838%2C%20-122.154042%5D%2C%20%5B34.273912%2C%20-119.13528%5D%2C%20%5B38.354671%2C%20-81.649876%5D%2C%20%5B33.837124%2C%20-117.296371%5D%2C%20%5B34.031%2C%20-117.32828%5D%2C%20%5B35.400394%2C%20-79.990157%5D%2C%20%5B34.858795%2C%20-82.2603%5D%2C%20%5B41.355486%2C%20-78.54439599999998%5D%2C%20%5B33.48494%2C%20-117.14248700000002%5D%2C%20%5B30.188116%2C%20-81.70289%5D%2C%20%5B43.21603%2C%20-77.938309%5D%2C%20%5B39.313858%2C%20-120.471759%5D%2C%20%5B34.17852%2C%20-80.292091%5D%2C%20%5B39.423224%2C%20-77.49399%5D%2C%20%5B45.00708%2C%20-93.400993%5D%2C%20%5B32.837791%2C%20-97.076118%5D%2C%20%5B28.01939%2C%20-82.74677%5D%2C%20%5B43.225096%2C%20-71.504029%5D%2C%20%5B28.59504%2C%20-81.38455%5D%2C%20%5B45.08828%2C%20-93.187488%5D%2C%20%5B35.838047%2C%20-78.869682%5D%2C%20%5B43.024357%2C%20-88.10766600000002%5D%2C%20%5B29.756308%2C%20-81.34978199999998%5D%2C%20%5B28.53912%2C%20-81.475815%5D%2C%20%5B40.692711%2C%20-74.427773%5D%2C%20%5B27.92789%2C%20-82.58686%5D%2C%20%5B34.021786%2C%20-84.32416500000002%5D%2C%20%5B41.75074%2C%20-87.9132%5D%2C%20%5B44.65882%2C%20-121.10447%5D%2C%20%5B39.350887%2C%20-77.392569%5D%2C%20%5B34.036964000000005%2C%20-118.219789%5D%2C%20%5B34.381573%2C%20-82.810989%5D%2C%20%5B32.887104%2C%20-117.227867%5D%2C%20%5B43.05556%2C%20-74.04842%5D%2C%20%5B30.468553000000004%2C%20-97.796806%5D%2C%20%5B38.190258%2C%20-85.72912600000002%5D%2C%20%5B41.198647%2C%20-73.118042%5D%2C%20%5B33.70325%2C%20-84.17498%5D%2C%20%5B33.81041%2C%20-117.967598%5D%2C%20%5B43.350555%2C%20-83.864365%5D%2C%20%5B34.18882%2C%20-80.68851%5D%2C%20%5B44.861805%2C%20-93.308884%5D%2C%20%5B35.71801%2C%20-81.75370799999997%5D%2C%20%5B39.71125%2C%20-105.02501%5D%2C%20%5B35.529724%2C%20-119.190041%5D%2C%20%5B34.08724%2C%20-117.68462%5D%2C%20%5B37.80763%2C%20-122.30404%5D%2C%20%5B40.56598%2C%20-74.688251%5D%2C%20%5B40.630459%2C%20-111.876063%5D%2C%20%5B39.374238%2C%20-76.750348%5D%2C%20%5B29.63796%2C%20-95.5829%5D%2C%20%5B35.561161%2C%20-78.486176%5D%2C%20%5B43.122372%2C%20-77.647552%5D%2C%20%5B47.546192%2C%20-122.276337%5D%2C%20%5B39.87282%2C%20-75.07866%5D%2C%20%5B39.18242%2C%20-84.26487%5D%2C%20%5B33.793864%2C%20-117.892591%5D%2C%20%5B40.997089%2C%20-91.813095%5D%2C%20%5B33.87637%2C%20-117.66016%5D%2C%20%5B33.84376%2C%20-118.20603%5D%2C%20%5B33.912859999999995%2C%20-118.14588%5D%2C%20%5B37.977637%2C%20-122.257589%5D%2C%20%5B39.740246%2C%20-104.661937%5D%2C%20%5B26.446154%2C%20-82.041733%5D%2C%20%5B34.284907000000004%2C%20-119.305633%5D%2C%20%5B43.05067800000001%2C%20-83.663063%5D%2C%20%5B42.367962%2C%20-87.879952%5D%2C%20%5B34.426527%2C%20-117.450979%5D%2C%20%5B45.37087%2C%20-122.70935%5D%2C%20%5B33.916421%2C%20-118.28603%5D%2C%20%5B41.592377%2C%20-93.751816%5D%2C%20%5B35.801325%2C%20-78.470849%5D%2C%20%5B33.39277%2C%20-111.980796%5D%2C%20%5B38.207588%2C%20-121.264046%5D%2C%20%5B28.3356%2C%20-81.59146700000002%5D%2C%20%5B40.544281%2C%20-111.898659%5D%2C%20%5B33.771286%2C%20-84.390045%5D%2C%20%5B33.84206%2C%20-118.285545%5D%2C%20%5B37.7098%2C%20-122.12421%5D%2C%20%5B30.252905%2C%20-81.515999%5D%2C%20%5B36.060898%2C%20-95.919212%5D%2C%20%5B28.47258%2C%20-81.396652%5D%2C%20%5B39.72566%2C%20-105.01531%5D%2C%20%5B37.514736%2C%20-77.460693%5D%2C%20%5B42.699726%2C%20-73.708138%5D%2C%20%5B34.06092%2C%20-118.25032%5D%2C%20%5B33.864472%2C%20-118.326524%5D%2C%20%5B35.84288%2C%20-78.573631%5D%2C%20%5B44.81944%2C%20-122.80069%5D%2C%20%5B33.884373%2C%20-117.629326%5D%2C%20%5B28.15542%2C%20-82.525414%5D%2C%20%5B41.17902%2C%20-73.18119%5D%2C%20%5B35.42225300000001%2C%20-119.03011200000002%5D%2C%20%5B40.023506%2C%20-75.230515%5D%2C%20%5B32.85372%2C%20-96.56152%5D%2C%20%5B38.85113%2C%20-77.407933%5D%2C%20%5B41.674335%2C%20-83.693764%5D%2C%20%5B30.6805%2C%20-88.042957%5D%2C%20%5B37.71144%2C%20-121.01309%5D%2C%20%5B35.733978%2C%20-81.530273%5D%2C%20%5B25.549867000000006%2C%20-80.477863%5D%2C%20%5B29.703358%2C%20-95.607524%5D%2C%20%5B33.508911%2C%20-80.84494000000002%5D%2C%20%5B35.339516%2C%20-119.039474%5D%2C%20%5B38.832438%2C%20-77.466655%5D%2C%20%5B44.21302%2C%20-93.26816%5D%2C%20%5B39.97414000000001%2C%20-82.99371%5D%2C%20%5B37.317935%2C%20-121.980482%5D%2C%20%5B35.204781%2C%20-80.73853299999998%5D%2C%20%5B25.889278%2C%20-80.209335%5D%2C%20%5B43.16452%2C%20-77.72318299999998%5D%2C%20%5B39.712147%2C%20-86.120628%5D%2C%20%5B29.206415000000003%2C%20-82.184433%5D%2C%20%5B40.781495%2C%20-74.201201%5D%2C%20%5B35.075915%2C%20-82.069923%5D%2C%20%5B32.86237%2C%20-96.859643%5D%2C%20%5B33.8237%2C%20-84.351959%5D%2C%20%5B42.272336%2C%20-84.42566500000002%5D%2C%20%5B33.93096%2C%20-118.291913%5D%2C%20%5B30.923887%2C%20-87.51339300000002%5D%2C%20%5B37.713459%2C%20-121.088242%5D%2C%20%5B25.942207%2C%20-80.351395%5D%2C%20%5B30.33403%2C%20-97.746529%5D%2C%20%5B37.824055%2C%20-122.266937%5D%2C%20%5B46.87401%2C%20-97.20619%5D%2C%20%5B44.97121%2C%20-93.37512%5D%2C%20%5B35.743125%2C%20-78.652191%5D%2C%20%5B33.493303999999995%2C%20-80.834785%5D%2C%20%5B33.13671%2C%20-117.16931%5D%2C%20%5B32.837569%2C%20-96.778047%5D%2C%20%5B44.94687%2C%20-93.0791%5D%2C%20%5B30.534106%2C%20-87.092496%5D%2C%20%5B30.45031%2C%20-91.007874%5D%2C%20%5B29.848095%2C%20-95.323799%5D%2C%20%5B40.187649%2C%20-74.691986%5D%2C%20%5B25.883375%2C%20-80.323509%5D%2C%20%5B37.932716%2C%20-122.060364%5D%2C%20%5B37.492235%2C%20-122.386063%5D%2C%20%5B35.30977100000001%2C%20-119.002989%5D%2C%20%5B34.09182%2C%20-117.991814%5D%2C%20%5B42.599005%2C%20-123.383793%5D%2C%20%5B26.078549%2C%20-80.215784%5D%2C%20%5B38.678468%2C%20-121.230351%5D%2C%20%5B27.954693%2C%20-82.537979%5D%2C%20%5B39.073875%2C%20-76.905869%5D%2C%20%5B39.204567%2C%20-76.63930699999997%5D%2C%20%5B33.900974%2C%20-98.496231%5D%2C%20%5B25.76102%2C%20-80.3784%5D%2C%20%5B35.540161%2C%20-78.287132%5D%2C%20%5B33.669582%2C%20-117.754593%5D%2C%20%5B29.620478%2C%20-95.221436%5D%2C%20%5B45.36894%2C%20-92.99531%5D%2C%20%5B42.941479%2C%20-85.677673%5D%2C%20%5B40.69057%2C%20-73.99886%5D%2C%20%5B42.357029%2C%20-88.067993%5D%2C%20%5B29.660612%2C%20-95.508476%5D%2C%20%5B37.481743%2C%20-77.495552%5D%2C%20%5B41.995358%2C%20-88.144791%5D%2C%20%5B47.66888%2C%20-122.104507%5D%2C%20%5B32.05736%2C%20-81.10122%5D%2C%20%5B33.958378%2C%20-118.11058%5D%2C%20%5B36.970099%2C%20-81.066795%5D%2C%20%5B33.60982%2C%20-112.25486%5D%2C%20%5B33.862817%2C%20-118.199257%5D%2C%20%5B44.32981%2C%20-72.74414%5D%2C%20%5B35.964001%2C%20-84.984974%5D%2C%20%5B29.850113%2C%20-95.26248%5D%2C%20%5B42.9632%2C%20-85.667908%5D%2C%20%5B33.96747%2C%20-118.232838%5D%2C%20%5B36.133209%2C%20-95.958252%5D%2C%20%5B43.37981%2C%20-84.131%5D%2C%20%5B39.764591%2C%20-86.167183%5D%2C%20%5B35.32239000000001%2C%20-80.73305%5D%2C%20%5B36.985049%2C%20-76.427273%5D%2C%20%5B41.666542%2C%20-71.499352%5D%2C%20%5B29.92798%2C%20-90.07534%5D%2C%20%5B34.02494%2C%20-118.204178%5D%2C%20%5B39.879818%2C%20-86.292198%5D%2C%20%5B37.746723%2C%20-122.393951%5D%2C%20%5B35.30505%2C%20-80.858368%5D%2C%20%5B26.975628000000004%2C%20-82.34734300000002%5D%2C%20%5B38.549797%2C%20-122.719186%5D%2C%20%5B42.358749%2C%20-83.07634%5D%2C%20%5B33.912987%2C%20-118.180145%5D%2C%20%5B35.060925%2C%20-80.956326%5D%2C%20%5B39.580528%2C%20-104.904259%5D%2C%20%5B39.976463%2C%20-75.199173%5D%2C%20%5B38.501457%2C%20-122.76313799999998%5D%2C%20%5B33.914165000000004%2C%20-118.370537%5D%2C%20%5B38.660919%2C%20-121.379967%5D%2C%20%5B43.052528%2C%20-87.971703%5D%2C%20%5B34.083554%2C%20-118.298805%5D%2C%20%5B41.680817%2C%20-72.65365600000001%5D%2C%20%5B34.230522%2C%20-79.798828%5D%2C%20%5B33.76712%2C%20-81.641312%5D%2C%20%5B39.99469000000001%2C%20-75.09456%5D%2C%20%5B32.704411%2C%20-117.147102%5D%2C%20%5B39.04204%2C%20-76.90388%5D%2C%20%5B32.878639%2C%20-96.734795%5D%2C%20%5B34.039093%2C%20-118.439758%5D%2C%20%5B32.863949%2C%20-86.621277%5D%2C%20%5B33.287357%2C%20-111.858994%5D%2C%20%5B37.44052%2C%20-120.849407%5D%2C%20%5B37.691459%2C%20-77.699747%5D%2C%20%5B34.02324%2C%20-117.81159%5D%2C%20%5B35.118732%2C%20-81.08329%5D%2C%20%5B33.228588%2C%20-87.533401%5D%2C%20%5B25.794266%2C%20-80.239756%5D%2C%20%5B37.973152%2C%20-121.247295%5D%2C%20%5B44.9649%2C%20-93.28739%5D%2C%20%5B34.043251%2C%20-117.550058%5D%2C%20%5B30.338619%2C%20-81.671091%5D%2C%20%5B33.81296%2C%20-117.91247%5D%2C%20%5B42.95162%2C%20-78.75912%5D%2C%20%5B32.806961%2C%20-96.670212%5D%2C%20%5B36.171841%2C%20-86.764717%5D%2C%20%5B35.792999%2C%20-78.62487800000002%5D%2C%20%5B34.055739%2C%20-118.452239%5D%2C%20%5B42.961731%2C%20-83.55484%5D%2C%20%5B36.07877%2C%20-87.022499%5D%2C%20%5B33.872531%2C%20-118.202324%5D%2C%20%5B33.698211%2C%20-112.152267%5D%2C%20%5B35.392776%2C%20-119.044724%5D%2C%20%5B34.806025%2C%20-118.170667%5D%2C%20%5B41.80656%2C%20-71.44098000000002%5D%2C%20%5B33.930101%2C%20-118.17063600000002%5D%2C%20%5B40.671476%2C%20-111.460219%5D%2C%20%5B40.553581%2C%20-74.318169%5D%2C%20%5B43.064892%2C%20-121.825256%5D%2C%20%5B42.487531%2C%20-83.21258399999998%5D%2C%20%5B41.131836%2C%20-73.795541%5D%2C%20%5B32.665718%2C%20-97.293716%5D%2C%20%5B37.597414%2C%20-77.492183%5D%2C%20%5B40.023653%2C%20-75.644185%5D%2C%20%5B34.412859000000005%2C%20-82.04979300000002%5D%2C%20%5B38.150757%2C%20-122.449348%5D%2C%20%5B38.244046%2C%20-121.277522%5D%2C%20%5B42.312149%2C%20-87.90460999999998%5D%2C%20%5B30.384298%2C%20-91.064819%5D%2C%20%5B38.337105%2C%20-104.749672%5D%2C%20%5B34.106544%2C%20-118.255806%5D%2C%20%5B42.970104%2C%20-85.653221%5D%2C%20%5B45.482449%2C%20-95.090523%5D%2C%20%5B38.55417%2C%20-121.689551%5D%2C%20%5B34.054878%2C%20-118.257164%5D%2C%20%5B34.066145%2C%20-117.509282%5D%2C%20%5B34.994587%2C%20-80.854469%5D%2C%20%5B33.97172%2C%20-117.54869%5D%2C%20%5B42.45735%2C%20-83.09770999999998%5D%2C%20%5B34.222538%2C%20-117.405647%5D%2C%20%5B42.750744%2C%20-83.50045899999998%5D%2C%20%5B34.581194%2C%20-118.133601%5D%2C%20%5B42.36261%2C%20-71.05504%5D%2C%20%5B35.83540700000001%2C%20-78.669601%5D%2C%20%5B43.011326%2C%20-83.517525%5D%2C%20%5B26.562878%2C%20-81.871815%5D%2C%20%5B38.611691%2C%20-90.451683%5D%2C%20%5B35.412286%2C%20-119.074446%5D%2C%20%5B34.274578000000005%2C%20-118.570014%5D%2C%20%5B42.49073%2C%20-83.28260999999998%5D%2C%20%5B29.324371000000006%2C%20-98.412689%5D%2C%20%5B33.899712%2C%20-79.807129%5D%2C%20%5B41.646431%2C%20-72.772522%5D%2C%20%5B33.07774000000001%2C%20-80.21315799999998%5D%2C%20%5B31.762833%2C%20-106.267929%5D%2C%20%5B33.429245%2C%20-86.70858%5D%2C%20%5B37.71724%2C%20-77.44792%5D%2C%20%5B33.911048%2C%20-117.448379%5D%2C%20%5B33.987404%2C%20-118.13723799999998%5D%2C%20%5B44.96467%2C%20-93.28649%5D%2C%20%5B40.182881%2C%20-75.163165%5D%2C%20%5B43.80858%2C%20-95.30178%5D%2C%20%5B37.36386%2C%20-121.89169%5D%2C%20%5B35.17208%2C%20-80.85123%5D%2C%20%5B39.090752%2C%20-104.862183%5D%2C%20%5B30.46633%2C%20-91.105469%5D%2C%20%5B39.46516%2C%20-76.36858000000002%5D%2C%20%5B33.646603000000006%2C%20-114.33593%5D%2C%20%5B37.937881%2C%20-122.325729%5D%2C%20%5B33.802636%2C%20-118.125354%5D%2C%20%5B38.978794%2C%20-94.711364%5D%2C%20%5B40.84668900000001%2C%20-73.928873%5D%2C%20%5B40.782569%2C%20-73.556862%5D%2C%20%5B35.369722%2C%20-119.0425%5D%2C%20%5B35.21392%2C%20-80.83746%5D%2C%20%5B25.686548%2C%20-80.376251%5D%2C%20%5B38.964973%2C%20-77.42836%5D%2C%20%5B25.899435%2C%20-80.34668%5D%2C%20%5B25.728491%2C%20-80.335571%5D%2C%20%5B36.168533%2C%20-86.600273%5D%2C%20%5B44.889545%2C%20-93.349922%5D%2C%20%5B39.18021%2C%20-84.64705%5D%2C%20%5B34.394146%2C%20-118.571426%5D%2C%20%5B37.001175%2C%20-122.002782%5D%2C%20%5B41.210716%2C%20-95.96273%5D%2C%20%5B37.548822%2C%20-118.639328%5D%2C%20%5B45.472037%2C%20-122.57906%5D%2C%20%5B32.782478999999995%2C%20-96.811314%5D%2C%20%5B29.844490000000004%2C%20-95.49782%5D%2C%20%5B40.74792%2C%20-73.76013%5D%2C%20%5B43.041462%2C%20-83.69388599999998%5D%2C%20%5B36.546807%2C%20-119.57505%5D%2C%20%5B40.709049%2C%20-73.84133100000003%5D%2C%20%5B39.737587%2C%20-75.00254100000002%5D%2C%20%5B35.91247%2C%20-78.78206999999998%5D%2C%20%5B35.735218%2C%20-78.58852399999998%5D%2C%20%5B38.63587%2C%20-77.67429%5D%2C%20%5B40.61681%2C%20-122.36488%5D%2C%20%5B42.4096%2C%20-122.95189%5D%2C%20%5B34.2728%2C%20-79.69644%5D%2C%20%5B37.317426%2C%20-121.935356%5D%2C%20%5B28.534294%2C%20-80.80751%5D%2C%20%5B34.818258%2C%20-118.99571%5D%2C%20%5B39.757201%2C%20-105.010238%5D%2C%20%5B45.53202%2C%20-122.56638999999998%5D%2C%20%5B29.862867%2C%20-95.334305%5D%2C%20%5B43.02795%2C%20-88.021341%5D%2C%20%5B33.813461%2C%20-79.01725%5D%2C%20%5B44.20957%2C%20-121.4147%5D%2C%20%5B38.6586%2C%20-77.44084000000002%5D%2C%20%5B32.031307%2C%20-81.267471%5D%2C%20%5B35.189522%2C%20-80.853134%5D%2C%20%5B47.849758%2C%20-122.257248%5D%2C%20%5B37.71469%2C%20-122.13111%5D%2C%20%5B26.029239%2C%20-80.165616%5D%2C%20%5B28.582256%2C%20-81.375038%5D%2C%20%5B40.42006%2C%20-105.22263%5D%2C%20%5B41.871591%2C%20-73.363878%5D%2C%20%5B35.760647%2C%20-78.82653%5D%2C%20%5B41.263058%2C%20-96.119537%5D%2C%20%5B33.49575%2C%20-112.130989%5D%2C%20%5B42.00843%2C%20-88.20385%5D%2C%20%5B39.08253%2C%20-77.17198%5D%2C%20%5B35.208599%2C%20-80.86369300000001%5D%2C%20%5B33.57592%2C%20-112.25816%5D%2C%20%5B30.249331%2C%20-97.75518%5D%2C%20%5B40.883%2C%20-74.12823%5D%2C%20%5B41.001201%2C%20-73.652397%5D%2C%20%5B35.7612%2C%20-119.344421%5D%2C%20%5B42.654678%2C%20-73.745628%5D%2C%20%5B33.55851%2C%20-80.824112%5D%2C%20%5B30.476958000000003%2C%20-91.167279%5D%2C%20%5B42.30595%2C%20-87.95966%5D%2C%20%5B35.391533%2C%20-97.523468%5D%2C%20%5B37.448731%2C%20-120.797104%5D%2C%20%5B37.220467%2C%20-77.390989%5D%2C%20%5B34.029724%2C%20-118.403061%5D%2C%20%5B30.632039%2C%20-81.602051%5D%2C%20%5B33.85558%2C%20-118.28234%5D%2C%20%5B32.806328%2C%20-117.151352%5D%2C%20%5B30.369770000000006%2C%20-97.717003%5D%2C%20%5B39.90255%2C%20-75.15086%5D%2C%20%5B40.375276%2C%20-123.353241%5D%2C%20%5B34.062588%2C%20-118.248718%5D%2C%20%5B35.888749%2C%20-78.55171999999997%5D%2C%20%5B39.93114%2C%20-83.14463%5D%2C%20%5B40.54431%2C%20-111.894166%5D%2C%20%5B36.104256%2C%20-96.009087%5D%2C%20%5B34.099434%2C%20-117.872581%5D%2C%20%5B43.046993%2C%20-87.911873%5D%2C%20%5B33.889942%2C%20-84.462845%5D%2C%20%5B30.39299%2C%20-81.56066%5D%2C%20%5B41.722759%2C%20-87.624207%5D%2C%20%5B34.016994%2C%20-118.141115%5D%2C%20%5B39.639382%2C%20-77.00631%5D%2C%20%5B39.87475900000001%2C%20-75.096627%5D%2C%20%5B41.409733%2C%20-73.455368%5D%2C%20%5B32.13375%2C%20-111.00301%5D%2C%20%5B29.424948%2C%20-98.420784%5D%2C%20%5B37.89692700000001%2C%20-122.101845%5D%2C%20%5B28.53918%2C%20-81.47573%5D%2C%20%5B31.269440000000003%2C%20-83.472153%5D%2C%20%5B29.866804%2C%20-81.32309000000002%5D%2C%20%5B39.32349%2C%20-77.356678%5D%2C%20%5B42.294624%2C%20-71.479576%5D%2C%20%5B45.65075%2C%20-123.14392%5D%2C%20%5B25.581185%2C%20-80.367202%5D%2C%20%5B37.650943%2C%20-121.603618%5D%2C%20%5B29.743413%2C%20-95.328744%5D%2C%20%5B33.732693%2C%20-84.737381%5D%2C%20%5B38.605522%2C%20-122.595421%5D%2C%20%5B42.647076%2C%20-73.749245%5D%2C%20%5B41.91833%2C%20-88.03775%5D%2C%20%5B34.829239%2C%20-82.30319200000002%5D%2C%20%5B28.559799%2C%20-81.38020300000002%5D%2C%20%5B42.504543%2C%20-83.114975%5D%2C%20%5B40.737438%2C%20-74.07643900000002%5D%2C%20%5B45.103863%2C%20-93.459373%5D%2C%20%5B33.125640999999995%2C%20-87.483475%5D%2C%20%5B35.041777%2C%20-80.846526%5D%2C%20%5B33.408809999999995%2C%20-111.805321%5D%2C%20%5B34.065697%2C%20-117.543663%5D%2C%20%5B34.068442%2C%20-117.800527%5D%2C%20%5B40.766258%2C%20-73.33113900000002%5D%2C%20%5B45.150799%2C%20-122.881134%5D%2C%20%5B44.88383%2C%20-93.29583%5D%2C%20%5B37.635036%2C%20-77.573929%5D%2C%20%5B40.67514%2C%20-73.802116%5D%2C%20%5B34.148941%2C%20-118.697578%5D%2C%20%5B33.638636%2C%20-112.394002%5D%2C%20%5B36.08744%2C%20-86.692177%5D%2C%20%5B34.087757%2C%20-84.26949300000003%5D%2C%20%5B42.42438%2C%20-71.25769%5D%2C%20%5B38.000648%2C%20-122.03772%5D%2C%20%5B42.30064%2C%20-71.04916%5D%2C%20%5B45.50365%2C%20-122.67455%5D%2C%20%5B42.96235%2C%20-88.02011%5D%2C%20%5B27.843781%2C%20-82.819908%5D%2C%20%5B26.13051%2C%20-80.16949%5D%2C%20%5B25.684389000000003%2C%20-80.33545699999998%5D%2C%20%5B33.825720000000004%2C%20-118.203668%5D%2C%20%5B39.004993%2C%20-94.55497%5D%2C%20%5B26.617167%2C%20-80.17390400000002%5D%2C%20%5B38.939716%2C%20-94.566216%5D%2C%20%5B34.169132%2C%20-118.098287%5D%2C%20%5B30.417977%2C%20-81.565836%5D%2C%20%5B33.3026%2C%20-111.97151%5D%2C%20%5B29.627747%2C%20-95.446159%5D%2C%20%5B29.728695%2C%20-95.460167%5D%2C%20%5B35.181789%2C%20-80.916588%5D%2C%20%5B32.443756%2C%20-93.769485%5D%2C%20%5B33.681383000000004%2C%20-117.853618%5D%2C%20%5B34.200361%2C%20-118.958847%5D%2C%20%5B37.72476%2C%20-121.325741%5D%2C%20%5B39.547741%2C%20-105.036453%5D%2C%20%5B32.71346%2C%20-117.13166%5D%2C%20%5B42.515549%2C%20-73.78935200000002%5D%2C%20%5B40.755608%2C%20-73.47492199999998%5D%2C%20%5B34.13593%2C%20-117.401762%5D%2C%20%5B39.698263%2C%20-86.106711%5D%2C%20%5B36.215305%2C%20-86.588791%5D%2C%20%5B37.980766%2C%20-120.321335%5D%2C%20%5B34.630057%2C%20-82.781696%5D%2C%20%5B35.341032%2C%20-82.44%5D%2C%20%5B34.41642%2C%20-119.707207%5D%2C%20%5B42.433814%2C%20-122.633624%5D%2C%20%5B32.864101%2C%20-96.66571%5D%2C%20%5B34.135368%2C%20-118.00074%5D%2C%20%5B35.465637%2C%20-97.724731%5D%2C%20%5B37.912775%2C%20-122.06692%5D%2C%20%5B34.037581%2C%20-118.086252%5D%2C%20%5B40.870949%2C%20-73.428497%5D%2C%20%5B35.75445900000001%2C%20-78.612465%5D%2C%20%5B37.069686%2C%20-121.616644%5D%2C%20%5B40.785217%2C%20-73.444489%5D%2C%20%5B32.241829%2C%20-80.981125%5D%2C%20%5B38.968956%2C%20-77.62288000000002%5D%2C%20%5B43.510692%2C%20-123.507378%5D%2C%20%5B32.785340000000005%2C%20-117.11449%5D%2C%20%5B38.790543%2C%20-77.176376%5D%2C%20%5B34.916515000000004%2C%20-82.09642%5D%2C%20%5B33.885555%2C%20-117.549698%5D%2C%20%5B43.204616%2C%20-124.30707%5D%2C%20%5B43.045719%2C%20-88.199736%5D%2C%20%5B33.912704%2C%20-118.180191%5D%2C%20%5B36.15816%2C%20-86.62557%5D%2C%20%5B34.048087%2C%20-118.221623%5D%2C%20%5B25.761405%2C%20-80.36845500000003%5D%2C%20%5B32.383038%2C%20-86.246178%5D%2C%20%5B35.803669%2C%20-78.693855%5D%2C%20%5B33.67031%2C%20-117.76567%5D%2C%20%5B38.660848%2C%20-121.350513%5D%2C%20%5B30.407455%2C%20-97.714233%5D%2C%20%5B34.111179%2C%20-80.896072%5D%2C%20%5B29.730158000000007%2C%20-95.4842%5D%2C%20%5B40.69478%2C%20-73.8121%5D%2C%20%5B32.925831%2C%20-96.820572%5D%2C%20%5B40.698093%2C%20-74.366486%5D%2C%20%5B30.383913%2C%20-91.03688%5D%2C%20%5B43.252941%2C%20-77.677687%5D%2C%20%5B26.841722%2C%20-80.130981%5D%2C%20%5B39.71119%2C%20-105.01447%5D%2C%20%5B33.13918%2C%20-117.18029%5D%2C%20%5B37.690368%2C%20-122.123883%5D%2C%20%5B41.857823%2C%20-71.444864%5D%2C%20%5B34.054889%2C%20-118.212024%5D%2C%20%5B34.03615%2C%20-118.32081%5D%2C%20%5B37.619972%2C%20-122.075974%5D%2C%20%5B33.949379%2C%20-82.372297%5D%2C%20%5B30.139606%2C%20-97.795822%5D%2C%20%5B32.909447%2C%20-96.84685%5D%2C%20%5B35.056269%2C%20-80.856726%5D%2C%20%5B37.111919%2C%20-121.015656%5D%2C%20%5B42.303394%2C%20-88.075989%5D%2C%20%5B33.884205%2C%20-117.642059%5D%2C%20%5B25.852249%2C%20-80.208138%5D%2C%20%5B29.773351%2C%20-95.45624%5D%2C%20%5B43.15749%2C%20-77.538986%5D%2C%20%5B29.991871000000003%2C%20-90.05880400000002%5D%2C%20%5B41.906612%2C%20-87.923645%5D%2C%20%5B33.786369%2C%20-117.879784%5D%2C%20%5B38.231289%2C%20-122.584328%5D%2C%20%5B30.482689%2C%20-84.309471%5D%2C%20%5B40.081367%2C%20-75.298889%5D%2C%20%5B33.903561%2C%20-118.185379%5D%2C%20%5B36.14355%2C%20-86.7021%5D%2C%20%5B39.978663%2C%20-76.681656%5D%2C%20%5B42.75789%2C%20-73.75756%5D%2C%20%5B33.875896000000004%2C%20-118.16858700000002%5D%2C%20%5B26.725409000000006%2C%20-81.906639%5D%2C%20%5B39.972177%2C%20-76.693764%5D%2C%20%5B34.29277800000001%2C%20-119.305833%5D%2C%20%5B39.085233%2C%20-84.52292%5D%2C%20%5B39.88473%2C%20-104.98744%5D%2C%20%5B45.294786%2C%20-93.553267%5D%2C%20%5B28.049090000000003%2C%20-82.709214%5D%2C%20%5B29.81278%2C%20-95.563606%5D%2C%20%5B33.46263%2C%20-112.19715%5D%2C%20%5B33.654736%2C%20-117.864418%5D%2C%20%5B37.55947000000001%2C%20-122.30193%5D%2C%20%5B44.173461%2C%20-122.15946%5D%2C%20%5B41.90236%2C%20-88.10025%5D%2C%20%5B40.719131%2C%20-73.78846%5D%2C%20%5B38.50563%2C%20-121.45596%5D%2C%20%5B34.034602%2C%20-118.43727%5D%2C%20%5B33.412327000000005%2C%20-86.758781%5D%2C%20%5B40.084648%2C%20-75.16902900000002%5D%2C%20%5B38.212617%2C%20-122.25658%5D%2C%20%5B44.969879%2C%20-93.308052%5D%2C%20%5B27.474606%2C%20-82.30680799999998%5D%2C%20%5B33.77758%2C%20-84.39076%5D%2C%20%5B40.002754%2C%20-83.123077%5D%2C%20%5B39.674918%2C%20-76.92976999999998%5D%2C%20%5B38.739455%2C%20-90.365853%5D%2C%20%5B30.348848%2C%20-97.555931%5D%2C%20%5B33.52018%2C%20-86.813339%5D%2C%20%5B34.054108%2C%20-118.237839%5D%2C%20%5B39.35939000000001%2C%20-78.04892%5D%2C%20%5B47.59055%2C%20-122.30434%5D%2C%20%5B42.56988%2C%20-121.88243%5D%2C%20%5B42.485809%2C%20-83.263184%5D%2C%20%5B33.165123%2C%20-87.550026%5D%2C%20%5B43.59001%2C%20-119.9817%5D%2C%20%5B46.98659%2C%20-93.606958%5D%2C%20%5B41.16167100000001%2C%20-96.126991%5D%2C%20%5B29.769140000000004%2C%20-95.33667%5D%2C%20%5B33.461021%2C%20-86.945847%5D%2C%20%5B35.4425%2C%20-119.08611100000002%5D%2C%20%5B38.79213%2C%20-90.452377%5D%2C%20%5B42.29996%2C%20-85.0775%5D%2C%20%5B34.155258%2C%20-118.2939%5D%2C%20%5B42.869709%2C%20-71.341415%5D%2C%20%5B43.177448%2C%20-83.748009%5D%2C%20%5B40.478432%2C%20-74.40469399999998%5D%2C%20%5B39.31563%2C%20-76.74483000000002%5D%2C%20%5B34.068614000000004%2C%20-117.375816%5D%2C%20%5B41.474072%2C%20-73.649231%5D%2C%20%5B27.894429%2C%20-82.76249399999998%5D%2C%20%5B42.40795900000001%2C%20-83.081314%5D%2C%20%5B40.099602%2C%20-75.30242199999998%5D%2C%20%5B40.73681%2C%20-111.90444%5D%2C%20%5B34.766487%2C%20-82.277321%5D%2C%20%5B34.291714%2C%20-82.23005699999999%5D%2C%20%5B30.502090000000006%2C%20-97.683327%5D%2C%20%5B33.37927%2C%20-111.72241%5D%2C%20%5B33.129448%2C%20-117.115045%5D%2C%20%5B45.210716%2C%20-93.584146%5D%2C%20%5B45.066181%2C%20-93.236771%5D%2C%20%5B42.358749%2C%20-83.07634%5D%2C%20%5B41.276015%2C%20-111.969282%5D%2C%20%5B25.864475%2C%20-80.208504%5D%2C%20%5B25.727695%2C%20-80.318437%5D%2C%20%5B27.89465%2C%20-82.787025%5D%2C%20%5B34.92693%2C%20-82.47695999999998%5D%2C%20%5B42.294426%2C%20-71.088074%5D%2C%20%5B38.25468400000001%2C%20-85.720039%5D%2C%20%5B38.315006%2C%20-85.581932%5D%2C%20%5B38.32696%2C%20-77.50178000000002%5D%2C%20%5B32.811176%2C%20-96.833412%5D%2C%20%5B25.657368%2C%20-80.41592%5D%2C%20%5B40.593248%2C%20-111.902629%5D%2C%20%5B40.771011%2C%20-73.566673%5D%2C%20%5B45.50689000000001%2C%20-122.71238999999998%5D%2C%20%5B39.06266%2C%20-76.64008000000003%5D%2C%20%5B32.696468%2C%20-96.767738%5D%2C%20%5B33.71191%2C%20-84.22014%5D%2C%20%5B39.615902%2C%20-84.24587199999998%5D%2C%20%5B38.687726%2C%20-121.343884%5D%2C%20%5B40.73431400000001%2C%20-73.922318%5D%2C%20%5B34.095536%2C%20-118.244025%5D%2C%20%5B34.838257%2C%20-81.970703%5D%2C%20%5B33.494961%2C%20-112.151711%5D%2C%20%5B38.868137%2C%20-77.31223299999998%5D%2C%20%5B34.425117%2C%20-118.423637%5D%2C%20%5B32.924481%2C%20-96.775679%5D%2C%20%5B42.429573%2C%20-122.598709%5D%2C%20%5B38.01738%2C%20-84.40789000000002%5D%2C%20%5B29.591944%2C%20-98.351402%5D%2C%20%5B33.766396%2C%20-84.52681700000002%5D%2C%20%5B41.89739%2C%20-87.65938%5D%2C%20%5B40.121899%2C%20-75.288635%5D%2C%20%5B35.605022%2C%20-97.567154%5D%2C%20%5B35.730034%2C%20-78.556152%5D%2C%20%5B33.975772%2C%20-117.476109%5D%2C%20%5B32.50014%2C%20-93.75186%5D%2C%20%5B35.406613%2C%20-119.048732%5D%2C%20%5B34.03705%2C%20-118.30892%5D%2C%20%5B39.159794%2C%20-94.64503%5D%2C%20%5B37.688055%2C%20-122.139145%5D%2C%20%5B44.889493%2C%20-93.386988%5D%2C%20%5B25.926041%2C%20-80.210355%5D%2C%20%5B35.310671%2C%20-118.914321%5D%2C%20%5B40.081951%2C%20-75.394203%5D%2C%20%5B33.605564%2C%20-112.299629%5D%2C%20%5B34.1611%2C%20-118.2254%5D%2C%20%5B26.546107%2C%20-81.886758%5D%2C%20%5B33.876536%2C%20-118.082241%5D%2C%20%5B38.243259%2C%20-85.621872%5D%2C%20%5B34.073654%2C%20-80.996629%5D%2C%20%5B42.380428%2C%20-83.236649%5D%2C%20%5B37.346958%2C%20-121.858887%5D%2C%20%5B39.816563%2C%20-75.067635%5D%2C%20%5B39.824181%2C%20-83.999901%5D%2C%20%5B37.3708%2C%20-121.91313999999998%5D%2C%20%5B30.36521%2C%20-90.09386%5D%2C%20%5B36.714149%2C%20-119.763702%5D%2C%20%5B38.78426%2C%20-76.66391%5D%2C%20%5B35.96319000000001%2C%20-83.93939%5D%2C%20%5B41.22374%2C%20-96.02836%5D%2C%20%5B36.14238%2C%20-86.771622%5D%2C%20%5B26.70676%2C%20-80.11117%5D%2C%20%5B38.188774%2C%20-85.783417%5D%2C%20%5B30.010061%2C%20-90.238922%5D%2C%20%5B34.061768%2C%20-118.287019%5D%2C%20%5B28.464744%2C%20-81.309958%5D%2C%20%5B43.060364%2C%20-83.793648%5D%2C%20%5B33.159%2C%20-117.340248%5D%2C%20%5B40.747089%2C%20-73.835098%5D%2C%20%5B40.428989%2C%20-79.931618%5D%2C%20%5B32.864021%2C%20-96.66114%5D%2C%20%5B40.803413%2C%20-73.915939%5D%2C%20%5B28.449932%2C%20-81.470863%5D%2C%20%5B33.77333400000001%2C%20-118.039027%5D%2C%20%5B41.890661%2C%20-91.67108%5D%2C%20%5B33.748062%2C%20-84.38768%5D%2C%20%5B40.715733%2C%20-73.826256%5D%2C%20%5B30.196472%2C%20-81.739235%5D%2C%20%5B33.853611%2C%20-84.359573%5D%2C%20%5B36.153553%2C%20-86.788483%5D%2C%20%5B39.38961%2C%20-76.53375%5D%2C%20%5B33.884196%2C%20-117.629596%5D%2C%20%5B40.684912%2C%20-73.642677%5D%2C%20%5B39.66075%2C%20-104.83926%5D%2C%20%5B35.117249%2C%20-80.95755799999998%5D%2C%20%5B37.935097%2C%20-122.444517%5D%2C%20%5B44.690456%2C%20-122.024994%5D%2C%20%5B44.64276%2C%20-123.06276%5D%2C%20%5B42.438719%2C%20-83.43177%5D%2C%20%5B39.68085%2C%20-75.49595%5D%2C%20%5B48.017106%2C%20-122.830969%5D%2C%20%5B34.762214%2C%20-118.797484%5D%2C%20%5B40.429253%2C%20-76.568954%5D%2C%20%5B38.815017%2C%20-104.82455%5D%2C%20%5B26.62223%2C%20-80.06739%5D%2C%20%5B42.52024%2C%20-83.7548%5D%2C%20%5B33.698051%2C%20-117.330826%5D%2C%20%5B33.541916%2C%20-81.816414%5D%2C%20%5B29.746025%2C%20-95.485489%5D%2C%20%5B34.055503%2C%20-118.255044%5D%2C%20%5B42.53722%2C%20-122.81227%5D%2C%20%5B35.60019699999999%2C%20-97.429192%5D%2C%20%5B29.243347%2C%20-81.463013%5D%2C%20%5B37.427165%2C%20-113.235416%5D%2C%20%5B41.86597%2C%20-87.64442%5D%2C%20%5B33.790298%2C%20-118.28196%5D%2C%20%5B41.76477%2C%20-87.67596999999998%5D%2C%20%5B28.186235%2C%20-82.38707%5D%2C%20%5B35.49329%2C%20-97.578773%5D%2C%20%5B44.726421%2C%20-122.13553600000002%5D%2C%20%5B42.815528%2C%20-83.569621%5D%2C%20%5B45.23771%2C%20-123.06348%5D%2C%20%5B37.695438%2C%20-122.105179%5D%2C%20%5B37.680571%2C%20-79.49439100000002%5D%2C%20%5B25.8798%2C%20-80.35606%5D%2C%20%5B36.126387%2C%20-86.710594%5D%2C%20%5B37.742008%2C%20-121.570717%5D%2C%20%5B32.786541%2C%20-96.805244%5D%2C%20%5B33.821445000000004%2C%20-118.206841%5D%2C%20%5B30.392645%2C%20-81.667946%5D%2C%20%5B40.651257%2C%20-122.939332%5D%2C%20%5B39.523003%2C%20-104.867393%5D%2C%20%5B30.277988%2C%20-97.677193%5D%2C%20%5B31.75252%2C%20-106.487358%5D%2C%20%5B32.801792%2C%20-96.827225%5D%2C%20%5B44.861755%2C%20-93.298523%5D%2C%20%5B42.364917%2C%20-87.865445%5D%2C%20%5B26.65509%2C%20-80.06935899999998%5D%2C%20%5B41.139881%2C%20-112.064453%5D%2C%20%5B42.357547%2C%20-122.865254%5D%2C%20%5B33.997653%2C%20-117.367962%5D%2C%20%5B34.06459%2C%20-117.809982%5D%2C%20%5B34.168785%2C%20-118.46817%5D%2C%20%5B38.375728%2C%20-121.476711%5D%2C%20%5B34.030312%2C%20-117.645324%5D%2C%20%5B33.319511%2C%20-117.249207%5D%2C%20%5B34.15298%2C%20-118.36866%5D%2C%20%5B29.125924%2C%20-82.159594%5D%2C%20%5B38.1811%2C%20-85.72093000000002%5D%2C%20%5B34.48684%2C%20-118.61692%5D%2C%20%5B42.431622%2C%20-71.10279799999998%5D%2C%20%5B35.18074%2C%20-80.889297%5D%2C%20%5B38.055149%2C%20-121.25946100000002%5D%2C%20%5B35.282639%2C%20-80.723961%5D%2C%20%5B29.143918%2C%20-81.119196%5D%2C%20%5B38.902386%2C%20-76.943985%5D%2C%20%5B37.32598%2C%20-122.05087%5D%2C%20%5B35.836769%2C%20-78.601837%5D%2C%20%5B38.459519%2C%20-121.841307%5D%2C%20%5B34.035381%2C%20-118.328119%5D%2C%20%5B28.507427000000003%2C%20-82.19498399999998%5D%2C%20%5B48.210346%2C%20-122.215981%5D%2C%20%5B39.81201%2C%20-75.45425%5D%2C%20%5B45.282978%2C%20-123.006547%5D%2C%20%5B40.754841%2C%20-74.117928%5D%2C%20%5B42.31732%2C%20-83.44283%5D%2C%20%5B33.728188%2C%20-117.834127%5D%2C%20%5B35.60041%2C%20-97.62072%5D%2C%20%5B43.677559%2C%20-94.108101%5D%2C%20%5B36.136986%2C%20-86.821381%5D%2C%20%5B42.140848%2C%20-84.24821999999998%5D%2C%20%5B33.966572%2C%20-118.247681%5D%2C%20%5B40.886761%2C%20-73.815079%5D%2C%20%5B39.708778%2C%20-84.201088%5D%2C%20%5B29.724787%2C%20-95.350517%5D%2C%20%5B34.165882%2C%20-118.469574%5D%2C%20%5B36.57198%2C%20-121.891197%5D%2C%20%5B29.681622%2C%20-95.508705%5D%2C%20%5B29.950796%2C%20-96.039032%5D%2C%20%5B34.073815%2C%20-118.21926299999998%5D%2C%20%5B28.595701%2C%20-81.382713%5D%2C%20%5B33.42452%2C%20-84.17775999999998%5D%2C%20%5B34.147693%2C%20-118.077577%5D%2C%20%5B28.400698%2C%20-81.391257%5D%2C%20%5B40.40627%2C%20-82.86565999999998%5D%2C%20%5B29.93847%2C%20-95.38097%5D%2C%20%5B30.402435%2C%20-88.719551%5D%2C%20%5B34.871151%2C%20-117.071068%5D%2C%20%5B40.037666%2C%20-85.72200000000002%5D%2C%20%5B41.025585%2C%20-73.731339%5D%2C%20%5B41.10463%2C%20-81.49996999999998%5D%2C%20%5B30.31826%2C%20-97.731194%5D%2C%20%5B32.697628%2C%20-117.09494%5D%2C%20%5B38.140622%2C%20-121.259322%5D%2C%20%5B38.67844%2C%20-121.225594%5D%2C%20%5B40.805962%2C%20-73.90896%5D%2C%20%5B38.73211%2C%20-77.40391%5D%2C%20%5B34.052165%2C%20-117.719887%5D%2C%20%5B33.881147%2C%20-117.597903%5D%2C%20%5B42.461308%2C%20-83.106026%5D%2C%20%5B35.834667%2C%20-78.638649%5D%2C%20%5B41.236214%2C%20-75.848846%5D%2C%20%5B33.386672999999995%2C%20-111.894348%5D%2C%20%5B35.264885%2C%20-120.673767%5D%2C%20%5B27.232841%2C%20-82.497035%5D%2C%20%5B34.031620000000004%2C%20-118.41359%5D%2C%20%5B40.17001%2C%20-120.36964%5D%2C%20%5B34.863602%2C%20-82.96566800000002%5D%2C%20%5B26.033428%2C%20-80.16449%5D%2C%20%5B29.828648%2C%20-95.381058%5D%2C%20%5B34.40627%2C%20-117.396479%5D%2C%20%5B35.036827%2C%20-85.26108599999998%5D%2C%20%5B43.044296%2C%20-76.147522%5D%2C%20%5B34.193946999999994%2C%20-118.409431%5D%2C%20%5B37.690868%2C%20-122.470581%5D%2C%20%5B34.067633%2C%20-117.981703%5D%2C%20%5B33.337447999999995%2C%20-84.78399999999998%5D%2C%20%5B29.997187%2C%20-95.700189%5D%2C%20%5B41.759346%2C%20-88.031311%5D%2C%20%5B41.87065%2C%20-87.76884%5D%2C%20%5B31.85181%2C%20-106.44014%5D%2C%20%5B32.505036%2C%20-93.746477%5D%2C%20%5B41.70288%2C%20-93.57436%5D%2C%20%5B29.863483%2C%20-95.446426%5D%2C%20%5B45.098749%2C%20-93.188137%5D%2C%20%5B27.945595%2C%20-82.537514%5D%2C%20%5B34.136405%2C%20-117.552666%5D%2C%20%5B43.038059%2C%20-71.309578%5D%2C%20%5B32.271465%2C%20-96.512764%5D%2C%20%5B27.162071%2C%20-80.55477900000002%5D%2C%20%5B32.443337%2C%20-93.714596%5D%2C%20%5B38.552429%2C%20-76.009232%5D%2C%20%5B35.163129999999995%2C%20-80.89571%5D%2C%20%5B42.633236%2C%20-73.701202%5D%2C%20%5B33.846001%2C%20-118.092361%5D%2C%20%5B34.872710999999995%2C%20-82.329262%5D%2C%20%5B41.69985%2C%20-88.03007%5D%2C%20%5B30.398390000000006%2C%20-97.746498%5D%2C%20%5B37.824251%2C%20-122.315308%5D%2C%20%5B42.171922%2C%20-121.621619%5D%2C%20%5B25.913371%2C%20-80.333001%5D%2C%20%5B45.53346%2C%20-122.57893%5D%2C%20%5B34.858925%2C%20-82.259857%5D%2C%20%5B44.75371%2C%20-123.22404%5D%2C%20%5B34.02407%2C%20-117.33546%5D%2C%20%5B35.075024%2C%20-89.861343%5D%2C%20%5B36.108669%2C%20-86.812172%5D%2C%20%5B33.990288%2C%20-117.359077%5D%2C%20%5B29.699690000000004%2C%20-95.28239%5D%2C%20%5B33.911724%2C%20-117.447418%5D%2C%20%5B29.781401%2C%20-95.251442%5D%2C%20%5B43.665074%2C%20-123.368433%5D%2C%20%5B35.20607000000001%2C%20-80.922173%5D%2C%20%5B33.472584000000005%2C%20-81.99015%5D%2C%20%5B37.286992%2C%20-121.869108%5D%2C%20%5B34.1006%2C%20-118.478%5D%2C%20%5B36.14465%2C%20-86.744049%5D%2C%20%5B42.86692%2C%20-87.9373%5D%2C%20%5B38.56057%2C%20-121.45827%5D%2C%20%5B47.20382%2C%20-122.46162%5D%2C%20%5B42.902741%2C%20-89.350187%5D%2C%20%5B41.77196%2C%20-72.59792%5D%2C%20%5B44.071429%2C%20-121.302369%5D%2C%20%5B30.424614%2C%20-91.156006%5D%2C%20%5B40.110966%2C%20-75.0765%5D%2C%20%5B38.50514%2C%20-90.5828%5D%2C%20%5B25.869146%2C%20-80.208439%5D%2C%20%5B26.62096%2C%20-81.75695%5D%2C%20%5B37.569649%2C%20-77.416931%5D%2C%20%5B41.380702%2C%20-71.899799%5D%2C%20%5B33.581593%2C%20-84.417084%5D%2C%20%5B43.205551%2C%20-77.513184%5D%2C%20%5B42.41229000000001%2C%20-83.0708%5D%2C%20%5B39.29259%2C%20-76.53220999999998%5D%2C%20%5B34.185601%2C%20-118.473805%5D%2C%20%5B37.988021%2C%20-120.283327%5D%2C%20%5B42.66959%2C%20-83.033836%5D%2C%20%5B32.970318%2C%20-93.994698%5D%2C%20%5B35.072548%2C%20-90.026573%5D%2C%20%5B30.472429%2C%20-91.058052%5D%2C%20%5B33.68574%2C%20-117.86347%5D%2C%20%5B38.671906%2C%20-90.615593%5D%2C%20%5B42.667377%2C%20-73.73484%5D%2C%20%5B38.388763%2C%20-122.889244%5D%2C%20%5B42.940932%2C%20-83.723512%5D%2C%20%5B35.164951%2C%20-80.75428000000002%5D%2C%20%5B26.404625%2C%20-80.08980799999998%5D%2C%20%5B33.21913%2C%20-111.92028%5D%2C%20%5B29.76857%2C%20-95.35534%5D%2C%20%5B34.06617%2C%20-117.489075%5D%2C%20%5B33.418781%2C%20-82.078781%5D%2C%20%5B32.237239%2C%20-110.93528%5D%2C%20%5B40.626891%2C%20-111.85478%5D%2C%20%5B32.923897%2C%20-96.764816%5D%2C%20%5B40.001801%2C%20-86.420384%5D%2C%20%5B41.76982%2C%20-72.68236999999998%5D%2C%20%5B30.303352%2C%20-97.714386%5D%2C%20%5B28.01061%2C%20-82.43472%5D%2C%20%5B42.78703%2C%20-74.01394%5D%2C%20%5B36.046379%2C%20-95.886192%5D%2C%20%5B33.731506%2C%20-117.812189%5D%2C%20%5B32.309052%2C%20-80.975662%5D%2C%20%5B40.68129%2C%20-74.00282%5D%2C%20%5B38.676231%2C%20-77.23661%5D%2C%20%5B40.081326%2C%20-75.118652%5D%2C%20%5B34.120953%2C%20-117.890091%5D%2C%20%5B25.898947%2C%20-80.346977%5D%2C%20%5B37.079882%2C%20-80.68269699999998%5D%2C%20%5B34.028981%2C%20-118.01313%5D%2C%20%5B38.481607%2C%20-121.408674%5D%2C%20%5B34.110347999999995%2C%20-118.334511%5D%2C%20%5B33.952785%2C%20-118.170522%5D%2C%20%5B38.348541%2C%20-119.361922%5D%2C%20%5B40.135363%2C%20-74.988566%5D%2C%20%5B34.146685999999995%2C%20-118.226396%5D%2C%20%5B30.357372%2C%20-97.686319%5D%2C%20%5B35.17616%2C%20-80.75657%5D%2C%20%5B33.882335999999995%2C%20-117.58803600000002%5D%2C%20%5B32.37915%2C%20-111.109489%5D%2C%20%5B33.866571%2C%20-83.868758%5D%2C%20%5B33.852024%2C%20-84.369621%5D%2C%20%5B37.495384%2C%20-121.923294%5D%2C%20%5B39.956187%2C%20-76.735298%5D%2C%20%5B33.68662%2C%20-117.766%5D%2C%20%5B33.526218%2C%20-80.42939799999998%5D%2C%20%5B39.79839000000001%2C%20-104.86597%5D%2C%20%5B39.25101%2C%20-76.81353%5D%2C%20%5B36.571472%2C%20-121.808361%5D%2C%20%5B34.11969000000001%2C%20-117.807033%5D%2C%20%5B38.763316%2C%20-121.257981%5D%2C%20%5B36.759809%2C%20-119.74906599999998%5D%2C%20%5B35.214788%2C%20-80.88773499999998%5D%2C%20%5B33.85342%2C%20-78.67514%5D%2C%20%5B43.012154%2C%20-83.654434%5D%2C%20%5B35.43124%2C%20-119.064331%5D%2C%20%5B30.436787%2C%20-97.775612%5D%2C%20%5B33.765762%2C%20-84.493156%5D%2C%20%5B36.670425%2C%20-121.638484%5D%2C%20%5B43.170575%2C%20-77.59779%5D%2C%20%5B39.982746%2C%20-82.81427%5D%2C%20%5B42.944817%2C%20-83.681488%5D%2C%20%5B39.06225%2C%20-95.74047%5D%2C%20%5B39.788662%2C%20-86.16660999999998%5D%2C%20%5B25.9423%2C%20-80.18844%5D%2C%20%5B41.611665%2C%20-93.578599%5D%2C%20%5B34.982838%2C%20-80.41407%5D%2C%20%5B35.767884%2C%20-78.575525%5D%2C%20%5B29.828426%2C%20-95.369568%5D%2C%20%5B42.904528000000006%2C%20-78.901229%5D%2C%20%5B34.892672999999995%2C%20-82.160774%5D%2C%20%5B37.187822%2C%20-93.631546%5D%2C%20%5B29.7843%2C%20-95.56055%5D%2C%20%5B28.00324%2C%20-82.31975%5D%2C%20%5B34.011082%2C%20-118.280762%5D%2C%20%5B30.477856%2C%20-97.765419%5D%2C%20%5B35.153936%2C%20-120.662038%5D%2C%20%5B38.015572%2C%20-121.88298%5D%2C%20%5B32.76973%2C%20-86.880302%5D%2C%20%5B39.73447%2C%20-121.81669%5D%2C%20%5B40.82281%2C%20-73.88490999999998%5D%2C%20%5B25.814866%2C%20-80.24858499999998%5D%2C%20%5B39.534019%2C%20-119.755104%5D%2C%20%5B42.223042%2C%20-85.78531600000002%5D%2C%20%5B35.070423%2C%20-80.84291800000003%5D%2C%20%5B32.82078%2C%20-96.63377%5D%2C%20%5B32.362358%2C%20-86.136238%5D%2C%20%5B43.141804%2C%20-77.59479499999998%5D%2C%20%5B32.139381%2C%20-110.840698%5D%2C%20%5B33.233799%2C%20-111.738319%5D%2C%20%5B26.67736%2C%20-80.101925%5D%2C%20%5B39.356449%2C%20-123.509341%5D%2C%20%5B35.846692%2C%20-78.52335500000002%5D%2C%20%5B33.760464%2C%20-84.493477%5D%2C%20%5B35.741291%2C%20-78.62416800000003%5D%2C%20%5B42.680904%2C%20-73.773186%5D%2C%20%5B34.146657%2C%20-118.226384%5D%2C%20%5B29.80603%2C%20-95.29899%5D%2C%20%5B38.94034%2C%20-94.75092%5D%2C%20%5B33.823139000000005%2C%20-80.387676%5D%2C%20%5B25.959528%2C%20-80.22936999999997%5D%2C%20%5B37.997314%2C%20-122.073334%5D%2C%20%5B32.94062%2C%20-80.050674%5D%2C%20%5B30.197689%2C%20-92.016479%5D%2C%20%5B35.460178000000006%2C%20-97.597382%5D%2C%20%5B32.937816999999995%2C%20-96.822083%5D%2C%20%5B39.025378%2C%20-90.252329%5D%2C%20%5B45.31216%2C%20-122.92685%5D%2C%20%5B35.497412%2C%20-97.578981%5D%2C%20%5B40.82309%2C%20-73.88274%5D%2C%20%5B38.520653%2C%20-77.371178%5D%2C%20%5B40.01199%2C%20-82.99159%5D%2C%20%5B26.2068%2C%20-80.19827%5D%2C%20%5B35.363289%2C%20-97.529991%5D%2C%20%5B39.81964%2C%20-84.19828000000003%5D%2C%20%5B34.639019%2C%20-82.68968199999998%5D%2C%20%5B33.261604%2C%20-111.881027%5D%2C%20%5B39.32325%2C%20-120.603699%5D%2C%20%5B34.484573%2C%20-84.46978399999998%5D%2C%20%5B35.368279%2C%20-97.547729%5D%2C%20%5B42.487923%2C%20-83.045898%5D%2C%20%5B40.643173%2C%20-75.43190799999998%5D%2C%20%5B35.779621%2C%20-78.640106%5D%2C%20%5B44.13864%2C%20-93.95779%5D%2C%20%5B37.54413%2C%20-77.37008%5D%2C%20%5B35.912343%2C%20-78.781896%5D%2C%20%5B33.7477%2C%20-84.38703000000002%5D%2C%20%5B41.93962%2C%20-87.70819%5D%2C%20%5B33.948627%2C%20-117.386215%5D%2C%20%5B33.99773%2C%20-117.93485%5D%2C%20%5B40.14616%2C%20-76.815445%5D%2C%20%5B39.133665%2C%20-84.493707%5D%2C%20%5B37.135833%2C%20-121.636389%5D%2C%20%5B33.840411%2C%20-117.135361%5D%2C%20%5B42.44572%2C%20-96.371339%5D%2C%20%5B29.709856%2C%20-95.266968%5D%2C%20%5B38.86673%2C%20-77.220365%5D%2C%20%5B40.021252%2C%20-75.317856%5D%2C%20%5B34.991402%2C%20-82.022827%5D%2C%20%5B34.790852%2C%20-82.817909%5D%2C%20%5B28.237706%2C%20-80.72049%5D%2C%20%5B33.384597%2C%20-117.24809%5D%2C%20%5B34.00015%2C%20-117.35263%5D%2C%20%5B36.807587%2C%20-76.195702%5D%2C%20%5B38.01079%2C%20-122.0172%5D%2C%20%5B39.87429%2C%20-75.10209%5D%2C%20%5B37.739123%2C%20-122.142424%5D%2C%20%5B40.625305%2C%20-73.939751%5D%2C%20%5B40.99176%2C%20-80.63124%5D%2C%20%5B34.011383%2C%20-81.148788%5D%2C%20%5B33.881458%2C%20-117.649341%5D%2C%20%5B29.836611%2C%20-95.262207%5D%2C%20%5B35.146947999999995%2C%20-80.92612199999998%5D%2C%20%5B30.43391%2C%20-85.53402700000002%5D%2C%20%5B44.894073%2C%20-93.275139%5D%2C%20%5B40.754723%2C%20-74.117989%5D%2C%20%5B35.24541%2C%20-80.89327%5D%2C%20%5B43.178837%2C%20-83.66001899999998%5D%2C%20%5B29.858009000000006%2C%20-95.361375%5D%2C%20%5B34.962519%2C%20-90.00041800000002%5D%2C%20%5B30.383324%2C%20-97.707466%5D%2C%20%5B29.298277%2C%20-95.733566%5D%2C%20%5B43.147572%2C%20-77.554138%5D%2C%20%5B46.15209%2C%20-123.856885%5D%2C%20%5B39.385239%2C%20-77.259415%5D%2C%20%5B44.95174%2C%20-93.16706%5D%2C%20%5B41.768311%2C%20-72.55957%5D%2C%20%5B34.014153%2C%20-117.922187%5D%2C%20%5B40.679344%2C%20-74.003136%5D%2C%20%5B29.725445%2C%20-95.422112%5D%2C%20%5B35.30721%2C%20-80.82163%5D%2C%20%5B27.820305%2C%20-82.693848%5D%2C%20%5B30.278959000000004%2C%20-97.73217%5D%2C%20%5B26.68052%2C%20-80.2079%5D%2C%20%5B32.470961%2C%20-93.801087%5D%2C%20%5B30.424335%2C%20-91.150719%5D%2C%20%5B37.701387%2C%20-121.769828%5D%2C%20%5B34.156681%2C%20-118.244408%5D%2C%20%5B41.5698%2C%20-87.40981%5D%2C%20%5B39.039936%2C%20-94.670311%5D%2C%20%5B37.64217%2C%20-122.09212%5D%2C%20%5B47.796776%2C%20-122.218315%5D%2C%20%5B39.88191%2C%20-104.98746%5D%2C%20%5B43.19384%2C%20-77.638874%5D%2C%20%5B34.14732%2C%20-118.227646%5D%2C%20%5B33.584712%2C%20-83.967038%5D%2C%20%5B34.891502%2C%20-82.468193%5D%2C%20%5B34.992299%2C%20-118.947021%5D%2C%20%5B26.011093%2C%20-80.166809%5D%2C%20%5B33.919797%2C%20-118.224113%5D%2C%20%5B44.73835%2C%20-92.890083%5D%2C%20%5B39.021972%2C%20-76.95043000000003%5D%2C%20%5B35.454556%2C%20-97.513496%5D%2C%20%5B35.83540700000001%2C%20-78.669601%5D%2C%20%5B35.428406%2C%20-80.934044%5D%2C%20%5B34.002173%2C%20-117.351482%5D%2C%20%5B39.749253%2C%20-86.143101%5D%2C%20%5B39.865265%2C%20-84.05454300000002%5D%2C%20%5B34.833031%2C%20-82.296837%5D%2C%20%5B28.56553%2C%20-81.19524%5D%2C%20%5B33.687276000000004%2C%20-84.40134%5D%2C%20%5B37.72999%2C%20-122.40373999999998%5D%2C%20%5B47.48008%2C%20-122.20071000000002%5D%2C%20%5B33.462429%2C%20-112.062187%5D%2C%20%5B38.528873%2C%20-121.469612%5D%2C%20%5B34.155739000000004%2C%20-118.431219%5D%2C%20%5B33.82817%2C%20-84.48709000000002%5D%2C%20%5B40.780087%2C%20-111.91065%5D%2C%20%5B32.507221%2C%20-93.767548%5D%2C%20%5B33.912704%2C%20-118.180283%5D%2C%20%5B44.173461%2C%20-122.15946%5D%2C%20%5B26.062872%2C%20-80.163872%5D%2C%20%5B33.48604%2C%20-117.66623%5D%2C%20%5B40.4785%2C%20-80.19489300000002%5D%2C%20%5B28.410352000000003%2C%20-81.39144%5D%2C%20%5B39.78143%2C%20-104.99143%5D%2C%20%5B37.941063%2C%20-121.232193%5D%2C%20%5B40.755644%2C%20-74.199922%5D%2C%20%5B38.49797%2C%20-121.44812%5D%2C%20%5B38.87554%2C%20-77.280396%5D%2C%20%5B35.017105%2C%20-85.179085%5D%2C%20%5B40.154697%2C%20-75.13932%5D%2C%20%5B33.722176%2C%20-84.407852%5D%2C%20%5B35.20362%2C%20-80.74851%5D%2C%20%5B37.204002%2C%20-76.573463%5D%2C%20%5B42.06671%2C%20-88.13387%5D%2C%20%5B44.965481%2C%20-93.287987%5D%2C%20%5B41.361877%2C%20-81.650345%5D%2C%20%5B27.157918%2C%20-80.30234899999998%5D%2C%20%5B33.687889%2C%20-117.914543%5D%2C%20%5B39.454807%2C%20-76.646416%5D%2C%20%5B39.17985%2C%20-94.5852%5D%2C%20%5B34.382121999999995%2C%20-81.948952%5D%2C%20%5B44.759415%2C%20-93.248062%5D%2C%20%5B41.46112%2C%20-81.69416%5D%2C%20%5B42.42212%2C%20-123.02712%5D%2C%20%5B40.921581%2C%20-73.809692%5D%2C%20%5B36.648516%2C%20-82.087056%5D%2C%20%5B27.99919%2C%20-82.45384%5D%2C%20%5B35.006654%2C%20-118.951564%5D%2C%20%5B33.38265%2C%20-117.251351%5D%2C%20%5B36.526998%2C%20-119.572701%5D%2C%20%5B37.960651%2C%20-122.330353%5D%2C%20%5B28.33091%2C%20-82.69915%5D%2C%20%5B32.898647%2C%20-96.769081%5D%2C%20%5B33.465969%2C%20-112.134483%5D%2C%20%5B29.8133%2C%20-95.46222%5D%2C%20%5B33.6171%2C%20-84.438622%5D%2C%20%5B44.565944%2C%20-120.143369%5D%2C%20%5B36.864349%2C%20-76.270119%5D%2C%20%5B36.06444000000001%2C%20-80.30048000000002%5D%2C%20%5B35.01559%2C%20-85.25362%5D%2C%20%5B42.97207%2C%20-85.67236%5D%2C%20%5B34.067703%2C%20-117.593521%5D%2C%20%5B43.184067%2C%20-124.244781%5D%2C%20%5B29.68833%2C%20-95.2806%5D%2C%20%5B38.885719%2C%20-76.91855600000002%5D%2C%20%5B38.805288%2C%20-77.213126%5D%2C%20%5B44.147541%2C%20-122.574332%5D%2C%20%5B43.80142%2C%20-91.30142%5D%2C%20%5B42.49144%2C%20-83.03487%5D%2C%20%5B33.96112%2C%20-117.8543%5D%2C%20%5B35.102211%2C%20-79.47567%5D%2C%20%5B30.503596%2C%20-87.217735%5D%2C%20%5B30.241757%2C%20-97.728337%5D%2C%20%5B37.881911%2C%20-122.308246%5D%2C%20%5B42.241829%2C%20-71.854256%5D%2C%20%5B34.152692%2C%20-118.094458%5D%2C%20%5B41.81133300000001%2C%20-71.353989%5D%2C%20%5B36.753876%2C%20-119.827545%5D%2C%20%5B38.44071%2C%20-90.90719%5D%2C%20%5B45.78072%2C%20-122.547592%5D%2C%20%5B38.743789%2C%20-121.210706%5D%2C%20%5B43.285702%2C%20-77.83326%5D%2C%20%5B33.665932%2C%20-117.303246%5D%2C%20%5B34.579529%2C%20-82.691742%5D%2C%20%5B37.425549%2C%20-121.917213%5D%2C%20%5B28.495335%2C%20-81.396918%5D%2C%20%5B27.85162%2C%20-82.34671800000002%5D%2C%20%5B42.356781%2C%20-71.183655%5D%2C%20%5B34.151340000000005%2C%20-80.91169000000002%5D%2C%20%5B30.216276%2C%20-97.751244%5D%2C%20%5B34.410709999999995%2C%20-118.67041%5D%2C%20%5B38.08299%2C%20-122.23342%5D%2C%20%5B35.75898%2C%20-120.950447%5D%2C%20%5B42.64357%2C%20-124.407332%5D%2C%20%5B36.15256%2C%20-86.78708%5D%2C%20%5B39.237026%2C%20-121.035065%5D%2C%20%5B42.34061%2C%20-79.58071%5D%2C%20%5B37.745937%2C%20-122.200958%5D%2C%20%5B32.705755%2C%20-96.840513%5D%2C%20%5B37.740064%2C%20-122.143814%5D%2C%20%5B25.577588%2C%20-80.380441%5D%2C%20%5B33.859375%2C%20-118.299205%5D%2C%20%5B35.97004000000001%2C%20-79.05941999999997%5D%2C%20%5B38.693016%2C%20-121.591072%5D%2C%20%5B35.12332%2C%20-80.91878%5D%2C%20%5B29.941116%2C%20-95.407417%5D%2C%20%5B34.336939%2C%20-117.259165%5D%2C%20%5B29.951202%2C%20-90.085449%5D%2C%20%5B40.62314600000001%2C%20-111.152634%5D%2C%20%5B33.622528%2C%20-111.925728%5D%2C%20%5B40.095719%2C%20-75.359087%5D%2C%20%5B27.919839%2C%20-82.49361999999998%5D%2C%20%5B41.78149000000001%2C%20-88.23172%5D%2C%20%5B35.272095%2C%20-80.93463100000002%5D%2C%20%5B33.6026%2C%20-112.29004%5D%2C%20%5B34.92485%2C%20-82.079971%5D%2C%20%5B30.404322%2C%20-97.725243%5D%2C%20%5B33.938869%2C%20-117.876839%5D%2C%20%5B27.13838%2C%20-82.45804%5D%2C%20%5B37.361534000000006%2C%20-121.878357%5D%2C%20%5B41.52173%2C%20-73.88943%5D%2C%20%5B45.093651%2C%20-93.44648%5D%2C%20%5B30.419590000000003%2C%20-91.187492%5D%2C%20%5B45.63874000000001%2C%20-118.68494%5D%2C%20%5B38.03397800000001%2C%20-78.859886%5D%2C%20%5B35.029783%2C%20-114.597979%5D%2C%20%5B40.035069%2C%20-76.253624%5D%2C%20%5B39.04419%2C%20-84.57848%5D%2C%20%5B47.01666%2C%20-122.29633%5D%2C%20%5B41.234238%2C%20-96.086388%5D%2C%20%5B34.035358%2C%20-118.369453%5D%2C%20%5B39.74916500000001%2C%20-77.223%5D%2C%20%5B33.87656%2C%20-118.07772%5D%2C%20%5B34.19957%2C%20-118.338249%5D%2C%20%5B41.212341%2C%20-95.950447%5D%2C%20%5B28.013115000000006%2C%20-82.454819%5D%2C%20%5B30.416897%2C%20-91.155479%5D%2C%20%5B38.816188%2C%20-76.915766%5D%2C%20%5B33.996262%2C%20-117.36411%5D%2C%20%5B33.874828%2C%20-118.125202%5D%2C%20%5B34.27498%2C%20-118.53624%5D%2C%20%5B41.47011%2C%20-81.74554%5D%2C%20%5B41.969231%2C%20-87.93965899999998%5D%2C%20%5B34.15382%2C%20-118.32589%5D%2C%20%5B41.67214%2C%20-72.82058%5D%2C%20%5B35.772686%2C%20-79.828377%5D%2C%20%5B34.02537%2C%20-118.42875%5D%2C%20%5B32.92514%2C%20-80.742104%5D%2C%20%5B33.465934999999995%2C%20-111.888611%5D%2C%20%5B26.95183%2C%20-82.06177%5D%2C%20%5B29.44487%2C%20-98.659142%5D%2C%20%5B35.748806%2C%20-78.64895600000001%5D%2C%20%5B33.919399%2C%20-117.434021%5D%2C%20%5B36.31241%2C%20-86.66928%5D%2C%20%5B33.42832%2C%20-112.070372%5D%2C%20%5B37.603424%2C%20-122.064148%5D%2C%20%5B39.515022%2C%20-76.407578%5D%2C%20%5B28.498684%2C%20-81.459091%5D%2C%20%5B37.332445%2C%20-121.844787%5D%2C%20%5B37.328884%2C%20-121.870255%5D%2C%20%5B40.851169%2C%20-78.152457%5D%2C%20%5B38.727396%2C%20-76.067351%5D%2C%20%5B37.51394000000001%2C%20-121.939165%5D%2C%20%5B33.80434%2C%20-118.20737%5D%2C%20%5B33.291989%2C%20-111.906683%5D%2C%20%5B33.993561%2C%20-118.069321%5D%2C%20%5B45.09967%2C%20-91.503845%5D%2C%20%5B43.97209%2C%20-93.25515%5D%2C%20%5B35.975506%2C%20-83.918671%5D%2C%20%5B40.27241%2C%20-74.16676%5D%2C%20%5B35.15163%2C%20-80.62956%5D%2C%20%5B32.763870000000004%2C%20-117.160454%5D%2C%20%5B34.13513%2C%20-117.60728%5D%2C%20%5B38.915923%2C%20-94.767669%5D%2C%20%5B29.745924%2C%20-95.55768%5D%2C%20%5B34.64255900000001%2C%20-82.45047%5D%2C%20%5B34.492878000000005%2C%20-79.379311%5D%2C%20%5B32.879406%2C%20-111.933907%5D%2C%20%5B34.499092%2C%20-118.626353%5D%2C%20%5B32.367718%2C%20-86.138901%5D%2C%20%5B39.74506%2C%20-84.09416%5D%2C%20%5B37.496712%2C%20-121.925484%5D%2C%20%5B35.745193%2C%20-78.872375%5D%2C%20%5B35.491768%2C%20-97.531311%5D%2C%20%5B30.188738%2C%20-97.771645%5D%2C%20%5B37.842594%2C%20-122.2976%5D%2C%20%5B29.822313%2C%20-95.37574%5D%2C%20%5B42.331463%2C%20-83.08731800000002%5D%2C%20%5B40.78142%2C%20-73.53566%5D%2C%20%5B37.734608%2C%20-122.406319%5D%2C%20%5B35.37133%2C%20-119.04328999999998%5D%2C%20%5B37.552776%2C%20-77.443588%5D%2C%20%5B34.22833%2C%20-117.25126000000002%5D%2C%20%5B25.769541%2C%20-80.335844%5D%2C%20%5B41.831429%2C%20-87.980438%5D%2C%20%5B39.252477%2C%20-86.65408000000002%5D%2C%20%5B30.20367%2C%20-81.75426%5D%2C%20%5B27.196505%2C%20-82.438538%5D%2C%20%5B34.017975%2C%20-117.472217%5D%2C%20%5B39.827271%2C%20-105.041397%5D%2C%20%5B41.52307%2C%20-73.89501%5D%2C%20%5B34.156265000000005%2C%20-118.264519%5D%2C%20%5B38.27082100000001%2C%20-122.668465%5D%2C%20%5B36.378677%2C%20-119.21562%5D%2C%20%5B40.706201%2C%20-74.25188100000003%5D%2C%20%5B38.47427%2C%20-121.422974%5D%2C%20%5B33.781532%2C%20-84.390869%5D%2C%20%5B40.220646%2C%20-76.093758%5D%2C%20%5B45.650671%2C%20-122.566384%5D%2C%20%5B40.781815%2C%20-74.162514%5D%2C%20%5B34.70740900000001%2C%20-112.149864%5D%2C%20%5B48.776783%2C%20-122.444878%5D%2C%20%5B43.016575%2C%20-83.773026%5D%2C%20%5B35.213196%2C%20-80.863945%5D%2C%20%5B34.17667%2C%20-118.4683%5D%2C%20%5B29.949478000000006%2C%20-90.086136%5D%2C%20%5B35.565609%2C%20-97.620697%5D%2C%20%5B42.3633%2C%20-71.06066899999998%5D%2C%20%5B38.638069%2C%20-121.203156%5D%2C%20%5B41.824966%2C%20-73.772141%5D%2C%20%5B38.698416%2C%20-77.780578%5D%2C%20%5B28.369864%2C%20-81.309589%5D%2C%20%5B39.84798%2C%20-75.09573%5D%2C%20%5B42.381714%2C%20-83.419685%5D%2C%20%5B33.783735%2C%20-118.091473%5D%2C%20%5B33.868339%2C%20-117.761177%5D%2C%20%5B30.109738%2C%20-81.50916600000002%5D%2C%20%5B34.02621%2C%20-117.33354%5D%2C%20%5B37.638248%2C%20-120.905821%5D%2C%20%5B33.791386%2C%20-84.392204%5D%2C%20%5B45.06701%2C%20-93.18592%5D%2C%20%5B40.57911%2C%20-75.62843000000002%5D%2C%20%5B36.140709%2C%20-95.900948%5D%2C%20%5B45.49641%2C%20-122.89171%5D%2C%20%5B42.225368%2C%20-88.76438900000002%5D%2C%20%5B33.218861%2C%20-79.969612%5D%2C%20%5B25.92184%2C%20-80.21123%5D%2C%20%5B34.0368%2C%20-118.377555%5D%2C%20%5B39.152151%2C%20-76.679838%5D%2C%20%5B47.949451%2C%20-122.199257%5D%2C%20%5B40.12003%2C%20-75.068078%5D%2C%20%5B42.96556500000001%2C%20-83.806984%5D%2C%20%5B39.301768%2C%20-76.611561%5D%2C%20%5B40.570549%2C%20-89.636169%5D%2C%20%5B43.05887%2C%20-76.08754%5D%2C%20%5B44.496188%2C%20-122.845173%5D%2C%20%5B34.04569%2C%20-118.21552%5D%2C%20%5B39.99318%2C%20-85.83743%5D%2C%20%5B39.481685%2C%20-123.361906%5D%2C%20%5B40.33799000000001%2C%20-74.50238%5D%2C%20%5B25.886459%2C%20-80.21064100000002%5D%2C%20%5B43.1382%2C%20-77.578035%5D%2C%20%5B42.25512%2C%20-88.00144%5D%2C%20%5B38.683201%2C%20-78.203978%5D%2C%20%5B40.987434%2C%20-73.679855%5D%2C%20%5B40.845625%2C%20-73.943601%5D%2C%20%5B30.26404%2C%20-97.735718%5D%2C%20%5B41.00055%2C%20-76.610802%5D%2C%20%5B37.923637%2C%20-121.242629%5D%2C%20%5B38.64016%2C%20-121.271599%5D%2C%20%5B43.036018%2C%20-83.713211%5D%2C%20%5B40.702377%2C%20-74.427666%5D%2C%20%5B34.485675%2C%20-118.151001%5D%2C%20%5B35.462189%2C%20-97.519432%5D%2C%20%5B40.583939%2C%20-73.830933%5D%2C%20%5B30.32865%2C%20-85.761627%5D%2C%20%5B39.54453%2C%20-76.66646%5D%2C%20%5B43.96991%2C%20-92.46303%5D%2C%20%5B44.638334%2C%20-123.800914%5D%2C%20%5B39.910618%2C%20-75.15815%5D%2C%20%5B34.0819%2C%20-117.716%5D%2C%20%5B34.581924%2C%20-118.135246%5D%2C%20%5B25.91236%2C%20-80.2097%5D%2C%20%5B40.845722%2C%20-73.929606%5D%2C%20%5B34.068657%2C%20-80.918633%5D%2C%20%5B32.8162%2C%20-96.761528%5D%2C%20%5B45.18934%2C%20-93.5435%5D%2C%20%5B40.778629%2C%20-72.859779%5D%2C%20%5B30.440748%2C%20-97.750572%5D%2C%20%5B41.713558%2C%20-87.606804%5D%2C%20%5B33.8778%2C%20-84.249619%5D%2C%20%5B29.832024%2C%20-95.376045%5D%2C%20%5B35.24252%2C%20-80.844365%5D%2C%20%5B34.100974%2C%20-118.248685%5D%2C%20%5B25.783079%2C%20-80.173012%5D%2C%20%5B42.23397%2C%20-121.52341%5D%2C%20%5B38.47806%2C%20-78.61291999999997%5D%2C%20%5B28.011083000000006%2C%20-82.454169%5D%2C%20%5B45.533847%2C%20-122.580483%5D%2C%20%5B39.034983%2C%20-84.59899300000002%5D%2C%20%5B36.31893%2C%20-86.70246999999998%5D%2C%20%5B33.442188%2C%20-117.627449%5D%2C%20%5B34.789242%2C%20-82.37814300000002%5D%2C%20%5B41.76981%2C%20-72.67408%5D%2C%20%5B33.924606%2C%20-118.104057%5D%2C%20%5B39.555674%2C%20-123.428914%5D%2C%20%5B37.824861%2C%20-122.313611%5D%2C%20%5B35.833481%2C%20-78.76765400000002%5D%2C%20%5B25.97952%2C%20-80.16601%5D%2C%20%5B28.422041%2C%20-81.422951%5D%2C%20%5B32.836%2C%20-96.606%5D%2C%20%5B33.997066%2C%20-117.93118%5D%2C%20%5B41.148933%2C%20-74.025017%5D%2C%20%5B40.14979%2C%20-74.66803%5D%2C%20%5B29.594891%2C%20-95.196129%5D%2C%20%5B40.165878%2C%20-74.899895%5D%2C%20%5B42.27616%2C%20-122.81006%5D%2C%20%5B40.58775%2C%20-111.9102%5D%2C%20%5B45.539551%2C%20-122.455543%5D%2C%20%5B43.326435%2C%20-124.205119%5D%2C%20%5B26.083785%2C%20-80.19329599999998%5D%2C%20%5B38.473618%2C%20-122.894882%5D%2C%20%5B34.61483%2C%20-120.189781%5D%2C%20%5B41.65813%2C%20-87.58708%5D%2C%20%5B47.61829%2C%20-122.33098%5D%2C%20%5B45.229543%2C%20-120.720723%5D%2C%20%5B32.88421%2C%20-96.69716%5D%2C%20%5B34.0453%2C%20-118.27086%5D%2C%20%5B47.52475%2C%20-122.69424%5D%2C%20%5B34.962540000000004%2C%20-90.00143%5D%2C%20%5B44.42216%2C%20-121.8573%5D%2C%20%5B43.131176%2C%20-77.72223100000002%5D%2C%20%5B38.069431%2C%20-122.538918%5D%2C%20%5B33.451591%2C%20-112.203461%5D%2C%20%5B43.66688%2C%20-123.47003%5D%2C%20%5B33.954726%2C%20-117.305097%5D%2C%20%5B37.657505%2C%20-77.605141%5D%2C%20%5B31.869774%2C%20-106.433419%5D%2C%20%5B33.582531%2C%20-111.83506%5D%2C%20%5B25.9055%2C%20-80.32435%5D%2C%20%5B32.782852%2C%20-96.794479%5D%2C%20%5B32.647507%2C%20-111.393341%5D%2C%20%5B34.17302%2C%20-118.30643%5D%2C%20%5B38.41888%2C%20-121.89413%5D%2C%20%5B47.611473%2C%20-122.327118%5D%2C%20%5B34.072742%2C%20-118.053626%5D%2C%20%5B38.683023%2C%20-121.33652%5D%2C%20%5B33.714588%2C%20-84.240868%5D%2C%20%5B29.77385%2C%20-95.3404%5D%2C%20%5B33.948593%2C%20-84.13787099999998%5D%2C%20%5B33.424496000000005%2C%20-111.926285%5D%2C%20%5B39.225132%2C%20-84.366745%5D%2C%20%5B35.02753%2C%20-89.75694%5D%2C%20%5B40.621099%2C%20-74.169104%5D%2C%20%5B38.84670300000001%2C%20-77.43220500000002%5D%2C%20%5B41.77304%2C%20-87.62557%5D%2C%20%5B45.04389000000001%2C%20-93.40074%5D%2C%20%5B38.770333%2C%20-77.537459%5D%2C%20%5B34.028042%2C%20-118.274508%5D%2C%20%5B32.980843%2C%20-86.688744%5D%2C%20%5B28.459639000000006%2C%20-82.627296%5D%2C%20%5B41.277779%2C%20-96.014343%5D%2C%20%5B37.85272%2C%20-122.29991%5D%2C%20%5B34.094792%2C%20-118.311105%5D%2C%20%5B42.41069%2C%20-83.08171800000002%5D%2C%20%5B29.724895%2C%20-95.476501%5D%2C%20%5B33.510113%2C%20-80.844482%5D%2C%20%5B40.754172%2C%20-77.168337%5D%2C%20%5B37.64603%2C%20-98.739436%5D%2C%20%5B38.21435200000001%2C%20-85.742889%5D%2C%20%5B40.732021%2C%20-73.925522%5D%2C%20%5B33.427681%2C%20-84.181717%5D%2C%20%5B37.918967%2C%20-120.4518%5D%2C%20%5B39.77999000000001%2C%20-104.953%5D%2C%20%5B47.59028%2C%20-122.32931%5D%2C%20%5B26.57241%2C%20-81.661626%5D%2C%20%5B29.888966%2C%20-95.411964%5D%2C%20%5B34.044922%2C%20-81.100258%5D%2C%20%5B31.747604%2C%20-106.318901%5D%2C%20%5B40.10741%2C%20-75.11016%5D%2C%20%5B44.36547%2C%20-92.7997%5D%2C%20%5B32.19185%2C%20-110.82398%5D%2C%20%5B35.460918%2C%20-97.565598%5D%2C%20%5B38.279812%2C%20-85.636131%5D%2C%20%5B35.556046%2C%20-97.517509%5D%2C%20%5B37.32717%2C%20-121.94089%5D%2C%20%5B36.853821%2C%20-121.771088%5D%2C%20%5B39.91608%2C%20-76.62958499999998%5D%2C%20%5B35.4933%2C%20-97.60085%5D%2C%20%5B35.77923%2C%20-78.70557%5D%2C%20%5B33.949703%2C%20-118.170532%5D%2C%20%5B29.707087%2C%20-95.253738%5D%2C%20%5B40.854571%2C%20-73.968244%5D%2C%20%5B39.906433%2C%20-86.044655%5D%2C%20%5B36.06042%2C%20-95.88632%5D%2C%20%5B33.46278%2C%20-112.16351%5D%2C%20%5B29.737999%2C%20-95.265205%5D%2C%20%5B34.143044%2C%20-117.318265%5D%2C%20%5B40.78475%2C%20-111.95291%5D%2C%20%5B41.77461%2C%20-72.57781%5D%2C%20%5B29.738708000000006%2C%20-95.507446%5D%2C%20%5B29.831854%2C%20-95.563667%5D%2C%20%5B38.612782%2C%20-90.199585%5D%2C%20%5B30.517643%2C%20-81.635216%5D%2C%20%5B41.542591%2C%20-72.98996700000002%5D%2C%20%5B38.054874%2C%20-122.230558%5D%2C%20%5B32.81163%2C%20-96.8531%5D%2C%20%5B34.106808%2C%20-117.821835%5D%2C%20%5B37.544589%2C%20-77.42814399999997%5D%2C%20%5B33.780769%2C%20-78.971588%5D%2C%20%5B25.845326%2C%20-80.322514%5D%2C%20%5B41.16151%2C%20-112.022949%5D%2C%20%5B27.444193%2C%20-82.468956%5D%2C%20%5B30.525264%2C%20-91.180336%5D%2C%20%5B38.58861%2C%20-121.29111%5D%2C%20%5B35.897837%2C%20-78.501638%5D%2C%20%5B39.780212%2C%20-104.939514%5D%2C%20%5B35.740446%2C%20-78.804817%5D%2C%20%5B33.462337%2C%20-112.238297%5D%2C%20%5B40.267437%2C%20-74.510508%5D%2C%20%5B30.466375%2C%20-91.105499%5D%2C%20%5B29.78413%2C%20-95.47405%5D%2C%20%5B40.563915%2C%20-89.633202%5D%2C%20%5B34.160186%2C%20-117.329466%5D%2C%20%5B39.142986%2C%20-77.65218399999998%5D%2C%20%5B33.462270000000004%2C%20-112.22652%5D%2C%20%5B33.993626%2C%20-117.358177%5D%2C%20%5B35.280994%2C%20-114.175661%5D%2C%20%5B41.097534%2C%20-74.040215%5D%2C%20%5B38.63515%2C%20-107.98675%5D%2C%20%5B35.200418%2C%20-80.764094%5D%2C%20%5B34.053272%2C%20-117.547928%5D%2C%20%5B38.34052%2C%20-121.3342%5D%2C%20%5B38.101745%2C%20-122.22981%5D%2C%20%5B30.314785%2C%20-81.788593%5D%2C%20%5B33.933434000000005%2C%20-118.350723%5D%2C%20%5B34.960232%2C%20-82.30690799999998%5D%2C%20%5B45.150192%2C%20-122.793027%5D%2C%20%5B44.406512%2C%20-123.891318%5D%2C%20%5B39.483587%2C%20-77.34483399999998%5D%2C%20%5B42.555328%2C%20-79.112%5D%2C%20%5B35.501209%2C%20-97.485542%5D%2C%20%5B29.67697%2C%20-95.5599%5D%2C%20%5B45.287758%2C%20-93.002441%5D%2C%20%5B34.127579%2C%20-118.27372%5D%2C%20%5B26.02792%2C%20-80.16573000000002%5D%2C%20%5B34.256702000000004%2C%20-79.785881%5D%2C%20%5B47.612488%2C%20-122.328056%5D%2C%20%5B40.67678%2C%20-74.00142%5D%2C%20%5B32.70786%2C%20-96.82968%5D%2C%20%5B36.74786%2C%20-119.822884%5D%2C%20%5B44.002057%2C%20-92.483564%5D%2C%20%5B32.402085%2C%20-93.793062%5D%2C%20%5B44.979889%2C%20-92.777634%5D%2C%20%5B39.026955%2C%20-121.513351%5D%2C%20%5B40.15905%2C%20-75.064552%5D%2C%20%5B33.421021%2C%20-111.926308%5D%2C%20%5B32.764128%2C%20-96.936194%5D%2C%20%5B34.185559999999995%2C%20-118.31755%5D%2C%20%5B38.672345%2C%20-77.246288%5D%2C%20%5B43.501725%2C%20-88.809177%5D%2C%20%5B34.03476%2C%20-117.974571%5D%2C%20%5B33.742999%2C%20-117.223473%5D%2C%20%5B33.705444%2C%20-84.403511%5D%2C%20%5B40.72429%2C%20-111.90703%5D%2C%20%5B34.911713%2C%20-80.96822399999998%5D%2C%20%5B32.860626%2C%20-97.010262%5D%2C%20%5B34.01254%2C%20-81.38212%5D%2C%20%5B45.559174%2C%20-122.578522%5D%2C%20%5B30.387161%2C%20-91.06308%5D%2C%20%5B34.378979%2C%20-118.492172%5D%2C%20%5B34.157602000000004%2C%20-118.431305%5D%2C%20%5B47.193439%2C%20-122.239426%5D%2C%20%5B38.96283%2C%20-78.44035500000003%5D%2C%20%5B37.63273%2C%20-122.40302%5D%2C%20%5B30.685789%2C%20-88.126991%5D%2C%20%5B35.276745%2C%20-80.807411%5D%2C%20%5B41.64444%2C%20-88.08046999999998%5D%2C%20%5B35.087044%2C%20-90.076393%5D%2C%20%5B32.768615999999994%2C%20-117.129654%5D%2C%20%5B37.317204%2C%20-121.974594%5D%2C%20%5B34.748875%2C%20-112.112534%5D%2C%20%5B33.461617%2C%20-112.444153%5D%2C%20%5B41.396591%2C%20-88.191704%5D%2C%20%5B44.951816%2C%20-93.133474%5D%2C%20%5B26.10289%2C%20-80.25010999999998%5D%2C%20%5B47.79681%2C%20-122.21835%5D%2C%20%5B32.79177%2C%20-96.73262%5D%2C%20%5B33.629539%2C%20-79.03469100000002%5D%2C%20%5B35.468461%2C%20-94.262506%5D%2C%20%5B35.90535%2C%20-78.771683%5D%2C%20%5B38.234119%2C%20-122.618462%5D%2C%20%5B37.725623%2C%20-122.401803%5D%2C%20%5B39.1725%2C%20-121.05417%5D%2C%20%5B37.551121%2C%20-120.828728%5D%2C%20%5B32.73753%2C%20-117.15607%5D%2C%20%5B37.457062%2C%20-121.131828%5D%2C%20%5B43.11733%2C%20-123.35903%5D%2C%20%5B40.134742%2C%20-75.445026%5D%2C%20%5B26.20001%2C%20-80.29574699999998%5D%2C%20%5B29.937056%2C%20-95.5467%5D%2C%20%5B30.39421%2C%20-91.08671%5D%2C%20%5B34.121315%2C%20-117.261828%5D%2C%20%5B33.987705%2C%20-118.39906299999998%5D%2C%20%5B41.597721%2C%20-81.54585300000002%5D%2C%20%5B32.888775%2C%20-86.624481%5D%2C%20%5B33.872064%2C%20-117.665251%5D%2C%20%5B30.474190000000004%2C%20-87.248192%5D%2C%20%5B42.247608%2C%20-87.87169899999998%5D%2C%20%5B35.027664%2C%20-80.965065%5D%2C%20%5B34.425646%2C%20-118.423658%5D%2C%20%5B42.871523%2C%20-78.789873%5D%2C%20%5B39.72571%2C%20-105.02075%5D%2C%20%5B41.53187%2C%20-94.0431%5D%2C%20%5B37.47625%2C%20-122.187057%5D%2C%20%5B27.471581%2C%20-82.563019%5D%2C%20%5B43.37421%2C%20-88.30118%5D%2C%20%5B38.604874%2C%20-90.308525%5D%2C%20%5B40.199265%2C%20-75.11856800000002%5D%2C%20%5B32.771137%2C%20-96.873863%5D%2C%20%5B35.84735999999999%2C%20-78.79453000000002%5D%2C%20%5B37.546158%2C%20-77.442856%5D%2C%20%5B32.662701%2C%20-96.725068%5D%2C%20%5B38.01306500000001%2C%20-122.002136%5D%2C%20%5B40.636015%2C%20-74.1973%5D%2C%20%5B34.173478%2C%20-118.553463%5D%2C%20%5B33.89711%2C%20-81.156548%5D%2C%20%5B37.421535%2C%20-121.93466200000002%5D%2C%20%5B34.167165000000004%2C%20-82.194914%5D%2C%20%5B44.08423%2C%20-123.0468%5D%2C%20%5B36.167599%2C%20-86.762199%5D%2C%20%5B34.266009999999994%2C%20-118.463013%5D%2C%20%5B35.20985%2C%20-80.75718%5D%2C%20%5B38.900962%2C%20-77.015117%5D%2C%20%5B34.209233000000005%2C%20-117.086653%5D%2C%20%5B38.557995%2C%20-121.675636%5D%2C%20%5B38.080128%2C%20-90.58287%5D%2C%20%5B37.321956%2C%20-121.890827%5D%2C%20%5B36.751942%2C%20-119.791267%5D%2C%20%5B33.982372999999995%2C%20-118.280137%5D%2C%20%5B33.334805%2C%20-111.972237%5D%2C%20%5B34.029719%2C%20-118.403062%5D%2C%20%5B30.431051%2C%20-91.084015%5D%2C%20%5B34.913441%2C%20-80.98254399999998%5D%2C%20%5B32.63745%2C%20-96.70197%5D%2C%20%5B38.36456%2C%20-121.96465%5D%2C%20%5B43.130985%2C%20-77.646416%5D%2C%20%5B35.19481%2C%20-80.76629%5D%2C%20%5B37.89539%2C%20-122.11373%5D%2C%20%5B39.93577%2C%20-75.08634%5D%2C%20%5B39.264081%2C%20-76.589395%5D%2C%20%5B31.760857%2C%20-106.400116%5D%2C%20%5B27.833759000000004%2C%20-82.699913%5D%2C%20%5B43.129693%2C%20-124.364147%5D%2C%20%5B34.050986%2C%20-118.223229%5D%2C%20%5B40.70097%2C%20-73.99471%5D%2C%20%5B34.587357%2C%20-86.451126%5D%2C%20%5B34.015591%2C%20-118.17231%5D%2C%20%5B33.854001000000004%2C%20-117.959244%5D%2C%20%5B32.885582%2C%20-96.700478%5D%2C%20%5B32.72611%2C%20-97.32039%5D%2C%20%5B35.24253%2C%20-89.89723000000002%5D%2C%20%5B47.989849%2C%20-122.209793%5D%2C%20%5B34.632168%2C%20-81.77301%5D%2C%20%5B33.893563%2C%20-84.263292%5D%2C%20%5B34.055739%2C%20-118.452239%5D%2C%20%5B32.97446%2C%20-96.71684%5D%2C%20%5B33.928823%2C%20-118.291579%5D%2C%20%5B25.73848%2C%20-80.38419300000002%5D%2C%20%5B33.005714000000005%2C%20-80.102402%5D%2C%20%5B38.790867%2C%20-77.17615500000002%5D%2C%20%5B41.182001%2C%20-111.949159%5D%2C%20%5B35.783096%2C%20-78.59251400000002%5D%2C%20%5B40.81573%2C%20-73.93097%5D%2C%20%5B36.174221%2C%20-86.80074300000003%5D%2C%20%5B42.336269%2C%20-71.053864%5D%2C%20%5B41.902233%2C%20-88.10172299999998%5D%2C%20%5B38.66029%2C%20-77.27796%5D%2C%20%5B34.030655%2C%20-117.610558%5D%2C%20%5B43.727603%2C%20-75.410677%5D%2C%20%5B35.44229%2C%20-80.86548%5D%2C%20%5B36.04538%2C%20-86.713249%5D%2C%20%5B30.686090000000004%2C%20-88.08773000000002%5D%2C%20%5B31.260340000000006%2C%20-97.37924%5D%2C%20%5B38.98049%2C%20-76.55139%5D%2C%20%5B32.753342%2C%20-96.764732%5D%2C%20%5B38.473633%2C%20-122.891518%5D%2C%20%5B37.709465%2C%20-122.122139%5D%2C%20%5B44.076984%2C%20-122.765286%5D%2C%20%5B38.64356%2C%20-121.39427%5D%2C%20%5B26.49597%2C%20-81.84565699999997%5D%2C%20%5B40.6449%2C%20-75.42688000000003%5D%2C%20%5B32.426136%2C%20-88.45194599999998%5D%2C%20%5B42.772039%2C%20-74.073697%5D%2C%20%5B32.24123400000001%2C%20-80.811073%5D%2C%20%5B29.81405%2C%20-95.36061%5D%2C%20%5B43.091412%2C%20-75.747284%5D%2C%20%5B35.27029%2C%20-80.81385%5D%2C%20%5B28.263756%2C%20-81.652794%5D%2C%20%5B34.017835%2C%20-117.530803%5D%2C%20%5B33.6702%2C%20-112.03737%5D%2C%20%5B45.018571%2C%20-93.282326%5D%2C%20%5B34.065517%2C%20-117.5448%5D%2C%20%5B39.349163%2C%20-76.745705%5D%2C%20%5B26.432213%2C%20-81.77793100000002%5D%2C%20%5B40.737487%2C%20-73.851095%5D%2C%20%5B34.157162%2C%20-118.379395%5D%2C%20%5B32.83951%2C%20-97.16602%5D%2C%20%5B33.139229%2C%20-80.155479%5D%2C%20%5B40.77524%2C%20-73.92324%5D%2C%20%5B43.10527%2C%20-89.316353%5D%2C%20%5B45.501079%2C%20-118.42078899999998%5D%2C%20%5B33.778839000000005%2C%20-117.89566%5D%2C%20%5B40.379662%2C%20-74.154625%5D%2C%20%5B39.78014%2C%20-104.95929%5D%2C%20%5B39.841581%2C%20-96.422786%5D%2C%20%5B44.51796%2C%20-93.84777%5D%2C%20%5B38.511368%2C%20-122.775558%5D%2C%20%5B29.688407%2C%20-95.570371%5D%2C%20%5B40.14328%2C%20-122.323112%5D%2C%20%5B40.55877%2C%20-111.8722%5D%2C%20%5B39.83818%2C%20-75.15316999999997%5D%2C%20%5B35.74876%2C%20-78.64886%5D%2C%20%5B40.179985%2C%20-82.912582%5D%2C%20%5B34.509476%2C%20-120.226318%5D%2C%20%5B38.660557%2C%20-121.36158799999998%5D%2C%20%5B43.23311%2C%20-77.92766999999998%5D%2C%20%5B38.9319%2C%20-94.667564%5D%2C%20%5B33.930894%2C%20-118.298352%5D%2C%20%5B32.79599%2C%20-96.833876%5D%2C%20%5B30.332333%2C%20-97.75547%5D%2C%20%5B39.034821%2C%20-84.599937%5D%2C%20%5B33.698640000000005%2C%20-111.8905%5D%2C%20%5B38.898964%2C%20-77.197113%5D%2C%20%5B38.552139%2C%20-121.415749%5D%2C%20%5B34.038456%2C%20-118.274025%5D%2C%20%5B30.237671%2C%20-97.662331%5D%2C%20%5B32.752559999999995%2C%20-96.770897%5D%2C%20%5B34.801708000000005%2C%20-82.225677%5D%2C%20%5B40.718065%2C%20-112.114229%5D%2C%20%5B42.28164%2C%20-71.08699%5D%2C%20%5B38.33476%2C%20-122.71294%5D%2C%20%5B36.84348%2C%20-76.13691999999998%5D%2C%20%5B45.44049%2C%20-118.37077%5D%2C%20%5B39.87551%2C%20-75.04966%5D%2C%20%5B38.762973%2C%20-90.150022%5D%2C%20%5B34.298953999999995%2C%20-117.45784%5D%2C%20%5B29.02002%2C%20-82.15576%5D%2C%20%5B42.849899%2C%20-78.79026%5D%2C%20%5B43.252956%2C%20-77.64679%5D%2C%20%5B27.821191%2C%20-82.667804%5D%2C%20%5B33.87678%2C%20-118.17195%5D%2C%20%5B35.115201%2C%20-80.962347%5D%2C%20%5B33.77013%2C%20-84.64542%5D%2C%20%5B30.263351%2C%20-81.60773499999998%5D%2C%20%5B40.684954%2C%20-111.87142%5D%2C%20%5B37.324524%2C%20-121.889542%5D%2C%20%5B30.439766%2C%20-97.698326%5D%2C%20%5B38.772331%2C%20-76.964928%5D%2C%20%5B42.551563%2C%20-71.782822%5D%2C%20%5B35.62307%2C%20-78.56709000000002%5D%2C%20%5B38.474449%2C%20-122.755608%5D%2C%20%5B34.753499%2C%20-82.089986%5D%2C%20%5B45.27168%2C%20-93.00735%5D%2C%20%5B37.529945%2C%20-77.37236%5D%2C%20%5B30.19021%2C%20-90.91489%5D%2C%20%5B30.226359%2C%20-97.706378%5D%2C%20%5B44.43876%2C%20-121.95413%5D%2C%20%5B39.017715%2C%20-84.480896%5D%2C%20%5B33.778335%2C%20-117.873964%5D%2C%20%5B37.135833%2C%20-121.636389%5D%2C%20%5B39.431129%2C%20-105.464348%5D%2C%20%5B39.776569%2C%20-104.99482%5D%2C%20%5B33.535876%2C%20-84.458438%5D%2C%20%5B30.202879%2C%20-92.018036%5D%2C%20%5B39.472652%2C%20-74.633492%5D%2C%20%5B25.890105%2C%20-80.243408%5D%2C%20%5B34.152615000000004%2C%20-118.113297%5D%2C%20%5B38.55564%2C%20-121.44127%5D%2C%20%5B34.101085999999995%2C%20-117.199576%5D%2C%20%5B40.84584%2C%20-73.931061%5D%2C%20%5B42.62662%2C%20-123.38318%5D%2C%20%5B36.036744%2C%20-119.039491%5D%2C%20%5B37.89838%2C%20-122.30933%5D%2C%20%5B30.395247%2C%20-91.109673%5D%2C%20%5B29.400921000000004%2C%20-98.440964%5D%2C%20%5B40.80459000000001%2C%20-73.91885%5D%2C%20%5B35.390751%2C%20-80.84584%5D%2C%20%5B30.12826%2C%20-97.800545%5D%2C%20%5B40.653797%2C%20-74.008087%5D%2C%20%5B35.001059999999995%2C%20-80.86255600000001%5D%2C%20%5B40.18942%2C%20-74.74744%5D%2C%20%5B39.969875%2C%20-76.781166%5D%2C%20%5B44.693787%2C%20-123.05217%5D%2C%20%5B45.507012%2C%20-122.670625%5D%2C%20%5B29.95385%2C%20-95.422607%5D%2C%20%5B44.80506%2C%20-93.22858%5D%2C%20%5B32.983578%2C%20-96.712364%5D%2C%20%5B41.85887%2C%20-88.10108000000002%5D%2C%20%5B34.19854%2C%20-117.417508%5D%2C%20%5B30.150635%2C%20-92.09388%5D%2C%20%5B33.968117%2C%20-118.168053%5D%2C%20%5B34.810775%2C%20-82.438164%5D%2C%20%5B30.212955%2C%20-97.658722%5D%2C%20%5B42.502148%2C%20-71.243126%5D%2C%20%5B33.42645%2C%20-112.02957%5D%2C%20%5B38.915241%2C%20-77.430092%5D%2C%20%5B29.8042%2C%20-95.293096%5D%2C%20%5B29.866288%2C%20-95.363397%5D%2C%20%5B36.806312%2C%20-76.361514%5D%2C%20%5B42.600788%2C%20-71.071747%5D%2C%20%5B34.077971999999995%2C%20-81.152649%5D%2C%20%5B37.66361%2C%20-122.10584%5D%2C%20%5B43.16048%2C%20-77.53945999999998%5D%2C%20%5B29.841906%2C%20-95.390388%5D%2C%20%5B45.57745%2C%20-122.76167%5D%2C%20%5B34.070695%2C%20-119.012176%5D%2C%20%5B34.077663%2C%20-117.998184%5D%2C%20%5B43.22426%2C%20-117.05207%5D%2C%20%5B34.75378%2C%20-82.287735%5D%2C%20%5B40.118804%2C%20-75.347827%5D%2C%20%5B29.937456%2C%20-95.507538%5D%2C%20%5B38.449753%2C%20-122.688301%5D%2C%20%5B44.951584%2C%20-93.167221%5D%2C%20%5B37.52031%2C%20-121.9838%5D%2C%20%5B25.910166%2C%20-80.21167%5D%2C%20%5B33.856705%2C%20-118.284599%5D%2C%20%5B33.852191999999995%2C%20-118.11703500000002%5D%2C%20%5B34.170231%2C%20-118.304405%5D%2C%20%5B37.083115%2C%20-120.492767%5D%2C%20%5B37.98325300000001%2C%20-122.315956%5D%2C%20%5B38.998178%2C%20-121.403503%5D%2C%20%5B41.6021%2C%20-87.174118%5D%2C%20%5B35.803837%2C%20-78.707024%5D%2C%20%5B40.772255%2C%20-73.333694%5D%2C%20%5B36.738737%2C%20-119.808333%5D%2C%20%5B40.452244%2C%20-79.950851%5D%2C%20%5B33.484032%2C%20-82.08107%5D%2C%20%5B34.059508%2C%20-118.172845%5D%2C%20%5B39.21414%2C%20-84.46104%5D%2C%20%5B35.1142%2C%20-80.69279%5D%2C%20%5B30.275391%2C%20-97.731295%5D%2C%20%5B33.38842%2C%20-82.02658100000002%5D%2C%20%5B28.508842%2C%20-81.4188%5D%2C%20%5B45.680688%2C%20-118.736678%5D%2C%20%5B36.094921%2C%20-95.849289%5D%2C%20%5B32.862435%2C%20-96.658626%5D%2C%20%5B25.694277%2C%20-80.38723%5D%2C%20%5B25.81711%2C%20-80.20644%5D%2C%20%5B39.01536%2C%20-77.12218%5D%2C%20%5B37.792828%2C%20-121.190193%5D%2C%20%5B34.0928%2C%20-81.206177%5D%2C%20%5B32.78237%2C%20-117.1141%5D%2C%20%5B34.091141%2C%20-118.258392%5D%2C%20%5B33.92142%2C%20-118.08278%5D%2C%20%5B47.395756%2C%20-121.480295%5D%2C%20%5B45.161225%2C%20-122.54364%5D%2C%20%5B34.12057%2C%20-112.94645%5D%2C%20%5B40.75777%2C%20-73.73823%5D%2C%20%5B37.241516%2C%20-93.353394%5D%2C%20%5B34.074847%2C%20-117.856166%5D%2C%20%5B44.859962%2C%20-93.382996%5D%2C%20%5B33.959064%2C%20-117.858086%5D%2C%20%5B35.126694%2C%20-80.656708%5D%2C%20%5B29.915540000000004%2C%20-81.33119%5D%2C%20%5B35.750423%2C%20-78.768314%5D%2C%20%5B30.247078%2C%20-92.066292%5D%2C%20%5B47.385944%2C%20-122.827842%5D%2C%20%5B40.4678%2C%20-111.91123%5D%2C%20%5B41.727749%2C%20-72.349907%5D%2C%20%5B34.233559%2C%20-118.472977%5D%2C%20%5B29.788928%2C%20-95.659905%5D%2C%20%5B33.377971%2C%20-84.626449%5D%2C%20%5B35.276756%2C%20-80.806931%5D%2C%20%5B33.984759000000004%2C%20-117.365246%5D%2C%20%5B43.0247%2C%20-78.97669%5D%2C%20%5B33.952416%2C%20-83.398816%5D%2C%20%5B37.71270300000001%2C%20-121.094383%5D%2C%20%5B37.552818%2C%20-77.461037%5D%2C%20%5B34.023788%2C%20-118.27639%5D%2C%20%5B45.86456%2C%20-123.56686%5D%2C%20%5B30.322535%2C%20-97.70687%5D%2C%20%5B30.406218%2C%20-97.642267%5D%2C%20%5B33.065952%2C%20-96.690079%5D%2C%20%5B33.913174%2C%20-118.180505%5D%2C%20%5B34.064007000000004%2C%20-117.296761%5D%2C%20%5B45.152969%2C%20-123.197533%5D%2C%20%5B37.981949%2C%20-84.422859%5D%2C%20%5B33.939964%2C%20-118.291748%5D%2C%20%5B45.553837%2C%20-122.407738%5D%2C%20%5B37.22169%2C%20-120.371006%5D%2C%20%5B39.199868%2C%20-121.034933%5D%2C%20%5B37.87640800000001%2C%20-122.046349%5D%2C%20%5B40.71772%2C%20-111.95335%5D%2C%20%5B37.12690900000001%2C%20-120.252527%5D%2C%20%5B26.046556%2C%20-80.208809%5D%2C%20%5B38.233483%2C%20-85.62671800000003%5D%2C%20%5B36.312447%2C%20-86.665337%5D%2C%20%5B36.045591%2C%20-95.859072%5D%2C%20%5B34.23082%2C%20-117.216011%5D%2C%20%5B40.132241%2C%20-105.10254%5D%2C%20%5B33.390785%2C%20-86.792488%5D%2C%20%5B34.480175%2C%20-82.648087%5D%2C%20%5B33.94399%2C%20-117.2864%5D%2C%20%5B39.956558%2C%20-82.983078%5D%2C%20%5B37.74062%2C%20-121.503433%5D%2C%20%5B38.11328%2C%20-85.86251%5D%2C%20%5B35.38130200000001%2C%20-97.503685%5D%2C%20%5B37.432868%2C%20-120.779282%5D%2C%20%5B33.941727%2C%20-84.505447%5D%2C%20%5B35.3676%2C%20-80.81676%5D%2C%20%5B38.96443%2C%20-76.90476%5D%2C%20%5B30.408619%2C%20-97.716049%5D%2C%20%5B30.404022%2C%20-91.182014%5D%5D%2C%0A%20%20%20%20%20%20%20%20%20%20%20%20%20%20%20%20%7B%0A%20%20%20%20%20%20%20%20%20%20%20%20%20%20%20%20%20%20%20%20minOpacity%3A%200.5%2C%0A%20%20%20%20%20%20%20%20%20%20%20%20%20%20%20%20%20%20%20%20maxZoom%3A%2018%2C%0A%20%20%20%20%20%20%20%20%20%20%20%20%20%20%20%20%20%20%20%20max%3A%201.0%2C%0A%20%20%20%20%20%20%20%20%20%20%20%20%20%20%20%20%20%20%20%20radius%3A%2025%2C%0A%20%20%20%20%20%20%20%20%20%20%20%20%20%20%20%20%20%20%20%20blur%3A%2015%2C%0A%20%20%20%20%20%20%20%20%20%20%20%20%20%20%20%20%20%20%20%20gradient%3A%20null%0A%20%20%20%20%20%20%20%20%20%20%20%20%20%20%20%20%20%20%20%20%7D%29%0A%20%20%20%20%20%20%20%20%20%20%20%20%20%20%20%20.addTo%28map_daeffe22d1d54dddb6a55d8f7529ec47%29%3B%0A%20%20%20%20%20%20%20%20%0A%3C/script%3E onload=\"this.contentDocument.open();this.contentDocument.write(    decodeURIComponent(this.getAttribute('data-html')));this.contentDocument.close();\" allowfullscreen webkitallowfullscreen mozallowfullscreen></iframe></div></div>"
            ],
            "text/plain": [
              "<folium.folium.Map at 0x7ffae2535790>"
            ]
          },
          "metadata": {},
          "execution_count": 77
        }
      ]
    },
    {
      "cell_type": "markdown",
      "metadata": {
        "id": "2cZBqHcseRmA"
      },
      "source": [
        "6. Number of accident occurances is high during the temperature range 55°F to 75°F. Normal Temperature range of USA is 16°F to 86°F. The general undersanding that more accidents occur during Winter or lower temperature seems to be False. Moreover Number of accidents occurances is lower when temperature is less. "
      ]
    },
    {
      "cell_type": "markdown",
      "metadata": {
        "id": "nG9lHKqZe82C"
      },
      "source": [
        "7. Based on Weather Time stamp accident occurances is more during the last three months but most of the accidents occurances during the last three month has been recorded as normal weather conditions. Hence Weather conditions dosen't have impact on accident occurance"
      ]
    },
    {
      "cell_type": "markdown",
      "metadata": {
        "id": "SODC7UkySnek"
      },
      "source": [
        "# Summary "
      ]
    },
    {
      "cell_type": "markdown",
      "metadata": {
        "id": "JgJ8h7ILS134"
      },
      "source": [
        "1. High nummber of accidents occur during the commuting hours between 6 am to 10 am  3 pm to 6 pm.\n",
        "2. Weather and Temperature dosent have a significant impact on accident occuraces.\n",
        "3. Most of the accidents occur at the eastern and western part of USA where population is high."
      ]
    }
  ]
}